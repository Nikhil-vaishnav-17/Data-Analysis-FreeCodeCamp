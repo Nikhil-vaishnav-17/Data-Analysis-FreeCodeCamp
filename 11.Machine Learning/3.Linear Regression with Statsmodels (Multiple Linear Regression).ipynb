{
 "cells": [
  {
   "cell_type": "code",
   "execution_count": 1,
   "id": "02afed8c",
   "metadata": {},
   "outputs": [],
   "source": [
    "import pandas as pd"
   ]
  },
  {
   "cell_type": "code",
   "execution_count": 2,
   "id": "3e56fca6",
   "metadata": {
    "scrolled": false
   },
   "outputs": [
    {
     "data": {
      "application/vnd.microsoft.datawrangler.viewer.v0+json": {
       "columns": [
        {
         "name": "index",
         "rawType": "int64",
         "type": "integer"
        },
        {
         "name": "Rooms",
         "rawType": "float64",
         "type": "float"
        },
        {
         "name": "Distance",
         "rawType": "float64",
         "type": "float"
        },
        {
         "name": "Value",
         "rawType": "float64",
         "type": "float"
        }
       ],
       "ref": "31356b09-7922-4c83-b054-f1b03f6f1973",
       "rows": [
        [
         "0",
         "6.575",
         "4.09",
         "24.0"
        ],
        [
         "1",
         "6.421",
         "4.9671",
         "21.6"
        ],
        [
         "2",
         "7.185",
         "4.9671",
         "34.7"
        ],
        [
         "3",
         "6.998",
         "6.0622",
         "33.4"
        ],
        [
         "4",
         "7.147",
         "6.0622",
         "36.2"
        ],
        [
         "5",
         "6.43",
         "6.0622",
         "28.7"
        ],
        [
         "6",
         "6.012",
         "5.5605",
         "22.9"
        ],
        [
         "7",
         "6.172",
         "5.9505",
         "27.1"
        ],
        [
         "8",
         "5.631",
         "6.0821",
         "16.5"
        ],
        [
         "9",
         "6.004",
         "6.5921",
         "18.9"
        ],
        [
         "10",
         "6.377",
         "6.3467",
         "15.0"
        ],
        [
         "11",
         "6.009",
         "6.2267",
         "18.9"
        ],
        [
         "12",
         "5.889",
         "5.4509",
         "21.7"
        ],
        [
         "13",
         "5.949",
         "4.7075",
         "20.4"
        ],
        [
         "14",
         "6.096",
         "4.4619",
         "18.2"
        ],
        [
         "15",
         "5.834",
         "4.4986",
         "19.9"
        ],
        [
         "16",
         "5.935",
         "4.4986",
         "23.1"
        ],
        [
         "17",
         "5.99",
         "4.2579",
         "17.5"
        ],
        [
         "18",
         "5.456",
         "3.7965",
         "20.2"
        ],
        [
         "19",
         "5.727",
         "3.7965",
         "18.2"
        ],
        [
         "20",
         "5.57",
         "3.7979",
         "13.6"
        ],
        [
         "21",
         "5.965",
         "4.0123",
         "19.6"
        ],
        [
         "22",
         "6.142",
         "3.9769",
         "15.2"
        ],
        [
         "23",
         "5.813",
         "4.0952",
         "14.5"
        ],
        [
         "24",
         "5.924",
         "4.3996",
         "15.6"
        ],
        [
         "25",
         "5.599",
         "4.4546",
         "13.9"
        ],
        [
         "26",
         "5.813",
         "4.682",
         "16.6"
        ],
        [
         "27",
         "6.047",
         "4.4534",
         "14.8"
        ],
        [
         "28",
         "6.495",
         "4.4547",
         "18.4"
        ],
        [
         "29",
         "6.674",
         "4.239",
         "21.0"
        ],
        [
         "30",
         "5.713",
         "4.233",
         "12.7"
        ],
        [
         "31",
         "6.072",
         "4.175",
         "14.5"
        ],
        [
         "32",
         "5.95",
         "3.99",
         "13.2"
        ],
        [
         "33",
         "5.701",
         "3.7872",
         "13.1"
        ],
        [
         "34",
         "6.096",
         "3.7598",
         "13.5"
        ],
        [
         "35",
         "5.933",
         "3.3603",
         "18.9"
        ],
        [
         "36",
         "5.841",
         "3.3779",
         "20.0"
        ],
        [
         "37",
         "5.85",
         "3.9342",
         "21.0"
        ],
        [
         "38",
         "5.966",
         "3.8473",
         "24.7"
        ],
        [
         "39",
         "6.595",
         "5.4011",
         "30.8"
        ],
        [
         "40",
         "7.024",
         "5.4011",
         "34.9"
        ],
        [
         "41",
         "6.77",
         "5.7209",
         "26.6"
        ],
        [
         "42",
         "6.169",
         "5.7209",
         "25.3"
        ],
        [
         "43",
         "6.211",
         "5.7209",
         "24.7"
        ],
        [
         "44",
         "6.069",
         "5.7209",
         "21.2"
        ],
        [
         "45",
         "5.682",
         "5.1004",
         "19.3"
        ],
        [
         "46",
         "5.786",
         "5.1004",
         "20.0"
        ],
        [
         "47",
         "6.03",
         "5.6894",
         "16.6"
        ],
        [
         "48",
         "5.399",
         "5.87",
         "14.4"
        ],
        [
         "49",
         "5.602",
         "6.0877",
         "19.4"
        ]
       ],
       "shape": {
        "columns": 3,
        "rows": 506
       }
      },
      "text/html": [
       "<div>\n",
       "<style scoped>\n",
       "    .dataframe tbody tr th:only-of-type {\n",
       "        vertical-align: middle;\n",
       "    }\n",
       "\n",
       "    .dataframe tbody tr th {\n",
       "        vertical-align: top;\n",
       "    }\n",
       "\n",
       "    .dataframe thead th {\n",
       "        text-align: right;\n",
       "    }\n",
       "</style>\n",
       "<table border=\"1\" class=\"dataframe\">\n",
       "  <thead>\n",
       "    <tr style=\"text-align: right;\">\n",
       "      <th></th>\n",
       "      <th>Rooms</th>\n",
       "      <th>Distance</th>\n",
       "      <th>Value</th>\n",
       "    </tr>\n",
       "  </thead>\n",
       "  <tbody>\n",
       "    <tr>\n",
       "      <th>0</th>\n",
       "      <td>6.575</td>\n",
       "      <td>4.0900</td>\n",
       "      <td>24.0</td>\n",
       "    </tr>\n",
       "    <tr>\n",
       "      <th>1</th>\n",
       "      <td>6.421</td>\n",
       "      <td>4.9671</td>\n",
       "      <td>21.6</td>\n",
       "    </tr>\n",
       "    <tr>\n",
       "      <th>2</th>\n",
       "      <td>7.185</td>\n",
       "      <td>4.9671</td>\n",
       "      <td>34.7</td>\n",
       "    </tr>\n",
       "    <tr>\n",
       "      <th>3</th>\n",
       "      <td>6.998</td>\n",
       "      <td>6.0622</td>\n",
       "      <td>33.4</td>\n",
       "    </tr>\n",
       "    <tr>\n",
       "      <th>4</th>\n",
       "      <td>7.147</td>\n",
       "      <td>6.0622</td>\n",
       "      <td>36.2</td>\n",
       "    </tr>\n",
       "    <tr>\n",
       "      <th>...</th>\n",
       "      <td>...</td>\n",
       "      <td>...</td>\n",
       "      <td>...</td>\n",
       "    </tr>\n",
       "    <tr>\n",
       "      <th>501</th>\n",
       "      <td>6.593</td>\n",
       "      <td>2.4786</td>\n",
       "      <td>22.4</td>\n",
       "    </tr>\n",
       "    <tr>\n",
       "      <th>502</th>\n",
       "      <td>6.120</td>\n",
       "      <td>2.2875</td>\n",
       "      <td>20.6</td>\n",
       "    </tr>\n",
       "    <tr>\n",
       "      <th>503</th>\n",
       "      <td>6.976</td>\n",
       "      <td>2.1675</td>\n",
       "      <td>23.9</td>\n",
       "    </tr>\n",
       "    <tr>\n",
       "      <th>504</th>\n",
       "      <td>6.794</td>\n",
       "      <td>2.3889</td>\n",
       "      <td>22.0</td>\n",
       "    </tr>\n",
       "    <tr>\n",
       "      <th>505</th>\n",
       "      <td>6.030</td>\n",
       "      <td>2.5050</td>\n",
       "      <td>11.9</td>\n",
       "    </tr>\n",
       "  </tbody>\n",
       "</table>\n",
       "<p>506 rows × 3 columns</p>\n",
       "</div>"
      ],
      "text/plain": [
       "     Rooms  Distance  Value\n",
       "0    6.575    4.0900   24.0\n",
       "1    6.421    4.9671   21.6\n",
       "2    7.185    4.9671   34.7\n",
       "3    6.998    6.0622   33.4\n",
       "4    7.147    6.0622   36.2\n",
       "..     ...       ...    ...\n",
       "501  6.593    2.4786   22.4\n",
       "502  6.120    2.2875   20.6\n",
       "503  6.976    2.1675   23.9\n",
       "504  6.794    2.3889   22.0\n",
       "505  6.030    2.5050   11.9\n",
       "\n",
       "[506 rows x 3 columns]"
      ]
     },
     "execution_count": 2,
     "metadata": {},
     "output_type": "execute_result"
    }
   ],
   "source": [
    "df_boston = pd.read_csv('Boston House Prices.csv')\n",
    "df_boston"
   ]
  },
  {
   "cell_type": "markdown",
   "id": "ba47623a",
   "metadata": {},
   "source": [
    "# Multiple linear regression"
   ]
  },
  {
   "cell_type": "code",
   "execution_count": 3,
   "id": "fb113ae4",
   "metadata": {},
   "outputs": [],
   "source": [
    "import statsmodels.api as sm"
   ]
  },
  {
   "cell_type": "markdown",
   "id": "1ce25a61",
   "metadata": {},
   "source": [
    "## Define the dependent and independent variable"
   ]
  },
  {
   "cell_type": "code",
   "execution_count": 4,
   "id": "f14aaffb",
   "metadata": {},
   "outputs": [],
   "source": [
    "y = df_boston['Value'] # dependent variable\n",
    "x = df_boston[['Rooms', 'Distance']] # independent variable"
   ]
  },
  {
   "cell_type": "markdown",
   "id": "372eee91",
   "metadata": {},
   "source": [
    "## Making the regression: Adding a constant and fitting the model"
   ]
  },
  {
   "cell_type": "code",
   "execution_count": 8,
   "id": "cc6f1aed",
   "metadata": {
    "scrolled": false
   },
   "outputs": [],
   "source": [
    "# adding a constant\n",
    "x = sm.add_constant(x)\n",
    "# fitting the model\n",
    "lm = sm.OLS(y,x).fit()"
   ]
  },
  {
   "cell_type": "code",
   "execution_count": 9,
   "id": "4ba91665",
   "metadata": {},
   "outputs": [
    {
     "data": {
      "text/html": [
       "<table class=\"simpletable\">\n",
       "<caption>OLS Regression Results</caption>\n",
       "<tr>\n",
       "  <th>Dep. Variable:</th>          <td>Value</td>      <th>  R-squared:         </th> <td>   0.496</td>\n",
       "</tr>\n",
       "<tr>\n",
       "  <th>Model:</th>                   <td>OLS</td>       <th>  Adj. R-squared:    </th> <td>   0.494</td>\n",
       "</tr>\n",
       "<tr>\n",
       "  <th>Method:</th>             <td>Least Squares</td>  <th>  F-statistic:       </th> <td>   247.0</td>\n",
       "</tr>\n",
       "<tr>\n",
       "  <th>Date:</th>             <td>Tue, 01 Jul 2025</td> <th>  Prob (F-statistic):</th> <td>1.84e-75</td>\n",
       "</tr>\n",
       "<tr>\n",
       "  <th>Time:</th>                 <td>11:50:11</td>     <th>  Log-Likelihood:    </th> <td> -1667.1</td>\n",
       "</tr>\n",
       "<tr>\n",
       "  <th>No. Observations:</th>      <td>   506</td>      <th>  AIC:               </th> <td>   3340.</td>\n",
       "</tr>\n",
       "<tr>\n",
       "  <th>Df Residuals:</th>          <td>   503</td>      <th>  BIC:               </th> <td>   3353.</td>\n",
       "</tr>\n",
       "<tr>\n",
       "  <th>Df Model:</th>              <td>     2</td>      <th>                     </th>     <td> </td>   \n",
       "</tr>\n",
       "<tr>\n",
       "  <th>Covariance Type:</th>      <td>nonrobust</td>    <th>                     </th>     <td> </td>   \n",
       "</tr>\n",
       "</table>\n",
       "<table class=\"simpletable\">\n",
       "<tr>\n",
       "      <td></td>        <th>coef</th>     <th>std err</th>      <th>t</th>      <th>P>|t|</th>  <th>[0.025</th>    <th>0.975]</th>  \n",
       "</tr>\n",
       "<tr>\n",
       "  <th>const</th>    <td>  -34.6361</td> <td>    2.621</td> <td>  -13.212</td> <td> 0.000</td> <td>  -39.786</td> <td>  -29.486</td>\n",
       "</tr>\n",
       "<tr>\n",
       "  <th>Rooms</th>    <td>    8.8014</td> <td>    0.424</td> <td>   20.780</td> <td> 0.000</td> <td>    7.969</td> <td>    9.634</td>\n",
       "</tr>\n",
       "<tr>\n",
       "  <th>Distance</th> <td>    0.4888</td> <td>    0.141</td> <td>    3.459</td> <td> 0.001</td> <td>    0.211</td> <td>    0.767</td>\n",
       "</tr>\n",
       "</table>\n",
       "<table class=\"simpletable\">\n",
       "<tr>\n",
       "  <th>Omnibus:</th>       <td>142.807</td> <th>  Durbin-Watson:     </th> <td>   0.684</td> \n",
       "</tr>\n",
       "<tr>\n",
       "  <th>Prob(Omnibus):</th> <td> 0.000</td>  <th>  Jarque-Bera (JB):  </th> <td> 844.520</td> \n",
       "</tr>\n",
       "<tr>\n",
       "  <th>Skew:</th>          <td> 1.090</td>  <th>  Prob(JB):          </th> <td>4.12e-184</td>\n",
       "</tr>\n",
       "<tr>\n",
       "  <th>Kurtosis:</th>      <td> 8.942</td>  <th>  Cond. No.          </th> <td>    68.7</td> \n",
       "</tr>\n",
       "</table><br/><br/>Notes:<br/>[1] Standard Errors assume that the covariance matrix of the errors is correctly specified."
      ],
      "text/latex": [
       "\\begin{center}\n",
       "\\begin{tabular}{lclc}\n",
       "\\toprule\n",
       "\\textbf{Dep. Variable:}    &      Value       & \\textbf{  R-squared:         } &     0.496   \\\\\n",
       "\\textbf{Model:}            &       OLS        & \\textbf{  Adj. R-squared:    } &     0.494   \\\\\n",
       "\\textbf{Method:}           &  Least Squares   & \\textbf{  F-statistic:       } &     247.0   \\\\\n",
       "\\textbf{Date:}             & Tue, 01 Jul 2025 & \\textbf{  Prob (F-statistic):} &  1.84e-75   \\\\\n",
       "\\textbf{Time:}             &     11:50:11     & \\textbf{  Log-Likelihood:    } &   -1667.1   \\\\\n",
       "\\textbf{No. Observations:} &         506      & \\textbf{  AIC:               } &     3340.   \\\\\n",
       "\\textbf{Df Residuals:}     &         503      & \\textbf{  BIC:               } &     3353.   \\\\\n",
       "\\textbf{Df Model:}         &           2      & \\textbf{                     } &             \\\\\n",
       "\\textbf{Covariance Type:}  &    nonrobust     & \\textbf{                     } &             \\\\\n",
       "\\bottomrule\n",
       "\\end{tabular}\n",
       "\\begin{tabular}{lcccccc}\n",
       "                  & \\textbf{coef} & \\textbf{std err} & \\textbf{t} & \\textbf{P$> |$t$|$} & \\textbf{[0.025} & \\textbf{0.975]}  \\\\\n",
       "\\midrule\n",
       "\\textbf{const}    &     -34.6361  &        2.621     &   -13.212  &         0.000        &      -39.786    &      -29.486     \\\\\n",
       "\\textbf{Rooms}    &       8.8014  &        0.424     &    20.780  &         0.000        &        7.969    &        9.634     \\\\\n",
       "\\textbf{Distance} &       0.4888  &        0.141     &     3.459  &         0.001        &        0.211    &        0.767     \\\\\n",
       "\\bottomrule\n",
       "\\end{tabular}\n",
       "\\begin{tabular}{lclc}\n",
       "\\textbf{Omnibus:}       & 142.807 & \\textbf{  Durbin-Watson:     } &     0.684  \\\\\n",
       "\\textbf{Prob(Omnibus):} &   0.000 & \\textbf{  Jarque-Bera (JB):  } &   844.520  \\\\\n",
       "\\textbf{Skew:}          &   1.090 & \\textbf{  Prob(JB):          } & 4.12e-184  \\\\\n",
       "\\textbf{Kurtosis:}      &   8.942 & \\textbf{  Cond. No.          } &      68.7  \\\\\n",
       "\\bottomrule\n",
       "\\end{tabular}\n",
       "%\\caption{OLS Regression Results}\n",
       "\\end{center}\n",
       "\n",
       "Notes: \\newline\n",
       " [1] Standard Errors assume that the covariance matrix of the errors is correctly specified."
      ],
      "text/plain": [
       "<class 'statsmodels.iolib.summary.Summary'>\n",
       "\"\"\"\n",
       "                            OLS Regression Results                            \n",
       "==============================================================================\n",
       "Dep. Variable:                  Value   R-squared:                       0.496\n",
       "Model:                            OLS   Adj. R-squared:                  0.494\n",
       "Method:                 Least Squares   F-statistic:                     247.0\n",
       "Date:                Tue, 01 Jul 2025   Prob (F-statistic):           1.84e-75\n",
       "Time:                        11:50:11   Log-Likelihood:                -1667.1\n",
       "No. Observations:                 506   AIC:                             3340.\n",
       "Df Residuals:                     503   BIC:                             3353.\n",
       "Df Model:                           2                                         \n",
       "Covariance Type:            nonrobust                                         \n",
       "==============================================================================\n",
       "                 coef    std err          t      P>|t|      [0.025      0.975]\n",
       "------------------------------------------------------------------------------\n",
       "const        -34.6361      2.621    -13.212      0.000     -39.786     -29.486\n",
       "Rooms          8.8014      0.424     20.780      0.000       7.969       9.634\n",
       "Distance       0.4888      0.141      3.459      0.001       0.211       0.767\n",
       "==============================================================================\n",
       "Omnibus:                      142.807   Durbin-Watson:                   0.684\n",
       "Prob(Omnibus):                  0.000   Jarque-Bera (JB):              844.520\n",
       "Skew:                           1.090   Prob(JB):                    4.12e-184\n",
       "Kurtosis:                       8.942   Cond. No.                         68.7\n",
       "==============================================================================\n",
       "\n",
       "Notes:\n",
       "[1] Standard Errors assume that the covariance matrix of the errors is correctly specified.\n",
       "\"\"\""
      ]
     },
     "execution_count": 9,
     "metadata": {},
     "output_type": "execute_result"
    }
   ],
   "source": [
    "lm.summary()"
   ]
  },
  {
   "cell_type": "code",
   "execution_count": null,
   "id": "fcd43e92",
   "metadata": {},
   "outputs": [],
   "source": []
  }
 ],
 "metadata": {
  "kernelspec": {
   "display_name": ".venv",
   "language": "python",
   "name": "python3"
  },
  "language_info": {
   "codemirror_mode": {
    "name": "ipython",
    "version": 3
   },
   "file_extension": ".py",
   "mimetype": "text/x-python",
   "name": "python",
   "nbconvert_exporter": "python",
   "pygments_lexer": "ipython3",
   "version": "3.10.8"
  },
  "toc": {
   "base_numbering": 1,
   "nav_menu": {},
   "number_sections": true,
   "sideBar": true,
   "skip_h1_title": false,
   "title_cell": "Table of Contents",
   "title_sidebar": "Contents",
   "toc_cell": false,
   "toc_position": {},
   "toc_section_display": true,
   "toc_window_display": false
  }
 },
 "nbformat": 4,
 "nbformat_minor": 5
}
