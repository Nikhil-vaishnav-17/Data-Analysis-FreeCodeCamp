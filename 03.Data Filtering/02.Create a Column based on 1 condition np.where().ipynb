{
 "cells": [
  {
   "cell_type": "code",
   "execution_count": 1,
   "id": "6adbf763",
   "metadata": {},
   "outputs": [],
   "source": [
    "import pandas as pd\n",
    "import numpy as np"
   ]
  },
  {
   "cell_type": "code",
   "execution_count": 3,
   "id": "e5be7176",
   "metadata": {},
   "outputs": [],
   "source": [
    "df_laptops = pd.read_csv('laptop_price.csv', encoding='latin1')"
   ]
  },
  {
   "cell_type": "code",
   "execution_count": 4,
   "id": "0619947b",
   "metadata": {},
   "outputs": [
    {
     "data": {
      "application/vnd.microsoft.datawrangler.viewer.v0+json": {
       "columns": [
        {
         "name": "index",
         "rawType": "int64",
         "type": "integer"
        },
        {
         "name": "laptop_ID",
         "rawType": "int64",
         "type": "integer"
        },
        {
         "name": "Company",
         "rawType": "object",
         "type": "string"
        },
        {
         "name": "Product",
         "rawType": "object",
         "type": "string"
        },
        {
         "name": "TypeName",
         "rawType": "object",
         "type": "string"
        },
        {
         "name": "Inches",
         "rawType": "float64",
         "type": "float"
        },
        {
         "name": "ScreenResolution",
         "rawType": "object",
         "type": "string"
        },
        {
         "name": "Cpu",
         "rawType": "object",
         "type": "string"
        },
        {
         "name": "Ram",
         "rawType": "object",
         "type": "string"
        },
        {
         "name": "Memory",
         "rawType": "object",
         "type": "string"
        },
        {
         "name": "Gpu",
         "rawType": "object",
         "type": "string"
        },
        {
         "name": "OpSys",
         "rawType": "object",
         "type": "string"
        },
        {
         "name": "Weight",
         "rawType": "object",
         "type": "string"
        },
        {
         "name": "Price_euros",
         "rawType": "float64",
         "type": "float"
        }
       ],
       "ref": "234e6358-2aae-48c5-a3bf-153ef56dbce1",
       "rows": [
        [
         "0",
         "1",
         "Apple",
         "MacBook Pro",
         "Ultrabook",
         "13.3",
         "IPS Panel Retina Display 2560x1600",
         "Intel Core i5 2.3GHz",
         "8GB",
         "128GB SSD",
         "Intel Iris Plus Graphics 640",
         "macOS",
         "1.37kg",
         "1339.69"
        ],
        [
         "1",
         "2",
         "Apple",
         "Macbook Air",
         "Ultrabook",
         "13.3",
         "1440x900",
         "Intel Core i5 1.8GHz",
         "8GB",
         "128GB Flash Storage",
         "Intel HD Graphics 6000",
         "macOS",
         "1.34kg",
         "898.94"
        ],
        [
         "2",
         "3",
         "HP",
         "250 G6",
         "Notebook",
         "15.6",
         "Full HD 1920x1080",
         "Intel Core i5 7200U 2.5GHz",
         "8GB",
         "256GB SSD",
         "Intel HD Graphics 620",
         "No OS",
         "1.86kg",
         "575.0"
        ],
        [
         "3",
         "4",
         "Apple",
         "MacBook Pro",
         "Ultrabook",
         "15.4",
         "IPS Panel Retina Display 2880x1800",
         "Intel Core i7 2.7GHz",
         "16GB",
         "512GB SSD",
         "AMD Radeon Pro 455",
         "macOS",
         "1.83kg",
         "2537.45"
        ],
        [
         "4",
         "5",
         "Apple",
         "MacBook Pro",
         "Ultrabook",
         "13.3",
         "IPS Panel Retina Display 2560x1600",
         "Intel Core i5 3.1GHz",
         "8GB",
         "256GB SSD",
         "Intel Iris Plus Graphics 650",
         "macOS",
         "1.37kg",
         "1803.6"
        ]
       ],
       "shape": {
        "columns": 13,
        "rows": 5
       }
      },
      "text/html": [
       "<div>\n",
       "<style scoped>\n",
       "    .dataframe tbody tr th:only-of-type {\n",
       "        vertical-align: middle;\n",
       "    }\n",
       "\n",
       "    .dataframe tbody tr th {\n",
       "        vertical-align: top;\n",
       "    }\n",
       "\n",
       "    .dataframe thead th {\n",
       "        text-align: right;\n",
       "    }\n",
       "</style>\n",
       "<table border=\"1\" class=\"dataframe\">\n",
       "  <thead>\n",
       "    <tr style=\"text-align: right;\">\n",
       "      <th></th>\n",
       "      <th>laptop_ID</th>\n",
       "      <th>Company</th>\n",
       "      <th>Product</th>\n",
       "      <th>TypeName</th>\n",
       "      <th>Inches</th>\n",
       "      <th>ScreenResolution</th>\n",
       "      <th>Cpu</th>\n",
       "      <th>Ram</th>\n",
       "      <th>Memory</th>\n",
       "      <th>Gpu</th>\n",
       "      <th>OpSys</th>\n",
       "      <th>Weight</th>\n",
       "      <th>Price_euros</th>\n",
       "    </tr>\n",
       "  </thead>\n",
       "  <tbody>\n",
       "    <tr>\n",
       "      <th>0</th>\n",
       "      <td>1</td>\n",
       "      <td>Apple</td>\n",
       "      <td>MacBook Pro</td>\n",
       "      <td>Ultrabook</td>\n",
       "      <td>13.3</td>\n",
       "      <td>IPS Panel Retina Display 2560x1600</td>\n",
       "      <td>Intel Core i5 2.3GHz</td>\n",
       "      <td>8GB</td>\n",
       "      <td>128GB SSD</td>\n",
       "      <td>Intel Iris Plus Graphics 640</td>\n",
       "      <td>macOS</td>\n",
       "      <td>1.37kg</td>\n",
       "      <td>1339.69</td>\n",
       "    </tr>\n",
       "    <tr>\n",
       "      <th>1</th>\n",
       "      <td>2</td>\n",
       "      <td>Apple</td>\n",
       "      <td>Macbook Air</td>\n",
       "      <td>Ultrabook</td>\n",
       "      <td>13.3</td>\n",
       "      <td>1440x900</td>\n",
       "      <td>Intel Core i5 1.8GHz</td>\n",
       "      <td>8GB</td>\n",
       "      <td>128GB Flash Storage</td>\n",
       "      <td>Intel HD Graphics 6000</td>\n",
       "      <td>macOS</td>\n",
       "      <td>1.34kg</td>\n",
       "      <td>898.94</td>\n",
       "    </tr>\n",
       "    <tr>\n",
       "      <th>2</th>\n",
       "      <td>3</td>\n",
       "      <td>HP</td>\n",
       "      <td>250 G6</td>\n",
       "      <td>Notebook</td>\n",
       "      <td>15.6</td>\n",
       "      <td>Full HD 1920x1080</td>\n",
       "      <td>Intel Core i5 7200U 2.5GHz</td>\n",
       "      <td>8GB</td>\n",
       "      <td>256GB SSD</td>\n",
       "      <td>Intel HD Graphics 620</td>\n",
       "      <td>No OS</td>\n",
       "      <td>1.86kg</td>\n",
       "      <td>575.00</td>\n",
       "    </tr>\n",
       "    <tr>\n",
       "      <th>3</th>\n",
       "      <td>4</td>\n",
       "      <td>Apple</td>\n",
       "      <td>MacBook Pro</td>\n",
       "      <td>Ultrabook</td>\n",
       "      <td>15.4</td>\n",
       "      <td>IPS Panel Retina Display 2880x1800</td>\n",
       "      <td>Intel Core i7 2.7GHz</td>\n",
       "      <td>16GB</td>\n",
       "      <td>512GB SSD</td>\n",
       "      <td>AMD Radeon Pro 455</td>\n",
       "      <td>macOS</td>\n",
       "      <td>1.83kg</td>\n",
       "      <td>2537.45</td>\n",
       "    </tr>\n",
       "    <tr>\n",
       "      <th>4</th>\n",
       "      <td>5</td>\n",
       "      <td>Apple</td>\n",
       "      <td>MacBook Pro</td>\n",
       "      <td>Ultrabook</td>\n",
       "      <td>13.3</td>\n",
       "      <td>IPS Panel Retina Display 2560x1600</td>\n",
       "      <td>Intel Core i5 3.1GHz</td>\n",
       "      <td>8GB</td>\n",
       "      <td>256GB SSD</td>\n",
       "      <td>Intel Iris Plus Graphics 650</td>\n",
       "      <td>macOS</td>\n",
       "      <td>1.37kg</td>\n",
       "      <td>1803.60</td>\n",
       "    </tr>\n",
       "  </tbody>\n",
       "</table>\n",
       "</div>"
      ],
      "text/plain": [
       "   laptop_ID Company      Product   TypeName  Inches  \\\n",
       "0          1   Apple  MacBook Pro  Ultrabook    13.3   \n",
       "1          2   Apple  Macbook Air  Ultrabook    13.3   \n",
       "2          3      HP       250 G6   Notebook    15.6   \n",
       "3          4   Apple  MacBook Pro  Ultrabook    15.4   \n",
       "4          5   Apple  MacBook Pro  Ultrabook    13.3   \n",
       "\n",
       "                     ScreenResolution                         Cpu   Ram  \\\n",
       "0  IPS Panel Retina Display 2560x1600        Intel Core i5 2.3GHz   8GB   \n",
       "1                            1440x900        Intel Core i5 1.8GHz   8GB   \n",
       "2                   Full HD 1920x1080  Intel Core i5 7200U 2.5GHz   8GB   \n",
       "3  IPS Panel Retina Display 2880x1800        Intel Core i7 2.7GHz  16GB   \n",
       "4  IPS Panel Retina Display 2560x1600        Intel Core i5 3.1GHz   8GB   \n",
       "\n",
       "                Memory                           Gpu  OpSys  Weight  \\\n",
       "0            128GB SSD  Intel Iris Plus Graphics 640  macOS  1.37kg   \n",
       "1  128GB Flash Storage        Intel HD Graphics 6000  macOS  1.34kg   \n",
       "2            256GB SSD         Intel HD Graphics 620  No OS  1.86kg   \n",
       "3            512GB SSD            AMD Radeon Pro 455  macOS  1.83kg   \n",
       "4            256GB SSD  Intel Iris Plus Graphics 650  macOS  1.37kg   \n",
       "\n",
       "   Price_euros  \n",
       "0      1339.69  \n",
       "1       898.94  \n",
       "2       575.00  \n",
       "3      2537.45  \n",
       "4      1803.60  "
      ]
     },
     "execution_count": 4,
     "metadata": {},
     "output_type": "execute_result"
    }
   ],
   "source": [
    "df_laptops.head()"
   ]
  },
  {
   "cell_type": "markdown",
   "id": "333ccca9",
   "metadata": {},
   "source": [
    "# 1 Create a column based on 1 conditions: np.where()"
   ]
  },
  {
   "cell_type": "code",
   "execution_count": 6,
   "id": "31785820",
   "metadata": {},
   "outputs": [
    {
     "data": {
      "text/plain": [
       "array(['Cheap', 'Cheap', 'Cheap', ..., 'Cheap', 'Cheap', 'Cheap'],\n",
       "      shape=(1303,), dtype='<U9')"
      ]
     },
     "execution_count": 6,
     "metadata": {},
     "output_type": "execute_result"
    }
   ],
   "source": [
    "# create an array based on price tiers\n",
    "np.where(df_laptops['Price_euros'] > 2000, 'Expensive', 'Cheap')"
   ]
  },
  {
   "cell_type": "code",
   "execution_count": 9,
   "id": "7083f7eb",
   "metadata": {},
   "outputs": [],
   "source": [
    "# set it to a new column\n",
    "df_laptops['Price_tier'] = np.where(df_laptops['Price_euros'] > 2000, 'Expensive', 'Cheap')"
   ]
  },
  {
   "cell_type": "code",
   "execution_count": 10,
   "id": "8102d7db",
   "metadata": {},
   "outputs": [
    {
     "data": {
      "application/vnd.microsoft.datawrangler.viewer.v0+json": {
       "columns": [
        {
         "name": "index",
         "rawType": "int64",
         "type": "integer"
        },
        {
         "name": "laptop_ID",
         "rawType": "int64",
         "type": "integer"
        },
        {
         "name": "Company",
         "rawType": "object",
         "type": "string"
        },
        {
         "name": "Product",
         "rawType": "object",
         "type": "string"
        },
        {
         "name": "TypeName",
         "rawType": "object",
         "type": "string"
        },
        {
         "name": "Inches",
         "rawType": "float64",
         "type": "float"
        },
        {
         "name": "ScreenResolution",
         "rawType": "object",
         "type": "string"
        },
        {
         "name": "Cpu",
         "rawType": "object",
         "type": "string"
        },
        {
         "name": "Ram",
         "rawType": "object",
         "type": "string"
        },
        {
         "name": "Memory",
         "rawType": "object",
         "type": "string"
        },
        {
         "name": "Gpu",
         "rawType": "object",
         "type": "string"
        },
        {
         "name": "OpSys",
         "rawType": "object",
         "type": "string"
        },
        {
         "name": "Weight",
         "rawType": "object",
         "type": "string"
        },
        {
         "name": "Price_euros",
         "rawType": "float64",
         "type": "float"
        },
        {
         "name": "Price_tier",
         "rawType": "object",
         "type": "string"
        }
       ],
       "ref": "41fe7af4-cbc5-4197-b92d-32528a558090",
       "rows": [
        [
         "0",
         "1",
         "Apple",
         "MacBook Pro",
         "Ultrabook",
         "13.3",
         "IPS Panel Retina Display 2560x1600",
         "Intel Core i5 2.3GHz",
         "8GB",
         "128GB SSD",
         "Intel Iris Plus Graphics 640",
         "macOS",
         "1.37kg",
         "1339.69",
         "Cheap"
        ],
        [
         "1",
         "2",
         "Apple",
         "Macbook Air",
         "Ultrabook",
         "13.3",
         "1440x900",
         "Intel Core i5 1.8GHz",
         "8GB",
         "128GB Flash Storage",
         "Intel HD Graphics 6000",
         "macOS",
         "1.34kg",
         "898.94",
         "Cheap"
        ],
        [
         "2",
         "3",
         "HP",
         "250 G6",
         "Notebook",
         "15.6",
         "Full HD 1920x1080",
         "Intel Core i5 7200U 2.5GHz",
         "8GB",
         "256GB SSD",
         "Intel HD Graphics 620",
         "No OS",
         "1.86kg",
         "575.0",
         "Cheap"
        ],
        [
         "3",
         "4",
         "Apple",
         "MacBook Pro",
         "Ultrabook",
         "15.4",
         "IPS Panel Retina Display 2880x1800",
         "Intel Core i7 2.7GHz",
         "16GB",
         "512GB SSD",
         "AMD Radeon Pro 455",
         "macOS",
         "1.83kg",
         "2537.45",
         "Expensive"
        ],
        [
         "4",
         "5",
         "Apple",
         "MacBook Pro",
         "Ultrabook",
         "13.3",
         "IPS Panel Retina Display 2560x1600",
         "Intel Core i5 3.1GHz",
         "8GB",
         "256GB SSD",
         "Intel Iris Plus Graphics 650",
         "macOS",
         "1.37kg",
         "1803.6",
         "Cheap"
        ]
       ],
       "shape": {
        "columns": 14,
        "rows": 5
       }
      },
      "text/html": [
       "<div>\n",
       "<style scoped>\n",
       "    .dataframe tbody tr th:only-of-type {\n",
       "        vertical-align: middle;\n",
       "    }\n",
       "\n",
       "    .dataframe tbody tr th {\n",
       "        vertical-align: top;\n",
       "    }\n",
       "\n",
       "    .dataframe thead th {\n",
       "        text-align: right;\n",
       "    }\n",
       "</style>\n",
       "<table border=\"1\" class=\"dataframe\">\n",
       "  <thead>\n",
       "    <tr style=\"text-align: right;\">\n",
       "      <th></th>\n",
       "      <th>laptop_ID</th>\n",
       "      <th>Company</th>\n",
       "      <th>Product</th>\n",
       "      <th>TypeName</th>\n",
       "      <th>Inches</th>\n",
       "      <th>ScreenResolution</th>\n",
       "      <th>Cpu</th>\n",
       "      <th>Ram</th>\n",
       "      <th>Memory</th>\n",
       "      <th>Gpu</th>\n",
       "      <th>OpSys</th>\n",
       "      <th>Weight</th>\n",
       "      <th>Price_euros</th>\n",
       "      <th>Price_tier</th>\n",
       "    </tr>\n",
       "  </thead>\n",
       "  <tbody>\n",
       "    <tr>\n",
       "      <th>0</th>\n",
       "      <td>1</td>\n",
       "      <td>Apple</td>\n",
       "      <td>MacBook Pro</td>\n",
       "      <td>Ultrabook</td>\n",
       "      <td>13.3</td>\n",
       "      <td>IPS Panel Retina Display 2560x1600</td>\n",
       "      <td>Intel Core i5 2.3GHz</td>\n",
       "      <td>8GB</td>\n",
       "      <td>128GB SSD</td>\n",
       "      <td>Intel Iris Plus Graphics 640</td>\n",
       "      <td>macOS</td>\n",
       "      <td>1.37kg</td>\n",
       "      <td>1339.69</td>\n",
       "      <td>Cheap</td>\n",
       "    </tr>\n",
       "    <tr>\n",
       "      <th>1</th>\n",
       "      <td>2</td>\n",
       "      <td>Apple</td>\n",
       "      <td>Macbook Air</td>\n",
       "      <td>Ultrabook</td>\n",
       "      <td>13.3</td>\n",
       "      <td>1440x900</td>\n",
       "      <td>Intel Core i5 1.8GHz</td>\n",
       "      <td>8GB</td>\n",
       "      <td>128GB Flash Storage</td>\n",
       "      <td>Intel HD Graphics 6000</td>\n",
       "      <td>macOS</td>\n",
       "      <td>1.34kg</td>\n",
       "      <td>898.94</td>\n",
       "      <td>Cheap</td>\n",
       "    </tr>\n",
       "    <tr>\n",
       "      <th>2</th>\n",
       "      <td>3</td>\n",
       "      <td>HP</td>\n",
       "      <td>250 G6</td>\n",
       "      <td>Notebook</td>\n",
       "      <td>15.6</td>\n",
       "      <td>Full HD 1920x1080</td>\n",
       "      <td>Intel Core i5 7200U 2.5GHz</td>\n",
       "      <td>8GB</td>\n",
       "      <td>256GB SSD</td>\n",
       "      <td>Intel HD Graphics 620</td>\n",
       "      <td>No OS</td>\n",
       "      <td>1.86kg</td>\n",
       "      <td>575.00</td>\n",
       "      <td>Cheap</td>\n",
       "    </tr>\n",
       "    <tr>\n",
       "      <th>3</th>\n",
       "      <td>4</td>\n",
       "      <td>Apple</td>\n",
       "      <td>MacBook Pro</td>\n",
       "      <td>Ultrabook</td>\n",
       "      <td>15.4</td>\n",
       "      <td>IPS Panel Retina Display 2880x1800</td>\n",
       "      <td>Intel Core i7 2.7GHz</td>\n",
       "      <td>16GB</td>\n",
       "      <td>512GB SSD</td>\n",
       "      <td>AMD Radeon Pro 455</td>\n",
       "      <td>macOS</td>\n",
       "      <td>1.83kg</td>\n",
       "      <td>2537.45</td>\n",
       "      <td>Expensive</td>\n",
       "    </tr>\n",
       "    <tr>\n",
       "      <th>4</th>\n",
       "      <td>5</td>\n",
       "      <td>Apple</td>\n",
       "      <td>MacBook Pro</td>\n",
       "      <td>Ultrabook</td>\n",
       "      <td>13.3</td>\n",
       "      <td>IPS Panel Retina Display 2560x1600</td>\n",
       "      <td>Intel Core i5 3.1GHz</td>\n",
       "      <td>8GB</td>\n",
       "      <td>256GB SSD</td>\n",
       "      <td>Intel Iris Plus Graphics 650</td>\n",
       "      <td>macOS</td>\n",
       "      <td>1.37kg</td>\n",
       "      <td>1803.60</td>\n",
       "      <td>Cheap</td>\n",
       "    </tr>\n",
       "  </tbody>\n",
       "</table>\n",
       "</div>"
      ],
      "text/plain": [
       "   laptop_ID Company      Product   TypeName  Inches  \\\n",
       "0          1   Apple  MacBook Pro  Ultrabook    13.3   \n",
       "1          2   Apple  Macbook Air  Ultrabook    13.3   \n",
       "2          3      HP       250 G6   Notebook    15.6   \n",
       "3          4   Apple  MacBook Pro  Ultrabook    15.4   \n",
       "4          5   Apple  MacBook Pro  Ultrabook    13.3   \n",
       "\n",
       "                     ScreenResolution                         Cpu   Ram  \\\n",
       "0  IPS Panel Retina Display 2560x1600        Intel Core i5 2.3GHz   8GB   \n",
       "1                            1440x900        Intel Core i5 1.8GHz   8GB   \n",
       "2                   Full HD 1920x1080  Intel Core i5 7200U 2.5GHz   8GB   \n",
       "3  IPS Panel Retina Display 2880x1800        Intel Core i7 2.7GHz  16GB   \n",
       "4  IPS Panel Retina Display 2560x1600        Intel Core i5 3.1GHz   8GB   \n",
       "\n",
       "                Memory                           Gpu  OpSys  Weight  \\\n",
       "0            128GB SSD  Intel Iris Plus Graphics 640  macOS  1.37kg   \n",
       "1  128GB Flash Storage        Intel HD Graphics 6000  macOS  1.34kg   \n",
       "2            256GB SSD         Intel HD Graphics 620  No OS  1.86kg   \n",
       "3            512GB SSD            AMD Radeon Pro 455  macOS  1.83kg   \n",
       "4            256GB SSD  Intel Iris Plus Graphics 650  macOS  1.37kg   \n",
       "\n",
       "   Price_euros Price_tier  \n",
       "0      1339.69      Cheap  \n",
       "1       898.94      Cheap  \n",
       "2       575.00      Cheap  \n",
       "3      2537.45  Expensive  \n",
       "4      1803.60      Cheap  "
      ]
     },
     "execution_count": 10,
     "metadata": {},
     "output_type": "execute_result"
    }
   ],
   "source": [
    "# show first 5 rows\n",
    "df_laptops.head()"
   ]
  },
  {
   "cell_type": "code",
   "execution_count": 11,
   "id": "8d45dcc7",
   "metadata": {},
   "outputs": [
    {
     "data": {
      "application/vnd.microsoft.datawrangler.viewer.v0+json": {
       "columns": [
        {
         "name": "Price_tier",
         "rawType": "object",
         "type": "string"
        },
        {
         "name": "count",
         "rawType": "int64",
         "type": "integer"
        }
       ],
       "ref": "e891c2bf-116d-4a61-a97c-93c249c9f318",
       "rows": [
        [
         "Cheap",
         "1166"
        ],
        [
         "Expensive",
         "137"
        ]
       ],
       "shape": {
        "columns": 1,
        "rows": 2
       }
      },
      "text/plain": [
       "Price_tier\n",
       "Cheap        1166\n",
       "Expensive     137\n",
       "Name: count, dtype: int64"
      ]
     },
     "execution_count": 11,
     "metadata": {},
     "output_type": "execute_result"
    }
   ],
   "source": [
    "# count values in price_tier column\n",
    "df_laptops['Price_tier'].value_counts()"
   ]
  },
  {
   "cell_type": "markdown",
   "id": "5f4b1a93",
   "metadata": {},
   "source": [
    "## 1.1 Exercise"
   ]
  },
  {
   "cell_type": "code",
   "execution_count": 12,
   "id": "e2387657",
   "metadata": {},
   "outputs": [
    {
     "data": {
      "text/plain": [
       "array(['Small_screen', 'Small_screen', 'Big_screen', ..., 'Small_screen',\n",
       "       'Big_screen', 'Big_screen'], shape=(1303,), dtype='<U12')"
      ]
     },
     "execution_count": 12,
     "metadata": {},
     "output_type": "execute_result"
    }
   ],
   "source": [
    "# create an array based on screen size\n",
    "np.where(df_laptops['Inches'] > 15, 'Big_screen', 'Small_screen')"
   ]
  },
  {
   "cell_type": "code",
   "execution_count": 13,
   "id": "634ae85b",
   "metadata": {},
   "outputs": [],
   "source": [
    "# set it to a new column\n",
    "df_laptops['Screen_Size'] = np.where(df_laptops['Inches'] > 15, 'Big_screen', 'Small_screen')"
   ]
  },
  {
   "cell_type": "code",
   "execution_count": 14,
   "id": "502de076",
   "metadata": {},
   "outputs": [
    {
     "data": {
      "application/vnd.microsoft.datawrangler.viewer.v0+json": {
       "columns": [
        {
         "name": "index",
         "rawType": "int64",
         "type": "integer"
        },
        {
         "name": "laptop_ID",
         "rawType": "int64",
         "type": "integer"
        },
        {
         "name": "Company",
         "rawType": "object",
         "type": "string"
        },
        {
         "name": "Product",
         "rawType": "object",
         "type": "string"
        },
        {
         "name": "TypeName",
         "rawType": "object",
         "type": "string"
        },
        {
         "name": "Inches",
         "rawType": "float64",
         "type": "float"
        },
        {
         "name": "ScreenResolution",
         "rawType": "object",
         "type": "string"
        },
        {
         "name": "Cpu",
         "rawType": "object",
         "type": "string"
        },
        {
         "name": "Ram",
         "rawType": "object",
         "type": "string"
        },
        {
         "name": "Memory",
         "rawType": "object",
         "type": "string"
        },
        {
         "name": "Gpu",
         "rawType": "object",
         "type": "string"
        },
        {
         "name": "OpSys",
         "rawType": "object",
         "type": "string"
        },
        {
         "name": "Weight",
         "rawType": "object",
         "type": "string"
        },
        {
         "name": "Price_euros",
         "rawType": "float64",
         "type": "float"
        },
        {
         "name": "Price_tier",
         "rawType": "object",
         "type": "string"
        },
        {
         "name": "Screen_Size",
         "rawType": "object",
         "type": "string"
        }
       ],
       "ref": "f9b2115f-6ab4-4b6e-bdc5-703e01fe3dcc",
       "rows": [
        [
         "0",
         "1",
         "Apple",
         "MacBook Pro",
         "Ultrabook",
         "13.3",
         "IPS Panel Retina Display 2560x1600",
         "Intel Core i5 2.3GHz",
         "8GB",
         "128GB SSD",
         "Intel Iris Plus Graphics 640",
         "macOS",
         "1.37kg",
         "1339.69",
         "Cheap",
         "Small_screen"
        ],
        [
         "1",
         "2",
         "Apple",
         "Macbook Air",
         "Ultrabook",
         "13.3",
         "1440x900",
         "Intel Core i5 1.8GHz",
         "8GB",
         "128GB Flash Storage",
         "Intel HD Graphics 6000",
         "macOS",
         "1.34kg",
         "898.94",
         "Cheap",
         "Small_screen"
        ],
        [
         "2",
         "3",
         "HP",
         "250 G6",
         "Notebook",
         "15.6",
         "Full HD 1920x1080",
         "Intel Core i5 7200U 2.5GHz",
         "8GB",
         "256GB SSD",
         "Intel HD Graphics 620",
         "No OS",
         "1.86kg",
         "575.0",
         "Cheap",
         "Big_screen"
        ],
        [
         "3",
         "4",
         "Apple",
         "MacBook Pro",
         "Ultrabook",
         "15.4",
         "IPS Panel Retina Display 2880x1800",
         "Intel Core i7 2.7GHz",
         "16GB",
         "512GB SSD",
         "AMD Radeon Pro 455",
         "macOS",
         "1.83kg",
         "2537.45",
         "Expensive",
         "Big_screen"
        ],
        [
         "4",
         "5",
         "Apple",
         "MacBook Pro",
         "Ultrabook",
         "13.3",
         "IPS Panel Retina Display 2560x1600",
         "Intel Core i5 3.1GHz",
         "8GB",
         "256GB SSD",
         "Intel Iris Plus Graphics 650",
         "macOS",
         "1.37kg",
         "1803.6",
         "Cheap",
         "Small_screen"
        ]
       ],
       "shape": {
        "columns": 15,
        "rows": 5
       }
      },
      "text/html": [
       "<div>\n",
       "<style scoped>\n",
       "    .dataframe tbody tr th:only-of-type {\n",
       "        vertical-align: middle;\n",
       "    }\n",
       "\n",
       "    .dataframe tbody tr th {\n",
       "        vertical-align: top;\n",
       "    }\n",
       "\n",
       "    .dataframe thead th {\n",
       "        text-align: right;\n",
       "    }\n",
       "</style>\n",
       "<table border=\"1\" class=\"dataframe\">\n",
       "  <thead>\n",
       "    <tr style=\"text-align: right;\">\n",
       "      <th></th>\n",
       "      <th>laptop_ID</th>\n",
       "      <th>Company</th>\n",
       "      <th>Product</th>\n",
       "      <th>TypeName</th>\n",
       "      <th>Inches</th>\n",
       "      <th>ScreenResolution</th>\n",
       "      <th>Cpu</th>\n",
       "      <th>Ram</th>\n",
       "      <th>Memory</th>\n",
       "      <th>Gpu</th>\n",
       "      <th>OpSys</th>\n",
       "      <th>Weight</th>\n",
       "      <th>Price_euros</th>\n",
       "      <th>Price_tier</th>\n",
       "      <th>Screen_Size</th>\n",
       "    </tr>\n",
       "  </thead>\n",
       "  <tbody>\n",
       "    <tr>\n",
       "      <th>0</th>\n",
       "      <td>1</td>\n",
       "      <td>Apple</td>\n",
       "      <td>MacBook Pro</td>\n",
       "      <td>Ultrabook</td>\n",
       "      <td>13.3</td>\n",
       "      <td>IPS Panel Retina Display 2560x1600</td>\n",
       "      <td>Intel Core i5 2.3GHz</td>\n",
       "      <td>8GB</td>\n",
       "      <td>128GB SSD</td>\n",
       "      <td>Intel Iris Plus Graphics 640</td>\n",
       "      <td>macOS</td>\n",
       "      <td>1.37kg</td>\n",
       "      <td>1339.69</td>\n",
       "      <td>Cheap</td>\n",
       "      <td>Small_screen</td>\n",
       "    </tr>\n",
       "    <tr>\n",
       "      <th>1</th>\n",
       "      <td>2</td>\n",
       "      <td>Apple</td>\n",
       "      <td>Macbook Air</td>\n",
       "      <td>Ultrabook</td>\n",
       "      <td>13.3</td>\n",
       "      <td>1440x900</td>\n",
       "      <td>Intel Core i5 1.8GHz</td>\n",
       "      <td>8GB</td>\n",
       "      <td>128GB Flash Storage</td>\n",
       "      <td>Intel HD Graphics 6000</td>\n",
       "      <td>macOS</td>\n",
       "      <td>1.34kg</td>\n",
       "      <td>898.94</td>\n",
       "      <td>Cheap</td>\n",
       "      <td>Small_screen</td>\n",
       "    </tr>\n",
       "    <tr>\n",
       "      <th>2</th>\n",
       "      <td>3</td>\n",
       "      <td>HP</td>\n",
       "      <td>250 G6</td>\n",
       "      <td>Notebook</td>\n",
       "      <td>15.6</td>\n",
       "      <td>Full HD 1920x1080</td>\n",
       "      <td>Intel Core i5 7200U 2.5GHz</td>\n",
       "      <td>8GB</td>\n",
       "      <td>256GB SSD</td>\n",
       "      <td>Intel HD Graphics 620</td>\n",
       "      <td>No OS</td>\n",
       "      <td>1.86kg</td>\n",
       "      <td>575.00</td>\n",
       "      <td>Cheap</td>\n",
       "      <td>Big_screen</td>\n",
       "    </tr>\n",
       "    <tr>\n",
       "      <th>3</th>\n",
       "      <td>4</td>\n",
       "      <td>Apple</td>\n",
       "      <td>MacBook Pro</td>\n",
       "      <td>Ultrabook</td>\n",
       "      <td>15.4</td>\n",
       "      <td>IPS Panel Retina Display 2880x1800</td>\n",
       "      <td>Intel Core i7 2.7GHz</td>\n",
       "      <td>16GB</td>\n",
       "      <td>512GB SSD</td>\n",
       "      <td>AMD Radeon Pro 455</td>\n",
       "      <td>macOS</td>\n",
       "      <td>1.83kg</td>\n",
       "      <td>2537.45</td>\n",
       "      <td>Expensive</td>\n",
       "      <td>Big_screen</td>\n",
       "    </tr>\n",
       "    <tr>\n",
       "      <th>4</th>\n",
       "      <td>5</td>\n",
       "      <td>Apple</td>\n",
       "      <td>MacBook Pro</td>\n",
       "      <td>Ultrabook</td>\n",
       "      <td>13.3</td>\n",
       "      <td>IPS Panel Retina Display 2560x1600</td>\n",
       "      <td>Intel Core i5 3.1GHz</td>\n",
       "      <td>8GB</td>\n",
       "      <td>256GB SSD</td>\n",
       "      <td>Intel Iris Plus Graphics 650</td>\n",
       "      <td>macOS</td>\n",
       "      <td>1.37kg</td>\n",
       "      <td>1803.60</td>\n",
       "      <td>Cheap</td>\n",
       "      <td>Small_screen</td>\n",
       "    </tr>\n",
       "  </tbody>\n",
       "</table>\n",
       "</div>"
      ],
      "text/plain": [
       "   laptop_ID Company      Product   TypeName  Inches  \\\n",
       "0          1   Apple  MacBook Pro  Ultrabook    13.3   \n",
       "1          2   Apple  Macbook Air  Ultrabook    13.3   \n",
       "2          3      HP       250 G6   Notebook    15.6   \n",
       "3          4   Apple  MacBook Pro  Ultrabook    15.4   \n",
       "4          5   Apple  MacBook Pro  Ultrabook    13.3   \n",
       "\n",
       "                     ScreenResolution                         Cpu   Ram  \\\n",
       "0  IPS Panel Retina Display 2560x1600        Intel Core i5 2.3GHz   8GB   \n",
       "1                            1440x900        Intel Core i5 1.8GHz   8GB   \n",
       "2                   Full HD 1920x1080  Intel Core i5 7200U 2.5GHz   8GB   \n",
       "3  IPS Panel Retina Display 2880x1800        Intel Core i7 2.7GHz  16GB   \n",
       "4  IPS Panel Retina Display 2560x1600        Intel Core i5 3.1GHz   8GB   \n",
       "\n",
       "                Memory                           Gpu  OpSys  Weight  \\\n",
       "0            128GB SSD  Intel Iris Plus Graphics 640  macOS  1.37kg   \n",
       "1  128GB Flash Storage        Intel HD Graphics 6000  macOS  1.34kg   \n",
       "2            256GB SSD         Intel HD Graphics 620  No OS  1.86kg   \n",
       "3            512GB SSD            AMD Radeon Pro 455  macOS  1.83kg   \n",
       "4            256GB SSD  Intel Iris Plus Graphics 650  macOS  1.37kg   \n",
       "\n",
       "   Price_euros Price_tier   Screen_Size  \n",
       "0      1339.69      Cheap  Small_screen  \n",
       "1       898.94      Cheap  Small_screen  \n",
       "2       575.00      Cheap    Big_screen  \n",
       "3      2537.45  Expensive    Big_screen  \n",
       "4      1803.60      Cheap  Small_screen  "
      ]
     },
     "execution_count": 14,
     "metadata": {},
     "output_type": "execute_result"
    }
   ],
   "source": [
    "# show first 5 rows\n",
    "df_laptops.head()"
   ]
  },
  {
   "cell_type": "code",
   "execution_count": 15,
   "id": "725a21f7",
   "metadata": {},
   "outputs": [
    {
     "data": {
      "application/vnd.microsoft.datawrangler.viewer.v0+json": {
       "columns": [
        {
         "name": "Screen_Size",
         "rawType": "object",
         "type": "string"
        },
        {
         "name": "count",
         "rawType": "int64",
         "type": "integer"
        }
       ],
       "ref": "4e5a5f8f-f6b9-4768-90c3-afbc8f4a75a4",
       "rows": [
        [
         "Big_screen",
         "835"
        ],
        [
         "Small_screen",
         "468"
        ]
       ],
       "shape": {
        "columns": 1,
        "rows": 2
       }
      },
      "text/plain": [
       "Screen_Size\n",
       "Big_screen      835\n",
       "Small_screen    468\n",
       "Name: count, dtype: int64"
      ]
     },
     "execution_count": 15,
     "metadata": {},
     "output_type": "execute_result"
    }
   ],
   "source": [
    "# count values in screen_size column\n",
    "df_laptops['Screen_Size'].value_counts()"
   ]
  },
  {
   "cell_type": "code",
   "execution_count": null,
   "id": "7a846a13",
   "metadata": {},
   "outputs": [],
   "source": []
  }
 ],
 "metadata": {
  "kernelspec": {
   "display_name": ".venv",
   "language": "python",
   "name": "python3"
  },
  "language_info": {
   "codemirror_mode": {
    "name": "ipython",
    "version": 3
   },
   "file_extension": ".py",
   "mimetype": "text/x-python",
   "name": "python",
   "nbconvert_exporter": "python",
   "pygments_lexer": "ipython3",
   "version": "3.10.8"
  }
 },
 "nbformat": 4,
 "nbformat_minor": 5
}
