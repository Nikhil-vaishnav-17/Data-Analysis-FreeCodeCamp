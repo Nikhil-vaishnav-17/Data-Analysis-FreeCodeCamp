{
 "cells": [
  {
   "cell_type": "code",
   "execution_count": 5,
   "id": "fc8f189b",
   "metadata": {},
   "outputs": [],
   "source": [
    "import pandas as pd"
   ]
  },
  {
   "cell_type": "code",
   "execution_count": 8,
   "id": "19a1defa",
   "metadata": {},
   "outputs": [],
   "source": [
    "df_laptops = pd.read_csv('laptop_price.csv', encoding='latin1')"
   ]
  },
  {
   "cell_type": "code",
   "execution_count": 9,
   "id": "7c37b4cf",
   "metadata": {},
   "outputs": [
    {
     "data": {
      "application/vnd.microsoft.datawrangler.viewer.v0+json": {
       "columns": [
        {
         "name": "index",
         "rawType": "int64",
         "type": "integer"
        },
        {
         "name": "laptop_ID",
         "rawType": "int64",
         "type": "integer"
        },
        {
         "name": "Company",
         "rawType": "object",
         "type": "string"
        },
        {
         "name": "Product",
         "rawType": "object",
         "type": "string"
        },
        {
         "name": "TypeName",
         "rawType": "object",
         "type": "string"
        },
        {
         "name": "Inches",
         "rawType": "float64",
         "type": "float"
        },
        {
         "name": "ScreenResolution",
         "rawType": "object",
         "type": "string"
        },
        {
         "name": "Cpu",
         "rawType": "object",
         "type": "string"
        },
        {
         "name": "Ram",
         "rawType": "object",
         "type": "string"
        },
        {
         "name": "Memory",
         "rawType": "object",
         "type": "string"
        },
        {
         "name": "Gpu",
         "rawType": "object",
         "type": "string"
        },
        {
         "name": "OpSys",
         "rawType": "object",
         "type": "string"
        },
        {
         "name": "Weight",
         "rawType": "object",
         "type": "string"
        },
        {
         "name": "Price_euros",
         "rawType": "float64",
         "type": "float"
        }
       ],
       "ref": "99c9014b-6275-4782-a9bc-700c160a447f",
       "rows": [
        [
         "0",
         "1",
         "Apple",
         "MacBook Pro",
         "Ultrabook",
         "13.3",
         "IPS Panel Retina Display 2560x1600",
         "Intel Core i5 2.3GHz",
         "8GB",
         "128GB SSD",
         "Intel Iris Plus Graphics 640",
         "macOS",
         "1.37kg",
         "1339.69"
        ],
        [
         "1",
         "2",
         "Apple",
         "Macbook Air",
         "Ultrabook",
         "13.3",
         "1440x900",
         "Intel Core i5 1.8GHz",
         "8GB",
         "128GB Flash Storage",
         "Intel HD Graphics 6000",
         "macOS",
         "1.34kg",
         "898.94"
        ],
        [
         "2",
         "3",
         "HP",
         "250 G6",
         "Notebook",
         "15.6",
         "Full HD 1920x1080",
         "Intel Core i5 7200U 2.5GHz",
         "8GB",
         "256GB SSD",
         "Intel HD Graphics 620",
         "No OS",
         "1.86kg",
         "575.0"
        ]
       ],
       "shape": {
        "columns": 13,
        "rows": 3
       }
      },
      "text/html": [
       "<div>\n",
       "<style scoped>\n",
       "    .dataframe tbody tr th:only-of-type {\n",
       "        vertical-align: middle;\n",
       "    }\n",
       "\n",
       "    .dataframe tbody tr th {\n",
       "        vertical-align: top;\n",
       "    }\n",
       "\n",
       "    .dataframe thead th {\n",
       "        text-align: right;\n",
       "    }\n",
       "</style>\n",
       "<table border=\"1\" class=\"dataframe\">\n",
       "  <thead>\n",
       "    <tr style=\"text-align: right;\">\n",
       "      <th></th>\n",
       "      <th>laptop_ID</th>\n",
       "      <th>Company</th>\n",
       "      <th>Product</th>\n",
       "      <th>TypeName</th>\n",
       "      <th>Inches</th>\n",
       "      <th>ScreenResolution</th>\n",
       "      <th>Cpu</th>\n",
       "      <th>Ram</th>\n",
       "      <th>Memory</th>\n",
       "      <th>Gpu</th>\n",
       "      <th>OpSys</th>\n",
       "      <th>Weight</th>\n",
       "      <th>Price_euros</th>\n",
       "    </tr>\n",
       "  </thead>\n",
       "  <tbody>\n",
       "    <tr>\n",
       "      <th>0</th>\n",
       "      <td>1</td>\n",
       "      <td>Apple</td>\n",
       "      <td>MacBook Pro</td>\n",
       "      <td>Ultrabook</td>\n",
       "      <td>13.3</td>\n",
       "      <td>IPS Panel Retina Display 2560x1600</td>\n",
       "      <td>Intel Core i5 2.3GHz</td>\n",
       "      <td>8GB</td>\n",
       "      <td>128GB SSD</td>\n",
       "      <td>Intel Iris Plus Graphics 640</td>\n",
       "      <td>macOS</td>\n",
       "      <td>1.37kg</td>\n",
       "      <td>1339.69</td>\n",
       "    </tr>\n",
       "    <tr>\n",
       "      <th>1</th>\n",
       "      <td>2</td>\n",
       "      <td>Apple</td>\n",
       "      <td>Macbook Air</td>\n",
       "      <td>Ultrabook</td>\n",
       "      <td>13.3</td>\n",
       "      <td>1440x900</td>\n",
       "      <td>Intel Core i5 1.8GHz</td>\n",
       "      <td>8GB</td>\n",
       "      <td>128GB Flash Storage</td>\n",
       "      <td>Intel HD Graphics 6000</td>\n",
       "      <td>macOS</td>\n",
       "      <td>1.34kg</td>\n",
       "      <td>898.94</td>\n",
       "    </tr>\n",
       "    <tr>\n",
       "      <th>2</th>\n",
       "      <td>3</td>\n",
       "      <td>HP</td>\n",
       "      <td>250 G6</td>\n",
       "      <td>Notebook</td>\n",
       "      <td>15.6</td>\n",
       "      <td>Full HD 1920x1080</td>\n",
       "      <td>Intel Core i5 7200U 2.5GHz</td>\n",
       "      <td>8GB</td>\n",
       "      <td>256GB SSD</td>\n",
       "      <td>Intel HD Graphics 620</td>\n",
       "      <td>No OS</td>\n",
       "      <td>1.86kg</td>\n",
       "      <td>575.00</td>\n",
       "    </tr>\n",
       "  </tbody>\n",
       "</table>\n",
       "</div>"
      ],
      "text/plain": [
       "   laptop_ID Company      Product   TypeName  Inches  \\\n",
       "0          1   Apple  MacBook Pro  Ultrabook    13.3   \n",
       "1          2   Apple  Macbook Air  Ultrabook    13.3   \n",
       "2          3      HP       250 G6   Notebook    15.6   \n",
       "\n",
       "                     ScreenResolution                         Cpu  Ram  \\\n",
       "0  IPS Panel Retina Display 2560x1600        Intel Core i5 2.3GHz  8GB   \n",
       "1                            1440x900        Intel Core i5 1.8GHz  8GB   \n",
       "2                   Full HD 1920x1080  Intel Core i5 7200U 2.5GHz  8GB   \n",
       "\n",
       "                Memory                           Gpu  OpSys  Weight  \\\n",
       "0            128GB SSD  Intel Iris Plus Graphics 640  macOS  1.37kg   \n",
       "1  128GB Flash Storage        Intel HD Graphics 6000  macOS  1.34kg   \n",
       "2            256GB SSD         Intel HD Graphics 620  No OS  1.86kg   \n",
       "\n",
       "   Price_euros  \n",
       "0      1339.69  \n",
       "1       898.94  \n",
       "2       575.00  "
      ]
     },
     "execution_count": 9,
     "metadata": {},
     "output_type": "execute_result"
    }
   ],
   "source": [
    "df_laptops.head(3)"
   ]
  },
  {
   "cell_type": "markdown",
   "id": "eeafe9f4",
   "metadata": {},
   "source": [
    "# 1 Filter dataframe based on a condition"
   ]
  },
  {
   "cell_type": "code",
   "execution_count": null,
   "id": "8fef93e9",
   "metadata": {},
   "outputs": [
    {
     "data": {
      "application/vnd.microsoft.datawrangler.viewer.v0+json": {
       "columns": [
        {
         "name": "index",
         "rawType": "int64",
         "type": "integer"
        },
        {
         "name": "Company",
         "rawType": "bool",
         "type": "boolean"
        }
       ],
       "ref": "f05be7d2-04af-4bbc-ab7a-e92b4de44824",
       "rows": [
        [
         "0",
         "True"
        ],
        [
         "1",
         "True"
        ],
        [
         "2",
         "False"
        ],
        [
         "3",
         "True"
        ],
        [
         "4",
         "True"
        ],
        [
         "5",
         "False"
        ],
        [
         "6",
         "True"
        ],
        [
         "7",
         "True"
        ],
        [
         "8",
         "False"
        ],
        [
         "9",
         "False"
        ],
        [
         "10",
         "False"
        ],
        [
         "11",
         "False"
        ],
        [
         "12",
         "True"
        ],
        [
         "13",
         "False"
        ],
        [
         "14",
         "True"
        ],
        [
         "15",
         "True"
        ],
        [
         "16",
         "False"
        ],
        [
         "17",
         "True"
        ],
        [
         "18",
         "False"
        ],
        [
         "19",
         "False"
        ],
        [
         "20",
         "False"
        ],
        [
         "21",
         "False"
        ],
        [
         "22",
         "False"
        ],
        [
         "23",
         "False"
        ],
        [
         "24",
         "False"
        ],
        [
         "25",
         "False"
        ],
        [
         "26",
         "True"
        ],
        [
         "27",
         "False"
        ],
        [
         "28",
         "False"
        ],
        [
         "29",
         "False"
        ],
        [
         "30",
         "False"
        ],
        [
         "31",
         "False"
        ],
        [
         "32",
         "False"
        ],
        [
         "33",
         "False"
        ],
        [
         "34",
         "True"
        ],
        [
         "35",
         "False"
        ],
        [
         "36",
         "False"
        ],
        [
         "37",
         "False"
        ],
        [
         "38",
         "False"
        ],
        [
         "39",
         "False"
        ],
        [
         "40",
         "False"
        ],
        [
         "41",
         "False"
        ],
        [
         "42",
         "False"
        ],
        [
         "43",
         "False"
        ],
        [
         "44",
         "False"
        ],
        [
         "45",
         "True"
        ],
        [
         "46",
         "False"
        ],
        [
         "47",
         "False"
        ],
        [
         "48",
         "False"
        ],
        [
         "49",
         "False"
        ]
       ],
       "shape": {
        "columns": 1,
        "rows": 1303
       }
      },
      "text/plain": [
       "0        True\n",
       "1        True\n",
       "2       False\n",
       "3        True\n",
       "4        True\n",
       "        ...  \n",
       "1298    False\n",
       "1299    False\n",
       "1300    False\n",
       "1301    False\n",
       "1302    False\n",
       "Name: Company, Length: 1303, dtype: bool"
      ]
     },
     "execution_count": 12,
     "metadata": {},
     "output_type": "execute_result"
    }
   ],
   "source": [
    "# find which rows have \"Apple\" in the \"Company\" column\n",
    "df_laptops[\"Company\"] == \"Apple\""
   ]
  },
  {
   "cell_type": "code",
   "execution_count": 13,
   "id": "c1003e64",
   "metadata": {},
   "outputs": [
    {
     "data": {
      "application/vnd.microsoft.datawrangler.viewer.v0+json": {
       "columns": [
        {
         "name": "index",
         "rawType": "int64",
         "type": "integer"
        },
        {
         "name": "laptop_ID",
         "rawType": "int64",
         "type": "integer"
        },
        {
         "name": "Company",
         "rawType": "object",
         "type": "string"
        },
        {
         "name": "Product",
         "rawType": "object",
         "type": "string"
        },
        {
         "name": "TypeName",
         "rawType": "object",
         "type": "string"
        },
        {
         "name": "Inches",
         "rawType": "float64",
         "type": "float"
        },
        {
         "name": "ScreenResolution",
         "rawType": "object",
         "type": "string"
        },
        {
         "name": "Cpu",
         "rawType": "object",
         "type": "string"
        },
        {
         "name": "Ram",
         "rawType": "object",
         "type": "string"
        },
        {
         "name": "Memory",
         "rawType": "object",
         "type": "string"
        },
        {
         "name": "Gpu",
         "rawType": "object",
         "type": "string"
        },
        {
         "name": "OpSys",
         "rawType": "object",
         "type": "string"
        },
        {
         "name": "Weight",
         "rawType": "object",
         "type": "string"
        },
        {
         "name": "Price_euros",
         "rawType": "float64",
         "type": "float"
        }
       ],
       "ref": "aa2897ce-e473-4383-a9f4-7ff227fe56da",
       "rows": [
        [
         "0",
         "1",
         "Apple",
         "MacBook Pro",
         "Ultrabook",
         "13.3",
         "IPS Panel Retina Display 2560x1600",
         "Intel Core i5 2.3GHz",
         "8GB",
         "128GB SSD",
         "Intel Iris Plus Graphics 640",
         "macOS",
         "1.37kg",
         "1339.69"
        ],
        [
         "1",
         "2",
         "Apple",
         "Macbook Air",
         "Ultrabook",
         "13.3",
         "1440x900",
         "Intel Core i5 1.8GHz",
         "8GB",
         "128GB Flash Storage",
         "Intel HD Graphics 6000",
         "macOS",
         "1.34kg",
         "898.94"
        ],
        [
         "3",
         "4",
         "Apple",
         "MacBook Pro",
         "Ultrabook",
         "15.4",
         "IPS Panel Retina Display 2880x1800",
         "Intel Core i7 2.7GHz",
         "16GB",
         "512GB SSD",
         "AMD Radeon Pro 455",
         "macOS",
         "1.83kg",
         "2537.45"
        ],
        [
         "4",
         "5",
         "Apple",
         "MacBook Pro",
         "Ultrabook",
         "13.3",
         "IPS Panel Retina Display 2560x1600",
         "Intel Core i5 3.1GHz",
         "8GB",
         "256GB SSD",
         "Intel Iris Plus Graphics 650",
         "macOS",
         "1.37kg",
         "1803.6"
        ],
        [
         "6",
         "7",
         "Apple",
         "MacBook Pro",
         "Ultrabook",
         "15.4",
         "IPS Panel Retina Display 2880x1800",
         "Intel Core i7 2.2GHz",
         "16GB",
         "256GB Flash Storage",
         "Intel Iris Pro Graphics",
         "Mac OS X",
         "2.04kg",
         "2139.97"
        ],
        [
         "7",
         "8",
         "Apple",
         "Macbook Air",
         "Ultrabook",
         "13.3",
         "1440x900",
         "Intel Core i5 1.8GHz",
         "8GB",
         "256GB Flash Storage",
         "Intel HD Graphics 6000",
         "macOS",
         "1.34kg",
         "1158.7"
        ],
        [
         "12",
         "13",
         "Apple",
         "MacBook Pro",
         "Ultrabook",
         "15.4",
         "IPS Panel Retina Display 2880x1800",
         "Intel Core i7 2.8GHz",
         "16GB",
         "256GB SSD",
         "AMD Radeon Pro 555",
         "macOS",
         "1.83kg",
         "2439.97"
        ],
        [
         "14",
         "15",
         "Apple",
         "MacBook 12\"",
         "Ultrabook",
         "12.0",
         "IPS Panel Retina Display 2304x1440",
         "Intel Core M m3 1.2GHz",
         "8GB",
         "256GB SSD",
         "Intel HD Graphics 615",
         "macOS",
         "0.92kg",
         "1262.4"
        ],
        [
         "15",
         "16",
         "Apple",
         "MacBook Pro",
         "Ultrabook",
         "13.3",
         "IPS Panel Retina Display 2560x1600",
         "Intel Core i5 2.3GHz",
         "8GB",
         "256GB SSD",
         "Intel Iris Plus Graphics 640",
         "macOS",
         "1.37kg",
         "1518.55"
        ],
        [
         "17",
         "18",
         "Apple",
         "MacBook Pro",
         "Ultrabook",
         "15.4",
         "IPS Panel Retina Display 2880x1800",
         "Intel Core i7 2.9GHz",
         "16GB",
         "512GB SSD",
         "AMD Radeon Pro 560",
         "macOS",
         "1.83kg",
         "2858.0"
        ],
        [
         "26",
         "27",
         "Apple",
         "MacBook Air",
         "Ultrabook",
         "13.3",
         "1440x900",
         "Intel Core i5 1.6GHz",
         "8GB",
         "128GB Flash Storage",
         "Intel HD Graphics 6000",
         "Mac OS X",
         "1.35kg",
         "1099.0"
        ],
        [
         "34",
         "35",
         "Apple",
         "MacBook Air",
         "Ultrabook",
         "13.3",
         "1440x900",
         "Intel Core i5 1.6GHz",
         "8GB",
         "256GB Flash Storage",
         "Intel HD Graphics 6000",
         "Mac OS X",
         "1.35kg",
         "998.0"
        ],
        [
         "45",
         "46",
         "Apple",
         "MacBook Pro",
         "Ultrabook",
         "13.3",
         "IPS Panel Retina Display 2560x1600",
         "Intel Core i5 2.0GHz",
         "8GB",
         "256GB SSD",
         "Intel Iris Graphics 540",
         "macOS",
         "1.37kg",
         "1419.0"
        ],
        [
         "81",
         "83",
         "Apple",
         "MacBook 12\"",
         "Ultrabook",
         "12.0",
         "IPS Panel Retina Display 2304x1440",
         "Intel Core i5 1.3GHz",
         "8GB",
         "512GB SSD",
         "Intel HD Graphics 615",
         "macOS",
         "0.92kg",
         "1510.0"
        ],
        [
         "249",
         "254",
         "Apple",
         "MacBook Pro",
         "Ultrabook",
         "13.3",
         "IPS Panel Retina Display 2560x1600",
         "Intel Core i5 3.1GHz",
         "8GB",
         "512GB SSD",
         "Intel Iris Plus Graphics 650",
         "macOS",
         "1.37kg",
         "2040.0"
        ],
        [
         "270",
         "275",
         "Apple",
         "MacBook Pro",
         "Ultrabook",
         "13.3",
         "IPS Panel Retina Display 2560x1600",
         "Intel Core i5 2.9GHz",
         "8GB",
         "512GB SSD",
         "Intel Iris Graphics 550",
         "macOS",
         "1.37kg",
         "1958.9"
        ],
        [
         "794",
         "803",
         "Apple",
         "MacBook 12\"",
         "Ultrabook",
         "12.0",
         "IPS Panel Retina Display 2304x1440",
         "Intel Core M 1.2GHz",
         "8GB",
         "512GB Flash Storage",
         "Intel HD Graphics 5300",
         "Mac OS X",
         "0.920kg",
         "1165.0"
        ],
        [
         "1069",
         "1084",
         "Apple",
         "MacBook 12\"",
         "Ultrabook",
         "12.0",
         "IPS Panel Retina Display 2304x1440",
         "Intel Core M 1.1GHz",
         "8GB",
         "256GB Flash Storage",
         "Intel HD Graphics 515",
         "Mac OS X",
         "0.920kg",
         "1300.0"
        ],
        [
         "1193",
         "1211",
         "Apple",
         "MacBook 12\"",
         "Ultrabook",
         "12.0",
         "IPS Panel Retina Display 2304x1440",
         "Intel Core M 1.1GHz",
         "8GB",
         "256GB Flash Storage",
         "Intel HD Graphics 5300",
         "Mac OS X",
         "0.920kg",
         "1163.0"
        ],
        [
         "1210",
         "1228",
         "Apple",
         "MacBook 12\"",
         "Ultrabook",
         "12.0",
         "IPS Panel Retina Display 2304x1440",
         "Intel Core M 1.2GHz",
         "8GB",
         "512GB Flash Storage",
         "Intel HD Graphics 515",
         "Mac OS X",
         "0.920kg",
         "1279.0"
        ],
        [
         "1234",
         "1252",
         "Apple",
         "MacBook Air",
         "Ultrabook",
         "11.6",
         "1366x768",
         "Intel Core i5 1.6GHz",
         "4GB",
         "256GB Flash Storage",
         "Intel HD Graphics 6000",
         "Mac OS X",
         "1.08kg",
         "959.0"
        ]
       ],
       "shape": {
        "columns": 13,
        "rows": 21
       }
      },
      "text/html": [
       "<div>\n",
       "<style scoped>\n",
       "    .dataframe tbody tr th:only-of-type {\n",
       "        vertical-align: middle;\n",
       "    }\n",
       "\n",
       "    .dataframe tbody tr th {\n",
       "        vertical-align: top;\n",
       "    }\n",
       "\n",
       "    .dataframe thead th {\n",
       "        text-align: right;\n",
       "    }\n",
       "</style>\n",
       "<table border=\"1\" class=\"dataframe\">\n",
       "  <thead>\n",
       "    <tr style=\"text-align: right;\">\n",
       "      <th></th>\n",
       "      <th>laptop_ID</th>\n",
       "      <th>Company</th>\n",
       "      <th>Product</th>\n",
       "      <th>TypeName</th>\n",
       "      <th>Inches</th>\n",
       "      <th>ScreenResolution</th>\n",
       "      <th>Cpu</th>\n",
       "      <th>Ram</th>\n",
       "      <th>Memory</th>\n",
       "      <th>Gpu</th>\n",
       "      <th>OpSys</th>\n",
       "      <th>Weight</th>\n",
       "      <th>Price_euros</th>\n",
       "    </tr>\n",
       "  </thead>\n",
       "  <tbody>\n",
       "    <tr>\n",
       "      <th>0</th>\n",
       "      <td>1</td>\n",
       "      <td>Apple</td>\n",
       "      <td>MacBook Pro</td>\n",
       "      <td>Ultrabook</td>\n",
       "      <td>13.3</td>\n",
       "      <td>IPS Panel Retina Display 2560x1600</td>\n",
       "      <td>Intel Core i5 2.3GHz</td>\n",
       "      <td>8GB</td>\n",
       "      <td>128GB SSD</td>\n",
       "      <td>Intel Iris Plus Graphics 640</td>\n",
       "      <td>macOS</td>\n",
       "      <td>1.37kg</td>\n",
       "      <td>1339.69</td>\n",
       "    </tr>\n",
       "    <tr>\n",
       "      <th>1</th>\n",
       "      <td>2</td>\n",
       "      <td>Apple</td>\n",
       "      <td>Macbook Air</td>\n",
       "      <td>Ultrabook</td>\n",
       "      <td>13.3</td>\n",
       "      <td>1440x900</td>\n",
       "      <td>Intel Core i5 1.8GHz</td>\n",
       "      <td>8GB</td>\n",
       "      <td>128GB Flash Storage</td>\n",
       "      <td>Intel HD Graphics 6000</td>\n",
       "      <td>macOS</td>\n",
       "      <td>1.34kg</td>\n",
       "      <td>898.94</td>\n",
       "    </tr>\n",
       "    <tr>\n",
       "      <th>3</th>\n",
       "      <td>4</td>\n",
       "      <td>Apple</td>\n",
       "      <td>MacBook Pro</td>\n",
       "      <td>Ultrabook</td>\n",
       "      <td>15.4</td>\n",
       "      <td>IPS Panel Retina Display 2880x1800</td>\n",
       "      <td>Intel Core i7 2.7GHz</td>\n",
       "      <td>16GB</td>\n",
       "      <td>512GB SSD</td>\n",
       "      <td>AMD Radeon Pro 455</td>\n",
       "      <td>macOS</td>\n",
       "      <td>1.83kg</td>\n",
       "      <td>2537.45</td>\n",
       "    </tr>\n",
       "    <tr>\n",
       "      <th>4</th>\n",
       "      <td>5</td>\n",
       "      <td>Apple</td>\n",
       "      <td>MacBook Pro</td>\n",
       "      <td>Ultrabook</td>\n",
       "      <td>13.3</td>\n",
       "      <td>IPS Panel Retina Display 2560x1600</td>\n",
       "      <td>Intel Core i5 3.1GHz</td>\n",
       "      <td>8GB</td>\n",
       "      <td>256GB SSD</td>\n",
       "      <td>Intel Iris Plus Graphics 650</td>\n",
       "      <td>macOS</td>\n",
       "      <td>1.37kg</td>\n",
       "      <td>1803.60</td>\n",
       "    </tr>\n",
       "    <tr>\n",
       "      <th>6</th>\n",
       "      <td>7</td>\n",
       "      <td>Apple</td>\n",
       "      <td>MacBook Pro</td>\n",
       "      <td>Ultrabook</td>\n",
       "      <td>15.4</td>\n",
       "      <td>IPS Panel Retina Display 2880x1800</td>\n",
       "      <td>Intel Core i7 2.2GHz</td>\n",
       "      <td>16GB</td>\n",
       "      <td>256GB Flash Storage</td>\n",
       "      <td>Intel Iris Pro Graphics</td>\n",
       "      <td>Mac OS X</td>\n",
       "      <td>2.04kg</td>\n",
       "      <td>2139.97</td>\n",
       "    </tr>\n",
       "    <tr>\n",
       "      <th>7</th>\n",
       "      <td>8</td>\n",
       "      <td>Apple</td>\n",
       "      <td>Macbook Air</td>\n",
       "      <td>Ultrabook</td>\n",
       "      <td>13.3</td>\n",
       "      <td>1440x900</td>\n",
       "      <td>Intel Core i5 1.8GHz</td>\n",
       "      <td>8GB</td>\n",
       "      <td>256GB Flash Storage</td>\n",
       "      <td>Intel HD Graphics 6000</td>\n",
       "      <td>macOS</td>\n",
       "      <td>1.34kg</td>\n",
       "      <td>1158.70</td>\n",
       "    </tr>\n",
       "    <tr>\n",
       "      <th>12</th>\n",
       "      <td>13</td>\n",
       "      <td>Apple</td>\n",
       "      <td>MacBook Pro</td>\n",
       "      <td>Ultrabook</td>\n",
       "      <td>15.4</td>\n",
       "      <td>IPS Panel Retina Display 2880x1800</td>\n",
       "      <td>Intel Core i7 2.8GHz</td>\n",
       "      <td>16GB</td>\n",
       "      <td>256GB SSD</td>\n",
       "      <td>AMD Radeon Pro 555</td>\n",
       "      <td>macOS</td>\n",
       "      <td>1.83kg</td>\n",
       "      <td>2439.97</td>\n",
       "    </tr>\n",
       "    <tr>\n",
       "      <th>14</th>\n",
       "      <td>15</td>\n",
       "      <td>Apple</td>\n",
       "      <td>MacBook 12\"</td>\n",
       "      <td>Ultrabook</td>\n",
       "      <td>12.0</td>\n",
       "      <td>IPS Panel Retina Display 2304x1440</td>\n",
       "      <td>Intel Core M m3 1.2GHz</td>\n",
       "      <td>8GB</td>\n",
       "      <td>256GB SSD</td>\n",
       "      <td>Intel HD Graphics 615</td>\n",
       "      <td>macOS</td>\n",
       "      <td>0.92kg</td>\n",
       "      <td>1262.40</td>\n",
       "    </tr>\n",
       "    <tr>\n",
       "      <th>15</th>\n",
       "      <td>16</td>\n",
       "      <td>Apple</td>\n",
       "      <td>MacBook Pro</td>\n",
       "      <td>Ultrabook</td>\n",
       "      <td>13.3</td>\n",
       "      <td>IPS Panel Retina Display 2560x1600</td>\n",
       "      <td>Intel Core i5 2.3GHz</td>\n",
       "      <td>8GB</td>\n",
       "      <td>256GB SSD</td>\n",
       "      <td>Intel Iris Plus Graphics 640</td>\n",
       "      <td>macOS</td>\n",
       "      <td>1.37kg</td>\n",
       "      <td>1518.55</td>\n",
       "    </tr>\n",
       "    <tr>\n",
       "      <th>17</th>\n",
       "      <td>18</td>\n",
       "      <td>Apple</td>\n",
       "      <td>MacBook Pro</td>\n",
       "      <td>Ultrabook</td>\n",
       "      <td>15.4</td>\n",
       "      <td>IPS Panel Retina Display 2880x1800</td>\n",
       "      <td>Intel Core i7 2.9GHz</td>\n",
       "      <td>16GB</td>\n",
       "      <td>512GB SSD</td>\n",
       "      <td>AMD Radeon Pro 560</td>\n",
       "      <td>macOS</td>\n",
       "      <td>1.83kg</td>\n",
       "      <td>2858.00</td>\n",
       "    </tr>\n",
       "    <tr>\n",
       "      <th>26</th>\n",
       "      <td>27</td>\n",
       "      <td>Apple</td>\n",
       "      <td>MacBook Air</td>\n",
       "      <td>Ultrabook</td>\n",
       "      <td>13.3</td>\n",
       "      <td>1440x900</td>\n",
       "      <td>Intel Core i5 1.6GHz</td>\n",
       "      <td>8GB</td>\n",
       "      <td>128GB Flash Storage</td>\n",
       "      <td>Intel HD Graphics 6000</td>\n",
       "      <td>Mac OS X</td>\n",
       "      <td>1.35kg</td>\n",
       "      <td>1099.00</td>\n",
       "    </tr>\n",
       "    <tr>\n",
       "      <th>34</th>\n",
       "      <td>35</td>\n",
       "      <td>Apple</td>\n",
       "      <td>MacBook Air</td>\n",
       "      <td>Ultrabook</td>\n",
       "      <td>13.3</td>\n",
       "      <td>1440x900</td>\n",
       "      <td>Intel Core i5 1.6GHz</td>\n",
       "      <td>8GB</td>\n",
       "      <td>256GB Flash Storage</td>\n",
       "      <td>Intel HD Graphics 6000</td>\n",
       "      <td>Mac OS X</td>\n",
       "      <td>1.35kg</td>\n",
       "      <td>998.00</td>\n",
       "    </tr>\n",
       "    <tr>\n",
       "      <th>45</th>\n",
       "      <td>46</td>\n",
       "      <td>Apple</td>\n",
       "      <td>MacBook Pro</td>\n",
       "      <td>Ultrabook</td>\n",
       "      <td>13.3</td>\n",
       "      <td>IPS Panel Retina Display 2560x1600</td>\n",
       "      <td>Intel Core i5 2.0GHz</td>\n",
       "      <td>8GB</td>\n",
       "      <td>256GB SSD</td>\n",
       "      <td>Intel Iris Graphics 540</td>\n",
       "      <td>macOS</td>\n",
       "      <td>1.37kg</td>\n",
       "      <td>1419.00</td>\n",
       "    </tr>\n",
       "    <tr>\n",
       "      <th>81</th>\n",
       "      <td>83</td>\n",
       "      <td>Apple</td>\n",
       "      <td>MacBook 12\"</td>\n",
       "      <td>Ultrabook</td>\n",
       "      <td>12.0</td>\n",
       "      <td>IPS Panel Retina Display 2304x1440</td>\n",
       "      <td>Intel Core i5 1.3GHz</td>\n",
       "      <td>8GB</td>\n",
       "      <td>512GB SSD</td>\n",
       "      <td>Intel HD Graphics 615</td>\n",
       "      <td>macOS</td>\n",
       "      <td>0.92kg</td>\n",
       "      <td>1510.00</td>\n",
       "    </tr>\n",
       "    <tr>\n",
       "      <th>249</th>\n",
       "      <td>254</td>\n",
       "      <td>Apple</td>\n",
       "      <td>MacBook Pro</td>\n",
       "      <td>Ultrabook</td>\n",
       "      <td>13.3</td>\n",
       "      <td>IPS Panel Retina Display 2560x1600</td>\n",
       "      <td>Intel Core i5 3.1GHz</td>\n",
       "      <td>8GB</td>\n",
       "      <td>512GB SSD</td>\n",
       "      <td>Intel Iris Plus Graphics 650</td>\n",
       "      <td>macOS</td>\n",
       "      <td>1.37kg</td>\n",
       "      <td>2040.00</td>\n",
       "    </tr>\n",
       "    <tr>\n",
       "      <th>270</th>\n",
       "      <td>275</td>\n",
       "      <td>Apple</td>\n",
       "      <td>MacBook Pro</td>\n",
       "      <td>Ultrabook</td>\n",
       "      <td>13.3</td>\n",
       "      <td>IPS Panel Retina Display 2560x1600</td>\n",
       "      <td>Intel Core i5 2.9GHz</td>\n",
       "      <td>8GB</td>\n",
       "      <td>512GB SSD</td>\n",
       "      <td>Intel Iris Graphics 550</td>\n",
       "      <td>macOS</td>\n",
       "      <td>1.37kg</td>\n",
       "      <td>1958.90</td>\n",
       "    </tr>\n",
       "    <tr>\n",
       "      <th>794</th>\n",
       "      <td>803</td>\n",
       "      <td>Apple</td>\n",
       "      <td>MacBook 12\"</td>\n",
       "      <td>Ultrabook</td>\n",
       "      <td>12.0</td>\n",
       "      <td>IPS Panel Retina Display 2304x1440</td>\n",
       "      <td>Intel Core M 1.2GHz</td>\n",
       "      <td>8GB</td>\n",
       "      <td>512GB Flash Storage</td>\n",
       "      <td>Intel HD Graphics 5300</td>\n",
       "      <td>Mac OS X</td>\n",
       "      <td>0.920kg</td>\n",
       "      <td>1165.00</td>\n",
       "    </tr>\n",
       "    <tr>\n",
       "      <th>1069</th>\n",
       "      <td>1084</td>\n",
       "      <td>Apple</td>\n",
       "      <td>MacBook 12\"</td>\n",
       "      <td>Ultrabook</td>\n",
       "      <td>12.0</td>\n",
       "      <td>IPS Panel Retina Display 2304x1440</td>\n",
       "      <td>Intel Core M 1.1GHz</td>\n",
       "      <td>8GB</td>\n",
       "      <td>256GB Flash Storage</td>\n",
       "      <td>Intel HD Graphics 515</td>\n",
       "      <td>Mac OS X</td>\n",
       "      <td>0.920kg</td>\n",
       "      <td>1300.00</td>\n",
       "    </tr>\n",
       "    <tr>\n",
       "      <th>1193</th>\n",
       "      <td>1211</td>\n",
       "      <td>Apple</td>\n",
       "      <td>MacBook 12\"</td>\n",
       "      <td>Ultrabook</td>\n",
       "      <td>12.0</td>\n",
       "      <td>IPS Panel Retina Display 2304x1440</td>\n",
       "      <td>Intel Core M 1.1GHz</td>\n",
       "      <td>8GB</td>\n",
       "      <td>256GB Flash Storage</td>\n",
       "      <td>Intel HD Graphics 5300</td>\n",
       "      <td>Mac OS X</td>\n",
       "      <td>0.920kg</td>\n",
       "      <td>1163.00</td>\n",
       "    </tr>\n",
       "    <tr>\n",
       "      <th>1210</th>\n",
       "      <td>1228</td>\n",
       "      <td>Apple</td>\n",
       "      <td>MacBook 12\"</td>\n",
       "      <td>Ultrabook</td>\n",
       "      <td>12.0</td>\n",
       "      <td>IPS Panel Retina Display 2304x1440</td>\n",
       "      <td>Intel Core M 1.2GHz</td>\n",
       "      <td>8GB</td>\n",
       "      <td>512GB Flash Storage</td>\n",
       "      <td>Intel HD Graphics 515</td>\n",
       "      <td>Mac OS X</td>\n",
       "      <td>0.920kg</td>\n",
       "      <td>1279.00</td>\n",
       "    </tr>\n",
       "    <tr>\n",
       "      <th>1234</th>\n",
       "      <td>1252</td>\n",
       "      <td>Apple</td>\n",
       "      <td>MacBook Air</td>\n",
       "      <td>Ultrabook</td>\n",
       "      <td>11.6</td>\n",
       "      <td>1366x768</td>\n",
       "      <td>Intel Core i5 1.6GHz</td>\n",
       "      <td>4GB</td>\n",
       "      <td>256GB Flash Storage</td>\n",
       "      <td>Intel HD Graphics 6000</td>\n",
       "      <td>Mac OS X</td>\n",
       "      <td>1.08kg</td>\n",
       "      <td>959.00</td>\n",
       "    </tr>\n",
       "  </tbody>\n",
       "</table>\n",
       "</div>"
      ],
      "text/plain": [
       "      laptop_ID Company      Product   TypeName  Inches  \\\n",
       "0             1   Apple  MacBook Pro  Ultrabook    13.3   \n",
       "1             2   Apple  Macbook Air  Ultrabook    13.3   \n",
       "3             4   Apple  MacBook Pro  Ultrabook    15.4   \n",
       "4             5   Apple  MacBook Pro  Ultrabook    13.3   \n",
       "6             7   Apple  MacBook Pro  Ultrabook    15.4   \n",
       "7             8   Apple  Macbook Air  Ultrabook    13.3   \n",
       "12           13   Apple  MacBook Pro  Ultrabook    15.4   \n",
       "14           15   Apple  MacBook 12\"  Ultrabook    12.0   \n",
       "15           16   Apple  MacBook Pro  Ultrabook    13.3   \n",
       "17           18   Apple  MacBook Pro  Ultrabook    15.4   \n",
       "26           27   Apple  MacBook Air  Ultrabook    13.3   \n",
       "34           35   Apple  MacBook Air  Ultrabook    13.3   \n",
       "45           46   Apple  MacBook Pro  Ultrabook    13.3   \n",
       "81           83   Apple  MacBook 12\"  Ultrabook    12.0   \n",
       "249         254   Apple  MacBook Pro  Ultrabook    13.3   \n",
       "270         275   Apple  MacBook Pro  Ultrabook    13.3   \n",
       "794         803   Apple  MacBook 12\"  Ultrabook    12.0   \n",
       "1069       1084   Apple  MacBook 12\"  Ultrabook    12.0   \n",
       "1193       1211   Apple  MacBook 12\"  Ultrabook    12.0   \n",
       "1210       1228   Apple  MacBook 12\"  Ultrabook    12.0   \n",
       "1234       1252   Apple  MacBook Air  Ultrabook    11.6   \n",
       "\n",
       "                        ScreenResolution                     Cpu   Ram  \\\n",
       "0     IPS Panel Retina Display 2560x1600    Intel Core i5 2.3GHz   8GB   \n",
       "1                               1440x900    Intel Core i5 1.8GHz   8GB   \n",
       "3     IPS Panel Retina Display 2880x1800    Intel Core i7 2.7GHz  16GB   \n",
       "4     IPS Panel Retina Display 2560x1600    Intel Core i5 3.1GHz   8GB   \n",
       "6     IPS Panel Retina Display 2880x1800    Intel Core i7 2.2GHz  16GB   \n",
       "7                               1440x900    Intel Core i5 1.8GHz   8GB   \n",
       "12    IPS Panel Retina Display 2880x1800    Intel Core i7 2.8GHz  16GB   \n",
       "14    IPS Panel Retina Display 2304x1440  Intel Core M m3 1.2GHz   8GB   \n",
       "15    IPS Panel Retina Display 2560x1600    Intel Core i5 2.3GHz   8GB   \n",
       "17    IPS Panel Retina Display 2880x1800    Intel Core i7 2.9GHz  16GB   \n",
       "26                              1440x900    Intel Core i5 1.6GHz   8GB   \n",
       "34                              1440x900    Intel Core i5 1.6GHz   8GB   \n",
       "45    IPS Panel Retina Display 2560x1600    Intel Core i5 2.0GHz   8GB   \n",
       "81    IPS Panel Retina Display 2304x1440    Intel Core i5 1.3GHz   8GB   \n",
       "249   IPS Panel Retina Display 2560x1600    Intel Core i5 3.1GHz   8GB   \n",
       "270   IPS Panel Retina Display 2560x1600    Intel Core i5 2.9GHz   8GB   \n",
       "794   IPS Panel Retina Display 2304x1440     Intel Core M 1.2GHz   8GB   \n",
       "1069  IPS Panel Retina Display 2304x1440     Intel Core M 1.1GHz   8GB   \n",
       "1193  IPS Panel Retina Display 2304x1440     Intel Core M 1.1GHz   8GB   \n",
       "1210  IPS Panel Retina Display 2304x1440     Intel Core M 1.2GHz   8GB   \n",
       "1234                            1366x768    Intel Core i5 1.6GHz   4GB   \n",
       "\n",
       "                   Memory                           Gpu     OpSys   Weight  \\\n",
       "0               128GB SSD  Intel Iris Plus Graphics 640     macOS   1.37kg   \n",
       "1     128GB Flash Storage        Intel HD Graphics 6000     macOS   1.34kg   \n",
       "3               512GB SSD            AMD Radeon Pro 455     macOS   1.83kg   \n",
       "4               256GB SSD  Intel Iris Plus Graphics 650     macOS   1.37kg   \n",
       "6     256GB Flash Storage       Intel Iris Pro Graphics  Mac OS X   2.04kg   \n",
       "7     256GB Flash Storage        Intel HD Graphics 6000     macOS   1.34kg   \n",
       "12              256GB SSD            AMD Radeon Pro 555     macOS   1.83kg   \n",
       "14              256GB SSD         Intel HD Graphics 615     macOS   0.92kg   \n",
       "15              256GB SSD  Intel Iris Plus Graphics 640     macOS   1.37kg   \n",
       "17              512GB SSD            AMD Radeon Pro 560     macOS   1.83kg   \n",
       "26    128GB Flash Storage        Intel HD Graphics 6000  Mac OS X   1.35kg   \n",
       "34    256GB Flash Storage        Intel HD Graphics 6000  Mac OS X   1.35kg   \n",
       "45              256GB SSD       Intel Iris Graphics 540     macOS   1.37kg   \n",
       "81              512GB SSD         Intel HD Graphics 615     macOS   0.92kg   \n",
       "249             512GB SSD  Intel Iris Plus Graphics 650     macOS   1.37kg   \n",
       "270             512GB SSD       Intel Iris Graphics 550     macOS   1.37kg   \n",
       "794   512GB Flash Storage        Intel HD Graphics 5300  Mac OS X  0.920kg   \n",
       "1069  256GB Flash Storage         Intel HD Graphics 515  Mac OS X  0.920kg   \n",
       "1193  256GB Flash Storage        Intel HD Graphics 5300  Mac OS X  0.920kg   \n",
       "1210  512GB Flash Storage         Intel HD Graphics 515  Mac OS X  0.920kg   \n",
       "1234  256GB Flash Storage        Intel HD Graphics 6000  Mac OS X   1.08kg   \n",
       "\n",
       "      Price_euros  \n",
       "0         1339.69  \n",
       "1          898.94  \n",
       "3         2537.45  \n",
       "4         1803.60  \n",
       "6         2139.97  \n",
       "7         1158.70  \n",
       "12        2439.97  \n",
       "14        1262.40  \n",
       "15        1518.55  \n",
       "17        2858.00  \n",
       "26        1099.00  \n",
       "34         998.00  \n",
       "45        1419.00  \n",
       "81        1510.00  \n",
       "249       2040.00  \n",
       "270       1958.90  \n",
       "794       1165.00  \n",
       "1069      1300.00  \n",
       "1193      1163.00  \n",
       "1210      1279.00  \n",
       "1234       959.00  "
      ]
     },
     "execution_count": 13,
     "metadata": {},
     "output_type": "execute_result"
    }
   ],
   "source": [
    "# filter dataframe based on condition\n",
    "df_laptops[df_laptops[\"Company\"] == \"Apple\"]"
   ]
  },
  {
   "cell_type": "code",
   "execution_count": 15,
   "id": "f9a5315b",
   "metadata": {},
   "outputs": [
    {
     "data": {
      "application/vnd.microsoft.datawrangler.viewer.v0+json": {
       "columns": [
        {
         "name": "Company",
         "rawType": "object",
         "type": "string"
        },
        {
         "name": "count",
         "rawType": "int64",
         "type": "integer"
        }
       ],
       "ref": "8d201e17-2ac2-4f59-ae93-7a976c02f66f",
       "rows": [
        [
         "Dell",
         "297"
        ],
        [
         "Lenovo",
         "297"
        ],
        [
         "HP",
         "274"
        ],
        [
         "Asus",
         "158"
        ],
        [
         "Acer",
         "103"
        ],
        [
         "MSI",
         "54"
        ],
        [
         "Toshiba",
         "48"
        ],
        [
         "Apple",
         "21"
        ],
        [
         "Samsung",
         "9"
        ],
        [
         "Razer",
         "7"
        ],
        [
         "Mediacom",
         "7"
        ],
        [
         "Microsoft",
         "6"
        ],
        [
         "Xiaomi",
         "4"
        ],
        [
         "Vero",
         "4"
        ],
        [
         "Chuwi",
         "3"
        ],
        [
         "Google",
         "3"
        ],
        [
         "Fujitsu",
         "3"
        ],
        [
         "LG",
         "3"
        ],
        [
         "Huawei",
         "2"
        ]
       ],
       "shape": {
        "columns": 1,
        "rows": 19
       }
      },
      "text/plain": [
       "Company\n",
       "Dell         297\n",
       "Lenovo       297\n",
       "HP           274\n",
       "Asus         158\n",
       "Acer         103\n",
       "MSI           54\n",
       "Toshiba       48\n",
       "Apple         21\n",
       "Samsung        9\n",
       "Razer          7\n",
       "Mediacom       7\n",
       "Microsoft      6\n",
       "Xiaomi         4\n",
       "Vero           4\n",
       "Chuwi          3\n",
       "Google         3\n",
       "Fujitsu        3\n",
       "LG             3\n",
       "Huawei         2\n",
       "Name: count, dtype: int64"
      ]
     },
     "execution_count": 15,
     "metadata": {},
     "output_type": "execute_result"
    }
   ],
   "source": [
    "# verify which companies are in the \"Company\" column with value_count()\n",
    "df_laptops[\"Company\"].value_counts()"
   ]
  },
  {
   "cell_type": "markdown",
   "id": "844c5609",
   "metadata": {},
   "source": [
    "## 1.1 Exercise 1"
   ]
  },
  {
   "cell_type": "code",
   "execution_count": 19,
   "id": "9c0f7059",
   "metadata": {},
   "outputs": [
    {
     "data": {
      "application/vnd.microsoft.datawrangler.viewer.v0+json": {
       "columns": [
        {
         "name": "Company",
         "rawType": "object",
         "type": "string"
        },
        {
         "name": "count",
         "rawType": "int64",
         "type": "integer"
        }
       ],
       "ref": "e3e0c4c1-1133-4fc4-b5c0-1122d7ea43bb",
       "rows": [
        [
         "Lenovo",
         "297"
        ],
        [
         "Dell",
         "297"
        ],
        [
         "Asus",
         "158"
        ],
        [
         "Acer",
         "103"
        ],
        [
         "MSI",
         "54"
        ],
        [
         "Toshiba",
         "48"
        ],
        [
         "Apple",
         "21"
        ],
        [
         "Samsung",
         "9"
        ],
        [
         "Mediacom",
         "7"
        ],
        [
         "Razer",
         "7"
        ],
        [
         "Microsoft",
         "6"
        ],
        [
         "Vero",
         "4"
        ],
        [
         "Xiaomi",
         "4"
        ],
        [
         "Chuwi",
         "3"
        ],
        [
         "Fujitsu",
         "3"
        ],
        [
         "Google",
         "3"
        ],
        [
         "LG",
         "3"
        ],
        [
         "Huawei",
         "2"
        ]
       ],
       "shape": {
        "columns": 1,
        "rows": 18
       }
      },
      "text/plain": [
       "Company\n",
       "Lenovo       297\n",
       "Dell         297\n",
       "Asus         158\n",
       "Acer         103\n",
       "MSI           54\n",
       "Toshiba       48\n",
       "Apple         21\n",
       "Samsung        9\n",
       "Mediacom       7\n",
       "Razer          7\n",
       "Microsoft      6\n",
       "Vero           4\n",
       "Xiaomi         4\n",
       "Chuwi          3\n",
       "Fujitsu        3\n",
       "Google         3\n",
       "LG             3\n",
       "Huawei         2\n",
       "Name: count, dtype: int64"
      ]
     },
     "execution_count": 19,
     "metadata": {},
     "output_type": "execute_result"
    }
   ],
   "source": [
    "# find which rows don't have \"HP\" in the \"Company\" column\n",
    "df_laptops[df_laptops[\"Company\"] != \"HP\"].value_counts('Company')"
   ]
  },
  {
   "cell_type": "markdown",
   "id": "4a61146d",
   "metadata": {},
   "source": [
    "## 1.2 Exercise 2"
   ]
  },
  {
   "cell_type": "code",
   "execution_count": 22,
   "id": "565c1dc7",
   "metadata": {},
   "outputs": [
    {
     "data": {
      "application/vnd.microsoft.datawrangler.viewer.v0+json": {
       "columns": [
        {
         "name": "Company",
         "rawType": "object",
         "type": "string"
        },
        {
         "name": "count",
         "rawType": "int64",
         "type": "integer"
        }
       ],
       "ref": "5c23c791-47ce-4a47-ab02-abaef09a9e05",
       "rows": [
        [
         "Dell",
         "34"
        ],
        [
         "Lenovo",
         "32"
        ],
        [
         "HP",
         "20"
        ],
        [
         "MSI",
         "19"
        ],
        [
         "Asus",
         "14"
        ],
        [
         "Apple",
         "5"
        ],
        [
         "Razer",
         "5"
        ],
        [
         "Acer",
         "2"
        ],
        [
         "LG",
         "2"
        ],
        [
         "Toshiba",
         "2"
        ],
        [
         "Google",
         "1"
        ],
        [
         "Microsoft",
         "1"
        ]
       ],
       "shape": {
        "columns": 1,
        "rows": 12
       }
      },
      "text/plain": [
       "Company\n",
       "Dell         34\n",
       "Lenovo       32\n",
       "HP           20\n",
       "MSI          19\n",
       "Asus         14\n",
       "Apple         5\n",
       "Razer         5\n",
       "Acer          2\n",
       "LG            2\n",
       "Toshiba       2\n",
       "Google        1\n",
       "Microsoft     1\n",
       "Name: count, dtype: int64"
      ]
     },
     "execution_count": 22,
     "metadata": {},
     "output_type": "execute_result"
    }
   ],
   "source": [
    "# find laptops with price over 2000 euros\n",
    "df_laptops[df_laptops[\"Price_euros\"] > 2000].value_counts('Company')"
   ]
  }
 ],
 "metadata": {
  "kernelspec": {
   "display_name": ".venv",
   "language": "python",
   "name": "python3"
  },
  "language_info": {
   "codemirror_mode": {
    "name": "ipython",
    "version": 3
   },
   "file_extension": ".py",
   "mimetype": "text/x-python",
   "name": "python",
   "nbconvert_exporter": "python",
   "pygments_lexer": "ipython3",
   "version": "3.10.8"
  }
 },
 "nbformat": 4,
 "nbformat_minor": 5
}
