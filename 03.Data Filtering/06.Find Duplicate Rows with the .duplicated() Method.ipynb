{
 "cells": [
  {
   "cell_type": "code",
   "execution_count": 1,
   "id": "547c4b08",
   "metadata": {},
   "outputs": [],
   "source": [
    "import pandas as pd"
   ]
  },
  {
   "cell_type": "code",
   "execution_count": 3,
   "id": "89cb3609",
   "metadata": {},
   "outputs": [],
   "source": [
    "df_laptops = pd.read_csv('laptop_price.csv', encoding='latin1')"
   ]
  },
  {
   "cell_type": "code",
   "execution_count": 4,
   "id": "084c128e",
   "metadata": {},
   "outputs": [
    {
     "data": {
      "application/vnd.microsoft.datawrangler.viewer.v0+json": {
       "columns": [
        {
         "name": "index",
         "rawType": "int64",
         "type": "integer"
        },
        {
         "name": "laptop_ID",
         "rawType": "int64",
         "type": "integer"
        },
        {
         "name": "Company",
         "rawType": "object",
         "type": "string"
        },
        {
         "name": "Product",
         "rawType": "object",
         "type": "string"
        },
        {
         "name": "TypeName",
         "rawType": "object",
         "type": "string"
        },
        {
         "name": "Inches",
         "rawType": "float64",
         "type": "float"
        },
        {
         "name": "ScreenResolution",
         "rawType": "object",
         "type": "string"
        },
        {
         "name": "Cpu",
         "rawType": "object",
         "type": "string"
        },
        {
         "name": "Ram",
         "rawType": "object",
         "type": "string"
        },
        {
         "name": "Memory",
         "rawType": "object",
         "type": "string"
        },
        {
         "name": "Gpu",
         "rawType": "object",
         "type": "string"
        },
        {
         "name": "OpSys",
         "rawType": "object",
         "type": "string"
        },
        {
         "name": "Weight",
         "rawType": "object",
         "type": "string"
        },
        {
         "name": "Price_euros",
         "rawType": "float64",
         "type": "float"
        }
       ],
       "ref": "029e2bfb-230c-4dcb-9ee3-e1ca6a261a6a",
       "rows": [
        [
         "0",
         "1",
         "Apple",
         "MacBook Pro",
         "Ultrabook",
         "13.3",
         "IPS Panel Retina Display 2560x1600",
         "Intel Core i5 2.3GHz",
         "8GB",
         "128GB SSD",
         "Intel Iris Plus Graphics 640",
         "macOS",
         "1.37kg",
         "1339.69"
        ],
        [
         "1",
         "2",
         "Apple",
         "Macbook Air",
         "Ultrabook",
         "13.3",
         "1440x900",
         "Intel Core i5 1.8GHz",
         "8GB",
         "128GB Flash Storage",
         "Intel HD Graphics 6000",
         "macOS",
         "1.34kg",
         "898.94"
        ],
        [
         "2",
         "3",
         "HP",
         "250 G6",
         "Notebook",
         "15.6",
         "Full HD 1920x1080",
         "Intel Core i5 7200U 2.5GHz",
         "8GB",
         "256GB SSD",
         "Intel HD Graphics 620",
         "No OS",
         "1.86kg",
         "575.0"
        ]
       ],
       "shape": {
        "columns": 13,
        "rows": 3
       }
      },
      "text/html": [
       "<div>\n",
       "<style scoped>\n",
       "    .dataframe tbody tr th:only-of-type {\n",
       "        vertical-align: middle;\n",
       "    }\n",
       "\n",
       "    .dataframe tbody tr th {\n",
       "        vertical-align: top;\n",
       "    }\n",
       "\n",
       "    .dataframe thead th {\n",
       "        text-align: right;\n",
       "    }\n",
       "</style>\n",
       "<table border=\"1\" class=\"dataframe\">\n",
       "  <thead>\n",
       "    <tr style=\"text-align: right;\">\n",
       "      <th></th>\n",
       "      <th>laptop_ID</th>\n",
       "      <th>Company</th>\n",
       "      <th>Product</th>\n",
       "      <th>TypeName</th>\n",
       "      <th>Inches</th>\n",
       "      <th>ScreenResolution</th>\n",
       "      <th>Cpu</th>\n",
       "      <th>Ram</th>\n",
       "      <th>Memory</th>\n",
       "      <th>Gpu</th>\n",
       "      <th>OpSys</th>\n",
       "      <th>Weight</th>\n",
       "      <th>Price_euros</th>\n",
       "    </tr>\n",
       "  </thead>\n",
       "  <tbody>\n",
       "    <tr>\n",
       "      <th>0</th>\n",
       "      <td>1</td>\n",
       "      <td>Apple</td>\n",
       "      <td>MacBook Pro</td>\n",
       "      <td>Ultrabook</td>\n",
       "      <td>13.3</td>\n",
       "      <td>IPS Panel Retina Display 2560x1600</td>\n",
       "      <td>Intel Core i5 2.3GHz</td>\n",
       "      <td>8GB</td>\n",
       "      <td>128GB SSD</td>\n",
       "      <td>Intel Iris Plus Graphics 640</td>\n",
       "      <td>macOS</td>\n",
       "      <td>1.37kg</td>\n",
       "      <td>1339.69</td>\n",
       "    </tr>\n",
       "    <tr>\n",
       "      <th>1</th>\n",
       "      <td>2</td>\n",
       "      <td>Apple</td>\n",
       "      <td>Macbook Air</td>\n",
       "      <td>Ultrabook</td>\n",
       "      <td>13.3</td>\n",
       "      <td>1440x900</td>\n",
       "      <td>Intel Core i5 1.8GHz</td>\n",
       "      <td>8GB</td>\n",
       "      <td>128GB Flash Storage</td>\n",
       "      <td>Intel HD Graphics 6000</td>\n",
       "      <td>macOS</td>\n",
       "      <td>1.34kg</td>\n",
       "      <td>898.94</td>\n",
       "    </tr>\n",
       "    <tr>\n",
       "      <th>2</th>\n",
       "      <td>3</td>\n",
       "      <td>HP</td>\n",
       "      <td>250 G6</td>\n",
       "      <td>Notebook</td>\n",
       "      <td>15.6</td>\n",
       "      <td>Full HD 1920x1080</td>\n",
       "      <td>Intel Core i5 7200U 2.5GHz</td>\n",
       "      <td>8GB</td>\n",
       "      <td>256GB SSD</td>\n",
       "      <td>Intel HD Graphics 620</td>\n",
       "      <td>No OS</td>\n",
       "      <td>1.86kg</td>\n",
       "      <td>575.00</td>\n",
       "    </tr>\n",
       "  </tbody>\n",
       "</table>\n",
       "</div>"
      ],
      "text/plain": [
       "   laptop_ID Company      Product   TypeName  Inches  \\\n",
       "0          1   Apple  MacBook Pro  Ultrabook    13.3   \n",
       "1          2   Apple  Macbook Air  Ultrabook    13.3   \n",
       "2          3      HP       250 G6   Notebook    15.6   \n",
       "\n",
       "                     ScreenResolution                         Cpu  Ram  \\\n",
       "0  IPS Panel Retina Display 2560x1600        Intel Core i5 2.3GHz  8GB   \n",
       "1                            1440x900        Intel Core i5 1.8GHz  8GB   \n",
       "2                   Full HD 1920x1080  Intel Core i5 7200U 2.5GHz  8GB   \n",
       "\n",
       "                Memory                           Gpu  OpSys  Weight  \\\n",
       "0            128GB SSD  Intel Iris Plus Graphics 640  macOS  1.37kg   \n",
       "1  128GB Flash Storage        Intel HD Graphics 6000  macOS  1.34kg   \n",
       "2            256GB SSD         Intel HD Graphics 620  No OS  1.86kg   \n",
       "\n",
       "   Price_euros  \n",
       "0      1339.69  \n",
       "1       898.94  \n",
       "2       575.00  "
      ]
     },
     "execution_count": 4,
     "metadata": {},
     "output_type": "execute_result"
    }
   ],
   "source": [
    "df_laptops.head(3)"
   ]
  },
  {
   "cell_type": "markdown",
   "id": "dd8dee53",
   "metadata": {},
   "source": [
    "# 1 duplicated()"
   ]
  },
  {
   "cell_type": "markdown",
   "id": "25891a9f",
   "metadata": {},
   "source": [
    "## 1.1 Example 1"
   ]
  },
  {
   "cell_type": "code",
   "execution_count": 5,
   "id": "cc7d8811",
   "metadata": {},
   "outputs": [
    {
     "data": {
      "application/vnd.microsoft.datawrangler.viewer.v0+json": {
       "columns": [
        {
         "name": "index",
         "rawType": "int64",
         "type": "integer"
        },
        {
         "name": "0",
         "rawType": "bool",
         "type": "boolean"
        }
       ],
       "ref": "f29d7bfe-3a89-4da5-b945-721f32fdc2e6",
       "rows": [
        [
         "0",
         "False"
        ],
        [
         "1",
         "False"
        ],
        [
         "2",
         "False"
        ],
        [
         "3",
         "False"
        ],
        [
         "4",
         "False"
        ],
        [
         "5",
         "False"
        ],
        [
         "6",
         "False"
        ],
        [
         "7",
         "False"
        ],
        [
         "8",
         "False"
        ],
        [
         "9",
         "False"
        ],
        [
         "10",
         "False"
        ],
        [
         "11",
         "False"
        ],
        [
         "12",
         "False"
        ],
        [
         "13",
         "False"
        ],
        [
         "14",
         "False"
        ],
        [
         "15",
         "False"
        ],
        [
         "16",
         "False"
        ],
        [
         "17",
         "False"
        ],
        [
         "18",
         "False"
        ],
        [
         "19",
         "False"
        ],
        [
         "20",
         "False"
        ],
        [
         "21",
         "False"
        ],
        [
         "22",
         "False"
        ],
        [
         "23",
         "False"
        ],
        [
         "24",
         "False"
        ],
        [
         "25",
         "False"
        ],
        [
         "26",
         "False"
        ],
        [
         "27",
         "False"
        ],
        [
         "28",
         "False"
        ],
        [
         "29",
         "False"
        ],
        [
         "30",
         "False"
        ],
        [
         "31",
         "False"
        ],
        [
         "32",
         "False"
        ],
        [
         "33",
         "False"
        ],
        [
         "34",
         "False"
        ],
        [
         "35",
         "False"
        ],
        [
         "36",
         "False"
        ],
        [
         "37",
         "False"
        ],
        [
         "38",
         "False"
        ],
        [
         "39",
         "False"
        ],
        [
         "40",
         "False"
        ],
        [
         "41",
         "False"
        ],
        [
         "42",
         "False"
        ],
        [
         "43",
         "False"
        ],
        [
         "44",
         "False"
        ],
        [
         "45",
         "False"
        ],
        [
         "46",
         "False"
        ],
        [
         "47",
         "False"
        ],
        [
         "48",
         "False"
        ],
        [
         "49",
         "False"
        ]
       ],
       "shape": {
        "columns": 1,
        "rows": 1303
       }
      },
      "text/plain": [
       "0       False\n",
       "1       False\n",
       "2       False\n",
       "3       False\n",
       "4       False\n",
       "        ...  \n",
       "1298    False\n",
       "1299    False\n",
       "1300    False\n",
       "1301    False\n",
       "1302    False\n",
       "Length: 1303, dtype: bool"
      ]
     },
     "execution_count": 5,
     "metadata": {},
     "output_type": "execute_result"
    }
   ],
   "source": [
    "# find duplicates in 1 column/series\n",
    "df_laptops.duplicated('laptop_ID')"
   ]
  },
  {
   "cell_type": "code",
   "execution_count": 6,
   "id": "765dbc37",
   "metadata": {},
   "outputs": [
    {
     "data": {
      "application/vnd.microsoft.datawrangler.viewer.v0+json": {
       "columns": [
        {
         "name": "index",
         "rawType": "int64",
         "type": "integer"
        },
        {
         "name": "laptop_ID",
         "rawType": "int64",
         "type": "integer"
        },
        {
         "name": "Company",
         "rawType": "object",
         "type": "string"
        },
        {
         "name": "Product",
         "rawType": "object",
         "type": "string"
        },
        {
         "name": "TypeName",
         "rawType": "object",
         "type": "string"
        },
        {
         "name": "Inches",
         "rawType": "float64",
         "type": "float"
        },
        {
         "name": "ScreenResolution",
         "rawType": "object",
         "type": "string"
        },
        {
         "name": "Cpu",
         "rawType": "object",
         "type": "string"
        },
        {
         "name": "Ram",
         "rawType": "object",
         "type": "string"
        },
        {
         "name": "Memory",
         "rawType": "object",
         "type": "string"
        },
        {
         "name": "Gpu",
         "rawType": "object",
         "type": "string"
        },
        {
         "name": "OpSys",
         "rawType": "object",
         "type": "string"
        },
        {
         "name": "Weight",
         "rawType": "object",
         "type": "string"
        },
        {
         "name": "Price_euros",
         "rawType": "float64",
         "type": "float"
        }
       ],
       "ref": "d4cb7545-5b0a-481f-a083-f70cb6ff281d",
       "rows": [],
       "shape": {
        "columns": 13,
        "rows": 0
       }
      },
      "text/html": [
       "<div>\n",
       "<style scoped>\n",
       "    .dataframe tbody tr th:only-of-type {\n",
       "        vertical-align: middle;\n",
       "    }\n",
       "\n",
       "    .dataframe tbody tr th {\n",
       "        vertical-align: top;\n",
       "    }\n",
       "\n",
       "    .dataframe thead th {\n",
       "        text-align: right;\n",
       "    }\n",
       "</style>\n",
       "<table border=\"1\" class=\"dataframe\">\n",
       "  <thead>\n",
       "    <tr style=\"text-align: right;\">\n",
       "      <th></th>\n",
       "      <th>laptop_ID</th>\n",
       "      <th>Company</th>\n",
       "      <th>Product</th>\n",
       "      <th>TypeName</th>\n",
       "      <th>Inches</th>\n",
       "      <th>ScreenResolution</th>\n",
       "      <th>Cpu</th>\n",
       "      <th>Ram</th>\n",
       "      <th>Memory</th>\n",
       "      <th>Gpu</th>\n",
       "      <th>OpSys</th>\n",
       "      <th>Weight</th>\n",
       "      <th>Price_euros</th>\n",
       "    </tr>\n",
       "  </thead>\n",
       "  <tbody>\n",
       "  </tbody>\n",
       "</table>\n",
       "</div>"
      ],
      "text/plain": [
       "Empty DataFrame\n",
       "Columns: [laptop_ID, Company, Product, TypeName, Inches, ScreenResolution, Cpu, Ram, Memory, Gpu, OpSys, Weight, Price_euros]\n",
       "Index: []"
      ]
     },
     "execution_count": 6,
     "metadata": {},
     "output_type": "execute_result"
    }
   ],
   "source": [
    "# show elements in dataframe with duplicates in column 'laptop_ID'\n",
    "df_laptops[df_laptops.duplicated('laptop_ID')]"
   ]
  },
  {
   "cell_type": "code",
   "execution_count": 7,
   "id": "83c99db1",
   "metadata": {},
   "outputs": [
    {
     "data": {
      "application/vnd.microsoft.datawrangler.viewer.v0+json": {
       "columns": [
        {
         "name": "index",
         "rawType": "int64",
         "type": "integer"
        },
        {
         "name": "0",
         "rawType": "bool",
         "type": "boolean"
        }
       ],
       "ref": "856c80ed-9e30-4e55-9be1-fcdf896a7ca5",
       "rows": [
        [
         "0",
         "False"
        ],
        [
         "1",
         "False"
        ],
        [
         "2",
         "False"
        ],
        [
         "3",
         "False"
        ],
        [
         "4",
         "True"
        ],
        [
         "5",
         "False"
        ],
        [
         "6",
         "True"
        ],
        [
         "7",
         "True"
        ],
        [
         "8",
         "False"
        ],
        [
         "9",
         "False"
        ],
        [
         "10",
         "True"
        ],
        [
         "11",
         "True"
        ],
        [
         "12",
         "True"
        ],
        [
         "13",
         "False"
        ],
        [
         "14",
         "False"
        ],
        [
         "15",
         "True"
        ],
        [
         "16",
         "True"
        ],
        [
         "17",
         "True"
        ],
        [
         "18",
         "False"
        ],
        [
         "19",
         "False"
        ],
        [
         "20",
         "False"
        ],
        [
         "21",
         "False"
        ],
        [
         "22",
         "False"
        ],
        [
         "23",
         "False"
        ],
        [
         "24",
         "False"
        ],
        [
         "25",
         "True"
        ],
        [
         "26",
         "False"
        ],
        [
         "27",
         "False"
        ],
        [
         "28",
         "False"
        ],
        [
         "29",
         "False"
        ],
        [
         "30",
         "False"
        ],
        [
         "31",
         "False"
        ],
        [
         "32",
         "False"
        ],
        [
         "33",
         "True"
        ],
        [
         "34",
         "True"
        ],
        [
         "35",
         "False"
        ],
        [
         "36",
         "True"
        ],
        [
         "37",
         "False"
        ],
        [
         "38",
         "True"
        ],
        [
         "39",
         "False"
        ],
        [
         "40",
         "False"
        ],
        [
         "41",
         "False"
        ],
        [
         "42",
         "False"
        ],
        [
         "43",
         "False"
        ],
        [
         "44",
         "False"
        ],
        [
         "45",
         "True"
        ],
        [
         "46",
         "False"
        ],
        [
         "47",
         "False"
        ],
        [
         "48",
         "True"
        ],
        [
         "49",
         "False"
        ]
       ],
       "shape": {
        "columns": 1,
        "rows": 1303
       }
      },
      "text/plain": [
       "0       False\n",
       "1       False\n",
       "2       False\n",
       "3       False\n",
       "4        True\n",
       "        ...  \n",
       "1298     True\n",
       "1299     True\n",
       "1300     True\n",
       "1301     True\n",
       "1302     True\n",
       "Length: 1303, dtype: bool"
      ]
     },
     "execution_count": 7,
     "metadata": {},
     "output_type": "execute_result"
    }
   ],
   "source": [
    "# duplicates in 2 or more columns\n",
    "df_laptops.duplicated(['Product', 'TypeName', 'Inches'])"
   ]
  },
  {
   "cell_type": "code",
   "execution_count": 9,
   "id": "4bfb9218",
   "metadata": {},
   "outputs": [],
   "source": [
    "duplicated = df_laptops.duplicated(['Product', 'TypeName', 'Inches'])"
   ]
  },
  {
   "cell_type": "code",
   "execution_count": 10,
   "id": "70e5a095",
   "metadata": {},
   "outputs": [
    {
     "data": {
      "application/vnd.microsoft.datawrangler.viewer.v0+json": {
       "columns": [
        {
         "name": "index",
         "rawType": "int64",
         "type": "integer"
        },
        {
         "name": "laptop_ID",
         "rawType": "int64",
         "type": "integer"
        },
        {
         "name": "Company",
         "rawType": "object",
         "type": "string"
        },
        {
         "name": "Product",
         "rawType": "object",
         "type": "string"
        },
        {
         "name": "TypeName",
         "rawType": "object",
         "type": "string"
        },
        {
         "name": "Inches",
         "rawType": "float64",
         "type": "float"
        },
        {
         "name": "ScreenResolution",
         "rawType": "object",
         "type": "string"
        },
        {
         "name": "Cpu",
         "rawType": "object",
         "type": "string"
        },
        {
         "name": "Ram",
         "rawType": "object",
         "type": "string"
        },
        {
         "name": "Memory",
         "rawType": "object",
         "type": "string"
        },
        {
         "name": "Gpu",
         "rawType": "object",
         "type": "string"
        },
        {
         "name": "OpSys",
         "rawType": "object",
         "type": "string"
        },
        {
         "name": "Weight",
         "rawType": "object",
         "type": "string"
        },
        {
         "name": "Price_euros",
         "rawType": "float64",
         "type": "float"
        }
       ],
       "ref": "9510e9b3-aa5b-42cc-a223-ce95abbd67ef",
       "rows": [
        [
         "1287",
         "1305",
         "HP",
         "15-AC110nv (i7-6500U/6GB/1TB/Radeon",
         "Notebook",
         "15.6",
         "1366x768",
         "Intel Core i7 6500U 2.5GHz",
         "6GB",
         "1TB HDD",
         "AMD Radeon R5 M330",
         "Windows 10",
         "2.19kg",
         "764.0"
        ],
        [
         "1301",
         "1319",
         "HP",
         "15-AC110nv (i7-6500U/6GB/1TB/Radeon",
         "Notebook",
         "15.6",
         "1366x768",
         "Intel Core i7 6500U 2.5GHz",
         "6GB",
         "1TB HDD",
         "AMD Radeon R5 M330",
         "Windows 10",
         "2.19kg",
         "764.0"
        ],
        [
         "1098",
         "1113",
         "HP",
         "250 G5",
         "Notebook",
         "15.6",
         "1366x768",
         "Intel Pentium Quad Core N3710 1.6GHz",
         "4GB",
         "1TB HDD",
         "Intel HD Graphics 405",
         "Windows 10",
         "1.96kg",
         "500.0"
        ],
        [
         "1170",
         "1188",
         "HP",
         "250 G5",
         "Notebook",
         "15.6",
         "Full HD 1920x1080",
         "Intel Core i7 6500U 2.5GHz",
         "8GB",
         "256GB SSD",
         "Intel HD Graphics 520",
         "Windows 10",
         "1.96kg",
         "679.0"
        ],
        [
         "10",
         "11",
         "HP",
         "250 G6",
         "Notebook",
         "15.6",
         "1366x768",
         "Intel Core i5 7200U 2.5GHz",
         "4GB",
         "500GB HDD",
         "Intel HD Graphics 620",
         "No OS",
         "1.86kg",
         "393.9"
        ],
        [
         "11",
         "12",
         "HP",
         "250 G6",
         "Notebook",
         "15.6",
         "Full HD 1920x1080",
         "Intel Core i3 6006U 2GHz",
         "4GB",
         "500GB HDD",
         "Intel HD Graphics 520",
         "No OS",
         "1.86kg",
         "344.99"
        ],
        [
         "38",
         "39",
         "HP",
         "250 G6",
         "Notebook",
         "15.6",
         "1366x768",
         "Intel Core i5 7200U 2.5GHz",
         "4GB",
         "1TB HDD",
         "Intel HD Graphics 620",
         "Windows 10",
         "1.86kg",
         "488.69"
        ],
        [
         "64",
         "66",
         "HP",
         "250 G6",
         "Notebook",
         "15.6",
         "Full HD 1920x1080",
         "Intel Core i5 7200U 2.5GHz",
         "8GB",
         "256GB SSD",
         "Intel HD Graphics 620",
         "Windows 10",
         "1.86kg",
         "690.0"
        ],
        [
         "66",
         "68",
         "HP",
         "250 G6",
         "Notebook",
         "15.6",
         "1366x768",
         "Intel Core i3 6006U 2GHz",
         "4GB",
         "500GB HDD",
         "AMD Radeon 520",
         "Windows 10",
         "1.86kg",
         "438.69"
        ],
        [
         "87",
         "89",
         "HP",
         "250 G6",
         "Notebook",
         "15.6",
         "Full HD 1920x1080",
         "Intel Core i5 7200U 2.5GHz",
         "8GB",
         "256GB SSD",
         "Intel HD Graphics 620",
         "Windows 10",
         "1.96kg",
         "598.99"
        ],
        [
         "125",
         "128",
         "HP",
         "250 G6",
         "Notebook",
         "15.6",
         "1366x768",
         "Intel Celeron Dual Core N3060 1.6GHz",
         "4GB",
         "500GB HDD",
         "Intel HD Graphics 400",
         "No OS",
         "1.86kg",
         "259.0"
        ],
        [
         "309",
         "314",
         "HP",
         "250 G6",
         "Notebook",
         "15.6",
         "Full HD 1920x1080",
         "Intel Core i3 6006U 2GHz",
         "4GB",
         "1TB HDD",
         "Intel HD Graphics 520",
         "Windows 10",
         "1.86kg",
         "469.0"
        ],
        [
         "360",
         "366",
         "HP",
         "250 G6",
         "Notebook",
         "15.6",
         "1366x768",
         "Intel Core i3 6006U 2GHz",
         "4GB",
         "500GB HDD",
         "Intel HD Graphics 520",
         "Windows 10",
         "1.86kg",
         "439.0"
        ],
        [
         "363",
         "369",
         "HP",
         "250 G6",
         "Notebook",
         "15.6",
         "Full HD 1920x1080",
         "Intel Core i5 7200U 2.5GHz",
         "8GB",
         "1TB HDD",
         "Intel HD Graphics 620",
         "Windows 10",
         "1.86kg",
         "639.0"
        ],
        [
         "537",
         "544",
         "HP",
         "250 G6",
         "Notebook",
         "15.6",
         "Full HD 1920x1080",
         "Intel Pentium Quad Core N3710 1.6GHz",
         "4GB",
         "256GB SSD",
         "Intel HD Graphics 405",
         "Windows 10",
         "1.86kg",
         "398.99"
        ],
        [
         "548",
         "555",
         "HP",
         "250 G6",
         "Notebook",
         "15.6",
         "Full HD 1920x1080",
         "Intel Core i3 6006U 2GHz",
         "4GB",
         "500GB HDD",
         "Intel HD Graphics 520",
         "Windows 10",
         "1.86kg",
         "397.0"
        ],
        [
         "654",
         "662",
         "HP",
         "250 G6",
         "Notebook",
         "15.6",
         "1366x768",
         "Intel Core i3 6006U 2GHz",
         "4GB",
         "500GB HDD",
         "Intel HD Graphics 520",
         "No OS",
         "1.86kg",
         "364.9"
        ],
        [
         "686",
         "694",
         "HP",
         "250 G6",
         "Notebook",
         "15.6",
         "1366x768",
         "Intel Core i5 7200U 2.5GHz",
         "4GB",
         "500GB HDD",
         "AMD Radeon 520",
         "Windows 10",
         "1.86kg",
         "612.61"
        ],
        [
         "747",
         "755",
         "HP",
         "250 G6",
         "Notebook",
         "15.6",
         "Full HD 1920x1080",
         "Intel Core i3 6006U 2GHz",
         "8GB",
         "256GB SSD",
         "Intel HD Graphics 520",
         "Windows 10",
         "1.86kg",
         "539.0"
        ],
        [
         "850",
         "860",
         "HP",
         "250 G6",
         "Notebook",
         "15.6",
         "1366x768",
         "Intel Celeron Dual Core N3060 1.6GHz",
         "4GB",
         "128GB SSD",
         "Intel HD Graphics 400",
         "No OS",
         "1.86kg",
         "299.0"
        ],
        [
         "932",
         "946",
         "HP",
         "250 G6",
         "Notebook",
         "15.6",
         "1366x768",
         "Intel Celeron Dual Core N3060 1.6GHz",
         "4GB",
         "1TB HDD",
         "Intel HD Graphics 400",
         "No OS",
         "1.86kg",
         "288.9"
        ],
        [
         "1091",
         "1106",
         "HP",
         "250 G6",
         "Notebook",
         "15.6",
         "1366x768",
         "Intel Core i3 6006U 2GHz",
         "4GB",
         "1TB HDD",
         "Intel HD Graphics 520",
         "No OS",
         "1.86kg",
         "345.99"
        ],
        [
         "1192",
         "1210",
         "HP",
         "250 G6",
         "Notebook",
         "15.6",
         "1366x768",
         "Intel Core i5 7200U 2.5GHz",
         "4GB",
         "500GB HDD",
         "Intel HD Graphics 620",
         "Windows 10",
         "1.86kg",
         "485.0"
        ],
        [
         "52",
         "53",
         "HP",
         "255 G6",
         "Notebook",
         "15.6",
         "Full HD 1920x1080",
         "AMD A6-Series 9220 2.5GHz",
         "4GB",
         "256GB SSD",
         "AMD Radeon R4 Graphics",
         "Windows 10",
         "1.86kg",
         "398.49"
        ],
        [
         "144",
         "147",
         "HP",
         "255 G6",
         "Notebook",
         "15.6",
         "1366x768",
         "AMD A6-Series 9220 2.5GHz",
         "4GB",
         "256GB SSD",
         "AMD Radeon R4 Graphics",
         "Windows 10",
         "1.86kg",
         "369.0"
        ],
        [
         "1251",
         "1269",
         "HP",
         "255 G6",
         "Notebook",
         "15.6",
         "1366x768",
         "AMD A6-Series 9220 2.5GHz",
         "4GB",
         "500GB HDD",
         "AMD Radeon R4 Graphics",
         "Windows 10",
         "1.86kg",
         "399.0"
        ],
        [
         "685",
         "693",
         "Dell",
         "Alienware 15",
         "Gaming",
         "15.6",
         "Full HD 1920x1080",
         "Intel Core i7 7820HK 2.9GHz",
         "16GB",
         "256GB SSD +  1TB HDD",
         "Nvidia GeForce GTX 1070",
         "Windows 10",
         "3.49kg",
         "2813.75"
        ],
        [
         "835",
         "844",
         "Dell",
         "Alienware 15",
         "Gaming",
         "15.6",
         "Full HD 1920x1080",
         "Intel Core i7 7700HQ 2.8GHz",
         "16GB",
         "256GB SSD +  1TB HDD",
         "Nvidia GeForce GTX 1070",
         "Windows 10",
         "3.21kg",
         "2774.63"
        ],
        [
         "1068",
         "1083",
         "Dell",
         "Alienware 15",
         "Gaming",
         "15.6",
         "4K Ultra HD 3840x2160",
         "Intel Core i7 6700HQ 2.6GHz",
         "16GB",
         "256GB SSD +  1TB HDD",
         "Nvidia GeForce GTX 970M",
         "Windows 10",
         "3.21kg",
         "1329.0"
        ],
        [
         "424",
         "431",
         "Dell",
         "Alienware 17",
         "Gaming",
         "17.3",
         "IPS Panel 2560x1440",
         "Intel Core i7 7820HK 2.9GHz",
         "16GB",
         "256GB SSD +  1TB HDD",
         "Nvidia GeForce GTX 1070",
         "Windows 10",
         "4.42kg",
         "2799.0"
        ],
        [
         "530",
         "537",
         "Dell",
         "Alienware 17",
         "Gaming",
         "17.3",
         "IPS Panel Full HD 1920x1080",
         "Intel Core i7 7700HQ 2.8GHz",
         "16GB",
         "128GB SSD +  1TB HDD",
         "Nvidia GeForce GTX 1070",
         "Windows 10",
         "4.42kg",
         "3012.77"
        ],
        [
         "552",
         "559",
         "Dell",
         "Alienware 17",
         "Gaming",
         "17.3",
         "IPS Panel Full HD 1920x1080",
         "Intel Core i7 7700HQ 2.8GHz",
         "16GB",
         "256GB SSD +  1TB HDD",
         "Nvidia GeForce GTX 1070",
         "Windows 10",
         "4.42kg",
         "2699.0"
        ],
        [
         "659",
         "667",
         "Dell",
         "Alienware 17",
         "Gaming",
         "17.3",
         "IPS Panel 4K Ultra HD 3840x2160",
         "Intel Core i7 7700HQ 2.8GHz",
         "32GB",
         "512GB SSD +  1TB HDD",
         "Nvidia GeForce GTX 1070",
         "Windows 10",
         "4.42kg",
         "3147.37"
        ],
        [
         "723",
         "731",
         "Dell",
         "Alienware 17",
         "Gaming",
         "17.3",
         "4K Ultra HD 3840x2160",
         "Intel Core i7 7700HQ 2.8GHz",
         "32GB",
         "1TB SSD +  1TB HDD",
         "Nvidia GeForce GTX 1070",
         "Windows 10",
         "4.36kg",
         "3659.4"
        ],
        [
         "780",
         "789",
         "Dell",
         "Alienware 17",
         "Gaming",
         "17.3",
         "IPS Panel Full HD 1920x1080",
         "Intel Core i7 7700HQ 2.8GHz",
         "32GB",
         "1TB SSD +  1TB HDD",
         "Nvidia GeForce GTX 1070M",
         "Windows 10",
         "4.42kg",
         "3588.8"
        ],
        [
         "818",
         "827",
         "Dell",
         "Alienware 17",
         "Gaming",
         "17.3",
         "IPS Panel Full HD 1920x1080",
         "Intel Core i7 7700HQ 2.8GHz",
         "16GB",
         "128GB SSD +  1TB HDD",
         "Nvidia GeForce GTX 1060",
         "Windows 10",
         "4.36kg",
         "2505.02"
        ],
        [
         "841",
         "851",
         "Dell",
         "Alienware 17",
         "Gaming",
         "17.3",
         "IPS Panel Full HD 1920x1080",
         "Intel Core i7 7700HQ 2.8GHz",
         "32GB",
         "512GB SSD +  1TB HDD",
         "Nvidia GeForce GTX 1070",
         "Windows 10",
         "4.42kg",
         "3072.89"
        ],
        [
         "939",
         "953",
         "Dell",
         "Alienware 17",
         "Gaming",
         "17.3",
         "2560x1440",
         "Intel Core i7 6820HK 2.7GHz",
         "16GB",
         "512GB SSD +  1TB HDD",
         "Nvidia GeForce GTX 1080",
         "Windows 10",
         "4.36kg",
         "2758.0"
        ],
        [
         "955",
         "969",
         "Dell",
         "Alienware 17",
         "Gaming",
         "17.3",
         "IPS Panel 4K Ultra HD 3840x2160",
         "Intel Core i7 7700HQ 2.8GHz",
         "16GB",
         "512GB SSD +  1TB HDD",
         "Nvidia GeForce GTX 1070",
         "Windows 10",
         "4.36kg",
         "3154.0"
        ],
        [
         "968",
         "982",
         "Dell",
         "Alienware 17",
         "Gaming",
         "17.3",
         "IPS Panel Full HD 1920x1080",
         "Intel Core i7 7700HQ 2.8GHz",
         "32GB",
         "256GB SSD +  1TB HDD",
         "Nvidia GeForce GTX 1070",
         "Windows 10",
         "4.42kg",
         "3149.0"
        ],
        [
         "972",
         "986",
         "Dell",
         "Alienware 17",
         "Gaming",
         "17.3",
         "Full HD 1920x1080",
         "Intel Core i7 6700HQ 2.6GHz",
         "32GB",
         "256GB SSD +  1TB HDD",
         "Nvidia GeForce GTX 1070",
         "Windows 10",
         "4.42kg",
         "2800.0"
        ],
        [
         "36",
         "37",
         "Acer",
         "Aspire 3",
         "Notebook",
         "15.6",
         "1366x768",
         "Intel Core i3 7130U 2.7GHz",
         "4GB",
         "1TB HDD",
         "Intel HD Graphics 620",
         "Linux",
         "2.1kg",
         "367.0"
        ],
        [
         "54",
         "55",
         "Acer",
         "Aspire 3",
         "Notebook",
         "15.6",
         "1366x768",
         "Intel Core i3 7100U 2.4GHz",
         "4GB",
         "1TB HDD",
         "Intel HD Graphics 620",
         "Windows 10",
         "2.4kg",
         "384.0"
        ],
        [
         "84",
         "86",
         "Acer",
         "Aspire 3",
         "Notebook",
         "15.6",
         "1366x768",
         "AMD A9-Series 9420 3GHz",
         "4GB",
         "1TB HDD",
         "AMD Radeon R5",
         "Windows 10",
         "2.1kg",
         "395.0"
        ],
        [
         "124",
         "127",
         "Acer",
         "Aspire 3",
         "Notebook",
         "15.6",
         "1366x768",
         "AMD A9-Series 9420 3GHz",
         "4GB",
         "256GB SSD",
         "AMD Radeon R5",
         "Windows 10",
         "2.1kg",
         "451.0"
        ],
        [
         "166",
         "170",
         "Acer",
         "Aspire 3",
         "Notebook",
         "15.6",
         "1366x768",
         "Intel Pentium Quad Core N4200 1.1GHz",
         "4GB",
         "1TB HDD",
         "Intel HD Graphics 505",
         "Windows 10",
         "2.1kg",
         "363.51"
        ],
        [
         "371",
         "377",
         "Acer",
         "Aspire 3",
         "Notebook",
         "15.6",
         "1366x768",
         "AMD A9-Series 9420 3GHz",
         "4GB",
         "128GB SSD",
         "AMD Radeon R5",
         "Windows 10",
         "2.1kg",
         "426.0"
        ],
        [
         "669",
         "677",
         "Acer",
         "Aspire 3",
         "Notebook",
         "15.6",
         "1366x768",
         "Intel Core i3 6006U 2GHz",
         "4GB",
         "128GB SSD",
         "Intel HD Graphics 520",
         "Linux",
         "2.1kg",
         "412.0"
        ],
        [
         "759",
         "768",
         "Acer",
         "Aspire 3",
         "Notebook",
         "15.6",
         "1366x768",
         "Intel Core i5 7200U 2.5GHz",
         "4GB",
         "256GB SSD",
         "Intel HD Graphics 620",
         "Windows 10",
         "2.1kg",
         "599.0"
        ],
        [
         "1031",
         "1045",
         "Acer",
         "Aspire 3",
         "Notebook",
         "15.6",
         "1366x768",
         "AMD A9-Series 9420 3GHz",
         "6GB",
         "1TB HDD",
         "AMD Radeon R5",
         "Windows 10",
         "2.1kg",
         "409.0"
        ]
       ],
       "shape": {
        "columns": 13,
        "rows": 620
       }
      },
      "text/html": [
       "<div>\n",
       "<style scoped>\n",
       "    .dataframe tbody tr th:only-of-type {\n",
       "        vertical-align: middle;\n",
       "    }\n",
       "\n",
       "    .dataframe tbody tr th {\n",
       "        vertical-align: top;\n",
       "    }\n",
       "\n",
       "    .dataframe thead th {\n",
       "        text-align: right;\n",
       "    }\n",
       "</style>\n",
       "<table border=\"1\" class=\"dataframe\">\n",
       "  <thead>\n",
       "    <tr style=\"text-align: right;\">\n",
       "      <th></th>\n",
       "      <th>laptop_ID</th>\n",
       "      <th>Company</th>\n",
       "      <th>Product</th>\n",
       "      <th>TypeName</th>\n",
       "      <th>Inches</th>\n",
       "      <th>ScreenResolution</th>\n",
       "      <th>Cpu</th>\n",
       "      <th>Ram</th>\n",
       "      <th>Memory</th>\n",
       "      <th>Gpu</th>\n",
       "      <th>OpSys</th>\n",
       "      <th>Weight</th>\n",
       "      <th>Price_euros</th>\n",
       "    </tr>\n",
       "  </thead>\n",
       "  <tbody>\n",
       "    <tr>\n",
       "      <th>1287</th>\n",
       "      <td>1305</td>\n",
       "      <td>HP</td>\n",
       "      <td>15-AC110nv (i7-6500U/6GB/1TB/Radeon</td>\n",
       "      <td>Notebook</td>\n",
       "      <td>15.6</td>\n",
       "      <td>1366x768</td>\n",
       "      <td>Intel Core i7 6500U 2.5GHz</td>\n",
       "      <td>6GB</td>\n",
       "      <td>1TB HDD</td>\n",
       "      <td>AMD Radeon R5 M330</td>\n",
       "      <td>Windows 10</td>\n",
       "      <td>2.19kg</td>\n",
       "      <td>764.0</td>\n",
       "    </tr>\n",
       "    <tr>\n",
       "      <th>1301</th>\n",
       "      <td>1319</td>\n",
       "      <td>HP</td>\n",
       "      <td>15-AC110nv (i7-6500U/6GB/1TB/Radeon</td>\n",
       "      <td>Notebook</td>\n",
       "      <td>15.6</td>\n",
       "      <td>1366x768</td>\n",
       "      <td>Intel Core i7 6500U 2.5GHz</td>\n",
       "      <td>6GB</td>\n",
       "      <td>1TB HDD</td>\n",
       "      <td>AMD Radeon R5 M330</td>\n",
       "      <td>Windows 10</td>\n",
       "      <td>2.19kg</td>\n",
       "      <td>764.0</td>\n",
       "    </tr>\n",
       "    <tr>\n",
       "      <th>1098</th>\n",
       "      <td>1113</td>\n",
       "      <td>HP</td>\n",
       "      <td>250 G5</td>\n",
       "      <td>Notebook</td>\n",
       "      <td>15.6</td>\n",
       "      <td>1366x768</td>\n",
       "      <td>Intel Pentium Quad Core N3710 1.6GHz</td>\n",
       "      <td>4GB</td>\n",
       "      <td>1TB HDD</td>\n",
       "      <td>Intel HD Graphics 405</td>\n",
       "      <td>Windows 10</td>\n",
       "      <td>1.96kg</td>\n",
       "      <td>500.0</td>\n",
       "    </tr>\n",
       "    <tr>\n",
       "      <th>1170</th>\n",
       "      <td>1188</td>\n",
       "      <td>HP</td>\n",
       "      <td>250 G5</td>\n",
       "      <td>Notebook</td>\n",
       "      <td>15.6</td>\n",
       "      <td>Full HD 1920x1080</td>\n",
       "      <td>Intel Core i7 6500U 2.5GHz</td>\n",
       "      <td>8GB</td>\n",
       "      <td>256GB SSD</td>\n",
       "      <td>Intel HD Graphics 520</td>\n",
       "      <td>Windows 10</td>\n",
       "      <td>1.96kg</td>\n",
       "      <td>679.0</td>\n",
       "    </tr>\n",
       "    <tr>\n",
       "      <th>10</th>\n",
       "      <td>11</td>\n",
       "      <td>HP</td>\n",
       "      <td>250 G6</td>\n",
       "      <td>Notebook</td>\n",
       "      <td>15.6</td>\n",
       "      <td>1366x768</td>\n",
       "      <td>Intel Core i5 7200U 2.5GHz</td>\n",
       "      <td>4GB</td>\n",
       "      <td>500GB HDD</td>\n",
       "      <td>Intel HD Graphics 620</td>\n",
       "      <td>No OS</td>\n",
       "      <td>1.86kg</td>\n",
       "      <td>393.9</td>\n",
       "    </tr>\n",
       "    <tr>\n",
       "      <th>...</th>\n",
       "      <td>...</td>\n",
       "      <td>...</td>\n",
       "      <td>...</td>\n",
       "      <td>...</td>\n",
       "      <td>...</td>\n",
       "      <td>...</td>\n",
       "      <td>...</td>\n",
       "      <td>...</td>\n",
       "      <td>...</td>\n",
       "      <td>...</td>\n",
       "      <td>...</td>\n",
       "      <td>...</td>\n",
       "      <td>...</td>\n",
       "    </tr>\n",
       "    <tr>\n",
       "      <th>414</th>\n",
       "      <td>421</td>\n",
       "      <td>Asus</td>\n",
       "      <td>ZenBook Flip</td>\n",
       "      <td>2 in 1 Convertible</td>\n",
       "      <td>13.3</td>\n",
       "      <td>IPS Panel Full HD / Touchscreen 1920x1080</td>\n",
       "      <td>Intel Core i5 7200U 2.5GHz</td>\n",
       "      <td>8GB</td>\n",
       "      <td>256GB SSD</td>\n",
       "      <td>Intel HD Graphics 620</td>\n",
       "      <td>Windows 10</td>\n",
       "      <td>1.27kg</td>\n",
       "      <td>928.0</td>\n",
       "    </tr>\n",
       "    <tr>\n",
       "      <th>826</th>\n",
       "      <td>835</td>\n",
       "      <td>Asus</td>\n",
       "      <td>ZenBook Flip</td>\n",
       "      <td>2 in 1 Convertible</td>\n",
       "      <td>13.3</td>\n",
       "      <td>Touchscreen / Full HD 1920x1080</td>\n",
       "      <td>Intel Core i5 7200U 2.5GHz</td>\n",
       "      <td>8GB</td>\n",
       "      <td>256GB SSD</td>\n",
       "      <td>Intel HD Graphics 620</td>\n",
       "      <td>Windows 10</td>\n",
       "      <td>1.1kg</td>\n",
       "      <td>1358.0</td>\n",
       "    </tr>\n",
       "    <tr>\n",
       "      <th>1275</th>\n",
       "      <td>1293</td>\n",
       "      <td>Asus</td>\n",
       "      <td>ZenBook UX305CA-UBM1</td>\n",
       "      <td>Ultrabook</td>\n",
       "      <td>13.3</td>\n",
       "      <td>IPS Panel Full HD 1920x1080</td>\n",
       "      <td>Intel Core M 6Y30 0.9GHz</td>\n",
       "      <td>8GB</td>\n",
       "      <td>512GB SSD</td>\n",
       "      <td>Intel HD Graphics 515</td>\n",
       "      <td>Windows 10</td>\n",
       "      <td>1.2kg</td>\n",
       "      <td>729.0</td>\n",
       "    </tr>\n",
       "    <tr>\n",
       "      <th>1289</th>\n",
       "      <td>1307</td>\n",
       "      <td>Asus</td>\n",
       "      <td>ZenBook UX305CA-UBM1</td>\n",
       "      <td>Ultrabook</td>\n",
       "      <td>13.3</td>\n",
       "      <td>IPS Panel Full HD 1920x1080</td>\n",
       "      <td>Intel Core M 6Y30 0.9GHz</td>\n",
       "      <td>8GB</td>\n",
       "      <td>512GB SSD</td>\n",
       "      <td>Intel HD Graphics 515</td>\n",
       "      <td>Windows 10</td>\n",
       "      <td>1.2kg</td>\n",
       "      <td>729.0</td>\n",
       "    </tr>\n",
       "    <tr>\n",
       "      <th>676</th>\n",
       "      <td>684</td>\n",
       "      <td>Asus</td>\n",
       "      <td>Zenbook 3</td>\n",
       "      <td>Ultrabook</td>\n",
       "      <td>14.0</td>\n",
       "      <td>Full HD 1920x1080</td>\n",
       "      <td>Intel Core i5 7200U 2.5GHz</td>\n",
       "      <td>8GB</td>\n",
       "      <td>256GB SSD</td>\n",
       "      <td>Intel HD Graphics 620</td>\n",
       "      <td>Windows 10</td>\n",
       "      <td>1.1kg</td>\n",
       "      <td>1135.0</td>\n",
       "    </tr>\n",
       "  </tbody>\n",
       "</table>\n",
       "<p>620 rows × 13 columns</p>\n",
       "</div>"
      ],
      "text/plain": [
       "      laptop_ID Company                              Product  \\\n",
       "1287       1305      HP  15-AC110nv (i7-6500U/6GB/1TB/Radeon   \n",
       "1301       1319      HP  15-AC110nv (i7-6500U/6GB/1TB/Radeon   \n",
       "1098       1113      HP                               250 G5   \n",
       "1170       1188      HP                               250 G5   \n",
       "10           11      HP                               250 G6   \n",
       "...         ...     ...                                  ...   \n",
       "414         421    Asus                         ZenBook Flip   \n",
       "826         835    Asus                         ZenBook Flip   \n",
       "1275       1293    Asus                 ZenBook UX305CA-UBM1   \n",
       "1289       1307    Asus                 ZenBook UX305CA-UBM1   \n",
       "676         684    Asus                            Zenbook 3   \n",
       "\n",
       "                TypeName  Inches                           ScreenResolution  \\\n",
       "1287            Notebook    15.6                                   1366x768   \n",
       "1301            Notebook    15.6                                   1366x768   \n",
       "1098            Notebook    15.6                                   1366x768   \n",
       "1170            Notebook    15.6                          Full HD 1920x1080   \n",
       "10              Notebook    15.6                                   1366x768   \n",
       "...                  ...     ...                                        ...   \n",
       "414   2 in 1 Convertible    13.3  IPS Panel Full HD / Touchscreen 1920x1080   \n",
       "826   2 in 1 Convertible    13.3            Touchscreen / Full HD 1920x1080   \n",
       "1275           Ultrabook    13.3                IPS Panel Full HD 1920x1080   \n",
       "1289           Ultrabook    13.3                IPS Panel Full HD 1920x1080   \n",
       "676            Ultrabook    14.0                          Full HD 1920x1080   \n",
       "\n",
       "                                       Cpu  Ram     Memory  \\\n",
       "1287            Intel Core i7 6500U 2.5GHz  6GB    1TB HDD   \n",
       "1301            Intel Core i7 6500U 2.5GHz  6GB    1TB HDD   \n",
       "1098  Intel Pentium Quad Core N3710 1.6GHz  4GB    1TB HDD   \n",
       "1170            Intel Core i7 6500U 2.5GHz  8GB  256GB SSD   \n",
       "10              Intel Core i5 7200U 2.5GHz  4GB  500GB HDD   \n",
       "...                                    ...  ...        ...   \n",
       "414             Intel Core i5 7200U 2.5GHz  8GB  256GB SSD   \n",
       "826             Intel Core i5 7200U 2.5GHz  8GB  256GB SSD   \n",
       "1275              Intel Core M 6Y30 0.9GHz  8GB  512GB SSD   \n",
       "1289              Intel Core M 6Y30 0.9GHz  8GB  512GB SSD   \n",
       "676             Intel Core i5 7200U 2.5GHz  8GB  256GB SSD   \n",
       "\n",
       "                        Gpu       OpSys  Weight  Price_euros  \n",
       "1287     AMD Radeon R5 M330  Windows 10  2.19kg        764.0  \n",
       "1301     AMD Radeon R5 M330  Windows 10  2.19kg        764.0  \n",
       "1098  Intel HD Graphics 405  Windows 10  1.96kg        500.0  \n",
       "1170  Intel HD Graphics 520  Windows 10  1.96kg        679.0  \n",
       "10    Intel HD Graphics 620       No OS  1.86kg        393.9  \n",
       "...                     ...         ...     ...          ...  \n",
       "414   Intel HD Graphics 620  Windows 10  1.27kg        928.0  \n",
       "826   Intel HD Graphics 620  Windows 10   1.1kg       1358.0  \n",
       "1275  Intel HD Graphics 515  Windows 10   1.2kg        729.0  \n",
       "1289  Intel HD Graphics 515  Windows 10   1.2kg        729.0  \n",
       "676   Intel HD Graphics 620  Windows 10   1.1kg       1135.0  \n",
       "\n",
       "[620 rows x 13 columns]"
      ]
     },
     "execution_count": 10,
     "metadata": {},
     "output_type": "execute_result"
    }
   ],
   "source": [
    "# show all values duplicated (except for the first - keep='first)\n",
    "df_laptops[duplicated].sort_values(['Product', 'TypeName'])"
   ]
  },
  {
   "cell_type": "markdown",
   "id": "cba12362",
   "metadata": {},
   "source": [
    "## 1.2 Example 2\n",
    "Task: Find the cheapest and most expensive laptop of each comapny using the sort_values() and duplicated() methods (keep \"first\", \"last\" and False)"
   ]
  },
  {
   "cell_type": "code",
   "execution_count": 12,
   "id": "5b46e710",
   "metadata": {},
   "outputs": [
    {
     "data": {
      "application/vnd.microsoft.datawrangler.viewer.v0+json": {
       "columns": [
        {
         "name": "index",
         "rawType": "int64",
         "type": "integer"
        },
        {
         "name": "laptop_ID",
         "rawType": "int64",
         "type": "integer"
        },
        {
         "name": "Company",
         "rawType": "object",
         "type": "string"
        },
        {
         "name": "Product",
         "rawType": "object",
         "type": "string"
        },
        {
         "name": "TypeName",
         "rawType": "object",
         "type": "string"
        },
        {
         "name": "Inches",
         "rawType": "float64",
         "type": "float"
        },
        {
         "name": "ScreenResolution",
         "rawType": "object",
         "type": "string"
        },
        {
         "name": "Cpu",
         "rawType": "object",
         "type": "string"
        },
        {
         "name": "Ram",
         "rawType": "object",
         "type": "string"
        },
        {
         "name": "Memory",
         "rawType": "object",
         "type": "string"
        },
        {
         "name": "Gpu",
         "rawType": "object",
         "type": "string"
        },
        {
         "name": "OpSys",
         "rawType": "object",
         "type": "string"
        },
        {
         "name": "Weight",
         "rawType": "object",
         "type": "string"
        },
        {
         "name": "Price_euros",
         "rawType": "float64",
         "type": "float"
        }
       ],
       "ref": "4f36a089-50d5-402e-81a9-3cb97fdab22e",
       "rows": [
        [
         "1215",
         "1233",
         "Acer",
         "C740-C9QX (3205U/2GB/32GB/Chrome",
         "Netbook",
         "11.6",
         "1366x768",
         "Intel Celeron Dual Core 3205U 1.5GHz",
         "2GB",
         "32GB SSD",
         "Intel HD Graphics",
         "Chrome OS",
         "1.3kg",
         "174.0"
        ],
        [
         "290",
         "295",
         "Acer",
         "Chromebook C910-C2ST",
         "Notebook",
         "15.6",
         "1366x768",
         "Intel Celeron Dual Core 3205U 1.5GHz",
         "2GB",
         "16GB SSD",
         "Intel HD Graphics",
         "Chrome OS",
         "2.19kg",
         "199.0"
        ],
        [
         "1102",
         "1117",
         "Acer",
         "Chromebook 15",
         "Notebook",
         "15.6",
         "1366x768",
         "Intel Celeron Dual Core 3205U 1.5GHz",
         "4GB",
         "16GB SSD",
         "Intel HD Graphics",
         "Chrome OS",
         "2.20kg",
         "209.0"
        ],
        [
         "695",
         "703",
         "Acer",
         "TravelMate B117-M",
         "Netbook",
         "11.6",
         "1366x768",
         "Intel Celeron Dual Core N3050 1.6GHz",
         "4GB",
         "32GB Flash Storage",
         "Intel HD Graphics",
         "Windows 10",
         "1.4kg",
         "269.0"
        ],
        [
         "1198",
         "1216",
         "Acer",
         "Aspire 3",
         "Notebook",
         "15.6",
         "1366x768",
         "Intel Celeron Dual Core N3350 2GHz",
         "4GB",
         "1TB HDD",
         "Intel HD Graphics 500",
         "Linux",
         "2.1kg",
         "272.0"
        ],
        [
         "1263",
         "1281",
         "Acer",
         "Aspire ES1-531",
         "Notebook",
         "15.6",
         "1366x768",
         "Intel Celeron Dual Core N3060 1.6GHz",
         "4GB",
         "500GB HDD",
         "Intel HD Graphics 400",
         "Linux",
         "2.4kg",
         "289.0"
        ],
        [
         "1277",
         "1295",
         "Acer",
         "Aspire ES1-531",
         "Notebook",
         "15.6",
         "1366x768",
         "Intel Celeron Dual Core N3060 1.6GHz",
         "4GB",
         "500GB HDD",
         "Intel HD Graphics 400",
         "Linux",
         "2.4kg",
         "289.0"
        ],
        [
         "1291",
         "1309",
         "Acer",
         "Aspire ES1-531",
         "Notebook",
         "15.6",
         "1366x768",
         "Intel Celeron Dual Core N3060 1.6GHz",
         "4GB",
         "500GB HDD",
         "Intel HD Graphics 400",
         "Linux",
         "2.4kg",
         "289.0"
        ],
        [
         "888",
         "899",
         "Acer",
         "Chromebook C731-C78G",
         "Netbook",
         "11.6",
         "IPS Panel 1366x768",
         "Intel Celeron Dual Core N3060 1.6GHz",
         "4GB",
         "32GB Flash Storage",
         "Intel HD Graphics 400",
         "Chrome OS",
         "1.25kg",
         "297.0"
        ],
        [
         "769",
         "778",
         "Acer",
         "Aspire A315-31",
         "Notebook",
         "15.6",
         "1366x768",
         "Intel Pentium Quad Core N4200 1.1GHz",
         "4GB",
         "1TB HDD",
         "Intel HD Graphics 505",
         "Linux",
         "2.1kg",
         "298.0"
        ],
        [
         "602",
         "609",
         "Acer",
         "Aspire 1",
         "Notebook",
         "14.0",
         "Full HD 1920x1080",
         "Intel Celeron Quad Core N3450 1.1GHz",
         "4GB",
         "32GB Flash Storage",
         "Intel HD Graphics 500",
         "Windows 10",
         "1.6kg",
         "329.0"
        ],
        [
         "745",
         "753",
         "Acer",
         "Chromebook 14",
         "Notebook",
         "14.0",
         "1366x768",
         "Intel Celeron Dual Core N3060 1.6GHz",
         "2GB",
         "32GB Flash Storage",
         "Intel HD Graphics 400",
         "Chrome OS",
         "1.68kg",
         "330.0"
        ],
        [
         "1183",
         "1201",
         "Acer",
         "Aspire 3",
         "Notebook",
         "15.6",
         "1366x768",
         "Intel Celeron Dual Core N3350 2GHz",
         "4GB",
         "500GB HDD",
         "Intel HD Graphics 500",
         "Windows 10",
         "2.1kg",
         "333.0"
        ],
        [
         "164",
         "168",
         "Acer",
         "Aspire A315-31",
         "Notebook",
         "15.6",
         "1366x768",
         "Intel Celeron Dual Core N3350 1.1GHz",
         "4GB",
         "1TB HDD",
         "Intel HD Graphics 500",
         "Windows 10",
         "2.1kg",
         "348.0"
        ],
        [
         "560",
         "567",
         "Acer",
         "Spin SP111-31",
         "2 in 1 Convertible",
         "11.6",
         "IPS Panel Full HD / Touchscreen 1920x1080",
         "Intel Celeron Dual Core N3350 2.0GHz",
         "4GB",
         "32GB Flash Storage",
         "Intel HD Graphics 500",
         "Windows 10",
         "1.25kg",
         "349.0"
        ],
        [
         "609",
         "616",
         "Acer",
         "Swift SF114-31-P5HY",
         "Notebook",
         "14.0",
         "1366x768",
         "Intel Pentium Quad Core N3710 1.6GHz",
         "4GB",
         "128GB Flash Storage",
         "Intel HD Graphics 405",
         "Windows 10",
         "1.6kg",
         "349.0"
        ],
        [
         "949",
         "963",
         "Acer",
         "Chromebook 14",
         "Notebook",
         "14.0",
         "1366x768",
         "Intel Celeron Dual Core N3060 1.6GHz",
         "4GB",
         "32GB Flash Storage",
         "Intel HD Graphics 400",
         "Chrome OS",
         "1.68kg",
         "349.0"
        ],
        [
         "828",
         "837",
         "Acer",
         "Chromebook 11",
         "Netbook",
         "11.6",
         "IPS Panel 1366x768",
         "Intel Celeron Dual Core N3060 1.6GHz",
         "4GB",
         "32GB Flash Storage",
         "Intel HD Graphics 400",
         "Chrome OS",
         "1.35kg",
         "355.0"
        ],
        [
         "907",
         "919",
         "Acer",
         "Chromebook CB5-571-C1DZ",
         "Notebook",
         "15.6",
         "IPS Panel Full HD 1920x1080",
         "Intel Celeron Dual Core 3205U 1.5GHz",
         "4GB",
         "16GB Flash Storage",
         "Intel HD Graphics",
         "Chrome OS",
         "2.20kg",
         "359.0"
        ],
        [
         "1242",
         "1260",
         "Acer",
         "Aspire ES1-572",
         "Notebook",
         "15.6",
         "1366x768",
         "Intel Core i3 6006U 2.0GHz",
         "4GB",
         "500GB HDD",
         "Intel HD Graphics 520",
         "Linux",
         "2.4kg",
         "361.8"
        ],
        [
         "166",
         "170",
         "Acer",
         "Aspire 3",
         "Notebook",
         "15.6",
         "1366x768",
         "Intel Pentium Quad Core N4200 1.1GHz",
         "4GB",
         "1TB HDD",
         "Intel HD Graphics 505",
         "Windows 10",
         "2.1kg",
         "363.51"
        ],
        [
         "36",
         "37",
         "Acer",
         "Aspire 3",
         "Notebook",
         "15.6",
         "1366x768",
         "Intel Core i3 7130U 2.7GHz",
         "4GB",
         "1TB HDD",
         "Intel HD Graphics 620",
         "Linux",
         "2.1kg",
         "367.0"
        ],
        [
         "690",
         "698",
         "Acer",
         "Chromebook 14",
         "Notebook",
         "14.0",
         "1366x768",
         "Intel Celeron Dual Core 3855U 1.6GHz",
         "4GB",
         "32GB Flash Storage",
         "Intel HD Graphics 510",
         "Chrome OS",
         "1.45kg",
         "375.0"
        ],
        [
         "619",
         "626",
         "Acer",
         "CB5-132T-C9KK (N3160/4GB/32GB/Chrome",
         "2 in 1 Convertible",
         "11.6",
         "IPS Panel Touchscreen 1366x768",
         "Intel Celeron Quad Core N3160 1.6GHz",
         "4GB",
         "32GB Flash Storage",
         "Intel HD Graphics 400",
         "Chrome OS",
         "1.25kg",
         "379.0"
        ],
        [
         "997",
         "1011",
         "Acer",
         "Aspire ES1-533",
         "Notebook",
         "15.6",
         "1366x768",
         "Intel Pentium Quad Core N4200 1.1GHz",
         "4GB",
         "500GB HDD",
         "Intel HD Graphics 505",
         "Windows 10",
         "2.4kg",
         "380.0"
        ],
        [
         "54",
         "55",
         "Acer",
         "Aspire 3",
         "Notebook",
         "15.6",
         "1366x768",
         "Intel Core i3 7100U 2.4GHz",
         "4GB",
         "1TB HDD",
         "Intel HD Graphics 620",
         "Windows 10",
         "2.4kg",
         "384.0"
        ],
        [
         "1089",
         "1104",
         "Acer",
         "Aspire ES1-523",
         "Notebook",
         "15.6",
         "1366x768",
         "AMD A8-Series 7410 2.2GHz",
         "4GB",
         "500GB HDD",
         "AMD Radeon R5",
         "Windows 10",
         "2.4kg",
         "387.0"
        ],
        [
         "74",
         "76",
         "Acer",
         "Aspire E5-475",
         "Notebook",
         "14.0",
         "1366x768",
         "Intel Core i3 6006U 2GHz",
         "8GB",
         "1TB HDD",
         "Intel HD Graphics 520",
         "Windows 10",
         "2.1kg",
         "389.0"
        ],
        [
         "959",
         "973",
         "Acer",
         "Chromebook C738T-C2EJ",
         "2 in 1 Convertible",
         "11.6",
         "IPS Panel Touchscreen 1366x768",
         "Intel Celeron Dual Core N3060 1.6GHz",
         "4GB",
         "32GB Flash Storage",
         "Intel HD Graphics 400",
         "Chrome OS",
         "1.25kg",
         "389.0"
        ],
        [
         "236",
         "241",
         "Acer",
         "Aspire A315-51",
         "Notebook",
         "15.6",
         "1366x768",
         "Intel Core i3 6006U 2GHz",
         "4GB",
         "1TB HDD",
         "Intel HD Graphics 520",
         "Linux",
         "2.1kg",
         "390.0"
        ],
        [
         "84",
         "86",
         "Acer",
         "Aspire 3",
         "Notebook",
         "15.6",
         "1366x768",
         "AMD A9-Series 9420 3GHz",
         "4GB",
         "1TB HDD",
         "AMD Radeon R5",
         "Windows 10",
         "2.1kg",
         "395.0"
        ],
        [
         "5",
         "6",
         "Acer",
         "Aspire 3",
         "Notebook",
         "15.6",
         "1366x768",
         "AMD A9-Series 9420 3GHz",
         "4GB",
         "500GB HDD",
         "AMD Radeon R5",
         "Windows 10",
         "2.1kg",
         "400.0"
        ],
        [
         "1031",
         "1045",
         "Acer",
         "Aspire 3",
         "Notebook",
         "15.6",
         "1366x768",
         "AMD A9-Series 9420 3GHz",
         "6GB",
         "1TB HDD",
         "AMD Radeon R5",
         "Windows 10",
         "2.1kg",
         "409.0"
        ],
        [
         "739",
         "747",
         "Acer",
         "Aspire ES1-572",
         "Notebook",
         "15.6",
         "1366x768",
         "Intel Core i3 6006U 2GHz",
         "4GB",
         "500GB HDD",
         "Intel HD Graphics 520",
         "Windows 10",
         "2.4kg",
         "410.8"
        ],
        [
         "669",
         "677",
         "Acer",
         "Aspire 3",
         "Notebook",
         "15.6",
         "1366x768",
         "Intel Core i3 6006U 2GHz",
         "4GB",
         "128GB SSD",
         "Intel HD Graphics 520",
         "Linux",
         "2.1kg",
         "412.0"
        ],
        [
         "371",
         "377",
         "Acer",
         "Aspire 3",
         "Notebook",
         "15.6",
         "1366x768",
         "AMD A9-Series 9420 3GHz",
         "4GB",
         "128GB SSD",
         "AMD Radeon R5",
         "Windows 10",
         "2.1kg",
         "426.0"
        ],
        [
         "461",
         "468",
         "Acer",
         "TravelMate B",
         "Netbook",
         "11.6",
         "1366x768",
         "Intel Celeron Dual Core N3060 1.6GHz",
         "4GB",
         "128GB SSD",
         "Intel HD Graphics 400",
         "Windows 10",
         "1.4kg",
         "435.0"
        ],
        [
         "446",
         "453",
         "Acer",
         "Aspire ES1-572",
         "Notebook",
         "15.6",
         "1366x768",
         "Intel Core i5 7200U 2.5GHz",
         "4GB",
         "500GB HDD",
         "Intel HD Graphics 620",
         "Linux",
         "2.4kg",
         "441.8"
        ],
        [
         "149",
         "152",
         "Acer",
         "Aspire A315-51",
         "Notebook",
         "15.6",
         "1366x768",
         "Intel Core i3 6006U 2GHz",
         "4GB",
         "1TB HDD",
         "Intel HD Graphics 520",
         "Windows 10",
         "2.1kg",
         "447.0"
        ],
        [
         "176",
         "180",
         "Acer",
         "Aspire A315-51",
         "Notebook",
         "15.6",
         "1366x768",
         "Intel Core i3 6006U 2GHz",
         "4GB",
         "128GB SSD",
         "Intel HD Graphics 520",
         "Windows 10",
         "2.1kg",
         "449.0"
        ],
        [
         "1057",
         "1071",
         "Acer",
         "Aspire ES1-523",
         "Notebook",
         "15.6",
         "1366x768",
         "AMD A8-Series 7410 2.2GHz",
         "8GB",
         "1TB HDD",
         "AMD Radeon R5",
         "Windows 10",
         "2.4kg",
         "449.0"
        ],
        [
         "644",
         "652",
         "Acer",
         "Extensa EX2540",
         "Notebook",
         "15.6",
         "1366x768",
         "Intel Core i3 6006U 2GHz",
         "4GB",
         "500GB HDD",
         "Intel HD Graphics 520",
         "Windows 10",
         "2.4kg",
         "450.0"
        ],
        [
         "124",
         "127",
         "Acer",
         "Aspire 3",
         "Notebook",
         "15.6",
         "1366x768",
         "AMD A9-Series 9420 3GHz",
         "4GB",
         "256GB SSD",
         "AMD Radeon R5",
         "Windows 10",
         "2.1kg",
         "451.0"
        ],
        [
         "313",
         "318",
         "Acer",
         "ES1-523-84K7 (A8-7410/8GB/256GB/FHD/W10)",
         "Notebook",
         "15.6",
         "Full HD 1920x1080",
         "AMD A8-Series 7410 2.2GHz",
         "8GB",
         "256GB SSD",
         "AMD Radeon R5",
         "Windows 10",
         "2.23kg",
         "469.0"
        ],
        [
         "466",
         "473",
         "Acer",
         "Aspire 5",
         "Notebook",
         "15.6",
         "1366x768",
         "Intel Core i3 6006U 2GHz",
         "4GB",
         "500GB HDD",
         "Nvidia GeForce GTX 940MX",
         "Windows 10",
         "2.2kg",
         "469.0"
        ],
        [
         "120",
         "123",
         "Acer",
         "Spin 3",
         "Notebook",
         "15.6",
         "IPS Panel Full HD / Touchscreen 1920x1080",
         "Intel Core i3 7100U 2.4GHz",
         "6GB",
         "1TB HDD",
         "Intel HD Graphics 620",
         "Windows 10",
         "2.1kg",
         "479.0"
        ],
        [
         "319",
         "324",
         "Acer",
         "TravelMate B",
         "Notebook",
         "11.6",
         "1366x768",
         "Intel Pentium Quad Core N3710 1.6GHz",
         "4GB",
         "128GB Flash Storage",
         "Intel HD Graphics 405",
         "Windows 10",
         "1.4kg",
         "485.0"
        ],
        [
         "914",
         "927",
         "Acer",
         "Aspire E5-575",
         "Notebook",
         "15.6",
         "Full HD 1920x1080",
         "Intel Core i3 7100U 2.4GHz",
         "4GB",
         "1TB HDD",
         "Intel HD Graphics 620",
         "Windows 10",
         "2.4kg",
         "499.0"
        ],
        [
         "78",
         "80",
         "Acer",
         "Aspire A515-51G-32MX",
         "Notebook",
         "15.6",
         "Full HD 1920x1080",
         "Intel Core i3 7130U 2.7GHz",
         "4GB",
         "1TB HDD",
         "Nvidia GeForce MX130",
         "Windows 10",
         "2.2kg",
         "530.0"
        ],
        [
         "460",
         "467",
         "Acer",
         "Aspire E5-576G",
         "Notebook",
         "15.6",
         "Full HD 1920x1080",
         "Intel Core i3 6006U 2GHz",
         "4GB",
         "1TB HDD",
         "Nvidia GeForce 940MX",
         "Windows 10",
         "2.23kg",
         "544.0"
        ]
       ],
       "shape": {
        "columns": 13,
        "rows": 1303
       }
      },
      "text/html": [
       "<div>\n",
       "<style scoped>\n",
       "    .dataframe tbody tr th:only-of-type {\n",
       "        vertical-align: middle;\n",
       "    }\n",
       "\n",
       "    .dataframe tbody tr th {\n",
       "        vertical-align: top;\n",
       "    }\n",
       "\n",
       "    .dataframe thead th {\n",
       "        text-align: right;\n",
       "    }\n",
       "</style>\n",
       "<table border=\"1\" class=\"dataframe\">\n",
       "  <thead>\n",
       "    <tr style=\"text-align: right;\">\n",
       "      <th></th>\n",
       "      <th>laptop_ID</th>\n",
       "      <th>Company</th>\n",
       "      <th>Product</th>\n",
       "      <th>TypeName</th>\n",
       "      <th>Inches</th>\n",
       "      <th>ScreenResolution</th>\n",
       "      <th>Cpu</th>\n",
       "      <th>Ram</th>\n",
       "      <th>Memory</th>\n",
       "      <th>Gpu</th>\n",
       "      <th>OpSys</th>\n",
       "      <th>Weight</th>\n",
       "      <th>Price_euros</th>\n",
       "    </tr>\n",
       "  </thead>\n",
       "  <tbody>\n",
       "    <tr>\n",
       "      <th>1215</th>\n",
       "      <td>1233</td>\n",
       "      <td>Acer</td>\n",
       "      <td>C740-C9QX (3205U/2GB/32GB/Chrome</td>\n",
       "      <td>Netbook</td>\n",
       "      <td>11.6</td>\n",
       "      <td>1366x768</td>\n",
       "      <td>Intel Celeron Dual Core 3205U 1.5GHz</td>\n",
       "      <td>2GB</td>\n",
       "      <td>32GB SSD</td>\n",
       "      <td>Intel HD Graphics</td>\n",
       "      <td>Chrome OS</td>\n",
       "      <td>1.3kg</td>\n",
       "      <td>174.00</td>\n",
       "    </tr>\n",
       "    <tr>\n",
       "      <th>290</th>\n",
       "      <td>295</td>\n",
       "      <td>Acer</td>\n",
       "      <td>Chromebook C910-C2ST</td>\n",
       "      <td>Notebook</td>\n",
       "      <td>15.6</td>\n",
       "      <td>1366x768</td>\n",
       "      <td>Intel Celeron Dual Core 3205U 1.5GHz</td>\n",
       "      <td>2GB</td>\n",
       "      <td>16GB SSD</td>\n",
       "      <td>Intel HD Graphics</td>\n",
       "      <td>Chrome OS</td>\n",
       "      <td>2.19kg</td>\n",
       "      <td>199.00</td>\n",
       "    </tr>\n",
       "    <tr>\n",
       "      <th>1102</th>\n",
       "      <td>1117</td>\n",
       "      <td>Acer</td>\n",
       "      <td>Chromebook 15</td>\n",
       "      <td>Notebook</td>\n",
       "      <td>15.6</td>\n",
       "      <td>1366x768</td>\n",
       "      <td>Intel Celeron Dual Core 3205U 1.5GHz</td>\n",
       "      <td>4GB</td>\n",
       "      <td>16GB SSD</td>\n",
       "      <td>Intel HD Graphics</td>\n",
       "      <td>Chrome OS</td>\n",
       "      <td>2.20kg</td>\n",
       "      <td>209.00</td>\n",
       "    </tr>\n",
       "    <tr>\n",
       "      <th>695</th>\n",
       "      <td>703</td>\n",
       "      <td>Acer</td>\n",
       "      <td>TravelMate B117-M</td>\n",
       "      <td>Netbook</td>\n",
       "      <td>11.6</td>\n",
       "      <td>1366x768</td>\n",
       "      <td>Intel Celeron Dual Core N3050 1.6GHz</td>\n",
       "      <td>4GB</td>\n",
       "      <td>32GB Flash Storage</td>\n",
       "      <td>Intel HD Graphics</td>\n",
       "      <td>Windows 10</td>\n",
       "      <td>1.4kg</td>\n",
       "      <td>269.00</td>\n",
       "    </tr>\n",
       "    <tr>\n",
       "      <th>1198</th>\n",
       "      <td>1216</td>\n",
       "      <td>Acer</td>\n",
       "      <td>Aspire 3</td>\n",
       "      <td>Notebook</td>\n",
       "      <td>15.6</td>\n",
       "      <td>1366x768</td>\n",
       "      <td>Intel Celeron Dual Core N3350 2GHz</td>\n",
       "      <td>4GB</td>\n",
       "      <td>1TB HDD</td>\n",
       "      <td>Intel HD Graphics 500</td>\n",
       "      <td>Linux</td>\n",
       "      <td>2.1kg</td>\n",
       "      <td>272.00</td>\n",
       "    </tr>\n",
       "    <tr>\n",
       "      <th>...</th>\n",
       "      <td>...</td>\n",
       "      <td>...</td>\n",
       "      <td>...</td>\n",
       "      <td>...</td>\n",
       "      <td>...</td>\n",
       "      <td>...</td>\n",
       "      <td>...</td>\n",
       "      <td>...</td>\n",
       "      <td>...</td>\n",
       "      <td>...</td>\n",
       "      <td>...</td>\n",
       "      <td>...</td>\n",
       "      <td>...</td>\n",
       "    </tr>\n",
       "    <tr>\n",
       "      <th>191</th>\n",
       "      <td>195</td>\n",
       "      <td>Vero</td>\n",
       "      <td>K147 (N3350/4GB/32GB/FHD/W10)</td>\n",
       "      <td>Notebook</td>\n",
       "      <td>14.0</td>\n",
       "      <td>IPS Panel Full HD 1920x1080</td>\n",
       "      <td>Intel Celeron Dual Core N3350 1.1GHz</td>\n",
       "      <td>4GB</td>\n",
       "      <td>32GB Flash Storage</td>\n",
       "      <td>Intel HD Graphics 500</td>\n",
       "      <td>Windows 10</td>\n",
       "      <td>1.3kg</td>\n",
       "      <td>260.00</td>\n",
       "    </tr>\n",
       "    <tr>\n",
       "      <th>877</th>\n",
       "      <td>888</td>\n",
       "      <td>Xiaomi</td>\n",
       "      <td>Mi Notebook</td>\n",
       "      <td>Ultrabook</td>\n",
       "      <td>13.3</td>\n",
       "      <td>IPS Panel Full HD 1920x1080</td>\n",
       "      <td>Intel Core i5 6200U 2.3GHz</td>\n",
       "      <td>8GB</td>\n",
       "      <td>256GB SSD</td>\n",
       "      <td>Nvidia GeForce 940MX</td>\n",
       "      <td>Windows 10</td>\n",
       "      <td>1.28kg</td>\n",
       "      <td>935.00</td>\n",
       "    </tr>\n",
       "    <tr>\n",
       "      <th>192</th>\n",
       "      <td>196</td>\n",
       "      <td>Xiaomi</td>\n",
       "      <td>Mi Notebook</td>\n",
       "      <td>Ultrabook</td>\n",
       "      <td>13.3</td>\n",
       "      <td>IPS Panel Full HD 1920x1080</td>\n",
       "      <td>Intel Core i5 7200U 2.5GHz</td>\n",
       "      <td>8GB</td>\n",
       "      <td>256GB SSD</td>\n",
       "      <td>Nvidia GeForce MX150</td>\n",
       "      <td>No OS</td>\n",
       "      <td>1.3kg</td>\n",
       "      <td>999.90</td>\n",
       "    </tr>\n",
       "    <tr>\n",
       "      <th>184</th>\n",
       "      <td>188</td>\n",
       "      <td>Xiaomi</td>\n",
       "      <td>Mi Notebook</td>\n",
       "      <td>Notebook</td>\n",
       "      <td>15.6</td>\n",
       "      <td>IPS Panel Full HD 1920x1080</td>\n",
       "      <td>Intel Core i5 8250U 1.6GHz</td>\n",
       "      <td>8GB</td>\n",
       "      <td>256GB SSD</td>\n",
       "      <td>Nvidia GeForce MX150</td>\n",
       "      <td>No OS</td>\n",
       "      <td>1.95kg</td>\n",
       "      <td>1199.00</td>\n",
       "    </tr>\n",
       "    <tr>\n",
       "      <th>514</th>\n",
       "      <td>521</td>\n",
       "      <td>Xiaomi</td>\n",
       "      <td>Mi Notebook</td>\n",
       "      <td>Notebook</td>\n",
       "      <td>15.6</td>\n",
       "      <td>IPS Panel Full HD 1920x1080</td>\n",
       "      <td>Intel Core i7 8550U 1.8GHz</td>\n",
       "      <td>16GB</td>\n",
       "      <td>256GB SSD</td>\n",
       "      <td>Nvidia GeForce MX150</td>\n",
       "      <td>No OS</td>\n",
       "      <td>1.95kg</td>\n",
       "      <td>1399.95</td>\n",
       "    </tr>\n",
       "  </tbody>\n",
       "</table>\n",
       "<p>1303 rows × 13 columns</p>\n",
       "</div>"
      ],
      "text/plain": [
       "      laptop_ID Company                           Product   TypeName  Inches  \\\n",
       "1215       1233    Acer  C740-C9QX (3205U/2GB/32GB/Chrome    Netbook    11.6   \n",
       "290         295    Acer              Chromebook C910-C2ST   Notebook    15.6   \n",
       "1102       1117    Acer                     Chromebook 15   Notebook    15.6   \n",
       "695         703    Acer                 TravelMate B117-M    Netbook    11.6   \n",
       "1198       1216    Acer                          Aspire 3   Notebook    15.6   \n",
       "...         ...     ...                               ...        ...     ...   \n",
       "191         195    Vero     K147 (N3350/4GB/32GB/FHD/W10)   Notebook    14.0   \n",
       "877         888  Xiaomi                       Mi Notebook  Ultrabook    13.3   \n",
       "192         196  Xiaomi                       Mi Notebook  Ultrabook    13.3   \n",
       "184         188  Xiaomi                       Mi Notebook   Notebook    15.6   \n",
       "514         521  Xiaomi                       Mi Notebook   Notebook    15.6   \n",
       "\n",
       "                 ScreenResolution                                   Cpu   Ram  \\\n",
       "1215                     1366x768  Intel Celeron Dual Core 3205U 1.5GHz   2GB   \n",
       "290                      1366x768  Intel Celeron Dual Core 3205U 1.5GHz   2GB   \n",
       "1102                     1366x768  Intel Celeron Dual Core 3205U 1.5GHz   4GB   \n",
       "695                      1366x768  Intel Celeron Dual Core N3050 1.6GHz   4GB   \n",
       "1198                     1366x768    Intel Celeron Dual Core N3350 2GHz   4GB   \n",
       "...                           ...                                   ...   ...   \n",
       "191   IPS Panel Full HD 1920x1080  Intel Celeron Dual Core N3350 1.1GHz   4GB   \n",
       "877   IPS Panel Full HD 1920x1080            Intel Core i5 6200U 2.3GHz   8GB   \n",
       "192   IPS Panel Full HD 1920x1080            Intel Core i5 7200U 2.5GHz   8GB   \n",
       "184   IPS Panel Full HD 1920x1080            Intel Core i5 8250U 1.6GHz   8GB   \n",
       "514   IPS Panel Full HD 1920x1080            Intel Core i7 8550U 1.8GHz  16GB   \n",
       "\n",
       "                  Memory                    Gpu       OpSys  Weight  \\\n",
       "1215            32GB SSD      Intel HD Graphics   Chrome OS   1.3kg   \n",
       "290             16GB SSD      Intel HD Graphics   Chrome OS  2.19kg   \n",
       "1102            16GB SSD      Intel HD Graphics   Chrome OS  2.20kg   \n",
       "695   32GB Flash Storage      Intel HD Graphics  Windows 10   1.4kg   \n",
       "1198             1TB HDD  Intel HD Graphics 500       Linux   2.1kg   \n",
       "...                  ...                    ...         ...     ...   \n",
       "191   32GB Flash Storage  Intel HD Graphics 500  Windows 10   1.3kg   \n",
       "877            256GB SSD   Nvidia GeForce 940MX  Windows 10  1.28kg   \n",
       "192            256GB SSD   Nvidia GeForce MX150       No OS   1.3kg   \n",
       "184            256GB SSD   Nvidia GeForce MX150       No OS  1.95kg   \n",
       "514            256GB SSD   Nvidia GeForce MX150       No OS  1.95kg   \n",
       "\n",
       "      Price_euros  \n",
       "1215       174.00  \n",
       "290        199.00  \n",
       "1102       209.00  \n",
       "695        269.00  \n",
       "1198       272.00  \n",
       "...           ...  \n",
       "191        260.00  \n",
       "877        935.00  \n",
       "192        999.90  \n",
       "184       1199.00  \n",
       "514       1399.95  \n",
       "\n",
       "[1303 rows x 13 columns]"
      ]
     },
     "execution_count": 12,
     "metadata": {},
     "output_type": "execute_result"
    }
   ],
   "source": [
    "# sort dataframe ascending by company and price\n",
    "# cheapest first and most expensive last\n",
    "df_laptops = df_laptops.sort_values(['Company', 'Price_euros'])\n",
    "df_laptops"
   ]
  },
  {
   "cell_type": "code",
   "execution_count": 13,
   "id": "ad81fb5f",
   "metadata": {},
   "outputs": [
    {
     "data": {
      "application/vnd.microsoft.datawrangler.viewer.v0+json": {
       "columns": [
        {
         "name": "Company",
         "rawType": "object",
         "type": "string"
        },
        {
         "name": "count",
         "rawType": "int64",
         "type": "integer"
        }
       ],
       "ref": "272dd4b5-7b29-4834-8b14-ae65b9e80b78",
       "rows": [
        [
         "Dell",
         "297"
        ],
        [
         "Lenovo",
         "297"
        ],
        [
         "HP",
         "274"
        ],
        [
         "Asus",
         "158"
        ],
        [
         "Acer",
         "103"
        ],
        [
         "MSI",
         "54"
        ],
        [
         "Toshiba",
         "48"
        ],
        [
         "Apple",
         "21"
        ],
        [
         "Samsung",
         "9"
        ],
        [
         "Razer",
         "7"
        ],
        [
         "Mediacom",
         "7"
        ],
        [
         "Microsoft",
         "6"
        ],
        [
         "Vero",
         "4"
        ],
        [
         "Xiaomi",
         "4"
        ],
        [
         "Google",
         "3"
        ],
        [
         "Fujitsu",
         "3"
        ],
        [
         "Chuwi",
         "3"
        ],
        [
         "LG",
         "3"
        ],
        [
         "Huawei",
         "2"
        ]
       ],
       "shape": {
        "columns": 1,
        "rows": 19
       }
      },
      "text/plain": [
       "Company\n",
       "Dell         297\n",
       "Lenovo       297\n",
       "HP           274\n",
       "Asus         158\n",
       "Acer         103\n",
       "MSI           54\n",
       "Toshiba       48\n",
       "Apple         21\n",
       "Samsung        9\n",
       "Razer          7\n",
       "Mediacom       7\n",
       "Microsoft      6\n",
       "Vero           4\n",
       "Xiaomi         4\n",
       "Google         3\n",
       "Fujitsu        3\n",
       "Chuwi          3\n",
       "LG             3\n",
       "Huawei         2\n",
       "Name: count, dtype: int64"
      ]
     },
     "execution_count": 13,
     "metadata": {},
     "output_type": "execute_result"
    }
   ],
   "source": [
    "# check all the value categories in \"Company\" column\n",
    "df_laptops.value_counts('Company')"
   ]
  },
  {
   "cell_type": "code",
   "execution_count": 15,
   "id": "8be6b81d",
   "metadata": {},
   "outputs": [
    {
     "data": {
      "application/vnd.microsoft.datawrangler.viewer.v0+json": {
       "columns": [
        {
         "name": "index",
         "rawType": "int64",
         "type": "integer"
        },
        {
         "name": "0",
         "rawType": "bool",
         "type": "boolean"
        }
       ],
       "ref": "39534d8e-a581-4b2a-8aaf-5ec32fc8d7be",
       "rows": [
        [
         "1215",
         "False"
        ],
        [
         "290",
         "True"
        ],
        [
         "1102",
         "True"
        ],
        [
         "695",
         "True"
        ],
        [
         "1198",
         "True"
        ],
        [
         "1263",
         "True"
        ],
        [
         "1277",
         "True"
        ],
        [
         "1291",
         "True"
        ],
        [
         "888",
         "True"
        ],
        [
         "769",
         "True"
        ],
        [
         "602",
         "True"
        ],
        [
         "745",
         "True"
        ],
        [
         "1183",
         "True"
        ],
        [
         "164",
         "True"
        ],
        [
         "560",
         "True"
        ],
        [
         "609",
         "True"
        ],
        [
         "949",
         "True"
        ],
        [
         "828",
         "True"
        ],
        [
         "907",
         "True"
        ],
        [
         "1242",
         "True"
        ],
        [
         "166",
         "True"
        ],
        [
         "36",
         "True"
        ],
        [
         "690",
         "True"
        ],
        [
         "619",
         "True"
        ],
        [
         "997",
         "True"
        ],
        [
         "54",
         "True"
        ],
        [
         "1089",
         "True"
        ],
        [
         "74",
         "True"
        ],
        [
         "959",
         "True"
        ],
        [
         "236",
         "True"
        ],
        [
         "84",
         "True"
        ],
        [
         "5",
         "True"
        ],
        [
         "1031",
         "True"
        ],
        [
         "739",
         "True"
        ],
        [
         "669",
         "True"
        ],
        [
         "371",
         "True"
        ],
        [
         "461",
         "True"
        ],
        [
         "446",
         "True"
        ],
        [
         "149",
         "True"
        ],
        [
         "176",
         "True"
        ],
        [
         "1057",
         "True"
        ],
        [
         "644",
         "True"
        ],
        [
         "124",
         "True"
        ],
        [
         "313",
         "True"
        ],
        [
         "466",
         "True"
        ],
        [
         "120",
         "True"
        ],
        [
         "319",
         "True"
        ],
        [
         "914",
         "True"
        ],
        [
         "78",
         "True"
        ],
        [
         "460",
         "True"
        ]
       ],
       "shape": {
        "columns": 1,
        "rows": 1303
       }
      },
      "text/plain": [
       "1215    False\n",
       "290      True\n",
       "1102     True\n",
       "695      True\n",
       "1198     True\n",
       "        ...  \n",
       "191      True\n",
       "877     False\n",
       "192      True\n",
       "184      True\n",
       "514      True\n",
       "Length: 1303, dtype: bool"
      ]
     },
     "execution_count": 15,
     "metadata": {},
     "output_type": "execute_result"
    }
   ],
   "source": [
    "# duplicated values in \"Company\" columns (default -> keep = 'first)\n",
    "duplicated_first = df_laptops.duplicated('Company', keep='first')\n",
    "duplicated_first"
   ]
  },
  {
   "cell_type": "code",
   "execution_count": 21,
   "id": "4ef3cc79",
   "metadata": {},
   "outputs": [
    {
     "data": {
      "application/vnd.microsoft.datawrangler.viewer.v0+json": {
       "columns": [
        {
         "name": "index",
         "rawType": "int64",
         "type": "integer"
        },
        {
         "name": "Company",
         "rawType": "object",
         "type": "string"
        },
        {
         "name": "Price_euros",
         "rawType": "float64",
         "type": "float"
        }
       ],
       "ref": "6700d753-8711-4c9a-ab15-be4f74a49603",
       "rows": [
        [
         "1215",
         "Acer",
         "174.0"
        ],
        [
         "1",
         "Apple",
         "898.94"
        ],
        [
         "20",
         "Asus",
         "191.9"
        ],
        [
         "30",
         "Chuwi",
         "244.99"
        ],
        [
         "340",
         "Dell",
         "274.9"
        ],
        [
         "983",
         "Fujitsu",
         "649.0"
        ],
        [
         "472",
         "Google",
         "1275.0"
        ],
        [
         "1268",
         "HP",
         "209.0"
        ],
        [
         "170",
         "Huawei",
         "1349.0"
        ],
        [
         "909",
         "LG",
         "1899.0"
        ],
        [
         "1272",
         "Lenovo",
         "229.0"
        ],
        [
         "1169",
         "MSI",
         "839.0"
        ],
        [
         "626",
         "Mediacom",
         "239.0"
        ],
        [
         "457",
         "Microsoft",
         "989.0"
        ],
        [
         "1117",
         "Razer",
         "1029.0"
        ],
        [
         "430",
         "Samsung",
         "269.0"
        ],
        [
         "159",
         "Toshiba",
         "447.0"
        ],
        [
         "1120",
         "Vero",
         "196.0"
        ],
        [
         "877",
         "Xiaomi",
         "935.0"
        ]
       ],
       "shape": {
        "columns": 2,
        "rows": 19
       }
      },
      "text/html": [
       "<div>\n",
       "<style scoped>\n",
       "    .dataframe tbody tr th:only-of-type {\n",
       "        vertical-align: middle;\n",
       "    }\n",
       "\n",
       "    .dataframe tbody tr th {\n",
       "        vertical-align: top;\n",
       "    }\n",
       "\n",
       "    .dataframe thead th {\n",
       "        text-align: right;\n",
       "    }\n",
       "</style>\n",
       "<table border=\"1\" class=\"dataframe\">\n",
       "  <thead>\n",
       "    <tr style=\"text-align: right;\">\n",
       "      <th></th>\n",
       "      <th>Company</th>\n",
       "      <th>Price_euros</th>\n",
       "    </tr>\n",
       "  </thead>\n",
       "  <tbody>\n",
       "    <tr>\n",
       "      <th>1215</th>\n",
       "      <td>Acer</td>\n",
       "      <td>174.00</td>\n",
       "    </tr>\n",
       "    <tr>\n",
       "      <th>1</th>\n",
       "      <td>Apple</td>\n",
       "      <td>898.94</td>\n",
       "    </tr>\n",
       "    <tr>\n",
       "      <th>20</th>\n",
       "      <td>Asus</td>\n",
       "      <td>191.90</td>\n",
       "    </tr>\n",
       "    <tr>\n",
       "      <th>30</th>\n",
       "      <td>Chuwi</td>\n",
       "      <td>244.99</td>\n",
       "    </tr>\n",
       "    <tr>\n",
       "      <th>340</th>\n",
       "      <td>Dell</td>\n",
       "      <td>274.90</td>\n",
       "    </tr>\n",
       "    <tr>\n",
       "      <th>983</th>\n",
       "      <td>Fujitsu</td>\n",
       "      <td>649.00</td>\n",
       "    </tr>\n",
       "    <tr>\n",
       "      <th>472</th>\n",
       "      <td>Google</td>\n",
       "      <td>1275.00</td>\n",
       "    </tr>\n",
       "    <tr>\n",
       "      <th>1268</th>\n",
       "      <td>HP</td>\n",
       "      <td>209.00</td>\n",
       "    </tr>\n",
       "    <tr>\n",
       "      <th>170</th>\n",
       "      <td>Huawei</td>\n",
       "      <td>1349.00</td>\n",
       "    </tr>\n",
       "    <tr>\n",
       "      <th>909</th>\n",
       "      <td>LG</td>\n",
       "      <td>1899.00</td>\n",
       "    </tr>\n",
       "    <tr>\n",
       "      <th>1272</th>\n",
       "      <td>Lenovo</td>\n",
       "      <td>229.00</td>\n",
       "    </tr>\n",
       "    <tr>\n",
       "      <th>1169</th>\n",
       "      <td>MSI</td>\n",
       "      <td>839.00</td>\n",
       "    </tr>\n",
       "    <tr>\n",
       "      <th>626</th>\n",
       "      <td>Mediacom</td>\n",
       "      <td>239.00</td>\n",
       "    </tr>\n",
       "    <tr>\n",
       "      <th>457</th>\n",
       "      <td>Microsoft</td>\n",
       "      <td>989.00</td>\n",
       "    </tr>\n",
       "    <tr>\n",
       "      <th>1117</th>\n",
       "      <td>Razer</td>\n",
       "      <td>1029.00</td>\n",
       "    </tr>\n",
       "    <tr>\n",
       "      <th>430</th>\n",
       "      <td>Samsung</td>\n",
       "      <td>269.00</td>\n",
       "    </tr>\n",
       "    <tr>\n",
       "      <th>159</th>\n",
       "      <td>Toshiba</td>\n",
       "      <td>447.00</td>\n",
       "    </tr>\n",
       "    <tr>\n",
       "      <th>1120</th>\n",
       "      <td>Vero</td>\n",
       "      <td>196.00</td>\n",
       "    </tr>\n",
       "    <tr>\n",
       "      <th>877</th>\n",
       "      <td>Xiaomi</td>\n",
       "      <td>935.00</td>\n",
       "    </tr>\n",
       "  </tbody>\n",
       "</table>\n",
       "</div>"
      ],
      "text/plain": [
       "        Company  Price_euros\n",
       "1215       Acer       174.00\n",
       "1         Apple       898.94\n",
       "20         Asus       191.90\n",
       "30        Chuwi       244.99\n",
       "340        Dell       274.90\n",
       "983     Fujitsu       649.00\n",
       "472      Google      1275.00\n",
       "1268         HP       209.00\n",
       "170      Huawei      1349.00\n",
       "909          LG      1899.00\n",
       "1272     Lenovo       229.00\n",
       "1169        MSI       839.00\n",
       "626    Mediacom       239.00\n",
       "457   Microsoft       989.00\n",
       "1117      Razer      1029.00\n",
       "430     Samsung       269.00\n",
       "159     Toshiba       447.00\n",
       "1120       Vero       196.00\n",
       "877      Xiaomi       935.00"
      ]
     },
     "execution_count": 21,
     "metadata": {},
     "output_type": "execute_result"
    }
   ],
   "source": [
    "# show dataframe with duplicated values in \"Company\" column\n",
    "df_laptops[duplicated_first]\n",
    "\n",
    "# keep='first' (cheapest laptop per company)\n",
    "# show dataframe with non duplicated values in \"Company\" column\n",
    "df_laptops[~duplicated_first][['Company', 'Price_euros']]\n",
    "\n",
    "# check all value categories\n",
    "# df_laptops[~duplicated_first].value_counts('Company')"
   ]
  },
  {
   "cell_type": "code",
   "execution_count": 22,
   "id": "a22b21e7",
   "metadata": {},
   "outputs": [
    {
     "data": {
      "application/vnd.microsoft.datawrangler.viewer.v0+json": {
       "columns": [
        {
         "name": "index",
         "rawType": "int64",
         "type": "integer"
        },
        {
         "name": "0",
         "rawType": "bool",
         "type": "boolean"
        }
       ],
       "ref": "d5ae8b5e-c58d-48da-b75a-d9ff4d0acdaf",
       "rows": [
        [
         "1215",
         "True"
        ],
        [
         "290",
         "True"
        ],
        [
         "1102",
         "True"
        ],
        [
         "695",
         "True"
        ],
        [
         "1198",
         "True"
        ],
        [
         "1263",
         "True"
        ],
        [
         "1277",
         "True"
        ],
        [
         "1291",
         "True"
        ],
        [
         "888",
         "True"
        ],
        [
         "769",
         "True"
        ],
        [
         "602",
         "True"
        ],
        [
         "745",
         "True"
        ],
        [
         "1183",
         "True"
        ],
        [
         "164",
         "True"
        ],
        [
         "560",
         "True"
        ],
        [
         "609",
         "True"
        ],
        [
         "949",
         "True"
        ],
        [
         "828",
         "True"
        ],
        [
         "907",
         "True"
        ],
        [
         "1242",
         "True"
        ],
        [
         "166",
         "True"
        ],
        [
         "36",
         "True"
        ],
        [
         "690",
         "True"
        ],
        [
         "619",
         "True"
        ],
        [
         "997",
         "True"
        ],
        [
         "54",
         "True"
        ],
        [
         "1089",
         "True"
        ],
        [
         "74",
         "True"
        ],
        [
         "959",
         "True"
        ],
        [
         "236",
         "True"
        ],
        [
         "84",
         "True"
        ],
        [
         "5",
         "True"
        ],
        [
         "1031",
         "True"
        ],
        [
         "739",
         "True"
        ],
        [
         "669",
         "True"
        ],
        [
         "371",
         "True"
        ],
        [
         "461",
         "True"
        ],
        [
         "446",
         "True"
        ],
        [
         "149",
         "True"
        ],
        [
         "176",
         "True"
        ],
        [
         "1057",
         "True"
        ],
        [
         "644",
         "True"
        ],
        [
         "124",
         "True"
        ],
        [
         "313",
         "True"
        ],
        [
         "466",
         "True"
        ],
        [
         "120",
         "True"
        ],
        [
         "319",
         "True"
        ],
        [
         "914",
         "True"
        ],
        [
         "78",
         "True"
        ],
        [
         "460",
         "True"
        ]
       ],
       "shape": {
        "columns": 1,
        "rows": 1303
       }
      },
      "text/plain": [
       "1215     True\n",
       "290      True\n",
       "1102     True\n",
       "695      True\n",
       "1198     True\n",
       "        ...  \n",
       "191     False\n",
       "877      True\n",
       "192      True\n",
       "184      True\n",
       "514     False\n",
       "Length: 1303, dtype: bool"
      ]
     },
     "execution_count": 22,
     "metadata": {},
     "output_type": "execute_result"
    }
   ],
   "source": [
    "# keep='last'\n",
    "duplicated_last = df_laptops.duplicated('Company', keep='last')\n",
    "duplicated_last"
   ]
  },
  {
   "cell_type": "code",
   "execution_count": 24,
   "id": "bbb282f0",
   "metadata": {},
   "outputs": [
    {
     "data": {
      "application/vnd.microsoft.datawrangler.viewer.v0+json": {
       "columns": [
        {
         "name": "index",
         "rawType": "int64",
         "type": "integer"
        },
        {
         "name": "Company",
         "rawType": "object",
         "type": "string"
        },
        {
         "name": "Price_euros",
         "rawType": "float64",
         "type": "float"
        }
       ],
       "ref": "8266c603-3fc4-4c9c-9183-cb5735691829",
       "rows": [
        [
         "1189",
         "Acer",
         "2599.0"
        ],
        [
         "17",
         "Apple",
         "2858.0"
        ],
        [
         "1066",
         "Asus",
         "3975.0"
        ],
        [
         "421",
         "Chuwi",
         "449.0"
        ],
        [
         "723",
         "Dell",
         "3659.4"
        ],
        [
         "623",
         "Fujitsu",
         "799.0"
        ],
        [
         "437",
         "Google",
         "2199.0"
        ],
        [
         "749",
         "HP",
         "4389.0"
        ],
        [
         "214",
         "Huawei",
         "1499.0"
        ],
        [
         "678",
         "LG",
         "2299.0"
        ],
        [
         "610",
         "Lenovo",
         "4899.0"
        ],
        [
         "177",
         "MSI",
         "2799.0"
        ],
        [
         "580",
         "Mediacom",
         "389.0"
        ],
        [
         "449",
         "Microsoft",
         "2589.0"
        ],
        [
         "196",
         "Razer",
         "6099.0"
        ],
        [
         "874",
         "Samsung",
         "1849.0"
        ],
        [
         "491",
         "Toshiba",
         "2799.0"
        ],
        [
         "191",
         "Vero",
         "260.0"
        ],
        [
         "514",
         "Xiaomi",
         "1399.95"
        ]
       ],
       "shape": {
        "columns": 2,
        "rows": 19
       }
      },
      "text/html": [
       "<div>\n",
       "<style scoped>\n",
       "    .dataframe tbody tr th:only-of-type {\n",
       "        vertical-align: middle;\n",
       "    }\n",
       "\n",
       "    .dataframe tbody tr th {\n",
       "        vertical-align: top;\n",
       "    }\n",
       "\n",
       "    .dataframe thead th {\n",
       "        text-align: right;\n",
       "    }\n",
       "</style>\n",
       "<table border=\"1\" class=\"dataframe\">\n",
       "  <thead>\n",
       "    <tr style=\"text-align: right;\">\n",
       "      <th></th>\n",
       "      <th>Company</th>\n",
       "      <th>Price_euros</th>\n",
       "    </tr>\n",
       "  </thead>\n",
       "  <tbody>\n",
       "    <tr>\n",
       "      <th>1189</th>\n",
       "      <td>Acer</td>\n",
       "      <td>2599.00</td>\n",
       "    </tr>\n",
       "    <tr>\n",
       "      <th>17</th>\n",
       "      <td>Apple</td>\n",
       "      <td>2858.00</td>\n",
       "    </tr>\n",
       "    <tr>\n",
       "      <th>1066</th>\n",
       "      <td>Asus</td>\n",
       "      <td>3975.00</td>\n",
       "    </tr>\n",
       "    <tr>\n",
       "      <th>421</th>\n",
       "      <td>Chuwi</td>\n",
       "      <td>449.00</td>\n",
       "    </tr>\n",
       "    <tr>\n",
       "      <th>723</th>\n",
       "      <td>Dell</td>\n",
       "      <td>3659.40</td>\n",
       "    </tr>\n",
       "    <tr>\n",
       "      <th>623</th>\n",
       "      <td>Fujitsu</td>\n",
       "      <td>799.00</td>\n",
       "    </tr>\n",
       "    <tr>\n",
       "      <th>437</th>\n",
       "      <td>Google</td>\n",
       "      <td>2199.00</td>\n",
       "    </tr>\n",
       "    <tr>\n",
       "      <th>749</th>\n",
       "      <td>HP</td>\n",
       "      <td>4389.00</td>\n",
       "    </tr>\n",
       "    <tr>\n",
       "      <th>214</th>\n",
       "      <td>Huawei</td>\n",
       "      <td>1499.00</td>\n",
       "    </tr>\n",
       "    <tr>\n",
       "      <th>678</th>\n",
       "      <td>LG</td>\n",
       "      <td>2299.00</td>\n",
       "    </tr>\n",
       "    <tr>\n",
       "      <th>610</th>\n",
       "      <td>Lenovo</td>\n",
       "      <td>4899.00</td>\n",
       "    </tr>\n",
       "    <tr>\n",
       "      <th>177</th>\n",
       "      <td>MSI</td>\n",
       "      <td>2799.00</td>\n",
       "    </tr>\n",
       "    <tr>\n",
       "      <th>580</th>\n",
       "      <td>Mediacom</td>\n",
       "      <td>389.00</td>\n",
       "    </tr>\n",
       "    <tr>\n",
       "      <th>449</th>\n",
       "      <td>Microsoft</td>\n",
       "      <td>2589.00</td>\n",
       "    </tr>\n",
       "    <tr>\n",
       "      <th>196</th>\n",
       "      <td>Razer</td>\n",
       "      <td>6099.00</td>\n",
       "    </tr>\n",
       "    <tr>\n",
       "      <th>874</th>\n",
       "      <td>Samsung</td>\n",
       "      <td>1849.00</td>\n",
       "    </tr>\n",
       "    <tr>\n",
       "      <th>491</th>\n",
       "      <td>Toshiba</td>\n",
       "      <td>2799.00</td>\n",
       "    </tr>\n",
       "    <tr>\n",
       "      <th>191</th>\n",
       "      <td>Vero</td>\n",
       "      <td>260.00</td>\n",
       "    </tr>\n",
       "    <tr>\n",
       "      <th>514</th>\n",
       "      <td>Xiaomi</td>\n",
       "      <td>1399.95</td>\n",
       "    </tr>\n",
       "  </tbody>\n",
       "</table>\n",
       "</div>"
      ],
      "text/plain": [
       "        Company  Price_euros\n",
       "1189       Acer      2599.00\n",
       "17        Apple      2858.00\n",
       "1066       Asus      3975.00\n",
       "421       Chuwi       449.00\n",
       "723        Dell      3659.40\n",
       "623     Fujitsu       799.00\n",
       "437      Google      2199.00\n",
       "749          HP      4389.00\n",
       "214      Huawei      1499.00\n",
       "678          LG      2299.00\n",
       "610      Lenovo      4899.00\n",
       "177         MSI      2799.00\n",
       "580    Mediacom       389.00\n",
       "449   Microsoft      2589.00\n",
       "196       Razer      6099.00\n",
       "874     Samsung      1849.00\n",
       "491     Toshiba      2799.00\n",
       "191        Vero       260.00\n",
       "514      Xiaomi      1399.95"
      ]
     },
     "execution_count": 24,
     "metadata": {},
     "output_type": "execute_result"
    }
   ],
   "source": [
    "# keep='last' (most expensive laptop per company)\n",
    "# show dataframe with non duplicated values in \"company\" column\n",
    "df_laptops[~duplicated_last][['Company', 'Price_euros']]"
   ]
  },
  {
   "cell_type": "code",
   "execution_count": 25,
   "id": "a8e6b4d6",
   "metadata": {},
   "outputs": [
    {
     "data": {
      "application/vnd.microsoft.datawrangler.viewer.v0+json": {
       "columns": [
        {
         "name": "index",
         "rawType": "int64",
         "type": "integer"
        },
        {
         "name": "0",
         "rawType": "bool",
         "type": "boolean"
        }
       ],
       "ref": "16fe0276-7d89-4824-b83d-e68285878cfc",
       "rows": [
        [
         "1215",
         "True"
        ],
        [
         "290",
         "True"
        ],
        [
         "1102",
         "True"
        ],
        [
         "695",
         "True"
        ],
        [
         "1198",
         "True"
        ],
        [
         "1263",
         "True"
        ],
        [
         "1277",
         "True"
        ],
        [
         "1291",
         "True"
        ],
        [
         "888",
         "True"
        ],
        [
         "769",
         "True"
        ],
        [
         "602",
         "True"
        ],
        [
         "745",
         "True"
        ],
        [
         "1183",
         "True"
        ],
        [
         "164",
         "True"
        ],
        [
         "560",
         "True"
        ],
        [
         "609",
         "True"
        ],
        [
         "949",
         "True"
        ],
        [
         "828",
         "True"
        ],
        [
         "907",
         "True"
        ],
        [
         "1242",
         "True"
        ],
        [
         "166",
         "True"
        ],
        [
         "36",
         "True"
        ],
        [
         "690",
         "True"
        ],
        [
         "619",
         "True"
        ],
        [
         "997",
         "True"
        ],
        [
         "54",
         "True"
        ],
        [
         "1089",
         "True"
        ],
        [
         "74",
         "True"
        ],
        [
         "959",
         "True"
        ],
        [
         "236",
         "True"
        ],
        [
         "84",
         "True"
        ],
        [
         "5",
         "True"
        ],
        [
         "1031",
         "True"
        ],
        [
         "739",
         "True"
        ],
        [
         "669",
         "True"
        ],
        [
         "371",
         "True"
        ],
        [
         "461",
         "True"
        ],
        [
         "446",
         "True"
        ],
        [
         "149",
         "True"
        ],
        [
         "176",
         "True"
        ],
        [
         "1057",
         "True"
        ],
        [
         "644",
         "True"
        ],
        [
         "124",
         "True"
        ],
        [
         "313",
         "True"
        ],
        [
         "466",
         "True"
        ],
        [
         "120",
         "True"
        ],
        [
         "319",
         "True"
        ],
        [
         "914",
         "True"
        ],
        [
         "78",
         "True"
        ],
        [
         "460",
         "True"
        ]
       ],
       "shape": {
        "columns": 1,
        "rows": 1303
       }
      },
      "text/plain": [
       "1215    True\n",
       "290     True\n",
       "1102    True\n",
       "695     True\n",
       "1198    True\n",
       "        ... \n",
       "191     True\n",
       "877     True\n",
       "192     True\n",
       "184     True\n",
       "514     True\n",
       "Length: 1303, dtype: bool"
      ]
     },
     "execution_count": 25,
     "metadata": {},
     "output_type": "execute_result"
    }
   ],
   "source": [
    "# keep=Flase\n",
    "duplicated_false = df_laptops.duplicated('Company', keep=False)\n",
    "duplicated_false"
   ]
  },
  {
   "cell_type": "code",
   "execution_count": 26,
   "id": "12a92214",
   "metadata": {},
   "outputs": [
    {
     "data": {
      "application/vnd.microsoft.datawrangler.viewer.v0+json": {
       "columns": [
        {
         "name": "index",
         "rawType": "int64",
         "type": "integer"
        },
        {
         "name": "laptop_ID",
         "rawType": "int64",
         "type": "integer"
        },
        {
         "name": "Company",
         "rawType": "object",
         "type": "string"
        },
        {
         "name": "Product",
         "rawType": "object",
         "type": "string"
        },
        {
         "name": "TypeName",
         "rawType": "object",
         "type": "string"
        },
        {
         "name": "Inches",
         "rawType": "float64",
         "type": "float"
        },
        {
         "name": "ScreenResolution",
         "rawType": "object",
         "type": "string"
        },
        {
         "name": "Cpu",
         "rawType": "object",
         "type": "string"
        },
        {
         "name": "Ram",
         "rawType": "object",
         "type": "string"
        },
        {
         "name": "Memory",
         "rawType": "object",
         "type": "string"
        },
        {
         "name": "Gpu",
         "rawType": "object",
         "type": "string"
        },
        {
         "name": "OpSys",
         "rawType": "object",
         "type": "string"
        },
        {
         "name": "Weight",
         "rawType": "object",
         "type": "string"
        },
        {
         "name": "Price_euros",
         "rawType": "float64",
         "type": "float"
        }
       ],
       "ref": "be1f8b56-471e-4fef-a09c-c57ea5dc50ef",
       "rows": [],
       "shape": {
        "columns": 13,
        "rows": 0
       }
      },
      "text/html": [
       "<div>\n",
       "<style scoped>\n",
       "    .dataframe tbody tr th:only-of-type {\n",
       "        vertical-align: middle;\n",
       "    }\n",
       "\n",
       "    .dataframe tbody tr th {\n",
       "        vertical-align: top;\n",
       "    }\n",
       "\n",
       "    .dataframe thead th {\n",
       "        text-align: right;\n",
       "    }\n",
       "</style>\n",
       "<table border=\"1\" class=\"dataframe\">\n",
       "  <thead>\n",
       "    <tr style=\"text-align: right;\">\n",
       "      <th></th>\n",
       "      <th>laptop_ID</th>\n",
       "      <th>Company</th>\n",
       "      <th>Product</th>\n",
       "      <th>TypeName</th>\n",
       "      <th>Inches</th>\n",
       "      <th>ScreenResolution</th>\n",
       "      <th>Cpu</th>\n",
       "      <th>Ram</th>\n",
       "      <th>Memory</th>\n",
       "      <th>Gpu</th>\n",
       "      <th>OpSys</th>\n",
       "      <th>Weight</th>\n",
       "      <th>Price_euros</th>\n",
       "    </tr>\n",
       "  </thead>\n",
       "  <tbody>\n",
       "  </tbody>\n",
       "</table>\n",
       "</div>"
      ],
      "text/plain": [
       "Empty DataFrame\n",
       "Columns: [laptop_ID, Company, Product, TypeName, Inches, ScreenResolution, Cpu, Ram, Memory, Gpu, OpSys, Weight, Price_euros]\n",
       "Index: []"
      ]
     },
     "execution_count": 26,
     "metadata": {},
     "output_type": "execute_result"
    }
   ],
   "source": [
    "# show dataframe\n",
    "df_laptops[~duplicated_false]"
   ]
  },
  {
   "cell_type": "code",
   "execution_count": 27,
   "id": "b6b01a9a",
   "metadata": {},
   "outputs": [
    {
     "data": {
      "application/vnd.microsoft.datawrangler.viewer.v0+json": {
       "columns": [
        {
         "name": "Company",
         "rawType": "object",
         "type": "string"
        },
        {
         "name": "count",
         "rawType": "int64",
         "type": "integer"
        }
       ],
       "ref": "921e977d-d93a-4360-b3e9-5eb6d5e38c2e",
       "rows": [
        [
         "Dell",
         "297"
        ],
        [
         "Lenovo",
         "297"
        ],
        [
         "HP",
         "274"
        ],
        [
         "Asus",
         "158"
        ],
        [
         "Acer",
         "103"
        ],
        [
         "MSI",
         "54"
        ],
        [
         "Toshiba",
         "48"
        ],
        [
         "Apple",
         "21"
        ],
        [
         "Samsung",
         "9"
        ],
        [
         "Razer",
         "7"
        ],
        [
         "Mediacom",
         "7"
        ],
        [
         "Microsoft",
         "6"
        ],
        [
         "Vero",
         "4"
        ],
        [
         "Xiaomi",
         "4"
        ],
        [
         "Google",
         "3"
        ],
        [
         "Fujitsu",
         "3"
        ],
        [
         "Chuwi",
         "3"
        ],
        [
         "LG",
         "3"
        ],
        [
         "Huawei",
         "2"
        ]
       ],
       "shape": {
        "columns": 1,
        "rows": 19
       }
      },
      "text/plain": [
       "Company\n",
       "Dell         297\n",
       "Lenovo       297\n",
       "HP           274\n",
       "Asus         158\n",
       "Acer         103\n",
       "MSI           54\n",
       "Toshiba       48\n",
       "Apple         21\n",
       "Samsung        9\n",
       "Razer          7\n",
       "Mediacom       7\n",
       "Microsoft      6\n",
       "Vero           4\n",
       "Xiaomi         4\n",
       "Google         3\n",
       "Fujitsu        3\n",
       "Chuwi          3\n",
       "LG             3\n",
       "Huawei         2\n",
       "Name: count, dtype: int64"
      ]
     },
     "execution_count": 27,
     "metadata": {},
     "output_type": "execute_result"
    }
   ],
   "source": [
    "# all elements in company column are repreated at leaset once\n",
    "df_laptops.value_counts('Company')"
   ]
  },
  {
   "cell_type": "code",
   "execution_count": null,
   "id": "ba8fb53d",
   "metadata": {},
   "outputs": [],
   "source": []
  }
 ],
 "metadata": {
  "kernelspec": {
   "display_name": ".venv",
   "language": "python",
   "name": "python3"
  },
  "language_info": {
   "codemirror_mode": {
    "name": "ipython",
    "version": 3
   },
   "file_extension": ".py",
   "mimetype": "text/x-python",
   "name": "python",
   "nbconvert_exporter": "python",
   "pygments_lexer": "ipython3",
   "version": "3.10.8"
  }
 },
 "nbformat": 4,
 "nbformat_minor": 5
}
