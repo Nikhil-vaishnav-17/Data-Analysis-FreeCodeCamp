{
 "cells": [
  {
   "cell_type": "code",
   "execution_count": 1,
   "id": "e491f29c",
   "metadata": {},
   "outputs": [],
   "source": [
    "import pandas as pd"
   ]
  },
  {
   "cell_type": "code",
   "execution_count": 2,
   "id": "32b61274",
   "metadata": {},
   "outputs": [],
   "source": [
    "# reading the csv file\n",
    "df_population_raw = pd.read_csv('population_total.csv')"
   ]
  },
  {
   "cell_type": "code",
   "execution_count": 3,
   "id": "914467e0",
   "metadata": {
    "scrolled": false
   },
   "outputs": [
    {
     "data": {
      "application/vnd.microsoft.datawrangler.viewer.v0+json": {
       "columns": [
        {
         "name": "index",
         "rawType": "int64",
         "type": "integer"
        },
        {
         "name": "country",
         "rawType": "object",
         "type": "string"
        },
        {
         "name": "year",
         "rawType": "float64",
         "type": "float"
        },
        {
         "name": "population",
         "rawType": "float64",
         "type": "float"
        }
       ],
       "ref": "ec3bf8e0-42e2-4da8-a87d-8a4efe60ca5b",
       "rows": [
        [
         "0",
         "China",
         "2020.0",
         "1439323776.0"
        ],
        [
         "1",
         "China",
         "2019.0",
         "1433783686.0"
        ],
        [
         "2",
         "China",
         "2018.0",
         "1427647786.0"
        ],
        [
         "3",
         "China",
         "2017.0",
         "1421021791.0"
        ],
        [
         "4",
         "China",
         "2016.0",
         "1414049351.0"
        ],
        [
         "5",
         "China",
         "2015.0",
         "1406847870.0"
        ],
        [
         "6",
         "China",
         "2010.0",
         "1368810615.0"
        ],
        [
         "7",
         "China",
         "2005.0",
         "1330776380.0"
        ],
        [
         "8",
         "China",
         "2000.0",
         "1290550765.0"
        ],
        [
         "9",
         "China",
         "1995.0",
         "1240920535.0"
        ],
        [
         "10",
         "China",
         "1990.0",
         "1176883674.0"
        ],
        [
         "11",
         "China",
         "1985.0",
         "1075589361.0"
        ],
        [
         "12",
         "China",
         "1980.0",
         "1000089235.0"
        ],
        [
         "13",
         "China",
         "1975.0",
         "926240885.0"
        ],
        [
         "14",
         "China",
         "1970.0",
         "827601394.0"
        ],
        [
         "15",
         "China",
         "1965.0",
         "724218968.0"
        ],
        [
         "16",
         "China",
         "1960.0",
         "660408056.0"
        ],
        [
         "17",
         "China",
         "1955.0",
         "612241554.0"
        ],
        [
         "18",
         "France",
         "2020.0",
         "65273511.0"
        ],
        [
         "19",
         "France",
         "2019.0",
         "65129728.0"
        ],
        [
         "20",
         "France",
         "2018.0",
         "64990511.0"
        ],
        [
         "21",
         "Myanmar",
         "2020.0",
         "54409800.0"
        ],
        [
         "22",
         "Myanmar",
         "2019.0",
         "54045420.0"
        ],
        [
         "23",
         "South Africa",
         "2020.0",
         "59308690.0"
        ],
        [
         "24",
         "Tanzania",
         "2020.0",
         "59734218.0"
        ],
        [
         "25",
         "Italy",
         "2020.0",
         "60461826.0"
        ],
        [
         "26",
         "France",
         "2017.0",
         "64842509.0"
        ],
        [
         "27",
         "France",
         "2016.0",
         "64667596.0"
        ],
        [
         "28",
         "France",
         "2015.0",
         "64453200.0"
        ],
        [
         "29",
         "Myanmar",
         "2018.0",
         "53708320.0"
        ],
        [
         "30",
         "Myanmar",
         "2017.0",
         "53382523.0"
        ],
        [
         "31",
         "Myanmar",
         "2016.0",
         "53045201.0"
        ],
        [
         "32",
         "South Korea",
         "2020.0",
         "51269185.0"
        ],
        [
         "33",
         "South Africa",
         "2019.0",
         "58558270.0"
        ],
        [
         "34",
         "South Africa",
         "2018.0",
         "57792518.0"
        ],
        [
         "35",
         "South Africa",
         "2017.0",
         "57009756.0"
        ],
        [
         "36",
         "Tanzania",
         "2019.0",
         "58005463.0"
        ],
        [
         "37",
         "Tanzania",
         "2018.0",
         "56313438.0"
        ],
        [
         "38",
         "Tanzania",
         "2017.0",
         "54660339.0"
        ],
        [
         "39",
         "Italy",
         "2019.0",
         "60550075.0"
        ],
        [
         "40",
         "Italy",
         "2018.0",
         "60627291.0"
        ],
        [
         "41",
         "Italy",
         "2017.0",
         "60673701.0"
        ],
        [
         "42",
         "France",
         "2010.0",
         "62879530.0"
        ],
        [
         "43",
         "France",
         "2005.0",
         "61120127.0"
        ],
        [
         "44",
         "France",
         "2000.0",
         "59015096.0"
        ],
        [
         "45",
         "France",
         "1995.0",
         "57801892.0"
        ],
        [
         "46",
         "Kenya",
         "2020.0",
         "53771296.0"
        ],
        [
         "47",
         "Kenya",
         "2019.0",
         "52573973.0"
        ],
        [
         "48",
         "Myanmar",
         "2015.0",
         "52680726.0"
        ],
        [
         "49",
         "Myanmar",
         "2010.0",
         "50600818.0"
        ]
       ],
       "shape": {
        "columns": 3,
        "rows": 4185
       }
      },
      "text/html": [
       "<div>\n",
       "<style scoped>\n",
       "    .dataframe tbody tr th:only-of-type {\n",
       "        vertical-align: middle;\n",
       "    }\n",
       "\n",
       "    .dataframe tbody tr th {\n",
       "        vertical-align: top;\n",
       "    }\n",
       "\n",
       "    .dataframe thead th {\n",
       "        text-align: right;\n",
       "    }\n",
       "</style>\n",
       "<table border=\"1\" class=\"dataframe\">\n",
       "  <thead>\n",
       "    <tr style=\"text-align: right;\">\n",
       "      <th></th>\n",
       "      <th>country</th>\n",
       "      <th>year</th>\n",
       "      <th>population</th>\n",
       "    </tr>\n",
       "  </thead>\n",
       "  <tbody>\n",
       "    <tr>\n",
       "      <th>0</th>\n",
       "      <td>China</td>\n",
       "      <td>2020.0</td>\n",
       "      <td>1.439324e+09</td>\n",
       "    </tr>\n",
       "    <tr>\n",
       "      <th>1</th>\n",
       "      <td>China</td>\n",
       "      <td>2019.0</td>\n",
       "      <td>1.433784e+09</td>\n",
       "    </tr>\n",
       "    <tr>\n",
       "      <th>2</th>\n",
       "      <td>China</td>\n",
       "      <td>2018.0</td>\n",
       "      <td>1.427648e+09</td>\n",
       "    </tr>\n",
       "    <tr>\n",
       "      <th>3</th>\n",
       "      <td>China</td>\n",
       "      <td>2017.0</td>\n",
       "      <td>1.421022e+09</td>\n",
       "    </tr>\n",
       "    <tr>\n",
       "      <th>4</th>\n",
       "      <td>China</td>\n",
       "      <td>2016.0</td>\n",
       "      <td>1.414049e+09</td>\n",
       "    </tr>\n",
       "    <tr>\n",
       "      <th>...</th>\n",
       "      <td>...</td>\n",
       "      <td>...</td>\n",
       "      <td>...</td>\n",
       "    </tr>\n",
       "    <tr>\n",
       "      <th>4180</th>\n",
       "      <td>United States</td>\n",
       "      <td>1965.0</td>\n",
       "      <td>1.997337e+08</td>\n",
       "    </tr>\n",
       "    <tr>\n",
       "      <th>4181</th>\n",
       "      <td>United States</td>\n",
       "      <td>1960.0</td>\n",
       "      <td>1.867206e+08</td>\n",
       "    </tr>\n",
       "    <tr>\n",
       "      <th>4182</th>\n",
       "      <td>United States</td>\n",
       "      <td>1955.0</td>\n",
       "      <td>1.716853e+08</td>\n",
       "    </tr>\n",
       "    <tr>\n",
       "      <th>4183</th>\n",
       "      <td>India</td>\n",
       "      <td>1960.0</td>\n",
       "      <td>4.505477e+08</td>\n",
       "    </tr>\n",
       "    <tr>\n",
       "      <th>4184</th>\n",
       "      <td>India</td>\n",
       "      <td>1955.0</td>\n",
       "      <td>4.098806e+08</td>\n",
       "    </tr>\n",
       "  </tbody>\n",
       "</table>\n",
       "<p>4185 rows × 3 columns</p>\n",
       "</div>"
      ],
      "text/plain": [
       "            country    year    population\n",
       "0             China  2020.0  1.439324e+09\n",
       "1             China  2019.0  1.433784e+09\n",
       "2             China  2018.0  1.427648e+09\n",
       "3             China  2017.0  1.421022e+09\n",
       "4             China  2016.0  1.414049e+09\n",
       "...             ...     ...           ...\n",
       "4180  United States  1965.0  1.997337e+08\n",
       "4181  United States  1960.0  1.867206e+08\n",
       "4182  United States  1955.0  1.716853e+08\n",
       "4183          India  1960.0  4.505477e+08\n",
       "4184          India  1955.0  4.098806e+08\n",
       "\n",
       "[4185 rows x 3 columns]"
      ]
     },
     "execution_count": 3,
     "metadata": {},
     "output_type": "execute_result"
    }
   ],
   "source": [
    "# first look at the dataset\n",
    "df_population_raw"
   ]
  },
  {
   "cell_type": "markdown",
   "id": "77c44b3e",
   "metadata": {},
   "source": [
    "# Making a Pivot Table"
   ]
  },
  {
   "cell_type": "markdown",
   "id": "45f4f2dc",
   "metadata": {},
   "source": [
    ".pivot(): Returns reshaped DataFrame organized by given index / column values (\"pivot without aggregation\")"
   ]
  },
  {
   "cell_type": "code",
   "execution_count": 4,
   "id": "1a7f1cba",
   "metadata": {},
   "outputs": [],
   "source": [
    "# dropping null values\n",
    "df_population_raw.dropna(inplace=True)"
   ]
  },
  {
   "cell_type": "code",
   "execution_count": 5,
   "id": "f57c7b8c",
   "metadata": {},
   "outputs": [],
   "source": [
    "# making a pivot table\n",
    "df_pivot = df_population_raw.pivot(index='year',\n",
    "                                   columns='country',\n",
    "                                   values='population')"
   ]
  },
  {
   "cell_type": "code",
   "execution_count": 6,
   "id": "b33e9586",
   "metadata": {},
   "outputs": [],
   "source": [
    "# selecting some countries\n",
    "df_pivot = df_pivot[['United States', 'India', 'China', 'Indonesia', 'Brazil']]"
   ]
  },
  {
   "cell_type": "code",
   "execution_count": 7,
   "id": "03739108",
   "metadata": {
    "scrolled": true
   },
   "outputs": [
    {
     "data": {
      "application/vnd.microsoft.datawrangler.viewer.v0+json": {
       "columns": [
        {
         "name": "year",
         "rawType": "float64",
         "type": "float"
        },
        {
         "name": "United States",
         "rawType": "float64",
         "type": "float"
        },
        {
         "name": "India",
         "rawType": "float64",
         "type": "float"
        },
        {
         "name": "China",
         "rawType": "float64",
         "type": "float"
        },
        {
         "name": "Indonesia",
         "rawType": "float64",
         "type": "float"
        },
        {
         "name": "Brazil",
         "rawType": "float64",
         "type": "float"
        }
       ],
       "ref": "24d4b75f-a69b-4075-b20b-d1b20a1feafd",
       "rows": [
        [
         "1955.0",
         "171685336.0",
         "409880595.0",
         "612241554.0",
         "77273425.0",
         "62533919.0"
        ],
        [
         "1960.0",
         "186720571.0",
         "450547679.0",
         "660408056.0",
         "87751068.0",
         "72179226.0"
        ],
        [
         "1965.0",
         "199733676.0",
         "499123324.0",
         "724218968.0",
         "100267062.0",
         "83373530.0"
        ],
        [
         "1970.0",
         "209513341.0",
         "555189792.0",
         "827601394.0",
         "114793178.0",
         "95113265.0"
        ],
        [
         "1975.0",
         "219081251.0",
         "623102897.0",
         "926240885.0",
         "130680727.0",
         "107216205.0"
        ],
        [
         "1980.0",
         "229476354.0",
         "698952844.0",
         "1000089235.0",
         "147447836.0",
         "120694009.0"
        ],
        [
         "1985.0",
         "240499825.0",
         "784360008.0",
         "1075589361.0",
         "164982451.0",
         "135274080.0"
        ],
        [
         "1990.0",
         "252120309.0",
         "873277798.0",
         "1176883674.0",
         "181413402.0",
         "149003223.0"
        ],
        [
         "1995.0",
         "265163745.0",
         "963922588.0",
         "1240920535.0",
         "196934260.0",
         "162019896.0"
        ],
        [
         "2000.0",
         "281710909.0",
         "1056575549.0",
         "1290550765.0",
         "211513823.0",
         "174790340.0"
        ],
        [
         "2005.0",
         "294993511.0",
         "1147609927.0",
         "1330776380.0",
         "226289470.0",
         "186127103.0"
        ],
        [
         "2010.0",
         "309011475.0",
         "1234281170.0",
         "1368810615.0",
         "241834215.0",
         "195713635.0"
        ],
        [
         "2015.0",
         "320878310.0",
         "1310152403.0",
         "1406847870.0",
         "258383256.0",
         "204471769.0"
        ],
        [
         "2016.0",
         "323015995.0",
         "1324517249.0",
         "1414049351.0",
         "261556381.0",
         "206163053.0"
        ],
        [
         "2017.0",
         "325084756.0",
         "1338676785.0",
         "1421021791.0",
         "264650963.0",
         "207833823.0"
        ],
        [
         "2018.0",
         "327096265.0",
         "1352642280.0",
         "1427647786.0",
         "267670543.0",
         "209469323.0"
        ],
        [
         "2019.0",
         "329064917.0",
         "1366417754.0",
         "1433783686.0",
         "270625568.0",
         "211049527.0"
        ],
        [
         "2020.0",
         "331002651.0",
         "1380004385.0",
         "1439323776.0",
         "273523615.0",
         "212559417.0"
        ]
       ],
       "shape": {
        "columns": 5,
        "rows": 18
       }
      },
      "text/html": [
       "<div>\n",
       "<style scoped>\n",
       "    .dataframe tbody tr th:only-of-type {\n",
       "        vertical-align: middle;\n",
       "    }\n",
       "\n",
       "    .dataframe tbody tr th {\n",
       "        vertical-align: top;\n",
       "    }\n",
       "\n",
       "    .dataframe thead th {\n",
       "        text-align: right;\n",
       "    }\n",
       "</style>\n",
       "<table border=\"1\" class=\"dataframe\">\n",
       "  <thead>\n",
       "    <tr style=\"text-align: right;\">\n",
       "      <th>country</th>\n",
       "      <th>United States</th>\n",
       "      <th>India</th>\n",
       "      <th>China</th>\n",
       "      <th>Indonesia</th>\n",
       "      <th>Brazil</th>\n",
       "    </tr>\n",
       "    <tr>\n",
       "      <th>year</th>\n",
       "      <th></th>\n",
       "      <th></th>\n",
       "      <th></th>\n",
       "      <th></th>\n",
       "      <th></th>\n",
       "    </tr>\n",
       "  </thead>\n",
       "  <tbody>\n",
       "    <tr>\n",
       "      <th>1955.0</th>\n",
       "      <td>171685336.0</td>\n",
       "      <td>4.098806e+08</td>\n",
       "      <td>6.122416e+08</td>\n",
       "      <td>77273425.0</td>\n",
       "      <td>62533919.0</td>\n",
       "    </tr>\n",
       "    <tr>\n",
       "      <th>1960.0</th>\n",
       "      <td>186720571.0</td>\n",
       "      <td>4.505477e+08</td>\n",
       "      <td>6.604081e+08</td>\n",
       "      <td>87751068.0</td>\n",
       "      <td>72179226.0</td>\n",
       "    </tr>\n",
       "    <tr>\n",
       "      <th>1965.0</th>\n",
       "      <td>199733676.0</td>\n",
       "      <td>4.991233e+08</td>\n",
       "      <td>7.242190e+08</td>\n",
       "      <td>100267062.0</td>\n",
       "      <td>83373530.0</td>\n",
       "    </tr>\n",
       "    <tr>\n",
       "      <th>1970.0</th>\n",
       "      <td>209513341.0</td>\n",
       "      <td>5.551898e+08</td>\n",
       "      <td>8.276014e+08</td>\n",
       "      <td>114793178.0</td>\n",
       "      <td>95113265.0</td>\n",
       "    </tr>\n",
       "    <tr>\n",
       "      <th>1975.0</th>\n",
       "      <td>219081251.0</td>\n",
       "      <td>6.231029e+08</td>\n",
       "      <td>9.262409e+08</td>\n",
       "      <td>130680727.0</td>\n",
       "      <td>107216205.0</td>\n",
       "    </tr>\n",
       "    <tr>\n",
       "      <th>1980.0</th>\n",
       "      <td>229476354.0</td>\n",
       "      <td>6.989528e+08</td>\n",
       "      <td>1.000089e+09</td>\n",
       "      <td>147447836.0</td>\n",
       "      <td>120694009.0</td>\n",
       "    </tr>\n",
       "    <tr>\n",
       "      <th>1985.0</th>\n",
       "      <td>240499825.0</td>\n",
       "      <td>7.843600e+08</td>\n",
       "      <td>1.075589e+09</td>\n",
       "      <td>164982451.0</td>\n",
       "      <td>135274080.0</td>\n",
       "    </tr>\n",
       "    <tr>\n",
       "      <th>1990.0</th>\n",
       "      <td>252120309.0</td>\n",
       "      <td>8.732778e+08</td>\n",
       "      <td>1.176884e+09</td>\n",
       "      <td>181413402.0</td>\n",
       "      <td>149003223.0</td>\n",
       "    </tr>\n",
       "    <tr>\n",
       "      <th>1995.0</th>\n",
       "      <td>265163745.0</td>\n",
       "      <td>9.639226e+08</td>\n",
       "      <td>1.240921e+09</td>\n",
       "      <td>196934260.0</td>\n",
       "      <td>162019896.0</td>\n",
       "    </tr>\n",
       "    <tr>\n",
       "      <th>2000.0</th>\n",
       "      <td>281710909.0</td>\n",
       "      <td>1.056576e+09</td>\n",
       "      <td>1.290551e+09</td>\n",
       "      <td>211513823.0</td>\n",
       "      <td>174790340.0</td>\n",
       "    </tr>\n",
       "    <tr>\n",
       "      <th>2005.0</th>\n",
       "      <td>294993511.0</td>\n",
       "      <td>1.147610e+09</td>\n",
       "      <td>1.330776e+09</td>\n",
       "      <td>226289470.0</td>\n",
       "      <td>186127103.0</td>\n",
       "    </tr>\n",
       "    <tr>\n",
       "      <th>2010.0</th>\n",
       "      <td>309011475.0</td>\n",
       "      <td>1.234281e+09</td>\n",
       "      <td>1.368811e+09</td>\n",
       "      <td>241834215.0</td>\n",
       "      <td>195713635.0</td>\n",
       "    </tr>\n",
       "    <tr>\n",
       "      <th>2015.0</th>\n",
       "      <td>320878310.0</td>\n",
       "      <td>1.310152e+09</td>\n",
       "      <td>1.406848e+09</td>\n",
       "      <td>258383256.0</td>\n",
       "      <td>204471769.0</td>\n",
       "    </tr>\n",
       "    <tr>\n",
       "      <th>2016.0</th>\n",
       "      <td>323015995.0</td>\n",
       "      <td>1.324517e+09</td>\n",
       "      <td>1.414049e+09</td>\n",
       "      <td>261556381.0</td>\n",
       "      <td>206163053.0</td>\n",
       "    </tr>\n",
       "    <tr>\n",
       "      <th>2017.0</th>\n",
       "      <td>325084756.0</td>\n",
       "      <td>1.338677e+09</td>\n",
       "      <td>1.421022e+09</td>\n",
       "      <td>264650963.0</td>\n",
       "      <td>207833823.0</td>\n",
       "    </tr>\n",
       "    <tr>\n",
       "      <th>2018.0</th>\n",
       "      <td>327096265.0</td>\n",
       "      <td>1.352642e+09</td>\n",
       "      <td>1.427648e+09</td>\n",
       "      <td>267670543.0</td>\n",
       "      <td>209469323.0</td>\n",
       "    </tr>\n",
       "    <tr>\n",
       "      <th>2019.0</th>\n",
       "      <td>329064917.0</td>\n",
       "      <td>1.366418e+09</td>\n",
       "      <td>1.433784e+09</td>\n",
       "      <td>270625568.0</td>\n",
       "      <td>211049527.0</td>\n",
       "    </tr>\n",
       "    <tr>\n",
       "      <th>2020.0</th>\n",
       "      <td>331002651.0</td>\n",
       "      <td>1.380004e+09</td>\n",
       "      <td>1.439324e+09</td>\n",
       "      <td>273523615.0</td>\n",
       "      <td>212559417.0</td>\n",
       "    </tr>\n",
       "  </tbody>\n",
       "</table>\n",
       "</div>"
      ],
      "text/plain": [
       "country  United States         India         China    Indonesia       Brazil\n",
       "year                                                                        \n",
       "1955.0     171685336.0  4.098806e+08  6.122416e+08   77273425.0   62533919.0\n",
       "1960.0     186720571.0  4.505477e+08  6.604081e+08   87751068.0   72179226.0\n",
       "1965.0     199733676.0  4.991233e+08  7.242190e+08  100267062.0   83373530.0\n",
       "1970.0     209513341.0  5.551898e+08  8.276014e+08  114793178.0   95113265.0\n",
       "1975.0     219081251.0  6.231029e+08  9.262409e+08  130680727.0  107216205.0\n",
       "1980.0     229476354.0  6.989528e+08  1.000089e+09  147447836.0  120694009.0\n",
       "1985.0     240499825.0  7.843600e+08  1.075589e+09  164982451.0  135274080.0\n",
       "1990.0     252120309.0  8.732778e+08  1.176884e+09  181413402.0  149003223.0\n",
       "1995.0     265163745.0  9.639226e+08  1.240921e+09  196934260.0  162019896.0\n",
       "2000.0     281710909.0  1.056576e+09  1.290551e+09  211513823.0  174790340.0\n",
       "2005.0     294993511.0  1.147610e+09  1.330776e+09  226289470.0  186127103.0\n",
       "2010.0     309011475.0  1.234281e+09  1.368811e+09  241834215.0  195713635.0\n",
       "2015.0     320878310.0  1.310152e+09  1.406848e+09  258383256.0  204471769.0\n",
       "2016.0     323015995.0  1.324517e+09  1.414049e+09  261556381.0  206163053.0\n",
       "2017.0     325084756.0  1.338677e+09  1.421022e+09  264650963.0  207833823.0\n",
       "2018.0     327096265.0  1.352642e+09  1.427648e+09  267670543.0  209469323.0\n",
       "2019.0     329064917.0  1.366418e+09  1.433784e+09  270625568.0  211049527.0\n",
       "2020.0     331002651.0  1.380004e+09  1.439324e+09  273523615.0  212559417.0"
      ]
     },
     "execution_count": 7,
     "metadata": {},
     "output_type": "execute_result"
    }
   ],
   "source": [
    "# showing pivot table\n",
    "df_pivot"
   ]
  },
  {
   "cell_type": "code",
   "execution_count": 8,
   "id": "8178534a",
   "metadata": {},
   "outputs": [],
   "source": [
    "# export pivot table\n",
    "df_pivot.to_excel('pivot_table.xlsx')"
   ]
  },
  {
   "cell_type": "code",
   "execution_count": 9,
   "id": "fcb16d82",
   "metadata": {},
   "outputs": [],
   "source": [
    "# importing matplotlib\n",
    "import matplotlib.pyplot as plt"
   ]
  },
  {
   "cell_type": "markdown",
   "id": "b122fd05",
   "metadata": {},
   "source": [
    "# Lineplot"
   ]
  },
  {
   "cell_type": "code",
   "execution_count": 10,
   "id": "a069acfb",
   "metadata": {
    "scrolled": false
   },
   "outputs": [
    {
     "data": {
      "image/png": "[encoded data removed]",
      "text/plain": [
       "<Figure size 800x400 with 1 Axes>"
      ]
     },
     "metadata": {},
     "output_type": "display_data"
    }
   ],
   "source": [
    "df_pivot.plot(kind='line',\n",
    "              xlabel='Years', ylabel='Population',\n",
    "              title='Population (1955-2020)',\n",
    "              figsize=(8,4))\n",
    "# save plot\n",
    "plt.savefig('my_test.png')\n",
    "# show plot\n",
    "plt.show()"
   ]
  },
  {
   "cell_type": "code",
   "execution_count": null,
   "id": "adb33700",
   "metadata": {},
   "outputs": [],
   "source": []
  }
 ],
 "metadata": {
  "kernelspec": {
   "display_name": ".venv",
   "language": "python",
   "name": "python3"
  },
  "language_info": {
   "codemirror_mode": {
    "name": "ipython",
    "version": 3
   },
   "file_extension": ".py",
   "mimetype": "text/x-python",
   "name": "python",
   "nbconvert_exporter": "python",
   "pygments_lexer": "ipython3",
   "version": "3.10.8"
  },
  "toc": {
   "base_numbering": 1,
   "nav_menu": {},
   "number_sections": true,
   "sideBar": true,
   "skip_h1_title": false,
   "title_cell": "Table of Contents",
   "title_sidebar": "Contents",
   "toc_cell": false,
   "toc_position": {},
   "toc_section_display": true,
   "toc_window_display": false
  }
 },
 "nbformat": 4,
 "nbformat_minor": 5
}
