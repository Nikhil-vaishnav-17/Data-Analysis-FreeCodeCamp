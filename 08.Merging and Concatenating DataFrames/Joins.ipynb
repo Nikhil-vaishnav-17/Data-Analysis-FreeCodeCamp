{
 "cells": [
  {
   "cell_type": "code",
   "execution_count": 1,
   "id": "fad49839",
   "metadata": {},
   "outputs": [],
   "source": [
    "import pandas as pd"
   ]
  },
  {
   "cell_type": "code",
   "execution_count": 2,
   "id": "09c6213f",
   "metadata": {},
   "outputs": [],
   "source": [
    "df_movies = pd.read_csv('IMDb movies.csv', low_memory=False)\n",
    "df_ratings = pd.read_csv('IMDb ratings.csv')"
   ]
  },
  {
   "cell_type": "code",
   "execution_count": 3,
   "id": "d5670913",
   "metadata": {},
   "outputs": [],
   "source": [
    "# select columns\n",
    "df_movies = df_movies[['imdb_title_id', 'title', 'year',\n",
    "                       'genre', 'country']]\n",
    "\n",
    "df_ratings = df_ratings[['imdb_title_id', 'total_votes', 'mean_vote']]"
   ]
  },
  {
   "cell_type": "markdown",
   "id": "310fc4cc",
   "metadata": {},
   "source": [
    "# merge()"
   ]
  },
  {
   "cell_type": "code",
   "execution_count": 4,
   "id": "34cda9ce",
   "metadata": {},
   "outputs": [],
   "source": [
    "df1 = pd.DataFrame({'id' : ['A', 'B', 'C', 'D'],\n",
    "              'age' : [30,23,25,22]})\n",
    "df2 = pd.DataFrame({'id' : ['C', 'D', 'E', 'F'],\n",
    "                    'job' : ['Doctor', 'Statistician', 'Accountant', 'Developer']})      "
   ]
  },
  {
   "cell_type": "code",
   "execution_count": 5,
   "id": "90ce4396",
   "metadata": {
    "scrolled": false
   },
   "outputs": [
    {
     "data": {
      "application/vnd.microsoft.datawrangler.viewer.v0+json": {
       "columns": [
        {
         "name": "index",
         "rawType": "int64",
         "type": "integer"
        },
        {
         "name": "id",
         "rawType": "object",
         "type": "string"
        },
        {
         "name": "age",
         "rawType": "int64",
         "type": "integer"
        }
       ],
       "ref": "8d21f8c1-bfa6-4055-8319-2d58bf9d38ea",
       "rows": [
        [
         "0",
         "A",
         "30"
        ],
        [
         "1",
         "B",
         "23"
        ],
        [
         "2",
         "C",
         "25"
        ],
        [
         "3",
         "D",
         "22"
        ]
       ],
       "shape": {
        "columns": 2,
        "rows": 4
       }
      },
      "text/html": [
       "<div>\n",
       "<style scoped>\n",
       "    .dataframe tbody tr th:only-of-type {\n",
       "        vertical-align: middle;\n",
       "    }\n",
       "\n",
       "    .dataframe tbody tr th {\n",
       "        vertical-align: top;\n",
       "    }\n",
       "\n",
       "    .dataframe thead th {\n",
       "        text-align: right;\n",
       "    }\n",
       "</style>\n",
       "<table border=\"1\" class=\"dataframe\">\n",
       "  <thead>\n",
       "    <tr style=\"text-align: right;\">\n",
       "      <th></th>\n",
       "      <th>id</th>\n",
       "      <th>age</th>\n",
       "    </tr>\n",
       "  </thead>\n",
       "  <tbody>\n",
       "    <tr>\n",
       "      <th>0</th>\n",
       "      <td>A</td>\n",
       "      <td>30</td>\n",
       "    </tr>\n",
       "    <tr>\n",
       "      <th>1</th>\n",
       "      <td>B</td>\n",
       "      <td>23</td>\n",
       "    </tr>\n",
       "    <tr>\n",
       "      <th>2</th>\n",
       "      <td>C</td>\n",
       "      <td>25</td>\n",
       "    </tr>\n",
       "    <tr>\n",
       "      <th>3</th>\n",
       "      <td>D</td>\n",
       "      <td>22</td>\n",
       "    </tr>\n",
       "  </tbody>\n",
       "</table>\n",
       "</div>"
      ],
      "text/plain": [
       "  id  age\n",
       "0  A   30\n",
       "1  B   23\n",
       "2  C   25\n",
       "3  D   22"
      ]
     },
     "execution_count": 5,
     "metadata": {},
     "output_type": "execute_result"
    }
   ],
   "source": [
    "df1"
   ]
  },
  {
   "cell_type": "code",
   "execution_count": 6,
   "id": "bdda9d94",
   "metadata": {},
   "outputs": [
    {
     "data": {
      "application/vnd.microsoft.datawrangler.viewer.v0+json": {
       "columns": [
        {
         "name": "index",
         "rawType": "int64",
         "type": "integer"
        },
        {
         "name": "id",
         "rawType": "object",
         "type": "string"
        },
        {
         "name": "job",
         "rawType": "object",
         "type": "string"
        }
       ],
       "ref": "71bbbbe6-f0df-4ed6-9d39-89fc22271720",
       "rows": [
        [
         "0",
         "C",
         "Doctor"
        ],
        [
         "1",
         "D",
         "Statistician"
        ],
        [
         "2",
         "E",
         "Accountant"
        ],
        [
         "3",
         "F",
         "Developer"
        ]
       ],
       "shape": {
        "columns": 2,
        "rows": 4
       }
      },
      "text/html": [
       "<div>\n",
       "<style scoped>\n",
       "    .dataframe tbody tr th:only-of-type {\n",
       "        vertical-align: middle;\n",
       "    }\n",
       "\n",
       "    .dataframe tbody tr th {\n",
       "        vertical-align: top;\n",
       "    }\n",
       "\n",
       "    .dataframe thead th {\n",
       "        text-align: right;\n",
       "    }\n",
       "</style>\n",
       "<table border=\"1\" class=\"dataframe\">\n",
       "  <thead>\n",
       "    <tr style=\"text-align: right;\">\n",
       "      <th></th>\n",
       "      <th>id</th>\n",
       "      <th>job</th>\n",
       "    </tr>\n",
       "  </thead>\n",
       "  <tbody>\n",
       "    <tr>\n",
       "      <th>0</th>\n",
       "      <td>C</td>\n",
       "      <td>Doctor</td>\n",
       "    </tr>\n",
       "    <tr>\n",
       "      <th>1</th>\n",
       "      <td>D</td>\n",
       "      <td>Statistician</td>\n",
       "    </tr>\n",
       "    <tr>\n",
       "      <th>2</th>\n",
       "      <td>E</td>\n",
       "      <td>Accountant</td>\n",
       "    </tr>\n",
       "    <tr>\n",
       "      <th>3</th>\n",
       "      <td>F</td>\n",
       "      <td>Developer</td>\n",
       "    </tr>\n",
       "  </tbody>\n",
       "</table>\n",
       "</div>"
      ],
      "text/plain": [
       "  id           job\n",
       "0  C        Doctor\n",
       "1  D  Statistician\n",
       "2  E    Accountant\n",
       "3  F     Developer"
      ]
     },
     "execution_count": 6,
     "metadata": {},
     "output_type": "execute_result"
    }
   ],
   "source": [
    "df2"
   ]
  },
  {
   "cell_type": "markdown",
   "id": "de4aa87a",
   "metadata": {},
   "source": [
    "## Inner join"
   ]
  },
  {
   "cell_type": "code",
   "execution_count": 7,
   "id": "4a51e49f",
   "metadata": {},
   "outputs": [],
   "source": [
    "df_inner_join = df1.merge(df2, on='id', how='inner')"
   ]
  },
  {
   "cell_type": "code",
   "execution_count": 8,
   "id": "e5a3770e",
   "metadata": {},
   "outputs": [
    {
     "data": {
      "text/plain": [
       "((4, 2), (4, 2), (2, 3))"
      ]
     },
     "execution_count": 8,
     "metadata": {},
     "output_type": "execute_result"
    }
   ],
   "source": [
    "# shape\n",
    "df1.shape, df2.shape, df_inner_join.shape"
   ]
  },
  {
   "cell_type": "markdown",
   "id": "fa17227e",
   "metadata": {},
   "source": [
    "### Exercise"
   ]
  },
  {
   "cell_type": "code",
   "execution_count": 9,
   "id": "e50bde09",
   "metadata": {},
   "outputs": [
    {
     "data": {
      "application/vnd.microsoft.datawrangler.viewer.v0+json": {
       "columns": [
        {
         "name": "index",
         "rawType": "int64",
         "type": "integer"
        },
        {
         "name": "imdb_title_id",
         "rawType": "object",
         "type": "string"
        },
        {
         "name": "title",
         "rawType": "object",
         "type": "string"
        },
        {
         "name": "year",
         "rawType": "object",
         "type": "string"
        },
        {
         "name": "genre",
         "rawType": "object",
         "type": "string"
        },
        {
         "name": "country",
         "rawType": "object",
         "type": "unknown"
        },
        {
         "name": "total_votes",
         "rawType": "int64",
         "type": "integer"
        },
        {
         "name": "mean_vote",
         "rawType": "float64",
         "type": "float"
        }
       ],
       "ref": "f15c1a8b-839f-44af-8e40-bf1f0c13e945",
       "rows": [
        [
         "0",
         "tt0000009",
         "Miss Jerry",
         "1894",
         "Romance",
         "USA",
         "154",
         "5.9"
        ],
        [
         "1",
         "tt0000574",
         "The Story of the Kelly Gang",
         "1906",
         "Biography, Crime, Drama",
         "Australia",
         "589",
         "6.3"
        ],
        [
         "2",
         "tt0001892",
         "Den sorte drøm",
         "1911",
         "Drama",
         "Germany, Denmark",
         "188",
         "6.0"
        ],
        [
         "3",
         "tt0002101",
         "Cleopatra",
         "1912",
         "Drama, History",
         "USA",
         "446",
         "5.3"
        ],
        [
         "4",
         "tt0002130",
         "L'Inferno",
         "1911",
         "Adventure, Drama, Fantasy",
         "Italy",
         "2237",
         "6.9"
        ],
        [
         "5",
         "tt0002199",
         "From the Manger to the Cross; or, Jesus of Nazareth",
         "1912",
         "Biography, Drama",
         "USA",
         "484",
         "5.8"
        ],
        [
         "6",
         "tt0002423",
         "Madame DuBarry",
         "1919",
         "Biography, Drama, Romance",
         "Germany",
         "753",
         "6.8"
        ],
        [
         "7",
         "tt0002445",
         "Quo Vadis?",
         "1913",
         "Drama, History",
         "Italy",
         "273",
         "6.2"
        ],
        [
         "8",
         "tt0002452",
         "Independenta Romaniei",
         "1912",
         "History, War",
         "Romania",
         "198",
         "7.1"
        ],
        [
         "9",
         "tt0002461",
         "Richard III",
         "1912",
         "Drama",
         "France, USA",
         "225",
         "5.4"
        ],
        [
         "10",
         "tt0002646",
         "Atlantis",
         "1913",
         "Drama",
         "Denmark",
         "331",
         "6.6"
        ],
        [
         "11",
         "tt0002844",
         "Fantômas - À l'ombre de la guillotine",
         "1913",
         "Crime, Drama",
         "France",
         "1944",
         "6.6"
        ],
        [
         "12",
         "tt0003014",
         "Il calvario di una madre",
         "1913",
         "Drama",
         "Sweden",
         "948",
         "7.2"
        ],
        [
         "13",
         "tt0003037",
         "Juve contre Fantômas",
         "1913",
         "Crime, Drama",
         "France",
         "1349",
         "6.5"
        ],
        [
         "14",
         "tt0003102",
         "Ma l'amor mio non muore...",
         "1914",
         "Drama",
         "Italy",
         "100",
         "6.3"
        ],
        [
         "15",
         "tt0003131",
         "Maudite soit la guerre",
         "1914",
         "Drama, War",
         "Belgium",
         "124",
         "6.7"
        ],
        [
         "16",
         "tt0003165",
         "Le mort qui tue",
         "1913",
         "Crime, Drama, Mystery",
         "France",
         "1050",
         "6.6"
        ],
        [
         "17",
         "tt0003167",
         "Amore di madre",
         "1914",
         "Drama",
         "USA",
         "187",
         "6.1"
        ],
        [
         "18",
         "tt0003419",
         "Lo studente di Praga",
         "1913",
         "Drama, Fantasy, Horror",
         "Germany",
         "1768",
         "6.5"
        ],
        [
         "19",
         "tt0003471",
         "Traffic in Souls",
         "1913",
         "Crime, Drama",
         "USA",
         "552",
         "6.0"
        ],
        [
         "20",
         "tt0003489",
         "Gli ultimi giorni di Pompei",
         "1913",
         "Adventure, Drama",
         "Italy",
         "474",
         "6.1"
        ],
        [
         "21",
         "tt0003637",
         "Assunta Spina",
         "1915",
         "Drama",
         "Italy",
         "378",
         "6.5"
        ],
        [
         "22",
         "tt0003643",
         "The Avenging Conscience: or 'Thou Shalt Not Kill'",
         "1914",
         "Crime, Drama, Horror",
         "USA",
         "1105",
         "6.8"
        ],
        [
         "23",
         "tt0003657",
         "The Bargain",
         "1914",
         "Western",
         "USA",
         "144",
         "6.5"
        ],
        [
         "24",
         "tt0003740",
         "Cabiria",
         "1914",
         "Adventure, Drama, History",
         "Italy",
         "3073",
         "6.5"
        ],
        [
         "25",
         "tt0003772",
         "Cinderella",
         "1914",
         "Fantasy, Drama",
         "USA",
         "929",
         "6.7"
        ],
        [
         "26",
         "tt0003883",
         "L'enfant de Paris",
         "1913",
         "Crime, Drama",
         "France",
         "303",
         "7.6"
        ],
        [
         "27",
         "tt0003930",
         "Fantômas contre Fantômas",
         "1914",
         "Crime, Drama",
         "France",
         "1161",
         "6.5"
        ],
        [
         "28",
         "tt0003973",
         "A Florida Enchantment",
         "1914",
         "Comedy",
         "USA",
         "202",
         "6.0"
        ],
        [
         "29",
         "tt0004026",
         "Der Golem",
         "1915",
         "Horror",
         "Germany",
         "1040",
         "5.9"
        ],
        [
         "30",
         "tt0004066",
         "Det hemmelighedsfulde X",
         "1914",
         "Drama, Mystery",
         "Denmark",
         "503",
         "6.9"
        ],
        [
         "31",
         "tt0004099",
         "His Majesty, the Scarecrow of Oz",
         "1914",
         "Family, Fantasy, Adventure",
         "USA",
         "415",
         "5.2"
        ],
        [
         "32",
         "tt0004134",
         "Hypocrites",
         "1915",
         "Drama",
         "USA",
         "456",
         "6.3"
        ],
        [
         "33",
         "tt0004150",
         "In the Land of the Head Hunters",
         "1914",
         "Drama, History",
         "USA, Canada",
         "402",
         "6.0"
        ],
        [
         "34",
         "tt0004181",
         "Judith of Bethulia",
         "1914",
         "Drama",
         "USA",
         "1239",
         "7.2"
        ],
        [
         "35",
         "tt0004457",
         "The Patchwork Girl of Oz",
         "1914",
         "Adventure, Family, Fantasy",
         "USA",
         "382",
         "5.6"
        ],
        [
         "36",
         "tt0004465",
         "The Perils of Pauline",
         "1914",
         "Action, Adventure, Drama",
         "USA",
         "939",
         "7.5"
        ],
        [
         "37",
         "tt0004635",
         "The Squaw Man",
         "1914",
         "Action, Drama, Romance",
         "USA",
         "879",
         "6.1"
        ],
        [
         "38",
         "tt0004681",
         "La madonnina del porto",
         "1914",
         "Drama",
         "USA",
         "178",
         "6.4"
        ],
        [
         "39",
         "tt0004707",
         "Tillie's Punctured Romance",
         "1914",
         "Comedy",
         "USA",
         "3250",
         "7.1"
        ],
        [
         "40",
         "tt0004712",
         "A tolonc",
         "1915",
         "Drama",
         "Hungary",
         "165",
         "6.4"
        ],
        [
         "41",
         "tt0004743",
         "Uncle Tom's Cabin",
         "1914",
         "Drama",
         "USA",
         "112",
         "5.4"
        ],
        [
         "42",
         "tt0004766",
         "The Virginian",
         "1914",
         "Western",
         "USA",
         "174",
         "5.6"
        ],
        [
         "43",
         "tt0004825",
         "The Wishing Ring: An Idyll of Old England",
         "1914",
         "Comedy, Drama",
         "USA",
         "242",
         "6.3"
        ],
        [
         "44",
         "tt0004838",
         "The Wrath of the Gods",
         "1914",
         "Drama, Romance",
         "USA",
         "138",
         "5.7"
        ],
        [
         "45",
         "tt0004872",
         "Alias Jimmy Valentine",
         "1915",
         "Crime, Drama",
         "USA",
         "206",
         "5.8"
        ],
        [
         "46",
         "tt0004873",
         "Alice in Wonderland",
         "1915",
         "Adventure, Family, Fantasy",
         "USA",
         "394",
         "6.2"
        ],
        [
         "47",
         "tt0004972",
         "Nascita di una nazione",
         "1915",
         "Drama, History, War",
         "USA",
         "22213",
         "6.4"
        ],
        [
         "48",
         "tt0005060",
         "Carmen",
         "1915",
         "Drama",
         "USA",
         "894",
         "6.8"
        ],
        [
         "49",
         "tt0005078",
         "The Cheat",
         "1915",
         "Drama, Romance",
         "USA",
         "2305",
         "6.3"
        ]
       ],
       "shape": {
        "columns": 7,
        "rows": 85855
       }
      },
      "text/html": [
       "<div>\n",
       "<style scoped>\n",
       "    .dataframe tbody tr th:only-of-type {\n",
       "        vertical-align: middle;\n",
       "    }\n",
       "\n",
       "    .dataframe tbody tr th {\n",
       "        vertical-align: top;\n",
       "    }\n",
       "\n",
       "    .dataframe thead th {\n",
       "        text-align: right;\n",
       "    }\n",
       "</style>\n",
       "<table border=\"1\" class=\"dataframe\">\n",
       "  <thead>\n",
       "    <tr style=\"text-align: right;\">\n",
       "      <th></th>\n",
       "      <th>imdb_title_id</th>\n",
       "      <th>title</th>\n",
       "      <th>year</th>\n",
       "      <th>genre</th>\n",
       "      <th>country</th>\n",
       "      <th>total_votes</th>\n",
       "      <th>mean_vote</th>\n",
       "    </tr>\n",
       "  </thead>\n",
       "  <tbody>\n",
       "    <tr>\n",
       "      <th>0</th>\n",
       "      <td>tt0000009</td>\n",
       "      <td>Miss Jerry</td>\n",
       "      <td>1894</td>\n",
       "      <td>Romance</td>\n",
       "      <td>USA</td>\n",
       "      <td>154</td>\n",
       "      <td>5.9</td>\n",
       "    </tr>\n",
       "    <tr>\n",
       "      <th>1</th>\n",
       "      <td>tt0000574</td>\n",
       "      <td>The Story of the Kelly Gang</td>\n",
       "      <td>1906</td>\n",
       "      <td>Biography, Crime, Drama</td>\n",
       "      <td>Australia</td>\n",
       "      <td>589</td>\n",
       "      <td>6.3</td>\n",
       "    </tr>\n",
       "    <tr>\n",
       "      <th>2</th>\n",
       "      <td>tt0001892</td>\n",
       "      <td>Den sorte drøm</td>\n",
       "      <td>1911</td>\n",
       "      <td>Drama</td>\n",
       "      <td>Germany, Denmark</td>\n",
       "      <td>188</td>\n",
       "      <td>6.0</td>\n",
       "    </tr>\n",
       "    <tr>\n",
       "      <th>3</th>\n",
       "      <td>tt0002101</td>\n",
       "      <td>Cleopatra</td>\n",
       "      <td>1912</td>\n",
       "      <td>Drama, History</td>\n",
       "      <td>USA</td>\n",
       "      <td>446</td>\n",
       "      <td>5.3</td>\n",
       "    </tr>\n",
       "    <tr>\n",
       "      <th>4</th>\n",
       "      <td>tt0002130</td>\n",
       "      <td>L'Inferno</td>\n",
       "      <td>1911</td>\n",
       "      <td>Adventure, Drama, Fantasy</td>\n",
       "      <td>Italy</td>\n",
       "      <td>2237</td>\n",
       "      <td>6.9</td>\n",
       "    </tr>\n",
       "    <tr>\n",
       "      <th>...</th>\n",
       "      <td>...</td>\n",
       "      <td>...</td>\n",
       "      <td>...</td>\n",
       "      <td>...</td>\n",
       "      <td>...</td>\n",
       "      <td>...</td>\n",
       "      <td>...</td>\n",
       "    </tr>\n",
       "    <tr>\n",
       "      <th>85850</th>\n",
       "      <td>tt9908390</td>\n",
       "      <td>Le lion</td>\n",
       "      <td>2020</td>\n",
       "      <td>Comedy</td>\n",
       "      <td>France, Belgium</td>\n",
       "      <td>398</td>\n",
       "      <td>5.5</td>\n",
       "    </tr>\n",
       "    <tr>\n",
       "      <th>85851</th>\n",
       "      <td>tt9911196</td>\n",
       "      <td>De Beentjes van Sint-Hildegard</td>\n",
       "      <td>2020</td>\n",
       "      <td>Comedy, Drama</td>\n",
       "      <td>Netherlands</td>\n",
       "      <td>724</td>\n",
       "      <td>7.9</td>\n",
       "    </tr>\n",
       "    <tr>\n",
       "      <th>85852</th>\n",
       "      <td>tt9911774</td>\n",
       "      <td>Padmavyuhathile Abhimanyu</td>\n",
       "      <td>2019</td>\n",
       "      <td>Drama</td>\n",
       "      <td>India</td>\n",
       "      <td>265</td>\n",
       "      <td>7.8</td>\n",
       "    </tr>\n",
       "    <tr>\n",
       "      <th>85853</th>\n",
       "      <td>tt9914286</td>\n",
       "      <td>Sokagin Çocuklari</td>\n",
       "      <td>2019</td>\n",
       "      <td>Drama, Family</td>\n",
       "      <td>Turkey</td>\n",
       "      <td>194</td>\n",
       "      <td>9.4</td>\n",
       "    </tr>\n",
       "    <tr>\n",
       "      <th>85854</th>\n",
       "      <td>tt9914942</td>\n",
       "      <td>La vida sense la Sara Amat</td>\n",
       "      <td>2019</td>\n",
       "      <td>Drama</td>\n",
       "      <td>Spain</td>\n",
       "      <td>102</td>\n",
       "      <td>6.8</td>\n",
       "    </tr>\n",
       "  </tbody>\n",
       "</table>\n",
       "<p>85855 rows × 7 columns</p>\n",
       "</div>"
      ],
      "text/plain": [
       "      imdb_title_id                           title  year  \\\n",
       "0         tt0000009                      Miss Jerry  1894   \n",
       "1         tt0000574     The Story of the Kelly Gang  1906   \n",
       "2         tt0001892                  Den sorte drøm  1911   \n",
       "3         tt0002101                       Cleopatra  1912   \n",
       "4         tt0002130                       L'Inferno  1911   \n",
       "...             ...                             ...   ...   \n",
       "85850     tt9908390                         Le lion  2020   \n",
       "85851     tt9911196  De Beentjes van Sint-Hildegard  2020   \n",
       "85852     tt9911774       Padmavyuhathile Abhimanyu  2019   \n",
       "85853     tt9914286               Sokagin Çocuklari  2019   \n",
       "85854     tt9914942      La vida sense la Sara Amat  2019   \n",
       "\n",
       "                           genre           country  total_votes  mean_vote  \n",
       "0                        Romance               USA          154        5.9  \n",
       "1        Biography, Crime, Drama         Australia          589        6.3  \n",
       "2                          Drama  Germany, Denmark          188        6.0  \n",
       "3                 Drama, History               USA          446        5.3  \n",
       "4      Adventure, Drama, Fantasy             Italy         2237        6.9  \n",
       "...                          ...               ...          ...        ...  \n",
       "85850                     Comedy   France, Belgium          398        5.5  \n",
       "85851              Comedy, Drama       Netherlands          724        7.9  \n",
       "85852                      Drama             India          265        7.8  \n",
       "85853              Drama, Family            Turkey          194        9.4  \n",
       "85854                      Drama             Spain          102        6.8  \n",
       "\n",
       "[85855 rows x 7 columns]"
      ]
     },
     "execution_count": 9,
     "metadata": {},
     "output_type": "execute_result"
    }
   ],
   "source": [
    "# merge df_movies and df_ratings (inner join)\n",
    "df_movies.merge(df_ratings, on='imdb_title_id')\n",
    "# pd.merge(df_movies, df_ratings, on='imdb_title_id')"
   ]
  },
  {
   "cell_type": "markdown",
   "id": "232dc587",
   "metadata": {},
   "source": [
    "## Outer join (Full join)"
   ]
  },
  {
   "cell_type": "code",
   "execution_count": 10,
   "id": "e9a93ab2",
   "metadata": {},
   "outputs": [
    {
     "data": {
      "application/vnd.microsoft.datawrangler.viewer.v0+json": {
       "columns": [
        {
         "name": "index",
         "rawType": "int64",
         "type": "integer"
        },
        {
         "name": "id",
         "rawType": "object",
         "type": "string"
        },
        {
         "name": "age",
         "rawType": "float64",
         "type": "float"
        },
        {
         "name": "job",
         "rawType": "object",
         "type": "unknown"
        }
       ],
       "ref": "4b9741d3-528b-4c6a-8f67-423fa3f756e5",
       "rows": [
        [
         "0",
         "A",
         "30.0",
         null
        ],
        [
         "1",
         "B",
         "23.0",
         null
        ],
        [
         "2",
         "C",
         "25.0",
         "Doctor"
        ],
        [
         "3",
         "D",
         "22.0",
         "Statistician"
        ],
        [
         "4",
         "E",
         null,
         "Accountant"
        ],
        [
         "5",
         "F",
         null,
         "Developer"
        ]
       ],
       "shape": {
        "columns": 3,
        "rows": 6
       }
      },
      "text/html": [
       "<div>\n",
       "<style scoped>\n",
       "    .dataframe tbody tr th:only-of-type {\n",
       "        vertical-align: middle;\n",
       "    }\n",
       "\n",
       "    .dataframe tbody tr th {\n",
       "        vertical-align: top;\n",
       "    }\n",
       "\n",
       "    .dataframe thead th {\n",
       "        text-align: right;\n",
       "    }\n",
       "</style>\n",
       "<table border=\"1\" class=\"dataframe\">\n",
       "  <thead>\n",
       "    <tr style=\"text-align: right;\">\n",
       "      <th></th>\n",
       "      <th>id</th>\n",
       "      <th>age</th>\n",
       "      <th>job</th>\n",
       "    </tr>\n",
       "  </thead>\n",
       "  <tbody>\n",
       "    <tr>\n",
       "      <th>0</th>\n",
       "      <td>A</td>\n",
       "      <td>30.0</td>\n",
       "      <td>NaN</td>\n",
       "    </tr>\n",
       "    <tr>\n",
       "      <th>1</th>\n",
       "      <td>B</td>\n",
       "      <td>23.0</td>\n",
       "      <td>NaN</td>\n",
       "    </tr>\n",
       "    <tr>\n",
       "      <th>2</th>\n",
       "      <td>C</td>\n",
       "      <td>25.0</td>\n",
       "      <td>Doctor</td>\n",
       "    </tr>\n",
       "    <tr>\n",
       "      <th>3</th>\n",
       "      <td>D</td>\n",
       "      <td>22.0</td>\n",
       "      <td>Statistician</td>\n",
       "    </tr>\n",
       "    <tr>\n",
       "      <th>4</th>\n",
       "      <td>E</td>\n",
       "      <td>NaN</td>\n",
       "      <td>Accountant</td>\n",
       "    </tr>\n",
       "    <tr>\n",
       "      <th>5</th>\n",
       "      <td>F</td>\n",
       "      <td>NaN</td>\n",
       "      <td>Developer</td>\n",
       "    </tr>\n",
       "  </tbody>\n",
       "</table>\n",
       "</div>"
      ],
      "text/plain": [
       "  id   age           job\n",
       "0  A  30.0           NaN\n",
       "1  B  23.0           NaN\n",
       "2  C  25.0        Doctor\n",
       "3  D  22.0  Statistician\n",
       "4  E   NaN    Accountant\n",
       "5  F   NaN     Developer"
      ]
     },
     "execution_count": 10,
     "metadata": {},
     "output_type": "execute_result"
    }
   ],
   "source": [
    "df1.merge(df2, on='id', how='outer')"
   ]
  },
  {
   "cell_type": "code",
   "execution_count": 11,
   "id": "6b1df255",
   "metadata": {},
   "outputs": [
    {
     "data": {
      "text/plain": [
       "((4, 2), (4, 2), (6, 3))"
      ]
     },
     "execution_count": 11,
     "metadata": {},
     "output_type": "execute_result"
    }
   ],
   "source": [
    "# shape\n",
    "df1.shape, df2.shape, pd.merge(df1, df2, on='id', how='outer').shape"
   ]
  },
  {
   "cell_type": "markdown",
   "id": "499e222b",
   "metadata": {},
   "source": [
    "### Exercise"
   ]
  },
  {
   "cell_type": "code",
   "execution_count": 12,
   "id": "eb7cbafe",
   "metadata": {},
   "outputs": [
    {
     "data": {
      "application/vnd.microsoft.datawrangler.viewer.v0+json": {
       "columns": [
        {
         "name": "index",
         "rawType": "int64",
         "type": "integer"
        },
        {
         "name": "imdb_title_id",
         "rawType": "object",
         "type": "string"
        },
        {
         "name": "title",
         "rawType": "object",
         "type": "string"
        },
        {
         "name": "year",
         "rawType": "object",
         "type": "string"
        },
        {
         "name": "genre",
         "rawType": "object",
         "type": "string"
        },
        {
         "name": "country",
         "rawType": "object",
         "type": "unknown"
        },
        {
         "name": "total_votes",
         "rawType": "int64",
         "type": "integer"
        },
        {
         "name": "mean_vote",
         "rawType": "float64",
         "type": "float"
        }
       ],
       "ref": "35a4762c-a697-4006-8947-9c641e48786b",
       "rows": [
        [
         "0",
         "tt0000009",
         "Miss Jerry",
         "1894",
         "Romance",
         "USA",
         "154",
         "5.9"
        ],
        [
         "1",
         "tt0000574",
         "The Story of the Kelly Gang",
         "1906",
         "Biography, Crime, Drama",
         "Australia",
         "589",
         "6.3"
        ],
        [
         "2",
         "tt0001892",
         "Den sorte drøm",
         "1911",
         "Drama",
         "Germany, Denmark",
         "188",
         "6.0"
        ],
        [
         "3",
         "tt0002101",
         "Cleopatra",
         "1912",
         "Drama, History",
         "USA",
         "446",
         "5.3"
        ],
        [
         "4",
         "tt0002130",
         "L'Inferno",
         "1911",
         "Adventure, Drama, Fantasy",
         "Italy",
         "2237",
         "6.9"
        ],
        [
         "5",
         "tt0002199",
         "From the Manger to the Cross; or, Jesus of Nazareth",
         "1912",
         "Biography, Drama",
         "USA",
         "484",
         "5.8"
        ],
        [
         "6",
         "tt0002423",
         "Madame DuBarry",
         "1919",
         "Biography, Drama, Romance",
         "Germany",
         "753",
         "6.8"
        ],
        [
         "7",
         "tt0002445",
         "Quo Vadis?",
         "1913",
         "Drama, History",
         "Italy",
         "273",
         "6.2"
        ],
        [
         "8",
         "tt0002452",
         "Independenta Romaniei",
         "1912",
         "History, War",
         "Romania",
         "198",
         "7.1"
        ],
        [
         "9",
         "tt0002461",
         "Richard III",
         "1912",
         "Drama",
         "France, USA",
         "225",
         "5.4"
        ],
        [
         "10",
         "tt0002646",
         "Atlantis",
         "1913",
         "Drama",
         "Denmark",
         "331",
         "6.6"
        ],
        [
         "11",
         "tt0002844",
         "Fantômas - À l'ombre de la guillotine",
         "1913",
         "Crime, Drama",
         "France",
         "1944",
         "6.6"
        ],
        [
         "12",
         "tt0003014",
         "Il calvario di una madre",
         "1913",
         "Drama",
         "Sweden",
         "948",
         "7.2"
        ],
        [
         "13",
         "tt0003037",
         "Juve contre Fantômas",
         "1913",
         "Crime, Drama",
         "France",
         "1349",
         "6.5"
        ],
        [
         "14",
         "tt0003102",
         "Ma l'amor mio non muore...",
         "1914",
         "Drama",
         "Italy",
         "100",
         "6.3"
        ],
        [
         "15",
         "tt0003131",
         "Maudite soit la guerre",
         "1914",
         "Drama, War",
         "Belgium",
         "124",
         "6.7"
        ],
        [
         "16",
         "tt0003165",
         "Le mort qui tue",
         "1913",
         "Crime, Drama, Mystery",
         "France",
         "1050",
         "6.6"
        ],
        [
         "17",
         "tt0003167",
         "Amore di madre",
         "1914",
         "Drama",
         "USA",
         "187",
         "6.1"
        ],
        [
         "18",
         "tt0003419",
         "Lo studente di Praga",
         "1913",
         "Drama, Fantasy, Horror",
         "Germany",
         "1768",
         "6.5"
        ],
        [
         "19",
         "tt0003471",
         "Traffic in Souls",
         "1913",
         "Crime, Drama",
         "USA",
         "552",
         "6.0"
        ],
        [
         "20",
         "tt0003489",
         "Gli ultimi giorni di Pompei",
         "1913",
         "Adventure, Drama",
         "Italy",
         "474",
         "6.1"
        ],
        [
         "21",
         "tt0003637",
         "Assunta Spina",
         "1915",
         "Drama",
         "Italy",
         "378",
         "6.5"
        ],
        [
         "22",
         "tt0003643",
         "The Avenging Conscience: or 'Thou Shalt Not Kill'",
         "1914",
         "Crime, Drama, Horror",
         "USA",
         "1105",
         "6.8"
        ],
        [
         "23",
         "tt0003657",
         "The Bargain",
         "1914",
         "Western",
         "USA",
         "144",
         "6.5"
        ],
        [
         "24",
         "tt0003740",
         "Cabiria",
         "1914",
         "Adventure, Drama, History",
         "Italy",
         "3073",
         "6.5"
        ],
        [
         "25",
         "tt0003772",
         "Cinderella",
         "1914",
         "Fantasy, Drama",
         "USA",
         "929",
         "6.7"
        ],
        [
         "26",
         "tt0003883",
         "L'enfant de Paris",
         "1913",
         "Crime, Drama",
         "France",
         "303",
         "7.6"
        ],
        [
         "27",
         "tt0003930",
         "Fantômas contre Fantômas",
         "1914",
         "Crime, Drama",
         "France",
         "1161",
         "6.5"
        ],
        [
         "28",
         "tt0003973",
         "A Florida Enchantment",
         "1914",
         "Comedy",
         "USA",
         "202",
         "6.0"
        ],
        [
         "29",
         "tt0004026",
         "Der Golem",
         "1915",
         "Horror",
         "Germany",
         "1040",
         "5.9"
        ],
        [
         "30",
         "tt0004066",
         "Det hemmelighedsfulde X",
         "1914",
         "Drama, Mystery",
         "Denmark",
         "503",
         "6.9"
        ],
        [
         "31",
         "tt0004099",
         "His Majesty, the Scarecrow of Oz",
         "1914",
         "Family, Fantasy, Adventure",
         "USA",
         "415",
         "5.2"
        ],
        [
         "32",
         "tt0004134",
         "Hypocrites",
         "1915",
         "Drama",
         "USA",
         "456",
         "6.3"
        ],
        [
         "33",
         "tt0004150",
         "In the Land of the Head Hunters",
         "1914",
         "Drama, History",
         "USA, Canada",
         "402",
         "6.0"
        ],
        [
         "34",
         "tt0004181",
         "Judith of Bethulia",
         "1914",
         "Drama",
         "USA",
         "1239",
         "7.2"
        ],
        [
         "35",
         "tt0004457",
         "The Patchwork Girl of Oz",
         "1914",
         "Adventure, Family, Fantasy",
         "USA",
         "382",
         "5.6"
        ],
        [
         "36",
         "tt0004465",
         "The Perils of Pauline",
         "1914",
         "Action, Adventure, Drama",
         "USA",
         "939",
         "7.5"
        ],
        [
         "37",
         "tt0004635",
         "The Squaw Man",
         "1914",
         "Action, Drama, Romance",
         "USA",
         "879",
         "6.1"
        ],
        [
         "38",
         "tt0004681",
         "La madonnina del porto",
         "1914",
         "Drama",
         "USA",
         "178",
         "6.4"
        ],
        [
         "39",
         "tt0004707",
         "Tillie's Punctured Romance",
         "1914",
         "Comedy",
         "USA",
         "3250",
         "7.1"
        ],
        [
         "40",
         "tt0004712",
         "A tolonc",
         "1915",
         "Drama",
         "Hungary",
         "165",
         "6.4"
        ],
        [
         "41",
         "tt0004743",
         "Uncle Tom's Cabin",
         "1914",
         "Drama",
         "USA",
         "112",
         "5.4"
        ],
        [
         "42",
         "tt0004766",
         "The Virginian",
         "1914",
         "Western",
         "USA",
         "174",
         "5.6"
        ],
        [
         "43",
         "tt0004825",
         "The Wishing Ring: An Idyll of Old England",
         "1914",
         "Comedy, Drama",
         "USA",
         "242",
         "6.3"
        ],
        [
         "44",
         "tt0004838",
         "The Wrath of the Gods",
         "1914",
         "Drama, Romance",
         "USA",
         "138",
         "5.7"
        ],
        [
         "45",
         "tt0004872",
         "Alias Jimmy Valentine",
         "1915",
         "Crime, Drama",
         "USA",
         "206",
         "5.8"
        ],
        [
         "46",
         "tt0004873",
         "Alice in Wonderland",
         "1915",
         "Adventure, Family, Fantasy",
         "USA",
         "394",
         "6.2"
        ],
        [
         "47",
         "tt0004972",
         "Nascita di una nazione",
         "1915",
         "Drama, History, War",
         "USA",
         "22213",
         "6.4"
        ],
        [
         "48",
         "tt0005060",
         "Carmen",
         "1915",
         "Drama",
         "USA",
         "894",
         "6.8"
        ],
        [
         "49",
         "tt0005078",
         "The Cheat",
         "1915",
         "Drama, Romance",
         "USA",
         "2305",
         "6.3"
        ]
       ],
       "shape": {
        "columns": 7,
        "rows": 85855
       }
      },
      "text/html": [
       "<div>\n",
       "<style scoped>\n",
       "    .dataframe tbody tr th:only-of-type {\n",
       "        vertical-align: middle;\n",
       "    }\n",
       "\n",
       "    .dataframe tbody tr th {\n",
       "        vertical-align: top;\n",
       "    }\n",
       "\n",
       "    .dataframe thead th {\n",
       "        text-align: right;\n",
       "    }\n",
       "</style>\n",
       "<table border=\"1\" class=\"dataframe\">\n",
       "  <thead>\n",
       "    <tr style=\"text-align: right;\">\n",
       "      <th></th>\n",
       "      <th>imdb_title_id</th>\n",
       "      <th>title</th>\n",
       "      <th>year</th>\n",
       "      <th>genre</th>\n",
       "      <th>country</th>\n",
       "      <th>total_votes</th>\n",
       "      <th>mean_vote</th>\n",
       "    </tr>\n",
       "  </thead>\n",
       "  <tbody>\n",
       "    <tr>\n",
       "      <th>0</th>\n",
       "      <td>tt0000009</td>\n",
       "      <td>Miss Jerry</td>\n",
       "      <td>1894</td>\n",
       "      <td>Romance</td>\n",
       "      <td>USA</td>\n",
       "      <td>154</td>\n",
       "      <td>5.9</td>\n",
       "    </tr>\n",
       "    <tr>\n",
       "      <th>1</th>\n",
       "      <td>tt0000574</td>\n",
       "      <td>The Story of the Kelly Gang</td>\n",
       "      <td>1906</td>\n",
       "      <td>Biography, Crime, Drama</td>\n",
       "      <td>Australia</td>\n",
       "      <td>589</td>\n",
       "      <td>6.3</td>\n",
       "    </tr>\n",
       "    <tr>\n",
       "      <th>2</th>\n",
       "      <td>tt0001892</td>\n",
       "      <td>Den sorte drøm</td>\n",
       "      <td>1911</td>\n",
       "      <td>Drama</td>\n",
       "      <td>Germany, Denmark</td>\n",
       "      <td>188</td>\n",
       "      <td>6.0</td>\n",
       "    </tr>\n",
       "    <tr>\n",
       "      <th>3</th>\n",
       "      <td>tt0002101</td>\n",
       "      <td>Cleopatra</td>\n",
       "      <td>1912</td>\n",
       "      <td>Drama, History</td>\n",
       "      <td>USA</td>\n",
       "      <td>446</td>\n",
       "      <td>5.3</td>\n",
       "    </tr>\n",
       "    <tr>\n",
       "      <th>4</th>\n",
       "      <td>tt0002130</td>\n",
       "      <td>L'Inferno</td>\n",
       "      <td>1911</td>\n",
       "      <td>Adventure, Drama, Fantasy</td>\n",
       "      <td>Italy</td>\n",
       "      <td>2237</td>\n",
       "      <td>6.9</td>\n",
       "    </tr>\n",
       "    <tr>\n",
       "      <th>...</th>\n",
       "      <td>...</td>\n",
       "      <td>...</td>\n",
       "      <td>...</td>\n",
       "      <td>...</td>\n",
       "      <td>...</td>\n",
       "      <td>...</td>\n",
       "      <td>...</td>\n",
       "    </tr>\n",
       "    <tr>\n",
       "      <th>85850</th>\n",
       "      <td>tt9908390</td>\n",
       "      <td>Le lion</td>\n",
       "      <td>2020</td>\n",
       "      <td>Comedy</td>\n",
       "      <td>France, Belgium</td>\n",
       "      <td>398</td>\n",
       "      <td>5.5</td>\n",
       "    </tr>\n",
       "    <tr>\n",
       "      <th>85851</th>\n",
       "      <td>tt9911196</td>\n",
       "      <td>De Beentjes van Sint-Hildegard</td>\n",
       "      <td>2020</td>\n",
       "      <td>Comedy, Drama</td>\n",
       "      <td>Netherlands</td>\n",
       "      <td>724</td>\n",
       "      <td>7.9</td>\n",
       "    </tr>\n",
       "    <tr>\n",
       "      <th>85852</th>\n",
       "      <td>tt9911774</td>\n",
       "      <td>Padmavyuhathile Abhimanyu</td>\n",
       "      <td>2019</td>\n",
       "      <td>Drama</td>\n",
       "      <td>India</td>\n",
       "      <td>265</td>\n",
       "      <td>7.8</td>\n",
       "    </tr>\n",
       "    <tr>\n",
       "      <th>85853</th>\n",
       "      <td>tt9914286</td>\n",
       "      <td>Sokagin Çocuklari</td>\n",
       "      <td>2019</td>\n",
       "      <td>Drama, Family</td>\n",
       "      <td>Turkey</td>\n",
       "      <td>194</td>\n",
       "      <td>9.4</td>\n",
       "    </tr>\n",
       "    <tr>\n",
       "      <th>85854</th>\n",
       "      <td>tt9914942</td>\n",
       "      <td>La vida sense la Sara Amat</td>\n",
       "      <td>2019</td>\n",
       "      <td>Drama</td>\n",
       "      <td>Spain</td>\n",
       "      <td>102</td>\n",
       "      <td>6.8</td>\n",
       "    </tr>\n",
       "  </tbody>\n",
       "</table>\n",
       "<p>85855 rows × 7 columns</p>\n",
       "</div>"
      ],
      "text/plain": [
       "      imdb_title_id                           title  year  \\\n",
       "0         tt0000009                      Miss Jerry  1894   \n",
       "1         tt0000574     The Story of the Kelly Gang  1906   \n",
       "2         tt0001892                  Den sorte drøm  1911   \n",
       "3         tt0002101                       Cleopatra  1912   \n",
       "4         tt0002130                       L'Inferno  1911   \n",
       "...             ...                             ...   ...   \n",
       "85850     tt9908390                         Le lion  2020   \n",
       "85851     tt9911196  De Beentjes van Sint-Hildegard  2020   \n",
       "85852     tt9911774       Padmavyuhathile Abhimanyu  2019   \n",
       "85853     tt9914286               Sokagin Çocuklari  2019   \n",
       "85854     tt9914942      La vida sense la Sara Amat  2019   \n",
       "\n",
       "                           genre           country  total_votes  mean_vote  \n",
       "0                        Romance               USA          154        5.9  \n",
       "1        Biography, Crime, Drama         Australia          589        6.3  \n",
       "2                          Drama  Germany, Denmark          188        6.0  \n",
       "3                 Drama, History               USA          446        5.3  \n",
       "4      Adventure, Drama, Fantasy             Italy         2237        6.9  \n",
       "...                          ...               ...          ...        ...  \n",
       "85850                     Comedy   France, Belgium          398        5.5  \n",
       "85851              Comedy, Drama       Netherlands          724        7.9  \n",
       "85852                      Drama             India          265        7.8  \n",
       "85853              Drama, Family            Turkey          194        9.4  \n",
       "85854                      Drama             Spain          102        6.8  \n",
       "\n",
       "[85855 rows x 7 columns]"
      ]
     },
     "execution_count": 12,
     "metadata": {},
     "output_type": "execute_result"
    }
   ],
   "source": [
    "# merge df_movies and df_ratings (outer join)\n",
    "df_movies.merge(df_ratings, on='imdb_title_id', how='outer')"
   ]
  },
  {
   "cell_type": "markdown",
   "id": "554af406",
   "metadata": {},
   "source": [
    "## Exclusive Outer join (Exclusive Full join)"
   ]
  },
  {
   "cell_type": "code",
   "execution_count": 13,
   "id": "c1ee96c6",
   "metadata": {},
   "outputs": [
    {
     "data": {
      "application/vnd.microsoft.datawrangler.viewer.v0+json": {
       "columns": [
        {
         "name": "index",
         "rawType": "int64",
         "type": "integer"
        },
        {
         "name": "id",
         "rawType": "object",
         "type": "string"
        },
        {
         "name": "age",
         "rawType": "float64",
         "type": "float"
        },
        {
         "name": "job",
         "rawType": "object",
         "type": "unknown"
        }
       ],
       "ref": "ab116409-0631-469a-9490-043f3488967e",
       "rows": [
        [
         "0",
         "A",
         "30.0",
         null
        ],
        [
         "1",
         "B",
         "23.0",
         null
        ],
        [
         "2",
         "C",
         "25.0",
         "Doctor"
        ],
        [
         "3",
         "D",
         "22.0",
         "Statistician"
        ],
        [
         "4",
         "E",
         null,
         "Accountant"
        ],
        [
         "5",
         "F",
         null,
         "Developer"
        ]
       ],
       "shape": {
        "columns": 3,
        "rows": 6
       }
      },
      "text/html": [
       "<div>\n",
       "<style scoped>\n",
       "    .dataframe tbody tr th:only-of-type {\n",
       "        vertical-align: middle;\n",
       "    }\n",
       "\n",
       "    .dataframe tbody tr th {\n",
       "        vertical-align: top;\n",
       "    }\n",
       "\n",
       "    .dataframe thead th {\n",
       "        text-align: right;\n",
       "    }\n",
       "</style>\n",
       "<table border=\"1\" class=\"dataframe\">\n",
       "  <thead>\n",
       "    <tr style=\"text-align: right;\">\n",
       "      <th></th>\n",
       "      <th>id</th>\n",
       "      <th>age</th>\n",
       "      <th>job</th>\n",
       "    </tr>\n",
       "  </thead>\n",
       "  <tbody>\n",
       "    <tr>\n",
       "      <th>0</th>\n",
       "      <td>A</td>\n",
       "      <td>30.0</td>\n",
       "      <td>NaN</td>\n",
       "    </tr>\n",
       "    <tr>\n",
       "      <th>1</th>\n",
       "      <td>B</td>\n",
       "      <td>23.0</td>\n",
       "      <td>NaN</td>\n",
       "    </tr>\n",
       "    <tr>\n",
       "      <th>2</th>\n",
       "      <td>C</td>\n",
       "      <td>25.0</td>\n",
       "      <td>Doctor</td>\n",
       "    </tr>\n",
       "    <tr>\n",
       "      <th>3</th>\n",
       "      <td>D</td>\n",
       "      <td>22.0</td>\n",
       "      <td>Statistician</td>\n",
       "    </tr>\n",
       "    <tr>\n",
       "      <th>4</th>\n",
       "      <td>E</td>\n",
       "      <td>NaN</td>\n",
       "      <td>Accountant</td>\n",
       "    </tr>\n",
       "    <tr>\n",
       "      <th>5</th>\n",
       "      <td>F</td>\n",
       "      <td>NaN</td>\n",
       "      <td>Developer</td>\n",
       "    </tr>\n",
       "  </tbody>\n",
       "</table>\n",
       "</div>"
      ],
      "text/plain": [
       "  id   age           job\n",
       "0  A  30.0           NaN\n",
       "1  B  23.0           NaN\n",
       "2  C  25.0        Doctor\n",
       "3  D  22.0  Statistician\n",
       "4  E   NaN    Accountant\n",
       "5  F   NaN     Developer"
      ]
     },
     "execution_count": 13,
     "metadata": {},
     "output_type": "execute_result"
    }
   ],
   "source": [
    "df1.merge(df2, on='id', how='outer')"
   ]
  },
  {
   "cell_type": "code",
   "execution_count": 14,
   "id": "0d9a23f6",
   "metadata": {},
   "outputs": [
    {
     "data": {
      "application/vnd.microsoft.datawrangler.viewer.v0+json": {
       "columns": [
        {
         "name": "index",
         "rawType": "int64",
         "type": "integer"
        },
        {
         "name": "id",
         "rawType": "object",
         "type": "string"
        },
        {
         "name": "age",
         "rawType": "float64",
         "type": "float"
        },
        {
         "name": "job",
         "rawType": "object",
         "type": "unknown"
        },
        {
         "name": "_merge",
         "rawType": "category",
         "type": "unknown"
        }
       ],
       "ref": "b69bacc1-d5ef-4b51-a6e1-6142abb61c15",
       "rows": [
        [
         "0",
         "A",
         "30.0",
         null,
         "left_only"
        ],
        [
         "1",
         "B",
         "23.0",
         null,
         "left_only"
        ],
        [
         "2",
         "C",
         "25.0",
         "Doctor",
         "both"
        ],
        [
         "3",
         "D",
         "22.0",
         "Statistician",
         "both"
        ],
        [
         "4",
         "E",
         null,
         "Accountant",
         "right_only"
        ],
        [
         "5",
         "F",
         null,
         "Developer",
         "right_only"
        ]
       ],
       "shape": {
        "columns": 4,
        "rows": 6
       }
      },
      "text/html": [
       "<div>\n",
       "<style scoped>\n",
       "    .dataframe tbody tr th:only-of-type {\n",
       "        vertical-align: middle;\n",
       "    }\n",
       "\n",
       "    .dataframe tbody tr th {\n",
       "        vertical-align: top;\n",
       "    }\n",
       "\n",
       "    .dataframe thead th {\n",
       "        text-align: right;\n",
       "    }\n",
       "</style>\n",
       "<table border=\"1\" class=\"dataframe\">\n",
       "  <thead>\n",
       "    <tr style=\"text-align: right;\">\n",
       "      <th></th>\n",
       "      <th>id</th>\n",
       "      <th>age</th>\n",
       "      <th>job</th>\n",
       "      <th>_merge</th>\n",
       "    </tr>\n",
       "  </thead>\n",
       "  <tbody>\n",
       "    <tr>\n",
       "      <th>0</th>\n",
       "      <td>A</td>\n",
       "      <td>30.0</td>\n",
       "      <td>NaN</td>\n",
       "      <td>left_only</td>\n",
       "    </tr>\n",
       "    <tr>\n",
       "      <th>1</th>\n",
       "      <td>B</td>\n",
       "      <td>23.0</td>\n",
       "      <td>NaN</td>\n",
       "      <td>left_only</td>\n",
       "    </tr>\n",
       "    <tr>\n",
       "      <th>2</th>\n",
       "      <td>C</td>\n",
       "      <td>25.0</td>\n",
       "      <td>Doctor</td>\n",
       "      <td>both</td>\n",
       "    </tr>\n",
       "    <tr>\n",
       "      <th>3</th>\n",
       "      <td>D</td>\n",
       "      <td>22.0</td>\n",
       "      <td>Statistician</td>\n",
       "      <td>both</td>\n",
       "    </tr>\n",
       "    <tr>\n",
       "      <th>4</th>\n",
       "      <td>E</td>\n",
       "      <td>NaN</td>\n",
       "      <td>Accountant</td>\n",
       "      <td>right_only</td>\n",
       "    </tr>\n",
       "    <tr>\n",
       "      <th>5</th>\n",
       "      <td>F</td>\n",
       "      <td>NaN</td>\n",
       "      <td>Developer</td>\n",
       "      <td>right_only</td>\n",
       "    </tr>\n",
       "  </tbody>\n",
       "</table>\n",
       "</div>"
      ],
      "text/plain": [
       "  id   age           job      _merge\n",
       "0  A  30.0           NaN   left_only\n",
       "1  B  23.0           NaN   left_only\n",
       "2  C  25.0        Doctor        both\n",
       "3  D  22.0  Statistician        both\n",
       "4  E   NaN    Accountant  right_only\n",
       "5  F   NaN     Developer  right_only"
      ]
     },
     "execution_count": 14,
     "metadata": {},
     "output_type": "execute_result"
    }
   ],
   "source": [
    "# indicator=True\n",
    "df1.merge(df2, on='id', how='outer', indicator=True)"
   ]
  },
  {
   "cell_type": "code",
   "execution_count": 15,
   "id": "4e9f9ad7",
   "metadata": {},
   "outputs": [
    {
     "data": {
      "application/vnd.microsoft.datawrangler.viewer.v0+json": {
       "columns": [
        {
         "name": "index",
         "rawType": "int64",
         "type": "integer"
        },
        {
         "name": "id",
         "rawType": "object",
         "type": "string"
        },
        {
         "name": "age",
         "rawType": "float64",
         "type": "float"
        },
        {
         "name": "job",
         "rawType": "object",
         "type": "unknown"
        },
        {
         "name": "_merge",
         "rawType": "category",
         "type": "unknown"
        }
       ],
       "ref": "bb8cb36d-5eda-4c0d-8f99-8dc7ad5c919e",
       "rows": [
        [
         "0",
         "A",
         "30.0",
         null,
         "left_only"
        ],
        [
         "1",
         "B",
         "23.0",
         null,
         "left_only"
        ],
        [
         "4",
         "E",
         null,
         "Accountant",
         "right_only"
        ],
        [
         "5",
         "F",
         null,
         "Developer",
         "right_only"
        ]
       ],
       "shape": {
        "columns": 4,
        "rows": 4
       }
      },
      "text/html": [
       "<div>\n",
       "<style scoped>\n",
       "    .dataframe tbody tr th:only-of-type {\n",
       "        vertical-align: middle;\n",
       "    }\n",
       "\n",
       "    .dataframe tbody tr th {\n",
       "        vertical-align: top;\n",
       "    }\n",
       "\n",
       "    .dataframe thead th {\n",
       "        text-align: right;\n",
       "    }\n",
       "</style>\n",
       "<table border=\"1\" class=\"dataframe\">\n",
       "  <thead>\n",
       "    <tr style=\"text-align: right;\">\n",
       "      <th></th>\n",
       "      <th>id</th>\n",
       "      <th>age</th>\n",
       "      <th>job</th>\n",
       "      <th>_merge</th>\n",
       "    </tr>\n",
       "  </thead>\n",
       "  <tbody>\n",
       "    <tr>\n",
       "      <th>0</th>\n",
       "      <td>A</td>\n",
       "      <td>30.0</td>\n",
       "      <td>NaN</td>\n",
       "      <td>left_only</td>\n",
       "    </tr>\n",
       "    <tr>\n",
       "      <th>1</th>\n",
       "      <td>B</td>\n",
       "      <td>23.0</td>\n",
       "      <td>NaN</td>\n",
       "      <td>left_only</td>\n",
       "    </tr>\n",
       "    <tr>\n",
       "      <th>4</th>\n",
       "      <td>E</td>\n",
       "      <td>NaN</td>\n",
       "      <td>Accountant</td>\n",
       "      <td>right_only</td>\n",
       "    </tr>\n",
       "    <tr>\n",
       "      <th>5</th>\n",
       "      <td>F</td>\n",
       "      <td>NaN</td>\n",
       "      <td>Developer</td>\n",
       "      <td>right_only</td>\n",
       "    </tr>\n",
       "  </tbody>\n",
       "</table>\n",
       "</div>"
      ],
      "text/plain": [
       "  id   age         job      _merge\n",
       "0  A  30.0         NaN   left_only\n",
       "1  B  23.0         NaN   left_only\n",
       "4  E   NaN  Accountant  right_only\n",
       "5  F   NaN   Developer  right_only"
      ]
     },
     "execution_count": 15,
     "metadata": {},
     "output_type": "execute_result"
    }
   ],
   "source": [
    "# query\n",
    "df1.merge(df2, on='id', how='outer', indicator=True).query(\"_merge=='left_only' or _merge=='right_only'\")"
   ]
  },
  {
   "cell_type": "code",
   "execution_count": 16,
   "id": "156be765",
   "metadata": {},
   "outputs": [
    {
     "data": {
      "text/plain": [
       "((4, 4), (4, 2), (4, 2))"
      ]
     },
     "execution_count": 16,
     "metadata": {},
     "output_type": "execute_result"
    }
   ],
   "source": [
    "# shape\n",
    "df1.merge(df2, on='id', how='outer', indicator=True).query(\"_merge=='left_only' or _merge=='right_only'\").shape, df1.shape, df2.shape"
   ]
  },
  {
   "cell_type": "markdown",
   "id": "bfe05cda",
   "metadata": {},
   "source": [
    "### Exercise"
   ]
  },
  {
   "cell_type": "code",
   "execution_count": 17,
   "id": "18842159",
   "metadata": {},
   "outputs": [
    {
     "data": {
      "application/vnd.microsoft.datawrangler.viewer.v0+json": {
       "columns": [
        {
         "name": "index",
         "rawType": "int64",
         "type": "integer"
        },
        {
         "name": "imdb_title_id",
         "rawType": "object",
         "type": "string"
        },
        {
         "name": "title",
         "rawType": "object",
         "type": "string"
        },
        {
         "name": "year",
         "rawType": "object",
         "type": "string"
        },
        {
         "name": "genre",
         "rawType": "object",
         "type": "string"
        },
        {
         "name": "country",
         "rawType": "object",
         "type": "string"
        },
        {
         "name": "total_votes",
         "rawType": "int64",
         "type": "integer"
        },
        {
         "name": "mean_vote",
         "rawType": "float64",
         "type": "float"
        },
        {
         "name": "_merge",
         "rawType": "category",
         "type": "unknown"
        }
       ],
       "ref": "82f29333-c31e-449e-a6b3-03d364cd6fc7",
       "rows": [],
       "shape": {
        "columns": 8,
        "rows": 0
       }
      },
      "text/html": [
       "<div>\n",
       "<style scoped>\n",
       "    .dataframe tbody tr th:only-of-type {\n",
       "        vertical-align: middle;\n",
       "    }\n",
       "\n",
       "    .dataframe tbody tr th {\n",
       "        vertical-align: top;\n",
       "    }\n",
       "\n",
       "    .dataframe thead th {\n",
       "        text-align: right;\n",
       "    }\n",
       "</style>\n",
       "<table border=\"1\" class=\"dataframe\">\n",
       "  <thead>\n",
       "    <tr style=\"text-align: right;\">\n",
       "      <th></th>\n",
       "      <th>imdb_title_id</th>\n",
       "      <th>title</th>\n",
       "      <th>year</th>\n",
       "      <th>genre</th>\n",
       "      <th>country</th>\n",
       "      <th>total_votes</th>\n",
       "      <th>mean_vote</th>\n",
       "      <th>_merge</th>\n",
       "    </tr>\n",
       "  </thead>\n",
       "  <tbody>\n",
       "  </tbody>\n",
       "</table>\n",
       "</div>"
      ],
      "text/plain": [
       "Empty DataFrame\n",
       "Columns: [imdb_title_id, title, year, genre, country, total_votes, mean_vote, _merge]\n",
       "Index: []"
      ]
     },
     "execution_count": 17,
     "metadata": {},
     "output_type": "execute_result"
    }
   ],
   "source": [
    "# merge df_movies and df_ratings\n",
    "df_movies.merge(df_ratings, on='imdb_title_id', how='outer', \n",
    "                indicator=True).query(\"_merge != 'both'\")"
   ]
  },
  {
   "cell_type": "markdown",
   "id": "dbee2e97",
   "metadata": {},
   "source": [
    "##  Left join"
   ]
  },
  {
   "cell_type": "code",
   "execution_count": 18,
   "id": "fdd44658",
   "metadata": {},
   "outputs": [
    {
     "data": {
      "application/vnd.microsoft.datawrangler.viewer.v0+json": {
       "columns": [
        {
         "name": "index",
         "rawType": "int64",
         "type": "integer"
        },
        {
         "name": "id",
         "rawType": "object",
         "type": "string"
        },
        {
         "name": "age",
         "rawType": "int64",
         "type": "integer"
        },
        {
         "name": "job",
         "rawType": "object",
         "type": "unknown"
        }
       ],
       "ref": "84622674-48ed-449e-976d-f5424268f535",
       "rows": [
        [
         "0",
         "A",
         "30",
         null
        ],
        [
         "1",
         "B",
         "23",
         null
        ],
        [
         "2",
         "C",
         "25",
         "Doctor"
        ],
        [
         "3",
         "D",
         "22",
         "Statistician"
        ]
       ],
       "shape": {
        "columns": 3,
        "rows": 4
       }
      },
      "text/html": [
       "<div>\n",
       "<style scoped>\n",
       "    .dataframe tbody tr th:only-of-type {\n",
       "        vertical-align: middle;\n",
       "    }\n",
       "\n",
       "    .dataframe tbody tr th {\n",
       "        vertical-align: top;\n",
       "    }\n",
       "\n",
       "    .dataframe thead th {\n",
       "        text-align: right;\n",
       "    }\n",
       "</style>\n",
       "<table border=\"1\" class=\"dataframe\">\n",
       "  <thead>\n",
       "    <tr style=\"text-align: right;\">\n",
       "      <th></th>\n",
       "      <th>id</th>\n",
       "      <th>age</th>\n",
       "      <th>job</th>\n",
       "    </tr>\n",
       "  </thead>\n",
       "  <tbody>\n",
       "    <tr>\n",
       "      <th>0</th>\n",
       "      <td>A</td>\n",
       "      <td>30</td>\n",
       "      <td>NaN</td>\n",
       "    </tr>\n",
       "    <tr>\n",
       "      <th>1</th>\n",
       "      <td>B</td>\n",
       "      <td>23</td>\n",
       "      <td>NaN</td>\n",
       "    </tr>\n",
       "    <tr>\n",
       "      <th>2</th>\n",
       "      <td>C</td>\n",
       "      <td>25</td>\n",
       "      <td>Doctor</td>\n",
       "    </tr>\n",
       "    <tr>\n",
       "      <th>3</th>\n",
       "      <td>D</td>\n",
       "      <td>22</td>\n",
       "      <td>Statistician</td>\n",
       "    </tr>\n",
       "  </tbody>\n",
       "</table>\n",
       "</div>"
      ],
      "text/plain": [
       "  id  age           job\n",
       "0  A   30           NaN\n",
       "1  B   23           NaN\n",
       "2  C   25        Doctor\n",
       "3  D   22  Statistician"
      ]
     },
     "execution_count": 18,
     "metadata": {},
     "output_type": "execute_result"
    }
   ],
   "source": [
    "df1.merge(df2, on='id', how='left')"
   ]
  },
  {
   "cell_type": "markdown",
   "id": "3de32433",
   "metadata": {},
   "source": [
    "### Exercise"
   ]
  },
  {
   "cell_type": "code",
   "execution_count": 19,
   "id": "5317af4a",
   "metadata": {},
   "outputs": [],
   "source": [
    "# extract a 50% sample of the df_movies dataframe\n",
    "df_movies_sample = df_movies.sample(frac=0.5)"
   ]
  },
  {
   "cell_type": "code",
   "execution_count": 20,
   "id": "3e41bd9f",
   "metadata": {},
   "outputs": [
    {
     "data": {
      "application/vnd.microsoft.datawrangler.viewer.v0+json": {
       "columns": [
        {
         "name": "index",
         "rawType": "int64",
         "type": "integer"
        },
        {
         "name": "imdb_title_id",
         "rawType": "object",
         "type": "string"
        },
        {
         "name": "title",
         "rawType": "object",
         "type": "string"
        },
        {
         "name": "year",
         "rawType": "object",
         "type": "string"
        },
        {
         "name": "genre",
         "rawType": "object",
         "type": "string"
        },
        {
         "name": "country",
         "rawType": "object",
         "type": "unknown"
        },
        {
         "name": "total_votes",
         "rawType": "int64",
         "type": "integer"
        },
        {
         "name": "mean_vote",
         "rawType": "float64",
         "type": "float"
        }
       ],
       "ref": "bacebcd2-c737-49bf-b90f-bc8f3745bcaa",
       "rows": [
        [
         "0",
         "tt0244567",
         "Jhoothi",
         "1985",
         "Comedy",
         "India",
         "123",
         "6.8"
        ],
        [
         "1",
         "tt0109900",
         "Giorgino",
         "1994",
         "Adventure, Drama, Horror",
         "France",
         "885",
         "7.8"
        ],
        [
         "2",
         "tt2585798",
         "Global Player - Wo wir sind isch vorne",
         "2013",
         "Comedy, Drama",
         "Germany",
         "207",
         "6.9"
        ],
        [
         "3",
         "tt0276276",
         "Lawless Heart",
         "2001",
         "Comedy, Drama, Romance",
         "UK, France",
         "1309",
         "7.0"
        ],
        [
         "4",
         "tt5701082",
         "Supreme",
         "2016",
         "Action, Comedy",
         "India",
         "488",
         "6.4"
        ],
        [
         "5",
         "tt0199683",
         "L'estate di Kikujiro",
         "1999",
         "Drama, Comedy",
         "Japan",
         "18112",
         "7.9"
        ],
        [
         "6",
         "tt5735582",
         "Lou xia de fang ke",
         "2016",
         "Crime, Drama, Thriller",
         "Taiwan",
         "934",
         "5.0"
        ],
        [
         "7",
         "tt0101748",
         "Dogfight: una storia d'amore",
         "1991",
         "Comedy, Drama, Romance",
         "USA",
         "8058",
         "7.7"
        ],
        [
         "8",
         "tt0127353",
         "En dag til i solen",
         "1998",
         "Drama",
         "Spain, Norway, France",
         "183",
         "6.3"
        ],
        [
         "9",
         "tt0114031",
         "Oh Darling Yeh Hai India",
         "1995",
         "Comedy",
         "India",
         "1513",
         "6.4"
        ],
        [
         "10",
         "tt0271607",
         "Kuttettan",
         "1990",
         "Comedy, Drama",
         "India",
         "149",
         "6.9"
        ],
        [
         "11",
         "tt0064333",
         "L'implacabile omicida",
         "1969",
         "Thriller",
         "USA",
         "272",
         "5.4"
        ],
        [
         "12",
         "tt8510488",
         "Un safari per Natale",
         "2019",
         "Comedy, Drama, Romance",
         "USA",
         "10135",
         "6.3"
        ],
        [
         "13",
         "tt0411165",
         "Bin ich sexy?",
         "2004",
         "Comedy, Drama",
         "Germany",
         "120",
         "6.0"
        ],
        [
         "14",
         "tt0454396",
         "Aryan: Unbreakable",
         "2006",
         "Action, Drama, Sport",
         "India",
         "296",
         "5.0"
        ],
        [
         "15",
         "tt0084191",
         "Kamikaze 1989",
         "1982",
         "Sci-Fi, Thriller",
         "West Germany",
         "626",
         "5.9"
        ],
        [
         "16",
         "tt0847830",
         "Grow Your Own",
         "2007",
         "Comedy",
         "UK",
         "656",
         "7.0"
        ],
        [
         "17",
         "tt0161942",
         "Revelation",
         "1999",
         "Action, Drama, Horror",
         "Canada",
         "873",
         "5.7"
        ],
        [
         "18",
         "tt8506500",
         "Betta Fish",
         "2020",
         "Drama",
         "USA",
         "104",
         "5.2"
        ],
        [
         "19",
         "tt0094315",
         "Le balene d'agosto",
         "1987",
         "Drama",
         "USA",
         "4205",
         "7.6"
        ],
        [
         "20",
         "tt0066968",
         "Dash akol",
         "1971",
         "Drama, Romance, Thriller",
         "Iran",
         "992",
         "7.4"
        ],
        [
         "21",
         "tt2124180",
         "Sparks and Embers",
         "2015",
         "Comedy, Drama, Romance",
         "UK",
         "290",
         "5.9"
        ],
        [
         "22",
         "tt1083456",
         "Fired Up! - Ragazzi pon pon",
         "2009",
         "Comedy, Sport",
         "USA",
         "41679",
         "6.4"
        ],
        [
         "23",
         "tt0294677",
         "Kommando Störtebeker",
         "2001",
         "Adventure, Animation",
         "Germany",
         "127",
         "5.4"
        ],
        [
         "24",
         "tt1649431",
         "Vedam",
         "2010",
         "Action, Drama",
         "India",
         "6642",
         "8.5"
        ],
        [
         "25",
         "tt11559652",
         "Me contro Te Il Film - La Vendetta del Signor S",
         "2020",
         "Comedy, Family",
         "Italy",
         "167",
         "2.0"
        ],
        [
         "26",
         "tt0110963",
         "La regina Margot",
         "1994",
         "Biography, Drama, History",
         "France, Italy, Germany",
         "16034",
         "7.6"
        ],
        [
         "27",
         "tt0034850",
         "The Hidden Hand",
         "1942",
         "Comedy, Horror, Mystery",
         "USA",
         "378",
         "6.2"
        ],
        [
         "28",
         "tt0054309",
         "Signori si nasce",
         "1960",
         "Comedy",
         "Italy",
         "552",
         "7.3"
        ],
        [
         "29",
         "tt0091454",
         "Lussuria",
         "1986",
         "Drama",
         "Italy",
         "123",
         "5.2"
        ],
        [
         "30",
         "tt0114936",
         "The Wife",
         "1995",
         "Comedy, Drama",
         "USA",
         "299",
         "6.7"
        ],
        [
         "31",
         "tt0096769",
         "Ribelli lingue bagnate",
         "1989",
         "Horror, Thriller",
         "USA",
         "1598",
         "5.7"
        ],
        [
         "32",
         "tt3681448",
         "Saivam",
         "2014",
         "Drama, Family",
         "India",
         "462",
         "7.1"
        ],
        [
         "33",
         "tt0427900",
         "Stillwater",
         "2005",
         "Thriller",
         "USA",
         "131",
         "4.7"
        ],
        [
         "34",
         "tt0037981",
         "La perla",
         "1947",
         "Adventure, Drama, Romance",
         "Mexico, USA",
         "839",
         "7.6"
        ],
        [
         "35",
         "tt0093913",
         "Sammy e Rosie vanno a letto",
         "1987",
         "Comedy, Drama, Romance",
         "UK",
         "1340",
         "6.7"
        ],
        [
         "36",
         "tt0182916",
         "Gol Krali",
         "1981",
         "Action, Comedy, Romance",
         "Turkey",
         "3217",
         "7.0"
        ],
        [
         "37",
         "tt0047197",
         "Ma and Pa Kettle at Home",
         "1954",
         "Comedy",
         "USA",
         "496",
         "7.1"
        ],
        [
         "38",
         "tt9806192",
         "Dov'è il mio corpo?",
         "2019",
         "Animation, Drama, Fantasy",
         "France",
         "24010",
         "7.6"
        ],
        [
         "39",
         "tt0212742",
         "La prima vittima",
         "2000",
         "Crime, Drama, Mystery",
         "UK, Germany, Canada",
         "1630",
         "5.5"
        ],
        [
         "40",
         "tt4172402",
         "Audacity",
         "2015",
         "Drama",
         "USA",
         "4293",
         "5.9"
        ],
        [
         "41",
         "tt0066016",
         "Amanti ed altri estranei",
         "1970",
         "Comedy",
         "USA",
         "1076",
         "7.0"
        ],
        [
         "42",
         "tt0079260",
         "Haine",
         "1980",
         "Drama, Thriller",
         "France",
         "143",
         "6.3"
        ],
        [
         "43",
         "tt5735280",
         "Deserto rosso sangue",
         "2016",
         "Drama, Horror, Sci-Fi",
         "USA, Canada",
         "4276",
         "5.6"
        ],
        [
         "44",
         "tt3348730",
         "Saw: Legacy",
         "2017",
         "Horror, Mystery",
         "Canada, USA",
         "66035",
         "6.0"
        ],
        [
         "45",
         "tt0108257",
         "Sure fire - a colpo sicuro",
         "1990",
         "Drama",
         "USA",
         "147",
         "7.2"
        ],
        [
         "46",
         "tt1616543",
         "Non è il Messia (E' un ragazzaccio)",
         "2010",
         "Comedy, Music, Musical",
         "UK",
         "1173",
         "7.3"
        ],
        [
         "47",
         "tt0255212",
         "Hamara Dil Aapke Paas Hai",
         "2000",
         "Drama, Romance",
         "India",
         "1736",
         "5.7"
        ],
        [
         "48",
         "tt5196516",
         "Sheborg Massacre",
         "2016",
         "Action, Adventure, Comedy",
         "Australia",
         "187",
         "4.7"
        ],
        [
         "49",
         "tt6177592",
         "My War",
         "2016",
         "History, War",
         "China",
         "158",
         "4.2"
        ]
       ],
       "shape": {
        "columns": 7,
        "rows": 42928
       }
      },
      "text/html": [
       "<div>\n",
       "<style scoped>\n",
       "    .dataframe tbody tr th:only-of-type {\n",
       "        vertical-align: middle;\n",
       "    }\n",
       "\n",
       "    .dataframe tbody tr th {\n",
       "        vertical-align: top;\n",
       "    }\n",
       "\n",
       "    .dataframe thead th {\n",
       "        text-align: right;\n",
       "    }\n",
       "</style>\n",
       "<table border=\"1\" class=\"dataframe\">\n",
       "  <thead>\n",
       "    <tr style=\"text-align: right;\">\n",
       "      <th></th>\n",
       "      <th>imdb_title_id</th>\n",
       "      <th>title</th>\n",
       "      <th>year</th>\n",
       "      <th>genre</th>\n",
       "      <th>country</th>\n",
       "      <th>total_votes</th>\n",
       "      <th>mean_vote</th>\n",
       "    </tr>\n",
       "  </thead>\n",
       "  <tbody>\n",
       "    <tr>\n",
       "      <th>0</th>\n",
       "      <td>tt0244567</td>\n",
       "      <td>Jhoothi</td>\n",
       "      <td>1985</td>\n",
       "      <td>Comedy</td>\n",
       "      <td>India</td>\n",
       "      <td>123</td>\n",
       "      <td>6.8</td>\n",
       "    </tr>\n",
       "    <tr>\n",
       "      <th>1</th>\n",
       "      <td>tt0109900</td>\n",
       "      <td>Giorgino</td>\n",
       "      <td>1994</td>\n",
       "      <td>Adventure, Drama, Horror</td>\n",
       "      <td>France</td>\n",
       "      <td>885</td>\n",
       "      <td>7.8</td>\n",
       "    </tr>\n",
       "    <tr>\n",
       "      <th>2</th>\n",
       "      <td>tt2585798</td>\n",
       "      <td>Global Player - Wo wir sind isch vorne</td>\n",
       "      <td>2013</td>\n",
       "      <td>Comedy, Drama</td>\n",
       "      <td>Germany</td>\n",
       "      <td>207</td>\n",
       "      <td>6.9</td>\n",
       "    </tr>\n",
       "    <tr>\n",
       "      <th>3</th>\n",
       "      <td>tt0276276</td>\n",
       "      <td>Lawless Heart</td>\n",
       "      <td>2001</td>\n",
       "      <td>Comedy, Drama, Romance</td>\n",
       "      <td>UK, France</td>\n",
       "      <td>1309</td>\n",
       "      <td>7.0</td>\n",
       "    </tr>\n",
       "    <tr>\n",
       "      <th>4</th>\n",
       "      <td>tt5701082</td>\n",
       "      <td>Supreme</td>\n",
       "      <td>2016</td>\n",
       "      <td>Action, Comedy</td>\n",
       "      <td>India</td>\n",
       "      <td>488</td>\n",
       "      <td>6.4</td>\n",
       "    </tr>\n",
       "    <tr>\n",
       "      <th>...</th>\n",
       "      <td>...</td>\n",
       "      <td>...</td>\n",
       "      <td>...</td>\n",
       "      <td>...</td>\n",
       "      <td>...</td>\n",
       "      <td>...</td>\n",
       "      <td>...</td>\n",
       "    </tr>\n",
       "    <tr>\n",
       "      <th>42923</th>\n",
       "      <td>tt0036175</td>\n",
       "      <td>Mr. Muggs Steps Out</td>\n",
       "      <td>1943</td>\n",
       "      <td>Comedy</td>\n",
       "      <td>USA</td>\n",
       "      <td>281</td>\n",
       "      <td>8.4</td>\n",
       "    </tr>\n",
       "    <tr>\n",
       "      <th>42924</th>\n",
       "      <td>tt9636256</td>\n",
       "      <td>Sindhubaadh</td>\n",
       "      <td>2019</td>\n",
       "      <td>Action, Thriller</td>\n",
       "      <td>India</td>\n",
       "      <td>320</td>\n",
       "      <td>5.8</td>\n",
       "    </tr>\n",
       "    <tr>\n",
       "      <th>42925</th>\n",
       "      <td>tt0852713</td>\n",
       "      <td>La coniglietta di casa</td>\n",
       "      <td>2008</td>\n",
       "      <td>Comedy, Romance</td>\n",
       "      <td>USA</td>\n",
       "      <td>78215</td>\n",
       "      <td>5.8</td>\n",
       "    </tr>\n",
       "    <tr>\n",
       "      <th>42926</th>\n",
       "      <td>tt5668822</td>\n",
       "      <td>Wildwitch - Il mondo selvatico</td>\n",
       "      <td>2018</td>\n",
       "      <td>Family, Fantasy</td>\n",
       "      <td>Denmark, Norway, Hungary, Czech Republic</td>\n",
       "      <td>387</td>\n",
       "      <td>5.1</td>\n",
       "    </tr>\n",
       "    <tr>\n",
       "      <th>42927</th>\n",
       "      <td>tt0130971</td>\n",
       "      <td>Quand je serai parti... vous vivrez encore</td>\n",
       "      <td>1999</td>\n",
       "      <td>Action, Drama, History</td>\n",
       "      <td>Canada</td>\n",
       "      <td>106</td>\n",
       "      <td>6.4</td>\n",
       "    </tr>\n",
       "  </tbody>\n",
       "</table>\n",
       "<p>42928 rows × 7 columns</p>\n",
       "</div>"
      ],
      "text/plain": [
       "      imdb_title_id                                       title  year  \\\n",
       "0         tt0244567                                     Jhoothi  1985   \n",
       "1         tt0109900                                    Giorgino  1994   \n",
       "2         tt2585798      Global Player - Wo wir sind isch vorne  2013   \n",
       "3         tt0276276                               Lawless Heart  2001   \n",
       "4         tt5701082                                     Supreme  2016   \n",
       "...             ...                                         ...   ...   \n",
       "42923     tt0036175                         Mr. Muggs Steps Out  1943   \n",
       "42924     tt9636256                                 Sindhubaadh  2019   \n",
       "42925     tt0852713                      La coniglietta di casa  2008   \n",
       "42926     tt5668822              Wildwitch - Il mondo selvatico  2018   \n",
       "42927     tt0130971  Quand je serai parti... vous vivrez encore  1999   \n",
       "\n",
       "                          genre                                   country  \\\n",
       "0                        Comedy                                     India   \n",
       "1      Adventure, Drama, Horror                                    France   \n",
       "2                 Comedy, Drama                                   Germany   \n",
       "3        Comedy, Drama, Romance                                UK, France   \n",
       "4                Action, Comedy                                     India   \n",
       "...                         ...                                       ...   \n",
       "42923                    Comedy                                       USA   \n",
       "42924          Action, Thriller                                     India   \n",
       "42925           Comedy, Romance                                       USA   \n",
       "42926           Family, Fantasy  Denmark, Norway, Hungary, Czech Republic   \n",
       "42927    Action, Drama, History                                    Canada   \n",
       "\n",
       "       total_votes  mean_vote  \n",
       "0              123        6.8  \n",
       "1              885        7.8  \n",
       "2              207        6.9  \n",
       "3             1309        7.0  \n",
       "4              488        6.4  \n",
       "...            ...        ...  \n",
       "42923          281        8.4  \n",
       "42924          320        5.8  \n",
       "42925        78215        5.8  \n",
       "42926          387        5.1  \n",
       "42927          106        6.4  \n",
       "\n",
       "[42928 rows x 7 columns]"
      ]
     },
     "execution_count": 20,
     "metadata": {},
     "output_type": "execute_result"
    }
   ],
   "source": [
    "# merge df_movies_sample and df_ratings (left join)\n",
    "df_movies_sample.merge(df_ratings, on='imdb_title_id', how='left')"
   ]
  },
  {
   "cell_type": "code",
   "execution_count": 21,
   "id": "59c07670",
   "metadata": {},
   "outputs": [
    {
     "data": {
      "text/plain": [
       "((42928, 5), (85855, 3), (42928, 7))"
      ]
     },
     "execution_count": 21,
     "metadata": {},
     "output_type": "execute_result"
    }
   ],
   "source": [
    "# shape\n",
    "df_movies_sample.shape, df_ratings.shape, df_movies_sample.merge(df_ratings, on='imdb_title_id', how='left').shape "
   ]
  },
  {
   "cell_type": "markdown",
   "id": "3014d002",
   "metadata": {},
   "source": [
    "## Exclusive Left join"
   ]
  },
  {
   "cell_type": "code",
   "execution_count": 22,
   "id": "22d09499",
   "metadata": {},
   "outputs": [
    {
     "data": {
      "application/vnd.microsoft.datawrangler.viewer.v0+json": {
       "columns": [
        {
         "name": "index",
         "rawType": "int64",
         "type": "integer"
        },
        {
         "name": "id",
         "rawType": "object",
         "type": "string"
        },
        {
         "name": "age",
         "rawType": "float64",
         "type": "float"
        },
        {
         "name": "job",
         "rawType": "object",
         "type": "unknown"
        },
        {
         "name": "_merge",
         "rawType": "category",
         "type": "unknown"
        }
       ],
       "ref": "f5261b06-cb49-4f3b-b5c9-e2e1f7451e29",
       "rows": [
        [
         "0",
         "A",
         "30.0",
         null,
         "left_only"
        ],
        [
         "1",
         "B",
         "23.0",
         null,
         "left_only"
        ],
        [
         "2",
         "C",
         "25.0",
         "Doctor",
         "both"
        ],
        [
         "3",
         "D",
         "22.0",
         "Statistician",
         "both"
        ],
        [
         "4",
         "E",
         null,
         "Accountant",
         "right_only"
        ],
        [
         "5",
         "F",
         null,
         "Developer",
         "right_only"
        ]
       ],
       "shape": {
        "columns": 4,
        "rows": 6
       }
      },
      "text/html": [
       "<div>\n",
       "<style scoped>\n",
       "    .dataframe tbody tr th:only-of-type {\n",
       "        vertical-align: middle;\n",
       "    }\n",
       "\n",
       "    .dataframe tbody tr th {\n",
       "        vertical-align: top;\n",
       "    }\n",
       "\n",
       "    .dataframe thead th {\n",
       "        text-align: right;\n",
       "    }\n",
       "</style>\n",
       "<table border=\"1\" class=\"dataframe\">\n",
       "  <thead>\n",
       "    <tr style=\"text-align: right;\">\n",
       "      <th></th>\n",
       "      <th>id</th>\n",
       "      <th>age</th>\n",
       "      <th>job</th>\n",
       "      <th>_merge</th>\n",
       "    </tr>\n",
       "  </thead>\n",
       "  <tbody>\n",
       "    <tr>\n",
       "      <th>0</th>\n",
       "      <td>A</td>\n",
       "      <td>30.0</td>\n",
       "      <td>NaN</td>\n",
       "      <td>left_only</td>\n",
       "    </tr>\n",
       "    <tr>\n",
       "      <th>1</th>\n",
       "      <td>B</td>\n",
       "      <td>23.0</td>\n",
       "      <td>NaN</td>\n",
       "      <td>left_only</td>\n",
       "    </tr>\n",
       "    <tr>\n",
       "      <th>2</th>\n",
       "      <td>C</td>\n",
       "      <td>25.0</td>\n",
       "      <td>Doctor</td>\n",
       "      <td>both</td>\n",
       "    </tr>\n",
       "    <tr>\n",
       "      <th>3</th>\n",
       "      <td>D</td>\n",
       "      <td>22.0</td>\n",
       "      <td>Statistician</td>\n",
       "      <td>both</td>\n",
       "    </tr>\n",
       "    <tr>\n",
       "      <th>4</th>\n",
       "      <td>E</td>\n",
       "      <td>NaN</td>\n",
       "      <td>Accountant</td>\n",
       "      <td>right_only</td>\n",
       "    </tr>\n",
       "    <tr>\n",
       "      <th>5</th>\n",
       "      <td>F</td>\n",
       "      <td>NaN</td>\n",
       "      <td>Developer</td>\n",
       "      <td>right_only</td>\n",
       "    </tr>\n",
       "  </tbody>\n",
       "</table>\n",
       "</div>"
      ],
      "text/plain": [
       "  id   age           job      _merge\n",
       "0  A  30.0           NaN   left_only\n",
       "1  B  23.0           NaN   left_only\n",
       "2  C  25.0        Doctor        both\n",
       "3  D  22.0  Statistician        both\n",
       "4  E   NaN    Accountant  right_only\n",
       "5  F   NaN     Developer  right_only"
      ]
     },
     "execution_count": 22,
     "metadata": {},
     "output_type": "execute_result"
    }
   ],
   "source": [
    "# indicator=True\n",
    "df1.merge(df2, on='id', how='outer', indicator=True)"
   ]
  },
  {
   "cell_type": "code",
   "execution_count": 23,
   "id": "8bea53e2",
   "metadata": {},
   "outputs": [
    {
     "data": {
      "application/vnd.microsoft.datawrangler.viewer.v0+json": {
       "columns": [
        {
         "name": "index",
         "rawType": "int64",
         "type": "integer"
        },
        {
         "name": "id",
         "rawType": "object",
         "type": "string"
        },
        {
         "name": "age",
         "rawType": "float64",
         "type": "float"
        },
        {
         "name": "job",
         "rawType": "object",
         "type": "unknown"
        },
        {
         "name": "_merge",
         "rawType": "category",
         "type": "unknown"
        }
       ],
       "ref": "8feb3d04-7ef4-4638-897e-34ffa7e1fa84",
       "rows": [
        [
         "0",
         "A",
         "30.0",
         null,
         "left_only"
        ],
        [
         "1",
         "B",
         "23.0",
         null,
         "left_only"
        ]
       ],
       "shape": {
        "columns": 4,
        "rows": 2
       }
      },
      "text/html": [
       "<div>\n",
       "<style scoped>\n",
       "    .dataframe tbody tr th:only-of-type {\n",
       "        vertical-align: middle;\n",
       "    }\n",
       "\n",
       "    .dataframe tbody tr th {\n",
       "        vertical-align: top;\n",
       "    }\n",
       "\n",
       "    .dataframe thead th {\n",
       "        text-align: right;\n",
       "    }\n",
       "</style>\n",
       "<table border=\"1\" class=\"dataframe\">\n",
       "  <thead>\n",
       "    <tr style=\"text-align: right;\">\n",
       "      <th></th>\n",
       "      <th>id</th>\n",
       "      <th>age</th>\n",
       "      <th>job</th>\n",
       "      <th>_merge</th>\n",
       "    </tr>\n",
       "  </thead>\n",
       "  <tbody>\n",
       "    <tr>\n",
       "      <th>0</th>\n",
       "      <td>A</td>\n",
       "      <td>30.0</td>\n",
       "      <td>NaN</td>\n",
       "      <td>left_only</td>\n",
       "    </tr>\n",
       "    <tr>\n",
       "      <th>1</th>\n",
       "      <td>B</td>\n",
       "      <td>23.0</td>\n",
       "      <td>NaN</td>\n",
       "      <td>left_only</td>\n",
       "    </tr>\n",
       "  </tbody>\n",
       "</table>\n",
       "</div>"
      ],
      "text/plain": [
       "  id   age  job     _merge\n",
       "0  A  30.0  NaN  left_only\n",
       "1  B  23.0  NaN  left_only"
      ]
     },
     "execution_count": 23,
     "metadata": {},
     "output_type": "execute_result"
    }
   ],
   "source": [
    "# query\n",
    "df1.merge(df2, on='id', how='outer', indicator=True).query(\"_merge == 'left_only'\")"
   ]
  },
  {
   "cell_type": "code",
   "execution_count": 24,
   "id": "b4a3355e",
   "metadata": {},
   "outputs": [
    {
     "data": {
      "application/vnd.microsoft.datawrangler.viewer.v0+json": {
       "columns": [
        {
         "name": "index",
         "rawType": "int64",
         "type": "integer"
        },
        {
         "name": "imdb_title_id",
         "rawType": "object",
         "type": "string"
        },
        {
         "name": "title",
         "rawType": "object",
         "type": "string"
        },
        {
         "name": "year",
         "rawType": "object",
         "type": "string"
        },
        {
         "name": "genre",
         "rawType": "object",
         "type": "string"
        },
        {
         "name": "country",
         "rawType": "object",
         "type": "unknown"
        },
        {
         "name": "total_votes",
         "rawType": "float64",
         "type": "float"
        },
        {
         "name": "mean_vote",
         "rawType": "float64",
         "type": "float"
        },
        {
         "name": "_merge",
         "rawType": "category",
         "type": "unknown"
        }
       ],
       "ref": "d6f02c6e-97eb-4054-89d8-de9ce998b437",
       "rows": [
        [
         "0",
         "tt0000009",
         "Miss Jerry",
         "1894",
         "Romance",
         "USA",
         null,
         null,
         "left_only"
        ],
        [
         "2",
         "tt0001892",
         "Den sorte drøm",
         "1911",
         "Drama",
         "Germany, Denmark",
         null,
         null,
         "left_only"
        ],
        [
         "5",
         "tt0002199",
         "From the Manger to the Cross; or, Jesus of Nazareth",
         "1912",
         "Biography, Drama",
         "USA",
         null,
         null,
         "left_only"
        ],
        [
         "6",
         "tt0002423",
         "Madame DuBarry",
         "1919",
         "Biography, Drama, Romance",
         "Germany",
         null,
         null,
         "left_only"
        ],
        [
         "8",
         "tt0002452",
         "Independenta Romaniei",
         "1912",
         "History, War",
         "Romania",
         null,
         null,
         "left_only"
        ],
        [
         "10",
         "tt0002646",
         "Atlantis",
         "1913",
         "Drama",
         "Denmark",
         null,
         null,
         "left_only"
        ],
        [
         "16",
         "tt0003165",
         "Le mort qui tue",
         "1913",
         "Crime, Drama, Mystery",
         "France",
         null,
         null,
         "left_only"
        ],
        [
         "17",
         "tt0003167",
         "Amore di madre",
         "1914",
         "Drama",
         "USA",
         null,
         null,
         "left_only"
        ],
        [
         "18",
         "tt0003419",
         "Lo studente di Praga",
         "1913",
         "Drama, Fantasy, Horror",
         "Germany",
         null,
         null,
         "left_only"
        ],
        [
         "22",
         "tt0003643",
         "The Avenging Conscience: or 'Thou Shalt Not Kill'",
         "1914",
         "Crime, Drama, Horror",
         "USA",
         null,
         null,
         "left_only"
        ],
        [
         "23",
         "tt0003657",
         "The Bargain",
         "1914",
         "Western",
         "USA",
         null,
         null,
         "left_only"
        ],
        [
         "31",
         "tt0004099",
         "His Majesty, the Scarecrow of Oz",
         "1914",
         "Family, Fantasy, Adventure",
         "USA",
         null,
         null,
         "left_only"
        ],
        [
         "33",
         "tt0004150",
         "In the Land of the Head Hunters",
         "1914",
         "Drama, History",
         "USA, Canada",
         null,
         null,
         "left_only"
        ],
        [
         "34",
         "tt0004181",
         "Judith of Bethulia",
         "1914",
         "Drama",
         "USA",
         null,
         null,
         "left_only"
        ],
        [
         "36",
         "tt0004465",
         "The Perils of Pauline",
         "1914",
         "Action, Adventure, Drama",
         "USA",
         null,
         null,
         "left_only"
        ],
        [
         "37",
         "tt0004635",
         "The Squaw Man",
         "1914",
         "Action, Drama, Romance",
         "USA",
         null,
         null,
         "left_only"
        ],
        [
         "38",
         "tt0004681",
         "La madonnina del porto",
         "1914",
         "Drama",
         "USA",
         null,
         null,
         "left_only"
        ],
        [
         "39",
         "tt0004707",
         "Tillie's Punctured Romance",
         "1914",
         "Comedy",
         "USA",
         null,
         null,
         "left_only"
        ],
        [
         "41",
         "tt0004743",
         "Uncle Tom's Cabin",
         "1914",
         "Drama",
         "USA",
         null,
         null,
         "left_only"
        ],
        [
         "43",
         "tt0004825",
         "The Wishing Ring: An Idyll of Old England",
         "1914",
         "Comedy, Drama",
         "USA",
         null,
         null,
         "left_only"
        ],
        [
         "46",
         "tt0004873",
         "Alice in Wonderland",
         "1915",
         "Adventure, Family, Fantasy",
         "USA",
         null,
         null,
         "left_only"
        ],
        [
         "47",
         "tt0004972",
         "Nascita di una nazione",
         "1915",
         "Drama, History, War",
         "USA",
         null,
         null,
         "left_only"
        ],
        [
         "48",
         "tt0005060",
         "Carmen",
         "1915",
         "Drama",
         "USA",
         null,
         null,
         "left_only"
        ],
        [
         "53",
         "tt0005529",
         "Hævnens Nat",
         "1916",
         "Crime, Drama, Horror",
         "Denmark",
         null,
         null,
         "left_only"
        ],
        [
         "55",
         "tt0005680",
         "Maciste",
         "1915",
         "Adventure",
         "Italy",
         null,
         null,
         "left_only"
        ],
        [
         "56",
         "tt0005719",
         "Martyrs of the Alamo",
         "1915",
         "Drama, History, War",
         "USA",
         null,
         null,
         "left_only"
        ],
        [
         "59",
         "tt0005951",
         "Rapsodia satanica",
         "1917",
         "Drama, Fantasy, Horror",
         "Italy",
         null,
         null,
         "left_only"
        ],
        [
         "61",
         "tt0006206",
         "I vampiri",
         "1915",
         "Action, Adventure, Crime",
         "France",
         null,
         null,
         "left_only"
        ],
        [
         "64",
         "tt0006509",
         "The Children in the House",
         "1916",
         "Drama",
         "USA",
         null,
         null,
         "left_only"
        ],
        [
         "65",
         "tt0006517",
         "Civilization",
         "1915",
         "Drama",
         "USA",
         null,
         null,
         "left_only"
        ],
        [
         "66",
         "tt0006589",
         "The Devil's Needle",
         "1916",
         "Drama",
         "USA",
         null,
         null,
         "left_only"
        ],
        [
         "68",
         "tt0006688",
         "Flirting with Fate",
         "1916",
         "Adventure, Comedy",
         "USA",
         null,
         null,
         "left_only"
        ],
        [
         "69",
         "tt0006731",
         "Going Straight",
         "1916",
         "Crime, Drama",
         "USA",
         null,
         null,
         "left_only"
        ],
        [
         "70",
         "tt0006736",
         "The Good Bad-Man",
         "1916",
         "Romance, Western",
         "USA",
         null,
         null,
         "left_only"
        ],
        [
         "73",
         "tt0006780",
         "Hell's Hinges",
         "1916",
         "Romance, Western",
         "USA",
         null,
         null,
         "left_only"
        ],
        [
         "75",
         "tt0006826",
         "Hoodoo Ann",
         "1916",
         "Comedy, Drama, Romance",
         "USA",
         null,
         null,
         "left_only"
        ],
        [
         "76",
         "tt0006864",
         "Intolerance",
         "1916",
         "Drama, History",
         "USA",
         null,
         null,
         "left_only"
        ],
        [
         "77",
         "tt0006886",
         "Judex",
         "1916",
         "Adventure, Crime",
         "France",
         null,
         null,
         "left_only"
        ],
        [
         "82",
         "tt0007309",
         "Schuhpalast Pinkus",
         "1916",
         "Comedy",
         "Germany",
         null,
         null,
         "left_only"
        ],
        [
         "84",
         "tt0007340",
         "Shoes",
         "1916",
         "Drama",
         "USA",
         null,
         null,
         "left_only"
        ],
        [
         "85",
         "tt0007361",
         "Snow White",
         "1916",
         "Fantasy, Romance",
         "USA",
         null,
         null,
         "left_only"
        ],
        [
         "86",
         "tt0007367",
         "The Social Secretary",
         "1916",
         "Comedy, Drama",
         "USA",
         null,
         null,
         "left_only"
        ],
        [
         "87",
         "tt0007522",
         "Vingarne",
         "1916",
         "Drama",
         "Sweden",
         null,
         null,
         "left_only"
        ],
        [
         "88",
         "tt0007558",
         "Where Are My Children?",
         "1916",
         "Drama",
         "USA",
         null,
         null,
         "left_only"
        ],
        [
         "89",
         "tt0007610",
         "'49-'17",
         "1917",
         "Drama, Western",
         "USA",
         null,
         null,
         "left_only"
        ],
        [
         "93",
         "tt0008011",
         "A Girl's Folly",
         "1917",
         "Comedy",
         "USA",
         null,
         null,
         "left_only"
        ],
        [
         "94",
         "tt0008100",
         "L'astronave",
         "1918",
         "Adventure, Fantasy, Sci-Fi",
         "Denmark",
         null,
         null,
         "left_only"
        ],
        [
         "95",
         "tt0008150",
         "Joan the Woman",
         "1916",
         "Adventure, Drama, History",
         "USA",
         null,
         null,
         "left_only"
        ],
        [
         "98",
         "tt0008279",
         "Desiderata",
         "1917",
         "Drama",
         "France",
         null,
         null,
         "left_only"
        ],
        [
         "99",
         "tt0008309",
         "A Modern Musketeer",
         "1917",
         "Adventure, Comedy, Western",
         "USA",
         null,
         null,
         "left_only"
        ]
       ],
       "shape": {
        "columns": 8,
        "rows": 42927
       }
      },
      "text/html": [
       "<div>\n",
       "<style scoped>\n",
       "    .dataframe tbody tr th:only-of-type {\n",
       "        vertical-align: middle;\n",
       "    }\n",
       "\n",
       "    .dataframe tbody tr th {\n",
       "        vertical-align: top;\n",
       "    }\n",
       "\n",
       "    .dataframe thead th {\n",
       "        text-align: right;\n",
       "    }\n",
       "</style>\n",
       "<table border=\"1\" class=\"dataframe\">\n",
       "  <thead>\n",
       "    <tr style=\"text-align: right;\">\n",
       "      <th></th>\n",
       "      <th>imdb_title_id</th>\n",
       "      <th>title</th>\n",
       "      <th>year</th>\n",
       "      <th>genre</th>\n",
       "      <th>country</th>\n",
       "      <th>total_votes</th>\n",
       "      <th>mean_vote</th>\n",
       "      <th>_merge</th>\n",
       "    </tr>\n",
       "  </thead>\n",
       "  <tbody>\n",
       "    <tr>\n",
       "      <th>0</th>\n",
       "      <td>tt0000009</td>\n",
       "      <td>Miss Jerry</td>\n",
       "      <td>1894</td>\n",
       "      <td>Romance</td>\n",
       "      <td>USA</td>\n",
       "      <td>NaN</td>\n",
       "      <td>NaN</td>\n",
       "      <td>left_only</td>\n",
       "    </tr>\n",
       "    <tr>\n",
       "      <th>2</th>\n",
       "      <td>tt0001892</td>\n",
       "      <td>Den sorte drøm</td>\n",
       "      <td>1911</td>\n",
       "      <td>Drama</td>\n",
       "      <td>Germany, Denmark</td>\n",
       "      <td>NaN</td>\n",
       "      <td>NaN</td>\n",
       "      <td>left_only</td>\n",
       "    </tr>\n",
       "    <tr>\n",
       "      <th>5</th>\n",
       "      <td>tt0002199</td>\n",
       "      <td>From the Manger to the Cross; or, Jesus of Naz...</td>\n",
       "      <td>1912</td>\n",
       "      <td>Biography, Drama</td>\n",
       "      <td>USA</td>\n",
       "      <td>NaN</td>\n",
       "      <td>NaN</td>\n",
       "      <td>left_only</td>\n",
       "    </tr>\n",
       "    <tr>\n",
       "      <th>6</th>\n",
       "      <td>tt0002423</td>\n",
       "      <td>Madame DuBarry</td>\n",
       "      <td>1919</td>\n",
       "      <td>Biography, Drama, Romance</td>\n",
       "      <td>Germany</td>\n",
       "      <td>NaN</td>\n",
       "      <td>NaN</td>\n",
       "      <td>left_only</td>\n",
       "    </tr>\n",
       "    <tr>\n",
       "      <th>8</th>\n",
       "      <td>tt0002452</td>\n",
       "      <td>Independenta Romaniei</td>\n",
       "      <td>1912</td>\n",
       "      <td>History, War</td>\n",
       "      <td>Romania</td>\n",
       "      <td>NaN</td>\n",
       "      <td>NaN</td>\n",
       "      <td>left_only</td>\n",
       "    </tr>\n",
       "    <tr>\n",
       "      <th>...</th>\n",
       "      <td>...</td>\n",
       "      <td>...</td>\n",
       "      <td>...</td>\n",
       "      <td>...</td>\n",
       "      <td>...</td>\n",
       "      <td>...</td>\n",
       "      <td>...</td>\n",
       "      <td>...</td>\n",
       "    </tr>\n",
       "    <tr>\n",
       "      <th>85847</th>\n",
       "      <td>tt9905412</td>\n",
       "      <td>Ottam</td>\n",
       "      <td>2019</td>\n",
       "      <td>Drama</td>\n",
       "      <td>India</td>\n",
       "      <td>NaN</td>\n",
       "      <td>NaN</td>\n",
       "      <td>left_only</td>\n",
       "    </tr>\n",
       "    <tr>\n",
       "      <th>85848</th>\n",
       "      <td>tt9905462</td>\n",
       "      <td>Pengalila</td>\n",
       "      <td>2019</td>\n",
       "      <td>Drama</td>\n",
       "      <td>India</td>\n",
       "      <td>NaN</td>\n",
       "      <td>NaN</td>\n",
       "      <td>left_only</td>\n",
       "    </tr>\n",
       "    <tr>\n",
       "      <th>85849</th>\n",
       "      <td>tt9906644</td>\n",
       "      <td>Manoharam</td>\n",
       "      <td>2019</td>\n",
       "      <td>Comedy, Drama</td>\n",
       "      <td>India</td>\n",
       "      <td>NaN</td>\n",
       "      <td>NaN</td>\n",
       "      <td>left_only</td>\n",
       "    </tr>\n",
       "    <tr>\n",
       "      <th>85850</th>\n",
       "      <td>tt9908390</td>\n",
       "      <td>Le lion</td>\n",
       "      <td>2020</td>\n",
       "      <td>Comedy</td>\n",
       "      <td>France, Belgium</td>\n",
       "      <td>NaN</td>\n",
       "      <td>NaN</td>\n",
       "      <td>left_only</td>\n",
       "    </tr>\n",
       "    <tr>\n",
       "      <th>85854</th>\n",
       "      <td>tt9914942</td>\n",
       "      <td>La vida sense la Sara Amat</td>\n",
       "      <td>2019</td>\n",
       "      <td>Drama</td>\n",
       "      <td>Spain</td>\n",
       "      <td>NaN</td>\n",
       "      <td>NaN</td>\n",
       "      <td>left_only</td>\n",
       "    </tr>\n",
       "  </tbody>\n",
       "</table>\n",
       "<p>42927 rows × 8 columns</p>\n",
       "</div>"
      ],
      "text/plain": [
       "      imdb_title_id                                              title  year  \\\n",
       "0         tt0000009                                         Miss Jerry  1894   \n",
       "2         tt0001892                                     Den sorte drøm  1911   \n",
       "5         tt0002199  From the Manger to the Cross; or, Jesus of Naz...  1912   \n",
       "6         tt0002423                                     Madame DuBarry  1919   \n",
       "8         tt0002452                              Independenta Romaniei  1912   \n",
       "...             ...                                                ...   ...   \n",
       "85847     tt9905412                                              Ottam  2019   \n",
       "85848     tt9905462                                          Pengalila  2019   \n",
       "85849     tt9906644                                          Manoharam  2019   \n",
       "85850     tt9908390                                            Le lion  2020   \n",
       "85854     tt9914942                         La vida sense la Sara Amat  2019   \n",
       "\n",
       "                           genre           country  total_votes  mean_vote  \\\n",
       "0                        Romance               USA          NaN        NaN   \n",
       "2                          Drama  Germany, Denmark          NaN        NaN   \n",
       "5               Biography, Drama               USA          NaN        NaN   \n",
       "6      Biography, Drama, Romance           Germany          NaN        NaN   \n",
       "8                   History, War           Romania          NaN        NaN   \n",
       "...                          ...               ...          ...        ...   \n",
       "85847                      Drama             India          NaN        NaN   \n",
       "85848                      Drama             India          NaN        NaN   \n",
       "85849              Comedy, Drama             India          NaN        NaN   \n",
       "85850                     Comedy   France, Belgium          NaN        NaN   \n",
       "85854                      Drama             Spain          NaN        NaN   \n",
       "\n",
       "          _merge  \n",
       "0      left_only  \n",
       "2      left_only  \n",
       "5      left_only  \n",
       "6      left_only  \n",
       "8      left_only  \n",
       "...          ...  \n",
       "85847  left_only  \n",
       "85848  left_only  \n",
       "85849  left_only  \n",
       "85850  left_only  \n",
       "85854  left_only  \n",
       "\n",
       "[42927 rows x 8 columns]"
      ]
     },
     "execution_count": 24,
     "metadata": {},
     "output_type": "execute_result"
    }
   ],
   "source": [
    "# left join\n",
    "pd.merge(df_movies, df_ratings.sample(frac=0.5), on='imdb_title_id', \n",
    "         how='outer', indicator=True).query(\"_merge == 'left_only'\")"
   ]
  },
  {
   "cell_type": "markdown",
   "id": "7013b94c",
   "metadata": {},
   "source": [
    "### Exercise"
   ]
  },
  {
   "cell_type": "code",
   "execution_count": 25,
   "id": "06b64daa",
   "metadata": {},
   "outputs": [],
   "source": [
    "# make a copy of the df_movies dataframe\n",
    "df_movies_copy = df_movies.copy()"
   ]
  },
  {
   "cell_type": "code",
   "execution_count": 26,
   "id": "192b0988",
   "metadata": {},
   "outputs": [],
   "source": [
    "# set the first 1000 values of 'imdb_title_id' column as 'tt1234567890'\n",
    "df_movies_copy.iloc[:1000, df_movies_copy.columns.get_loc('imdb_title_id')] = 'tt1234567890'\n",
    "# df_movies_copy.columns.get_loc('imdb_title_id') : returns the location of the column"
   ]
  },
  {
   "cell_type": "code",
   "execution_count": 27,
   "id": "d79c5ba4",
   "metadata": {},
   "outputs": [],
   "source": [
    "# merge df_movies_2 and df_ratings (exclusive left join)\n",
    "df_exclusive_left = df_movies_copy.merge(df_ratings, on='imdb_title_id', how='outer',\n",
    "                     indicator=True).query(\"_merge == 'left_only'\")"
   ]
  },
  {
   "cell_type": "code",
   "execution_count": 28,
   "id": "24f6e6e5",
   "metadata": {},
   "outputs": [
    {
     "data": {
      "text/plain": [
       "((85855, 5), (85855, 3), (1000, 8))"
      ]
     },
     "execution_count": 28,
     "metadata": {},
     "output_type": "execute_result"
    }
   ],
   "source": [
    "# shape\n",
    "df_movies_copy.shape, df_ratings.shape, df_exclusive_left.shape"
   ]
  },
  {
   "cell_type": "markdown",
   "id": "4a2007ee",
   "metadata": {},
   "source": [
    "## Right join"
   ]
  },
  {
   "cell_type": "code",
   "execution_count": 29,
   "id": "2f5ae1cf",
   "metadata": {},
   "outputs": [
    {
     "data": {
      "application/vnd.microsoft.datawrangler.viewer.v0+json": {
       "columns": [
        {
         "name": "index",
         "rawType": "int64",
         "type": "integer"
        },
        {
         "name": "id",
         "rawType": "object",
         "type": "string"
        },
        {
         "name": "age",
         "rawType": "float64",
         "type": "float"
        },
        {
         "name": "job",
         "rawType": "object",
         "type": "string"
        }
       ],
       "ref": "6ea75f0a-a97c-4fc3-ac78-419a2f647c5b",
       "rows": [
        [
         "0",
         "C",
         "25.0",
         "Doctor"
        ],
        [
         "1",
         "D",
         "22.0",
         "Statistician"
        ],
        [
         "2",
         "E",
         null,
         "Accountant"
        ],
        [
         "3",
         "F",
         null,
         "Developer"
        ]
       ],
       "shape": {
        "columns": 3,
        "rows": 4
       }
      },
      "text/html": [
       "<div>\n",
       "<style scoped>\n",
       "    .dataframe tbody tr th:only-of-type {\n",
       "        vertical-align: middle;\n",
       "    }\n",
       "\n",
       "    .dataframe tbody tr th {\n",
       "        vertical-align: top;\n",
       "    }\n",
       "\n",
       "    .dataframe thead th {\n",
       "        text-align: right;\n",
       "    }\n",
       "</style>\n",
       "<table border=\"1\" class=\"dataframe\">\n",
       "  <thead>\n",
       "    <tr style=\"text-align: right;\">\n",
       "      <th></th>\n",
       "      <th>id</th>\n",
       "      <th>age</th>\n",
       "      <th>job</th>\n",
       "    </tr>\n",
       "  </thead>\n",
       "  <tbody>\n",
       "    <tr>\n",
       "      <th>0</th>\n",
       "      <td>C</td>\n",
       "      <td>25.0</td>\n",
       "      <td>Doctor</td>\n",
       "    </tr>\n",
       "    <tr>\n",
       "      <th>1</th>\n",
       "      <td>D</td>\n",
       "      <td>22.0</td>\n",
       "      <td>Statistician</td>\n",
       "    </tr>\n",
       "    <tr>\n",
       "      <th>2</th>\n",
       "      <td>E</td>\n",
       "      <td>NaN</td>\n",
       "      <td>Accountant</td>\n",
       "    </tr>\n",
       "    <tr>\n",
       "      <th>3</th>\n",
       "      <td>F</td>\n",
       "      <td>NaN</td>\n",
       "      <td>Developer</td>\n",
       "    </tr>\n",
       "  </tbody>\n",
       "</table>\n",
       "</div>"
      ],
      "text/plain": [
       "  id   age           job\n",
       "0  C  25.0        Doctor\n",
       "1  D  22.0  Statistician\n",
       "2  E   NaN    Accountant\n",
       "3  F   NaN     Developer"
      ]
     },
     "execution_count": 29,
     "metadata": {},
     "output_type": "execute_result"
    }
   ],
   "source": [
    "df1.merge(df2, on='id', how='right')"
   ]
  },
  {
   "cell_type": "markdown",
   "id": "62a91214",
   "metadata": {},
   "source": [
    "### Exercise"
   ]
  },
  {
   "cell_type": "code",
   "execution_count": 30,
   "id": "fe292156",
   "metadata": {},
   "outputs": [],
   "source": [
    "# extract a 30% sample of the df_ratings dataframe\n",
    "df_ratings_sample = df_ratings.sample(frac=0.3)"
   ]
  },
  {
   "cell_type": "code",
   "execution_count": 31,
   "id": "0ffdcd45",
   "metadata": {},
   "outputs": [],
   "source": [
    "# merge df_movies and df_ratings_sample (right join)\n",
    "df_right = df_movies.merge(df_ratings_sample, on='imdb_title_id', how='right')"
   ]
  },
  {
   "cell_type": "code",
   "execution_count": 32,
   "id": "3754b55c",
   "metadata": {},
   "outputs": [
    {
     "name": "stdout",
     "output_type": "stream",
     "text": [
      "(85855, 5)\n",
      "(25756, 3)\n",
      "(25756, 7)\n"
     ]
    }
   ],
   "source": [
    "# shape\n",
    "print(df_movies.shape)\n",
    "print(df_ratings_sample.shape)\n",
    "print(df_right.shape)"
   ]
  },
  {
   "cell_type": "markdown",
   "id": "c79f3005",
   "metadata": {},
   "source": [
    "## Exclusive Right join"
   ]
  },
  {
   "cell_type": "code",
   "execution_count": 33,
   "id": "e2f62206",
   "metadata": {},
   "outputs": [
    {
     "data": {
      "application/vnd.microsoft.datawrangler.viewer.v0+json": {
       "columns": [
        {
         "name": "index",
         "rawType": "int64",
         "type": "integer"
        },
        {
         "name": "id",
         "rawType": "object",
         "type": "string"
        },
        {
         "name": "age",
         "rawType": "float64",
         "type": "float"
        },
        {
         "name": "job",
         "rawType": "object",
         "type": "unknown"
        },
        {
         "name": "_merge",
         "rawType": "category",
         "type": "unknown"
        }
       ],
       "ref": "17f9d595-df25-4f15-aee0-fbf04403df2c",
       "rows": [
        [
         "0",
         "A",
         "30.0",
         null,
         "left_only"
        ],
        [
         "1",
         "B",
         "23.0",
         null,
         "left_only"
        ],
        [
         "2",
         "C",
         "25.0",
         "Doctor",
         "both"
        ],
        [
         "3",
         "D",
         "22.0",
         "Statistician",
         "both"
        ],
        [
         "4",
         "E",
         null,
         "Accountant",
         "right_only"
        ],
        [
         "5",
         "F",
         null,
         "Developer",
         "right_only"
        ]
       ],
       "shape": {
        "columns": 4,
        "rows": 6
       }
      },
      "text/html": [
       "<div>\n",
       "<style scoped>\n",
       "    .dataframe tbody tr th:only-of-type {\n",
       "        vertical-align: middle;\n",
       "    }\n",
       "\n",
       "    .dataframe tbody tr th {\n",
       "        vertical-align: top;\n",
       "    }\n",
       "\n",
       "    .dataframe thead th {\n",
       "        text-align: right;\n",
       "    }\n",
       "</style>\n",
       "<table border=\"1\" class=\"dataframe\">\n",
       "  <thead>\n",
       "    <tr style=\"text-align: right;\">\n",
       "      <th></th>\n",
       "      <th>id</th>\n",
       "      <th>age</th>\n",
       "      <th>job</th>\n",
       "      <th>_merge</th>\n",
       "    </tr>\n",
       "  </thead>\n",
       "  <tbody>\n",
       "    <tr>\n",
       "      <th>0</th>\n",
       "      <td>A</td>\n",
       "      <td>30.0</td>\n",
       "      <td>NaN</td>\n",
       "      <td>left_only</td>\n",
       "    </tr>\n",
       "    <tr>\n",
       "      <th>1</th>\n",
       "      <td>B</td>\n",
       "      <td>23.0</td>\n",
       "      <td>NaN</td>\n",
       "      <td>left_only</td>\n",
       "    </tr>\n",
       "    <tr>\n",
       "      <th>2</th>\n",
       "      <td>C</td>\n",
       "      <td>25.0</td>\n",
       "      <td>Doctor</td>\n",
       "      <td>both</td>\n",
       "    </tr>\n",
       "    <tr>\n",
       "      <th>3</th>\n",
       "      <td>D</td>\n",
       "      <td>22.0</td>\n",
       "      <td>Statistician</td>\n",
       "      <td>both</td>\n",
       "    </tr>\n",
       "    <tr>\n",
       "      <th>4</th>\n",
       "      <td>E</td>\n",
       "      <td>NaN</td>\n",
       "      <td>Accountant</td>\n",
       "      <td>right_only</td>\n",
       "    </tr>\n",
       "    <tr>\n",
       "      <th>5</th>\n",
       "      <td>F</td>\n",
       "      <td>NaN</td>\n",
       "      <td>Developer</td>\n",
       "      <td>right_only</td>\n",
       "    </tr>\n",
       "  </tbody>\n",
       "</table>\n",
       "</div>"
      ],
      "text/plain": [
       "  id   age           job      _merge\n",
       "0  A  30.0           NaN   left_only\n",
       "1  B  23.0           NaN   left_only\n",
       "2  C  25.0        Doctor        both\n",
       "3  D  22.0  Statistician        both\n",
       "4  E   NaN    Accountant  right_only\n",
       "5  F   NaN     Developer  right_only"
      ]
     },
     "execution_count": 33,
     "metadata": {},
     "output_type": "execute_result"
    }
   ],
   "source": [
    "# indicator=True\n",
    "df1.merge(df2, on='id', how='outer',\n",
    "          indicator = True)"
   ]
  },
  {
   "cell_type": "code",
   "execution_count": 34,
   "id": "8d7bcbe2",
   "metadata": {},
   "outputs": [
    {
     "data": {
      "application/vnd.microsoft.datawrangler.viewer.v0+json": {
       "columns": [
        {
         "name": "index",
         "rawType": "int64",
         "type": "integer"
        },
        {
         "name": "id",
         "rawType": "object",
         "type": "string"
        },
        {
         "name": "age",
         "rawType": "float64",
         "type": "float"
        },
        {
         "name": "job",
         "rawType": "object",
         "type": "string"
        },
        {
         "name": "_merge",
         "rawType": "category",
         "type": "unknown"
        }
       ],
       "ref": "edabc820-a556-4ebe-939b-4aceb41870d1",
       "rows": [
        [
         "4",
         "E",
         null,
         "Accountant",
         "right_only"
        ],
        [
         "5",
         "F",
         null,
         "Developer",
         "right_only"
        ]
       ],
       "shape": {
        "columns": 4,
        "rows": 2
       }
      },
      "text/html": [
       "<div>\n",
       "<style scoped>\n",
       "    .dataframe tbody tr th:only-of-type {\n",
       "        vertical-align: middle;\n",
       "    }\n",
       "\n",
       "    .dataframe tbody tr th {\n",
       "        vertical-align: top;\n",
       "    }\n",
       "\n",
       "    .dataframe thead th {\n",
       "        text-align: right;\n",
       "    }\n",
       "</style>\n",
       "<table border=\"1\" class=\"dataframe\">\n",
       "  <thead>\n",
       "    <tr style=\"text-align: right;\">\n",
       "      <th></th>\n",
       "      <th>id</th>\n",
       "      <th>age</th>\n",
       "      <th>job</th>\n",
       "      <th>_merge</th>\n",
       "    </tr>\n",
       "  </thead>\n",
       "  <tbody>\n",
       "    <tr>\n",
       "      <th>4</th>\n",
       "      <td>E</td>\n",
       "      <td>NaN</td>\n",
       "      <td>Accountant</td>\n",
       "      <td>right_only</td>\n",
       "    </tr>\n",
       "    <tr>\n",
       "      <th>5</th>\n",
       "      <td>F</td>\n",
       "      <td>NaN</td>\n",
       "      <td>Developer</td>\n",
       "      <td>right_only</td>\n",
       "    </tr>\n",
       "  </tbody>\n",
       "</table>\n",
       "</div>"
      ],
      "text/plain": [
       "  id  age         job      _merge\n",
       "4  E  NaN  Accountant  right_only\n",
       "5  F  NaN   Developer  right_only"
      ]
     },
     "execution_count": 34,
     "metadata": {},
     "output_type": "execute_result"
    }
   ],
   "source": [
    "# query\n",
    "df1.merge(df2, on='id', how='outer',\n",
    "          indicator = True).query(\"_merge=='right_only'\")"
   ]
  },
  {
   "cell_type": "markdown",
   "id": "32d3eeda",
   "metadata": {},
   "source": [
    "### Exercise"
   ]
  },
  {
   "cell_type": "code",
   "execution_count": 35,
   "id": "048c2de3",
   "metadata": {},
   "outputs": [],
   "source": [
    "# make a copy of the df_ratings dataframe\n",
    "df_ratings_2 = df_ratings.copy()"
   ]
  },
  {
   "cell_type": "code",
   "execution_count": 36,
   "id": "f71e384a",
   "metadata": {},
   "outputs": [],
   "source": [
    "# set the first 1000 values of 'imdb_title_id' column as 'tt1234567890'\n",
    "df_ratings_2.iloc[:1000, 0] = 'tt1234567890'\n",
    "# you can use .loc[:999, 'imdb_title_id'] = '' : 999 is thier because it is inclusive, in iloc the 1000 is exclusive\n",
    "# [:1000, 0] : \":1000\" refers to start to 1000 rows and \n",
    "#               \"0\" refers to the column location of imdb_title_id or you can use \"df_ratings_2.columns.get_loc('imdb_title_id')\" to get the location"
   ]
  },
  {
   "cell_type": "code",
   "execution_count": 37,
   "id": "358048b3",
   "metadata": {},
   "outputs": [
    {
     "data": {
      "application/vnd.microsoft.datawrangler.viewer.v0+json": {
       "columns": [
        {
         "name": "index",
         "rawType": "int64",
         "type": "integer"
        },
        {
         "name": "imdb_title_id",
         "rawType": "object",
         "type": "string"
        },
        {
         "name": "title",
         "rawType": "object",
         "type": "unknown"
        },
        {
         "name": "year",
         "rawType": "object",
         "type": "unknown"
        },
        {
         "name": "genre",
         "rawType": "object",
         "type": "unknown"
        },
        {
         "name": "country",
         "rawType": "object",
         "type": "unknown"
        },
        {
         "name": "total_votes",
         "rawType": "float64",
         "type": "float"
        },
        {
         "name": "mean_vote",
         "rawType": "float64",
         "type": "float"
        },
        {
         "name": "_merge",
         "rawType": "category",
         "type": "unknown"
        }
       ],
       "ref": "151546f8-a50e-4af2-b899-a4e248d6d2fc",
       "rows": [
        [
         "55817",
         "tt1234567890",
         null,
         null,
         null,
         null,
         "154.0",
         "5.9",
         "right_only"
        ],
        [
         "55818",
         "tt1234567890",
         null,
         null,
         null,
         null,
         "589.0",
         "6.3",
         "right_only"
        ],
        [
         "55819",
         "tt1234567890",
         null,
         null,
         null,
         null,
         "188.0",
         "6.0",
         "right_only"
        ],
        [
         "55820",
         "tt1234567890",
         null,
         null,
         null,
         null,
         "446.0",
         "5.3",
         "right_only"
        ],
        [
         "55821",
         "tt1234567890",
         null,
         null,
         null,
         null,
         "2237.0",
         "6.9",
         "right_only"
        ],
        [
         "55822",
         "tt1234567890",
         null,
         null,
         null,
         null,
         "484.0",
         "5.8",
         "right_only"
        ],
        [
         "55823",
         "tt1234567890",
         null,
         null,
         null,
         null,
         "753.0",
         "6.8",
         "right_only"
        ],
        [
         "55824",
         "tt1234567890",
         null,
         null,
         null,
         null,
         "273.0",
         "6.2",
         "right_only"
        ],
        [
         "55825",
         "tt1234567890",
         null,
         null,
         null,
         null,
         "198.0",
         "7.1",
         "right_only"
        ],
        [
         "55826",
         "tt1234567890",
         null,
         null,
         null,
         null,
         "225.0",
         "5.4",
         "right_only"
        ],
        [
         "55827",
         "tt1234567890",
         null,
         null,
         null,
         null,
         "331.0",
         "6.6",
         "right_only"
        ],
        [
         "55828",
         "tt1234567890",
         null,
         null,
         null,
         null,
         "1944.0",
         "6.6",
         "right_only"
        ],
        [
         "55829",
         "tt1234567890",
         null,
         null,
         null,
         null,
         "948.0",
         "7.2",
         "right_only"
        ],
        [
         "55830",
         "tt1234567890",
         null,
         null,
         null,
         null,
         "1349.0",
         "6.5",
         "right_only"
        ],
        [
         "55831",
         "tt1234567890",
         null,
         null,
         null,
         null,
         "100.0",
         "6.3",
         "right_only"
        ],
        [
         "55832",
         "tt1234567890",
         null,
         null,
         null,
         null,
         "124.0",
         "6.7",
         "right_only"
        ],
        [
         "55833",
         "tt1234567890",
         null,
         null,
         null,
         null,
         "1050.0",
         "6.6",
         "right_only"
        ],
        [
         "55834",
         "tt1234567890",
         null,
         null,
         null,
         null,
         "187.0",
         "6.1",
         "right_only"
        ],
        [
         "55835",
         "tt1234567890",
         null,
         null,
         null,
         null,
         "1768.0",
         "6.5",
         "right_only"
        ],
        [
         "55836",
         "tt1234567890",
         null,
         null,
         null,
         null,
         "552.0",
         "6.0",
         "right_only"
        ],
        [
         "55837",
         "tt1234567890",
         null,
         null,
         null,
         null,
         "474.0",
         "6.1",
         "right_only"
        ],
        [
         "55838",
         "tt1234567890",
         null,
         null,
         null,
         null,
         "378.0",
         "6.5",
         "right_only"
        ],
        [
         "55839",
         "tt1234567890",
         null,
         null,
         null,
         null,
         "1105.0",
         "6.8",
         "right_only"
        ],
        [
         "55840",
         "tt1234567890",
         null,
         null,
         null,
         null,
         "144.0",
         "6.5",
         "right_only"
        ],
        [
         "55841",
         "tt1234567890",
         null,
         null,
         null,
         null,
         "3073.0",
         "6.5",
         "right_only"
        ],
        [
         "55842",
         "tt1234567890",
         null,
         null,
         null,
         null,
         "929.0",
         "6.7",
         "right_only"
        ],
        [
         "55843",
         "tt1234567890",
         null,
         null,
         null,
         null,
         "303.0",
         "7.6",
         "right_only"
        ],
        [
         "55844",
         "tt1234567890",
         null,
         null,
         null,
         null,
         "1161.0",
         "6.5",
         "right_only"
        ],
        [
         "55845",
         "tt1234567890",
         null,
         null,
         null,
         null,
         "202.0",
         "6.0",
         "right_only"
        ],
        [
         "55846",
         "tt1234567890",
         null,
         null,
         null,
         null,
         "1040.0",
         "5.9",
         "right_only"
        ],
        [
         "55847",
         "tt1234567890",
         null,
         null,
         null,
         null,
         "503.0",
         "6.9",
         "right_only"
        ],
        [
         "55848",
         "tt1234567890",
         null,
         null,
         null,
         null,
         "415.0",
         "5.2",
         "right_only"
        ],
        [
         "55849",
         "tt1234567890",
         null,
         null,
         null,
         null,
         "456.0",
         "6.3",
         "right_only"
        ],
        [
         "55850",
         "tt1234567890",
         null,
         null,
         null,
         null,
         "402.0",
         "6.0",
         "right_only"
        ],
        [
         "55851",
         "tt1234567890",
         null,
         null,
         null,
         null,
         "1239.0",
         "7.2",
         "right_only"
        ],
        [
         "55852",
         "tt1234567890",
         null,
         null,
         null,
         null,
         "382.0",
         "5.6",
         "right_only"
        ],
        [
         "55853",
         "tt1234567890",
         null,
         null,
         null,
         null,
         "939.0",
         "7.5",
         "right_only"
        ],
        [
         "55854",
         "tt1234567890",
         null,
         null,
         null,
         null,
         "879.0",
         "6.1",
         "right_only"
        ],
        [
         "55855",
         "tt1234567890",
         null,
         null,
         null,
         null,
         "178.0",
         "6.4",
         "right_only"
        ],
        [
         "55856",
         "tt1234567890",
         null,
         null,
         null,
         null,
         "3250.0",
         "7.1",
         "right_only"
        ],
        [
         "55857",
         "tt1234567890",
         null,
         null,
         null,
         null,
         "165.0",
         "6.4",
         "right_only"
        ],
        [
         "55858",
         "tt1234567890",
         null,
         null,
         null,
         null,
         "112.0",
         "5.4",
         "right_only"
        ],
        [
         "55859",
         "tt1234567890",
         null,
         null,
         null,
         null,
         "174.0",
         "5.6",
         "right_only"
        ],
        [
         "55860",
         "tt1234567890",
         null,
         null,
         null,
         null,
         "242.0",
         "6.3",
         "right_only"
        ],
        [
         "55861",
         "tt1234567890",
         null,
         null,
         null,
         null,
         "138.0",
         "5.7",
         "right_only"
        ],
        [
         "55862",
         "tt1234567890",
         null,
         null,
         null,
         null,
         "206.0",
         "5.8",
         "right_only"
        ],
        [
         "55863",
         "tt1234567890",
         null,
         null,
         null,
         null,
         "394.0",
         "6.2",
         "right_only"
        ],
        [
         "55864",
         "tt1234567890",
         null,
         null,
         null,
         null,
         "22213.0",
         "6.4",
         "right_only"
        ],
        [
         "55865",
         "tt1234567890",
         null,
         null,
         null,
         null,
         "894.0",
         "6.8",
         "right_only"
        ],
        [
         "55866",
         "tt1234567890",
         null,
         null,
         null,
         null,
         "2305.0",
         "6.3",
         "right_only"
        ]
       ],
       "shape": {
        "columns": 8,
        "rows": 1000
       }
      },
      "text/html": [
       "<div>\n",
       "<style scoped>\n",
       "    .dataframe tbody tr th:only-of-type {\n",
       "        vertical-align: middle;\n",
       "    }\n",
       "\n",
       "    .dataframe tbody tr th {\n",
       "        vertical-align: top;\n",
       "    }\n",
       "\n",
       "    .dataframe thead th {\n",
       "        text-align: right;\n",
       "    }\n",
       "</style>\n",
       "<table border=\"1\" class=\"dataframe\">\n",
       "  <thead>\n",
       "    <tr style=\"text-align: right;\">\n",
       "      <th></th>\n",
       "      <th>imdb_title_id</th>\n",
       "      <th>title</th>\n",
       "      <th>year</th>\n",
       "      <th>genre</th>\n",
       "      <th>country</th>\n",
       "      <th>total_votes</th>\n",
       "      <th>mean_vote</th>\n",
       "      <th>_merge</th>\n",
       "    </tr>\n",
       "  </thead>\n",
       "  <tbody>\n",
       "    <tr>\n",
       "      <th>55817</th>\n",
       "      <td>tt1234567890</td>\n",
       "      <td>NaN</td>\n",
       "      <td>NaN</td>\n",
       "      <td>NaN</td>\n",
       "      <td>NaN</td>\n",
       "      <td>154.0</td>\n",
       "      <td>5.9</td>\n",
       "      <td>right_only</td>\n",
       "    </tr>\n",
       "    <tr>\n",
       "      <th>55818</th>\n",
       "      <td>tt1234567890</td>\n",
       "      <td>NaN</td>\n",
       "      <td>NaN</td>\n",
       "      <td>NaN</td>\n",
       "      <td>NaN</td>\n",
       "      <td>589.0</td>\n",
       "      <td>6.3</td>\n",
       "      <td>right_only</td>\n",
       "    </tr>\n",
       "    <tr>\n",
       "      <th>55819</th>\n",
       "      <td>tt1234567890</td>\n",
       "      <td>NaN</td>\n",
       "      <td>NaN</td>\n",
       "      <td>NaN</td>\n",
       "      <td>NaN</td>\n",
       "      <td>188.0</td>\n",
       "      <td>6.0</td>\n",
       "      <td>right_only</td>\n",
       "    </tr>\n",
       "    <tr>\n",
       "      <th>55820</th>\n",
       "      <td>tt1234567890</td>\n",
       "      <td>NaN</td>\n",
       "      <td>NaN</td>\n",
       "      <td>NaN</td>\n",
       "      <td>NaN</td>\n",
       "      <td>446.0</td>\n",
       "      <td>5.3</td>\n",
       "      <td>right_only</td>\n",
       "    </tr>\n",
       "    <tr>\n",
       "      <th>55821</th>\n",
       "      <td>tt1234567890</td>\n",
       "      <td>NaN</td>\n",
       "      <td>NaN</td>\n",
       "      <td>NaN</td>\n",
       "      <td>NaN</td>\n",
       "      <td>2237.0</td>\n",
       "      <td>6.9</td>\n",
       "      <td>right_only</td>\n",
       "    </tr>\n",
       "    <tr>\n",
       "      <th>...</th>\n",
       "      <td>...</td>\n",
       "      <td>...</td>\n",
       "      <td>...</td>\n",
       "      <td>...</td>\n",
       "      <td>...</td>\n",
       "      <td>...</td>\n",
       "      <td>...</td>\n",
       "      <td>...</td>\n",
       "    </tr>\n",
       "    <tr>\n",
       "      <th>56812</th>\n",
       "      <td>tt1234567890</td>\n",
       "      <td>NaN</td>\n",
       "      <td>NaN</td>\n",
       "      <td>NaN</td>\n",
       "      <td>NaN</td>\n",
       "      <td>128.0</td>\n",
       "      <td>5.8</td>\n",
       "      <td>right_only</td>\n",
       "    </tr>\n",
       "    <tr>\n",
       "      <th>56813</th>\n",
       "      <td>tt1234567890</td>\n",
       "      <td>NaN</td>\n",
       "      <td>NaN</td>\n",
       "      <td>NaN</td>\n",
       "      <td>NaN</td>\n",
       "      <td>160.0</td>\n",
       "      <td>6.6</td>\n",
       "      <td>right_only</td>\n",
       "    </tr>\n",
       "    <tr>\n",
       "      <th>56814</th>\n",
       "      <td>tt1234567890</td>\n",
       "      <td>NaN</td>\n",
       "      <td>NaN</td>\n",
       "      <td>NaN</td>\n",
       "      <td>NaN</td>\n",
       "      <td>106.0</td>\n",
       "      <td>7.2</td>\n",
       "      <td>right_only</td>\n",
       "    </tr>\n",
       "    <tr>\n",
       "      <th>56815</th>\n",
       "      <td>tt1234567890</td>\n",
       "      <td>NaN</td>\n",
       "      <td>NaN</td>\n",
       "      <td>NaN</td>\n",
       "      <td>NaN</td>\n",
       "      <td>172.0</td>\n",
       "      <td>6.2</td>\n",
       "      <td>right_only</td>\n",
       "    </tr>\n",
       "    <tr>\n",
       "      <th>56816</th>\n",
       "      <td>tt1234567890</td>\n",
       "      <td>NaN</td>\n",
       "      <td>NaN</td>\n",
       "      <td>NaN</td>\n",
       "      <td>NaN</td>\n",
       "      <td>103.0</td>\n",
       "      <td>7.0</td>\n",
       "      <td>right_only</td>\n",
       "    </tr>\n",
       "  </tbody>\n",
       "</table>\n",
       "<p>1000 rows × 8 columns</p>\n",
       "</div>"
      ],
      "text/plain": [
       "      imdb_title_id title year genre country  total_votes  mean_vote  \\\n",
       "55817  tt1234567890   NaN  NaN   NaN     NaN        154.0        5.9   \n",
       "55818  tt1234567890   NaN  NaN   NaN     NaN        589.0        6.3   \n",
       "55819  tt1234567890   NaN  NaN   NaN     NaN        188.0        6.0   \n",
       "55820  tt1234567890   NaN  NaN   NaN     NaN        446.0        5.3   \n",
       "55821  tt1234567890   NaN  NaN   NaN     NaN       2237.0        6.9   \n",
       "...             ...   ...  ...   ...     ...          ...        ...   \n",
       "56812  tt1234567890   NaN  NaN   NaN     NaN        128.0        5.8   \n",
       "56813  tt1234567890   NaN  NaN   NaN     NaN        160.0        6.6   \n",
       "56814  tt1234567890   NaN  NaN   NaN     NaN        106.0        7.2   \n",
       "56815  tt1234567890   NaN  NaN   NaN     NaN        172.0        6.2   \n",
       "56816  tt1234567890   NaN  NaN   NaN     NaN        103.0        7.0   \n",
       "\n",
       "           _merge  \n",
       "55817  right_only  \n",
       "55818  right_only  \n",
       "55819  right_only  \n",
       "55820  right_only  \n",
       "55821  right_only  \n",
       "...           ...  \n",
       "56812  right_only  \n",
       "56813  right_only  \n",
       "56814  right_only  \n",
       "56815  right_only  \n",
       "56816  right_only  \n",
       "\n",
       "[1000 rows x 8 columns]"
      ]
     },
     "execution_count": 37,
     "metadata": {},
     "output_type": "execute_result"
    }
   ],
   "source": [
    "# merge df_movies and df_ratings_2 (exclusive right join)\n",
    "df_exclusive_right = df_movies.merge(df_ratings_2, on='imdb_title_id', how='outer',\n",
    "                indicator=True).query(\"_merge == 'right_only'\")\n",
    "df_exclusive_right"
   ]
  },
  {
   "cell_type": "code",
   "execution_count": 38,
   "id": "dbbbce2c",
   "metadata": {},
   "outputs": [
    {
     "data": {
      "text/plain": [
       "((85855, 5), (85855, 3), (1000, 8))"
      ]
     },
     "execution_count": 38,
     "metadata": {},
     "output_type": "execute_result"
    }
   ],
   "source": [
    "# shape\n",
    "df_movies.shape, df_ratings_2.shape, df_exclusive_right.shape"
   ]
  }
 ],
 "metadata": {
  "kernelspec": {
   "display_name": ".venv",
   "language": "python",
   "name": "python3"
  },
  "language_info": {
   "codemirror_mode": {
    "name": "ipython",
    "version": 3
   },
   "file_extension": ".py",
   "mimetype": "text/x-python",
   "name": "python",
   "nbconvert_exporter": "python",
   "pygments_lexer": "ipython3",
   "version": "3.10.8"
  },
  "toc": {
   "base_numbering": 1,
   "nav_menu": {},
   "number_sections": true,
   "sideBar": true,
   "skip_h1_title": false,
   "title_cell": "Table of Contents",
   "title_sidebar": "Contents",
   "toc_cell": false,
   "toc_position": {},
   "toc_section_display": true,
   "toc_window_display": false
  }
 },
 "nbformat": 4,
 "nbformat_minor": 5
}
