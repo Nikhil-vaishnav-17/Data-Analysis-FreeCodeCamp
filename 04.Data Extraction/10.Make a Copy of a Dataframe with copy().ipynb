{
 "cells": [
  {
   "cell_type": "code",
   "execution_count": 1,
   "id": "6f179e1f",
   "metadata": {},
   "outputs": [],
   "source": [
    "import pandas as pd"
   ]
  },
  {
   "cell_type": "code",
   "execution_count": 2,
   "id": "ad07a021",
   "metadata": {},
   "outputs": [],
   "source": [
    "# reads csv file\n",
    "df = pd.read_csv('players_20.csv')\n",
    "# set index\n",
    "df.set_index('short_name', inplace=True)\n",
    "# select column\n",
    "df = df[['long_name', 'age', 'dob', 'height_cm', 'weight_kg', 'nationality', 'club']]"
   ]
  },
  {
   "cell_type": "code",
   "execution_count": 3,
   "id": "733e2174",
   "metadata": {},
   "outputs": [
    {
     "data": {
      "application/vnd.microsoft.datawrangler.viewer.v0+json": {
       "columns": [
        {
         "name": "short_name",
         "rawType": "object",
         "type": "string"
        },
        {
         "name": "long_name",
         "rawType": "object",
         "type": "string"
        },
        {
         "name": "age",
         "rawType": "int64",
         "type": "integer"
        },
        {
         "name": "dob",
         "rawType": "object",
         "type": "string"
        },
        {
         "name": "height_cm",
         "rawType": "int64",
         "type": "integer"
        },
        {
         "name": "weight_kg",
         "rawType": "int64",
         "type": "integer"
        },
        {
         "name": "nationality",
         "rawType": "object",
         "type": "string"
        },
        {
         "name": "club",
         "rawType": "object",
         "type": "string"
        }
       ],
       "ref": "6fa66d47-0646-43f2-b51a-fde31fa7b3ba",
       "rows": [
        [
         "L. Messi",
         "Lionel Andrés Messi Cuccittini",
         "32",
         "1987-06-24",
         "170",
         "72",
         "Argentina",
         "FC Barcelona"
        ],
        [
         "Cristiano Ronaldo",
         "Cristiano Ronaldo dos Santos Aveiro",
         "34",
         "1985-02-05",
         "187",
         "83",
         "Portugal",
         "Juventus"
        ],
        [
         "Neymar Jr",
         "Neymar da Silva Santos Junior",
         "27",
         "1992-02-05",
         "175",
         "68",
         "Brazil",
         "Paris Saint-Germain"
        ],
        [
         "J. Oblak",
         "Jan Oblak",
         "26",
         "1993-01-07",
         "188",
         "87",
         "Slovenia",
         "Atlético Madrid"
        ],
        [
         "E. Hazard",
         "Eden Hazard",
         "28",
         "1991-01-07",
         "175",
         "74",
         "Belgium",
         "Real Madrid"
        ],
        [
         "K. De Bruyne",
         "Kevin De Bruyne",
         "28",
         "1991-06-28",
         "181",
         "70",
         "Belgium",
         "Manchester City"
        ],
        [
         "M. ter Stegen",
         "Marc-André ter Stegen",
         "27",
         "1992-04-30",
         "187",
         "85",
         "Germany",
         "FC Barcelona"
        ],
        [
         "V. van Dijk",
         "Virgil van Dijk",
         "27",
         "1991-07-08",
         "193",
         "92",
         "Netherlands",
         "Liverpool"
        ],
        [
         "L. Modrić",
         "Luka Modrić",
         "33",
         "1985-09-09",
         "172",
         "66",
         "Croatia",
         "Real Madrid"
        ],
        [
         "M. Salah",
         "Mohamed  Salah Ghaly",
         "27",
         "1992-06-15",
         "175",
         "71",
         "Egypt",
         "Liverpool"
        ],
        [
         "K. Mbappé",
         "Kylian Mbappé",
         "20",
         "1998-12-20",
         "178",
         "73",
         "France",
         "Paris Saint-Germain"
        ],
        [
         "K. Koulibaly",
         "Kalidou Koulibaly",
         "28",
         "1991-06-20",
         "187",
         "89",
         "Senegal",
         "Napoli"
        ],
        [
         "H. Kane",
         "Harry Kane",
         "25",
         "1993-07-28",
         "188",
         "89",
         "England",
         "Tottenham Hotspur"
        ],
        [
         "Alisson",
         "Alisson Ramses Becker",
         "26",
         "1992-10-02",
         "191",
         "91",
         "Brazil",
         "Liverpool"
        ],
        [
         "De Gea",
         "David De Gea Quintana",
         "28",
         "1990-11-07",
         "192",
         "82",
         "Spain",
         "Manchester United"
        ],
        [
         "N. Kanté",
         "N'Golo Kanté",
         "28",
         "1991-03-29",
         "168",
         "72",
         "France",
         "Chelsea"
        ],
        [
         "G. Chiellini",
         "Giorgio Chiellini",
         "34",
         "1984-08-14",
         "187",
         "85",
         "Italy",
         "Juventus"
        ],
        [
         "S. Agüero",
         "Sergio Leonel Agüero del Castillo",
         "31",
         "1988-06-02",
         "173",
         "70",
         "Argentina",
         "Manchester City"
        ],
        [
         "Sergio Ramos",
         "Sergio Ramos García",
         "33",
         "1986-03-30",
         "184",
         "82",
         "Spain",
         "Real Madrid"
        ],
        [
         "L. Suárez",
         "Luis Alberto Suárez Díaz",
         "32",
         "1987-01-24",
         "182",
         "86",
         "Uruguay",
         "FC Barcelona"
        ],
        [
         "R. Lewandowski",
         "Robert Lewandowski",
         "30",
         "1988-08-21",
         "184",
         "80",
         "Poland",
         "FC Bayern München"
        ],
        [
         "Sergio Busquets",
         "Sergio Busquets i Burgos",
         "30",
         "1988-07-16",
         "189",
         "76",
         "Spain",
         "FC Barcelona"
        ],
        [
         "A. Griezmann",
         "Antoine Griezmann",
         "28",
         "1991-03-21",
         "176",
         "73",
         "France",
         "FC Barcelona"
        ],
        [
         "P. Dybala",
         "Paulo Bruno Exequiel Dybala",
         "25",
         "1993-11-15",
         "177",
         "75",
         "Argentina",
         "Juventus"
        ],
        [
         "P. Pogba",
         "Paul Pogba",
         "26",
         "1993-03-15",
         "191",
         "84",
         "France",
         "Manchester United"
        ],
        [
         "Ederson",
         "Ederson Santana de Moraes",
         "25",
         "1993-08-17",
         "188",
         "86",
         "Brazil",
         "Manchester City"
        ],
        [
         "R. Sterling",
         "Raheem Sterling",
         "24",
         "1994-12-08",
         "170",
         "69",
         "England",
         "Manchester City"
        ],
        [
         "C. Eriksen",
         "Christian  Dannemann Eriksen",
         "27",
         "1992-02-14",
         "181",
         "76",
         "Denmark",
         "Tottenham Hotspur"
        ],
        [
         "T. Courtois",
         "Thibaut Courtois",
         "27",
         "1992-05-11",
         "199",
         "96",
         "Belgium",
         "Real Madrid"
        ],
        [
         "Piqué",
         "Gerard Piqué Bernabéu",
         "32",
         "1987-02-02",
         "194",
         "85",
         "Spain",
         "FC Barcelona"
        ],
        [
         "S. Handanovič",
         "Samir Handanovič",
         "34",
         "1984-07-14",
         "193",
         "92",
         "Slovenia",
         "Inter"
        ],
        [
         "M. Neuer",
         "Manuel Neuer",
         "33",
         "1986-03-27",
         "193",
         "92",
         "Germany",
         "FC Bayern München"
        ],
        [
         "H. Lloris",
         "Hugo Lloris",
         "32",
         "1986-12-26",
         "188",
         "82",
         "France",
         "Tottenham Hotspur"
        ],
        [
         "David Silva",
         "David Josué Jiménez Silva",
         "33",
         "1986-01-08",
         "173",
         "67",
         "Spain",
         "Manchester City"
        ],
        [
         "E. Cavani",
         "Edinson Roberto Cavani Gómez",
         "32",
         "1987-02-14",
         "185",
         "77",
         "Uruguay",
         "Paris Saint-Germain"
        ],
        [
         "D. Godín",
         "Diego Godín",
         "33",
         "1986-02-16",
         "187",
         "78",
         "Uruguay",
         "Inter"
        ],
        [
         "T. Kroos",
         "Toni Kroos",
         "29",
         "1990-01-04",
         "183",
         "76",
         "Germany",
         "Real Madrid"
        ],
        [
         "M. Reus",
         "Marco Reus",
         "30",
         "1989-05-31",
         "180",
         "71",
         "Germany",
         "Borussia Dortmund"
        ],
        [
         "P. Aubameyang",
         "Pierre-Emerick Aubameyang",
         "30",
         "1989-06-18",
         "187",
         "80",
         "Gabon",
         "Arsenal"
        ],
        [
         "S. Mané",
         "Sadio Mané",
         "27",
         "1992-04-10",
         "175",
         "69",
         "Senegal",
         "Liverpool"
        ],
        [
         "A. Laporte",
         "Aymeric  Laporte",
         "25",
         "1994-05-27",
         "189",
         "85",
         "France",
         "Manchester City"
        ],
        [
         "Bernardo Silva",
         "Bernardo Mota Veiga de Carvalho e Silva",
         "24",
         "1994-08-10",
         "173",
         "64",
         "Portugal",
         "Manchester City"
        ],
        [
         "Casemiro",
         "Carlos Henrique Venancio Casimiro",
         "27",
         "1992-02-23",
         "185",
         "84",
         "Brazil",
         "Real Madrid"
        ],
        [
         "H. Son",
         "손흥민 孙兴慜",
         "26",
         "1992-07-08",
         "183",
         "78",
         "Korea Republic",
         "Tottenham Hotspur"
        ],
        [
         "Fernandinho",
         "Fernando Luiz Rosa",
         "34",
         "1985-05-04",
         "179",
         "67",
         "Brazil",
         "Manchester City"
        ],
        [
         "Thiago Silva",
         "Thiago Emiliano da Silva",
         "34",
         "1984-09-22",
         "183",
         "82",
         "Brazil",
         "Paris Saint-Germain"
        ],
        [
         "K. Benzema",
         "Karim Benzema",
         "31",
         "1987-12-19",
         "185",
         "81",
         "France",
         "Real Madrid"
        ],
        [
         "J. Vertonghen",
         "Jan Vertonghen",
         "32",
         "1987-04-24",
         "189",
         "86",
         "Belgium",
         "Tottenham Hotspur"
        ],
        [
         "D. Mertens",
         "Dries Mertens",
         "32",
         "1987-05-06",
         "169",
         "61",
         "Belgium",
         "Napoli"
        ],
        [
         "M. Hummels",
         "Mats  Hummels",
         "30",
         "1988-12-16",
         "191",
         "94",
         "Germany",
         "Borussia Dortmund"
        ]
       ],
       "shape": {
        "columns": 7,
        "rows": 18278
       }
      },
      "text/html": [
       "<div>\n",
       "<style scoped>\n",
       "    .dataframe tbody tr th:only-of-type {\n",
       "        vertical-align: middle;\n",
       "    }\n",
       "\n",
       "    .dataframe tbody tr th {\n",
       "        vertical-align: top;\n",
       "    }\n",
       "\n",
       "    .dataframe thead th {\n",
       "        text-align: right;\n",
       "    }\n",
       "</style>\n",
       "<table border=\"1\" class=\"dataframe\">\n",
       "  <thead>\n",
       "    <tr style=\"text-align: right;\">\n",
       "      <th></th>\n",
       "      <th>long_name</th>\n",
       "      <th>age</th>\n",
       "      <th>dob</th>\n",
       "      <th>height_cm</th>\n",
       "      <th>weight_kg</th>\n",
       "      <th>nationality</th>\n",
       "      <th>club</th>\n",
       "    </tr>\n",
       "    <tr>\n",
       "      <th>short_name</th>\n",
       "      <th></th>\n",
       "      <th></th>\n",
       "      <th></th>\n",
       "      <th></th>\n",
       "      <th></th>\n",
       "      <th></th>\n",
       "      <th></th>\n",
       "    </tr>\n",
       "  </thead>\n",
       "  <tbody>\n",
       "    <tr>\n",
       "      <th>L. Messi</th>\n",
       "      <td>Lionel Andrés Messi Cuccittini</td>\n",
       "      <td>32</td>\n",
       "      <td>1987-06-24</td>\n",
       "      <td>170</td>\n",
       "      <td>72</td>\n",
       "      <td>Argentina</td>\n",
       "      <td>FC Barcelona</td>\n",
       "    </tr>\n",
       "    <tr>\n",
       "      <th>Cristiano Ronaldo</th>\n",
       "      <td>Cristiano Ronaldo dos Santos Aveiro</td>\n",
       "      <td>34</td>\n",
       "      <td>1985-02-05</td>\n",
       "      <td>187</td>\n",
       "      <td>83</td>\n",
       "      <td>Portugal</td>\n",
       "      <td>Juventus</td>\n",
       "    </tr>\n",
       "    <tr>\n",
       "      <th>Neymar Jr</th>\n",
       "      <td>Neymar da Silva Santos Junior</td>\n",
       "      <td>27</td>\n",
       "      <td>1992-02-05</td>\n",
       "      <td>175</td>\n",
       "      <td>68</td>\n",
       "      <td>Brazil</td>\n",
       "      <td>Paris Saint-Germain</td>\n",
       "    </tr>\n",
       "    <tr>\n",
       "      <th>J. Oblak</th>\n",
       "      <td>Jan Oblak</td>\n",
       "      <td>26</td>\n",
       "      <td>1993-01-07</td>\n",
       "      <td>188</td>\n",
       "      <td>87</td>\n",
       "      <td>Slovenia</td>\n",
       "      <td>Atlético Madrid</td>\n",
       "    </tr>\n",
       "    <tr>\n",
       "      <th>E. Hazard</th>\n",
       "      <td>Eden Hazard</td>\n",
       "      <td>28</td>\n",
       "      <td>1991-01-07</td>\n",
       "      <td>175</td>\n",
       "      <td>74</td>\n",
       "      <td>Belgium</td>\n",
       "      <td>Real Madrid</td>\n",
       "    </tr>\n",
       "    <tr>\n",
       "      <th>...</th>\n",
       "      <td>...</td>\n",
       "      <td>...</td>\n",
       "      <td>...</td>\n",
       "      <td>...</td>\n",
       "      <td>...</td>\n",
       "      <td>...</td>\n",
       "      <td>...</td>\n",
       "    </tr>\n",
       "    <tr>\n",
       "      <th>Shao Shuai</th>\n",
       "      <td>邵帅</td>\n",
       "      <td>22</td>\n",
       "      <td>1997-03-10</td>\n",
       "      <td>186</td>\n",
       "      <td>79</td>\n",
       "      <td>China PR</td>\n",
       "      <td>Beijing Renhe FC</td>\n",
       "    </tr>\n",
       "    <tr>\n",
       "      <th>Xiao Mingjie</th>\n",
       "      <td>Mingjie Xiao</td>\n",
       "      <td>22</td>\n",
       "      <td>1997-01-01</td>\n",
       "      <td>177</td>\n",
       "      <td>66</td>\n",
       "      <td>China PR</td>\n",
       "      <td>Shanghai SIPG FC</td>\n",
       "    </tr>\n",
       "    <tr>\n",
       "      <th>Zhang Wei</th>\n",
       "      <td>张威</td>\n",
       "      <td>19</td>\n",
       "      <td>2000-05-16</td>\n",
       "      <td>186</td>\n",
       "      <td>75</td>\n",
       "      <td>China PR</td>\n",
       "      <td>Hebei China Fortune FC</td>\n",
       "    </tr>\n",
       "    <tr>\n",
       "      <th>Wang Haijian</th>\n",
       "      <td>汪海健</td>\n",
       "      <td>18</td>\n",
       "      <td>2000-08-02</td>\n",
       "      <td>185</td>\n",
       "      <td>74</td>\n",
       "      <td>China PR</td>\n",
       "      <td>Shanghai Greenland Shenhua FC</td>\n",
       "    </tr>\n",
       "    <tr>\n",
       "      <th>Pan Ximing</th>\n",
       "      <td>潘喜明</td>\n",
       "      <td>26</td>\n",
       "      <td>1993-01-11</td>\n",
       "      <td>182</td>\n",
       "      <td>78</td>\n",
       "      <td>China PR</td>\n",
       "      <td>Hebei China Fortune FC</td>\n",
       "    </tr>\n",
       "  </tbody>\n",
       "</table>\n",
       "<p>18278 rows × 7 columns</p>\n",
       "</div>"
      ],
      "text/plain": [
       "                                             long_name  age         dob  \\\n",
       "short_name                                                                \n",
       "L. Messi                Lionel Andrés Messi Cuccittini   32  1987-06-24   \n",
       "Cristiano Ronaldo  Cristiano Ronaldo dos Santos Aveiro   34  1985-02-05   \n",
       "Neymar Jr                Neymar da Silva Santos Junior   27  1992-02-05   \n",
       "J. Oblak                                     Jan Oblak   26  1993-01-07   \n",
       "E. Hazard                                  Eden Hazard   28  1991-01-07   \n",
       "...                                                ...  ...         ...   \n",
       "Shao Shuai                                          邵帅   22  1997-03-10   \n",
       "Xiao Mingjie                              Mingjie Xiao   22  1997-01-01   \n",
       "Zhang Wei                                           张威   19  2000-05-16   \n",
       "Wang Haijian                                       汪海健   18  2000-08-02   \n",
       "Pan Ximing                                         潘喜明   26  1993-01-11   \n",
       "\n",
       "                   height_cm  weight_kg nationality  \\\n",
       "short_name                                            \n",
       "L. Messi                 170         72   Argentina   \n",
       "Cristiano Ronaldo        187         83    Portugal   \n",
       "Neymar Jr                175         68      Brazil   \n",
       "J. Oblak                 188         87    Slovenia   \n",
       "E. Hazard                175         74     Belgium   \n",
       "...                      ...        ...         ...   \n",
       "Shao Shuai               186         79    China PR   \n",
       "Xiao Mingjie             177         66    China PR   \n",
       "Zhang Wei                186         75    China PR   \n",
       "Wang Haijian             185         74    China PR   \n",
       "Pan Ximing               182         78    China PR   \n",
       "\n",
       "                                            club  \n",
       "short_name                                        \n",
       "L. Messi                            FC Barcelona  \n",
       "Cristiano Ronaldo                       Juventus  \n",
       "Neymar Jr                    Paris Saint-Germain  \n",
       "J. Oblak                         Atlético Madrid  \n",
       "E. Hazard                            Real Madrid  \n",
       "...                                          ...  \n",
       "Shao Shuai                      Beijing Renhe FC  \n",
       "Xiao Mingjie                    Shanghai SIPG FC  \n",
       "Zhang Wei                 Hebei China Fortune FC  \n",
       "Wang Haijian       Shanghai Greenland Shenhua FC  \n",
       "Pan Ximing                Hebei China Fortune FC  \n",
       "\n",
       "[18278 rows x 7 columns]"
      ]
     },
     "execution_count": 3,
     "metadata": {},
     "output_type": "execute_result"
    }
   ],
   "source": [
    "# show dataframe\n",
    "df"
   ]
  },
  {
   "cell_type": "markdown",
   "id": "dcf6c351",
   "metadata": {},
   "source": [
    "# copy()"
   ]
  },
  {
   "cell_type": "markdown",
   "id": "52ec85e5",
   "metadata": {},
   "source": [
    "## deep = True"
   ]
  },
  {
   "cell_type": "code",
   "execution_count": 5,
   "id": "3e9d88d7",
   "metadata": {},
   "outputs": [],
   "source": [
    "# deep=True by default (Modifications to the data or indices of the copy will not be reflected in the original object )\n",
    "df_copy = df.copy()"
   ]
  },
  {
   "cell_type": "code",
   "execution_count": 7,
   "id": "9bf755c7",
   "metadata": {},
   "outputs": [],
   "source": [
    "# update value in original dataframe\n",
    "df.loc['L. Messi', 'height_cm'] = 180"
   ]
  },
  {
   "cell_type": "code",
   "execution_count": 10,
   "id": "9d0ea62b",
   "metadata": {},
   "outputs": [
    {
     "data": {
      "text/plain": [
       "(np.int64(170), np.int64(180))"
      ]
     },
     "execution_count": 10,
     "metadata": {},
     "output_type": "execute_result"
    }
   ],
   "source": [
    "# copy vs original dataframe\n",
    "df_copy.loc['L. Messi', 'height_cm'], df.loc['L. Messi', 'height_cm']"
   ]
  },
  {
   "cell_type": "markdown",
   "id": "f390bfa9",
   "metadata": {},
   "source": [
    "## deep = False"
   ]
  },
  {
   "cell_type": "code",
   "execution_count": 11,
   "id": "62e7766e",
   "metadata": {},
   "outputs": [],
   "source": [
    "# deep=False (Any changes to the data of the original will be reflected in the shallow copy and vice versa)\n",
    "df_copy = df.copy(deep=False)"
   ]
  },
  {
   "cell_type": "code",
   "execution_count": 12,
   "id": "55d12735",
   "metadata": {},
   "outputs": [],
   "source": [
    "# update value in original dataframe\n",
    "df.loc['Cristiano Ronaldo', 'height_cm'] = 200"
   ]
  },
  {
   "cell_type": "code",
   "execution_count": 13,
   "id": "c21e0c07",
   "metadata": {
    "scrolled": true
   },
   "outputs": [
    {
     "data": {
      "text/plain": [
       "(np.int64(200), np.int64(200))"
      ]
     },
     "execution_count": 13,
     "metadata": {},
     "output_type": "execute_result"
    }
   ],
   "source": [
    "# shallow copy vs original dataframe\n",
    "df.loc['Cristiano Ronaldo', 'height_cm'], df_copy.loc['Cristiano Ronaldo', 'height_cm']\n"
   ]
  },
  {
   "cell_type": "markdown",
   "id": "23f716a7",
   "metadata": {},
   "source": [
    "## Simple  assignment"
   ]
  },
  {
   "cell_type": "code",
   "execution_count": 14,
   "id": "d6ebe763",
   "metadata": {},
   "outputs": [],
   "source": [
    "# make a copy\n",
    "df_new_copy = df"
   ]
  },
  {
   "cell_type": "code",
   "execution_count": 16,
   "id": "527dfa8c",
   "metadata": {},
   "outputs": [],
   "source": [
    "# update value in original dataframe\n",
    "df.loc['Neymar Jr', 'height_cm'] = 190"
   ]
  },
  {
   "cell_type": "code",
   "execution_count": 18,
   "id": "7990ecdf",
   "metadata": {},
   "outputs": [
    {
     "data": {
      "text/plain": [
       "(np.int64(190), np.int64(190))"
      ]
     },
     "execution_count": 18,
     "metadata": {},
     "output_type": "execute_result"
    }
   ],
   "source": [
    "# copy vs original dataframe\n",
    "df.loc['Neymar Jr', 'height_cm'], df_new_copy.loc['Neymar Jr', 'height_cm']\n",
    "# it creates a shalow copy"
   ]
  }
 ],
 "metadata": {
  "kernelspec": {
   "display_name": ".venv",
   "language": "python",
   "name": "python3"
  },
  "language_info": {
   "codemirror_mode": {
    "name": "ipython",
    "version": 3
   },
   "file_extension": ".py",
   "mimetype": "text/x-python",
   "name": "python",
   "nbconvert_exporter": "python",
   "pygments_lexer": "ipython3",
   "version": "3.10.8"
  },
  "toc": {
   "base_numbering": 1,
   "nav_menu": {},
   "number_sections": true,
   "sideBar": true,
   "skip_h1_title": false,
   "title_cell": "Table of Contents",
   "title_sidebar": "Contents",
   "toc_cell": false,
   "toc_position": {},
   "toc_section_display": true,
   "toc_window_display": false
  }
 },
 "nbformat": 4,
 "nbformat_minor": 5
}
