{
 "cells": [
  {
   "cell_type": "code",
   "execution_count": 2,
   "id": "6f179e1f",
   "metadata": {},
   "outputs": [],
   "source": [
    "import pandas as pd"
   ]
  },
  {
   "cell_type": "code",
   "execution_count": 3,
   "id": "ad07a021",
   "metadata": {},
   "outputs": [],
   "source": [
    "# reads csv file\n",
    "df = pd.read_csv('players_20.csv')\n",
    "# set index\n",
    "df.set_index('short_name', inplace=True)\n",
    "# select column\n",
    "df = df[[\"long_name\", 'age', 'dob', 'height_cm', 'weight_kg', 'nationality', 'club']]"
   ]
  },
  {
   "cell_type": "code",
   "execution_count": 4,
   "id": "733e2174",
   "metadata": {},
   "outputs": [
    {
     "data": {
      "application/vnd.microsoft.datawrangler.viewer.v0+json": {
       "columns": [
        {
         "name": "short_name",
         "rawType": "object",
         "type": "string"
        },
        {
         "name": "long_name",
         "rawType": "object",
         "type": "string"
        },
        {
         "name": "age",
         "rawType": "int64",
         "type": "integer"
        },
        {
         "name": "dob",
         "rawType": "object",
         "type": "string"
        },
        {
         "name": "height_cm",
         "rawType": "int64",
         "type": "integer"
        },
        {
         "name": "weight_kg",
         "rawType": "int64",
         "type": "integer"
        },
        {
         "name": "nationality",
         "rawType": "object",
         "type": "string"
        },
        {
         "name": "club",
         "rawType": "object",
         "type": "string"
        }
       ],
       "ref": "fcc23f9c-204c-4fea-ae37-17f7fbf59c67",
       "rows": [
        [
         "L. Messi",
         "Lionel Andrés Messi Cuccittini",
         "32",
         "1987-06-24",
         "170",
         "72",
         "Argentina",
         "FC Barcelona"
        ],
        [
         "Cristiano Ronaldo",
         "Cristiano Ronaldo dos Santos Aveiro",
         "34",
         "1985-02-05",
         "187",
         "83",
         "Portugal",
         "Juventus"
        ],
        [
         "Neymar Jr",
         "Neymar da Silva Santos Junior",
         "27",
         "1992-02-05",
         "175",
         "68",
         "Brazil",
         "Paris Saint-Germain"
        ],
        [
         "J. Oblak",
         "Jan Oblak",
         "26",
         "1993-01-07",
         "188",
         "87",
         "Slovenia",
         "Atlético Madrid"
        ],
        [
         "E. Hazard",
         "Eden Hazard",
         "28",
         "1991-01-07",
         "175",
         "74",
         "Belgium",
         "Real Madrid"
        ],
        [
         "K. De Bruyne",
         "Kevin De Bruyne",
         "28",
         "1991-06-28",
         "181",
         "70",
         "Belgium",
         "Manchester City"
        ],
        [
         "M. ter Stegen",
         "Marc-André ter Stegen",
         "27",
         "1992-04-30",
         "187",
         "85",
         "Germany",
         "FC Barcelona"
        ],
        [
         "V. van Dijk",
         "Virgil van Dijk",
         "27",
         "1991-07-08",
         "193",
         "92",
         "Netherlands",
         "Liverpool"
        ],
        [
         "L. Modrić",
         "Luka Modrić",
         "33",
         "1985-09-09",
         "172",
         "66",
         "Croatia",
         "Real Madrid"
        ],
        [
         "M. Salah",
         "Mohamed  Salah Ghaly",
         "27",
         "1992-06-15",
         "175",
         "71",
         "Egypt",
         "Liverpool"
        ],
        [
         "K. Mbappé",
         "Kylian Mbappé",
         "20",
         "1998-12-20",
         "178",
         "73",
         "France",
         "Paris Saint-Germain"
        ],
        [
         "K. Koulibaly",
         "Kalidou Koulibaly",
         "28",
         "1991-06-20",
         "187",
         "89",
         "Senegal",
         "Napoli"
        ],
        [
         "H. Kane",
         "Harry Kane",
         "25",
         "1993-07-28",
         "188",
         "89",
         "England",
         "Tottenham Hotspur"
        ],
        [
         "Alisson",
         "Alisson Ramses Becker",
         "26",
         "1992-10-02",
         "191",
         "91",
         "Brazil",
         "Liverpool"
        ],
        [
         "De Gea",
         "David De Gea Quintana",
         "28",
         "1990-11-07",
         "192",
         "82",
         "Spain",
         "Manchester United"
        ],
        [
         "N. Kanté",
         "N'Golo Kanté",
         "28",
         "1991-03-29",
         "168",
         "72",
         "France",
         "Chelsea"
        ],
        [
         "G. Chiellini",
         "Giorgio Chiellini",
         "34",
         "1984-08-14",
         "187",
         "85",
         "Italy",
         "Juventus"
        ],
        [
         "S. Agüero",
         "Sergio Leonel Agüero del Castillo",
         "31",
         "1988-06-02",
         "173",
         "70",
         "Argentina",
         "Manchester City"
        ],
        [
         "Sergio Ramos",
         "Sergio Ramos García",
         "33",
         "1986-03-30",
         "184",
         "82",
         "Spain",
         "Real Madrid"
        ],
        [
         "L. Suárez",
         "Luis Alberto Suárez Díaz",
         "32",
         "1987-01-24",
         "182",
         "86",
         "Uruguay",
         "FC Barcelona"
        ],
        [
         "R. Lewandowski",
         "Robert Lewandowski",
         "30",
         "1988-08-21",
         "184",
         "80",
         "Poland",
         "FC Bayern München"
        ],
        [
         "Sergio Busquets",
         "Sergio Busquets i Burgos",
         "30",
         "1988-07-16",
         "189",
         "76",
         "Spain",
         "FC Barcelona"
        ],
        [
         "A. Griezmann",
         "Antoine Griezmann",
         "28",
         "1991-03-21",
         "176",
         "73",
         "France",
         "FC Barcelona"
        ],
        [
         "P. Dybala",
         "Paulo Bruno Exequiel Dybala",
         "25",
         "1993-11-15",
         "177",
         "75",
         "Argentina",
         "Juventus"
        ],
        [
         "P. Pogba",
         "Paul Pogba",
         "26",
         "1993-03-15",
         "191",
         "84",
         "France",
         "Manchester United"
        ],
        [
         "Ederson",
         "Ederson Santana de Moraes",
         "25",
         "1993-08-17",
         "188",
         "86",
         "Brazil",
         "Manchester City"
        ],
        [
         "R. Sterling",
         "Raheem Sterling",
         "24",
         "1994-12-08",
         "170",
         "69",
         "England",
         "Manchester City"
        ],
        [
         "C. Eriksen",
         "Christian  Dannemann Eriksen",
         "27",
         "1992-02-14",
         "181",
         "76",
         "Denmark",
         "Tottenham Hotspur"
        ],
        [
         "T. Courtois",
         "Thibaut Courtois",
         "27",
         "1992-05-11",
         "199",
         "96",
         "Belgium",
         "Real Madrid"
        ],
        [
         "Piqué",
         "Gerard Piqué Bernabéu",
         "32",
         "1987-02-02",
         "194",
         "85",
         "Spain",
         "FC Barcelona"
        ],
        [
         "S. Handanovič",
         "Samir Handanovič",
         "34",
         "1984-07-14",
         "193",
         "92",
         "Slovenia",
         "Inter"
        ],
        [
         "M. Neuer",
         "Manuel Neuer",
         "33",
         "1986-03-27",
         "193",
         "92",
         "Germany",
         "FC Bayern München"
        ],
        [
         "H. Lloris",
         "Hugo Lloris",
         "32",
         "1986-12-26",
         "188",
         "82",
         "France",
         "Tottenham Hotspur"
        ],
        [
         "David Silva",
         "David Josué Jiménez Silva",
         "33",
         "1986-01-08",
         "173",
         "67",
         "Spain",
         "Manchester City"
        ],
        [
         "E. Cavani",
         "Edinson Roberto Cavani Gómez",
         "32",
         "1987-02-14",
         "185",
         "77",
         "Uruguay",
         "Paris Saint-Germain"
        ],
        [
         "D. Godín",
         "Diego Godín",
         "33",
         "1986-02-16",
         "187",
         "78",
         "Uruguay",
         "Inter"
        ],
        [
         "T. Kroos",
         "Toni Kroos",
         "29",
         "1990-01-04",
         "183",
         "76",
         "Germany",
         "Real Madrid"
        ],
        [
         "M. Reus",
         "Marco Reus",
         "30",
         "1989-05-31",
         "180",
         "71",
         "Germany",
         "Borussia Dortmund"
        ],
        [
         "P. Aubameyang",
         "Pierre-Emerick Aubameyang",
         "30",
         "1989-06-18",
         "187",
         "80",
         "Gabon",
         "Arsenal"
        ],
        [
         "S. Mané",
         "Sadio Mané",
         "27",
         "1992-04-10",
         "175",
         "69",
         "Senegal",
         "Liverpool"
        ],
        [
         "A. Laporte",
         "Aymeric  Laporte",
         "25",
         "1994-05-27",
         "189",
         "85",
         "France",
         "Manchester City"
        ],
        [
         "Bernardo Silva",
         "Bernardo Mota Veiga de Carvalho e Silva",
         "24",
         "1994-08-10",
         "173",
         "64",
         "Portugal",
         "Manchester City"
        ],
        [
         "Casemiro",
         "Carlos Henrique Venancio Casimiro",
         "27",
         "1992-02-23",
         "185",
         "84",
         "Brazil",
         "Real Madrid"
        ],
        [
         "H. Son",
         "손흥민 孙兴慜",
         "26",
         "1992-07-08",
         "183",
         "78",
         "Korea Republic",
         "Tottenham Hotspur"
        ],
        [
         "Fernandinho",
         "Fernando Luiz Rosa",
         "34",
         "1985-05-04",
         "179",
         "67",
         "Brazil",
         "Manchester City"
        ],
        [
         "Thiago Silva",
         "Thiago Emiliano da Silva",
         "34",
         "1984-09-22",
         "183",
         "82",
         "Brazil",
         "Paris Saint-Germain"
        ],
        [
         "K. Benzema",
         "Karim Benzema",
         "31",
         "1987-12-19",
         "185",
         "81",
         "France",
         "Real Madrid"
        ],
        [
         "J. Vertonghen",
         "Jan Vertonghen",
         "32",
         "1987-04-24",
         "189",
         "86",
         "Belgium",
         "Tottenham Hotspur"
        ],
        [
         "D. Mertens",
         "Dries Mertens",
         "32",
         "1987-05-06",
         "169",
         "61",
         "Belgium",
         "Napoli"
        ],
        [
         "M. Hummels",
         "Mats  Hummels",
         "30",
         "1988-12-16",
         "191",
         "94",
         "Germany",
         "Borussia Dortmund"
        ]
       ],
       "shape": {
        "columns": 7,
        "rows": 18278
       }
      },
      "text/html": [
       "<div>\n",
       "<style scoped>\n",
       "    .dataframe tbody tr th:only-of-type {\n",
       "        vertical-align: middle;\n",
       "    }\n",
       "\n",
       "    .dataframe tbody tr th {\n",
       "        vertical-align: top;\n",
       "    }\n",
       "\n",
       "    .dataframe thead th {\n",
       "        text-align: right;\n",
       "    }\n",
       "</style>\n",
       "<table border=\"1\" class=\"dataframe\">\n",
       "  <thead>\n",
       "    <tr style=\"text-align: right;\">\n",
       "      <th></th>\n",
       "      <th>long_name</th>\n",
       "      <th>age</th>\n",
       "      <th>dob</th>\n",
       "      <th>height_cm</th>\n",
       "      <th>weight_kg</th>\n",
       "      <th>nationality</th>\n",
       "      <th>club</th>\n",
       "    </tr>\n",
       "    <tr>\n",
       "      <th>short_name</th>\n",
       "      <th></th>\n",
       "      <th></th>\n",
       "      <th></th>\n",
       "      <th></th>\n",
       "      <th></th>\n",
       "      <th></th>\n",
       "      <th></th>\n",
       "    </tr>\n",
       "  </thead>\n",
       "  <tbody>\n",
       "    <tr>\n",
       "      <th>L. Messi</th>\n",
       "      <td>Lionel Andrés Messi Cuccittini</td>\n",
       "      <td>32</td>\n",
       "      <td>1987-06-24</td>\n",
       "      <td>170</td>\n",
       "      <td>72</td>\n",
       "      <td>Argentina</td>\n",
       "      <td>FC Barcelona</td>\n",
       "    </tr>\n",
       "    <tr>\n",
       "      <th>Cristiano Ronaldo</th>\n",
       "      <td>Cristiano Ronaldo dos Santos Aveiro</td>\n",
       "      <td>34</td>\n",
       "      <td>1985-02-05</td>\n",
       "      <td>187</td>\n",
       "      <td>83</td>\n",
       "      <td>Portugal</td>\n",
       "      <td>Juventus</td>\n",
       "    </tr>\n",
       "    <tr>\n",
       "      <th>Neymar Jr</th>\n",
       "      <td>Neymar da Silva Santos Junior</td>\n",
       "      <td>27</td>\n",
       "      <td>1992-02-05</td>\n",
       "      <td>175</td>\n",
       "      <td>68</td>\n",
       "      <td>Brazil</td>\n",
       "      <td>Paris Saint-Germain</td>\n",
       "    </tr>\n",
       "    <tr>\n",
       "      <th>J. Oblak</th>\n",
       "      <td>Jan Oblak</td>\n",
       "      <td>26</td>\n",
       "      <td>1993-01-07</td>\n",
       "      <td>188</td>\n",
       "      <td>87</td>\n",
       "      <td>Slovenia</td>\n",
       "      <td>Atlético Madrid</td>\n",
       "    </tr>\n",
       "    <tr>\n",
       "      <th>E. Hazard</th>\n",
       "      <td>Eden Hazard</td>\n",
       "      <td>28</td>\n",
       "      <td>1991-01-07</td>\n",
       "      <td>175</td>\n",
       "      <td>74</td>\n",
       "      <td>Belgium</td>\n",
       "      <td>Real Madrid</td>\n",
       "    </tr>\n",
       "    <tr>\n",
       "      <th>...</th>\n",
       "      <td>...</td>\n",
       "      <td>...</td>\n",
       "      <td>...</td>\n",
       "      <td>...</td>\n",
       "      <td>...</td>\n",
       "      <td>...</td>\n",
       "      <td>...</td>\n",
       "    </tr>\n",
       "    <tr>\n",
       "      <th>Shao Shuai</th>\n",
       "      <td>邵帅</td>\n",
       "      <td>22</td>\n",
       "      <td>1997-03-10</td>\n",
       "      <td>186</td>\n",
       "      <td>79</td>\n",
       "      <td>China PR</td>\n",
       "      <td>Beijing Renhe FC</td>\n",
       "    </tr>\n",
       "    <tr>\n",
       "      <th>Xiao Mingjie</th>\n",
       "      <td>Mingjie Xiao</td>\n",
       "      <td>22</td>\n",
       "      <td>1997-01-01</td>\n",
       "      <td>177</td>\n",
       "      <td>66</td>\n",
       "      <td>China PR</td>\n",
       "      <td>Shanghai SIPG FC</td>\n",
       "    </tr>\n",
       "    <tr>\n",
       "      <th>Zhang Wei</th>\n",
       "      <td>张威</td>\n",
       "      <td>19</td>\n",
       "      <td>2000-05-16</td>\n",
       "      <td>186</td>\n",
       "      <td>75</td>\n",
       "      <td>China PR</td>\n",
       "      <td>Hebei China Fortune FC</td>\n",
       "    </tr>\n",
       "    <tr>\n",
       "      <th>Wang Haijian</th>\n",
       "      <td>汪海健</td>\n",
       "      <td>18</td>\n",
       "      <td>2000-08-02</td>\n",
       "      <td>185</td>\n",
       "      <td>74</td>\n",
       "      <td>China PR</td>\n",
       "      <td>Shanghai Greenland Shenhua FC</td>\n",
       "    </tr>\n",
       "    <tr>\n",
       "      <th>Pan Ximing</th>\n",
       "      <td>潘喜明</td>\n",
       "      <td>26</td>\n",
       "      <td>1993-01-11</td>\n",
       "      <td>182</td>\n",
       "      <td>78</td>\n",
       "      <td>China PR</td>\n",
       "      <td>Hebei China Fortune FC</td>\n",
       "    </tr>\n",
       "  </tbody>\n",
       "</table>\n",
       "<p>18278 rows × 7 columns</p>\n",
       "</div>"
      ],
      "text/plain": [
       "                                             long_name  age         dob  \\\n",
       "short_name                                                                \n",
       "L. Messi                Lionel Andrés Messi Cuccittini   32  1987-06-24   \n",
       "Cristiano Ronaldo  Cristiano Ronaldo dos Santos Aveiro   34  1985-02-05   \n",
       "Neymar Jr                Neymar da Silva Santos Junior   27  1992-02-05   \n",
       "J. Oblak                                     Jan Oblak   26  1993-01-07   \n",
       "E. Hazard                                  Eden Hazard   28  1991-01-07   \n",
       "...                                                ...  ...         ...   \n",
       "Shao Shuai                                          邵帅   22  1997-03-10   \n",
       "Xiao Mingjie                              Mingjie Xiao   22  1997-01-01   \n",
       "Zhang Wei                                           张威   19  2000-05-16   \n",
       "Wang Haijian                                       汪海健   18  2000-08-02   \n",
       "Pan Ximing                                         潘喜明   26  1993-01-11   \n",
       "\n",
       "                   height_cm  weight_kg nationality  \\\n",
       "short_name                                            \n",
       "L. Messi                 170         72   Argentina   \n",
       "Cristiano Ronaldo        187         83    Portugal   \n",
       "Neymar Jr                175         68      Brazil   \n",
       "J. Oblak                 188         87    Slovenia   \n",
       "E. Hazard                175         74     Belgium   \n",
       "...                      ...        ...         ...   \n",
       "Shao Shuai               186         79    China PR   \n",
       "Xiao Mingjie             177         66    China PR   \n",
       "Zhang Wei                186         75    China PR   \n",
       "Wang Haijian             185         74    China PR   \n",
       "Pan Ximing               182         78    China PR   \n",
       "\n",
       "                                            club  \n",
       "short_name                                        \n",
       "L. Messi                            FC Barcelona  \n",
       "Cristiano Ronaldo                       Juventus  \n",
       "Neymar Jr                    Paris Saint-Germain  \n",
       "J. Oblak                         Atlético Madrid  \n",
       "E. Hazard                            Real Madrid  \n",
       "...                                          ...  \n",
       "Shao Shuai                      Beijing Renhe FC  \n",
       "Xiao Mingjie                    Shanghai SIPG FC  \n",
       "Zhang Wei                 Hebei China Fortune FC  \n",
       "Wang Haijian       Shanghai Greenland Shenhua FC  \n",
       "Pan Ximing                Hebei China Fortune FC  \n",
       "\n",
       "[18278 rows x 7 columns]"
      ]
     },
     "execution_count": 4,
     "metadata": {},
     "output_type": "execute_result"
    }
   ],
   "source": [
    "# show dataframe\n",
    "df"
   ]
  },
  {
   "cell_type": "markdown",
   "id": "8d67a493",
   "metadata": {},
   "source": [
    "# Selecting with a single value"
   ]
  },
  {
   "cell_type": "markdown",
   "id": "0489d915",
   "metadata": {},
   "source": [
    "iloc[row_position, column_position]"
   ]
  },
  {
   "cell_type": "code",
   "execution_count": 5,
   "id": "d500dc19",
   "metadata": {},
   "outputs": [
    {
     "data": {
      "application/vnd.microsoft.datawrangler.viewer.v0+json": {
       "columns": [
        {
         "name": "index",
         "rawType": "object",
         "type": "string"
        },
        {
         "name": "L. Messi",
         "rawType": "object",
         "type": "unknown"
        }
       ],
       "ref": "bc2f0560-710d-4c36-9e18-1d4608d8e6a1",
       "rows": [
        [
         "long_name",
         "Lionel Andrés Messi Cuccittini"
        ],
        [
         "age",
         "32"
        ],
        [
         "dob",
         "1987-06-24"
        ],
        [
         "height_cm",
         "170"
        ],
        [
         "weight_kg",
         "72"
        ],
        [
         "nationality",
         "Argentina"
        ],
        [
         "club",
         "FC Barcelona"
        ]
       ],
       "shape": {
        "columns": 1,
        "rows": 7
       }
      },
      "text/plain": [
       "long_name      Lionel Andrés Messi Cuccittini\n",
       "age                                        32\n",
       "dob                                1987-06-24\n",
       "height_cm                                 170\n",
       "weight_kg                                  72\n",
       "nationality                         Argentina\n",
       "club                             FC Barcelona\n",
       "Name: L. Messi, dtype: object"
      ]
     },
     "execution_count": 5,
     "metadata": {},
     "output_type": "execute_result"
    }
   ],
   "source": [
    "# get the height of L.Messi\n",
    "df.iloc[0]"
   ]
  },
  {
   "cell_type": "code",
   "execution_count": 6,
   "id": "e98c90f1",
   "metadata": {},
   "outputs": [
    {
     "data": {
      "text/plain": [
       "np.int64(83)"
      ]
     },
     "execution_count": 6,
     "metadata": {},
     "output_type": "execute_result"
    }
   ],
   "source": [
    "# get the weight of Cristiano Ronaldo\n",
    "df.iloc[1,4]"
   ]
  },
  {
   "cell_type": "code",
   "execution_count": 7,
   "id": "d74f5c8e",
   "metadata": {},
   "outputs": [
    {
     "data": {
      "application/vnd.microsoft.datawrangler.viewer.v0+json": {
       "columns": [
        {
         "name": "short_name",
         "rawType": "object",
         "type": "string"
        },
        {
         "name": "height_cm",
         "rawType": "int64",
         "type": "integer"
        }
       ],
       "ref": "9748cf0b-5a44-4008-84e1-11622ce3faf2",
       "rows": [
        [
         "L. Messi",
         "170"
        ],
        [
         "Cristiano Ronaldo",
         "187"
        ],
        [
         "Neymar Jr",
         "175"
        ],
        [
         "J. Oblak",
         "188"
        ],
        [
         "E. Hazard",
         "175"
        ],
        [
         "K. De Bruyne",
         "181"
        ],
        [
         "M. ter Stegen",
         "187"
        ],
        [
         "V. van Dijk",
         "193"
        ],
        [
         "L. Modrić",
         "172"
        ],
        [
         "M. Salah",
         "175"
        ],
        [
         "K. Mbappé",
         "178"
        ],
        [
         "K. Koulibaly",
         "187"
        ],
        [
         "H. Kane",
         "188"
        ],
        [
         "Alisson",
         "191"
        ],
        [
         "De Gea",
         "192"
        ],
        [
         "N. Kanté",
         "168"
        ],
        [
         "G. Chiellini",
         "187"
        ],
        [
         "S. Agüero",
         "173"
        ],
        [
         "Sergio Ramos",
         "184"
        ],
        [
         "L. Suárez",
         "182"
        ],
        [
         "R. Lewandowski",
         "184"
        ],
        [
         "Sergio Busquets",
         "189"
        ],
        [
         "A. Griezmann",
         "176"
        ],
        [
         "P. Dybala",
         "177"
        ],
        [
         "P. Pogba",
         "191"
        ],
        [
         "Ederson",
         "188"
        ],
        [
         "R. Sterling",
         "170"
        ],
        [
         "C. Eriksen",
         "181"
        ],
        [
         "T. Courtois",
         "199"
        ],
        [
         "Piqué",
         "194"
        ],
        [
         "S. Handanovič",
         "193"
        ],
        [
         "M. Neuer",
         "193"
        ],
        [
         "H. Lloris",
         "188"
        ],
        [
         "David Silva",
         "173"
        ],
        [
         "E. Cavani",
         "185"
        ],
        [
         "D. Godín",
         "187"
        ],
        [
         "T. Kroos",
         "183"
        ],
        [
         "M. Reus",
         "180"
        ],
        [
         "P. Aubameyang",
         "187"
        ],
        [
         "S. Mané",
         "175"
        ],
        [
         "A. Laporte",
         "189"
        ],
        [
         "Bernardo Silva",
         "173"
        ],
        [
         "Casemiro",
         "185"
        ],
        [
         "H. Son",
         "183"
        ],
        [
         "Fernandinho",
         "179"
        ],
        [
         "Thiago Silva",
         "183"
        ],
        [
         "K. Benzema",
         "185"
        ],
        [
         "J. Vertonghen",
         "189"
        ],
        [
         "D. Mertens",
         "169"
        ],
        [
         "M. Hummels",
         "191"
        ]
       ],
       "shape": {
        "columns": 1,
        "rows": 18278
       }
      },
      "text/plain": [
       "short_name\n",
       "L. Messi             170\n",
       "Cristiano Ronaldo    187\n",
       "Neymar Jr            175\n",
       "J. Oblak             188\n",
       "E. Hazard            175\n",
       "                    ... \n",
       "Shao Shuai           186\n",
       "Xiao Mingjie         177\n",
       "Zhang Wei            186\n",
       "Wang Haijian         185\n",
       "Pan Ximing           182\n",
       "Name: height_cm, Length: 18278, dtype: int64"
      ]
     },
     "execution_count": 7,
     "metadata": {},
     "output_type": "execute_result"
    }
   ],
   "source": [
    "# get all rows inside the 'height_cm column'\n",
    "df.iloc[:,3]"
   ]
  },
  {
   "cell_type": "code",
   "execution_count": 8,
   "id": "3357f2bf",
   "metadata": {},
   "outputs": [
    {
     "data": {
      "application/vnd.microsoft.datawrangler.viewer.v0+json": {
       "columns": [
        {
         "name": "index",
         "rawType": "object",
         "type": "string"
        },
        {
         "name": "L. Messi",
         "rawType": "object",
         "type": "unknown"
        }
       ],
       "ref": "8206a5cb-fb30-4981-895b-f4db248df056",
       "rows": [
        [
         "long_name",
         "Lionel Andrés Messi Cuccittini"
        ],
        [
         "age",
         "32"
        ],
        [
         "dob",
         "1987-06-24"
        ],
        [
         "height_cm",
         "170"
        ],
        [
         "weight_kg",
         "72"
        ],
        [
         "nationality",
         "Argentina"
        ],
        [
         "club",
         "FC Barcelona"
        ]
       ],
       "shape": {
        "columns": 1,
        "rows": 7
       }
      },
      "text/plain": [
       "long_name      Lionel Andrés Messi Cuccittini\n",
       "age                                        32\n",
       "dob                                1987-06-24\n",
       "height_cm                                 170\n",
       "weight_kg                                  72\n",
       "nationality                         Argentina\n",
       "club                             FC Barcelona\n",
       "Name: L. Messi, dtype: object"
      ]
     },
     "execution_count": 8,
     "metadata": {},
     "output_type": "execute_result"
    }
   ],
   "source": [
    "# get all columns that correspond to the index 'L. Messi'\n",
    "df.iloc[0,:]"
   ]
  },
  {
   "cell_type": "markdown",
   "id": "40bbab76",
   "metadata": {},
   "source": [
    "# Selecting with a list of values"
   ]
  },
  {
   "cell_type": "code",
   "execution_count": 9,
   "id": "5cbd4670",
   "metadata": {},
   "outputs": [
    {
     "data": {
      "application/vnd.microsoft.datawrangler.viewer.v0+json": {
       "columns": [
        {
         "name": "short_name",
         "rawType": "object",
         "type": "string"
        },
        {
         "name": "long_name",
         "rawType": "object",
         "type": "string"
        },
        {
         "name": "age",
         "rawType": "int64",
         "type": "integer"
        },
        {
         "name": "dob",
         "rawType": "object",
         "type": "string"
        },
        {
         "name": "height_cm",
         "rawType": "int64",
         "type": "integer"
        },
        {
         "name": "weight_kg",
         "rawType": "int64",
         "type": "integer"
        },
        {
         "name": "nationality",
         "rawType": "object",
         "type": "string"
        },
        {
         "name": "club",
         "rawType": "object",
         "type": "string"
        }
       ],
       "ref": "ec7540d3-19ff-430b-b5b6-092a9fa525bb",
       "rows": [
        [
         "L. Messi",
         "Lionel Andrés Messi Cuccittini",
         "32",
         "1987-06-24",
         "170",
         "72",
         "Argentina",
         "FC Barcelona"
        ],
        [
         "Cristiano Ronaldo",
         "Cristiano Ronaldo dos Santos Aveiro",
         "34",
         "1985-02-05",
         "187",
         "83",
         "Portugal",
         "Juventus"
        ]
       ],
       "shape": {
        "columns": 7,
        "rows": 2
       }
      },
      "text/html": [
       "<div>\n",
       "<style scoped>\n",
       "    .dataframe tbody tr th:only-of-type {\n",
       "        vertical-align: middle;\n",
       "    }\n",
       "\n",
       "    .dataframe tbody tr th {\n",
       "        vertical-align: top;\n",
       "    }\n",
       "\n",
       "    .dataframe thead th {\n",
       "        text-align: right;\n",
       "    }\n",
       "</style>\n",
       "<table border=\"1\" class=\"dataframe\">\n",
       "  <thead>\n",
       "    <tr style=\"text-align: right;\">\n",
       "      <th></th>\n",
       "      <th>long_name</th>\n",
       "      <th>age</th>\n",
       "      <th>dob</th>\n",
       "      <th>height_cm</th>\n",
       "      <th>weight_kg</th>\n",
       "      <th>nationality</th>\n",
       "      <th>club</th>\n",
       "    </tr>\n",
       "    <tr>\n",
       "      <th>short_name</th>\n",
       "      <th></th>\n",
       "      <th></th>\n",
       "      <th></th>\n",
       "      <th></th>\n",
       "      <th></th>\n",
       "      <th></th>\n",
       "      <th></th>\n",
       "    </tr>\n",
       "  </thead>\n",
       "  <tbody>\n",
       "    <tr>\n",
       "      <th>L. Messi</th>\n",
       "      <td>Lionel Andrés Messi Cuccittini</td>\n",
       "      <td>32</td>\n",
       "      <td>1987-06-24</td>\n",
       "      <td>170</td>\n",
       "      <td>72</td>\n",
       "      <td>Argentina</td>\n",
       "      <td>FC Barcelona</td>\n",
       "    </tr>\n",
       "    <tr>\n",
       "      <th>Cristiano Ronaldo</th>\n",
       "      <td>Cristiano Ronaldo dos Santos Aveiro</td>\n",
       "      <td>34</td>\n",
       "      <td>1985-02-05</td>\n",
       "      <td>187</td>\n",
       "      <td>83</td>\n",
       "      <td>Portugal</td>\n",
       "      <td>Juventus</td>\n",
       "    </tr>\n",
       "  </tbody>\n",
       "</table>\n",
       "</div>"
      ],
      "text/plain": [
       "                                             long_name  age         dob  \\\n",
       "short_name                                                                \n",
       "L. Messi                Lionel Andrés Messi Cuccittini   32  1987-06-24   \n",
       "Cristiano Ronaldo  Cristiano Ronaldo dos Santos Aveiro   34  1985-02-05   \n",
       "\n",
       "                   height_cm  weight_kg nationality          club  \n",
       "short_name                                                         \n",
       "L. Messi                 170         72   Argentina  FC Barcelona  \n",
       "Cristiano Ronaldo        187         83    Portugal      Juventus  "
      ]
     },
     "execution_count": 9,
     "metadata": {},
     "output_type": "execute_result"
    }
   ],
   "source": [
    "# get all data about L.Messi and Cristiano Ronaldo\n",
    "df.iloc[[0,1]]"
   ]
  },
  {
   "cell_type": "code",
   "execution_count": 10,
   "id": "aa47e64e",
   "metadata": {},
   "outputs": [
    {
     "data": {
      "application/vnd.microsoft.datawrangler.viewer.v0+json": {
       "columns": [
        {
         "name": "short_name",
         "rawType": "object",
         "type": "string"
        },
        {
         "name": "height_cm",
         "rawType": "int64",
         "type": "integer"
        }
       ],
       "ref": "39f98cc3-458e-468e-b445-1faf4f9e3591",
       "rows": [
        [
         "L. Messi",
         "170"
        ],
        [
         "Cristiano Ronaldo",
         "187"
        ]
       ],
       "shape": {
        "columns": 1,
        "rows": 2
       }
      },
      "text/plain": [
       "short_name\n",
       "L. Messi             170\n",
       "Cristiano Ronaldo    187\n",
       "Name: height_cm, dtype: int64"
      ]
     },
     "execution_count": 10,
     "metadata": {},
     "output_type": "execute_result"
    }
   ],
   "source": [
    "# get the height of L.Messi and Cristiano Ronaldo\n",
    "df.iloc[[0,1], 3]"
   ]
  },
  {
   "cell_type": "code",
   "execution_count": 11,
   "id": "87b8db25",
   "metadata": {},
   "outputs": [
    {
     "data": {
      "application/vnd.microsoft.datawrangler.viewer.v0+json": {
       "columns": [
        {
         "name": "index",
         "rawType": "object",
         "type": "string"
        },
        {
         "name": "L. Messi",
         "rawType": "object",
         "type": "unknown"
        }
       ],
       "ref": "b6af8664-ba78-45ad-9706-1770d0da8be4",
       "rows": [
        [
         "height_cm",
         "170"
        ],
        [
         "weight_kg",
         "72"
        ]
       ],
       "shape": {
        "columns": 1,
        "rows": 2
       }
      },
      "text/plain": [
       "height_cm    170\n",
       "weight_kg     72\n",
       "Name: L. Messi, dtype: object"
      ]
     },
     "execution_count": 11,
     "metadata": {},
     "output_type": "execute_result"
    }
   ],
   "source": [
    "# get the height and weight of L.Messi\n",
    "df.iloc[0,[3,4]]"
   ]
  },
  {
   "cell_type": "code",
   "execution_count": 12,
   "id": "d833fcdf",
   "metadata": {},
   "outputs": [
    {
     "data": {
      "application/vnd.microsoft.datawrangler.viewer.v0+json": {
       "columns": [
        {
         "name": "short_name",
         "rawType": "object",
         "type": "string"
        },
        {
         "name": "height_cm",
         "rawType": "int64",
         "type": "integer"
        },
        {
         "name": "weight_kg",
         "rawType": "int64",
         "type": "integer"
        }
       ],
       "ref": "5c186a7c-305a-424b-9910-079a1d2ac7fb",
       "rows": [
        [
         "L. Messi",
         "170",
         "72"
        ],
        [
         "Cristiano Ronaldo",
         "187",
         "83"
        ]
       ],
       "shape": {
        "columns": 2,
        "rows": 2
       }
      },
      "text/html": [
       "<div>\n",
       "<style scoped>\n",
       "    .dataframe tbody tr th:only-of-type {\n",
       "        vertical-align: middle;\n",
       "    }\n",
       "\n",
       "    .dataframe tbody tr th {\n",
       "        vertical-align: top;\n",
       "    }\n",
       "\n",
       "    .dataframe thead th {\n",
       "        text-align: right;\n",
       "    }\n",
       "</style>\n",
       "<table border=\"1\" class=\"dataframe\">\n",
       "  <thead>\n",
       "    <tr style=\"text-align: right;\">\n",
       "      <th></th>\n",
       "      <th>height_cm</th>\n",
       "      <th>weight_kg</th>\n",
       "    </tr>\n",
       "    <tr>\n",
       "      <th>short_name</th>\n",
       "      <th></th>\n",
       "      <th></th>\n",
       "    </tr>\n",
       "  </thead>\n",
       "  <tbody>\n",
       "    <tr>\n",
       "      <th>L. Messi</th>\n",
       "      <td>170</td>\n",
       "      <td>72</td>\n",
       "    </tr>\n",
       "    <tr>\n",
       "      <th>Cristiano Ronaldo</th>\n",
       "      <td>187</td>\n",
       "      <td>83</td>\n",
       "    </tr>\n",
       "  </tbody>\n",
       "</table>\n",
       "</div>"
      ],
      "text/plain": [
       "                   height_cm  weight_kg\n",
       "short_name                             \n",
       "L. Messi                 170         72\n",
       "Cristiano Ronaldo        187         83"
      ]
     },
     "execution_count": 12,
     "metadata": {},
     "output_type": "execute_result"
    }
   ],
   "source": [
    "# get height and weight of L.Messi and Cristiano Ronaldo\n",
    "df.iloc[[0,1], [3,4]]"
   ]
  },
  {
   "cell_type": "markdown",
   "id": "8b5299c4",
   "metadata": {},
   "source": [
    "# Selecting a range of data with a slice"
   ]
  },
  {
   "cell_type": "markdown",
   "id": "47eabc80",
   "metadata": {},
   "source": [
    "start:stop  (Note that the start is included but the stop is excluded)"
   ]
  },
  {
   "cell_type": "code",
   "execution_count": 18,
   "id": "18be9cf0",
   "metadata": {},
   "outputs": [
    {
     "data": {
      "application/vnd.microsoft.datawrangler.viewer.v0+json": {
       "columns": [
        {
         "name": "short_name",
         "rawType": "object",
         "type": "string"
        },
        {
         "name": "age",
         "rawType": "int64",
         "type": "integer"
        },
        {
         "name": "dob",
         "rawType": "object",
         "type": "string"
        },
        {
         "name": "height_cm",
         "rawType": "int64",
         "type": "integer"
        },
        {
         "name": "weight_kg",
         "rawType": "int64",
         "type": "integer"
        },
        {
         "name": "nationality",
         "rawType": "object",
         "type": "string"
        },
        {
         "name": "club",
         "rawType": "object",
         "type": "string"
        }
       ],
       "ref": "5763acb8-2bf2-46d1-8721-5cb9d3b5c160",
       "rows": [
        [
         "L. Messi",
         "32",
         "1987-06-24",
         "170",
         "72",
         "Argentina",
         "FC Barcelona"
        ],
        [
         "Cristiano Ronaldo",
         "34",
         "1985-02-05",
         "187",
         "83",
         "Portugal",
         "Juventus"
        ]
       ],
       "shape": {
        "columns": 6,
        "rows": 2
       }
      },
      "text/html": [
       "<div>\n",
       "<style scoped>\n",
       "    .dataframe tbody tr th:only-of-type {\n",
       "        vertical-align: middle;\n",
       "    }\n",
       "\n",
       "    .dataframe tbody tr th {\n",
       "        vertical-align: top;\n",
       "    }\n",
       "\n",
       "    .dataframe thead th {\n",
       "        text-align: right;\n",
       "    }\n",
       "</style>\n",
       "<table border=\"1\" class=\"dataframe\">\n",
       "  <thead>\n",
       "    <tr style=\"text-align: right;\">\n",
       "      <th></th>\n",
       "      <th>age</th>\n",
       "      <th>dob</th>\n",
       "      <th>height_cm</th>\n",
       "      <th>weight_kg</th>\n",
       "      <th>nationality</th>\n",
       "      <th>club</th>\n",
       "    </tr>\n",
       "    <tr>\n",
       "      <th>short_name</th>\n",
       "      <th></th>\n",
       "      <th></th>\n",
       "      <th></th>\n",
       "      <th></th>\n",
       "      <th></th>\n",
       "      <th></th>\n",
       "    </tr>\n",
       "  </thead>\n",
       "  <tbody>\n",
       "    <tr>\n",
       "      <th>L. Messi</th>\n",
       "      <td>32</td>\n",
       "      <td>1987-06-24</td>\n",
       "      <td>170</td>\n",
       "      <td>72</td>\n",
       "      <td>Argentina</td>\n",
       "      <td>FC Barcelona</td>\n",
       "    </tr>\n",
       "    <tr>\n",
       "      <th>Cristiano Ronaldo</th>\n",
       "      <td>34</td>\n",
       "      <td>1985-02-05</td>\n",
       "      <td>187</td>\n",
       "      <td>83</td>\n",
       "      <td>Portugal</td>\n",
       "      <td>Juventus</td>\n",
       "    </tr>\n",
       "  </tbody>\n",
       "</table>\n",
       "</div>"
      ],
      "text/plain": [
       "                   age         dob  height_cm  weight_kg nationality  \\\n",
       "short_name                                                             \n",
       "L. Messi            32  1987-06-24        170         72   Argentina   \n",
       "Cristiano Ronaldo   34  1985-02-05        187         83    Portugal   \n",
       "\n",
       "                           club  \n",
       "short_name                       \n",
       "L. Messi           FC Barcelona  \n",
       "Cristiano Ronaldo      Juventus  "
      ]
     },
     "execution_count": 18,
     "metadata": {},
     "output_type": "execute_result"
    }
   ],
   "source": [
    "# slice column labels age/club\n",
    "# players = ['L. Messi', 'Cristiano Ronaldo']\n",
    "players = [0,1]\n",
    "\n",
    "df.iloc[players, 1:7]"
   ]
  },
  {
   "cell_type": "code",
   "execution_count": 19,
   "id": "5c4c43e0",
   "metadata": {},
   "outputs": [
    {
     "data": {
      "application/vnd.microsoft.datawrangler.viewer.v0+json": {
       "columns": [
        {
         "name": "short_name",
         "rawType": "object",
         "type": "string"
        },
        {
         "name": "age",
         "rawType": "int64",
         "type": "integer"
        },
        {
         "name": "dob",
         "rawType": "object",
         "type": "string"
        },
        {
         "name": "height_cm",
         "rawType": "int64",
         "type": "integer"
        },
        {
         "name": "weight_kg",
         "rawType": "int64",
         "type": "integer"
        }
       ],
       "ref": "d80e7629-4b14-4d83-bb13-4c084ff6d6d0",
       "rows": [
        [
         "L. Messi",
         "32",
         "1987-06-24",
         "170",
         "72"
        ],
        [
         "Cristiano Ronaldo",
         "34",
         "1985-02-05",
         "187",
         "83"
        ],
        [
         "Neymar Jr",
         "27",
         "1992-02-05",
         "175",
         "68"
        ],
        [
         "J. Oblak",
         "26",
         "1993-01-07",
         "188",
         "87"
        ],
        [
         "E. Hazard",
         "28",
         "1991-01-07",
         "175",
         "74"
        ],
        [
         "K. De Bruyne",
         "28",
         "1991-06-28",
         "181",
         "70"
        ],
        [
         "M. ter Stegen",
         "27",
         "1992-04-30",
         "187",
         "85"
        ],
        [
         "V. van Dijk",
         "27",
         "1991-07-08",
         "193",
         "92"
        ],
        [
         "L. Modrić",
         "33",
         "1985-09-09",
         "172",
         "66"
        ],
        [
         "M. Salah",
         "27",
         "1992-06-15",
         "175",
         "71"
        ]
       ],
       "shape": {
        "columns": 4,
        "rows": 10
       }
      },
      "text/html": [
       "<div>\n",
       "<style scoped>\n",
       "    .dataframe tbody tr th:only-of-type {\n",
       "        vertical-align: middle;\n",
       "    }\n",
       "\n",
       "    .dataframe tbody tr th {\n",
       "        vertical-align: top;\n",
       "    }\n",
       "\n",
       "    .dataframe thead th {\n",
       "        text-align: right;\n",
       "    }\n",
       "</style>\n",
       "<table border=\"1\" class=\"dataframe\">\n",
       "  <thead>\n",
       "    <tr style=\"text-align: right;\">\n",
       "      <th></th>\n",
       "      <th>age</th>\n",
       "      <th>dob</th>\n",
       "      <th>height_cm</th>\n",
       "      <th>weight_kg</th>\n",
       "    </tr>\n",
       "    <tr>\n",
       "      <th>short_name</th>\n",
       "      <th></th>\n",
       "      <th></th>\n",
       "      <th></th>\n",
       "      <th></th>\n",
       "    </tr>\n",
       "  </thead>\n",
       "  <tbody>\n",
       "    <tr>\n",
       "      <th>L. Messi</th>\n",
       "      <td>32</td>\n",
       "      <td>1987-06-24</td>\n",
       "      <td>170</td>\n",
       "      <td>72</td>\n",
       "    </tr>\n",
       "    <tr>\n",
       "      <th>Cristiano Ronaldo</th>\n",
       "      <td>34</td>\n",
       "      <td>1985-02-05</td>\n",
       "      <td>187</td>\n",
       "      <td>83</td>\n",
       "    </tr>\n",
       "    <tr>\n",
       "      <th>Neymar Jr</th>\n",
       "      <td>27</td>\n",
       "      <td>1992-02-05</td>\n",
       "      <td>175</td>\n",
       "      <td>68</td>\n",
       "    </tr>\n",
       "    <tr>\n",
       "      <th>J. Oblak</th>\n",
       "      <td>26</td>\n",
       "      <td>1993-01-07</td>\n",
       "      <td>188</td>\n",
       "      <td>87</td>\n",
       "    </tr>\n",
       "    <tr>\n",
       "      <th>E. Hazard</th>\n",
       "      <td>28</td>\n",
       "      <td>1991-01-07</td>\n",
       "      <td>175</td>\n",
       "      <td>74</td>\n",
       "    </tr>\n",
       "    <tr>\n",
       "      <th>K. De Bruyne</th>\n",
       "      <td>28</td>\n",
       "      <td>1991-06-28</td>\n",
       "      <td>181</td>\n",
       "      <td>70</td>\n",
       "    </tr>\n",
       "    <tr>\n",
       "      <th>M. ter Stegen</th>\n",
       "      <td>27</td>\n",
       "      <td>1992-04-30</td>\n",
       "      <td>187</td>\n",
       "      <td>85</td>\n",
       "    </tr>\n",
       "    <tr>\n",
       "      <th>V. van Dijk</th>\n",
       "      <td>27</td>\n",
       "      <td>1991-07-08</td>\n",
       "      <td>193</td>\n",
       "      <td>92</td>\n",
       "    </tr>\n",
       "    <tr>\n",
       "      <th>L. Modrić</th>\n",
       "      <td>33</td>\n",
       "      <td>1985-09-09</td>\n",
       "      <td>172</td>\n",
       "      <td>66</td>\n",
       "    </tr>\n",
       "    <tr>\n",
       "      <th>M. Salah</th>\n",
       "      <td>27</td>\n",
       "      <td>1992-06-15</td>\n",
       "      <td>175</td>\n",
       "      <td>71</td>\n",
       "    </tr>\n",
       "  </tbody>\n",
       "</table>\n",
       "</div>"
      ],
      "text/plain": [
       "                   age         dob  height_cm  weight_kg\n",
       "short_name                                              \n",
       "L. Messi            32  1987-06-24        170         72\n",
       "Cristiano Ronaldo   34  1985-02-05        187         83\n",
       "Neymar Jr           27  1992-02-05        175         68\n",
       "J. Oblak            26  1993-01-07        188         87\n",
       "E. Hazard           28  1991-01-07        175         74\n",
       "K. De Bruyne        28  1991-06-28        181         70\n",
       "M. ter Stegen       27  1992-04-30        187         85\n",
       "V. van Dijk         27  1991-07-08        193         92\n",
       "L. Modrić           33  1985-09-09        172         66\n",
       "M. Salah            27  1992-06-15        175         71"
      ]
     },
     "execution_count": 19,
     "metadata": {},
     "output_type": "execute_result"
    }
   ],
   "source": [
    "# slice index labels (top1 to top10 player)\n",
    "# columns = ['age', 'dob', 'height_cm', 'weight_kg']\n",
    "columns = [1,2,3,4]\n",
    "\n",
    "# get top1 and top10 player name\n",
    "df.iloc[0:10, columns]"
   ]
  },
  {
   "cell_type": "markdown",
   "id": "a96f052e",
   "metadata": {},
   "source": [
    "# Selecting with conditions"
   ]
  },
  {
   "cell_type": "markdown",
   "id": "021ce028",
   "metadata": {},
   "source": [
    "iloc cannot accept a boolean Series, but only a boolean list. We have to use the list() function to convert a Series into a boolean list."
   ]
  },
  {
   "cell_type": "code",
   "execution_count": 20,
   "id": "31273b8a",
   "metadata": {},
   "outputs": [
    {
     "data": {
      "application/vnd.microsoft.datawrangler.viewer.v0+json": {
       "columns": [
        {
         "name": "short_name",
         "rawType": "object",
         "type": "string"
        },
        {
         "name": "age",
         "rawType": "int64",
         "type": "integer"
        },
        {
         "name": "dob",
         "rawType": "object",
         "type": "string"
        },
        {
         "name": "height_cm",
         "rawType": "int64",
         "type": "integer"
        },
        {
         "name": "weight_kg",
         "rawType": "int64",
         "type": "integer"
        }
       ],
       "ref": "84cfdfcc-e09e-4ec7-9cb2-d582d65d465f",
       "rows": [
        [
         "Cristiano Ronaldo",
         "34",
         "1985-02-05",
         "187",
         "83"
        ],
        [
         "J. Oblak",
         "26",
         "1993-01-07",
         "188",
         "87"
        ],
        [
         "K. De Bruyne",
         "28",
         "1991-06-28",
         "181",
         "70"
        ],
        [
         "M. ter Stegen",
         "27",
         "1992-04-30",
         "187",
         "85"
        ],
        [
         "V. van Dijk",
         "27",
         "1991-07-08",
         "193",
         "92"
        ],
        [
         "K. Koulibaly",
         "28",
         "1991-06-20",
         "187",
         "89"
        ],
        [
         "H. Kane",
         "25",
         "1993-07-28",
         "188",
         "89"
        ],
        [
         "Alisson",
         "26",
         "1992-10-02",
         "191",
         "91"
        ],
        [
         "De Gea",
         "28",
         "1990-11-07",
         "192",
         "82"
        ],
        [
         "G. Chiellini",
         "34",
         "1984-08-14",
         "187",
         "85"
        ],
        [
         "Sergio Ramos",
         "33",
         "1986-03-30",
         "184",
         "82"
        ],
        [
         "L. Suárez",
         "32",
         "1987-01-24",
         "182",
         "86"
        ],
        [
         "R. Lewandowski",
         "30",
         "1988-08-21",
         "184",
         "80"
        ],
        [
         "Sergio Busquets",
         "30",
         "1988-07-16",
         "189",
         "76"
        ],
        [
         "P. Pogba",
         "26",
         "1993-03-15",
         "191",
         "84"
        ],
        [
         "Ederson",
         "25",
         "1993-08-17",
         "188",
         "86"
        ],
        [
         "C. Eriksen",
         "27",
         "1992-02-14",
         "181",
         "76"
        ],
        [
         "T. Courtois",
         "27",
         "1992-05-11",
         "199",
         "96"
        ],
        [
         "Piqué",
         "32",
         "1987-02-02",
         "194",
         "85"
        ],
        [
         "S. Handanovič",
         "34",
         "1984-07-14",
         "193",
         "92"
        ],
        [
         "M. Neuer",
         "33",
         "1986-03-27",
         "193",
         "92"
        ],
        [
         "H. Lloris",
         "32",
         "1986-12-26",
         "188",
         "82"
        ],
        [
         "E. Cavani",
         "32",
         "1987-02-14",
         "185",
         "77"
        ],
        [
         "D. Godín",
         "33",
         "1986-02-16",
         "187",
         "78"
        ],
        [
         "T. Kroos",
         "29",
         "1990-01-04",
         "183",
         "76"
        ],
        [
         "P. Aubameyang",
         "30",
         "1989-06-18",
         "187",
         "80"
        ],
        [
         "A. Laporte",
         "25",
         "1994-05-27",
         "189",
         "85"
        ],
        [
         "Casemiro",
         "27",
         "1992-02-23",
         "185",
         "84"
        ],
        [
         "H. Son",
         "26",
         "1992-07-08",
         "183",
         "78"
        ],
        [
         "Thiago Silva",
         "34",
         "1984-09-22",
         "183",
         "82"
        ],
        [
         "K. Benzema",
         "31",
         "1987-12-19",
         "185",
         "81"
        ],
        [
         "J. Vertonghen",
         "32",
         "1987-04-24",
         "189",
         "86"
        ],
        [
         "M. Hummels",
         "30",
         "1988-12-16",
         "191",
         "94"
        ],
        [
         "T. Alderweireld",
         "30",
         "1989-03-02",
         "186",
         "81"
        ],
        [
         "K. Navas",
         "32",
         "1986-12-15",
         "185",
         "80"
        ],
        [
         "L. Sané",
         "23",
         "1996-01-11",
         "183",
         "75"
        ],
        [
         "Marquinhos",
         "25",
         "1994-05-14",
         "183",
         "75"
        ],
        [
         "M. Škriniar",
         "24",
         "1995-02-11",
         "187",
         "80"
        ],
        [
         "S. Umtiti",
         "25",
         "1993-11-14",
         "182",
         "75"
        ],
        [
         "W. Szczęsny",
         "29",
         "1990-04-18",
         "195",
         "90"
        ],
        [
         "Roberto Firmino",
         "27",
         "1991-10-02",
         "181",
         "76"
        ],
        [
         "I. Rakitić",
         "31",
         "1988-03-10",
         "184",
         "78"
        ],
        [
         "L. Bonucci",
         "32",
         "1987-05-01",
         "190",
         "85"
        ],
        [
         "Parejo",
         "30",
         "1989-04-16",
         "182",
         "74"
        ],
        [
         "T. Müller",
         "29",
         "1989-09-13",
         "186",
         "75"
        ],
        [
         "C. Immobile",
         "29",
         "1990-02-20",
         "185",
         "85"
        ],
        [
         "M. de Ligt",
         "19",
         "1999-08-12",
         "189",
         "89"
        ],
        [
         "G. Donnarumma",
         "20",
         "1999-02-25",
         "196",
         "90"
        ],
        [
         "R. Varane",
         "26",
         "1993-04-25",
         "191",
         "81"
        ],
        [
         "N. Süle",
         "23",
         "1995-09-03",
         "195",
         "97"
        ]
       ],
       "shape": {
        "columns": 4,
        "rows": 9744
       }
      },
      "text/html": [
       "<div>\n",
       "<style scoped>\n",
       "    .dataframe tbody tr th:only-of-type {\n",
       "        vertical-align: middle;\n",
       "    }\n",
       "\n",
       "    .dataframe tbody tr th {\n",
       "        vertical-align: top;\n",
       "    }\n",
       "\n",
       "    .dataframe thead th {\n",
       "        text-align: right;\n",
       "    }\n",
       "</style>\n",
       "<table border=\"1\" class=\"dataframe\">\n",
       "  <thead>\n",
       "    <tr style=\"text-align: right;\">\n",
       "      <th></th>\n",
       "      <th>age</th>\n",
       "      <th>dob</th>\n",
       "      <th>height_cm</th>\n",
       "      <th>weight_kg</th>\n",
       "    </tr>\n",
       "    <tr>\n",
       "      <th>short_name</th>\n",
       "      <th></th>\n",
       "      <th></th>\n",
       "      <th></th>\n",
       "      <th></th>\n",
       "    </tr>\n",
       "  </thead>\n",
       "  <tbody>\n",
       "    <tr>\n",
       "      <th>Cristiano Ronaldo</th>\n",
       "      <td>34</td>\n",
       "      <td>1985-02-05</td>\n",
       "      <td>187</td>\n",
       "      <td>83</td>\n",
       "    </tr>\n",
       "    <tr>\n",
       "      <th>J. Oblak</th>\n",
       "      <td>26</td>\n",
       "      <td>1993-01-07</td>\n",
       "      <td>188</td>\n",
       "      <td>87</td>\n",
       "    </tr>\n",
       "    <tr>\n",
       "      <th>K. De Bruyne</th>\n",
       "      <td>28</td>\n",
       "      <td>1991-06-28</td>\n",
       "      <td>181</td>\n",
       "      <td>70</td>\n",
       "    </tr>\n",
       "    <tr>\n",
       "      <th>M. ter Stegen</th>\n",
       "      <td>27</td>\n",
       "      <td>1992-04-30</td>\n",
       "      <td>187</td>\n",
       "      <td>85</td>\n",
       "    </tr>\n",
       "    <tr>\n",
       "      <th>V. van Dijk</th>\n",
       "      <td>27</td>\n",
       "      <td>1991-07-08</td>\n",
       "      <td>193</td>\n",
       "      <td>92</td>\n",
       "    </tr>\n",
       "    <tr>\n",
       "      <th>...</th>\n",
       "      <td>...</td>\n",
       "      <td>...</td>\n",
       "      <td>...</td>\n",
       "      <td>...</td>\n",
       "    </tr>\n",
       "    <tr>\n",
       "      <th>P. Martin</th>\n",
       "      <td>20</td>\n",
       "      <td>1999-01-05</td>\n",
       "      <td>188</td>\n",
       "      <td>84</td>\n",
       "    </tr>\n",
       "    <tr>\n",
       "      <th>Shao Shuai</th>\n",
       "      <td>22</td>\n",
       "      <td>1997-03-10</td>\n",
       "      <td>186</td>\n",
       "      <td>79</td>\n",
       "    </tr>\n",
       "    <tr>\n",
       "      <th>Zhang Wei</th>\n",
       "      <td>19</td>\n",
       "      <td>2000-05-16</td>\n",
       "      <td>186</td>\n",
       "      <td>75</td>\n",
       "    </tr>\n",
       "    <tr>\n",
       "      <th>Wang Haijian</th>\n",
       "      <td>18</td>\n",
       "      <td>2000-08-02</td>\n",
       "      <td>185</td>\n",
       "      <td>74</td>\n",
       "    </tr>\n",
       "    <tr>\n",
       "      <th>Pan Ximing</th>\n",
       "      <td>26</td>\n",
       "      <td>1993-01-11</td>\n",
       "      <td>182</td>\n",
       "      <td>78</td>\n",
       "    </tr>\n",
       "  </tbody>\n",
       "</table>\n",
       "<p>9744 rows × 4 columns</p>\n",
       "</div>"
      ],
      "text/plain": [
       "                   age         dob  height_cm  weight_kg\n",
       "short_name                                              \n",
       "Cristiano Ronaldo   34  1985-02-05        187         83\n",
       "J. Oblak            26  1993-01-07        188         87\n",
       "K. De Bruyne        28  1991-06-28        181         70\n",
       "M. ter Stegen       27  1992-04-30        187         85\n",
       "V. van Dijk         27  1991-07-08        193         92\n",
       "...                ...         ...        ...        ...\n",
       "P. Martin           20  1999-01-05        188         84\n",
       "Shao Shuai          22  1997-03-10        186         79\n",
       "Zhang Wei           19  2000-05-16        186         75\n",
       "Wang Haijian        18  2000-08-02        185         74\n",
       "Pan Ximing          26  1993-01-11        182         78\n",
       "\n",
       "[9744 rows x 4 columns]"
      ]
     },
     "execution_count": 20,
     "metadata": {},
     "output_type": "execute_result"
    }
   ],
   "source": [
    "# one condition: select player with height above 180cm\n",
    "# columns = ['age', 'dob', 'height_cm', 'weight_kg']\n",
    "columns = [1,2,3,4]\n",
    "\n",
    "df.iloc[list(df['height_cm']>180), columns]"
   ]
  },
  {
   "cell_type": "code",
   "execution_count": 24,
   "id": "f2d3232f",
   "metadata": {},
   "outputs": [
    {
     "data": {
      "application/vnd.microsoft.datawrangler.viewer.v0+json": {
       "columns": [
        {
         "name": "short_name",
         "rawType": "object",
         "type": "string"
        },
        {
         "name": "long_name",
         "rawType": "object",
         "type": "string"
        },
        {
         "name": "age",
         "rawType": "int64",
         "type": "integer"
        },
        {
         "name": "dob",
         "rawType": "object",
         "type": "string"
        },
        {
         "name": "height_cm",
         "rawType": "int64",
         "type": "integer"
        },
        {
         "name": "weight_kg",
         "rawType": "int64",
         "type": "integer"
        },
        {
         "name": "nationality",
         "rawType": "object",
         "type": "string"
        },
        {
         "name": "club",
         "rawType": "object",
         "type": "string"
        }
       ],
       "ref": "9eafa456-f5be-4e51-9c33-1d296c26103d",
       "rows": [
        [
         "M. Icardi",
         "Mauro Emanuel Icardi Rivero",
         "26",
         "1993-02-19",
         "181",
         "75",
         "Argentina",
         "Inter"
        ],
        [
         "G. Higuaín",
         "Gonzalo Gerardo Higuaín",
         "31",
         "1987-12-10",
         "186",
         "89",
         "Argentina",
         "Juventus"
        ],
        [
         "E. Garay",
         "Ezequiel Marcelo Garay",
         "32",
         "1986-10-10",
         "189",
         "90",
         "Argentina",
         "Valencia CF"
        ],
        [
         "N. Otamendi",
         "Nicolás Hernán Otamendi",
         "31",
         "1988-02-12",
         "183",
         "81",
         "Argentina",
         "Manchester City"
        ],
        [
         "G. Rulli",
         "Gerónimo Rulli",
         "27",
         "1992-05-20",
         "189",
         "84",
         "Argentina",
         "Montpellier HSC"
        ],
        [
         "F. Vázquez",
         "Franco Vázquez",
         "30",
         "1989-02-22",
         "186",
         "82",
         "Argentina",
         "Sevilla FC"
        ],
        [
         "J. Correa",
         "Joaquín Correa",
         "24",
         "1994-08-13",
         "188",
         "77",
         "Argentina",
         "Lazio"
        ],
        [
         "E. Andrada",
         "Esteban Andrada",
         "28",
         "1991-01-26",
         "194",
         "81",
         "Argentina",
         "Boca Juniors"
        ],
        [
         "W. Benítez",
         "Walter Benítez",
         "26",
         "1993-01-19",
         "191",
         "91",
         "Argentina",
         "OGC Nice"
        ],
        [
         "E. Lamela",
         "Erik Lamela",
         "27",
         "1992-03-04",
         "184",
         "80",
         "Argentina",
         "Tottenham Hotspur"
        ],
        [
         "S. Romero",
         "Sergio Germán Romero",
         "32",
         "1987-02-22",
         "192",
         "86",
         "Argentina",
         "Manchester United"
        ],
        [
         "F. Fazio",
         "Federico Julián Fazio",
         "32",
         "1987-03-17",
         "195",
         "85",
         "Argentina",
         "Roma"
        ],
        [
         "L. Pratto",
         "Lucas David Pratto",
         "31",
         "1988-06-04",
         "187",
         "91",
         "Argentina",
         "River Plate"
        ],
        [
         "R. Pereyra",
         "Roberto Pereyra",
         "28",
         "1991-01-07",
         "182",
         "77",
         "Argentina",
         "Watford"
        ],
        [
         "F. Armani",
         "Franco Armani",
         "32",
         "1986-10-16",
         "189",
         "88",
         "Argentina",
         "River Plate"
        ],
        [
         "I. Marcone",
         "Iván Marcone",
         "29",
         "1990-06-03",
         "183",
         "83",
         "Argentina",
         "Boca Juniors"
        ],
        [
         "L. Alario",
         "Lucas Alario",
         "26",
         "1992-10-08",
         "184",
         "78",
         "Argentina",
         "Bayer 04 Leverkusen"
        ],
        [
         "G. Pezzella",
         "Germán Alejandro Pezzella",
         "28",
         "1991-06-27",
         "186",
         "81",
         "Argentina",
         "Fiorentina"
        ],
        [
         "N. Guzmán",
         "Nahuel Ignacio Guzmán",
         "33",
         "1986-02-10",
         "193",
         "94",
         "Argentina",
         "Tigres U.A.N.L."
        ],
        [
         "J. Pastore",
         "Javier Matías Pastore",
         "30",
         "1989-06-20",
         "187",
         "78",
         "Argentina",
         "Roma"
        ],
        [
         "L. Sigali",
         "Leonardo Sigali",
         "32",
         "1987-05-29",
         "181",
         "72",
         "Argentina",
         "Racing Club"
        ],
        [
         "J. Musso",
         "Juan Musso",
         "25",
         "1994-05-06",
         "191",
         "93",
         "Argentina",
         "Udinese"
        ],
        [
         "D. Abraham",
         "David Ángel Abraham",
         "32",
         "1986-07-15",
         "188",
         "83",
         "Argentina",
         "Eintracht Frankfurt"
        ],
        [
         "C. Ansaldi",
         "Cristian Daniel Ansaldi",
         "32",
         "1986-09-20",
         "181",
         "76",
         "Argentina",
         "Torino"
        ],
        [
         "A. Marchesín",
         "Agustín Marchesín",
         "31",
         "1988-03-16",
         "188",
         "85",
         "Argentina",
         "FC Porto"
        ],
        [
         "M. Rojo",
         "Faustino Marcos Alberto Rojo",
         "29",
         "1990-03-20",
         "187",
         "85",
         "Argentina",
         "Manchester United"
        ],
        [
         "G. Pizarro",
         "Guido Pizarro",
         "29",
         "1990-02-26",
         "185",
         "74",
         "Argentina",
         "Tigres U.A.N.L."
        ],
        [
         "C. Izquierdoz",
         "Carlos Roberto Izquierdoz",
         "30",
         "1988-11-03",
         "185",
         "89",
         "Argentina",
         "Boca Juniors"
        ],
        [
         "A. Donatti",
         "Alejandro Donatti",
         "32",
         "1986-10-24",
         "192",
         "86",
         "Argentina",
         "Racing Club"
        ],
        [
         "I. Fernández",
         "Ignacio Fernández",
         "29",
         "1990-01-12",
         "182",
         "67",
         "Argentina",
         "River Plate"
        ],
        [
         "N. Domínguez",
         "Nery Domínguez",
         "29",
         "1990-04-09",
         "184",
         "81",
         "Argentina",
         "Racing Club"
        ],
        [
         "R. Battaglia",
         "Rodrigo Andrés Battaglia",
         "27",
         "1991-07-12",
         "187",
         "79",
         "Argentina",
         "Sporting CP"
        ],
        [
         "G. Escalante",
         "Gonzalo Escalante",
         "26",
         "1993-03-27",
         "182",
         "76",
         "Argentina",
         "SD Eibar"
        ],
        [
         "L. Ocampos",
         "Lucas Ocampos",
         "24",
         "1994-07-11",
         "187",
         "84",
         "Argentina",
         "Sevilla FC"
        ],
        [
         "G. Rodríguez",
         "Guido Rodríguez",
         "24",
         "1995-04-11",
         "185",
         "80",
         "Argentina",
         "Club América"
        ],
        [
         "R. Funes Mori",
         "José Ramiro Funes Mori",
         "28",
         "1991-03-05",
         "186",
         "79",
         "Argentina",
         "Villarreal CF"
        ],
        [
         "R. Civelli",
         "Renato Civelli",
         "35",
         "1983-10-14",
         "195",
         "89",
         "Argentina",
         "Club Atlético Banfield"
        ],
        [
         "M. Suárez",
         "Matías Ezequiel Suárez",
         "31",
         "1988-05-09",
         "183",
         "75",
         "Argentina",
         "River Plate"
        ],
        [
         "R. Funes Mori",
         "Rogelio Gabriel Funes Mori",
         "28",
         "1991-03-05",
         "184",
         "81",
         "Argentina",
         "Monterrey"
        ],
        [
         "L. Castro",
         "Lucas Castro",
         "30",
         "1989-04-09",
         "182",
         "78",
         "Argentina",
         "Cagliari"
        ],
        [
         "F. Ferreyra",
         "Facundo Ferreyra",
         "28",
         "1991-03-14",
         "186",
         "76",
         "Argentina",
         "RCD Espanyol"
        ],
        [
         "L. López",
         "Lisandro López",
         "29",
         "1989-09-01",
         "190",
         "82",
         "Argentina",
         "Boca Juniors"
        ],
        [
         "J. Palomino",
         "José Luis Palomino",
         "29",
         "1990-01-05",
         "188",
         "87",
         "Argentina",
         "Atalanta"
        ],
        [
         "A. Franco",
         "Alan Javier Franco",
         "22",
         "1996-10-11",
         "183",
         "77",
         "Argentina",
         "Independiente"
        ],
        [
         "A. Barboza",
         "Alexander Nahuel Barboza Ullúa",
         "24",
         "1995-03-16",
         "192",
         "88",
         "Argentina",
         "Independiente"
        ],
        [
         "A. Aguerre",
         "Alan Aguerre",
         "28",
         "1990-08-23",
         "181",
         "80",
         "Argentina",
         "Newell's Old Boys"
        ],
        [
         "G. Herrera",
         "Guido Herrera",
         "27",
         "1992-02-29",
         "188",
         "84",
         "Argentina",
         "Club Atlético Talleres"
        ],
        [
         "L. Chichizola",
         "Leandro Chichizola",
         "29",
         "1990-03-27",
         "185",
         "80",
         "Argentina",
         "Getafe CF"
        ],
        [
         "J. Sand",
         "José Gustavo Sand",
         "38",
         "1980-07-17",
         "185",
         "82",
         "Argentina",
         "Club Atlético Lanús"
        ],
        [
         "J. Maidana",
         "Jonathan Ramón Maidana",
         "33",
         "1985-07-29",
         "185",
         "80",
         "Argentina",
         "Deportivo Toluca"
        ]
       ],
       "shape": {
        "columns": 7,
        "rows": 350
       }
      },
      "text/html": [
       "<div>\n",
       "<style scoped>\n",
       "    .dataframe tbody tr th:only-of-type {\n",
       "        vertical-align: middle;\n",
       "    }\n",
       "\n",
       "    .dataframe tbody tr th {\n",
       "        vertical-align: top;\n",
       "    }\n",
       "\n",
       "    .dataframe thead th {\n",
       "        text-align: right;\n",
       "    }\n",
       "</style>\n",
       "<table border=\"1\" class=\"dataframe\">\n",
       "  <thead>\n",
       "    <tr style=\"text-align: right;\">\n",
       "      <th></th>\n",
       "      <th>long_name</th>\n",
       "      <th>age</th>\n",
       "      <th>dob</th>\n",
       "      <th>height_cm</th>\n",
       "      <th>weight_kg</th>\n",
       "      <th>nationality</th>\n",
       "      <th>club</th>\n",
       "    </tr>\n",
       "    <tr>\n",
       "      <th>short_name</th>\n",
       "      <th></th>\n",
       "      <th></th>\n",
       "      <th></th>\n",
       "      <th></th>\n",
       "      <th></th>\n",
       "      <th></th>\n",
       "      <th></th>\n",
       "    </tr>\n",
       "  </thead>\n",
       "  <tbody>\n",
       "    <tr>\n",
       "      <th>M. Icardi</th>\n",
       "      <td>Mauro Emanuel Icardi Rivero</td>\n",
       "      <td>26</td>\n",
       "      <td>1993-02-19</td>\n",
       "      <td>181</td>\n",
       "      <td>75</td>\n",
       "      <td>Argentina</td>\n",
       "      <td>Inter</td>\n",
       "    </tr>\n",
       "    <tr>\n",
       "      <th>G. Higuaín</th>\n",
       "      <td>Gonzalo Gerardo Higuaín</td>\n",
       "      <td>31</td>\n",
       "      <td>1987-12-10</td>\n",
       "      <td>186</td>\n",
       "      <td>89</td>\n",
       "      <td>Argentina</td>\n",
       "      <td>Juventus</td>\n",
       "    </tr>\n",
       "    <tr>\n",
       "      <th>E. Garay</th>\n",
       "      <td>Ezequiel Marcelo Garay</td>\n",
       "      <td>32</td>\n",
       "      <td>1986-10-10</td>\n",
       "      <td>189</td>\n",
       "      <td>90</td>\n",
       "      <td>Argentina</td>\n",
       "      <td>Valencia CF</td>\n",
       "    </tr>\n",
       "    <tr>\n",
       "      <th>N. Otamendi</th>\n",
       "      <td>Nicolás Hernán Otamendi</td>\n",
       "      <td>31</td>\n",
       "      <td>1988-02-12</td>\n",
       "      <td>183</td>\n",
       "      <td>81</td>\n",
       "      <td>Argentina</td>\n",
       "      <td>Manchester City</td>\n",
       "    </tr>\n",
       "    <tr>\n",
       "      <th>G. Rulli</th>\n",
       "      <td>Gerónimo Rulli</td>\n",
       "      <td>27</td>\n",
       "      <td>1992-05-20</td>\n",
       "      <td>189</td>\n",
       "      <td>84</td>\n",
       "      <td>Argentina</td>\n",
       "      <td>Montpellier HSC</td>\n",
       "    </tr>\n",
       "    <tr>\n",
       "      <th>...</th>\n",
       "      <td>...</td>\n",
       "      <td>...</td>\n",
       "      <td>...</td>\n",
       "      <td>...</td>\n",
       "      <td>...</td>\n",
       "      <td>...</td>\n",
       "      <td>...</td>\n",
       "    </tr>\n",
       "    <tr>\n",
       "      <th>T. Durso</th>\n",
       "      <td>Tomás Durso</td>\n",
       "      <td>20</td>\n",
       "      <td>1999-02-26</td>\n",
       "      <td>185</td>\n",
       "      <td>80</td>\n",
       "      <td>Argentina</td>\n",
       "      <td>Gimnasia y Esgrima La Plata</td>\n",
       "    </tr>\n",
       "    <tr>\n",
       "      <th>J. Hass</th>\n",
       "      <td>Joaquín Hass</td>\n",
       "      <td>21</td>\n",
       "      <td>1998-03-27</td>\n",
       "      <td>186</td>\n",
       "      <td>88</td>\n",
       "      <td>Argentina</td>\n",
       "      <td>Club Atlético Colón</td>\n",
       "    </tr>\n",
       "    <tr>\n",
       "      <th>R. Ferrario</th>\n",
       "      <td>Rafael Ferrario</td>\n",
       "      <td>19</td>\n",
       "      <td>2000-04-30</td>\n",
       "      <td>186</td>\n",
       "      <td>76</td>\n",
       "      <td>Argentina</td>\n",
       "      <td>Club Atlético Huracán</td>\n",
       "    </tr>\n",
       "    <tr>\n",
       "      <th>L. Finochietto</th>\n",
       "      <td>Leandro Finochietto</td>\n",
       "      <td>22</td>\n",
       "      <td>1997-04-25</td>\n",
       "      <td>186</td>\n",
       "      <td>77</td>\n",
       "      <td>Argentina</td>\n",
       "      <td>Argentinos Juniors</td>\n",
       "    </tr>\n",
       "    <tr>\n",
       "      <th>N. Forastiero</th>\n",
       "      <td>Nicolás Forastiero</td>\n",
       "      <td>20</td>\n",
       "      <td>1998-07-16</td>\n",
       "      <td>182</td>\n",
       "      <td>79</td>\n",
       "      <td>Argentina</td>\n",
       "      <td>Argentinos Juniors</td>\n",
       "    </tr>\n",
       "  </tbody>\n",
       "</table>\n",
       "<p>350 rows × 7 columns</p>\n",
       "</div>"
      ],
      "text/plain": [
       "                                  long_name  age         dob  height_cm  \\\n",
       "short_name                                                                \n",
       "M. Icardi       Mauro Emanuel Icardi Rivero   26  1993-02-19        181   \n",
       "G. Higuaín          Gonzalo Gerardo Higuaín   31  1987-12-10        186   \n",
       "E. Garay             Ezequiel Marcelo Garay   32  1986-10-10        189   \n",
       "N. Otamendi         Nicolás Hernán Otamendi   31  1988-02-12        183   \n",
       "G. Rulli                     Gerónimo Rulli   27  1992-05-20        189   \n",
       "...                                     ...  ...         ...        ...   \n",
       "T. Durso                        Tomás Durso   20  1999-02-26        185   \n",
       "J. Hass                        Joaquín Hass   21  1998-03-27        186   \n",
       "R. Ferrario                 Rafael Ferrario   19  2000-04-30        186   \n",
       "L. Finochietto          Leandro Finochietto   22  1997-04-25        186   \n",
       "N. Forastiero            Nicolás Forastiero   20  1998-07-16        182   \n",
       "\n",
       "                weight_kg nationality                         club  \n",
       "short_name                                                          \n",
       "M. Icardi              75   Argentina                        Inter  \n",
       "G. Higuaín             89   Argentina                     Juventus  \n",
       "E. Garay               90   Argentina                  Valencia CF  \n",
       "N. Otamendi            81   Argentina              Manchester City  \n",
       "G. Rulli               84   Argentina              Montpellier HSC  \n",
       "...                   ...         ...                          ...  \n",
       "T. Durso               80   Argentina  Gimnasia y Esgrima La Plata  \n",
       "J. Hass                88   Argentina          Club Atlético Colón  \n",
       "R. Ferrario            76   Argentina        Club Atlético Huracán  \n",
       "L. Finochietto         77   Argentina           Argentinos Juniors  \n",
       "N. Forastiero          79   Argentina           Argentinos Juniors  \n",
       "\n",
       "[350 rows x 7 columns]"
      ]
     },
     "execution_count": 24,
     "metadata": {},
     "output_type": "execute_result"
    }
   ],
   "source": [
    "# multiple conditions: select player with height above 180cm from Argentina\n",
    "\n",
    "df.iloc[list((df['height_cm'] > 180) & (df['nationality'] == 'Argentina')), :]"
   ]
  }
 ],
 "metadata": {
  "kernelspec": {
   "display_name": ".venv",
   "language": "python",
   "name": "python3"
  },
  "language_info": {
   "codemirror_mode": {
    "name": "ipython",
    "version": 3
   },
   "file_extension": ".py",
   "mimetype": "text/x-python",
   "name": "python",
   "nbconvert_exporter": "python",
   "pygments_lexer": "ipython3",
   "version": "3.10.8"
  },
  "toc": {
   "base_numbering": 1,
   "nav_menu": {},
   "number_sections": true,
   "sideBar": true,
   "skip_h1_title": false,
   "title_cell": "Table of Contents",
   "title_sidebar": "Contents",
   "toc_cell": false,
   "toc_position": {},
   "toc_section_display": true,
   "toc_window_display": false
  }
 },
 "nbformat": 4,
 "nbformat_minor": 5
}
