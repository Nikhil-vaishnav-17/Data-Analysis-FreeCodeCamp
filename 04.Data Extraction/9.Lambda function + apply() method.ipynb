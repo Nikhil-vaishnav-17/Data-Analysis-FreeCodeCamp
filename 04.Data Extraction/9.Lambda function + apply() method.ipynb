{
 "cells": [
  {
   "cell_type": "code",
   "execution_count": 1,
   "id": "6f179e1f",
   "metadata": {},
   "outputs": [],
   "source": [
    "import pandas as pd"
   ]
  },
  {
   "cell_type": "code",
   "execution_count": 2,
   "id": "ad07a021",
   "metadata": {},
   "outputs": [],
   "source": [
    "# reads csv file\n",
    "df = pd.read_csv('players_20.csv')\n",
    "# set index\n",
    "df.set_index('short_name', inplace=True)\n",
    "# select column\n",
    "df = df[['long_name', 'age', 'dob', 'height_cm', 'weight_kg', 'nationality', 'club']]"
   ]
  },
  {
   "cell_type": "code",
   "execution_count": 3,
   "id": "733e2174",
   "metadata": {},
   "outputs": [
    {
     "data": {
      "application/vnd.microsoft.datawrangler.viewer.v0+json": {
       "columns": [
        {
         "name": "short_name",
         "rawType": "object",
         "type": "string"
        },
        {
         "name": "long_name",
         "rawType": "object",
         "type": "string"
        },
        {
         "name": "age",
         "rawType": "int64",
         "type": "integer"
        },
        {
         "name": "dob",
         "rawType": "object",
         "type": "string"
        },
        {
         "name": "height_cm",
         "rawType": "int64",
         "type": "integer"
        },
        {
         "name": "weight_kg",
         "rawType": "int64",
         "type": "integer"
        },
        {
         "name": "nationality",
         "rawType": "object",
         "type": "string"
        },
        {
         "name": "club",
         "rawType": "object",
         "type": "string"
        }
       ],
       "ref": "f371f89b-5653-4fe2-bd42-628bd8f00608",
       "rows": [
        [
         "L. Messi",
         "Lionel Andrés Messi Cuccittini",
         "32",
         "1987-06-24",
         "170",
         "72",
         "Argentina",
         "FC Barcelona"
        ],
        [
         "Cristiano Ronaldo",
         "Cristiano Ronaldo dos Santos Aveiro",
         "34",
         "1985-02-05",
         "187",
         "83",
         "Portugal",
         "Juventus"
        ],
        [
         "Neymar Jr",
         "Neymar da Silva Santos Junior",
         "27",
         "1992-02-05",
         "175",
         "68",
         "Brazil",
         "Paris Saint-Germain"
        ],
        [
         "J. Oblak",
         "Jan Oblak",
         "26",
         "1993-01-07",
         "188",
         "87",
         "Slovenia",
         "Atlético Madrid"
        ],
        [
         "E. Hazard",
         "Eden Hazard",
         "28",
         "1991-01-07",
         "175",
         "74",
         "Belgium",
         "Real Madrid"
        ],
        [
         "K. De Bruyne",
         "Kevin De Bruyne",
         "28",
         "1991-06-28",
         "181",
         "70",
         "Belgium",
         "Manchester City"
        ],
        [
         "M. ter Stegen",
         "Marc-André ter Stegen",
         "27",
         "1992-04-30",
         "187",
         "85",
         "Germany",
         "FC Barcelona"
        ],
        [
         "V. van Dijk",
         "Virgil van Dijk",
         "27",
         "1991-07-08",
         "193",
         "92",
         "Netherlands",
         "Liverpool"
        ],
        [
         "L. Modrić",
         "Luka Modrić",
         "33",
         "1985-09-09",
         "172",
         "66",
         "Croatia",
         "Real Madrid"
        ],
        [
         "M. Salah",
         "Mohamed  Salah Ghaly",
         "27",
         "1992-06-15",
         "175",
         "71",
         "Egypt",
         "Liverpool"
        ],
        [
         "K. Mbappé",
         "Kylian Mbappé",
         "20",
         "1998-12-20",
         "178",
         "73",
         "France",
         "Paris Saint-Germain"
        ],
        [
         "K. Koulibaly",
         "Kalidou Koulibaly",
         "28",
         "1991-06-20",
         "187",
         "89",
         "Senegal",
         "Napoli"
        ],
        [
         "H. Kane",
         "Harry Kane",
         "25",
         "1993-07-28",
         "188",
         "89",
         "England",
         "Tottenham Hotspur"
        ],
        [
         "Alisson",
         "Alisson Ramses Becker",
         "26",
         "1992-10-02",
         "191",
         "91",
         "Brazil",
         "Liverpool"
        ],
        [
         "De Gea",
         "David De Gea Quintana",
         "28",
         "1990-11-07",
         "192",
         "82",
         "Spain",
         "Manchester United"
        ],
        [
         "N. Kanté",
         "N'Golo Kanté",
         "28",
         "1991-03-29",
         "168",
         "72",
         "France",
         "Chelsea"
        ],
        [
         "G. Chiellini",
         "Giorgio Chiellini",
         "34",
         "1984-08-14",
         "187",
         "85",
         "Italy",
         "Juventus"
        ],
        [
         "S. Agüero",
         "Sergio Leonel Agüero del Castillo",
         "31",
         "1988-06-02",
         "173",
         "70",
         "Argentina",
         "Manchester City"
        ],
        [
         "Sergio Ramos",
         "Sergio Ramos García",
         "33",
         "1986-03-30",
         "184",
         "82",
         "Spain",
         "Real Madrid"
        ],
        [
         "L. Suárez",
         "Luis Alberto Suárez Díaz",
         "32",
         "1987-01-24",
         "182",
         "86",
         "Uruguay",
         "FC Barcelona"
        ],
        [
         "R. Lewandowski",
         "Robert Lewandowski",
         "30",
         "1988-08-21",
         "184",
         "80",
         "Poland",
         "FC Bayern München"
        ],
        [
         "Sergio Busquets",
         "Sergio Busquets i Burgos",
         "30",
         "1988-07-16",
         "189",
         "76",
         "Spain",
         "FC Barcelona"
        ],
        [
         "A. Griezmann",
         "Antoine Griezmann",
         "28",
         "1991-03-21",
         "176",
         "73",
         "France",
         "FC Barcelona"
        ],
        [
         "P. Dybala",
         "Paulo Bruno Exequiel Dybala",
         "25",
         "1993-11-15",
         "177",
         "75",
         "Argentina",
         "Juventus"
        ],
        [
         "P. Pogba",
         "Paul Pogba",
         "26",
         "1993-03-15",
         "191",
         "84",
         "France",
         "Manchester United"
        ],
        [
         "Ederson",
         "Ederson Santana de Moraes",
         "25",
         "1993-08-17",
         "188",
         "86",
         "Brazil",
         "Manchester City"
        ],
        [
         "R. Sterling",
         "Raheem Sterling",
         "24",
         "1994-12-08",
         "170",
         "69",
         "England",
         "Manchester City"
        ],
        [
         "C. Eriksen",
         "Christian  Dannemann Eriksen",
         "27",
         "1992-02-14",
         "181",
         "76",
         "Denmark",
         "Tottenham Hotspur"
        ],
        [
         "T. Courtois",
         "Thibaut Courtois",
         "27",
         "1992-05-11",
         "199",
         "96",
         "Belgium",
         "Real Madrid"
        ],
        [
         "Piqué",
         "Gerard Piqué Bernabéu",
         "32",
         "1987-02-02",
         "194",
         "85",
         "Spain",
         "FC Barcelona"
        ],
        [
         "S. Handanovič",
         "Samir Handanovič",
         "34",
         "1984-07-14",
         "193",
         "92",
         "Slovenia",
         "Inter"
        ],
        [
         "M. Neuer",
         "Manuel Neuer",
         "33",
         "1986-03-27",
         "193",
         "92",
         "Germany",
         "FC Bayern München"
        ],
        [
         "H. Lloris",
         "Hugo Lloris",
         "32",
         "1986-12-26",
         "188",
         "82",
         "France",
         "Tottenham Hotspur"
        ],
        [
         "David Silva",
         "David Josué Jiménez Silva",
         "33",
         "1986-01-08",
         "173",
         "67",
         "Spain",
         "Manchester City"
        ],
        [
         "E. Cavani",
         "Edinson Roberto Cavani Gómez",
         "32",
         "1987-02-14",
         "185",
         "77",
         "Uruguay",
         "Paris Saint-Germain"
        ],
        [
         "D. Godín",
         "Diego Godín",
         "33",
         "1986-02-16",
         "187",
         "78",
         "Uruguay",
         "Inter"
        ],
        [
         "T. Kroos",
         "Toni Kroos",
         "29",
         "1990-01-04",
         "183",
         "76",
         "Germany",
         "Real Madrid"
        ],
        [
         "M. Reus",
         "Marco Reus",
         "30",
         "1989-05-31",
         "180",
         "71",
         "Germany",
         "Borussia Dortmund"
        ],
        [
         "P. Aubameyang",
         "Pierre-Emerick Aubameyang",
         "30",
         "1989-06-18",
         "187",
         "80",
         "Gabon",
         "Arsenal"
        ],
        [
         "S. Mané",
         "Sadio Mané",
         "27",
         "1992-04-10",
         "175",
         "69",
         "Senegal",
         "Liverpool"
        ],
        [
         "A. Laporte",
         "Aymeric  Laporte",
         "25",
         "1994-05-27",
         "189",
         "85",
         "France",
         "Manchester City"
        ],
        [
         "Bernardo Silva",
         "Bernardo Mota Veiga de Carvalho e Silva",
         "24",
         "1994-08-10",
         "173",
         "64",
         "Portugal",
         "Manchester City"
        ],
        [
         "Casemiro",
         "Carlos Henrique Venancio Casimiro",
         "27",
         "1992-02-23",
         "185",
         "84",
         "Brazil",
         "Real Madrid"
        ],
        [
         "H. Son",
         "손흥민 孙兴慜",
         "26",
         "1992-07-08",
         "183",
         "78",
         "Korea Republic",
         "Tottenham Hotspur"
        ],
        [
         "Fernandinho",
         "Fernando Luiz Rosa",
         "34",
         "1985-05-04",
         "179",
         "67",
         "Brazil",
         "Manchester City"
        ],
        [
         "Thiago Silva",
         "Thiago Emiliano da Silva",
         "34",
         "1984-09-22",
         "183",
         "82",
         "Brazil",
         "Paris Saint-Germain"
        ],
        [
         "K. Benzema",
         "Karim Benzema",
         "31",
         "1987-12-19",
         "185",
         "81",
         "France",
         "Real Madrid"
        ],
        [
         "J. Vertonghen",
         "Jan Vertonghen",
         "32",
         "1987-04-24",
         "189",
         "86",
         "Belgium",
         "Tottenham Hotspur"
        ],
        [
         "D. Mertens",
         "Dries Mertens",
         "32",
         "1987-05-06",
         "169",
         "61",
         "Belgium",
         "Napoli"
        ],
        [
         "M. Hummels",
         "Mats  Hummels",
         "30",
         "1988-12-16",
         "191",
         "94",
         "Germany",
         "Borussia Dortmund"
        ]
       ],
       "shape": {
        "columns": 7,
        "rows": 18278
       }
      },
      "text/html": [
       "<div>\n",
       "<style scoped>\n",
       "    .dataframe tbody tr th:only-of-type {\n",
       "        vertical-align: middle;\n",
       "    }\n",
       "\n",
       "    .dataframe tbody tr th {\n",
       "        vertical-align: top;\n",
       "    }\n",
       "\n",
       "    .dataframe thead th {\n",
       "        text-align: right;\n",
       "    }\n",
       "</style>\n",
       "<table border=\"1\" class=\"dataframe\">\n",
       "  <thead>\n",
       "    <tr style=\"text-align: right;\">\n",
       "      <th></th>\n",
       "      <th>long_name</th>\n",
       "      <th>age</th>\n",
       "      <th>dob</th>\n",
       "      <th>height_cm</th>\n",
       "      <th>weight_kg</th>\n",
       "      <th>nationality</th>\n",
       "      <th>club</th>\n",
       "    </tr>\n",
       "    <tr>\n",
       "      <th>short_name</th>\n",
       "      <th></th>\n",
       "      <th></th>\n",
       "      <th></th>\n",
       "      <th></th>\n",
       "      <th></th>\n",
       "      <th></th>\n",
       "      <th></th>\n",
       "    </tr>\n",
       "  </thead>\n",
       "  <tbody>\n",
       "    <tr>\n",
       "      <th>L. Messi</th>\n",
       "      <td>Lionel Andrés Messi Cuccittini</td>\n",
       "      <td>32</td>\n",
       "      <td>1987-06-24</td>\n",
       "      <td>170</td>\n",
       "      <td>72</td>\n",
       "      <td>Argentina</td>\n",
       "      <td>FC Barcelona</td>\n",
       "    </tr>\n",
       "    <tr>\n",
       "      <th>Cristiano Ronaldo</th>\n",
       "      <td>Cristiano Ronaldo dos Santos Aveiro</td>\n",
       "      <td>34</td>\n",
       "      <td>1985-02-05</td>\n",
       "      <td>187</td>\n",
       "      <td>83</td>\n",
       "      <td>Portugal</td>\n",
       "      <td>Juventus</td>\n",
       "    </tr>\n",
       "    <tr>\n",
       "      <th>Neymar Jr</th>\n",
       "      <td>Neymar da Silva Santos Junior</td>\n",
       "      <td>27</td>\n",
       "      <td>1992-02-05</td>\n",
       "      <td>175</td>\n",
       "      <td>68</td>\n",
       "      <td>Brazil</td>\n",
       "      <td>Paris Saint-Germain</td>\n",
       "    </tr>\n",
       "    <tr>\n",
       "      <th>J. Oblak</th>\n",
       "      <td>Jan Oblak</td>\n",
       "      <td>26</td>\n",
       "      <td>1993-01-07</td>\n",
       "      <td>188</td>\n",
       "      <td>87</td>\n",
       "      <td>Slovenia</td>\n",
       "      <td>Atlético Madrid</td>\n",
       "    </tr>\n",
       "    <tr>\n",
       "      <th>E. Hazard</th>\n",
       "      <td>Eden Hazard</td>\n",
       "      <td>28</td>\n",
       "      <td>1991-01-07</td>\n",
       "      <td>175</td>\n",
       "      <td>74</td>\n",
       "      <td>Belgium</td>\n",
       "      <td>Real Madrid</td>\n",
       "    </tr>\n",
       "    <tr>\n",
       "      <th>...</th>\n",
       "      <td>...</td>\n",
       "      <td>...</td>\n",
       "      <td>...</td>\n",
       "      <td>...</td>\n",
       "      <td>...</td>\n",
       "      <td>...</td>\n",
       "      <td>...</td>\n",
       "    </tr>\n",
       "    <tr>\n",
       "      <th>Shao Shuai</th>\n",
       "      <td>邵帅</td>\n",
       "      <td>22</td>\n",
       "      <td>1997-03-10</td>\n",
       "      <td>186</td>\n",
       "      <td>79</td>\n",
       "      <td>China PR</td>\n",
       "      <td>Beijing Renhe FC</td>\n",
       "    </tr>\n",
       "    <tr>\n",
       "      <th>Xiao Mingjie</th>\n",
       "      <td>Mingjie Xiao</td>\n",
       "      <td>22</td>\n",
       "      <td>1997-01-01</td>\n",
       "      <td>177</td>\n",
       "      <td>66</td>\n",
       "      <td>China PR</td>\n",
       "      <td>Shanghai SIPG FC</td>\n",
       "    </tr>\n",
       "    <tr>\n",
       "      <th>Zhang Wei</th>\n",
       "      <td>张威</td>\n",
       "      <td>19</td>\n",
       "      <td>2000-05-16</td>\n",
       "      <td>186</td>\n",
       "      <td>75</td>\n",
       "      <td>China PR</td>\n",
       "      <td>Hebei China Fortune FC</td>\n",
       "    </tr>\n",
       "    <tr>\n",
       "      <th>Wang Haijian</th>\n",
       "      <td>汪海健</td>\n",
       "      <td>18</td>\n",
       "      <td>2000-08-02</td>\n",
       "      <td>185</td>\n",
       "      <td>74</td>\n",
       "      <td>China PR</td>\n",
       "      <td>Shanghai Greenland Shenhua FC</td>\n",
       "    </tr>\n",
       "    <tr>\n",
       "      <th>Pan Ximing</th>\n",
       "      <td>潘喜明</td>\n",
       "      <td>26</td>\n",
       "      <td>1993-01-11</td>\n",
       "      <td>182</td>\n",
       "      <td>78</td>\n",
       "      <td>China PR</td>\n",
       "      <td>Hebei China Fortune FC</td>\n",
       "    </tr>\n",
       "  </tbody>\n",
       "</table>\n",
       "<p>18278 rows × 7 columns</p>\n",
       "</div>"
      ],
      "text/plain": [
       "                                             long_name  age         dob  \\\n",
       "short_name                                                                \n",
       "L. Messi                Lionel Andrés Messi Cuccittini   32  1987-06-24   \n",
       "Cristiano Ronaldo  Cristiano Ronaldo dos Santos Aveiro   34  1985-02-05   \n",
       "Neymar Jr                Neymar da Silva Santos Junior   27  1992-02-05   \n",
       "J. Oblak                                     Jan Oblak   26  1993-01-07   \n",
       "E. Hazard                                  Eden Hazard   28  1991-01-07   \n",
       "...                                                ...  ...         ...   \n",
       "Shao Shuai                                          邵帅   22  1997-03-10   \n",
       "Xiao Mingjie                              Mingjie Xiao   22  1997-01-01   \n",
       "Zhang Wei                                           张威   19  2000-05-16   \n",
       "Wang Haijian                                       汪海健   18  2000-08-02   \n",
       "Pan Ximing                                         潘喜明   26  1993-01-11   \n",
       "\n",
       "                   height_cm  weight_kg nationality  \\\n",
       "short_name                                            \n",
       "L. Messi                 170         72   Argentina   \n",
       "Cristiano Ronaldo        187         83    Portugal   \n",
       "Neymar Jr                175         68      Brazil   \n",
       "J. Oblak                 188         87    Slovenia   \n",
       "E. Hazard                175         74     Belgium   \n",
       "...                      ...        ...         ...   \n",
       "Shao Shuai               186         79    China PR   \n",
       "Xiao Mingjie             177         66    China PR   \n",
       "Zhang Wei                186         75    China PR   \n",
       "Wang Haijian             185         74    China PR   \n",
       "Pan Ximing               182         78    China PR   \n",
       "\n",
       "                                            club  \n",
       "short_name                                        \n",
       "L. Messi                            FC Barcelona  \n",
       "Cristiano Ronaldo                       Juventus  \n",
       "Neymar Jr                    Paris Saint-Germain  \n",
       "J. Oblak                         Atlético Madrid  \n",
       "E. Hazard                            Real Madrid  \n",
       "...                                          ...  \n",
       "Shao Shuai                      Beijing Renhe FC  \n",
       "Xiao Mingjie                    Shanghai SIPG FC  \n",
       "Zhang Wei                 Hebei China Fortune FC  \n",
       "Wang Haijian       Shanghai Greenland Shenhua FC  \n",
       "Pan Ximing                Hebei China Fortune FC  \n",
       "\n",
       "[18278 rows x 7 columns]"
      ]
     },
     "execution_count": 3,
     "metadata": {},
     "output_type": "execute_result"
    }
   ],
   "source": [
    "# show dataframe\n",
    "df"
   ]
  },
  {
   "cell_type": "markdown",
   "id": "a45f187e",
   "metadata": {},
   "source": [
    "# Lambda function"
   ]
  },
  {
   "cell_type": "code",
   "execution_count": 6,
   "id": "5d0ec1a1",
   "metadata": {},
   "outputs": [],
   "source": [
    "# basic function\n",
    "def sum_value(a,b):\n",
    "    x = a+b\n",
    "    return x"
   ]
  },
  {
   "cell_type": "code",
   "execution_count": 7,
   "id": "a740350c",
   "metadata": {},
   "outputs": [
    {
     "data": {
      "text/plain": [
       "5"
      ]
     },
     "execution_count": 7,
     "metadata": {},
     "output_type": "execute_result"
    }
   ],
   "source": [
    "sum_value(2,3)"
   ]
  },
  {
   "cell_type": "code",
   "execution_count": 8,
   "id": "f122af1e",
   "metadata": {},
   "outputs": [],
   "source": [
    "# lambda function (one liner)\n",
    "sum_lambda = lambda a,b: a+b"
   ]
  },
  {
   "cell_type": "code",
   "execution_count": 9,
   "id": "36f0d359",
   "metadata": {},
   "outputs": [
    {
     "data": {
      "text/plain": [
       "5"
      ]
     },
     "execution_count": 9,
     "metadata": {},
     "output_type": "execute_result"
    }
   ],
   "source": [
    "sum_lambda(2,3)"
   ]
  },
  {
   "cell_type": "markdown",
   "id": "e4cacf7d",
   "metadata": {},
   "source": [
    "# Apply + Lambda Function"
   ]
  },
  {
   "cell_type": "code",
   "execution_count": null,
   "id": "4034f76e",
   "metadata": {},
   "outputs": [
    {
     "data": {
      "application/vnd.microsoft.datawrangler.viewer.v0+json": {
       "columns": [
        {
         "name": "short_name",
         "rawType": "object",
         "type": "string"
        },
        {
         "name": "height_cm",
         "rawType": "float64",
         "type": "float"
        }
       ],
       "ref": "30f822e3-8538-4873-b654-f36b3cc2469d",
       "rows": [
        [
         "L. Messi",
         "1.7"
        ],
        [
         "Cristiano Ronaldo",
         "1.87"
        ],
        [
         "Neymar Jr",
         "1.75"
        ],
        [
         "J. Oblak",
         "1.88"
        ],
        [
         "E. Hazard",
         "1.75"
        ],
        [
         "K. De Bruyne",
         "1.81"
        ],
        [
         "M. ter Stegen",
         "1.87"
        ],
        [
         "V. van Dijk",
         "1.93"
        ],
        [
         "L. Modrić",
         "1.72"
        ],
        [
         "M. Salah",
         "1.75"
        ],
        [
         "K. Mbappé",
         "1.78"
        ],
        [
         "K. Koulibaly",
         "1.87"
        ],
        [
         "H. Kane",
         "1.88"
        ],
        [
         "Alisson",
         "1.91"
        ],
        [
         "De Gea",
         "1.92"
        ],
        [
         "N. Kanté",
         "1.68"
        ],
        [
         "G. Chiellini",
         "1.87"
        ],
        [
         "S. Agüero",
         "1.73"
        ],
        [
         "Sergio Ramos",
         "1.84"
        ],
        [
         "L. Suárez",
         "1.82"
        ],
        [
         "R. Lewandowski",
         "1.84"
        ],
        [
         "Sergio Busquets",
         "1.89"
        ],
        [
         "A. Griezmann",
         "1.76"
        ],
        [
         "P. Dybala",
         "1.77"
        ],
        [
         "P. Pogba",
         "1.91"
        ],
        [
         "Ederson",
         "1.88"
        ],
        [
         "R. Sterling",
         "1.7"
        ],
        [
         "C. Eriksen",
         "1.81"
        ],
        [
         "T. Courtois",
         "1.99"
        ],
        [
         "Piqué",
         "1.94"
        ],
        [
         "S. Handanovič",
         "1.93"
        ],
        [
         "M. Neuer",
         "1.93"
        ],
        [
         "H. Lloris",
         "1.88"
        ],
        [
         "David Silva",
         "1.73"
        ],
        [
         "E. Cavani",
         "1.85"
        ],
        [
         "D. Godín",
         "1.87"
        ],
        [
         "T. Kroos",
         "1.83"
        ],
        [
         "M. Reus",
         "1.8"
        ],
        [
         "P. Aubameyang",
         "1.87"
        ],
        [
         "S. Mané",
         "1.75"
        ],
        [
         "A. Laporte",
         "1.89"
        ],
        [
         "Bernardo Silva",
         "1.73"
        ],
        [
         "Casemiro",
         "1.85"
        ],
        [
         "H. Son",
         "1.83"
        ],
        [
         "Fernandinho",
         "1.79"
        ],
        [
         "Thiago Silva",
         "1.83"
        ],
        [
         "K. Benzema",
         "1.85"
        ],
        [
         "J. Vertonghen",
         "1.89"
        ],
        [
         "D. Mertens",
         "1.69"
        ],
        [
         "M. Hummels",
         "1.91"
        ]
       ],
       "shape": {
        "columns": 1,
        "rows": 18278
       }
      },
      "text/plain": [
       "short_name\n",
       "L. Messi             1.70\n",
       "Cristiano Ronaldo    1.87\n",
       "Neymar Jr            1.75\n",
       "J. Oblak             1.88\n",
       "E. Hazard            1.75\n",
       "                     ... \n",
       "Shao Shuai           1.86\n",
       "Xiao Mingjie         1.77\n",
       "Zhang Wei            1.86\n",
       "Wang Haijian         1.85\n",
       "Pan Ximing           1.82\n",
       "Name: height_cm, Length: 18278, dtype: float64"
      ]
     },
     "execution_count": 11,
     "metadata": {},
     "output_type": "execute_result"
    }
   ],
   "source": [
    "# use lambda function to convert \"height_cm\" series to meters\n",
    "df['height_cm'].apply(lambda x: x/100)\n",
    "\n",
    "# alternative\n",
    "# df['height_cm']/100"
   ]
  },
  {
   "cell_type": "code",
   "execution_count": 16,
   "id": "ecc7fdfa",
   "metadata": {},
   "outputs": [
    {
     "data": {
      "application/vnd.microsoft.datawrangler.viewer.v0+json": {
       "columns": [
        {
         "name": "short_name",
         "rawType": "object",
         "type": "string"
        },
        {
         "name": "long_name",
         "rawType": "object",
         "type": "string"
        }
       ],
       "ref": "b65c713c-fe1e-4fd4-ba74-41560249d8a9",
       "rows": [
        [
         "L. Messi",
         "LIONEL ANDRÉS MESSI CUCCITTINI"
        ],
        [
         "Cristiano Ronaldo",
         "CRISTIANO RONALDO DOS SANTOS AVEIRO"
        ],
        [
         "Neymar Jr",
         "NEYMAR DA SILVA SANTOS JUNIOR"
        ],
        [
         "J. Oblak",
         "JAN OBLAK"
        ],
        [
         "E. Hazard",
         "EDEN HAZARD"
        ],
        [
         "K. De Bruyne",
         "KEVIN DE BRUYNE"
        ],
        [
         "M. ter Stegen",
         "MARC-ANDRÉ TER STEGEN"
        ],
        [
         "V. van Dijk",
         "VIRGIL VAN DIJK"
        ],
        [
         "L. Modrić",
         "LUKA MODRIĆ"
        ],
        [
         "M. Salah",
         "MOHAMED  SALAH GHALY"
        ],
        [
         "K. Mbappé",
         "KYLIAN MBAPPÉ"
        ],
        [
         "K. Koulibaly",
         "KALIDOU KOULIBALY"
        ],
        [
         "H. Kane",
         "HARRY KANE"
        ],
        [
         "Alisson",
         "ALISSON RAMSES BECKER"
        ],
        [
         "De Gea",
         "DAVID DE GEA QUINTANA"
        ],
        [
         "N. Kanté",
         "N'GOLO KANTÉ"
        ],
        [
         "G. Chiellini",
         "GIORGIO CHIELLINI"
        ],
        [
         "S. Agüero",
         "SERGIO LEONEL AGÜERO DEL CASTILLO"
        ],
        [
         "Sergio Ramos",
         "SERGIO RAMOS GARCÍA"
        ],
        [
         "L. Suárez",
         "LUIS ALBERTO SUÁREZ DÍAZ"
        ],
        [
         "R. Lewandowski",
         "ROBERT LEWANDOWSKI"
        ],
        [
         "Sergio Busquets",
         "SERGIO BUSQUETS I BURGOS"
        ],
        [
         "A. Griezmann",
         "ANTOINE GRIEZMANN"
        ],
        [
         "P. Dybala",
         "PAULO BRUNO EXEQUIEL DYBALA"
        ],
        [
         "P. Pogba",
         "PAUL POGBA"
        ],
        [
         "Ederson",
         "EDERSON SANTANA DE MORAES"
        ],
        [
         "R. Sterling",
         "RAHEEM STERLING"
        ],
        [
         "C. Eriksen",
         "CHRISTIAN  DANNEMANN ERIKSEN"
        ],
        [
         "T. Courtois",
         "THIBAUT COURTOIS"
        ],
        [
         "Piqué",
         "GERARD PIQUÉ BERNABÉU"
        ],
        [
         "S. Handanovič",
         "SAMIR HANDANOVIČ"
        ],
        [
         "M. Neuer",
         "MANUEL NEUER"
        ],
        [
         "H. Lloris",
         "HUGO LLORIS"
        ],
        [
         "David Silva",
         "DAVID JOSUÉ JIMÉNEZ SILVA"
        ],
        [
         "E. Cavani",
         "EDINSON ROBERTO CAVANI GÓMEZ"
        ],
        [
         "D. Godín",
         "DIEGO GODÍN"
        ],
        [
         "T. Kroos",
         "TONI KROOS"
        ],
        [
         "M. Reus",
         "MARCO REUS"
        ],
        [
         "P. Aubameyang",
         "PIERRE-EMERICK AUBAMEYANG"
        ],
        [
         "S. Mané",
         "SADIO MANÉ"
        ],
        [
         "A. Laporte",
         "AYMERIC  LAPORTE"
        ],
        [
         "Bernardo Silva",
         "BERNARDO MOTA VEIGA DE CARVALHO E SILVA"
        ],
        [
         "Casemiro",
         "CARLOS HENRIQUE VENANCIO CASIMIRO"
        ],
        [
         "H. Son",
         "손흥민 孙兴慜"
        ],
        [
         "Fernandinho",
         "FERNANDO LUIZ ROSA"
        ],
        [
         "Thiago Silva",
         "THIAGO EMILIANO DA SILVA"
        ],
        [
         "K. Benzema",
         "KARIM BENZEMA"
        ],
        [
         "J. Vertonghen",
         "JAN VERTONGHEN"
        ],
        [
         "D. Mertens",
         "DRIES MERTENS"
        ],
        [
         "M. Hummels",
         "MATS  HUMMELS"
        ]
       ],
       "shape": {
        "columns": 1,
        "rows": 18278
       }
      },
      "text/plain": [
       "short_name\n",
       "L. Messi                  LIONEL ANDRÉS MESSI CUCCITTINI\n",
       "Cristiano Ronaldo    CRISTIANO RONALDO DOS SANTOS AVEIRO\n",
       "Neymar Jr                  NEYMAR DA SILVA SANTOS JUNIOR\n",
       "J. Oblak                                       JAN OBLAK\n",
       "E. Hazard                                    EDEN HAZARD\n",
       "                                    ...                 \n",
       "Shao Shuai                                            邵帅\n",
       "Xiao Mingjie                                MINGJIE XIAO\n",
       "Zhang Wei                                             张威\n",
       "Wang Haijian                                         汪海健\n",
       "Pan Ximing                                           潘喜明\n",
       "Name: long_name, Length: 18278, dtype: object"
      ]
     },
     "execution_count": 16,
     "metadata": {},
     "output_type": "execute_result"
    }
   ],
   "source": [
    "# use lambda function to convert \"long_name\" series to upper case\n",
    "df['long_name'].apply(lambda x: x.upper())\n",
    "\n",
    "# alternative with str attribute\n",
    "df['long_name'].str.upper()"
   ]
  },
  {
   "cell_type": "code",
   "execution_count": 23,
   "id": "4daf5cf5",
   "metadata": {},
   "outputs": [
    {
     "data": {
      "application/vnd.microsoft.datawrangler.viewer.v0+json": {
       "columns": [
        {
         "name": "short_name",
         "rawType": "object",
         "type": "string"
        },
        {
         "name": "dob",
         "rawType": "int64",
         "type": "integer"
        }
       ],
       "ref": "d64e0c53-a50c-4a6a-8436-0a5d8ed5367d",
       "rows": [
        [
         "L. Messi",
         "1987"
        ],
        [
         "Cristiano Ronaldo",
         "1985"
        ],
        [
         "Neymar Jr",
         "1992"
        ],
        [
         "J. Oblak",
         "1993"
        ],
        [
         "E. Hazard",
         "1991"
        ],
        [
         "K. De Bruyne",
         "1991"
        ],
        [
         "M. ter Stegen",
         "1992"
        ],
        [
         "V. van Dijk",
         "1991"
        ],
        [
         "L. Modrić",
         "1985"
        ],
        [
         "M. Salah",
         "1992"
        ],
        [
         "K. Mbappé",
         "1998"
        ],
        [
         "K. Koulibaly",
         "1991"
        ],
        [
         "H. Kane",
         "1993"
        ],
        [
         "Alisson",
         "1992"
        ],
        [
         "De Gea",
         "1990"
        ],
        [
         "N. Kanté",
         "1991"
        ],
        [
         "G. Chiellini",
         "1984"
        ],
        [
         "S. Agüero",
         "1988"
        ],
        [
         "Sergio Ramos",
         "1986"
        ],
        [
         "L. Suárez",
         "1987"
        ],
        [
         "R. Lewandowski",
         "1988"
        ],
        [
         "Sergio Busquets",
         "1988"
        ],
        [
         "A. Griezmann",
         "1991"
        ],
        [
         "P. Dybala",
         "1993"
        ],
        [
         "P. Pogba",
         "1993"
        ],
        [
         "Ederson",
         "1993"
        ],
        [
         "R. Sterling",
         "1994"
        ],
        [
         "C. Eriksen",
         "1992"
        ],
        [
         "T. Courtois",
         "1992"
        ],
        [
         "Piqué",
         "1987"
        ],
        [
         "S. Handanovič",
         "1984"
        ],
        [
         "M. Neuer",
         "1986"
        ],
        [
         "H. Lloris",
         "1986"
        ],
        [
         "David Silva",
         "1986"
        ],
        [
         "E. Cavani",
         "1987"
        ],
        [
         "D. Godín",
         "1986"
        ],
        [
         "T. Kroos",
         "1990"
        ],
        [
         "M. Reus",
         "1989"
        ],
        [
         "P. Aubameyang",
         "1989"
        ],
        [
         "S. Mané",
         "1992"
        ],
        [
         "A. Laporte",
         "1994"
        ],
        [
         "Bernardo Silva",
         "1994"
        ],
        [
         "Casemiro",
         "1992"
        ],
        [
         "H. Son",
         "1992"
        ],
        [
         "Fernandinho",
         "1985"
        ],
        [
         "Thiago Silva",
         "1984"
        ],
        [
         "K. Benzema",
         "1987"
        ],
        [
         "J. Vertonghen",
         "1987"
        ],
        [
         "D. Mertens",
         "1987"
        ],
        [
         "M. Hummels",
         "1988"
        ]
       ],
       "shape": {
        "columns": 1,
        "rows": 18278
       }
      },
      "text/plain": [
       "short_name\n",
       "L. Messi             1987\n",
       "Cristiano Ronaldo    1985\n",
       "Neymar Jr            1992\n",
       "J. Oblak             1993\n",
       "E. Hazard            1991\n",
       "                     ... \n",
       "Shao Shuai           1997\n",
       "Xiao Mingjie         1997\n",
       "Zhang Wei            2000\n",
       "Wang Haijian         2000\n",
       "Pan Ximing           1993\n",
       "Name: dob, Length: 18278, dtype: int64"
      ]
     },
     "execution_count": 23,
     "metadata": {},
     "output_type": "execute_result"
    }
   ],
   "source": [
    "df['dob'] = df['dob'].astype('datetime64[ns]')\n",
    "\n",
    "# use lambda function to get the year or \"dob\" series\n",
    "df['dob'].apply(lambda x: x.year)\n",
    "\n",
    "# alternative wirh dt attribute\n",
    "# df['dob'].dt.year"
   ]
  },
  {
   "cell_type": "code",
   "execution_count": 25,
   "id": "77b652ac",
   "metadata": {},
   "outputs": [
    {
     "data": {
      "application/vnd.microsoft.datawrangler.viewer.v0+json": {
       "columns": [
        {
         "name": "short_name",
         "rawType": "object",
         "type": "string"
        },
        {
         "name": "0",
         "rawType": "float64",
         "type": "float"
        }
       ],
       "ref": "09856f37-2a6e-43c6-a102-2174da58dad2",
       "rows": [
        [
         "L. Messi",
         "24.913494809688583"
        ],
        [
         "Cristiano Ronaldo",
         "23.735308416025617"
        ],
        [
         "Neymar Jr",
         "22.20408163265306"
        ],
        [
         "J. Oblak",
         "24.615210502489816"
        ],
        [
         "E. Hazard",
         "24.163265306122447"
        ],
        [
         "K. De Bruyne",
         "21.36686914318855"
        ],
        [
         "M. ter Stegen",
         "24.307243558580453"
        ],
        [
         "V. van Dijk",
         "24.69864962817794"
        ],
        [
         "L. Modrić",
         "22.30935640886966"
        ],
        [
         "M. Salah",
         "23.183673469387756"
        ],
        [
         "K. Mbappé",
         "23.04002019946976"
        ],
        [
         "K. Koulibaly",
         "25.45111384369012"
        ],
        [
         "H. Kane",
         "25.18107741059303"
        ],
        [
         "Alisson",
         "24.94449165318933"
        ],
        [
         "De Gea",
         "22.24392361111111"
        ],
        [
         "N. Kanté",
         "25.510204081632658"
        ],
        [
         "G. Chiellini",
         "24.307243558580453"
        ],
        [
         "S. Agüero",
         "23.38868655818771"
        ],
        [
         "Sergio Ramos",
         "24.22022684310019"
        ],
        [
         "L. Suárez",
         "25.963047941069917"
        ],
        [
         "R. Lewandowski",
         "23.629489603024574"
        ],
        [
         "Sergio Busquets",
         "21.27600011197895"
        ],
        [
         "A. Griezmann",
         "23.56663223140496"
        ],
        [
         "P. Dybala",
         "23.93948099205209"
        ],
        [
         "P. Pogba",
         "23.025684602944"
        ],
        [
         "Ederson",
         "24.332277048438208"
        ],
        [
         "R. Sterling",
         "23.87543252595156"
        ],
        [
         "C. Eriksen",
         "23.198315069747565"
        ],
        [
         "T. Courtois",
         "24.24181207545264"
        ],
        [
         "Piqué",
         "22.584759273036454"
        ],
        [
         "S. Handanovič",
         "24.69864962817794"
        ],
        [
         "M. Neuer",
         "24.69864962817794"
        ],
        [
         "H. Lloris",
         "23.20054323223178"
        ],
        [
         "David Silva",
         "22.386314277122523"
        ],
        [
         "E. Cavani",
         "22.498173849525198"
        ],
        [
         "D. Godín",
         "22.305470559638533"
        ],
        [
         "T. Kroos",
         "22.694018931589476"
        ],
        [
         "M. Reus",
         "21.91358024691358"
        ],
        [
         "P. Aubameyang",
         "22.877405702193368"
        ],
        [
         "S. Mané",
         "22.53061224489796"
        ],
        [
         "A. Laporte",
         "23.79552644102909"
        ],
        [
         "Bernardo Silva",
         "21.383941996057334"
        ],
        [
         "Casemiro",
         "24.543462381300216"
        ],
        [
         "H. Son",
         "23.291229956104985"
        ],
        [
         "Fernandinho",
         "20.91070815517618"
        ],
        [
         "Thiago Silva",
         "24.48565200513601"
        ],
        [
         "K. Benzema",
         "23.66691015339664"
        ],
        [
         "J. Vertonghen",
         "24.075473810923548"
        ],
        [
         "D. Mertens",
         "21.35779559539232"
        ],
        [
         "M. Hummels",
         "25.766837531865903"
        ]
       ],
       "shape": {
        "columns": 1,
        "rows": 18278
       }
      },
      "text/plain": [
       "short_name\n",
       "L. Messi             24.913495\n",
       "Cristiano Ronaldo    23.735308\n",
       "Neymar Jr            22.204082\n",
       "J. Oblak             24.615211\n",
       "E. Hazard            24.163265\n",
       "                       ...    \n",
       "Shao Shuai           22.835010\n",
       "Xiao Mingjie         21.066743\n",
       "Zhang Wei            21.678807\n",
       "Wang Haijian         21.621622\n",
       "Pan Ximing           23.547881\n",
       "Length: 18278, dtype: float64"
      ]
     },
     "execution_count": 25,
     "metadata": {},
     "output_type": "execute_result"
    }
   ],
   "source": [
    "# apply lambda function to dataframe in order to calculate bmi\n",
    "df.apply(lambda x: x['weight_kg'] / (x['height_cm'] / 100)**2, axis=1)"
   ]
  }
 ],
 "metadata": {
  "kernelspec": {
   "display_name": ".venv",
   "language": "python",
   "name": "python3"
  },
  "language_info": {
   "codemirror_mode": {
    "name": "ipython",
    "version": 3
   },
   "file_extension": ".py",
   "mimetype": "text/x-python",
   "name": "python",
   "nbconvert_exporter": "python",
   "pygments_lexer": "ipython3",
   "version": "3.10.8"
  },
  "toc": {
   "base_numbering": 1,
   "nav_menu": {},
   "number_sections": true,
   "sideBar": true,
   "skip_h1_title": false,
   "title_cell": "Table of Contents",
   "title_sidebar": "Contents",
   "toc_cell": false,
   "toc_position": {},
   "toc_section_display": true,
   "toc_window_display": false
  }
 },
 "nbformat": 4,
 "nbformat_minor": 5
}
