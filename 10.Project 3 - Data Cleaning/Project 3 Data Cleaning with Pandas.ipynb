{
 "cells": [
  {
   "cell_type": "code",
   "execution_count": 51,
   "metadata": {},
   "outputs": [],
   "source": [
    "import pandas as pd\n",
    "import matplotlib.pyplot as plt"
   ]
  },
  {
   "cell_type": "markdown",
   "metadata": {},
   "source": [
    "# Dataset Overview"
   ]
  },
  {
   "cell_type": "code",
   "execution_count": 52,
   "metadata": {},
   "outputs": [
    {
     "data": {
      "application/vnd.microsoft.datawrangler.viewer.v0+json": {
       "columns": [
        {
         "name": "index",
         "rawType": "int64",
         "type": "integer"
        },
        {
         "name": "show_id",
         "rawType": "object",
         "type": "string"
        },
        {
         "name": "type",
         "rawType": "object",
         "type": "string"
        },
        {
         "name": "title",
         "rawType": "object",
         "type": "string"
        },
        {
         "name": "director",
         "rawType": "object",
         "type": "unknown"
        },
        {
         "name": "cast",
         "rawType": "object",
         "type": "unknown"
        },
        {
         "name": "country",
         "rawType": "object",
         "type": "unknown"
        },
        {
         "name": "date_added",
         "rawType": "object",
         "type": "unknown"
        },
        {
         "name": "release_year",
         "rawType": "int64",
         "type": "integer"
        },
        {
         "name": "rating",
         "rawType": "object",
         "type": "unknown"
        },
        {
         "name": "duration",
         "rawType": "object",
         "type": "unknown"
        },
        {
         "name": "listed_in",
         "rawType": "object",
         "type": "string"
        },
        {
         "name": "description",
         "rawType": "object",
         "type": "string"
        }
       ],
       "ref": "e9763471-5d04-4b6a-81c5-c39126461e40",
       "rows": [
        [
         "0",
         "s1",
         "Movie",
         "Dick Johnson Is Dead",
         "Kirsten Johnson",
         null,
         "United States",
         "September 25, 2021",
         "2020",
         "PG-13",
         "90 min",
         "Documentaries",
         "As her father nears the end of his life, filmmaker Kirsten Johnson stages his death in inventive and comical ways to help them both face the inevitable."
        ],
        [
         "1",
         "s2",
         "TV Show",
         "Blood & Water",
         null,
         "Ama Qamata, Khosi Ngema, Gail Mabalane, Thabang Molaba, Dillon Windvogel, Natasha Thahane, Arno Greeff, Xolile Tshabalala, Getmore Sithole, Cindy Mahlangu, Ryle De Morny, Greteli Fincham, Sello Maake Ka-Ncube, Odwa Gwanya, Mekaila Mathys, Sandi Schultz, Duane Williams, Shamilla Miller, Patrick Mofokeng",
         "South Africa",
         "September 24, 2021",
         "2021",
         "TV-MA",
         "2 Seasons",
         "International TV Shows, TV Dramas, TV Mysteries",
         "After crossing paths at a party, a Cape Town teen sets out to prove whether a private-school swimming star is her sister who was abducted at birth."
        ],
        [
         "2",
         "s3",
         "TV Show",
         "Ganglands",
         "Julien Leclercq",
         "Sami Bouajila, Tracy Gotoas, Samuel Jouy, Nabiha Akkari, Sofia Lesaffre, Salim Kechiouche, Noureddine Farihi, Geert Van Rampelberg, Bakary Diombera",
         null,
         "September 24, 2021",
         "2021",
         "TV-MA",
         "1 Season",
         "Crime TV Shows, International TV Shows, TV Action & Adventure",
         "To protect his family from a powerful drug lord, skilled thief Mehdi and his expert team of robbers are pulled into a violent and deadly turf war."
        ],
        [
         "3",
         "s4",
         "TV Show",
         "Jailbirds New Orleans",
         null,
         null,
         null,
         "September 24, 2021",
         "2021",
         "TV-MA",
         "1 Season",
         "Docuseries, Reality TV",
         "Feuds, flirtations and toilet talk go down among the incarcerated women at the Orleans Justice Center in New Orleans on this gritty reality series."
        ],
        [
         "4",
         "s5",
         "TV Show",
         "Kota Factory",
         null,
         "Mayur More, Jitendra Kumar, Ranjan Raj, Alam Khan, Ahsaas Channa, Revathi Pillai, Urvi Singh, Arun Kumar",
         "India",
         "September 24, 2021",
         "2021",
         "TV-MA",
         "2 Seasons",
         "International TV Shows, Romantic TV Shows, TV Comedies",
         "In a city of coaching centers known to train India’s finest collegiate minds, an earnest but unexceptional student and his friends navigate campus life."
        ],
        [
         "5",
         "s6",
         "TV Show",
         "Midnight Mass",
         "Mike Flanagan",
         "Kate Siegel, Zach Gilford, Hamish Linklater, Henry Thomas, Kristin Lehman, Samantha Sloyan, Igby Rigney, Rahul Kohli, Annarah Cymone, Annabeth Gish, Alex Essoe, Rahul Abburi, Matt Biedel, Michael Trucco, Crystal Balint, Louis Oliver",
         null,
         "September 24, 2021",
         "2021",
         "TV-MA",
         "1 Season",
         "TV Dramas, TV Horror, TV Mysteries",
         "The arrival of a charismatic young priest brings glorious miracles, ominous mysteries and renewed religious fervor to a dying town desperate to believe."
        ],
        [
         "6",
         "s7",
         "Movie",
         "My Little Pony: A New Generation",
         "Robert Cullen, José Luis Ucha",
         "Vanessa Hudgens, Kimiko Glenn, James Marsden, Sofia Carson, Liza Koshy, Ken Jeong, Elizabeth Perkins, Jane Krakowski, Michael McKean, Phil LaMarr",
         null,
         "September 24, 2021",
         "2021",
         "PG",
         "91 min",
         "Children & Family Movies",
         "Equestria's divided. But a bright-eyed hero believes Earth Ponies, Pegasi and Unicorns should be pals — and, hoof to heart, she’s determined to prove it."
        ],
        [
         "7",
         "s8",
         "Movie",
         "Sankofa",
         "Haile Gerima",
         "Kofi Ghanaba, Oyafunmike Ogunlano, Alexandra Duah, Nick Medley, Mutabaruka, Afemo Omilami, Reggie Carter, Mzuri",
         "United States, Ghana, Burkina Faso, United Kingdom, Germany, Ethiopia",
         "September 24, 2021",
         "1993",
         "TV-MA",
         "125 min",
         "Dramas, Independent Movies, International Movies",
         "On a photo shoot in Ghana, an American model slips back in time, becomes enslaved on a plantation and bears witness to the agony of her ancestral past."
        ],
        [
         "8",
         "s9",
         "TV Show",
         "The Great British Baking Show",
         "Andy Devonshire",
         "Mel Giedroyc, Sue Perkins, Mary Berry, Paul Hollywood",
         "United Kingdom",
         "September 24, 2021",
         "2021",
         "TV-14",
         "9 Seasons",
         "British TV Shows, Reality TV",
         "A talented batch of amateur bakers face off in a 10-week competition, whipping up their best dishes in the hopes of being named the U.K.'s best."
        ],
        [
         "9",
         "s10",
         "Movie",
         "The Starling",
         "Theodore Melfi",
         "Melissa McCarthy, Chris O'Dowd, Kevin Kline, Timothy Olyphant, Daveed Diggs, Skyler Gisondo, Laura Harrier, Rosalind Chao, Kimberly Quinn, Loretta Devine, Ravi Kapoor",
         "United States",
         "September 24, 2021",
         "2021",
         "PG-13",
         "104 min",
         "Comedies, Dramas",
         "A woman adjusting to life after a loss contends with a feisty bird that's taken over her garden — and a husband who's struggling to find a way forward."
        ],
        [
         "10",
         "s11",
         "TV Show",
         "Vendetta: Truth, Lies and The Mafia",
         null,
         null,
         null,
         "September 24, 2021",
         "2021",
         "TV-MA",
         "1 Season",
         "Crime TV Shows, Docuseries, International TV Shows",
         "Sicily boasts a bold \"Anti-Mafia\" coalition. But what happens when those trying to bring down organized crime are accused of being criminals themselves?"
        ],
        [
         "11",
         "s12",
         "TV Show",
         "Bangkok Breaking",
         "Kongkiat Komesiri",
         "Sukollawat Kanarot, Sushar Manaying, Pavarit Mongkolpisit, Sahajak Boonthanakit, Suthipongse Thatphithakkul, Bhasaworn Bawronkirati, Daweerit Chullasapya, Waratthaya Wongchayaporn, Kittiphoom Wongpentak, Abhicha Thanachanun, Nophand Boonyai, Kittipong Khamsat, Arisara Wongchalee, Jaytiya Naiwattanakul, Pantipa Arunwattanachai, Panupan Jantanawong, Kungtap Saelim, Phumphat Chartsuriyakiat, Issara Veranitinunt, Keerati Sivakuae, Panjai Sirisuwan, Supranee Charoenpol, Suda Chuenban, Visaka Banhansupavat, Pitchatorn Santinatornkul",
         null,
         "September 23, 2021",
         "2021",
         "TV-MA",
         "1 Season",
         "Crime TV Shows, International TV Shows, TV Action & Adventure",
         "Struggling to earn a living in Bangkok, a man joins an emergency rescue service and realizes he must unravel a citywide conspiracy."
        ],
        [
         "12",
         "s13",
         "Movie",
         "Je Suis Karl",
         "Christian Schwochow",
         "Luna Wedler, Jannis Niewöhner, Milan Peschel, Edin Hasanović, Anna Fialová, Marlon Boess, Victor Boccard, Fleur Geffrier, Aziz Dyab, Mélanie Fouché, Elizaveta Maximová",
         "Germany, Czech Republic",
         "September 23, 2021",
         "2021",
         "TV-MA",
         "127 min",
         "Dramas, International Movies",
         "After most of her family is murdered in a terrorist bombing, a young woman is unknowingly lured into joining the very group that killed them."
        ],
        [
         "13",
         "s14",
         "Movie",
         "Confessions of an Invisible Girl",
         "Bruno Garotti",
         "Klara Castanho, Lucca Picon, Júlia Gomes, Marcus Bessa, Kiria Malheiros, Fernanda Concon, Gabriel Lima, Caio Cabral, Leonardo Cidade, Jade Cardozo",
         null,
         "September 22, 2021",
         "2021",
         "TV-PG",
         "91 min",
         "Children & Family Movies, Comedies",
         "When the clever but socially-awkward Tetê joins a new school, she'll do anything to fit in. But the queen bee among her classmates has other ideas."
        ],
        [
         "14",
         "s15",
         "TV Show",
         "Crime Stories: India Detectives",
         null,
         null,
         null,
         "September 22, 2021",
         "2021",
         "TV-MA",
         "1 Season",
         "British TV Shows, Crime TV Shows, Docuseries",
         "Cameras following Bengaluru police on the job offer a rare glimpse into the complex and challenging inner workings of four major crime investigations."
        ],
        [
         "15",
         "s16",
         "TV Show",
         "Dear White People",
         null,
         "Logan Browning, Brandon P. Bell, DeRon Horton, Antoinette Robertson, John Patrick Amedori, Ashley Blaine Featherson, Marque Richardson, Giancarlo Esposito",
         "United States",
         "September 22, 2021",
         "2021",
         "TV-MA",
         "4 Seasons",
         "TV Comedies, TV Dramas",
         "Students of color navigate the daily slights and slippery politics of life at an Ivy League college that's not nearly as \"post-racial\" as it thinks."
        ],
        [
         "16",
         "s17",
         "Movie",
         "Europe's Most Dangerous Man: Otto Skorzeny in Spain",
         "Pedro de Echave García, Pablo Azorín Williams",
         null,
         null,
         "September 22, 2021",
         "2020",
         "TV-MA",
         "67 min",
         "Documentaries, International Movies",
         "Declassified documents reveal the post-WWII life of Otto Skorzeny, a close Hitler ally who escaped to Spain and became an adviser to world presidents."
        ],
        [
         "17",
         "s18",
         "TV Show",
         "Falsa identidad",
         null,
         "Luis Ernesto Franco, Camila Sodi, Sergio Goyri, Samadhi Zendejas, Eduardo Yáñez, Sonya Smith, Alejandro Camacho, Azela Robinson, Uriel del Toro, Géraldine Bazán, Gabriela Roel, Marcus Ornellas",
         "Mexico",
         "September 22, 2021",
         "2020",
         "TV-MA",
         "2 Seasons",
         "Crime TV Shows, Spanish-Language TV Shows, TV Dramas",
         "Strangers Diego and Isabel flee their home in Mexico and pretend to be a married couple to escape his drug-dealing enemies and her abusive husband."
        ],
        [
         "18",
         "s19",
         "Movie",
         "Intrusion",
         "Adam Salky",
         "Freida Pinto, Logan Marshall-Green, Robert John Burke, Megan Elisabeth Kelly, Sarah Minnich, Hayes Hargrove, Mark Sivertsen, Brandon Fierro, Antonio Valles, Clint Obenchain",
         null,
         "September 22, 2021",
         "2021",
         "TV-14",
         "94 min",
         "Thrillers",
         "After a deadly home invasion at a couple’s new dream house, the traumatized wife searches for answers — and learns the real danger is just beginning."
        ],
        [
         "19",
         "s20",
         "TV Show",
         "Jaguar",
         null,
         "Blanca Suárez, Iván Marcos, Óscar Casas, Adrián Lastra, Francesc Garrido, Stefan Weinert, Julia Möller, Alicia Chojnowski",
         null,
         "September 22, 2021",
         "2021",
         "TV-MA",
         "1 Season",
         "International TV Shows, Spanish-Language TV Shows, TV Action & Adventure",
         "In the 1960s, a Holocaust survivor joins a group of self-trained spies who seek justice against Nazis fleeing to Spain to hide after WWII."
        ],
        [
         "20",
         "s21",
         "TV Show",
         "Monsters Inside: The 24 Faces of Billy Milligan",
         "Olivier Megaton",
         null,
         null,
         "September 22, 2021",
         "2021",
         "TV-14",
         "1 Season",
         "Crime TV Shows, Docuseries, International TV Shows",
         "In the late 1970s, an accused serial rapist claims multiple personalities control his behavior, setting off a legal odyssey that captivates America."
        ],
        [
         "21",
         "s22",
         "TV Show",
         "Resurrection: Ertugrul",
         null,
         "Engin Altan Düzyatan, Serdar Gökhan, Hülya Darcan, Kaan Taşaner, Esra Bilgiç, Osman Soykut, Serdar Deniz, Cengiz Coşkun, Reshad Strik, Hande Subaşı",
         "Turkey",
         "September 22, 2021",
         "2018",
         "TV-14",
         "5 Seasons",
         "International TV Shows, TV Action & Adventure, TV Dramas",
         "When a good deed unwittingly endangers his clan, a 13th-century Turkish warrior agrees to fight a sultan's enemies in exchange for new tribal land."
        ],
        [
         "22",
         "s23",
         "Movie",
         "Avvai Shanmughi",
         "K.S. Ravikumar",
         "Kamal Hassan, Meena, Gemini Ganesan, Heera Rajgopal, Nassar, S.P. Balasubrahmanyam",
         null,
         "September 21, 2021",
         "1996",
         "TV-PG",
         "161 min",
         "Comedies, International Movies",
         "Newly divorced and denied visitation rights with his daughter, a doting father disguises himself as a gray-haired nanny in order to spend time with her."
        ],
        [
         "23",
         "s24",
         "Movie",
         "Go! Go! Cory Carson: Chrissy Takes the Wheel",
         "Alex Woo, Stanley Moore",
         "Maisie Benson, Paul Killam, Kerry Gudjohnsen, AC Lim",
         null,
         "September 21, 2021",
         "2021",
         "TV-Y",
         "61 min",
         "Children & Family Movies",
         "From arcade games to sled days and hiccup cures, Cory Carson’s curious little sister Chrissy speeds off on her own for fun and adventure all over town!"
        ],
        [
         "24",
         "s25",
         "Movie",
         "Jeans",
         "S. Shankar",
         "Prashanth, Aishwarya Rai Bachchan, Sri Lakshmi, Nassar",
         "India",
         "September 21, 2021",
         "1998",
         "TV-14",
         "166 min",
         "Comedies, International Movies, Romantic Movies",
         "When the father of the man she loves insists that his twin sons marry twin sisters, a woman creates an alter ego that might be a bit too convincing."
        ],
        [
         "25",
         "s26",
         "TV Show",
         "Love on the Spectrum",
         null,
         "Brooke Satchwell",
         "Australia",
         "September 21, 2021",
         "2021",
         "TV-14",
         "2 Seasons",
         "Docuseries, International TV Shows, Reality TV",
         "Finding love can be hard for anyone. For young adults on the autism spectrum, exploring the unpredictable world of dating is even more complicated."
        ],
        [
         "26",
         "s27",
         "Movie",
         "Minsara Kanavu",
         "Rajiv Menon",
         "Arvind Swamy, Kajol, Prabhu Deva, Nassar, S.P. Balasubrahmanyam, Girish Karnad",
         null,
         "September 21, 2021",
         "1997",
         "TV-PG",
         "147 min",
         "Comedies, International Movies, Music & Musicals",
         "A tangled love triangle ensues when a man falls for a woman studying to become a nun — and she falls for the friend he enlists to help him pursue her."
        ],
        [
         "27",
         "s28",
         "Movie",
         "Grown Ups",
         "Dennis Dugan",
         "Adam Sandler, Kevin James, Chris Rock, David Spade, Rob Schneider, Salma Hayek, Maria Bello, Maya Rudolph, Colin Quinn, Tim Meadows, Joyce Van Patten",
         "United States",
         "September 20, 2021",
         "2010",
         "PG-13",
         "103 min",
         "Comedies",
         "Mourning the loss of their beloved junior high basketball coach, five middle-aged pals reunite at a lake house and rediscover the joys of being a kid."
        ],
        [
         "28",
         "s29",
         "Movie",
         "Dark Skies",
         "Scott Stewart",
         "Keri Russell, Josh Hamilton, J.K. Simmons, Dakota Goyo, Kadan Rockett, L.J. Benet, Rich Hutchman, Myndy Crist, Annie Thurman, Jake Brennan",
         "United States",
         "September 19, 2021",
         "2013",
         "PG-13",
         "97 min",
         "Horror Movies, Sci-Fi & Fantasy",
         "A family’s idyllic suburban life shatters when an alien force invades their home, and as they struggle to convince others of the deadly threat."
        ],
        [
         "29",
         "s30",
         "Movie",
         "Paranoia",
         "Robert Luketic",
         "Liam Hemsworth, Gary Oldman, Amber Heard, Harrison Ford, Lucas Till, Embeth Davidtz, Julian McMahon, Josh Holloway, Richard Dreyfuss, Angela Sarafyan",
         "United States, India, France",
         "September 19, 2021",
         "2013",
         "PG-13",
         "106 min",
         "Thrillers",
         "Blackmailed by his company's CEO, a low-level employee finds himself forced to spy on the boss's rival and former mentor."
        ],
        [
         "30",
         "s31",
         "Movie",
         "Ankahi Kahaniya",
         "Ashwiny Iyer Tiwari, Abhishek Chaubey, Saket Chaudhary",
         "Abhishek Banerjee, Rinku Rajguru, Delzad Hiwale, Kunal Kapoor, Zoya Hussain, Nikhil Dwivedi, Palomi Ghosh",
         null,
         "September 17, 2021",
         "2021",
         "TV-14",
         "111 min",
         "Dramas, Independent Movies, International Movies",
         "As big city life buzzes around them, lonely souls discover surprising sources of connection and companionship in three tales of love, loss and longing."
        ],
        [
         "31",
         "s32",
         "TV Show",
         "Chicago Party Aunt",
         null,
         "Lauren Ash, Rory O'Malley, RuPaul Charles, Jill Talley, Ike Barinholtz, Jon Barinholtz, Matthew Craig, Bob Odenkirk, Mike Hagerty, Katie Rich, Chris Witaske",
         null,
         "September 17, 2021",
         "2021",
         "TV-MA",
         "1 Season",
         "TV Comedies",
         "Chicago Party Aunt Diane is an idolized troublemaker with a talent for avoiding adulthood — and a soft spot for her soul-searching nephew."
        ],
        [
         "32",
         "s33",
         "TV Show",
         "Sex Education",
         null,
         "Asa Butterfield, Gillian Anderson, Ncuti Gatwa, Emma Mackey, Connor Swindells, Kedar Williams-Stirling, Alistair Petrie",
         "United Kingdom",
         "September 17, 2021",
         "2020",
         "TV-MA",
         "3 Seasons",
         "British TV Shows, International TV Shows, TV Comedies",
         "Insecure Otis has all the answers when it comes to sex advice, thanks to his therapist mom. So rebel Maeve proposes a school sex-therapy clinic."
        ],
        [
         "33",
         "s34",
         "TV Show",
         "Squid Game",
         null,
         "Lee Jung-jae, Park Hae-soo, Wi Ha-jun, Oh Young-soo, Jung Ho-yeon, Heo Sung-tae, Kim Joo-ryoung, Tripathi Anupam, You Seong-joo, Lee You-mi",
         null,
         "September 17, 2021",
         "2021",
         "TV-MA",
         "1 Season",
         "International TV Shows, TV Dramas, TV Thrillers",
         "Hundreds of cash-strapped players accept a strange invitation to compete in children's games. Inside, a tempting prize awaits — with deadly high stakes."
        ],
        [
         "34",
         "s35",
         "TV Show",
         "Tayo and Little Wizards",
         null,
         "Dami Lee, Jason Lee, Bommie Catherine Han, Jennifer Waescher, Nancy Kim",
         null,
         "September 17, 2021",
         "2020",
         "TV-Y7",
         "1 Season",
         "Kids' TV",
         "Tayo speeds into an adventure when his friends get kidnapped by evil magicians invading their city in search of a magical gemstone."
        ],
        [
         "35",
         "s36",
         "Movie",
         "The Father Who Moves Mountains",
         "Daniel Sandu",
         "Adrian Titieni, Elena Purea, Judith State, Valeriu Andriuță, Tudor Smoleanu, Virgil Aioanei, Radu Botar, Petronela Grigorescu, Bogdan Nechifor, Cristian Bota",
         null,
         "September 17, 2021",
         "2021",
         "TV-MA",
         "110 min",
         "Dramas, International Movies, Thrillers",
         "When his son goes missing during a snowy hike in the mountains, a retired intelligence officer will stop at nothing — and risk everything — to find him."
        ],
        [
         "36",
         "s37",
         "Movie",
         "The Stronghold",
         "Cédric Jimenez",
         "Gilles Lellouche, Karim Leklou, François Civil, Adèle Exarchopoulos, Kenza Fortas, Cyril Lecomte, Michaël Abiteboul, Idir Azougli, Vincent Darmuzey, Jean-Yves Berteloot",
         null,
         "September 17, 2021",
         "2021",
         "TV-MA",
         "105 min",
         "Action & Adventure, Dramas, International Movies",
         "Tired of the small-time grind, three Marseille cops get a chance to bust a major drug network. But lines blur when a key informant makes a big ask."
        ],
        [
         "37",
         "s38",
         "TV Show",
         "Angry Birds",
         null,
         "Antti Pääkkönen, Heljä Heikkinen, Lynne Guaglione, Pasi Ruohonen, Rauno Ahonen",
         "Finland",
         "September 16, 2021",
         "2018",
         "TV-Y7",
         "1 Season",
         "Kids' TV, TV Comedies",
         "Birds Red, Chuck and their feathered friends have lots of adventures while guarding eggs in their nest that pesky pigs keep trying to steal."
        ],
        [
         "38",
         "s39",
         "Movie",
         "Birth of the Dragon",
         "George Nolfi",
         "Billy Magnussen, Ron Yuan, Qu Jingjing, Terry Chen, Vanness Wu, Jin Xing, Philip Ng, Xia Yu, Yu Xia",
         "China, Canada, United States",
         "September 16, 2021",
         "2017",
         "PG-13",
         "96 min",
         "Action & Adventure, Dramas",
         "A young Bruce Lee angers kung fu traditionalists by teaching outsiders, leading to a showdown with a Shaolin master in this film based on real events."
        ],
        [
         "39",
         "s40",
         "TV Show",
         "Chhota Bheem",
         null,
         "Vatsal Dubey, Julie Tejwani, Rupa Bhimani, Jigna Bhardwaj, Rajesh Kava, Mousam, Swapnil",
         "India",
         "September 16, 2021",
         "2021",
         "TV-Y7",
         "3 Seasons",
         "Kids' TV",
         "A brave, energetic little boy with superhuman powers leads his friends on exciting adventures to guard their fellow Dholakpur villagers from evil."
        ],
        [
         "40",
         "s41",
         "TV Show",
         "He-Man and the Masters of the Universe",
         null,
         "Yuri Lowenthal, Kimberly Brooks, Antony Del Rio, Trevor Devall, Ben Diskin, Grey Griffin, David Kaye, Tom Kenny, Judy Alice Lee, Roger Craig Smith, Fred Tatasciore",
         "United States",
         "September 16, 2021",
         "2021",
         "TV-Y7",
         "1 Season",
         "Kids' TV, TV Sci-Fi & Fantasy",
         "Mighty teen Adam and his heroic squad of misfits discover the legendary power of Grayskull — and their destiny to defend Eternia from sinister Skeletor."
        ],
        [
         "41",
         "s42",
         "Movie",
         "Jaws",
         "Steven Spielberg",
         "Roy Scheider, Robert Shaw, Richard Dreyfuss, Lorraine Gary, Murray Hamilton, Carl Gottlieb, Jeffrey Kramer, Susan Backlinie, Jonathan Filley, Ted Grossman",
         "United States",
         "September 16, 2021",
         "1975",
         "PG",
         "124 min",
         "Action & Adventure, Classic Movies, Dramas",
         "When an insatiable great white shark terrorizes Amity Island, a police chief, an oceanographer and a grizzled shark hunter seek to destroy the beast."
        ],
        [
         "42",
         "s43",
         "Movie",
         "Jaws 2",
         "Jeannot Szwarc",
         "Roy Scheider, Lorraine Gary, Murray Hamilton, Joseph Mascolo, Jeffrey Kramer, Collin Wilcox Paxton, Ann Dusenberry, Mark Gruner, Barry Coe, Susan French",
         "United States",
         "September 16, 2021",
         "1978",
         "PG",
         "116 min",
         "Dramas, Horror Movies, Thrillers",
         "Four years after the last deadly shark attacks, police chief Martin Brody fights to protect Amity Island from another killer great white."
        ],
        [
         "43",
         "s44",
         "Movie",
         "Jaws 3",
         "Joe Alves",
         "Dennis Quaid, Bess Armstrong, Simon MacCorkindale, Louis Gossett Jr., John Putch, Lea Thompson, P.H. Moriarty, Dan Blasko, Liz Morris, Lisa Maurer",
         "United States",
         "September 16, 2021",
         "1983",
         "PG",
         "98 min",
         "Action & Adventure, Horror Movies, Thrillers",
         "After the staff of a marine theme park try to capture a young great white shark, they discover its mother has invaded the enclosure and is out for blood."
        ],
        [
         "44",
         "s45",
         "Movie",
         "Jaws: The Revenge",
         "Joseph Sargent",
         "Lorraine Gary, Lance Guest, Mario Van Peebles, Karen Young, Michael Caine, Judith Barsi, Mitchell Anderson, Lynn Whitfield",
         "United States",
         "September 16, 2021",
         "1987",
         "PG-13",
         "91 min",
         "Action & Adventure, Horror Movies, Thrillers",
         "After another deadly shark attack, Ellen Brody has had enough of Amity Island and moves to the Caribbean – but a great white shark follows her there."
        ],
        [
         "45",
         "s46",
         "Movie",
         "My Heroes Were Cowboys",
         "Tyler Greco",
         null,
         null,
         "September 16, 2021",
         "2021",
         "PG",
         "23 min",
         "Documentaries",
         "Robin Wiltshire's painful childhood was rescued by Westerns. Now he lives on the frontier of his dreams, training the horses he loves for the big screen."
        ],
        [
         "46",
         "s47",
         "Movie",
         "Safe House",
         "Daniel Espinosa",
         "Denzel Washington, Ryan Reynolds, Vera Farmiga, Brendan Gleeson, Sam Shepard, Rubén Blades, Nora Arnezeder, Robert Patrick, Liam Cunningham, Joel Kinnaman",
         "South Africa, United States, Japan",
         "September 16, 2021",
         "2012",
         "R",
         "115 min",
         "Action & Adventure",
         "Young CIA operative Matt Weston must get a dangerous criminal out of an agency safe house that's come under attack and get him to a securer location."
        ],
        [
         "47",
         "s48",
         "TV Show",
         "The Smart Money Woman",
         "Bunmi Ajakaiye",
         "Osas Ighodaro, Ini Dima-Okojie, Kemi Lala Akindoju, Toni Tones, Ebenezer Eno, Eso Okolocha DIke, Patrick Diabuah, Karibi Fubara, Temisan Emmanuel, Timini Egbuson",
         null,
         "September 16, 2021",
         "2020",
         "TV-MA",
         "1 Season",
         "International TV Shows, Romantic TV Shows, TV Comedies",
         "Five glamorous millennials strive for success as they juggle careers, finances, love and friendships. Based on Arese Ugwu's 2016 best-selling novel."
        ],
        [
         "48",
         "s49",
         "Movie",
         "Training Day",
         "Antoine Fuqua",
         "Denzel Washington, Ethan Hawke, Scott Glenn, Tom Berenger, Harris Yulin, Raymond J. Barry, Cliff Curtis, Dr. Dre, Snoop Dogg, Macy Gray, Eva Mendes",
         "United States",
         "September 16, 2021",
         "2001",
         "R",
         "122 min",
         "Dramas, Thrillers",
         "A rookie cop with one day to prove himself to a veteran LAPD narcotics officer receives a crash course in his mentor's questionable brand of justice."
        ],
        [
         "49",
         "s50",
         "TV Show",
         "Castle and Castle",
         null,
         "Richard Mofe-Damijo, Dakore Akande, Bimbo Manuel, Blossom Chukwujekwu, Deyemi Okanlawon, Etim Effiong, Denola Grey, Duke Akintola, Eku Edewor, Ade Laoye, Anee Icha, Kevin Ushi, Jude Chukwuka, Amanda Afolabi",
         "Nigeria",
         "September 15, 2021",
         "2021",
         "TV-MA",
         "2 Seasons",
         "International TV Shows, TV Dramas",
         "A pair of high-powered, successful lawyers find themselves defending opposite interests of the justice system, causing a strain on their happy marriage."
        ]
       ],
       "shape": {
        "columns": 12,
        "rows": 8807
       }
      },
      "text/html": [
       "<div>\n",
       "<style scoped>\n",
       "    .dataframe tbody tr th:only-of-type {\n",
       "        vertical-align: middle;\n",
       "    }\n",
       "\n",
       "    .dataframe tbody tr th {\n",
       "        vertical-align: top;\n",
       "    }\n",
       "\n",
       "    .dataframe thead th {\n",
       "        text-align: right;\n",
       "    }\n",
       "</style>\n",
       "<table border=\"1\" class=\"dataframe\">\n",
       "  <thead>\n",
       "    <tr style=\"text-align: right;\">\n",
       "      <th></th>\n",
       "      <th>show_id</th>\n",
       "      <th>type</th>\n",
       "      <th>title</th>\n",
       "      <th>director</th>\n",
       "      <th>cast</th>\n",
       "      <th>country</th>\n",
       "      <th>date_added</th>\n",
       "      <th>release_year</th>\n",
       "      <th>rating</th>\n",
       "      <th>duration</th>\n",
       "      <th>listed_in</th>\n",
       "      <th>description</th>\n",
       "    </tr>\n",
       "  </thead>\n",
       "  <tbody>\n",
       "    <tr>\n",
       "      <th>0</th>\n",
       "      <td>s1</td>\n",
       "      <td>Movie</td>\n",
       "      <td>Dick Johnson Is Dead</td>\n",
       "      <td>Kirsten Johnson</td>\n",
       "      <td>NaN</td>\n",
       "      <td>United States</td>\n",
       "      <td>September 25, 2021</td>\n",
       "      <td>2020</td>\n",
       "      <td>PG-13</td>\n",
       "      <td>90 min</td>\n",
       "      <td>Documentaries</td>\n",
       "      <td>As her father nears the end of his life, filmm...</td>\n",
       "    </tr>\n",
       "    <tr>\n",
       "      <th>1</th>\n",
       "      <td>s2</td>\n",
       "      <td>TV Show</td>\n",
       "      <td>Blood &amp; Water</td>\n",
       "      <td>NaN</td>\n",
       "      <td>Ama Qamata, Khosi Ngema, Gail Mabalane, Thaban...</td>\n",
       "      <td>South Africa</td>\n",
       "      <td>September 24, 2021</td>\n",
       "      <td>2021</td>\n",
       "      <td>TV-MA</td>\n",
       "      <td>2 Seasons</td>\n",
       "      <td>International TV Shows, TV Dramas, TV Mysteries</td>\n",
       "      <td>After crossing paths at a party, a Cape Town t...</td>\n",
       "    </tr>\n",
       "    <tr>\n",
       "      <th>2</th>\n",
       "      <td>s3</td>\n",
       "      <td>TV Show</td>\n",
       "      <td>Ganglands</td>\n",
       "      <td>Julien Leclercq</td>\n",
       "      <td>Sami Bouajila, Tracy Gotoas, Samuel Jouy, Nabi...</td>\n",
       "      <td>NaN</td>\n",
       "      <td>September 24, 2021</td>\n",
       "      <td>2021</td>\n",
       "      <td>TV-MA</td>\n",
       "      <td>1 Season</td>\n",
       "      <td>Crime TV Shows, International TV Shows, TV Act...</td>\n",
       "      <td>To protect his family from a powerful drug lor...</td>\n",
       "    </tr>\n",
       "    <tr>\n",
       "      <th>3</th>\n",
       "      <td>s4</td>\n",
       "      <td>TV Show</td>\n",
       "      <td>Jailbirds New Orleans</td>\n",
       "      <td>NaN</td>\n",
       "      <td>NaN</td>\n",
       "      <td>NaN</td>\n",
       "      <td>September 24, 2021</td>\n",
       "      <td>2021</td>\n",
       "      <td>TV-MA</td>\n",
       "      <td>1 Season</td>\n",
       "      <td>Docuseries, Reality TV</td>\n",
       "      <td>Feuds, flirtations and toilet talk go down amo...</td>\n",
       "    </tr>\n",
       "    <tr>\n",
       "      <th>4</th>\n",
       "      <td>s5</td>\n",
       "      <td>TV Show</td>\n",
       "      <td>Kota Factory</td>\n",
       "      <td>NaN</td>\n",
       "      <td>Mayur More, Jitendra Kumar, Ranjan Raj, Alam K...</td>\n",
       "      <td>India</td>\n",
       "      <td>September 24, 2021</td>\n",
       "      <td>2021</td>\n",
       "      <td>TV-MA</td>\n",
       "      <td>2 Seasons</td>\n",
       "      <td>International TV Shows, Romantic TV Shows, TV ...</td>\n",
       "      <td>In a city of coaching centers known to train I...</td>\n",
       "    </tr>\n",
       "    <tr>\n",
       "      <th>...</th>\n",
       "      <td>...</td>\n",
       "      <td>...</td>\n",
       "      <td>...</td>\n",
       "      <td>...</td>\n",
       "      <td>...</td>\n",
       "      <td>...</td>\n",
       "      <td>...</td>\n",
       "      <td>...</td>\n",
       "      <td>...</td>\n",
       "      <td>...</td>\n",
       "      <td>...</td>\n",
       "      <td>...</td>\n",
       "    </tr>\n",
       "    <tr>\n",
       "      <th>8802</th>\n",
       "      <td>s8803</td>\n",
       "      <td>Movie</td>\n",
       "      <td>Zodiac</td>\n",
       "      <td>David Fincher</td>\n",
       "      <td>Mark Ruffalo, Jake Gyllenhaal, Robert Downey J...</td>\n",
       "      <td>United States</td>\n",
       "      <td>November 20, 2019</td>\n",
       "      <td>2007</td>\n",
       "      <td>R</td>\n",
       "      <td>158 min</td>\n",
       "      <td>Cult Movies, Dramas, Thrillers</td>\n",
       "      <td>A political cartoonist, a crime reporter and a...</td>\n",
       "    </tr>\n",
       "    <tr>\n",
       "      <th>8803</th>\n",
       "      <td>s8804</td>\n",
       "      <td>TV Show</td>\n",
       "      <td>Zombie Dumb</td>\n",
       "      <td>NaN</td>\n",
       "      <td>NaN</td>\n",
       "      <td>NaN</td>\n",
       "      <td>July 1, 2019</td>\n",
       "      <td>2018</td>\n",
       "      <td>TV-Y7</td>\n",
       "      <td>2 Seasons</td>\n",
       "      <td>Kids' TV, Korean TV Shows, TV Comedies</td>\n",
       "      <td>While living alone in a spooky town, a young g...</td>\n",
       "    </tr>\n",
       "    <tr>\n",
       "      <th>8804</th>\n",
       "      <td>s8805</td>\n",
       "      <td>Movie</td>\n",
       "      <td>Zombieland</td>\n",
       "      <td>Ruben Fleischer</td>\n",
       "      <td>Jesse Eisenberg, Woody Harrelson, Emma Stone, ...</td>\n",
       "      <td>United States</td>\n",
       "      <td>November 1, 2019</td>\n",
       "      <td>2009</td>\n",
       "      <td>R</td>\n",
       "      <td>88 min</td>\n",
       "      <td>Comedies, Horror Movies</td>\n",
       "      <td>Looking to survive in a world taken over by zo...</td>\n",
       "    </tr>\n",
       "    <tr>\n",
       "      <th>8805</th>\n",
       "      <td>s8806</td>\n",
       "      <td>Movie</td>\n",
       "      <td>Zoom</td>\n",
       "      <td>Peter Hewitt</td>\n",
       "      <td>Tim Allen, Courteney Cox, Chevy Chase, Kate Ma...</td>\n",
       "      <td>United States</td>\n",
       "      <td>January 11, 2020</td>\n",
       "      <td>2006</td>\n",
       "      <td>PG</td>\n",
       "      <td>88 min</td>\n",
       "      <td>Children &amp; Family Movies, Comedies</td>\n",
       "      <td>Dragged from civilian life, a former superhero...</td>\n",
       "    </tr>\n",
       "    <tr>\n",
       "      <th>8806</th>\n",
       "      <td>s8807</td>\n",
       "      <td>Movie</td>\n",
       "      <td>Zubaan</td>\n",
       "      <td>Mozez Singh</td>\n",
       "      <td>Vicky Kaushal, Sarah-Jane Dias, Raaghav Chanan...</td>\n",
       "      <td>India</td>\n",
       "      <td>March 2, 2019</td>\n",
       "      <td>2015</td>\n",
       "      <td>TV-14</td>\n",
       "      <td>111 min</td>\n",
       "      <td>Dramas, International Movies, Music &amp; Musicals</td>\n",
       "      <td>A scrappy but poor boy worms his way into a ty...</td>\n",
       "    </tr>\n",
       "  </tbody>\n",
       "</table>\n",
       "<p>8807 rows × 12 columns</p>\n",
       "</div>"
      ],
      "text/plain": [
       "     show_id     type                  title         director  \\\n",
       "0         s1    Movie   Dick Johnson Is Dead  Kirsten Johnson   \n",
       "1         s2  TV Show          Blood & Water              NaN   \n",
       "2         s3  TV Show              Ganglands  Julien Leclercq   \n",
       "3         s4  TV Show  Jailbirds New Orleans              NaN   \n",
       "4         s5  TV Show           Kota Factory              NaN   \n",
       "...      ...      ...                    ...              ...   \n",
       "8802   s8803    Movie                 Zodiac    David Fincher   \n",
       "8803   s8804  TV Show            Zombie Dumb              NaN   \n",
       "8804   s8805    Movie             Zombieland  Ruben Fleischer   \n",
       "8805   s8806    Movie                   Zoom     Peter Hewitt   \n",
       "8806   s8807    Movie                 Zubaan      Mozez Singh   \n",
       "\n",
       "                                                   cast        country  \\\n",
       "0                                                   NaN  United States   \n",
       "1     Ama Qamata, Khosi Ngema, Gail Mabalane, Thaban...   South Africa   \n",
       "2     Sami Bouajila, Tracy Gotoas, Samuel Jouy, Nabi...            NaN   \n",
       "3                                                   NaN            NaN   \n",
       "4     Mayur More, Jitendra Kumar, Ranjan Raj, Alam K...          India   \n",
       "...                                                 ...            ...   \n",
       "8802  Mark Ruffalo, Jake Gyllenhaal, Robert Downey J...  United States   \n",
       "8803                                                NaN            NaN   \n",
       "8804  Jesse Eisenberg, Woody Harrelson, Emma Stone, ...  United States   \n",
       "8805  Tim Allen, Courteney Cox, Chevy Chase, Kate Ma...  United States   \n",
       "8806  Vicky Kaushal, Sarah-Jane Dias, Raaghav Chanan...          India   \n",
       "\n",
       "              date_added  release_year rating   duration  \\\n",
       "0     September 25, 2021          2020  PG-13     90 min   \n",
       "1     September 24, 2021          2021  TV-MA  2 Seasons   \n",
       "2     September 24, 2021          2021  TV-MA   1 Season   \n",
       "3     September 24, 2021          2021  TV-MA   1 Season   \n",
       "4     September 24, 2021          2021  TV-MA  2 Seasons   \n",
       "...                  ...           ...    ...        ...   \n",
       "8802   November 20, 2019          2007      R    158 min   \n",
       "8803        July 1, 2019          2018  TV-Y7  2 Seasons   \n",
       "8804    November 1, 2019          2009      R     88 min   \n",
       "8805    January 11, 2020          2006     PG     88 min   \n",
       "8806       March 2, 2019          2015  TV-14    111 min   \n",
       "\n",
       "                                              listed_in  \\\n",
       "0                                         Documentaries   \n",
       "1       International TV Shows, TV Dramas, TV Mysteries   \n",
       "2     Crime TV Shows, International TV Shows, TV Act...   \n",
       "3                                Docuseries, Reality TV   \n",
       "4     International TV Shows, Romantic TV Shows, TV ...   \n",
       "...                                                 ...   \n",
       "8802                     Cult Movies, Dramas, Thrillers   \n",
       "8803             Kids' TV, Korean TV Shows, TV Comedies   \n",
       "8804                            Comedies, Horror Movies   \n",
       "8805                 Children & Family Movies, Comedies   \n",
       "8806     Dramas, International Movies, Music & Musicals   \n",
       "\n",
       "                                            description  \n",
       "0     As her father nears the end of his life, filmm...  \n",
       "1     After crossing paths at a party, a Cape Town t...  \n",
       "2     To protect his family from a powerful drug lor...  \n",
       "3     Feuds, flirtations and toilet talk go down amo...  \n",
       "4     In a city of coaching centers known to train I...  \n",
       "...                                                 ...  \n",
       "8802  A political cartoonist, a crime reporter and a...  \n",
       "8803  While living alone in a spooky town, a young g...  \n",
       "8804  Looking to survive in a world taken over by zo...  \n",
       "8805  Dragged from civilian life, a former superhero...  \n",
       "8806  A scrappy but poor boy worms his way into a ty...  \n",
       "\n",
       "[8807 rows x 12 columns]"
      ]
     },
     "execution_count": 52,
     "metadata": {},
     "output_type": "execute_result"
    }
   ],
   "source": [
    "# read csv file\n",
    "df_netflix = pd.read_csv('netflix_titles.csv')\n",
    "df_netflix"
   ]
  },
  {
   "cell_type": "code",
   "execution_count": 53,
   "metadata": {},
   "outputs": [
    {
     "data": {
      "application/vnd.microsoft.datawrangler.viewer.v0+json": {
       "columns": [
        {
         "name": "index",
         "rawType": "object",
         "type": "string"
        },
        {
         "name": "0",
         "rawType": "object",
         "type": "unknown"
        }
       ],
       "ref": "4eb9c3fe-b958-4734-a0b4-a99bf77d58be",
       "rows": [
        [
         "show_id",
         "object"
        ],
        [
         "type",
         "object"
        ],
        [
         "title",
         "object"
        ],
        [
         "director",
         "object"
        ],
        [
         "cast",
         "object"
        ],
        [
         "country",
         "object"
        ],
        [
         "date_added",
         "object"
        ],
        [
         "release_year",
         "int64"
        ],
        [
         "rating",
         "object"
        ],
        [
         "duration",
         "object"
        ],
        [
         "listed_in",
         "object"
        ],
        [
         "description",
         "object"
        ]
       ],
       "shape": {
        "columns": 1,
        "rows": 12
       }
      },
      "text/plain": [
       "show_id         object\n",
       "type            object\n",
       "title           object\n",
       "director        object\n",
       "cast            object\n",
       "country         object\n",
       "date_added      object\n",
       "release_year     int64\n",
       "rating          object\n",
       "duration        object\n",
       "listed_in       object\n",
       "description     object\n",
       "dtype: object"
      ]
     },
     "execution_count": 53,
     "metadata": {},
     "output_type": "execute_result"
    }
   ],
   "source": [
    "# data types\n",
    "df_netflix.dtypes"
   ]
  },
  {
   "cell_type": "code",
   "execution_count": 54,
   "metadata": {},
   "outputs": [
    {
     "data": {
      "text/plain": [
       "(8807, 12)"
      ]
     },
     "execution_count": 54,
     "metadata": {},
     "output_type": "execute_result"
    }
   ],
   "source": [
    "# shape of dataframe\n",
    "df_netflix.shape"
   ]
  },
  {
   "cell_type": "markdown",
   "metadata": {},
   "source": [
    "# Identifying Missing Data"
   ]
  },
  {
   "cell_type": "code",
   "execution_count": 55,
   "metadata": {},
   "outputs": [
    {
     "data": {
      "application/vnd.microsoft.datawrangler.viewer.v0+json": {
       "columns": [
        {
         "name": "index",
         "rawType": "object",
         "type": "string"
        },
        {
         "name": "0",
         "rawType": "int64",
         "type": "integer"
        }
       ],
       "ref": "870d0593-d004-4e99-a390-18a200f3b8a7",
       "rows": [
        [
         "director",
         "2634"
        ],
        [
         "country",
         "831"
        ],
        [
         "cast",
         "825"
        ],
        [
         "date_added",
         "10"
        ],
        [
         "rating",
         "4"
        ],
        [
         "duration",
         "3"
        ],
        [
         "show_id",
         "0"
        ],
        [
         "type",
         "0"
        ],
        [
         "title",
         "0"
        ],
        [
         "release_year",
         "0"
        ],
        [
         "listed_in",
         "0"
        ],
        [
         "description",
         "0"
        ]
       ],
       "shape": {
        "columns": 1,
        "rows": 12
       }
      },
      "text/plain": [
       "director        2634\n",
       "country          831\n",
       "cast             825\n",
       "date_added        10\n",
       "rating             4\n",
       "duration           3\n",
       "show_id            0\n",
       "type               0\n",
       "title              0\n",
       "release_year       0\n",
       "listed_in          0\n",
       "description        0\n",
       "dtype: int64"
      ]
     },
     "execution_count": 55,
     "metadata": {},
     "output_type": "execute_result"
    }
   ],
   "source": [
    "# number of rows missing in each column\n",
    "df_netflix.isnull().sum().sort_values(ascending=False)"
   ]
  },
  {
   "cell_type": "code",
   "execution_count": 56,
   "metadata": {},
   "outputs": [
    {
     "name": "stdout",
     "output_type": "stream",
     "text": [
      "show_id : 0.0\n",
      "type : 0.0\n",
      "title : 0.0\n",
      "director : 29.91\n",
      "cast : 9.37\n",
      "country : 9.44\n",
      "date_added : 0.11\n",
      "release_year : 0.0\n",
      "rating : 0.05\n",
      "duration : 0.03\n",
      "listed_in : 0.0\n",
      "description : 0.0\n"
     ]
    }
   ],
   "source": [
    "# % of rows missing in each column\n",
    "for column in df_netflix.columns:\n",
    "    percentage = df_netflix[column].isnull().mean()\n",
    "    print(f'{column} : {str(round(percentage*100,2))}')"
   ]
  },
  {
   "cell_type": "markdown",
   "metadata": {},
   "source": [
    "# Dealing with missing data"
   ]
  },
  {
   "cell_type": "code",
   "execution_count": 57,
   "metadata": {},
   "outputs": [
    {
     "data": {
      "application/vnd.microsoft.datawrangler.viewer.v0+json": {
       "columns": [
        {
         "name": "index",
         "rawType": "int64",
         "type": "integer"
        },
        {
         "name": "show_id",
         "rawType": "object",
         "type": "string"
        },
        {
         "name": "type",
         "rawType": "object",
         "type": "string"
        },
        {
         "name": "title",
         "rawType": "object",
         "type": "string"
        },
        {
         "name": "director",
         "rawType": "object",
         "type": "string"
        },
        {
         "name": "cast",
         "rawType": "object",
         "type": "unknown"
        },
        {
         "name": "country",
         "rawType": "object",
         "type": "unknown"
        },
        {
         "name": "date_added",
         "rawType": "object",
         "type": "string"
        },
        {
         "name": "release_year",
         "rawType": "int64",
         "type": "integer"
        },
        {
         "name": "rating",
         "rawType": "object",
         "type": "unknown"
        },
        {
         "name": "duration",
         "rawType": "object",
         "type": "unknown"
        },
        {
         "name": "listed_in",
         "rawType": "object",
         "type": "string"
        },
        {
         "name": "description",
         "rawType": "object",
         "type": "string"
        }
       ],
       "ref": "e31de61b-e7fc-4e7d-8f80-6524c3d7ef78",
       "rows": [
        [
         "0",
         "s1",
         "Movie",
         "Dick Johnson Is Dead",
         "Kirsten Johnson",
         null,
         "United States",
         "September 25, 2021",
         "2020",
         "PG-13",
         "90 min",
         "Documentaries",
         "As her father nears the end of his life, filmmaker Kirsten Johnson stages his death in inventive and comical ways to help them both face the inevitable."
        ],
        [
         "2",
         "s3",
         "TV Show",
         "Ganglands",
         "Julien Leclercq",
         "Sami Bouajila, Tracy Gotoas, Samuel Jouy, Nabiha Akkari, Sofia Lesaffre, Salim Kechiouche, Noureddine Farihi, Geert Van Rampelberg, Bakary Diombera",
         null,
         "September 24, 2021",
         "2021",
         "TV-MA",
         "1 Season",
         "Crime TV Shows, International TV Shows, TV Action & Adventure",
         "To protect his family from a powerful drug lord, skilled thief Mehdi and his expert team of robbers are pulled into a violent and deadly turf war."
        ],
        [
         "5",
         "s6",
         "TV Show",
         "Midnight Mass",
         "Mike Flanagan",
         "Kate Siegel, Zach Gilford, Hamish Linklater, Henry Thomas, Kristin Lehman, Samantha Sloyan, Igby Rigney, Rahul Kohli, Annarah Cymone, Annabeth Gish, Alex Essoe, Rahul Abburi, Matt Biedel, Michael Trucco, Crystal Balint, Louis Oliver",
         null,
         "September 24, 2021",
         "2021",
         "TV-MA",
         "1 Season",
         "TV Dramas, TV Horror, TV Mysteries",
         "The arrival of a charismatic young priest brings glorious miracles, ominous mysteries and renewed religious fervor to a dying town desperate to believe."
        ],
        [
         "6",
         "s7",
         "Movie",
         "My Little Pony: A New Generation",
         "Robert Cullen, José Luis Ucha",
         "Vanessa Hudgens, Kimiko Glenn, James Marsden, Sofia Carson, Liza Koshy, Ken Jeong, Elizabeth Perkins, Jane Krakowski, Michael McKean, Phil LaMarr",
         null,
         "September 24, 2021",
         "2021",
         "PG",
         "91 min",
         "Children & Family Movies",
         "Equestria's divided. But a bright-eyed hero believes Earth Ponies, Pegasi and Unicorns should be pals — and, hoof to heart, she’s determined to prove it."
        ],
        [
         "7",
         "s8",
         "Movie",
         "Sankofa",
         "Haile Gerima",
         "Kofi Ghanaba, Oyafunmike Ogunlano, Alexandra Duah, Nick Medley, Mutabaruka, Afemo Omilami, Reggie Carter, Mzuri",
         "United States, Ghana, Burkina Faso, United Kingdom, Germany, Ethiopia",
         "September 24, 2021",
         "1993",
         "TV-MA",
         "125 min",
         "Dramas, Independent Movies, International Movies",
         "On a photo shoot in Ghana, an American model slips back in time, becomes enslaved on a plantation and bears witness to the agony of her ancestral past."
        ],
        [
         "8",
         "s9",
         "TV Show",
         "The Great British Baking Show",
         "Andy Devonshire",
         "Mel Giedroyc, Sue Perkins, Mary Berry, Paul Hollywood",
         "United Kingdom",
         "September 24, 2021",
         "2021",
         "TV-14",
         "9 Seasons",
         "British TV Shows, Reality TV",
         "A talented batch of amateur bakers face off in a 10-week competition, whipping up their best dishes in the hopes of being named the U.K.'s best."
        ],
        [
         "9",
         "s10",
         "Movie",
         "The Starling",
         "Theodore Melfi",
         "Melissa McCarthy, Chris O'Dowd, Kevin Kline, Timothy Olyphant, Daveed Diggs, Skyler Gisondo, Laura Harrier, Rosalind Chao, Kimberly Quinn, Loretta Devine, Ravi Kapoor",
         "United States",
         "September 24, 2021",
         "2021",
         "PG-13",
         "104 min",
         "Comedies, Dramas",
         "A woman adjusting to life after a loss contends with a feisty bird that's taken over her garden — and a husband who's struggling to find a way forward."
        ],
        [
         "11",
         "s12",
         "TV Show",
         "Bangkok Breaking",
         "Kongkiat Komesiri",
         "Sukollawat Kanarot, Sushar Manaying, Pavarit Mongkolpisit, Sahajak Boonthanakit, Suthipongse Thatphithakkul, Bhasaworn Bawronkirati, Daweerit Chullasapya, Waratthaya Wongchayaporn, Kittiphoom Wongpentak, Abhicha Thanachanun, Nophand Boonyai, Kittipong Khamsat, Arisara Wongchalee, Jaytiya Naiwattanakul, Pantipa Arunwattanachai, Panupan Jantanawong, Kungtap Saelim, Phumphat Chartsuriyakiat, Issara Veranitinunt, Keerati Sivakuae, Panjai Sirisuwan, Supranee Charoenpol, Suda Chuenban, Visaka Banhansupavat, Pitchatorn Santinatornkul",
         null,
         "September 23, 2021",
         "2021",
         "TV-MA",
         "1 Season",
         "Crime TV Shows, International TV Shows, TV Action & Adventure",
         "Struggling to earn a living in Bangkok, a man joins an emergency rescue service and realizes he must unravel a citywide conspiracy."
        ],
        [
         "12",
         "s13",
         "Movie",
         "Je Suis Karl",
         "Christian Schwochow",
         "Luna Wedler, Jannis Niewöhner, Milan Peschel, Edin Hasanović, Anna Fialová, Marlon Boess, Victor Boccard, Fleur Geffrier, Aziz Dyab, Mélanie Fouché, Elizaveta Maximová",
         "Germany, Czech Republic",
         "September 23, 2021",
         "2021",
         "TV-MA",
         "127 min",
         "Dramas, International Movies",
         "After most of her family is murdered in a terrorist bombing, a young woman is unknowingly lured into joining the very group that killed them."
        ],
        [
         "13",
         "s14",
         "Movie",
         "Confessions of an Invisible Girl",
         "Bruno Garotti",
         "Klara Castanho, Lucca Picon, Júlia Gomes, Marcus Bessa, Kiria Malheiros, Fernanda Concon, Gabriel Lima, Caio Cabral, Leonardo Cidade, Jade Cardozo",
         null,
         "September 22, 2021",
         "2021",
         "TV-PG",
         "91 min",
         "Children & Family Movies, Comedies",
         "When the clever but socially-awkward Tetê joins a new school, she'll do anything to fit in. But the queen bee among her classmates has other ideas."
        ],
        [
         "16",
         "s17",
         "Movie",
         "Europe's Most Dangerous Man: Otto Skorzeny in Spain",
         "Pedro de Echave García, Pablo Azorín Williams",
         null,
         null,
         "September 22, 2021",
         "2020",
         "TV-MA",
         "67 min",
         "Documentaries, International Movies",
         "Declassified documents reveal the post-WWII life of Otto Skorzeny, a close Hitler ally who escaped to Spain and became an adviser to world presidents."
        ],
        [
         "18",
         "s19",
         "Movie",
         "Intrusion",
         "Adam Salky",
         "Freida Pinto, Logan Marshall-Green, Robert John Burke, Megan Elisabeth Kelly, Sarah Minnich, Hayes Hargrove, Mark Sivertsen, Brandon Fierro, Antonio Valles, Clint Obenchain",
         null,
         "September 22, 2021",
         "2021",
         "TV-14",
         "94 min",
         "Thrillers",
         "After a deadly home invasion at a couple’s new dream house, the traumatized wife searches for answers — and learns the real danger is just beginning."
        ],
        [
         "20",
         "s21",
         "TV Show",
         "Monsters Inside: The 24 Faces of Billy Milligan",
         "Olivier Megaton",
         null,
         null,
         "September 22, 2021",
         "2021",
         "TV-14",
         "1 Season",
         "Crime TV Shows, Docuseries, International TV Shows",
         "In the late 1970s, an accused serial rapist claims multiple personalities control his behavior, setting off a legal odyssey that captivates America."
        ],
        [
         "22",
         "s23",
         "Movie",
         "Avvai Shanmughi",
         "K.S. Ravikumar",
         "Kamal Hassan, Meena, Gemini Ganesan, Heera Rajgopal, Nassar, S.P. Balasubrahmanyam",
         null,
         "September 21, 2021",
         "1996",
         "TV-PG",
         "161 min",
         "Comedies, International Movies",
         "Newly divorced and denied visitation rights with his daughter, a doting father disguises himself as a gray-haired nanny in order to spend time with her."
        ],
        [
         "23",
         "s24",
         "Movie",
         "Go! Go! Cory Carson: Chrissy Takes the Wheel",
         "Alex Woo, Stanley Moore",
         "Maisie Benson, Paul Killam, Kerry Gudjohnsen, AC Lim",
         null,
         "September 21, 2021",
         "2021",
         "TV-Y",
         "61 min",
         "Children & Family Movies",
         "From arcade games to sled days and hiccup cures, Cory Carson’s curious little sister Chrissy speeds off on her own for fun and adventure all over town!"
        ],
        [
         "24",
         "s25",
         "Movie",
         "Jeans",
         "S. Shankar",
         "Prashanth, Aishwarya Rai Bachchan, Sri Lakshmi, Nassar",
         "India",
         "September 21, 2021",
         "1998",
         "TV-14",
         "166 min",
         "Comedies, International Movies, Romantic Movies",
         "When the father of the man she loves insists that his twin sons marry twin sisters, a woman creates an alter ego that might be a bit too convincing."
        ],
        [
         "26",
         "s27",
         "Movie",
         "Minsara Kanavu",
         "Rajiv Menon",
         "Arvind Swamy, Kajol, Prabhu Deva, Nassar, S.P. Balasubrahmanyam, Girish Karnad",
         null,
         "September 21, 2021",
         "1997",
         "TV-PG",
         "147 min",
         "Comedies, International Movies, Music & Musicals",
         "A tangled love triangle ensues when a man falls for a woman studying to become a nun — and she falls for the friend he enlists to help him pursue her."
        ],
        [
         "27",
         "s28",
         "Movie",
         "Grown Ups",
         "Dennis Dugan",
         "Adam Sandler, Kevin James, Chris Rock, David Spade, Rob Schneider, Salma Hayek, Maria Bello, Maya Rudolph, Colin Quinn, Tim Meadows, Joyce Van Patten",
         "United States",
         "September 20, 2021",
         "2010",
         "PG-13",
         "103 min",
         "Comedies",
         "Mourning the loss of their beloved junior high basketball coach, five middle-aged pals reunite at a lake house and rediscover the joys of being a kid."
        ],
        [
         "28",
         "s29",
         "Movie",
         "Dark Skies",
         "Scott Stewart",
         "Keri Russell, Josh Hamilton, J.K. Simmons, Dakota Goyo, Kadan Rockett, L.J. Benet, Rich Hutchman, Myndy Crist, Annie Thurman, Jake Brennan",
         "United States",
         "September 19, 2021",
         "2013",
         "PG-13",
         "97 min",
         "Horror Movies, Sci-Fi & Fantasy",
         "A family’s idyllic suburban life shatters when an alien force invades their home, and as they struggle to convince others of the deadly threat."
        ],
        [
         "29",
         "s30",
         "Movie",
         "Paranoia",
         "Robert Luketic",
         "Liam Hemsworth, Gary Oldman, Amber Heard, Harrison Ford, Lucas Till, Embeth Davidtz, Julian McMahon, Josh Holloway, Richard Dreyfuss, Angela Sarafyan",
         "United States, India, France",
         "September 19, 2021",
         "2013",
         "PG-13",
         "106 min",
         "Thrillers",
         "Blackmailed by his company's CEO, a low-level employee finds himself forced to spy on the boss's rival and former mentor."
        ],
        [
         "30",
         "s31",
         "Movie",
         "Ankahi Kahaniya",
         "Ashwiny Iyer Tiwari, Abhishek Chaubey, Saket Chaudhary",
         "Abhishek Banerjee, Rinku Rajguru, Delzad Hiwale, Kunal Kapoor, Zoya Hussain, Nikhil Dwivedi, Palomi Ghosh",
         null,
         "September 17, 2021",
         "2021",
         "TV-14",
         "111 min",
         "Dramas, Independent Movies, International Movies",
         "As big city life buzzes around them, lonely souls discover surprising sources of connection and companionship in three tales of love, loss and longing."
        ],
        [
         "35",
         "s36",
         "Movie",
         "The Father Who Moves Mountains",
         "Daniel Sandu",
         "Adrian Titieni, Elena Purea, Judith State, Valeriu Andriuță, Tudor Smoleanu, Virgil Aioanei, Radu Botar, Petronela Grigorescu, Bogdan Nechifor, Cristian Bota",
         null,
         "September 17, 2021",
         "2021",
         "TV-MA",
         "110 min",
         "Dramas, International Movies, Thrillers",
         "When his son goes missing during a snowy hike in the mountains, a retired intelligence officer will stop at nothing — and risk everything — to find him."
        ],
        [
         "36",
         "s37",
         "Movie",
         "The Stronghold",
         "Cédric Jimenez",
         "Gilles Lellouche, Karim Leklou, François Civil, Adèle Exarchopoulos, Kenza Fortas, Cyril Lecomte, Michaël Abiteboul, Idir Azougli, Vincent Darmuzey, Jean-Yves Berteloot",
         null,
         "September 17, 2021",
         "2021",
         "TV-MA",
         "105 min",
         "Action & Adventure, Dramas, International Movies",
         "Tired of the small-time grind, three Marseille cops get a chance to bust a major drug network. But lines blur when a key informant makes a big ask."
        ],
        [
         "38",
         "s39",
         "Movie",
         "Birth of the Dragon",
         "George Nolfi",
         "Billy Magnussen, Ron Yuan, Qu Jingjing, Terry Chen, Vanness Wu, Jin Xing, Philip Ng, Xia Yu, Yu Xia",
         "China, Canada, United States",
         "September 16, 2021",
         "2017",
         "PG-13",
         "96 min",
         "Action & Adventure, Dramas",
         "A young Bruce Lee angers kung fu traditionalists by teaching outsiders, leading to a showdown with a Shaolin master in this film based on real events."
        ],
        [
         "41",
         "s42",
         "Movie",
         "Jaws",
         "Steven Spielberg",
         "Roy Scheider, Robert Shaw, Richard Dreyfuss, Lorraine Gary, Murray Hamilton, Carl Gottlieb, Jeffrey Kramer, Susan Backlinie, Jonathan Filley, Ted Grossman",
         "United States",
         "September 16, 2021",
         "1975",
         "PG",
         "124 min",
         "Action & Adventure, Classic Movies, Dramas",
         "When an insatiable great white shark terrorizes Amity Island, a police chief, an oceanographer and a grizzled shark hunter seek to destroy the beast."
        ],
        [
         "42",
         "s43",
         "Movie",
         "Jaws 2",
         "Jeannot Szwarc",
         "Roy Scheider, Lorraine Gary, Murray Hamilton, Joseph Mascolo, Jeffrey Kramer, Collin Wilcox Paxton, Ann Dusenberry, Mark Gruner, Barry Coe, Susan French",
         "United States",
         "September 16, 2021",
         "1978",
         "PG",
         "116 min",
         "Dramas, Horror Movies, Thrillers",
         "Four years after the last deadly shark attacks, police chief Martin Brody fights to protect Amity Island from another killer great white."
        ],
        [
         "43",
         "s44",
         "Movie",
         "Jaws 3",
         "Joe Alves",
         "Dennis Quaid, Bess Armstrong, Simon MacCorkindale, Louis Gossett Jr., John Putch, Lea Thompson, P.H. Moriarty, Dan Blasko, Liz Morris, Lisa Maurer",
         "United States",
         "September 16, 2021",
         "1983",
         "PG",
         "98 min",
         "Action & Adventure, Horror Movies, Thrillers",
         "After the staff of a marine theme park try to capture a young great white shark, they discover its mother has invaded the enclosure and is out for blood."
        ],
        [
         "44",
         "s45",
         "Movie",
         "Jaws: The Revenge",
         "Joseph Sargent",
         "Lorraine Gary, Lance Guest, Mario Van Peebles, Karen Young, Michael Caine, Judith Barsi, Mitchell Anderson, Lynn Whitfield",
         "United States",
         "September 16, 2021",
         "1987",
         "PG-13",
         "91 min",
         "Action & Adventure, Horror Movies, Thrillers",
         "After another deadly shark attack, Ellen Brody has had enough of Amity Island and moves to the Caribbean – but a great white shark follows her there."
        ],
        [
         "45",
         "s46",
         "Movie",
         "My Heroes Were Cowboys",
         "Tyler Greco",
         null,
         null,
         "September 16, 2021",
         "2021",
         "PG",
         "23 min",
         "Documentaries",
         "Robin Wiltshire's painful childhood was rescued by Westerns. Now he lives on the frontier of his dreams, training the horses he loves for the big screen."
        ],
        [
         "46",
         "s47",
         "Movie",
         "Safe House",
         "Daniel Espinosa",
         "Denzel Washington, Ryan Reynolds, Vera Farmiga, Brendan Gleeson, Sam Shepard, Rubén Blades, Nora Arnezeder, Robert Patrick, Liam Cunningham, Joel Kinnaman",
         "South Africa, United States, Japan",
         "September 16, 2021",
         "2012",
         "R",
         "115 min",
         "Action & Adventure",
         "Young CIA operative Matt Weston must get a dangerous criminal out of an agency safe house that's come under attack and get him to a securer location."
        ],
        [
         "47",
         "s48",
         "TV Show",
         "The Smart Money Woman",
         "Bunmi Ajakaiye",
         "Osas Ighodaro, Ini Dima-Okojie, Kemi Lala Akindoju, Toni Tones, Ebenezer Eno, Eso Okolocha DIke, Patrick Diabuah, Karibi Fubara, Temisan Emmanuel, Timini Egbuson",
         null,
         "September 16, 2021",
         "2020",
         "TV-MA",
         "1 Season",
         "International TV Shows, Romantic TV Shows, TV Comedies",
         "Five glamorous millennials strive for success as they juggle careers, finances, love and friendships. Based on Arese Ugwu's 2016 best-selling novel."
        ],
        [
         "48",
         "s49",
         "Movie",
         "Training Day",
         "Antoine Fuqua",
         "Denzel Washington, Ethan Hawke, Scott Glenn, Tom Berenger, Harris Yulin, Raymond J. Barry, Cliff Curtis, Dr. Dre, Snoop Dogg, Macy Gray, Eva Mendes",
         "United States",
         "September 16, 2021",
         "2001",
         "R",
         "122 min",
         "Dramas, Thrillers",
         "A rookie cop with one day to prove himself to a veteran LAPD narcotics officer receives a crash course in his mentor's questionable brand of justice."
        ],
        [
         "51",
         "s52",
         "Movie",
         "InuYasha the Movie 2: The Castle Beyond the Looking Glass",
         "Toshiya Shinohara",
         "Kappei Yamaguchi, Satsuki Yukino, Mieko Harada, Koji Tsujitani, Houko Kuwashima, Kumiko Watanabe, Noriko Hidaka, Kenichi Ogata, Toshiyuki Morikawa, Izumi Ogami",
         "Japan",
         "September 15, 2021",
         "2002",
         "TV-14",
         "99 min",
         "Action & Adventure, Anime Features, International Movies",
         "With their biggest foe seemingly defeated, InuYasha and his friends return to everyday life. But the peace is soon shattered by an emerging new enemy."
        ],
        [
         "52",
         "s53",
         "Movie",
         "InuYasha the Movie 3: Swords of an Honorable Ruler",
         "Toshiya Shinohara",
         "Kappei Yamaguchi, Satsuki Yukino, Koji Tsujitani, Houko Kuwashima, Kumiko Watanabe, Ken Narita, Akio Otsuka, Kikuko Inoue",
         "Japan",
         "September 15, 2021",
         "2003",
         "TV-14",
         "99 min",
         "Action & Adventure, Anime Features, International Movies",
         "The Great Dog Demon beaqueathed one of the Three Swords of the Fang to each of his two sons. Now the evil power of the third sword has been awakened."
        ],
        [
         "53",
         "s54",
         "Movie",
         "InuYasha the Movie 4: Fire on the Mystic Island",
         "Toshiya Shinohara",
         "Kappei Yamaguchi, Satsuki Yukino, Koji Tsujitani, Houko Kuwashima, Kumiko Watanabe, Noriko Hidaka, Ken Narita, Cho, Mamiko Noto, Nobutoshi Canna",
         "Japan",
         "September 15, 2021",
         "2004",
         "TV-PG",
         "88 min",
         "Action & Adventure, Anime Features, International Movies",
         "Ai, a young half-demon who has escaped from Horai Island to try to help her people, returns with potential saviors InuYasha, Sesshomaru and Kikyo."
        ],
        [
         "54",
         "s55",
         "Movie",
         "InuYasha the Movie: Affections Touching Across Time",
         "Toshiya Shinohara",
         "Kappei Yamaguchi, Satsuki Yukino, Koji Tsujitani, Houko Kuwashima, Kumiko Watanabe, Kenichi Ogata, Noriko Hidaka, Hisako Kyoda, Ken Narita, Tomokazu Seki",
         "Japan",
         "September 15, 2021",
         "2001",
         "TV-PG",
         "100 min",
         "Action & Adventure, Anime Features, International Movies",
         "A powerful demon has been sealed away for 200 years. But when the demon's son is awakened, the fate of the world is in jeopardy."
        ],
        [
         "56",
         "s57",
         "Movie",
         "Naruto Shippuden the Movie: Blood Prison",
         "Masahiko Murata",
         "Junko Takeuchi, Chie Nakamura, Rikiya Koyama, Kazuhiko Inoue, Masaki Terasoma, Mie Sonozaki, Yuichi Nakamura, Kengo Kawanishi, Kosei Hirota, Masako Katsuki",
         "Japan",
         "September 15, 2021",
         "2011",
         "TV-14",
         "102 min",
         "Action & Adventure, Anime Features, International Movies",
         "Mistakenly accused of an attack on the Fourth Raikage, ninja Naruto is imprisoned in the impenetrable Hozuki Castle and his powers are sealed."
        ],
        [
         "57",
         "s58",
         "Movie",
         "Naruto Shippûden the Movie: Bonds",
         "Hajime Kamegaki",
         "Junko Takeuchi, Chie Nakamura, Noriaki Sugiyama, Unsho Ishizuka, Motoko Kumai, Kazuhiko Inoue, Rikiya Koyama, Showtaro Morikubo, Nana Mizuki, Satoshi Hino, Shinji Kawada",
         "Japan",
         "September 15, 2021",
         "2008",
         "TV-PG",
         "93 min",
         "Action & Adventure, Anime Features, International Movies",
         "When strange ninjas ambush the village of Konohagakure, it's up to adolescent ninja Naruto and his long-missing pal, Sasuke, to save the planet."
        ],
        [
         "58",
         "s59",
         "Movie",
         "Naruto Shippûden the Movie: The Will of Fire",
         "Masahiko Murata",
         "Junko Takeuchi, Chie Nakamura, Kazuhiko Inoue, Satoshi Hino, Showtaro Morikubo, Kentaro Ito, Ryoka Yuzuki, Kohsuke Toriumi, Nana Mizuki, Shinji Kawada, Yoichi Masukawa, Koichi Tochika, Yukari Tamura",
         "Japan",
         "September 15, 2021",
         "2009",
         "TV-PG",
         "96 min",
         "Action & Adventure, Anime Features, International Movies",
         "When four out of five ninja villages are destroyed, the leader of the one spared tries to find the true culprit and protect his land."
        ],
        [
         "59",
         "s60",
         "Movie",
         "Naruto Shippuden: The Movie",
         "Hajime Kamegaki",
         "Junko Takeuchi, Chie Nakamura, Yoichi Masukawa, Koichi Tochika, Ayumi Fujimura, Keisuke Oda, Daisuke Kishio, Fumiko Orikasa, Hidetoshi Nakamura, Tetsuya Kakihara, Kisho Taniyama, Miyuki Sawashiro, Katsuyuki Konishi, Masako Katsuki, Keiko Nemoto, Masashi Ebara, Kazuhiko Inoue, Showtaro Morikubo, Romi Park, Daisuke Ono, Seizo Kato",
         "Japan",
         "September 15, 2021",
         "2007",
         "TV-PG",
         "95 min",
         "Action & Adventure, Anime Features, International Movies",
         "The adventures of adolescent ninja Naruto Uzumaki continue as he's tasked with protecting a priestess from a demon – but to do so, he must die."
        ],
        [
         "60",
         "s61",
         "Movie",
         "Naruto Shippuden: The Movie: The Lost Tower",
         "Masahiko Murata",
         "Junko Takeuchi, Chie Nakamura, Satoshi Hino, Rikiya Koyama, Nobuaki Fukuda, Kenji Hamada, Keiko Nemoto, Saori Hayami, Yumi Toma, Yuko Kobayashi, Fujiko Takimoto, Mutsumi Tamura, Mayuki Makiguchi, Toshiyuki Morikawa",
         "Japan",
         "September 15, 2021",
         "2010",
         "TV-14",
         "85 min",
         "Action & Adventure, Anime Features, International Movies",
         "When Naruto is sent to recover a missing nin, the rogue manages to send him 20 years into the past, where he unites with his father to battle evil."
        ],
        [
         "61",
         "s62",
         "Movie",
         "Naruto the Movie 2: Legend of the Stone of Gelel",
         "Hirotsugu Kawasaki",
         "Junko Takeuchi, Gamon Kaai, Chie Nakamura, Showtaro Morikubo, Akira Ishida, Yasuyuki Kase, Urara Takano, Sachiko Kojima, Houko Kuwashima, Takako Honda",
         "Japan",
         "September 15, 2021",
         "2005",
         "TV-PG",
         "97 min",
         "Action & Adventure, Anime Features, International Movies",
         "While on a mission to return a missing pet, Naruto and two fellow ninjas are ambushed by brutal knights led by the enigmatic Temujin."
        ],
        [
         "62",
         "s63",
         "Movie",
         "Naruto the Movie 3: Guardians of the Crescent Moon Kingdom",
         "Toshiyuki Tsuru",
         "Junko Takeuchi, Chie Nakamura, Yoichi Masukawa, Kazuhiko Inoue, Akio Otsuka, Kyousuke Ikeda, Marika Hayashi, Umeji Sasaki, Masashi Sugawara, Hisao Egawa",
         "Japan",
         "September 15, 2021",
         "2006",
         "TV-PG",
         "95 min",
         "Action & Adventure, Anime Features, International Movies",
         "Exuberant ninja Naruto teams up with his pals Sakura and Kakashi to escort Prince Michiru and his son, Hikaru, to the Crescent Moon kingdom."
        ],
        [
         "63",
         "s64",
         "Movie",
         "Naruto the Movie: Ninja Clash in the Land of Snow",
         "Tensai Okamura",
         "Junko Takeuchi, Noriaki Sugiyama, Chie Nakamura, Kazuhiko Inoue, Yuhko Kaida, Tsutomu Isobe, Hirotaka Suzuoki, Jun Karasawa, Harii Kaneko, Ikuo Nishikawa",
         "Japan",
         "September 15, 2021",
         "2004",
         "TV-PG",
         "83 min",
         "Action & Adventure, Anime Features, International Movies",
         "Naruto, Sasuke and Sakura learn they'll be protecting an actress from being hurt while making her next film, but it turns out she's a princess."
        ],
        [
         "64",
         "s65",
         "Movie",
         "Nightbooks",
         "David Yarovesky",
         "Winslow Fegley, Lidya Jewett, Krysten Ritter",
         null,
         "September 15, 2021",
         "2021",
         "TV-PG",
         "103 min",
         "Children & Family Movies",
         "Scary story fan Alex must tell a spine-tingling tale every night — or stay trapped with his new friend in a wicked witch's magical apartment forever."
        ],
        [
         "68",
         "s69",
         "Movie",
         "Schumacher",
         "Hanns-Bruno Kammertöns, Vanessa Nöcker, Michael Wech",
         "Michael Schumacher",
         null,
         "September 15, 2021",
         "2021",
         "TV-14",
         "113 min",
         "Documentaries, International Movies, Sports Movies",
         "Through exclusive interviews and archival footage, this documentary traces an intimate portrait of seven-time Formula 1 champion Michael Schumacher."
        ],
        [
         "71",
         "s72",
         "Movie",
         "A StoryBots Space Adventure",
         "David A. Vargas",
         "Evan Spiridellis, Erin Fitzgerald, Jeff Gill, Fred Tatasciore, Evan Michael Lee, Jared Isaacman, Sian Proctor, Chris Sembroski, Hayley Arceneaux",
         null,
         "September 14, 2021",
         "2021",
         "TV-Y",
         "13 min",
         "Children & Family Movies",
         "Join the StoryBots and the space travelers of the historic Inspiration4 mission as they search for answers to kids' questions about space."
        ],
        [
         "73",
         "s74",
         "Movie",
         "King of Boys",
         "Kemi Adetiba",
         "Sola Sobowale, Adesua Etomi, Remilekun \"Reminisce\" Safaru, Tobechukwu \"iLLbliss\" Ejiofor, Toni Tones, Paul Sambo, Jide Kosoko, Sharon Ooja",
         "Nigeria",
         "September 14, 2021",
         "2018",
         "TV-MA",
         "182 min",
         "Dramas, International Movies",
         "When a powerful businesswoman’s political ambitions are threatened by her underworld connections, the ensuing power struggle could cost her everything."
        ],
        [
         "75",
         "s76",
         "Movie",
         "You vs. Wild: Out Cold",
         "Ben Simms",
         "Bear Grylls, Jason Derek Prempeh",
         null,
         "September 14, 2021",
         "2021",
         "TV-G",
         "106 min",
         "Children & Family Movies",
         "After a plane crash leaves Bear with amnesia, he must make choices to save the missing pilot and survive in this high-stakes interactive adventure."
        ],
        [
         "77",
         "s78",
         "Movie",
         "Little Singham - Black Shadow",
         "Prakash Satam",
         "Sumriddhi Shukla, Jigna Bharadwaj, Sonal Kaushal, Neshma Chemburkar, Ganesh Divekar, Annamaya Verma, Anamay Verma, Manoj Pandey",
         null,
         "September 11, 2021",
         "2021",
         "TV-Y7",
         "48 min",
         "Children & Family Movies, Comedies",
         "Kid cop Little Singham loses all his superpowers while trying to stop the demon Kaal’s new evil plans! Can his inner strength help him defeat the enemy?"
        ]
       ],
       "shape": {
        "columns": 12,
        "rows": 6173
       }
      },
      "text/html": [
       "<div>\n",
       "<style scoped>\n",
       "    .dataframe tbody tr th:only-of-type {\n",
       "        vertical-align: middle;\n",
       "    }\n",
       "\n",
       "    .dataframe tbody tr th {\n",
       "        vertical-align: top;\n",
       "    }\n",
       "\n",
       "    .dataframe thead th {\n",
       "        text-align: right;\n",
       "    }\n",
       "</style>\n",
       "<table border=\"1\" class=\"dataframe\">\n",
       "  <thead>\n",
       "    <tr style=\"text-align: right;\">\n",
       "      <th></th>\n",
       "      <th>show_id</th>\n",
       "      <th>type</th>\n",
       "      <th>title</th>\n",
       "      <th>director</th>\n",
       "      <th>cast</th>\n",
       "      <th>country</th>\n",
       "      <th>date_added</th>\n",
       "      <th>release_year</th>\n",
       "      <th>rating</th>\n",
       "      <th>duration</th>\n",
       "      <th>listed_in</th>\n",
       "      <th>description</th>\n",
       "    </tr>\n",
       "  </thead>\n",
       "  <tbody>\n",
       "    <tr>\n",
       "      <th>0</th>\n",
       "      <td>s1</td>\n",
       "      <td>Movie</td>\n",
       "      <td>Dick Johnson Is Dead</td>\n",
       "      <td>Kirsten Johnson</td>\n",
       "      <td>NaN</td>\n",
       "      <td>United States</td>\n",
       "      <td>September 25, 2021</td>\n",
       "      <td>2020</td>\n",
       "      <td>PG-13</td>\n",
       "      <td>90 min</td>\n",
       "      <td>Documentaries</td>\n",
       "      <td>As her father nears the end of his life, filmm...</td>\n",
       "    </tr>\n",
       "    <tr>\n",
       "      <th>2</th>\n",
       "      <td>s3</td>\n",
       "      <td>TV Show</td>\n",
       "      <td>Ganglands</td>\n",
       "      <td>Julien Leclercq</td>\n",
       "      <td>Sami Bouajila, Tracy Gotoas, Samuel Jouy, Nabi...</td>\n",
       "      <td>NaN</td>\n",
       "      <td>September 24, 2021</td>\n",
       "      <td>2021</td>\n",
       "      <td>TV-MA</td>\n",
       "      <td>1 Season</td>\n",
       "      <td>Crime TV Shows, International TV Shows, TV Act...</td>\n",
       "      <td>To protect his family from a powerful drug lor...</td>\n",
       "    </tr>\n",
       "    <tr>\n",
       "      <th>5</th>\n",
       "      <td>s6</td>\n",
       "      <td>TV Show</td>\n",
       "      <td>Midnight Mass</td>\n",
       "      <td>Mike Flanagan</td>\n",
       "      <td>Kate Siegel, Zach Gilford, Hamish Linklater, H...</td>\n",
       "      <td>NaN</td>\n",
       "      <td>September 24, 2021</td>\n",
       "      <td>2021</td>\n",
       "      <td>TV-MA</td>\n",
       "      <td>1 Season</td>\n",
       "      <td>TV Dramas, TV Horror, TV Mysteries</td>\n",
       "      <td>The arrival of a charismatic young priest brin...</td>\n",
       "    </tr>\n",
       "    <tr>\n",
       "      <th>6</th>\n",
       "      <td>s7</td>\n",
       "      <td>Movie</td>\n",
       "      <td>My Little Pony: A New Generation</td>\n",
       "      <td>Robert Cullen, José Luis Ucha</td>\n",
       "      <td>Vanessa Hudgens, Kimiko Glenn, James Marsden, ...</td>\n",
       "      <td>NaN</td>\n",
       "      <td>September 24, 2021</td>\n",
       "      <td>2021</td>\n",
       "      <td>PG</td>\n",
       "      <td>91 min</td>\n",
       "      <td>Children &amp; Family Movies</td>\n",
       "      <td>Equestria's divided. But a bright-eyed hero be...</td>\n",
       "    </tr>\n",
       "    <tr>\n",
       "      <th>7</th>\n",
       "      <td>s8</td>\n",
       "      <td>Movie</td>\n",
       "      <td>Sankofa</td>\n",
       "      <td>Haile Gerima</td>\n",
       "      <td>Kofi Ghanaba, Oyafunmike Ogunlano, Alexandra D...</td>\n",
       "      <td>United States, Ghana, Burkina Faso, United Kin...</td>\n",
       "      <td>September 24, 2021</td>\n",
       "      <td>1993</td>\n",
       "      <td>TV-MA</td>\n",
       "      <td>125 min</td>\n",
       "      <td>Dramas, Independent Movies, International Movies</td>\n",
       "      <td>On a photo shoot in Ghana, an American model s...</td>\n",
       "    </tr>\n",
       "    <tr>\n",
       "      <th>...</th>\n",
       "      <td>...</td>\n",
       "      <td>...</td>\n",
       "      <td>...</td>\n",
       "      <td>...</td>\n",
       "      <td>...</td>\n",
       "      <td>...</td>\n",
       "      <td>...</td>\n",
       "      <td>...</td>\n",
       "      <td>...</td>\n",
       "      <td>...</td>\n",
       "      <td>...</td>\n",
       "      <td>...</td>\n",
       "    </tr>\n",
       "    <tr>\n",
       "      <th>8801</th>\n",
       "      <td>s8802</td>\n",
       "      <td>Movie</td>\n",
       "      <td>Zinzana</td>\n",
       "      <td>Majid Al Ansari</td>\n",
       "      <td>Ali Suliman, Saleh Bakri, Yasa, Ali Al-Jabri, ...</td>\n",
       "      <td>United Arab Emirates, Jordan</td>\n",
       "      <td>March 9, 2016</td>\n",
       "      <td>2015</td>\n",
       "      <td>TV-MA</td>\n",
       "      <td>96 min</td>\n",
       "      <td>Dramas, International Movies, Thrillers</td>\n",
       "      <td>Recovering alcoholic Talal wakes up inside a s...</td>\n",
       "    </tr>\n",
       "    <tr>\n",
       "      <th>8802</th>\n",
       "      <td>s8803</td>\n",
       "      <td>Movie</td>\n",
       "      <td>Zodiac</td>\n",
       "      <td>David Fincher</td>\n",
       "      <td>Mark Ruffalo, Jake Gyllenhaal, Robert Downey J...</td>\n",
       "      <td>United States</td>\n",
       "      <td>November 20, 2019</td>\n",
       "      <td>2007</td>\n",
       "      <td>R</td>\n",
       "      <td>158 min</td>\n",
       "      <td>Cult Movies, Dramas, Thrillers</td>\n",
       "      <td>A political cartoonist, a crime reporter and a...</td>\n",
       "    </tr>\n",
       "    <tr>\n",
       "      <th>8804</th>\n",
       "      <td>s8805</td>\n",
       "      <td>Movie</td>\n",
       "      <td>Zombieland</td>\n",
       "      <td>Ruben Fleischer</td>\n",
       "      <td>Jesse Eisenberg, Woody Harrelson, Emma Stone, ...</td>\n",
       "      <td>United States</td>\n",
       "      <td>November 1, 2019</td>\n",
       "      <td>2009</td>\n",
       "      <td>R</td>\n",
       "      <td>88 min</td>\n",
       "      <td>Comedies, Horror Movies</td>\n",
       "      <td>Looking to survive in a world taken over by zo...</td>\n",
       "    </tr>\n",
       "    <tr>\n",
       "      <th>8805</th>\n",
       "      <td>s8806</td>\n",
       "      <td>Movie</td>\n",
       "      <td>Zoom</td>\n",
       "      <td>Peter Hewitt</td>\n",
       "      <td>Tim Allen, Courteney Cox, Chevy Chase, Kate Ma...</td>\n",
       "      <td>United States</td>\n",
       "      <td>January 11, 2020</td>\n",
       "      <td>2006</td>\n",
       "      <td>PG</td>\n",
       "      <td>88 min</td>\n",
       "      <td>Children &amp; Family Movies, Comedies</td>\n",
       "      <td>Dragged from civilian life, a former superhero...</td>\n",
       "    </tr>\n",
       "    <tr>\n",
       "      <th>8806</th>\n",
       "      <td>s8807</td>\n",
       "      <td>Movie</td>\n",
       "      <td>Zubaan</td>\n",
       "      <td>Mozez Singh</td>\n",
       "      <td>Vicky Kaushal, Sarah-Jane Dias, Raaghav Chanan...</td>\n",
       "      <td>India</td>\n",
       "      <td>March 2, 2019</td>\n",
       "      <td>2015</td>\n",
       "      <td>TV-14</td>\n",
       "      <td>111 min</td>\n",
       "      <td>Dramas, International Movies, Music &amp; Musicals</td>\n",
       "      <td>A scrappy but poor boy worms his way into a ty...</td>\n",
       "    </tr>\n",
       "  </tbody>\n",
       "</table>\n",
       "<p>6173 rows × 12 columns</p>\n",
       "</div>"
      ],
      "text/plain": [
       "     show_id     type                             title  \\\n",
       "0         s1    Movie              Dick Johnson Is Dead   \n",
       "2         s3  TV Show                         Ganglands   \n",
       "5         s6  TV Show                     Midnight Mass   \n",
       "6         s7    Movie  My Little Pony: A New Generation   \n",
       "7         s8    Movie                           Sankofa   \n",
       "...      ...      ...                               ...   \n",
       "8801   s8802    Movie                           Zinzana   \n",
       "8802   s8803    Movie                            Zodiac   \n",
       "8804   s8805    Movie                        Zombieland   \n",
       "8805   s8806    Movie                              Zoom   \n",
       "8806   s8807    Movie                            Zubaan   \n",
       "\n",
       "                           director  \\\n",
       "0                   Kirsten Johnson   \n",
       "2                   Julien Leclercq   \n",
       "5                     Mike Flanagan   \n",
       "6     Robert Cullen, José Luis Ucha   \n",
       "7                      Haile Gerima   \n",
       "...                             ...   \n",
       "8801                Majid Al Ansari   \n",
       "8802                  David Fincher   \n",
       "8804                Ruben Fleischer   \n",
       "8805                   Peter Hewitt   \n",
       "8806                    Mozez Singh   \n",
       "\n",
       "                                                   cast  \\\n",
       "0                                                   NaN   \n",
       "2     Sami Bouajila, Tracy Gotoas, Samuel Jouy, Nabi...   \n",
       "5     Kate Siegel, Zach Gilford, Hamish Linklater, H...   \n",
       "6     Vanessa Hudgens, Kimiko Glenn, James Marsden, ...   \n",
       "7     Kofi Ghanaba, Oyafunmike Ogunlano, Alexandra D...   \n",
       "...                                                 ...   \n",
       "8801  Ali Suliman, Saleh Bakri, Yasa, Ali Al-Jabri, ...   \n",
       "8802  Mark Ruffalo, Jake Gyllenhaal, Robert Downey J...   \n",
       "8804  Jesse Eisenberg, Woody Harrelson, Emma Stone, ...   \n",
       "8805  Tim Allen, Courteney Cox, Chevy Chase, Kate Ma...   \n",
       "8806  Vicky Kaushal, Sarah-Jane Dias, Raaghav Chanan...   \n",
       "\n",
       "                                                country          date_added  \\\n",
       "0                                         United States  September 25, 2021   \n",
       "2                                                   NaN  September 24, 2021   \n",
       "5                                                   NaN  September 24, 2021   \n",
       "6                                                   NaN  September 24, 2021   \n",
       "7     United States, Ghana, Burkina Faso, United Kin...  September 24, 2021   \n",
       "...                                                 ...                 ...   \n",
       "8801                       United Arab Emirates, Jordan       March 9, 2016   \n",
       "8802                                      United States   November 20, 2019   \n",
       "8804                                      United States    November 1, 2019   \n",
       "8805                                      United States    January 11, 2020   \n",
       "8806                                              India       March 2, 2019   \n",
       "\n",
       "      release_year rating  duration  \\\n",
       "0             2020  PG-13    90 min   \n",
       "2             2021  TV-MA  1 Season   \n",
       "5             2021  TV-MA  1 Season   \n",
       "6             2021     PG    91 min   \n",
       "7             1993  TV-MA   125 min   \n",
       "...            ...    ...       ...   \n",
       "8801          2015  TV-MA    96 min   \n",
       "8802          2007      R   158 min   \n",
       "8804          2009      R    88 min   \n",
       "8805          2006     PG    88 min   \n",
       "8806          2015  TV-14   111 min   \n",
       "\n",
       "                                              listed_in  \\\n",
       "0                                         Documentaries   \n",
       "2     Crime TV Shows, International TV Shows, TV Act...   \n",
       "5                    TV Dramas, TV Horror, TV Mysteries   \n",
       "6                              Children & Family Movies   \n",
       "7      Dramas, Independent Movies, International Movies   \n",
       "...                                                 ...   \n",
       "8801            Dramas, International Movies, Thrillers   \n",
       "8802                     Cult Movies, Dramas, Thrillers   \n",
       "8804                            Comedies, Horror Movies   \n",
       "8805                 Children & Family Movies, Comedies   \n",
       "8806     Dramas, International Movies, Music & Musicals   \n",
       "\n",
       "                                            description  \n",
       "0     As her father nears the end of his life, filmm...  \n",
       "2     To protect his family from a powerful drug lor...  \n",
       "5     The arrival of a charismatic young priest brin...  \n",
       "6     Equestria's divided. But a bright-eyed hero be...  \n",
       "7     On a photo shoot in Ghana, an American model s...  \n",
       "...                                                 ...  \n",
       "8801  Recovering alcoholic Talal wakes up inside a s...  \n",
       "8802  A political cartoonist, a crime reporter and a...  \n",
       "8804  Looking to survive in a world taken over by zo...  \n",
       "8805  Dragged from civilian life, a former superhero...  \n",
       "8806  A scrappy but poor boy worms his way into a ty...  \n",
       "\n",
       "[6173 rows x 12 columns]"
      ]
     },
     "execution_count": 57,
     "metadata": {},
     "output_type": "execute_result"
    }
   ],
   "source": [
    "# Remove a column or row with .drop, .dropna or .isnull\n",
    "\n",
    "# drop column\n",
    "df_netflix.drop('director', axis=1)\n",
    "# drop row\n",
    "no_director = df_netflix[df_netflix['director'].isnull()].index\n",
    "df_netflix.drop(no_director, axis=0) #should use inplace=True and this is uch better way to drop null values\n",
    "\n",
    "# ~ + .isnull()\n",
    "df_netflix[~df_netflix['director'].isnull()]\n",
    "\n",
    "# dropna()\n",
    "df_netflix.dropna(subset=['director'])"
   ]
  },
  {
   "cell_type": "code",
   "execution_count": 58,
   "metadata": {},
   "outputs": [
    {
     "name": "stderr",
     "output_type": "stream",
     "text": [
      "/var/folders/np/cb3_4g1x2ms55b1kf0dx82q40000gn/T/ipykernel_78363/1912061837.py:4: FutureWarning: A value is trying to be set on a copy of a DataFrame or Series through chained assignment using an inplace method.\n",
      "The behavior will change in pandas 3.0. This inplace method will never work because the intermediate object on which we are setting values always behaves as a copy.\n",
      "\n",
      "For example, when doing 'df[col].method(value, inplace=True)', try using 'df.method({col: value}, inplace=True)' or df[col] = df[col].method(value) instead, to perform the operation inplace on the original object.\n",
      "\n",
      "\n",
      "  df_netflix['rating'].fillna(mode, inplace=True)\n"
     ]
    }
   ],
   "source": [
    "# Replace it by the mean, median (numeric data) or mode (categorical data)\n",
    "mode = ''.join(df_netflix['rating'].mode())\n",
    "\n",
    "df_netflix['rating'].fillna(mode, inplace=True)"
   ]
  },
  {
   "cell_type": "code",
   "execution_count": 59,
   "metadata": {},
   "outputs": [
    {
     "data": {
      "application/vnd.microsoft.datawrangler.viewer.v0+json": {
       "columns": [
        {
         "name": "index",
         "rawType": "int64",
         "type": "integer"
        },
        {
         "name": "show_id",
         "rawType": "object",
         "type": "string"
        },
        {
         "name": "type",
         "rawType": "object",
         "type": "string"
        },
        {
         "name": "title",
         "rawType": "object",
         "type": "string"
        },
        {
         "name": "director",
         "rawType": "object",
         "type": "string"
        },
        {
         "name": "cast",
         "rawType": "object",
         "type": "string"
        },
        {
         "name": "country",
         "rawType": "object",
         "type": "string"
        },
        {
         "name": "date_added",
         "rawType": "object",
         "type": "string"
        },
        {
         "name": "release_year",
         "rawType": "int64",
         "type": "integer"
        },
        {
         "name": "rating",
         "rawType": "object",
         "type": "string"
        },
        {
         "name": "duration",
         "rawType": "object",
         "type": "unknown"
        },
        {
         "name": "listed_in",
         "rawType": "object",
         "type": "string"
        },
        {
         "name": "description",
         "rawType": "object",
         "type": "string"
        }
       ],
       "ref": "ee322397-2938-4050-91e8-76c1674535f0",
       "rows": [
        [
         "5541",
         "s5542",
         "Movie",
         "Louis C.K. 2017",
         "Louis C.K.",
         "Louis C.K.",
         "United States",
         "April 4, 2017",
         "2017",
         "74 min",
         null,
         "Movies",
         "Louis C.K. muses on religion, eternal love, giving dogs drugs, email fights, teachers and more in a live performance from Washington, D.C."
        ],
        [
         "5794",
         "s5795",
         "Movie",
         "Louis C.K.: Hilarious",
         "Louis C.K.",
         "Louis C.K.",
         "United States",
         "September 16, 2016",
         "2010",
         "84 min",
         null,
         "Movies",
         "Emmy-winning comedy writer Louis C.K. brings his caustic wit to Milwaukee, offering up his unique and uncensored take on sex, parenting and more."
        ],
        [
         "5813",
         "s5814",
         "Movie",
         "Louis C.K.: Live at the Comedy Store",
         "Louis C.K.",
         "Louis C.K.",
         "United States",
         "August 15, 2016",
         "2015",
         "66 min",
         null,
         "Movies",
         "The comic puts his trademark hilarious/thought-provoking spin on finding a bat in his kitchen, seeing rats having sex, Boston accents and dead pets."
        ]
       ],
       "shape": {
        "columns": 12,
        "rows": 3
       }
      },
      "text/html": [
       "<div>\n",
       "<style scoped>\n",
       "    .dataframe tbody tr th:only-of-type {\n",
       "        vertical-align: middle;\n",
       "    }\n",
       "\n",
       "    .dataframe tbody tr th {\n",
       "        vertical-align: top;\n",
       "    }\n",
       "\n",
       "    .dataframe thead th {\n",
       "        text-align: right;\n",
       "    }\n",
       "</style>\n",
       "<table border=\"1\" class=\"dataframe\">\n",
       "  <thead>\n",
       "    <tr style=\"text-align: right;\">\n",
       "      <th></th>\n",
       "      <th>show_id</th>\n",
       "      <th>type</th>\n",
       "      <th>title</th>\n",
       "      <th>director</th>\n",
       "      <th>cast</th>\n",
       "      <th>country</th>\n",
       "      <th>date_added</th>\n",
       "      <th>release_year</th>\n",
       "      <th>rating</th>\n",
       "      <th>duration</th>\n",
       "      <th>listed_in</th>\n",
       "      <th>description</th>\n",
       "    </tr>\n",
       "  </thead>\n",
       "  <tbody>\n",
       "    <tr>\n",
       "      <th>5541</th>\n",
       "      <td>s5542</td>\n",
       "      <td>Movie</td>\n",
       "      <td>Louis C.K. 2017</td>\n",
       "      <td>Louis C.K.</td>\n",
       "      <td>Louis C.K.</td>\n",
       "      <td>United States</td>\n",
       "      <td>April 4, 2017</td>\n",
       "      <td>2017</td>\n",
       "      <td>74 min</td>\n",
       "      <td>NaN</td>\n",
       "      <td>Movies</td>\n",
       "      <td>Louis C.K. muses on religion, eternal love, gi...</td>\n",
       "    </tr>\n",
       "    <tr>\n",
       "      <th>5794</th>\n",
       "      <td>s5795</td>\n",
       "      <td>Movie</td>\n",
       "      <td>Louis C.K.: Hilarious</td>\n",
       "      <td>Louis C.K.</td>\n",
       "      <td>Louis C.K.</td>\n",
       "      <td>United States</td>\n",
       "      <td>September 16, 2016</td>\n",
       "      <td>2010</td>\n",
       "      <td>84 min</td>\n",
       "      <td>NaN</td>\n",
       "      <td>Movies</td>\n",
       "      <td>Emmy-winning comedy writer Louis C.K. brings h...</td>\n",
       "    </tr>\n",
       "    <tr>\n",
       "      <th>5813</th>\n",
       "      <td>s5814</td>\n",
       "      <td>Movie</td>\n",
       "      <td>Louis C.K.: Live at the Comedy Store</td>\n",
       "      <td>Louis C.K.</td>\n",
       "      <td>Louis C.K.</td>\n",
       "      <td>United States</td>\n",
       "      <td>August 15, 2016</td>\n",
       "      <td>2015</td>\n",
       "      <td>66 min</td>\n",
       "      <td>NaN</td>\n",
       "      <td>Movies</td>\n",
       "      <td>The comic puts his trademark hilarious/thought...</td>\n",
       "    </tr>\n",
       "  </tbody>\n",
       "</table>\n",
       "</div>"
      ],
      "text/plain": [
       "     show_id   type                                 title    director  \\\n",
       "5541   s5542  Movie                       Louis C.K. 2017  Louis C.K.   \n",
       "5794   s5795  Movie                 Louis C.K.: Hilarious  Louis C.K.   \n",
       "5813   s5814  Movie  Louis C.K.: Live at the Comedy Store  Louis C.K.   \n",
       "\n",
       "            cast        country          date_added  release_year  rating  \\\n",
       "5541  Louis C.K.  United States       April 4, 2017          2017  74 min   \n",
       "5794  Louis C.K.  United States  September 16, 2016          2010  84 min   \n",
       "5813  Louis C.K.  United States     August 15, 2016          2015  66 min   \n",
       "\n",
       "     duration listed_in                                        description  \n",
       "5541      NaN    Movies  Louis C.K. muses on religion, eternal love, gi...  \n",
       "5794      NaN    Movies  Emmy-winning comedy writer Louis C.K. brings h...  \n",
       "5813      NaN    Movies  The comic puts his trademark hilarious/thought...  "
      ]
     },
     "execution_count": 59,
     "metadata": {},
     "output_type": "execute_result"
    }
   ],
   "source": [
    "df_netflix[df_netflix['duration'].isnull()]"
   ]
  },
  {
   "cell_type": "code",
   "execution_count": 60,
   "metadata": {},
   "outputs": [
    {
     "data": {
      "application/vnd.microsoft.datawrangler.viewer.v0+json": {
       "columns": [
        {
         "name": "index",
         "rawType": "object",
         "type": "string"
        },
        {
         "name": "5541",
         "rawType": "object",
         "type": "unknown"
        }
       ],
       "ref": "da1929f0-ba65-4299-bdf1-bae8d2ed25b6",
       "rows": [
        [
         "show_id",
         "s5542"
        ],
        [
         "type",
         "Movie"
        ],
        [
         "title",
         "Louis C.K. 2017"
        ],
        [
         "director",
         "Louis C.K."
        ],
        [
         "cast",
         "Louis C.K."
        ],
        [
         "country",
         "United States"
        ],
        [
         "date_added",
         "April 4, 2017"
        ],
        [
         "release_year",
         "2017"
        ],
        [
         "rating",
         "74 min"
        ],
        [
         "duration",
         null
        ],
        [
         "listed_in",
         "Movies"
        ],
        [
         "description",
         "Louis C.K. muses on religion, eternal love, giving dogs drugs, email fights, teachers and more in a live performance from Washington, D.C."
        ]
       ],
       "shape": {
        "columns": 1,
        "rows": 12
       }
      },
      "text/plain": [
       "show_id                                                     s5542\n",
       "type                                                        Movie\n",
       "title                                             Louis C.K. 2017\n",
       "director                                               Louis C.K.\n",
       "cast                                                   Louis C.K.\n",
       "country                                             United States\n",
       "date_added                                          April 4, 2017\n",
       "release_year                                                 2017\n",
       "rating                                                     74 min\n",
       "duration                                                      NaN\n",
       "listed_in                                                  Movies\n",
       "description     Louis C.K. muses on religion, eternal love, gi...\n",
       "Name: 5541, dtype: object"
      ]
     },
     "execution_count": 60,
     "metadata": {},
     "output_type": "execute_result"
    }
   ],
   "source": [
    "df_netflix.loc[5541]"
   ]
  },
  {
   "cell_type": "code",
   "execution_count": 61,
   "metadata": {},
   "outputs": [
    {
     "name": "stderr",
     "output_type": "stream",
     "text": [
      "/var/folders/np/cb3_4g1x2ms55b1kf0dx82q40000gn/T/ipykernel_78363/3784764585.py:2: FutureWarning: A value is trying to be set on a copy of a DataFrame or Series through chained assignment using an inplace method.\n",
      "The behavior will change in pandas 3.0. This inplace method will never work because the intermediate object on which we are setting values always behaves as a copy.\n",
      "\n",
      "For example, when doing 'df[col].method(value, inplace=True)', try using 'df.method({col: value}, inplace=True)' or df[col] = df[col].method(value) instead, to perform the operation inplace on the original object.\n",
      "\n",
      "\n",
      "  df_netflix['duration'].fillna('0', inplace=True)\n"
     ]
    }
   ],
   "source": [
    "# Replace it by an arbitrary number with .fillna()\n",
    "df_netflix['duration'].fillna('0', inplace=True)\n",
    "\n",
    "# backward, forward \n",
    "# df_netflix.fillna(method='ffill')\n",
    "# df_netflix.fillna(method='bfill')"
   ]
  },
  {
   "cell_type": "markdown",
   "metadata": {},
   "source": [
    "# Identifying Outliers"
   ]
  },
  {
   "cell_type": "code",
   "execution_count": 67,
   "metadata": {},
   "outputs": [
    {
     "name": "stderr",
     "output_type": "stream",
     "text": [
      "/var/folders/np/cb3_4g1x2ms55b1kf0dx82q40000gn/T/ipykernel_78363/569536992.py:4: SettingWithCopyWarning: \n",
      "A value is trying to be set on a copy of a slice from a DataFrame.\n",
      "Try using .loc[row_indexer,col_indexer] = value instead\n",
      "\n",
      "See the caveats in the documentation: https://pandas.pydata.org/pandas-docs/stable/user_guide/indexing.html#returning-a-view-versus-a-copy\n",
      "  df_movie['minute'] = df_movie['duration'].str.split(expand=True)[0].astype(int)\n"
     ]
    }
   ],
   "source": [
    "# Extracting data from \"duration\" column using split() and extract() method\n",
    "df_movie = df_netflix[df_netflix['type'] == 'Movie']\n",
    "\n",
    "df_movie['minute'] = df_movie['duration'].str.split(expand=True)[0].astype(int)"
   ]
  },
  {
   "cell_type": "code",
   "execution_count": null,
   "metadata": {},
   "outputs": [
    {
     "data": {
      "application/vnd.microsoft.datawrangler.viewer.v0+json": {
       "columns": [
        {
         "name": "index",
         "rawType": "int64",
         "type": "integer"
        },
        {
         "name": "0",
         "rawType": "object",
         "type": "string"
        }
       ],
       "ref": "9c81afaa-ef25-402d-9ed5-61e9fd929ead",
       "rows": [
        [
         "0",
         "2021"
        ],
        [
         "6",
         "2021"
        ],
        [
         "7",
         "2021"
        ],
        [
         "9",
         "2021"
        ],
        [
         "12",
         "2021"
        ],
        [
         "13",
         "2021"
        ],
        [
         "16",
         "2021"
        ],
        [
         "18",
         "2021"
        ],
        [
         "22",
         "2021"
        ],
        [
         "23",
         "2021"
        ],
        [
         "24",
         "2021"
        ],
        [
         "26",
         "2021"
        ],
        [
         "27",
         "2021"
        ],
        [
         "28",
         "2021"
        ],
        [
         "29",
         "2021"
        ],
        [
         "30",
         "2021"
        ],
        [
         "35",
         "2021"
        ],
        [
         "36",
         "2021"
        ],
        [
         "38",
         "2021"
        ],
        [
         "41",
         "2021"
        ],
        [
         "42",
         "2021"
        ],
        [
         "43",
         "2021"
        ],
        [
         "44",
         "2021"
        ],
        [
         "45",
         "2021"
        ],
        [
         "46",
         "2021"
        ],
        [
         "48",
         "2021"
        ],
        [
         "51",
         "2021"
        ],
        [
         "52",
         "2021"
        ],
        [
         "53",
         "2021"
        ],
        [
         "54",
         "2021"
        ],
        [
         "56",
         "2021"
        ],
        [
         "57",
         "2021"
        ],
        [
         "58",
         "2021"
        ],
        [
         "59",
         "2021"
        ],
        [
         "60",
         "2021"
        ],
        [
         "61",
         "2021"
        ],
        [
         "62",
         "2021"
        ],
        [
         "63",
         "2021"
        ],
        [
         "64",
         "2021"
        ],
        [
         "68",
         "2021"
        ],
        [
         "71",
         "2021"
        ],
        [
         "73",
         "2021"
        ],
        [
         "75",
         "2021"
        ],
        [
         "77",
         "2021"
        ],
        [
         "78",
         "2021"
        ],
        [
         "79",
         "2021"
        ],
        [
         "80",
         "2021"
        ],
        [
         "81",
         "2021"
        ],
        [
         "84",
         "2021"
        ],
        [
         "86",
         "2021"
        ]
       ],
       "shape": {
        "columns": 1,
        "rows": 6131
       }
      },
      "text/html": [
       "<div>\n",
       "<style scoped>\n",
       "    .dataframe tbody tr th:only-of-type {\n",
       "        vertical-align: middle;\n",
       "    }\n",
       "\n",
       "    .dataframe tbody tr th {\n",
       "        vertical-align: top;\n",
       "    }\n",
       "\n",
       "    .dataframe thead th {\n",
       "        text-align: right;\n",
       "    }\n",
       "</style>\n",
       "<table border=\"1\" class=\"dataframe\">\n",
       "  <thead>\n",
       "    <tr style=\"text-align: right;\">\n",
       "      <th></th>\n",
       "      <th>0</th>\n",
       "    </tr>\n",
       "  </thead>\n",
       "  <tbody>\n",
       "    <tr>\n",
       "      <th>0</th>\n",
       "      <td>2021</td>\n",
       "    </tr>\n",
       "    <tr>\n",
       "      <th>6</th>\n",
       "      <td>2021</td>\n",
       "    </tr>\n",
       "    <tr>\n",
       "      <th>7</th>\n",
       "      <td>2021</td>\n",
       "    </tr>\n",
       "    <tr>\n",
       "      <th>9</th>\n",
       "      <td>2021</td>\n",
       "    </tr>\n",
       "    <tr>\n",
       "      <th>12</th>\n",
       "      <td>2021</td>\n",
       "    </tr>\n",
       "    <tr>\n",
       "      <th>...</th>\n",
       "      <td>...</td>\n",
       "    </tr>\n",
       "    <tr>\n",
       "      <th>8801</th>\n",
       "      <td>2016</td>\n",
       "    </tr>\n",
       "    <tr>\n",
       "      <th>8802</th>\n",
       "      <td>2019</td>\n",
       "    </tr>\n",
       "    <tr>\n",
       "      <th>8804</th>\n",
       "      <td>2019</td>\n",
       "    </tr>\n",
       "    <tr>\n",
       "      <th>8805</th>\n",
       "      <td>2020</td>\n",
       "    </tr>\n",
       "    <tr>\n",
       "      <th>8806</th>\n",
       "      <td>2019</td>\n",
       "    </tr>\n",
       "  </tbody>\n",
       "</table>\n",
       "<p>6131 rows × 1 columns</p>\n",
       "</div>"
      ],
      "text/plain": [
       "         0\n",
       "0     2021\n",
       "6     2021\n",
       "7     2021\n",
       "9     2021\n",
       "12    2021\n",
       "...    ...\n",
       "8801  2016\n",
       "8802  2019\n",
       "8804  2019\n",
       "8805  2020\n",
       "8806  2019\n",
       "\n",
       "[6131 rows x 1 columns]"
      ]
     },
     "execution_count": 74,
     "metadata": {},
     "output_type": "execute_result"
    }
   ],
   "source": [
    "df_movie['date_added'].str.split(',', expand=True)[1]\n",
    "df_movie['date_added'].str.extract('(\\d{4})') "
   ]
  },
  {
   "cell_type": "code",
   "execution_count": 68,
   "metadata": {},
   "outputs": [
    {
     "data": {
      "application/vnd.microsoft.datawrangler.viewer.v0+json": {
       "columns": [
        {
         "name": "index",
         "rawType": "int64",
         "type": "integer"
        },
        {
         "name": "0",
         "rawType": "int64",
         "type": "integer"
        }
       ],
       "ref": "89479bc5-2d8c-40c6-a5cb-dd9667564200",
       "rows": [
        [
         "0",
         "90"
        ],
        [
         "6",
         "91"
        ],
        [
         "7",
         "125"
        ],
        [
         "9",
         "104"
        ],
        [
         "12",
         "127"
        ],
        [
         "13",
         "91"
        ],
        [
         "16",
         "67"
        ],
        [
         "18",
         "94"
        ],
        [
         "22",
         "161"
        ],
        [
         "23",
         "61"
        ],
        [
         "24",
         "166"
        ],
        [
         "26",
         "147"
        ],
        [
         "27",
         "103"
        ],
        [
         "28",
         "97"
        ],
        [
         "29",
         "106"
        ],
        [
         "30",
         "111"
        ],
        [
         "35",
         "110"
        ],
        [
         "36",
         "105"
        ],
        [
         "38",
         "96"
        ],
        [
         "41",
         "124"
        ],
        [
         "42",
         "116"
        ],
        [
         "43",
         "98"
        ],
        [
         "44",
         "91"
        ],
        [
         "45",
         "23"
        ],
        [
         "46",
         "115"
        ],
        [
         "48",
         "122"
        ],
        [
         "51",
         "99"
        ],
        [
         "52",
         "99"
        ],
        [
         "53",
         "88"
        ],
        [
         "54",
         "100"
        ],
        [
         "56",
         "102"
        ],
        [
         "57",
         "93"
        ],
        [
         "58",
         "96"
        ],
        [
         "59",
         "95"
        ],
        [
         "60",
         "85"
        ],
        [
         "61",
         "97"
        ],
        [
         "62",
         "95"
        ],
        [
         "63",
         "83"
        ],
        [
         "64",
         "103"
        ],
        [
         "68",
         "113"
        ],
        [
         "71",
         "13"
        ],
        [
         "73",
         "182"
        ],
        [
         "75",
         "106"
        ],
        [
         "77",
         "48"
        ],
        [
         "78",
         "145"
        ],
        [
         "79",
         "145"
        ],
        [
         "80",
         "93"
        ],
        [
         "81",
         "106"
        ],
        [
         "84",
         "147"
        ],
        [
         "86",
         "87"
        ]
       ],
       "shape": {
        "columns": 1,
        "rows": 6131
       }
      },
      "text/plain": [
       "0        90\n",
       "6        91\n",
       "7       125\n",
       "9       104\n",
       "12      127\n",
       "       ... \n",
       "8801     96\n",
       "8802    158\n",
       "8804     88\n",
       "8805     88\n",
       "8806    111\n",
       "Name: 0, Length: 6131, dtype: int64"
      ]
     },
     "execution_count": 68,
     "metadata": {},
     "output_type": "execute_result"
    }
   ],
   "source": [
    "df_movie['duration'].str.split(n=0, expand=True)[0].astype(int)"
   ]
  },
  {
   "cell_type": "code",
   "execution_count": null,
   "metadata": {},
   "outputs": [],
   "source": [
    "# selecting only movies\n",
    "df_movie = df_netflix[df_netflix['type']=='Movie']\n",
    "\n",
    "# Split Strings by Characters with the str.split Method\n",
    "df_movie = df_movie.assign(minute = df_movie['duration'].str.split(expand=True)[0].astype(int))\n",
    "# df_movie = df_movie.assign(minute = df_movie['duration'].str.extract(r'(\\d+)', expand=True))"
   ]
  },
  {
   "cell_type": "markdown",
   "metadata": {},
   "source": [
    "## Using histograms to identify outliers within numeric data"
   ]
  },
  {
   "cell_type": "code",
   "execution_count": 77,
   "metadata": {},
   "outputs": [
    {
     "data": {
      "text/plain": [
       "<Axes: ylabel='Frequency'>"
      ]
     },
     "execution_count": 77,
     "metadata": {},
     "output_type": "execute_result"
    },
    {
     "data": {
      "image/png": "[encoded data removed]",
      "text/plain": [
       "<Figure size 640x480 with 1 Axes>"
      ]
     },
     "metadata": {},
     "output_type": "display_data"
    }
   ],
   "source": [
    "# make histogram with pandas\n",
    "df_movie['minute'].plot(kind='hist', bins=10)"
   ]
  },
  {
   "cell_type": "code",
   "execution_count": 79,
   "metadata": {},
   "outputs": [
    {
     "data": {
      "application/vnd.microsoft.datawrangler.viewer.v0+json": {
       "columns": [
        {
         "name": "index",
         "rawType": "interval[float64, right]",
         "type": "unknown"
        },
        {
         "name": "count",
         "rawType": "int64",
         "type": "integer"
        }
       ],
       "ref": "7d0314c2-36f6-4f0b-837e-6114b73d02c2",
       "rows": [
        [
         "(-0.313, 31.2]",
         "135"
        ],
        [
         "(31.2, 62.4]",
         "410"
        ],
        [
         "(62.4, 93.6]",
         "1867"
        ],
        [
         "(93.6, 124.8]",
         "2772"
        ],
        [
         "(124.8, 156.0]",
         "766"
        ],
        [
         "(156.0, 187.2]",
         "150"
        ],
        [
         "(187.2, 218.4]",
         "22"
        ],
        [
         "(218.4, 249.6]",
         "6"
        ],
        [
         "(249.6, 280.8]",
         "2"
        ],
        [
         "(280.8, 312.0]",
         "1"
        ]
       ],
       "shape": {
        "columns": 1,
        "rows": 10
       }
      },
      "text/plain": [
       "(-0.313, 31.2]     135\n",
       "(31.2, 62.4]       410\n",
       "(62.4, 93.6]      1867\n",
       "(93.6, 124.8]     2772\n",
       "(124.8, 156.0]     766\n",
       "(156.0, 187.2]     150\n",
       "(187.2, 218.4]      22\n",
       "(218.4, 249.6]       6\n",
       "(249.6, 280.8]       2\n",
       "(280.8, 312.0]       1\n",
       "Name: count, dtype: int64"
      ]
     },
     "execution_count": 79,
     "metadata": {},
     "output_type": "execute_result"
    }
   ],
   "source": [
    "# get bar ranges with value_counts method and numbers of bins\n",
    "df_movie['minute'].value_counts(bins=10).sort_index()"
   ]
  },
  {
   "cell_type": "code",
   "execution_count": 83,
   "metadata": {},
   "outputs": [
    {
     "data": {
      "application/vnd.microsoft.datawrangler.viewer.v0+json": {
       "columns": [
        {
         "name": "index",
         "rawType": "int64",
         "type": "integer"
        },
        {
         "name": "show_id",
         "rawType": "object",
         "type": "string"
        },
        {
         "name": "type",
         "rawType": "object",
         "type": "string"
        },
        {
         "name": "title",
         "rawType": "object",
         "type": "string"
        },
        {
         "name": "director",
         "rawType": "object",
         "type": "unknown"
        },
        {
         "name": "cast",
         "rawType": "object",
         "type": "unknown"
        },
        {
         "name": "country",
         "rawType": "object",
         "type": "unknown"
        },
        {
         "name": "date_added",
         "rawType": "object",
         "type": "string"
        },
        {
         "name": "release_year",
         "rawType": "int64",
         "type": "integer"
        },
        {
         "name": "rating",
         "rawType": "object",
         "type": "string"
        },
        {
         "name": "duration",
         "rawType": "object",
         "type": "string"
        },
        {
         "name": "listed_in",
         "rawType": "object",
         "type": "string"
        },
        {
         "name": "description",
         "rawType": "object",
         "type": "string"
        },
        {
         "name": "minute",
         "rawType": "int64",
         "type": "integer"
        }
       ],
       "ref": "b8b41cc2-29f4-43ad-b8e9-e58f189efd13",
       "rows": [
        [
         "45",
         "s46",
         "Movie",
         "My Heroes Were Cowboys",
         "Tyler Greco",
         null,
         null,
         "September 16, 2021",
         "2021",
         "PG",
         "23 min",
         "Documentaries",
         "Robin Wiltshire's painful childhood was rescued by Westerns. Now he lives on the frontier of his dreams, training the horses he loves for the big screen.",
         "23"
        ],
        [
         "71",
         "s72",
         "Movie",
         "A StoryBots Space Adventure",
         "David A. Vargas",
         "Evan Spiridellis, Erin Fitzgerald, Jeff Gill, Fred Tatasciore, Evan Michael Lee, Jared Isaacman, Sian Proctor, Chris Sembroski, Hayley Arceneaux",
         null,
         "September 14, 2021",
         "2021",
         "TV-Y",
         "13 min",
         "Children & Family Movies",
         "Join the StoryBots and the space travelers of the historic Inspiration4 mission as they search for answers to kids' questions about space.",
         "13"
        ],
        [
         "166",
         "s167",
         "Movie",
         "Once Upon a Time in America",
         "Sergio Leone",
         "Robert De Niro, James Woods, Elizabeth McGovern, Treat Williams, Tuesday Weld, Burt Young, Joe Pesci, Danny Aiello, William Forsythe, James Hayden",
         "Italy, United States",
         "September 1, 2021",
         "1984",
         "R",
         "229 min",
         "Classic Movies, Dramas",
         "Director Sergio Leone's sprawling crime epic follows a group of Jewish mobsters who rise in the ranks of organized crime in 1920s New York City.",
         "229"
        ],
        [
         "694",
         "s695",
         "Movie",
         "Aziza",
         "Soudade Kaadan",
         "Caress Bashar, Abdel Moneim Amayri",
         "Lebanon, Syria",
         "June 17, 2021",
         "2019",
         "TV-PG",
         "13 min",
         "Comedies, Dramas, Independent Movies",
         "This short film follows a newly displaced Syrian couple's drive around Beirut, which then morphs into a hallucinatory and nostalgic trip.",
         "13"
        ],
        [
         "695",
         "s696",
         "Movie",
         "Besieged Bread",
         "Soudade Kaadan",
         "Lama Hakeim, Gabriel Malki, Ehab Shaaban",
         null,
         "June 17, 2021",
         "2015",
         "TV-14",
         "12 min",
         "Dramas, International Movies",
         "In battle-ridden Syria, a woman trying to smuggle bread into a blockaded area crosses paths with a soldier who has deserted the regime's forces.",
         "12"
        ],
        [
         "717",
         "s718",
         "Movie",
         "Headspace: Unwind Your Mind",
         null,
         "Andy Puddicombe, Evelyn Lewis Prieto, Ginger Daniels, Darren Pettie, Simon Prebble, Rhiannon Mcgavin, Kate Seftel",
         null,
         "June 15, 2021",
         "2021",
         "TV-G",
         "273 min",
         "Documentaries",
         "Do you want to relax, meditate or sleep deeply? Personalize the experience according to your mood or mindset with this Headspace interactive special.",
         "273"
        ],
        [
         "811",
         "s812",
         "Movie",
         "Super Monsters: Once Upon a Rhyme",
         "Steve Ball",
         "Elyse Maloway, Vincent Tong, Andrea Libman, Alessandro Juliani, Nicole Anthony, Erin Mathews, Diana Kaarina, Gigi Saul Guerrero, Asia Mattu, Rukiya Bernard, Ian James Corlett, Britt McKillip",
         null,
         "June 2, 2021",
         "2021",
         "TV-Y",
         "25 min",
         "Children & Family Movies",
         "From Goldilocks to Hansel and Gretel, the Super Monsters reimagine classic fairy tales and favorite nursery rhymes with a musical, magical spin!",
         "25"
        ],
        [
         "854",
         "s855",
         "Movie",
         "Creating an Army of the Dead",
         null,
         null,
         null,
         "May 21, 2021",
         "2021",
         "TV-MA",
         "29 min",
         "Documentaries",
         "Zack Snyder and his \"Army of the Dead\" team dive into the film's wild stunts, groundbreaking effects and the evolution of the zombie genre.",
         "29"
        ],
        [
         "991",
         "s992",
         "Movie",
         "One Like It",
         "Marwan Nabil",
         "Riham Abdel Ghafour, Mohammed Aly Rizk, Hazem Samir, Salwa Othman, Mahmoud Gharib",
         "Egypt",
         "April 23, 2021",
         "2020",
         "TV-G",
         "15 min",
         "Dramas, Independent Movies, International Movies",
         "This short film follows a day in the life of a young woman in Egypt and how her interactions with others expose long-standing stereotypes and biases.",
         "15"
        ],
        [
         "1019",
         "s1020",
         "Movie",
         "Lagaan",
         "Ashutosh Gowariker",
         "Aamir Khan, Gracy Singh, Rachel Shelley, Paul Blackthorne, Kulbhushan Kharbanda, Raghuvir Yadav, Yashpal Sharma, Rajendranath Zutshi, Rajesh Vivek, Aditya Lakhia",
         "India, United Kingdom",
         "April 17, 2021",
         "2001",
         "PG",
         "224 min",
         "Dramas, International Movies, Music & Musicals",
         "In 1890s India, an arrogant British commander challenges the harshly taxed residents of Champaner to a high-stakes cricket match.",
         "224"
        ],
        [
         "1155",
         "s1156",
         "Movie",
         "Marked",
         "Nadine Ibrahim",
         null,
         "Nigeria",
         "March 28, 2021",
         "2021",
         "TV-PG",
         "21 min",
         "Documentaries, International Movies",
         "This documentary explores Nigeria’s cultural practice of marking, including its origins and meaning as a symbol of identity, beauty and spirituality.",
         "21"
        ],
        [
         "1192",
         "s1193",
         "Movie",
         "The Present",
         "Farah Nabulsi",
         "Saleh Bakri, Maryam Kanj, Maryam Kamiel Basha, Ameer Khlawe, Ala' Hanani, Malak Abu Ghraibeh, Karam Elayyan, Leila Mouammar, Angie Saba",
         "United Kingdom,",
         "March 18, 2021",
         "2020",
         "TV-MA",
         "24 min",
         "Dramas, International Movies",
         "Yusuf and his daughter set out to buy his wife an anniversary gift, a gesture demanding much patience and negotiation skills in the West Bank.",
         "24"
        ],
        [
         "1253",
         "s1254",
         "Movie",
         "LEGO Marvel Spider-Man: Vexed by Venom",
         "Andrew Duncan, Ken Cunningham",
         "Robbie Daymond, Ben Pronsky, Josh Keaton, Tara Strong, Jennifer Hale, Laura Bailey",
         "United States",
         "March 1, 2021",
         "2019",
         "TV-Y",
         "22 min",
         "Children & Family Movies, Comedies",
         "When Green Goblin and Venom team up for a disastrous scheme, Spider-Man calls in a wall-crawling ally and must rely on his Spidey senses to stop them.",
         "22"
        ],
        [
         "1425",
         "s1426",
         "Movie",
         "Creating The Queen's Gambit",
         null,
         null,
         "United States",
         "January 8, 2021",
         "2021",
         "TV-14",
         "14 min",
         "Documentaries",
         "A fascinating character. Exquisite sets. A wig for every era. The stars, creators and crew reveal how the hit series about a chess prodigy came to life.",
         "14"
        ],
        [
         "1484",
         "s1485",
         "Movie",
         "Cops and Robbers",
         "Arnon Manor, Timothy Ware-Hill",
         "Timothy Ware-Hill",
         "United States",
         "December 28, 2020",
         "2020",
         "PG-13",
         "8 min",
         "Dramas",
         "Animation and activism unite in this multimedia spoken-word response to police brutality and racial injustice.",
         "8"
        ],
        [
         "1507",
         "s1508",
         "Movie",
         "Shaun the Sheep: The Farmer’s Llamas",
         "Jay Grace",
         "Justin Fletcher, John Sparkes, Sean Connolly, Chris Grimes",
         "United Kingdom",
         "December 22, 2020",
         "2020",
         "TV-Y",
         "28 min",
         "Children & Family Movies, Comedies",
         "A trio of mischievous llamas from the county fair start making a mess of the farm, so Shaun and the flock must find a way to boot out the troublemakers.",
         "28"
        ],
        [
         "1556",
         "s1557",
         "Movie",
         "A Trash Truck Christmas",
         "Eddie Rosas",
         "Henry Keane, Glen Keane, Lucas Neff, Brian Baumgartner, Jackie Loeb, John DiMaggio",
         null,
         "December 11, 2020",
         "2020",
         "TV-Y",
         "28 min",
         "Children & Family Movies",
         "When Santa crash-lands in the junkyard on Christmas Eve, Hank, Trash Truck and their animal friends all have a hand in rescuing the holiday for everyone.",
         "28"
        ],
        [
         "1557",
         "s1558",
         "Movie",
         "Canvas",
         "Frank E. Abney III",
         null,
         "United States",
         "December 11, 2020",
         "2020",
         "G",
         "9 min",
         "Children & Family Movies, Dramas",
         "After a heartbreaking loss, a grandfather struggling to reclaim his passion for painting finds the inspiration to create again.",
         "9"
        ],
        [
         "1581",
         "s1582",
         "Movie",
         "Super Monsters: Santa’s Super Monster Helpers",
         "Steve Ball",
         "Elyse Maloway, Vincent Tong, Erin Mathews, Andrea Libman, Alessandro Juliani, Nicole Anthony, Diana Kaarina, Gigi Saul Guerrero, Rukiya Bernard, Asia Mattu, Elicia MacKenzie",
         null,
         "December 8, 2020",
         "2020",
         "TV-Y",
         "24 min",
         "Children & Family Movies",
         "When Santa needs serious help prepping all of his presents, the Super Monsters lend a hand — and some monster magic — to get every gift out on time!",
         "24"
        ],
        [
         "1588",
         "s1589",
         "Movie",
         "Mighty Express: A Mighty Christmas",
         "Clint Butler",
         "Jay Hatton, Zoe Hatz, Meesha Contreras, Dylan Schombing, Tyler Nathan, Leo Orgil, Michela Luci, Ian Ho, Evan Lefeuvre, Annick Obonsawin, Gracen Daly",
         "Canada",
         "December 5, 2020",
         "2020",
         "TV-Y",
         "26 min",
         "Children & Family Movies",
         "The Mighty Express welcomes a new train and speeds into a snowstorm to deliver Santa’s presents and save Christmas for all the kids in Tracksville.",
         "26"
        ],
        [
         "1600",
         "s1601",
         "Movie",
         "Chico Bon Bon and the Very Berry Holiday",
         "Darragh O'Connell",
         "Robbie Daymond, Dayci Brookshire, Anthony Tedesco, Andy Abbott, Emma Sloan Jacobs, Joanna Lewis, Matt Mercer, Ian Nikus",
         null,
         "December 3, 2020",
         "2020",
         "TV-Y",
         "25 min",
         "Children & Family Movies",
         "The Fix-It Force makes a plan to hit every home as fast as they can, delivering Blunderberry Cakes before the town awakes to avoid a holiday disaster.",
         "25"
        ],
        [
         "1635",
         "s1636",
         "Movie",
         "A Go! Go! Cory Carson Christmas",
         "Stanley Moore, Alex Woo",
         "Alan C. Lim, Taron C. Hensley, Maisie Benson, Kerry Gudjohnsen, Paul Killam, Smith Foreman, Ann Kendrick, Ella Joy Ballesteros, Neena-Sinaii Simpo, Eli Morse",
         "United States",
         "November 27, 2020",
         "2020",
         "TV-Y",
         "22 min",
         "Children & Family Movies",
         "When a familiar-looking stranger crashes in without a memory, Cory helps him remember the magic of Christmas to save the holiday for everyone.",
         "22"
        ],
        [
         "1669",
         "s1670",
         "Movie",
         "If Anything Happens I Love You",
         "Will McCormack, Michael Govier",
         null,
         "United States",
         "November 20, 2020",
         "2020",
         "PG",
         "13 min",
         "Dramas",
         "Grieving parents journey through an emotional void as they mourn the loss of a child in the aftermath of a tragic school shooting.",
         "13"
        ],
        [
         "1745",
         "s1746",
         "Movie",
         "Ya no estoy aquí: Una conversación entre Guillermo del Toro y Alfonso Cuarón",
         null,
         "Guillermo del Toro, Alfonso Cuarón",
         null,
         "November 3, 2020",
         "2020",
         "TV-PG",
         "15 min",
         "Documentaries",
         "Guillermo del Toro and Alfonso Cuarón discuss fellow Mexican director Fernando Frías de la Parra's award-winning film \"I'm No Longer Here.\"",
         "15"
        ],
        [
         "1751",
         "s1752",
         "Movie",
         "Elf Pets: A Fox Cub’s Christmas Tale",
         "Chanda Bell",
         "Leslie Bellair, Brad Hyland, Brody Rose, Carol Aebersold",
         "United States",
         "November 1, 2020",
         "2020",
         "TV-Y",
         "28 min",
         "Children & Family Movies",
         "An elite team of elves – and their furry fox cub friends – help bring the Christmas spirit to a boy whose mom may not make it home for the holidays.",
         "28"
        ],
        [
         "1752",
         "s1753",
         "Movie",
         "Elf Pets: Santa’s Reindeer Rescue",
         "Chanda Bell",
         "Brad Hyland, Drew Barber, Ashley Roberts, Lowrey Brown, Kristyl Tift, Manny Mahen, Olivia Berkeley, Eleanor Rocha",
         "United States",
         "November 1, 2020",
         "2020",
         "TV-Y",
         "27 min",
         "Children & Family Movies",
         "Determined to help Santa get ready for his merry rounds of gift-giving, a team of special elves wrangles in more reindeer and much-needed holiday magic.",
         "27"
        ],
        [
         "1871",
         "s1872",
         "Movie",
         "Super Monsters: Dia de los Monsters",
         null,
         null,
         "Canada",
         "October 9, 2020",
         "2020",
         "TV-Y",
         "25 min",
         "Children & Family Movies",
         "The Super Monsters celebrate Día de los Muertos in Vida’s hometown with her magical family, some new monster friends and a spook-tacular parade!",
         "25"
        ],
        [
         "1892",
         "s1893",
         "Movie",
         "A Go! Go! Cory Carson Halloween",
         "Alex Woo, Stanley Moore",
         "Alan C. Lim, Smith Foreman, Maisie Benson, Ann Kendrick, Kerry Gudjohnsen, Paul Killam, Stanley Moore, Tyler Hendrix, Ella Joy Ballesteros, Jimmy Olea",
         null,
         "October 2, 2020",
         "2020",
         "TV-Y",
         "22 min",
         "Children & Family Movies",
         "Cory, Chrissy and Freddie are on the hunt for king-sized candy bars this Halloween! But are all the treats worth the trek to the spooky side of town?",
         "22"
        ],
        [
         "1927",
         "s1928",
         "Movie",
         "Baxu and the Giants",
         "Florian Schott",
         "Camilla Jo-Ann Daries, Wafeeq Narimab, Anna Louw, Steven Afrikaner, Ashwyn Mberi, Robert Hara Gaeb",
         "Namibia",
         "September 30, 2020",
         "2019",
         "TV-PG",
         "29 min",
         "Dramas, International Movies",
         "A young girl grows increasingly concerned about the rhino poaching in her village when it begins to directly impact her impoverished family.",
         "29"
        ],
        [
         "1930",
         "s1931",
         "Movie",
         "Poacher",
         "Tom Whitworth",
         "Brian Ogola, Davina Leonard, Shiviske Shivisi, Lenny Juma, Olwenya Maina, Peter King, Alfred Munyua, Mwajuma Belle",
         "United Kingdom, Kenya",
         "September 30, 2020",
         "2018",
         "TV-MA",
         "28 min",
         "Dramas, International Movies, Thrillers",
         "A daring farmer steals illicit ivory from a group of international terrorists and must elude their dangerous and deadly games.",
         "28"
        ],
        [
         "1932",
         "s1933",
         "Movie",
         "The Boys in the Band: Something Personal",
         null,
         "Jim Parsons, Zachary Quinto, Matt Bomer, Andrew Rannells, Charlie Carver, Robin de Jesús, Brian Hutchison, Michael Benjamin Washington, Tuc Watkins, Joe Mantello, Ned Martel, Mart Crowley",
         "United States",
         "September 30, 2020",
         "2020",
         "TV-MA",
         "28 min",
         "Documentaries, LGBTQ Movies",
         "Decades after his play first put gay life center stage, Mart Crowley joins the cast and crew of the 2020 film to reflect on the story's enduring legacy.",
         "28"
        ],
        [
         "1962",
         "s1963",
         "Movie",
         "A Love Song for Latasha",
         "Sophia Nahli Allison",
         null,
         "United States",
         "September 21, 2020",
         "2020",
         "TV-PG",
         "20 min",
         "Documentaries",
         "The killing of Latasha Harlins became a flashpoint for the 1992 LA uprising. This documentary evocatively explores the 15-year-old's life and dreams.",
         "20"
        ],
        [
         "2081",
         "s2082",
         "Movie",
         "True: Friendship Day",
         "Mark Thornton, Todd Kauffman",
         "Michela Luci, Jamie Watson, Eric Peterson, Anna Claire Bartlam, Nicolas Aqui, Cory Doran, Julie Lemieux, Derek McGrath",
         "Canada",
         "September 1, 2020",
         "2020",
         "TV-Y",
         "24 min",
         "Children & Family Movies",
         "When a giant Grippity-Grab snags Grizelda’s friendship bracelet and turns her into a mermaid, True heads under the sea with magic wishes to save the day.",
         "24"
        ],
        [
         "2109",
         "s2110",
         "Movie",
         "John Was Trying to Contact Aliens",
         null,
         null,
         "United States",
         "August 20, 2020",
         "2020",
         "TV-PG",
         "17 min",
         "Documentaries, LGBTQ Movies",
         "A rural electronics whiz broadcasts radio signals into space and monitors for signs of aliens, but makes a more important connection here on Earth.",
         "17"
        ],
        [
         "2166",
         "s2167",
         "Movie",
         "A Go! Go! Cory Carson Summer Camp",
         "Stanley Moore, Alex Woo",
         "Alan C. Lim, Smith Foreman, Abigail Vibat, Pfifer Chastain, Jim Capobianco, Neena-Sinaii Simpo, Eli Morse, Adelaide Hirasaki, Paul Killam, Kerry Gudjohnsen, Maisie Benson",
         null,
         "August 4, 2020",
         "2020",
         "TV-Y",
         "21 min",
         "Children & Family Movies",
         "Cory's spending the summer at Camp Friendship with his best friend, Freddie. But jealousy flares when Freddie brings his cousin Rosie along for the ride.",
         "21"
        ],
        [
         "2177",
         "s2178",
         "Movie",
         "Super Monsters: The New Class",
         "Steve Ball",
         "Elyse Maloway, Vincent Tong, Erin Mathews, Andrea Libman, Alessandro Juliani, Nicole Anthony, Diana Kaarina, Gigi Saul Guerrero, Asia Mattu, Rukiya Bernard, Elicia MacKenzie, Ian James Corlett, Britt McKillip",
         "Canada",
         "August 1, 2020",
         "2020",
         "TV-Y",
         "25 min",
         "Children & Family Movies",
         "A new class of pint-sized preschoolers arrives at Pitchfork Pines, and the Super Monsters take their superpowers to the next level — the Purple Room!",
         "25"
        ],
        [
         "2216",
         "s2217",
         "Movie",
         "The Letter Reader",
         "Sibusiso Khuzwayo",
         "Bahle Mashinini, Nomalanga Shabane, Andile Gumbi, Nokuthula Mazibuko",
         "South Africa",
         "July 23, 2020",
         "2019",
         "TV-PG",
         "30 min",
         "Dramas, International Movies",
         "A young boy from Johannesburg arrives in KwaZulu-Natal and begins to read letters for villagers — then falls in love with one of the recipients.",
         "30"
        ],
        [
         "2248",
         "s2249",
         "Movie",
         "The Claudia Kishi Club",
         "Sue Ding",
         null,
         "United States",
         "July 10, 2020",
         "2020",
         "TV-14",
         "17 min",
         "Documentaries",
         "Asian American creatives pay passionate tribute to the iconic, stereotype-busting \"Baby-Sitters Club\" character in this heartfelt documentary short.",
         "17"
        ],
        [
         "2440",
         "s2441",
         "Movie",
         "True: Rainbow Rescue",
         null,
         "Michela Luci, Jamie Watson, Eric Peterson, Anna Claire Bartlam, Nicolas Aqui, Cory Doran, Julie Lemieux, Derek McGrath",
         "Canada",
         "June 2, 2020",
         "2020",
         "TV-Y",
         "24 min",
         "Children & Family Movies",
         "True and Bartleby travel to the other side of the Neverending Rainbow to bring back Dillydally — a brave explorer who's the Rainbow King's best friend!",
         "24"
        ],
        [
         "2484",
         "s2485",
         "Movie",
         "Lock Your Girls In",
         "Fouad El-Mohandes",
         "Fouad El-Mohandes, Sanaa Younes, Sherihan, Ahmed Rateb, Ijlal Zaki, Zakariya Mowafi",
         null,
         "May 21, 2020",
         "1982",
         "TV-PG",
         "233 min",
         "Comedies, International Movies, Romantic Movies",
         "A widower believes he must marry off his three problematic daughters before he can pursue his real goal of marrying his secret love.",
         "233"
        ],
        [
         "2487",
         "s2488",
         "Movie",
         "No Longer kids",
         "Samir Al Asfory",
         "Said Saleh, Hassan Moustafa, Ahmed Zaki, Younes Shalabi, Nadia Shukri, Karima Mokhtar",
         "Egypt",
         "May 21, 2020",
         "1979",
         "TV-14",
         "237 min",
         "Comedies, Dramas, International Movies",
         "Hoping to prevent their father from skipping town with his mistress, four rowdy siblings resort to absurd measures to stop him.",
         "237"
        ],
        [
         "2488",
         "s2489",
         "Movie",
         "Raya and Sakina",
         "Hussein Kamal",
         "Suhair El-Babili, Shadia, Abdel Moneim Madbouly, Ahmed Bedir",
         null,
         "May 21, 2020",
         "1984",
         "TV-14",
         "230 min",
         "Comedies, Dramas, International Movies",
         "When robberies and murders targeting women sweep early 20th-century Egypt, the hunt for suspects leads to two shadowy sisters. Based on a true story.",
         "230"
        ],
        [
         "2491",
         "s2492",
         "Movie",
         "The School of Mischief",
         "Houssam El-Din Mustafa",
         "Suhair El-Babili, Adel Emam, Saeed Saleh, Younes Shalabi, Hadi El-Gayyar, Ahmad Zaki, Hassan Moustafa",
         "Egypt",
         "May 21, 2020",
         "1973",
         "TV-14",
         "253 min",
         "Comedies, Dramas, International Movies",
         "A high school teacher volunteers to transform five notorious misfits into model students — and has unintended results.",
         "253"
        ],
        [
         "2593",
         "s2594",
         "Movie",
         "Thomas & Friends: Marvelous Machinery: A New Arrival",
         "Joey So",
         "Joseph May, Keith Wickham, Yvonne Grundy, Jules De Jongh, Rachael Louise Miller, Rob Rackstraw, Mike Grady",
         null,
         "May 1, 2020",
         "2020",
         "TV-Y",
         "23 min",
         "Children & Family Movies",
         "With a technology fair in Sodor, Thomas and the Steam Team tackle a flurry of tasks — but can they complete their deliveries before the grand opening?",
         "23"
        ],
        [
         "2594",
         "s2595",
         "Movie",
         "Thomas & Friends: Marvelous Machinery: World of Tomorrow",
         "Joey So",
         "Joseph May, Keith Wickham, Yvonne Grundy, Matt McCooey, Joe Swash, Jules De Jongh, Rob Rackstraw, Rachael Louise Miller, Mike Grady, Siu-See Hung",
         null,
         "May 1, 2020",
         "2020",
         "TV-Y",
         "23 min",
         "Children & Family Movies",
         "Amid special demonstrations in Sodor, Thomas and the gang worry they'll be replaced by new inventions until a mission shows how useful they really are.",
         "23"
        ],
        [
         "2595",
         "s2596",
         "Movie",
         "Thomas & Friends: Thomas and the Royal Engine",
         "Joey So",
         "Rosamund Pike, Joseph May, Keith Wickham, Sharon Miller, Jules De Jongh, Rachael Louise Miller, Rob Rackstraw",
         null,
         "May 1, 2020",
         "2020",
         "TV-Y",
         "23 min",
         "Children & Family Movies",
         "An invitation from the Queen sends Thomas and the crew to London as they weave through delays and debacles while racing to a royal celebration.",
         "23"
        ],
        [
         "2713",
         "s2714",
         "Movie",
         "Sol Levante",
         "Akira Saitoh",
         null,
         "Japan",
         "April 2, 2020",
         "2020",
         "TV-14",
         "5 min",
         "Action & Adventure, Anime Features, International Movies",
         "A young warrior and her familiar search for the sacred place said to fulfill wishes. It's best not to anger the ancient guardians and spirits.",
         "5"
        ],
        [
         "2770",
         "s2771",
         "Movie",
         "True: Wuzzle Wegg Day",
         "Todd Kauffman, Mark Thornton",
         "Michela Luci, Jamie Watson, Eric Peterson, Anna Claire Bartlam, Nicolas Aqui, Cory Doran, Julie Lemieux",
         "Canada",
         "March 27, 2020",
         "2020",
         "TV-Y",
         "24 min",
         "Children & Family Movies",
         "Spring has sprung in Rainbow City, and Wuzzle Wegg Day is right around the corner! But Bartleby's convinced that a Wegg-stealing monster is on the loose.",
         "24"
        ],
        [
         "2776",
         "s2777",
         "Movie",
         "Making Unorthodox",
         "Marlene Melchior",
         null,
         "Germany",
         "March 26, 2020",
         "2020",
         "TV-G",
         "21 min",
         "Documentaries, International Movies",
         "A look at the making of one of the first series to authentically portray and explore issues in a Hasidic community as they pertain to women's lives.",
         "21"
        ],
        [
         "2811",
         "s2812",
         "Movie",
         "Digs & Discoveries: All Track's Lead to Rome",
         "Joey So",
         "Joseph May, Anna Francolini, Antonio Magro, Montserrat Lombard, Flaminia Cinque, Keith Wickham",
         null,
         "March 15, 2020",
         "2019",
         "TV-Y",
         "23 min",
         "Children & Family Movies",
         "After being introduced to Italy's ancient history, Thomas sets out to prove his expertise until his curiosity lands him in trouble in an old mine.",
         "23"
        ]
       ],
       "shape": {
        "columns": 13,
        "rows": 144
       }
      },
      "text/html": [
       "<div>\n",
       "<style scoped>\n",
       "    .dataframe tbody tr th:only-of-type {\n",
       "        vertical-align: middle;\n",
       "    }\n",
       "\n",
       "    .dataframe tbody tr th {\n",
       "        vertical-align: top;\n",
       "    }\n",
       "\n",
       "    .dataframe thead th {\n",
       "        text-align: right;\n",
       "    }\n",
       "</style>\n",
       "<table border=\"1\" class=\"dataframe\">\n",
       "  <thead>\n",
       "    <tr style=\"text-align: right;\">\n",
       "      <th></th>\n",
       "      <th>show_id</th>\n",
       "      <th>type</th>\n",
       "      <th>title</th>\n",
       "      <th>director</th>\n",
       "      <th>cast</th>\n",
       "      <th>country</th>\n",
       "      <th>date_added</th>\n",
       "      <th>release_year</th>\n",
       "      <th>rating</th>\n",
       "      <th>duration</th>\n",
       "      <th>listed_in</th>\n",
       "      <th>description</th>\n",
       "      <th>minute</th>\n",
       "    </tr>\n",
       "  </thead>\n",
       "  <tbody>\n",
       "    <tr>\n",
       "      <th>45</th>\n",
       "      <td>s46</td>\n",
       "      <td>Movie</td>\n",
       "      <td>My Heroes Were Cowboys</td>\n",
       "      <td>Tyler Greco</td>\n",
       "      <td>NaN</td>\n",
       "      <td>NaN</td>\n",
       "      <td>September 16, 2021</td>\n",
       "      <td>2021</td>\n",
       "      <td>PG</td>\n",
       "      <td>23 min</td>\n",
       "      <td>Documentaries</td>\n",
       "      <td>Robin Wiltshire's painful childhood was rescue...</td>\n",
       "      <td>23</td>\n",
       "    </tr>\n",
       "    <tr>\n",
       "      <th>71</th>\n",
       "      <td>s72</td>\n",
       "      <td>Movie</td>\n",
       "      <td>A StoryBots Space Adventure</td>\n",
       "      <td>David A. Vargas</td>\n",
       "      <td>Evan Spiridellis, Erin Fitzgerald, Jeff Gill, ...</td>\n",
       "      <td>NaN</td>\n",
       "      <td>September 14, 2021</td>\n",
       "      <td>2021</td>\n",
       "      <td>TV-Y</td>\n",
       "      <td>13 min</td>\n",
       "      <td>Children &amp; Family Movies</td>\n",
       "      <td>Join the StoryBots and the space travelers of ...</td>\n",
       "      <td>13</td>\n",
       "    </tr>\n",
       "    <tr>\n",
       "      <th>166</th>\n",
       "      <td>s167</td>\n",
       "      <td>Movie</td>\n",
       "      <td>Once Upon a Time in America</td>\n",
       "      <td>Sergio Leone</td>\n",
       "      <td>Robert De Niro, James Woods, Elizabeth McGover...</td>\n",
       "      <td>Italy, United States</td>\n",
       "      <td>September 1, 2021</td>\n",
       "      <td>1984</td>\n",
       "      <td>R</td>\n",
       "      <td>229 min</td>\n",
       "      <td>Classic Movies, Dramas</td>\n",
       "      <td>Director Sergio Leone's sprawling crime epic f...</td>\n",
       "      <td>229</td>\n",
       "    </tr>\n",
       "    <tr>\n",
       "      <th>694</th>\n",
       "      <td>s695</td>\n",
       "      <td>Movie</td>\n",
       "      <td>Aziza</td>\n",
       "      <td>Soudade Kaadan</td>\n",
       "      <td>Caress Bashar, Abdel Moneim Amayri</td>\n",
       "      <td>Lebanon, Syria</td>\n",
       "      <td>June 17, 2021</td>\n",
       "      <td>2019</td>\n",
       "      <td>TV-PG</td>\n",
       "      <td>13 min</td>\n",
       "      <td>Comedies, Dramas, Independent Movies</td>\n",
       "      <td>This short film follows a newly displaced Syri...</td>\n",
       "      <td>13</td>\n",
       "    </tr>\n",
       "    <tr>\n",
       "      <th>695</th>\n",
       "      <td>s696</td>\n",
       "      <td>Movie</td>\n",
       "      <td>Besieged Bread</td>\n",
       "      <td>Soudade Kaadan</td>\n",
       "      <td>Lama Hakeim, Gabriel Malki, Ehab Shaaban</td>\n",
       "      <td>NaN</td>\n",
       "      <td>June 17, 2021</td>\n",
       "      <td>2015</td>\n",
       "      <td>TV-14</td>\n",
       "      <td>12 min</td>\n",
       "      <td>Dramas, International Movies</td>\n",
       "      <td>In battle-ridden Syria, a woman trying to smug...</td>\n",
       "      <td>12</td>\n",
       "    </tr>\n",
       "    <tr>\n",
       "      <th>...</th>\n",
       "      <td>...</td>\n",
       "      <td>...</td>\n",
       "      <td>...</td>\n",
       "      <td>...</td>\n",
       "      <td>...</td>\n",
       "      <td>...</td>\n",
       "      <td>...</td>\n",
       "      <td>...</td>\n",
       "      <td>...</td>\n",
       "      <td>...</td>\n",
       "      <td>...</td>\n",
       "      <td>...</td>\n",
       "      <td>...</td>\n",
       "    </tr>\n",
       "    <tr>\n",
       "      <th>7788</th>\n",
       "      <td>s7789</td>\n",
       "      <td>Movie</td>\n",
       "      <td>Power Rangers: Megaforce: The Robo Knight Befo...</td>\n",
       "      <td>James Barr</td>\n",
       "      <td>Andrew M. Gray, Ciara Hanna, John Mark Louderm...</td>\n",
       "      <td>United States</td>\n",
       "      <td>January 1, 2016</td>\n",
       "      <td>2013</td>\n",
       "      <td>TV-Y7</td>\n",
       "      <td>24 min</td>\n",
       "      <td>Children &amp; Family Movies</td>\n",
       "      <td>Robo Knight learns the meaning of Christmas fr...</td>\n",
       "      <td>24</td>\n",
       "    </tr>\n",
       "    <tr>\n",
       "      <th>7848</th>\n",
       "      <td>s7849</td>\n",
       "      <td>Movie</td>\n",
       "      <td>Refugee</td>\n",
       "      <td>Clementine Malpas, Leslie Knott</td>\n",
       "      <td>Cate Blanchett, Lynsey Addario, Omar Victor Di...</td>\n",
       "      <td>NaN</td>\n",
       "      <td>March 10, 2017</td>\n",
       "      <td>2016</td>\n",
       "      <td>TV-PG</td>\n",
       "      <td>24 min</td>\n",
       "      <td>Documentaries</td>\n",
       "      <td>Five acclaimed photographers travel the world ...</td>\n",
       "      <td>24</td>\n",
       "    </tr>\n",
       "    <tr>\n",
       "      <th>7891</th>\n",
       "      <td>s7892</td>\n",
       "      <td>Movie</td>\n",
       "      <td>Room on the Broom</td>\n",
       "      <td>Max Lang, Jani Lachauer</td>\n",
       "      <td>Simon Pegg, Gillian Anderson, Rob Brydon, Mart...</td>\n",
       "      <td>United Kingdom, Germany</td>\n",
       "      <td>July 1, 2019</td>\n",
       "      <td>2012</td>\n",
       "      <td>TV-Y7</td>\n",
       "      <td>26 min</td>\n",
       "      <td>Children &amp; Family Movies, Independent Movies</td>\n",
       "      <td>A gentle witch with a ginger braid offers ride...</td>\n",
       "      <td>26</td>\n",
       "    </tr>\n",
       "    <tr>\n",
       "      <th>7932</th>\n",
       "      <td>s7933</td>\n",
       "      <td>Movie</td>\n",
       "      <td>Sangam</td>\n",
       "      <td>Raj Kapoor</td>\n",
       "      <td>Raj Kapoor, Vyjayanthimala, Rajendra Kumar, La...</td>\n",
       "      <td>India</td>\n",
       "      <td>December 31, 2019</td>\n",
       "      <td>1964</td>\n",
       "      <td>TV-14</td>\n",
       "      <td>228 min</td>\n",
       "      <td>Classic Movies, Dramas, International Movies</td>\n",
       "      <td>Returning home from war after being assumed de...</td>\n",
       "      <td>228</td>\n",
       "    </tr>\n",
       "    <tr>\n",
       "      <th>8205</th>\n",
       "      <td>s8206</td>\n",
       "      <td>Movie</td>\n",
       "      <td>The Battle of Midway</td>\n",
       "      <td>John Ford</td>\n",
       "      <td>Henry Fonda, Jane Darwell</td>\n",
       "      <td>United States</td>\n",
       "      <td>March 31, 2017</td>\n",
       "      <td>1942</td>\n",
       "      <td>TV-14</td>\n",
       "      <td>18 min</td>\n",
       "      <td>Classic Movies, Documentaries</td>\n",
       "      <td>Director John Ford captures combat footage of ...</td>\n",
       "      <td>18</td>\n",
       "    </tr>\n",
       "  </tbody>\n",
       "</table>\n",
       "<p>144 rows × 13 columns</p>\n",
       "</div>"
      ],
      "text/plain": [
       "     show_id   type                                              title  \\\n",
       "45       s46  Movie                             My Heroes Were Cowboys   \n",
       "71       s72  Movie                        A StoryBots Space Adventure   \n",
       "166     s167  Movie                        Once Upon a Time in America   \n",
       "694     s695  Movie                                              Aziza   \n",
       "695     s696  Movie                                     Besieged Bread   \n",
       "...      ...    ...                                                ...   \n",
       "7788   s7789  Movie  Power Rangers: Megaforce: The Robo Knight Befo...   \n",
       "7848   s7849  Movie                                            Refugee   \n",
       "7891   s7892  Movie                                  Room on the Broom   \n",
       "7932   s7933  Movie                                             Sangam   \n",
       "8205   s8206  Movie                               The Battle of Midway   \n",
       "\n",
       "                             director  \\\n",
       "45                        Tyler Greco   \n",
       "71                    David A. Vargas   \n",
       "166                      Sergio Leone   \n",
       "694                    Soudade Kaadan   \n",
       "695                    Soudade Kaadan   \n",
       "...                               ...   \n",
       "7788                       James Barr   \n",
       "7848  Clementine Malpas, Leslie Knott   \n",
       "7891          Max Lang, Jani Lachauer   \n",
       "7932                       Raj Kapoor   \n",
       "8205                        John Ford   \n",
       "\n",
       "                                                   cast  \\\n",
       "45                                                  NaN   \n",
       "71    Evan Spiridellis, Erin Fitzgerald, Jeff Gill, ...   \n",
       "166   Robert De Niro, James Woods, Elizabeth McGover...   \n",
       "694                  Caress Bashar, Abdel Moneim Amayri   \n",
       "695            Lama Hakeim, Gabriel Malki, Ehab Shaaban   \n",
       "...                                                 ...   \n",
       "7788  Andrew M. Gray, Ciara Hanna, John Mark Louderm...   \n",
       "7848  Cate Blanchett, Lynsey Addario, Omar Victor Di...   \n",
       "7891  Simon Pegg, Gillian Anderson, Rob Brydon, Mart...   \n",
       "7932  Raj Kapoor, Vyjayanthimala, Rajendra Kumar, La...   \n",
       "8205                          Henry Fonda, Jane Darwell   \n",
       "\n",
       "                      country          date_added  release_year rating  \\\n",
       "45                        NaN  September 16, 2021          2021     PG   \n",
       "71                        NaN  September 14, 2021          2021   TV-Y   \n",
       "166      Italy, United States   September 1, 2021          1984      R   \n",
       "694            Lebanon, Syria       June 17, 2021          2019  TV-PG   \n",
       "695                       NaN       June 17, 2021          2015  TV-14   \n",
       "...                       ...                 ...           ...    ...   \n",
       "7788            United States     January 1, 2016          2013  TV-Y7   \n",
       "7848                      NaN      March 10, 2017          2016  TV-PG   \n",
       "7891  United Kingdom, Germany        July 1, 2019          2012  TV-Y7   \n",
       "7932                    India   December 31, 2019          1964  TV-14   \n",
       "8205            United States      March 31, 2017          1942  TV-14   \n",
       "\n",
       "     duration                                     listed_in  \\\n",
       "45     23 min                                 Documentaries   \n",
       "71     13 min                      Children & Family Movies   \n",
       "166   229 min                        Classic Movies, Dramas   \n",
       "694    13 min          Comedies, Dramas, Independent Movies   \n",
       "695    12 min                  Dramas, International Movies   \n",
       "...       ...                                           ...   \n",
       "7788   24 min                      Children & Family Movies   \n",
       "7848   24 min                                 Documentaries   \n",
       "7891   26 min  Children & Family Movies, Independent Movies   \n",
       "7932  228 min  Classic Movies, Dramas, International Movies   \n",
       "8205   18 min                 Classic Movies, Documentaries   \n",
       "\n",
       "                                            description  minute  \n",
       "45    Robin Wiltshire's painful childhood was rescue...      23  \n",
       "71    Join the StoryBots and the space travelers of ...      13  \n",
       "166   Director Sergio Leone's sprawling crime epic f...     229  \n",
       "694   This short film follows a newly displaced Syri...      13  \n",
       "695   In battle-ridden Syria, a woman trying to smug...      12  \n",
       "...                                                 ...     ...  \n",
       "7788  Robo Knight learns the meaning of Christmas fr...      24  \n",
       "7848  Five acclaimed photographers travel the world ...      24  \n",
       "7891  A gentle witch with a ginger braid offers ride...      26  \n",
       "7932  Returning home from war after being assumed de...     228  \n",
       "8205  Director John Ford captures combat footage of ...      18  \n",
       "\n",
       "[144 rows x 13 columns]"
      ]
     },
     "execution_count": 83,
     "metadata": {},
     "output_type": "execute_result"
    }
   ],
   "source": [
    "# Dealing with outliers\n",
    "df_movie[~((df_movie['minute'] >31 ) & (df_movie['minute'] <218))]"
   ]
  },
  {
   "cell_type": "markdown",
   "metadata": {},
   "source": [
    "## Using boxplot to identify outliers within numeric data"
   ]
  },
  {
   "cell_type": "code",
   "execution_count": 87,
   "metadata": {},
   "outputs": [
    {
     "data": {
      "text/plain": [
       "<Axes: >"
      ]
     },
     "execution_count": 87,
     "metadata": {},
     "output_type": "execute_result"
    },
    {
     "data": {
      "image/png": "[encoded data removed]",
      "text/plain": [
       "<Figure size 1000x500 with 1 Axes>"
      ]
     },
     "metadata": {},
     "output_type": "display_data"
    }
   ],
   "source": [
    "# make a boxplot with pandas\n",
    "df_movie['minute'].plot(kind='box', vert=False, color='blue', figsize=(10,5))"
   ]
  },
  {
   "cell_type": "code",
   "execution_count": 90,
   "metadata": {},
   "outputs": [
    {
     "name": "stdout",
     "output_type": "stream",
     "text": [
      "count    6131.000000\n",
      "mean       99.528462\n",
      "std        28.369284\n",
      "min         0.000000\n",
      "25%        87.000000\n",
      "50%        98.000000\n",
      "75%       114.000000\n",
      "max       312.000000\n",
      "Name: minute, dtype: float64\n",
      "46.5\n",
      "154.5\n"
     ]
    }
   ],
   "source": [
    "# overview descriptive statitics\n",
    "# IQR = Q3-Q1\n",
    "min_boxplot = 87 - 1.5*(114 - 87) # Q1 - 1.5*IQR\n",
    "max_boxplot = 114 + 1.5*(114 - 87) # Q3 + 1.5*IQR\n",
    "\n",
    "print(df_movie['minute'].describe())\n",
    "print(min_boxplot)\n",
    "print(max_boxplot)"
   ]
  },
  {
   "cell_type": "code",
   "execution_count": 91,
   "metadata": {},
   "outputs": [
    {
     "data": {
      "application/vnd.microsoft.datawrangler.viewer.v0+json": {
       "columns": [
        {
         "name": "index",
         "rawType": "int64",
         "type": "integer"
        },
        {
         "name": "show_id",
         "rawType": "object",
         "type": "string"
        },
        {
         "name": "type",
         "rawType": "object",
         "type": "string"
        },
        {
         "name": "title",
         "rawType": "object",
         "type": "string"
        },
        {
         "name": "director",
         "rawType": "object",
         "type": "unknown"
        },
        {
         "name": "cast",
         "rawType": "object",
         "type": "unknown"
        },
        {
         "name": "country",
         "rawType": "object",
         "type": "unknown"
        },
        {
         "name": "date_added",
         "rawType": "object",
         "type": "string"
        },
        {
         "name": "release_year",
         "rawType": "int64",
         "type": "integer"
        },
        {
         "name": "rating",
         "rawType": "object",
         "type": "string"
        },
        {
         "name": "duration",
         "rawType": "object",
         "type": "string"
        },
        {
         "name": "listed_in",
         "rawType": "object",
         "type": "string"
        },
        {
         "name": "description",
         "rawType": "object",
         "type": "string"
        },
        {
         "name": "minute",
         "rawType": "int64",
         "type": "integer"
        }
       ],
       "ref": "6c585fd1-4ce0-4ac6-8a40-4db58e73a74f",
       "rows": [
        [
         "22",
         "s23",
         "Movie",
         "Avvai Shanmughi",
         "K.S. Ravikumar",
         "Kamal Hassan, Meena, Gemini Ganesan, Heera Rajgopal, Nassar, S.P. Balasubrahmanyam",
         null,
         "September 21, 2021",
         "1996",
         "TV-PG",
         "161 min",
         "Comedies, International Movies",
         "Newly divorced and denied visitation rights with his daughter, a doting father disguises himself as a gray-haired nanny in order to spend time with her.",
         "161"
        ],
        [
         "24",
         "s25",
         "Movie",
         "Jeans",
         "S. Shankar",
         "Prashanth, Aishwarya Rai Bachchan, Sri Lakshmi, Nassar",
         "India",
         "September 21, 2021",
         "1998",
         "TV-14",
         "166 min",
         "Comedies, International Movies, Romantic Movies",
         "When the father of the man she loves insists that his twin sons marry twin sisters, a woman creates an alter ego that might be a bit too convincing.",
         "166"
        ],
        [
         "45",
         "s46",
         "Movie",
         "My Heroes Were Cowboys",
         "Tyler Greco",
         null,
         null,
         "September 16, 2021",
         "2021",
         "PG",
         "23 min",
         "Documentaries",
         "Robin Wiltshire's painful childhood was rescued by Westerns. Now he lives on the frontier of his dreams, training the horses he loves for the big screen.",
         "23"
        ],
        [
         "71",
         "s72",
         "Movie",
         "A StoryBots Space Adventure",
         "David A. Vargas",
         "Evan Spiridellis, Erin Fitzgerald, Jeff Gill, Fred Tatasciore, Evan Michael Lee, Jared Isaacman, Sian Proctor, Chris Sembroski, Hayley Arceneaux",
         null,
         "September 14, 2021",
         "2021",
         "TV-Y",
         "13 min",
         "Children & Family Movies",
         "Join the StoryBots and the space travelers of the historic Inspiration4 mission as they search for answers to kids' questions about space.",
         "13"
        ],
        [
         "73",
         "s74",
         "Movie",
         "King of Boys",
         "Kemi Adetiba",
         "Sola Sobowale, Adesua Etomi, Remilekun \"Reminisce\" Safaru, Tobechukwu \"iLLbliss\" Ejiofor, Toni Tones, Paul Sambo, Jide Kosoko, Sharon Ooja",
         "Nigeria",
         "September 14, 2021",
         "2018",
         "TV-MA",
         "182 min",
         "Dramas, International Movies",
         "When a powerful businesswoman’s political ambitions are threatened by her underworld connections, the ensuing power struggle could cost her everything.",
         "182"
        ],
        [
         "136",
         "s137",
         "Movie",
         "Cold Mountain",
         "Anthony Minghella",
         "Jude Law, Nicole Kidman, Renée Zellweger, Eileen Atkins, Brendan Gleeson, Philip Seymour Hoffman, Natalie Portman, Giovanni Ribisi, Donald Sutherland, Ray Winstone",
         "United States, Italy, Romania, United Kingdom",
         "September 1, 2021",
         "2003",
         "R",
         "154 min",
         "Dramas, Romantic Movies",
         "This drama follows a wounded Civil War soldier making the long journey home, while his faraway love fights for survival on her deceased father's farm.",
         "154"
        ],
        [
         "166",
         "s167",
         "Movie",
         "Once Upon a Time in America",
         "Sergio Leone",
         "Robert De Niro, James Woods, Elizabeth McGovern, Treat Williams, Tuesday Weld, Burt Young, Joe Pesci, Danny Aiello, William Forsythe, James Hayden",
         "Italy, United States",
         "September 1, 2021",
         "1984",
         "R",
         "229 min",
         "Classic Movies, Dramas",
         "Director Sergio Leone's sprawling crime epic follows a group of Jewish mobsters who rise in the ranks of organized crime in 1920s New York City.",
         "229"
        ],
        [
         "177",
         "s178",
         "Movie",
         "The Guns of Navarone",
         "J. Lee Thompson",
         "Gregory Peck, David Niven, Anthony Quinn, Stanley Baker, Anthony Quayle, James Darren, Irene Papas, Gia Scala, James Robertson Justice, Richard Harris",
         "United Kingdom, United States",
         "September 1, 2021",
         "1961",
         "TV-14",
         "156 min",
         "Action & Adventure, Classic Movies",
         "During World War II, British forces launch an attack designed to take out the massive Nazi cannons that guard a critical sea channel.",
         "156"
        ],
        [
         "202",
         "s203",
         "Movie",
         "Kyaa Kool Hai Hum",
         "Sangeeth Sivan",
         "Tusshar Kapoor, Riteish Deshmukh, Isha Koppikar, Neha Dhupia, Anupam Kher, Jay Sean",
         "India",
         "August 27, 2021",
         "2005",
         "TV-MA",
         "165 min",
         "Comedies, International Movies, Music & Musicals",
         "Longtime friends Rahul and Karan head to Mumbai intent on making their dreams come true, but both men are suddenly saddled with bad luck.",
         "165"
        ],
        [
         "341",
         "s342",
         "Movie",
         "Magnolia",
         "Paul Thomas Anderson",
         "John C. Reilly, Philip Baker Hall, Tom Cruise, Julianne Moore, Philip Seymour Hoffman, William H. Macy, Jeremy Blackman, Jason Robards, Melinda Dillon, April Grace, Luis Guzmán, Ricky Jay, Alfred Molina, Michael Murphy, Melora Walters",
         "United States",
         "August 1, 2021",
         "1999",
         "R",
         "189 min",
         "Dramas, Independent Movies",
         "Through chance, history and divine intervention, a cast of eclectic characters weaves and warps through each other's lives on a random day in California.",
         "189"
        ],
        [
         "392",
         "s393",
         "Movie",
         "Django Unchained",
         "Quentin Tarantino",
         "Jamie Foxx, Christoph Waltz, Leonardo DiCaprio, Kerry Washington, Samuel L. Jackson, Walton Goggins, Dennis Christopher, James Remar, David Steen, Dana Gourrier, Nichole Galicia, Laura Cayouette, Ato Essandoh, Sammi Rotibi, Escalante Lundy, Don Johnson",
         "United States",
         "July 24, 2021",
         "2012",
         "R",
         "165 min",
         "Action & Adventure, Dramas",
         "Accompanied by a German bounty hunter, a freed slave named Django travels across America to free his wife from a sadistic plantation owner.",
         "165"
        ],
        [
         "470",
         "s471",
         "Movie",
         "Bridgerton - The Afterparty",
         null,
         "David Spade, London Hughes, Fortune Feimster",
         null,
         "July 13, 2021",
         "2021",
         "TV-14",
         "39 min",
         "Movies",
         "\"Bridgerton\" cast members share behind-the-scenes stories from the hit show, plus comedian Nikki Glaser breaks down the costume drama's sexiest moments.",
         "39"
        ],
        [
         "484",
         "s485",
         "Movie",
         "Lee Su-geun: The Sense Coach",
         "Kim Joo-hyung",
         "Lee Su-geun",
         null,
         "July 9, 2021",
         "2021",
         "TV-G",
         "46 min",
         "Stand-Up Comedy",
         "Lee Su-geun's rise to Korean comedy stardom went hand in hand with his mastery over picking up social cues. Now, he's ready to share his know-hows.",
         "46"
        ],
        [
         "495",
         "s496",
         "Movie",
         "Awon Boyz",
         "Tolulope Itegboje",
         null,
         null,
         "July 7, 2021",
         "2019",
         "TV-MA",
         "38 min",
         "Documentaries, International Movies",
         "This documentary takes a close look at the lives and passions of the men and boys who hustle or run with a gang on the streets of Lagos.",
         "38"
        ],
        [
         "560",
         "s561",
         "Movie",
         "Audible",
         "Matt Ogens",
         null,
         null,
         "July 1, 2021",
         "2021",
         "PG-13",
         "39 min",
         "Documentaries, Sports Movies",
         "Shaken by a friend's suicide, a Deaf high school football player copes with family and relationships while anticipating his final homecoming game.",
         "39"
        ],
        [
         "564",
         "s565",
         "Movie",
         "Boogie Nights",
         "Paul Thomas Anderson",
         "Mark Wahlberg, Burt Reynolds, Julianne Moore, Heather Graham, William H. Macy, Don Cheadle, Philip Seymour Hoffman, Luis Guzmán, John C. Reilly, Philip Baker Hall",
         "United States",
         "July 1, 2021",
         "1997",
         "R",
         "155 min",
         "Comedies, Dramas, Independent Movies",
         "A well-endowed busboy is taken in by a tight-knit group of 1970s porn actors and transforms himself into skin flick celebrity Dirk Diggler.",
         "155"
        ],
        [
         "687",
         "s688",
         "Movie",
         "Jagame Thandhiram",
         "Karthik Subbaraj",
         "Dhanush, Aishwarya Lekshmi, James Cosmo, Joju George, Kalaiyarasan",
         null,
         "June 18, 2021",
         "2021",
         "TV-MA",
         "159 min",
         "Action & Adventure, Dramas, International Movies",
         "When a clever, carefree gangster is recruited to help an overseas crime lord take down a rival, he is caught off guard by the moral dilemmas that follow.",
         "159"
        ],
        [
         "694",
         "s695",
         "Movie",
         "Aziza",
         "Soudade Kaadan",
         "Caress Bashar, Abdel Moneim Amayri",
         "Lebanon, Syria",
         "June 17, 2021",
         "2019",
         "TV-PG",
         "13 min",
         "Comedies, Dramas, Independent Movies",
         "This short film follows a newly displaced Syrian couple's drive around Beirut, which then morphs into a hallucinatory and nostalgic trip.",
         "13"
        ],
        [
         "695",
         "s696",
         "Movie",
         "Besieged Bread",
         "Soudade Kaadan",
         "Lama Hakeim, Gabriel Malki, Ehab Shaaban",
         null,
         "June 17, 2021",
         "2015",
         "TV-14",
         "12 min",
         "Dramas, International Movies",
         "In battle-ridden Syria, a woman trying to smuggle bread into a blockaded area crosses paths with a soldier who has deserted the regime's forces.",
         "12"
        ],
        [
         "717",
         "s718",
         "Movie",
         "Headspace: Unwind Your Mind",
         null,
         "Andy Puddicombe, Evelyn Lewis Prieto, Ginger Daniels, Darren Pettie, Simon Prebble, Rhiannon Mcgavin, Kate Seftel",
         null,
         "June 15, 2021",
         "2021",
         "TV-G",
         "273 min",
         "Documentaries",
         "Do you want to relax, meditate or sleep deeply? Personalize the experience according to your mood or mindset with this Headspace interactive special.",
         "273"
        ],
        [
         "729",
         "s730",
         "Movie",
         "Bling Empire - The Afterparty",
         null,
         "David Spade, London Hughes, Fortune Feimster",
         null,
         "June 12, 2021",
         "2021",
         "TV-MA",
         "36 min",
         "Movies",
         "The stars of \"Bling Empire\" discuss the show's success and play bling-themed games, then comic Joel Kim Booster makes his case for joining the cast.",
         "36"
        ],
        [
         "730",
         "s731",
         "Movie",
         "Cobra Kai - The Afterparty",
         null,
         "David Spade, London Hughes, Fortune Feimster",
         null,
         "June 12, 2021",
         "2021",
         "TV-MA",
         "34 min",
         "Movies",
         "Ralph Macchio, William Zabka and more from the \"Cobra Kai\" cast drop by to chat Season 3 (spoilers ahead!), followed by Bill Burr of \"F Is for Family.\"",
         "34"
        ],
        [
         "732",
         "s733",
         "Movie",
         "To All the Boys: Always and Forever - The Afterparty",
         null,
         "Cast members of the \"To All the Boys\" films dish about the third movie and answer some fan questions, plus Whitney Cummings gives suspect dating advice.",
         null,
         "June 12, 2021",
         "2021",
         "TV-MA",
         "36 min",
         "Movies",
         "Cast members of the \"To All the Boys\" films dish about the third movie and answer some fan questions, plus Whitney Cummings gives suspect dating advice.",
         "36"
        ],
        [
         "738",
         "s739",
         "Movie",
         "Trese After Dark",
         null,
         null,
         null,
         "June 11, 2021",
         "2021",
         "TV-14",
         "36 min",
         "Anime Features, Documentaries",
         "Stars and creators gather to discuss “Trese,” from its Filipino folklore inspirations to the comic’s beginnings and its journey to an anime series.",
         "36"
        ],
        [
         "806",
         "s807",
         "Movie",
         "Seven Souls in the Skull Castle: Season Moon Jogen",
         "Hidenori Inoue",
         "Sota Fukushi, Taichi Saotome, Shohei Miura, Kenta Suga, Soichi Hirama, Shoko Takada, Ikkei Watanabe",
         null,
         "June 2, 2021",
         "2017",
         "TV-14",
         "204 min",
         "Action & Adventure, Dramas, International Movies",
         "Japan, 1590. Wandering samurai band together to take on the lord of Skull Castle in the “Moon Jogen” version of the show, performed in a 360º theater.",
         "204"
        ],
        [
         "807",
         "s808",
         "Movie",
         "Seven Souls in the Skull Castle: Season Moon Kagen",
         "Hidenori Inoue",
         "Mamoru Miyano, Hiroki Suzuki, Tomoki Hirose, Ryo Kimura, Kodai Matsuoka, Aki Hano, Tetsuya Chiba",
         null,
         "June 2, 2021",
         "2017",
         "TV-PG",
         "212 min",
         "Action & Adventure, Dramas, International Movies",
         "Japan, 1590. Wandering samurai band together to take on the lord of Skull Castle in the “Moon Kagen” version of the show, performed in a 360º theater.",
         "212"
        ],
        [
         "811",
         "s812",
         "Movie",
         "Super Monsters: Once Upon a Rhyme",
         "Steve Ball",
         "Elyse Maloway, Vincent Tong, Andrea Libman, Alessandro Juliani, Nicole Anthony, Erin Mathews, Diana Kaarina, Gigi Saul Guerrero, Asia Mattu, Rukiya Bernard, Ian James Corlett, Britt McKillip",
         null,
         "June 2, 2021",
         "2021",
         "TV-Y",
         "25 min",
         "Children & Family Movies",
         "From Goldilocks to Hansel and Gretel, the Super Monsters reimagine classic fairy tales and favorite nursery rhymes with a musical, magical spin!",
         "25"
        ],
        [
         "854",
         "s855",
         "Movie",
         "Creating an Army of the Dead",
         null,
         null,
         null,
         "May 21, 2021",
         "2021",
         "TV-MA",
         "29 min",
         "Documentaries",
         "Zack Snyder and his \"Army of the Dead\" team dive into the film's wild stunts, groundbreaking effects and the evolution of the zombie genre.",
         "29"
        ],
        [
         "888",
         "s889",
         "Movie",
         "The Upshaws - The Afterparty",
         null,
         "David Spade, London Hughes, Fortune Feimster, Wanda Sykes, Mike Epps, Kim Fields",
         null,
         "May 14, 2021",
         "2021",
         "TV-14",
         "32 min",
         "Comedies",
         "The comedic dream team from \"The Upshaws\" discuss the hit series, share some anecdotes from their own upbringings and play a little swag-centric game.",
         "32"
        ],
        [
         "912",
         "s913",
         "Movie",
         "The Circle - The Afterparty",
         null,
         "David Spade, London Hughes, Fortune Feimster",
         null,
         "May 7, 2021",
         "2021",
         "TV-14",
         "35 min",
         "Comedies",
         "Stars of \"The Circle\" drop by to discuss Season 2's big winner, some juicy behind-the-scenes gossip and their enduring friendships with one another.",
         "35"
        ],
        [
         "975",
         "s976",
         "Movie",
         "Shadow and Bone - The Afterparty",
         null,
         "David Spade, London Hughes, Fortune Feimster, Ben Barnes, Jessie Mei Li, Archie Renaux, Amita Suman, Freddy Carter, Kit Young",
         "United States",
         "April 24, 2021",
         "2021",
         "TV-14",
         "33 min",
         "Action & Adventure, Comedies, Dramas",
         "Stars of Netflix's \"Shadow and Bone\" discuss the show's epic combat scenes, answer some fan questions and play an \"Army vs. Crows\" trivia game.",
         "33"
        ],
        [
         "991",
         "s992",
         "Movie",
         "One Like It",
         "Marwan Nabil",
         "Riham Abdel Ghafour, Mohammed Aly Rizk, Hazem Samir, Salwa Othman, Mahmoud Gharib",
         "Egypt",
         "April 23, 2021",
         "2020",
         "TV-G",
         "15 min",
         "Dramas, Independent Movies, International Movies",
         "This short film follows a day in the life of a young woman in Egypt and how her interactions with others expose long-standing stereotypes and biases.",
         "15"
        ],
        [
         "1019",
         "s1020",
         "Movie",
         "Lagaan",
         "Ashutosh Gowariker",
         "Aamir Khan, Gracy Singh, Rachel Shelley, Paul Blackthorne, Kulbhushan Kharbanda, Raghuvir Yadav, Yashpal Sharma, Rajendranath Zutshi, Rajesh Vivek, Aditya Lakhia",
         "India, United Kingdom",
         "April 17, 2021",
         "2001",
         "PG",
         "224 min",
         "Dramas, International Movies, Music & Musicals",
         "In 1890s India, an arrogant British commander challenges the harshly taxed residents of Champaner to a high-stakes cricket match.",
         "224"
        ],
        [
         "1022",
         "s1023",
         "Movie",
         "Taare Zameen Par",
         "Aamir Khan",
         "Aamir Khan, Darsheel Safary, Tanay Chheda, Tisca Chopra, Vipin Sharma, Girija Oak, M.K. Raina",
         "India",
         "April 17, 2021",
         "2007",
         "PG",
         "162 min",
         "Dramas, International Movies",
         "When daydreamer Ishaan is sent to boarding school, an unconventional art teacher tries to help the imaginative student discover his true identity.",
         "162"
        ],
        [
         "1028",
         "s1029",
         "Movie",
         "Dad Stop Embarrassing Me - The Afterparty",
         null,
         "David Spade, London Hughes, Fortune Feimster, Jamie Foxx, David Alan Grier, Kyla-Drew, Porscha Coleman, Jonathan Kite, Corinne Foxx",
         null,
         "April 16, 2021",
         "2021",
         "TV-14",
         "37 min",
         "Comedies",
         "Jamie Foxx, David Alan Grier and more from the cast of the family comedy discuss the show, humiliating family moments, bad BBQ dishes and sitcom openings.",
         "37"
        ],
        [
         "1089",
         "s1090",
         "Movie",
         "Two Distant Strangers",
         "Travon Free, Martin Desmond Roe",
         "Joey Bada$$, Andrew Howard, Zaria",
         "United States",
         "April 9, 2021",
         "2021",
         "TV-MA",
         "32 min",
         "Dramas",
         "In this Oscar-nominated short film, a man trying to go home to his dog gets stuck in a time loop that forces him to relive a deadly run-in with a cop.",
         "32"
        ],
        [
         "1113",
         "s1114",
         "Movie",
         "2012",
         "Roland Emmerich",
         "John Cusack, Amanda Peet, Chiwetel Ejiofor, Thandie Newton, Oliver Platt, Tom McCarthy, Woody Harrelson, Danny Glover, Liam James, Morgan Lily",
         "United States",
         "April 1, 2021",
         "2009",
         "PG-13",
         "158 min",
         "Action & Adventure, Sci-Fi & Fantasy",
         "When a flood of natural disasters begins to destroy the world, a divorced dad desperately tries to save his family by outrunning the cataclysmic chaos.",
         "158"
        ],
        [
         "1114",
         "s1115",
         "Movie",
         "3 Idiots",
         "Rajkumar Hirani",
         "Aamir Khan, Kareena Kapoor, Madhavan, Sharman Joshi, Omi Vaidya, Boman Irani, Mona Singh, Javed Jaffrey",
         "India",
         "April 1, 2021",
         "2009",
         "PG-13",
         "164 min",
         "Comedies, Dramas, International Movies",
         "While attending one of India's premier colleges, three miserable engineering students and best friends struggle to beat the school's draconian system.",
         "164"
        ],
        [
         "1126",
         "s1127",
         "Movie",
         "My Fair Lady",
         "George Cukor",
         "Audrey Hepburn, Rex Harrison, Stanley Holloway, Wilfred Hyde-White, Gladys Cooper, Jeremy Brett, Theodore Bikel, Mona Washbourne, Isobel Elsom, John Holland, Alan Napier, Marni Nixon",
         "United States",
         "April 1, 2021",
         "1964",
         "G",
         "173 min",
         "Classic Movies, Music & Musicals",
         "When a Cockney flower girl takes elocution lessons from an aloof professor, he decides to introduce her to high society, transforming both their lives.",
         "173"
        ],
        [
         "1130",
         "s1131",
         "Movie",
         "Seven Souls in the Skull Castle: Season Bird",
         "Hidenori Inoue",
         "Sadao Abe, Mirai Moriyama, Taichi Saotome, Yasuko Matsuyuki, Makoto Awane, Tenkyu Fukuda, Yusuke Shoji, Hazuki Shimizu, Zen Kajihara, Narushi Ikeda",
         null,
         "April 1, 2021",
         "2017",
         "TV-14",
         "182 min",
         "Action & Adventure, Dramas, International Movies",
         "Japan, 1590. Wandering samurai band together to take on the lord of Skull Castle in this “Bird” version of the dynamic show performed in a 360º theater.",
         "182"
        ],
        [
         "1131",
         "s1132",
         "Movie",
         "Seven Souls in the Skull Castle: Season Flower",
         "Hidenori Inoue",
         "Shun Oguri, Koji Yamamoto, Songha, Ryo, Munetaka Aoki, Nana Seino, Yoshimasa Kondo, Arata Furuta",
         "Japan",
         "April 1, 2021",
         "2017",
         "TV-14",
         "181 min",
         "Action & Adventure, Dramas, International Movies",
         "Japan, 1590. Wandering samurai band together to take on the lord of Skull Castle in this “Flower” version of the bold show performed in a 360º theater.",
         "181"
        ],
        [
         "1132",
         "s1133",
         "Movie",
         "Seven Souls in the Skull Castle: Season Wind",
         "Hidenori Inoue",
         "Kenichi Matsuyama, Osamu Mukai, Rena Tanaka, Jun Hashimoto, Takaya Yamauchi, Yukino Kishii, Katsuhisa Namase",
         null,
         "April 1, 2021",
         "2017",
         "TV-14",
         "185 min",
         "Action & Adventure, Dramas, International Movies",
         "Japan, 1590. Wandering samurai band together to take on the lord of Skull Castle in this “Wind” version of the dynamic show performed in a 360º theater.",
         "185"
        ],
        [
         "1155",
         "s1156",
         "Movie",
         "Marked",
         "Nadine Ibrahim",
         null,
         "Nigeria",
         "March 28, 2021",
         "2021",
         "TV-PG",
         "21 min",
         "Documentaries, International Movies",
         "This documentary explores Nigeria’s cultural practice of marking, including its origins and meaning as a symbol of identity, beauty and spirituality.",
         "21"
        ],
        [
         "1192",
         "s1193",
         "Movie",
         "The Present",
         "Farah Nabulsi",
         "Saleh Bakri, Maryam Kanj, Maryam Kamiel Basha, Ameer Khlawe, Ala' Hanani, Malak Abu Ghraibeh, Karam Elayyan, Leila Mouammar, Angie Saba",
         "United Kingdom,",
         "March 18, 2021",
         "2020",
         "TV-MA",
         "24 min",
         "Dramas, International Movies",
         "Yusuf and his daughter set out to buy his wife an anniversary gift, a gesture demanding much patience and negotiation skills in the West Bank.",
         "24"
        ],
        [
         "1247",
         "s1248",
         "Movie",
         "Banyuki",
         "Hidenori Inoue",
         "Takaya Kamikawa, Izumi Inamori, Taichi Saotome, Jun Hashimoto, Shoko Takada, Makoto Awane, Takaya Yamauchi, Akira Yamamoto, Tetsuya Chiba, Masato Sakai",
         null,
         "March 1, 2021",
         "2009",
         "TV-PG",
         "182 min",
         "Action & Adventure, Dramas, International Movies",
         "In this stage performance filmed for the big screen, an innocent man seeks revenge after breaking free of the prison he was held in for ten years.",
         "182"
        ],
        [
         "1250",
         "s1251",
         "Movie",
         "Connected",
         "Milton Kremer",
         "Hernán Cattáneo, Richard Coleman",
         null,
         "March 1, 2021",
         "2021",
         "TV-G",
         "42 min",
         "Documentaries, International Movies, Music & Musicals",
         "Argentine DJ Hernán Cattáneo, known for his house music innovations, invites a symphonic orchestra for a four-night run at Buenos Aires' Teatro Colón.",
         "42"
        ],
        [
         "1251",
         "s1252",
         "Movie",
         "Dances with Wolves",
         "Kevin Costner",
         "Kevin Costner, Mary McDonnell, Rodney Grant, Graham Greene, Floyd \"Red Crow\" Westerman, Tantoo Cardinal, Robert Pastorelli, Charles Rocket, Maury Chaykin, Jimmy Herman",
         "United States, United Kingdom",
         "March 1, 2021",
         "1990",
         "PG-13",
         "181 min",
         "Action & Adventure, Classic Movies, Dramas",
         "On the frontier, a Civil War soldier bonds with a Sioux tribe and adapts to their way of life, becoming their ally amid growing threats.",
         "181"
        ],
        [
         "1253",
         "s1254",
         "Movie",
         "LEGO Marvel Spider-Man: Vexed by Venom",
         "Andrew Duncan, Ken Cunningham",
         "Robbie Daymond, Ben Pronsky, Josh Keaton, Tara Strong, Jennifer Hale, Laura Bailey",
         "United States",
         "March 1, 2021",
         "2019",
         "TV-Y",
         "22 min",
         "Children & Family Movies, Comedies",
         "When Green Goblin and Venom team up for a disastrous scheme, Spider-Man calls in a wall-crawling ally and must rely on his Spidey senses to stop them.",
         "22"
        ],
        [
         "1255",
         "s1256",
         "Movie",
         "Seven Souls in the Skull Castle 2011",
         "Hidenori Inoue",
         "Shun Oguri, Mirai Moriyama, Taichi Saotome, Eiko Koike, Ryo Katsuji, Riisa Naka, Shoko Takada, Makoto Awane, Masato Kono, Tetsuya Chiba",
         null,
         "March 1, 2021",
         "2011",
         "TV-14",
         "177 min",
         "Action & Adventure, Dramas, International Movies",
         "In this cinematic distillation of the electrifying stage performance, seven spirited souls take on the dark threat growing in shadowy Skull Castle.",
         "177"
        ],
        [
         "1262",
         "s1263",
         "Movie",
         "Ginny & Georgia - The Afterparty",
         null,
         "David Spade, London Hughes, Fortune Feimster, Brianne Howey, Antonia Gentry, Jennifer Robertson, Sara Waisglass",
         null,
         "February 26, 2021",
         "2021",
         "TV-MA",
         "35 min",
         "Comedies, Dramas",
         "Cast members of the hit Netflix show join the hosts to unpack the drama of Season 1, and Cristela Alonzo offers tips for being the new kid at school.",
         "35"
        ]
       ],
       "shape": {
        "columns": 13,
        "rows": 466
       }
      },
      "text/html": [
       "<div>\n",
       "<style scoped>\n",
       "    .dataframe tbody tr th:only-of-type {\n",
       "        vertical-align: middle;\n",
       "    }\n",
       "\n",
       "    .dataframe tbody tr th {\n",
       "        vertical-align: top;\n",
       "    }\n",
       "\n",
       "    .dataframe thead th {\n",
       "        text-align: right;\n",
       "    }\n",
       "</style>\n",
       "<table border=\"1\" class=\"dataframe\">\n",
       "  <thead>\n",
       "    <tr style=\"text-align: right;\">\n",
       "      <th></th>\n",
       "      <th>show_id</th>\n",
       "      <th>type</th>\n",
       "      <th>title</th>\n",
       "      <th>director</th>\n",
       "      <th>cast</th>\n",
       "      <th>country</th>\n",
       "      <th>date_added</th>\n",
       "      <th>release_year</th>\n",
       "      <th>rating</th>\n",
       "      <th>duration</th>\n",
       "      <th>listed_in</th>\n",
       "      <th>description</th>\n",
       "      <th>minute</th>\n",
       "    </tr>\n",
       "  </thead>\n",
       "  <tbody>\n",
       "    <tr>\n",
       "      <th>22</th>\n",
       "      <td>s23</td>\n",
       "      <td>Movie</td>\n",
       "      <td>Avvai Shanmughi</td>\n",
       "      <td>K.S. Ravikumar</td>\n",
       "      <td>Kamal Hassan, Meena, Gemini Ganesan, Heera Raj...</td>\n",
       "      <td>NaN</td>\n",
       "      <td>September 21, 2021</td>\n",
       "      <td>1996</td>\n",
       "      <td>TV-PG</td>\n",
       "      <td>161 min</td>\n",
       "      <td>Comedies, International Movies</td>\n",
       "      <td>Newly divorced and denied visitation rights wi...</td>\n",
       "      <td>161</td>\n",
       "    </tr>\n",
       "    <tr>\n",
       "      <th>24</th>\n",
       "      <td>s25</td>\n",
       "      <td>Movie</td>\n",
       "      <td>Jeans</td>\n",
       "      <td>S. Shankar</td>\n",
       "      <td>Prashanth, Aishwarya Rai Bachchan, Sri Lakshmi...</td>\n",
       "      <td>India</td>\n",
       "      <td>September 21, 2021</td>\n",
       "      <td>1998</td>\n",
       "      <td>TV-14</td>\n",
       "      <td>166 min</td>\n",
       "      <td>Comedies, International Movies, Romantic Movies</td>\n",
       "      <td>When the father of the man she loves insists t...</td>\n",
       "      <td>166</td>\n",
       "    </tr>\n",
       "    <tr>\n",
       "      <th>45</th>\n",
       "      <td>s46</td>\n",
       "      <td>Movie</td>\n",
       "      <td>My Heroes Were Cowboys</td>\n",
       "      <td>Tyler Greco</td>\n",
       "      <td>NaN</td>\n",
       "      <td>NaN</td>\n",
       "      <td>September 16, 2021</td>\n",
       "      <td>2021</td>\n",
       "      <td>PG</td>\n",
       "      <td>23 min</td>\n",
       "      <td>Documentaries</td>\n",
       "      <td>Robin Wiltshire's painful childhood was rescue...</td>\n",
       "      <td>23</td>\n",
       "    </tr>\n",
       "    <tr>\n",
       "      <th>71</th>\n",
       "      <td>s72</td>\n",
       "      <td>Movie</td>\n",
       "      <td>A StoryBots Space Adventure</td>\n",
       "      <td>David A. Vargas</td>\n",
       "      <td>Evan Spiridellis, Erin Fitzgerald, Jeff Gill, ...</td>\n",
       "      <td>NaN</td>\n",
       "      <td>September 14, 2021</td>\n",
       "      <td>2021</td>\n",
       "      <td>TV-Y</td>\n",
       "      <td>13 min</td>\n",
       "      <td>Children &amp; Family Movies</td>\n",
       "      <td>Join the StoryBots and the space travelers of ...</td>\n",
       "      <td>13</td>\n",
       "    </tr>\n",
       "    <tr>\n",
       "      <th>73</th>\n",
       "      <td>s74</td>\n",
       "      <td>Movie</td>\n",
       "      <td>King of Boys</td>\n",
       "      <td>Kemi Adetiba</td>\n",
       "      <td>Sola Sobowale, Adesua Etomi, Remilekun \"Remini...</td>\n",
       "      <td>Nigeria</td>\n",
       "      <td>September 14, 2021</td>\n",
       "      <td>2018</td>\n",
       "      <td>TV-MA</td>\n",
       "      <td>182 min</td>\n",
       "      <td>Dramas, International Movies</td>\n",
       "      <td>When a powerful businesswoman’s political ambi...</td>\n",
       "      <td>182</td>\n",
       "    </tr>\n",
       "    <tr>\n",
       "      <th>...</th>\n",
       "      <td>...</td>\n",
       "      <td>...</td>\n",
       "      <td>...</td>\n",
       "      <td>...</td>\n",
       "      <td>...</td>\n",
       "      <td>...</td>\n",
       "      <td>...</td>\n",
       "      <td>...</td>\n",
       "      <td>...</td>\n",
       "      <td>...</td>\n",
       "      <td>...</td>\n",
       "      <td>...</td>\n",
       "      <td>...</td>\n",
       "    </tr>\n",
       "    <tr>\n",
       "      <th>8763</th>\n",
       "      <td>s8764</td>\n",
       "      <td>Movie</td>\n",
       "      <td>WWII: Report from the Aleutians</td>\n",
       "      <td>John Huston</td>\n",
       "      <td>NaN</td>\n",
       "      <td>United States</td>\n",
       "      <td>March 31, 2017</td>\n",
       "      <td>1943</td>\n",
       "      <td>TV-PG</td>\n",
       "      <td>45 min</td>\n",
       "      <td>Documentaries</td>\n",
       "      <td>Filmmaker John Huston narrates this Oscar-nomi...</td>\n",
       "      <td>45</td>\n",
       "    </tr>\n",
       "    <tr>\n",
       "      <th>8764</th>\n",
       "      <td>s8765</td>\n",
       "      <td>Movie</td>\n",
       "      <td>Wyatt Earp</td>\n",
       "      <td>Lawrence Kasdan</td>\n",
       "      <td>Kevin Costner, Dennis Quaid, Gene Hackman, Dav...</td>\n",
       "      <td>United States</td>\n",
       "      <td>January 1, 2020</td>\n",
       "      <td>1994</td>\n",
       "      <td>PG-13</td>\n",
       "      <td>191 min</td>\n",
       "      <td>Action &amp; Adventure</td>\n",
       "      <td>Legendary lawman Wyatt Earp is continually at ...</td>\n",
       "      <td>191</td>\n",
       "    </tr>\n",
       "    <tr>\n",
       "      <th>8770</th>\n",
       "      <td>s8771</td>\n",
       "      <td>Movie</td>\n",
       "      <td>Yaadein</td>\n",
       "      <td>Subhash Ghai</td>\n",
       "      <td>Jackie Shroff, Hrithik Roshan, Kareena Kapoor,...</td>\n",
       "      <td>India</td>\n",
       "      <td>March 1, 2018</td>\n",
       "      <td>2001</td>\n",
       "      <td>TV-14</td>\n",
       "      <td>171 min</td>\n",
       "      <td>Dramas, International Movies, Romantic Movies</td>\n",
       "      <td>Two young lovers set out to overcome the obsta...</td>\n",
       "      <td>171</td>\n",
       "    </tr>\n",
       "    <tr>\n",
       "      <th>8788</th>\n",
       "      <td>s8789</td>\n",
       "      <td>Movie</td>\n",
       "      <td>You Carry Me</td>\n",
       "      <td>Ivona Juka</td>\n",
       "      <td>Lana Baric, Vojislav Brajovic, Natasa Janjic, ...</td>\n",
       "      <td>Croatia, Slovenia, Serbia, Montenegro</td>\n",
       "      <td>July 1, 2016</td>\n",
       "      <td>2015</td>\n",
       "      <td>TV-MA</td>\n",
       "      <td>157 min</td>\n",
       "      <td>Dramas, International Movies</td>\n",
       "      <td>A soap opera producer, director and makeup art...</td>\n",
       "      <td>157</td>\n",
       "    </tr>\n",
       "    <tr>\n",
       "      <th>8802</th>\n",
       "      <td>s8803</td>\n",
       "      <td>Movie</td>\n",
       "      <td>Zodiac</td>\n",
       "      <td>David Fincher</td>\n",
       "      <td>Mark Ruffalo, Jake Gyllenhaal, Robert Downey J...</td>\n",
       "      <td>United States</td>\n",
       "      <td>November 20, 2019</td>\n",
       "      <td>2007</td>\n",
       "      <td>R</td>\n",
       "      <td>158 min</td>\n",
       "      <td>Cult Movies, Dramas, Thrillers</td>\n",
       "      <td>A political cartoonist, a crime reporter and a...</td>\n",
       "      <td>158</td>\n",
       "    </tr>\n",
       "  </tbody>\n",
       "</table>\n",
       "<p>466 rows × 13 columns</p>\n",
       "</div>"
      ],
      "text/plain": [
       "     show_id   type                            title         director  \\\n",
       "22       s23  Movie                  Avvai Shanmughi   K.S. Ravikumar   \n",
       "24       s25  Movie                            Jeans       S. Shankar   \n",
       "45       s46  Movie           My Heroes Were Cowboys      Tyler Greco   \n",
       "71       s72  Movie      A StoryBots Space Adventure  David A. Vargas   \n",
       "73       s74  Movie                     King of Boys     Kemi Adetiba   \n",
       "...      ...    ...                              ...              ...   \n",
       "8763   s8764  Movie  WWII: Report from the Aleutians      John Huston   \n",
       "8764   s8765  Movie                       Wyatt Earp  Lawrence Kasdan   \n",
       "8770   s8771  Movie                          Yaadein     Subhash Ghai   \n",
       "8788   s8789  Movie                     You Carry Me       Ivona Juka   \n",
       "8802   s8803  Movie                           Zodiac    David Fincher   \n",
       "\n",
       "                                                   cast  \\\n",
       "22    Kamal Hassan, Meena, Gemini Ganesan, Heera Raj...   \n",
       "24    Prashanth, Aishwarya Rai Bachchan, Sri Lakshmi...   \n",
       "45                                                  NaN   \n",
       "71    Evan Spiridellis, Erin Fitzgerald, Jeff Gill, ...   \n",
       "73    Sola Sobowale, Adesua Etomi, Remilekun \"Remini...   \n",
       "...                                                 ...   \n",
       "8763                                                NaN   \n",
       "8764  Kevin Costner, Dennis Quaid, Gene Hackman, Dav...   \n",
       "8770  Jackie Shroff, Hrithik Roshan, Kareena Kapoor,...   \n",
       "8788  Lana Baric, Vojislav Brajovic, Natasa Janjic, ...   \n",
       "8802  Mark Ruffalo, Jake Gyllenhaal, Robert Downey J...   \n",
       "\n",
       "                                    country          date_added  release_year  \\\n",
       "22                                      NaN  September 21, 2021          1996   \n",
       "24                                    India  September 21, 2021          1998   \n",
       "45                                      NaN  September 16, 2021          2021   \n",
       "71                                      NaN  September 14, 2021          2021   \n",
       "73                                  Nigeria  September 14, 2021          2018   \n",
       "...                                     ...                 ...           ...   \n",
       "8763                          United States      March 31, 2017          1943   \n",
       "8764                          United States     January 1, 2020          1994   \n",
       "8770                                  India       March 1, 2018          2001   \n",
       "8788  Croatia, Slovenia, Serbia, Montenegro        July 1, 2016          2015   \n",
       "8802                          United States   November 20, 2019          2007   \n",
       "\n",
       "     rating duration                                        listed_in  \\\n",
       "22    TV-PG  161 min                   Comedies, International Movies   \n",
       "24    TV-14  166 min  Comedies, International Movies, Romantic Movies   \n",
       "45       PG   23 min                                    Documentaries   \n",
       "71     TV-Y   13 min                         Children & Family Movies   \n",
       "73    TV-MA  182 min                     Dramas, International Movies   \n",
       "...     ...      ...                                              ...   \n",
       "8763  TV-PG   45 min                                    Documentaries   \n",
       "8764  PG-13  191 min                               Action & Adventure   \n",
       "8770  TV-14  171 min    Dramas, International Movies, Romantic Movies   \n",
       "8788  TV-MA  157 min                     Dramas, International Movies   \n",
       "8802      R  158 min                   Cult Movies, Dramas, Thrillers   \n",
       "\n",
       "                                            description  minute  \n",
       "22    Newly divorced and denied visitation rights wi...     161  \n",
       "24    When the father of the man she loves insists t...     166  \n",
       "45    Robin Wiltshire's painful childhood was rescue...      23  \n",
       "71    Join the StoryBots and the space travelers of ...      13  \n",
       "73    When a powerful businesswoman’s political ambi...     182  \n",
       "...                                                 ...     ...  \n",
       "8763  Filmmaker John Huston narrates this Oscar-nomi...      45  \n",
       "8764  Legendary lawman Wyatt Earp is continually at ...     191  \n",
       "8770  Two young lovers set out to overcome the obsta...     171  \n",
       "8788  A soap opera producer, director and makeup art...     157  \n",
       "8802  A political cartoonist, a crime reporter and a...     158  \n",
       "\n",
       "[466 rows x 13 columns]"
      ]
     },
     "execution_count": 91,
     "metadata": {},
     "output_type": "execute_result"
    }
   ],
   "source": [
    "# Dealing with Outliers\n",
    "df_movie[~((df_movie['minute'] >46 ) & (df_movie['minute'] <154))]"
   ]
  },
  {
   "cell_type": "markdown",
   "metadata": {},
   "source": [
    "## Using bars to identify outliers within categorical data"
   ]
  },
  {
   "cell_type": "code",
   "execution_count": 94,
   "metadata": {},
   "outputs": [
    {
     "data": {
      "text/plain": [
       "<Axes: xlabel='rating'>"
      ]
     },
     "execution_count": 94,
     "metadata": {},
     "output_type": "execute_result"
    },
    {
     "data": {
      "image/png": "[encoded data removed]",
      "text/plain": [
       "<Figure size 1000x500 with 1 Axes>"
      ]
     },
     "metadata": {},
     "output_type": "display_data"
    }
   ],
   "source": [
    "# make barplot with pandas\n",
    "df_movie['rating'].value_counts().plot(kind='bar', figsize=(10,5))"
   ]
  },
  {
   "cell_type": "markdown",
   "metadata": {},
   "source": [
    "# Text Normalization"
   ]
  },
  {
   "cell_type": "markdown",
   "metadata": {},
   "source": [
    "## Dealing with inconsistent capitalization: lower(), upper(), title()"
   ]
  },
  {
   "cell_type": "code",
   "execution_count": 104,
   "metadata": {},
   "outputs": [
    {
     "name": "stderr",
     "output_type": "stream",
     "text": [
      "/var/folders/np/cb3_4g1x2ms55b1kf0dx82q40000gn/T/ipykernel_78363/3115162983.py:7: SettingWithCopyWarning: \n",
      "A value is trying to be set on a copy of a slice from a DataFrame.\n",
      "Try using .loc[row_indexer,col_indexer] = value instead\n",
      "\n",
      "See the caveats in the documentation: https://pandas.pydata.org/pandas-docs/stable/user_guide/indexing.html#returning-a-view-versus-a-copy\n",
      "  df_movie['title'] = df_movie['title'].str.upper()\n",
      "/var/folders/np/cb3_4g1x2ms55b1kf0dx82q40000gn/T/ipykernel_78363/3115162983.py:10: SettingWithCopyWarning: \n",
      "A value is trying to be set on a copy of a slice from a DataFrame.\n",
      "Try using .loc[row_indexer,col_indexer] = value instead\n",
      "\n",
      "See the caveats in the documentation: https://pandas.pydata.org/pandas-docs/stable/user_guide/indexing.html#returning-a-view-versus-a-copy\n",
      "  df_movie['title'] = df_movie['title'].apply(lambda x: x.title())\n"
     ]
    },
    {
     "data": {
      "application/vnd.microsoft.datawrangler.viewer.v0+json": {
       "columns": [
        {
         "name": "index",
         "rawType": "int64",
         "type": "integer"
        },
        {
         "name": "show_id",
         "rawType": "object",
         "type": "string"
        },
        {
         "name": "type",
         "rawType": "object",
         "type": "string"
        },
        {
         "name": "title",
         "rawType": "object",
         "type": "string"
        },
        {
         "name": "director",
         "rawType": "object",
         "type": "unknown"
        },
        {
         "name": "cast",
         "rawType": "object",
         "type": "unknown"
        },
        {
         "name": "country",
         "rawType": "object",
         "type": "unknown"
        },
        {
         "name": "date_added",
         "rawType": "object",
         "type": "string"
        },
        {
         "name": "release_year",
         "rawType": "int64",
         "type": "integer"
        },
        {
         "name": "rating",
         "rawType": "object",
         "type": "string"
        },
        {
         "name": "duration",
         "rawType": "object",
         "type": "string"
        },
        {
         "name": "listed_in",
         "rawType": "object",
         "type": "string"
        },
        {
         "name": "description",
         "rawType": "object",
         "type": "string"
        },
        {
         "name": "minute",
         "rawType": "int64",
         "type": "integer"
        }
       ],
       "ref": "c2f87127-a6c4-4eca-90a4-83a056155fe4",
       "rows": [
        [
         "0",
         "s1",
         "Movie",
         "Dick Johnson Is Dead",
         "Kirsten Johnson",
         null,
         "United States",
         "September 25, 2021",
         "2020",
         "PG-13",
         "90 min",
         "Documentaries",
         "As her father nears the end of his life, filmmaker Kirsten Johnson stages his death in inventive and comical ways to help them both face the inevitable.",
         "90"
        ],
        [
         "6",
         "s7",
         "Movie",
         "My Little Pony: A New Generation",
         "Robert Cullen, José Luis Ucha",
         "Vanessa Hudgens, Kimiko Glenn, James Marsden, Sofia Carson, Liza Koshy, Ken Jeong, Elizabeth Perkins, Jane Krakowski, Michael McKean, Phil LaMarr",
         null,
         "September 24, 2021",
         "2021",
         "PG",
         "91 min",
         "Children & Family Movies",
         "Equestria's divided. But a bright-eyed hero believes Earth Ponies, Pegasi and Unicorns should be pals — and, hoof to heart, she’s determined to prove it.",
         "91"
        ],
        [
         "7",
         "s8",
         "Movie",
         "Sankofa",
         "Haile Gerima",
         "Kofi Ghanaba, Oyafunmike Ogunlano, Alexandra Duah, Nick Medley, Mutabaruka, Afemo Omilami, Reggie Carter, Mzuri",
         "United States, Ghana, Burkina Faso, United Kingdom, Germany, Ethiopia",
         "September 24, 2021",
         "1993",
         "TV-MA",
         "125 min",
         "Dramas, Independent Movies, International Movies",
         "On a photo shoot in Ghana, an American model slips back in time, becomes enslaved on a plantation and bears witness to the agony of her ancestral past.",
         "125"
        ],
        [
         "9",
         "s10",
         "Movie",
         "The Starling",
         "Theodore Melfi",
         "Melissa McCarthy, Chris O'Dowd, Kevin Kline, Timothy Olyphant, Daveed Diggs, Skyler Gisondo, Laura Harrier, Rosalind Chao, Kimberly Quinn, Loretta Devine, Ravi Kapoor",
         "United States",
         "September 24, 2021",
         "2021",
         "PG-13",
         "104 min",
         "Comedies, Dramas",
         "A woman adjusting to life after a loss contends with a feisty bird that's taken over her garden — and a husband who's struggling to find a way forward.",
         "104"
        ],
        [
         "12",
         "s13",
         "Movie",
         "Je Suis Karl",
         "Christian Schwochow",
         "Luna Wedler, Jannis Niewöhner, Milan Peschel, Edin Hasanović, Anna Fialová, Marlon Boess, Victor Boccard, Fleur Geffrier, Aziz Dyab, Mélanie Fouché, Elizaveta Maximová",
         "Germany, Czech Republic",
         "September 23, 2021",
         "2021",
         "TV-MA",
         "127 min",
         "Dramas, International Movies",
         "After most of her family is murdered in a terrorist bombing, a young woman is unknowingly lured into joining the very group that killed them.",
         "127"
        ],
        [
         "13",
         "s14",
         "Movie",
         "Confessions Of An Invisible Girl",
         "Bruno Garotti",
         "Klara Castanho, Lucca Picon, Júlia Gomes, Marcus Bessa, Kiria Malheiros, Fernanda Concon, Gabriel Lima, Caio Cabral, Leonardo Cidade, Jade Cardozo",
         null,
         "September 22, 2021",
         "2021",
         "TV-PG",
         "91 min",
         "Children & Family Movies, Comedies",
         "When the clever but socially-awkward Tetê joins a new school, she'll do anything to fit in. But the queen bee among her classmates has other ideas.",
         "91"
        ],
        [
         "16",
         "s17",
         "Movie",
         "Europe'S Most Dangerous Man: Otto Skorzeny In Spain",
         "Pedro de Echave García, Pablo Azorín Williams",
         null,
         null,
         "September 22, 2021",
         "2020",
         "TV-MA",
         "67 min",
         "Documentaries, International Movies",
         "Declassified documents reveal the post-WWII life of Otto Skorzeny, a close Hitler ally who escaped to Spain and became an adviser to world presidents.",
         "67"
        ],
        [
         "18",
         "s19",
         "Movie",
         "Intrusion",
         "Adam Salky",
         "Freida Pinto, Logan Marshall-Green, Robert John Burke, Megan Elisabeth Kelly, Sarah Minnich, Hayes Hargrove, Mark Sivertsen, Brandon Fierro, Antonio Valles, Clint Obenchain",
         null,
         "September 22, 2021",
         "2021",
         "TV-14",
         "94 min",
         "Thrillers",
         "After a deadly home invasion at a couple’s new dream house, the traumatized wife searches for answers — and learns the real danger is just beginning.",
         "94"
        ],
        [
         "22",
         "s23",
         "Movie",
         "Avvai Shanmughi",
         "K.S. Ravikumar",
         "Kamal Hassan, Meena, Gemini Ganesan, Heera Rajgopal, Nassar, S.P. Balasubrahmanyam",
         null,
         "September 21, 2021",
         "1996",
         "TV-PG",
         "161 min",
         "Comedies, International Movies",
         "Newly divorced and denied visitation rights with his daughter, a doting father disguises himself as a gray-haired nanny in order to spend time with her.",
         "161"
        ],
        [
         "23",
         "s24",
         "Movie",
         "Go! Go! Cory Carson: Chrissy Takes The Wheel",
         "Alex Woo, Stanley Moore",
         "Maisie Benson, Paul Killam, Kerry Gudjohnsen, AC Lim",
         null,
         "September 21, 2021",
         "2021",
         "TV-Y",
         "61 min",
         "Children & Family Movies",
         "From arcade games to sled days and hiccup cures, Cory Carson’s curious little sister Chrissy speeds off on her own for fun and adventure all over town!",
         "61"
        ],
        [
         "24",
         "s25",
         "Movie",
         "Jeans",
         "S. Shankar",
         "Prashanth, Aishwarya Rai Bachchan, Sri Lakshmi, Nassar",
         "India",
         "September 21, 2021",
         "1998",
         "TV-14",
         "166 min",
         "Comedies, International Movies, Romantic Movies",
         "When the father of the man she loves insists that his twin sons marry twin sisters, a woman creates an alter ego that might be a bit too convincing.",
         "166"
        ],
        [
         "26",
         "s27",
         "Movie",
         "Minsara Kanavu",
         "Rajiv Menon",
         "Arvind Swamy, Kajol, Prabhu Deva, Nassar, S.P. Balasubrahmanyam, Girish Karnad",
         null,
         "September 21, 2021",
         "1997",
         "TV-PG",
         "147 min",
         "Comedies, International Movies, Music & Musicals",
         "A tangled love triangle ensues when a man falls for a woman studying to become a nun — and she falls for the friend he enlists to help him pursue her.",
         "147"
        ],
        [
         "27",
         "s28",
         "Movie",
         "Grown Ups",
         "Dennis Dugan",
         "Adam Sandler, Kevin James, Chris Rock, David Spade, Rob Schneider, Salma Hayek, Maria Bello, Maya Rudolph, Colin Quinn, Tim Meadows, Joyce Van Patten",
         "United States",
         "September 20, 2021",
         "2010",
         "PG-13",
         "103 min",
         "Comedies",
         "Mourning the loss of their beloved junior high basketball coach, five middle-aged pals reunite at a lake house and rediscover the joys of being a kid.",
         "103"
        ],
        [
         "28",
         "s29",
         "Movie",
         "Dark Skies",
         "Scott Stewart",
         "Keri Russell, Josh Hamilton, J.K. Simmons, Dakota Goyo, Kadan Rockett, L.J. Benet, Rich Hutchman, Myndy Crist, Annie Thurman, Jake Brennan",
         "United States",
         "September 19, 2021",
         "2013",
         "PG-13",
         "97 min",
         "Horror Movies, Sci-Fi & Fantasy",
         "A family’s idyllic suburban life shatters when an alien force invades their home, and as they struggle to convince others of the deadly threat.",
         "97"
        ],
        [
         "29",
         "s30",
         "Movie",
         "Paranoia",
         "Robert Luketic",
         "Liam Hemsworth, Gary Oldman, Amber Heard, Harrison Ford, Lucas Till, Embeth Davidtz, Julian McMahon, Josh Holloway, Richard Dreyfuss, Angela Sarafyan",
         "United States, India, France",
         "September 19, 2021",
         "2013",
         "PG-13",
         "106 min",
         "Thrillers",
         "Blackmailed by his company's CEO, a low-level employee finds himself forced to spy on the boss's rival and former mentor.",
         "106"
        ],
        [
         "30",
         "s31",
         "Movie",
         "Ankahi Kahaniya",
         "Ashwiny Iyer Tiwari, Abhishek Chaubey, Saket Chaudhary",
         "Abhishek Banerjee, Rinku Rajguru, Delzad Hiwale, Kunal Kapoor, Zoya Hussain, Nikhil Dwivedi, Palomi Ghosh",
         null,
         "September 17, 2021",
         "2021",
         "TV-14",
         "111 min",
         "Dramas, Independent Movies, International Movies",
         "As big city life buzzes around them, lonely souls discover surprising sources of connection and companionship in three tales of love, loss and longing.",
         "111"
        ],
        [
         "35",
         "s36",
         "Movie",
         "The Father Who Moves Mountains",
         "Daniel Sandu",
         "Adrian Titieni, Elena Purea, Judith State, Valeriu Andriuță, Tudor Smoleanu, Virgil Aioanei, Radu Botar, Petronela Grigorescu, Bogdan Nechifor, Cristian Bota",
         null,
         "September 17, 2021",
         "2021",
         "TV-MA",
         "110 min",
         "Dramas, International Movies, Thrillers",
         "When his son goes missing during a snowy hike in the mountains, a retired intelligence officer will stop at nothing — and risk everything — to find him.",
         "110"
        ],
        [
         "36",
         "s37",
         "Movie",
         "The Stronghold",
         "Cédric Jimenez",
         "Gilles Lellouche, Karim Leklou, François Civil, Adèle Exarchopoulos, Kenza Fortas, Cyril Lecomte, Michaël Abiteboul, Idir Azougli, Vincent Darmuzey, Jean-Yves Berteloot",
         null,
         "September 17, 2021",
         "2021",
         "TV-MA",
         "105 min",
         "Action & Adventure, Dramas, International Movies",
         "Tired of the small-time grind, three Marseille cops get a chance to bust a major drug network. But lines blur when a key informant makes a big ask.",
         "105"
        ],
        [
         "38",
         "s39",
         "Movie",
         "Birth Of The Dragon",
         "George Nolfi",
         "Billy Magnussen, Ron Yuan, Qu Jingjing, Terry Chen, Vanness Wu, Jin Xing, Philip Ng, Xia Yu, Yu Xia",
         "China, Canada, United States",
         "September 16, 2021",
         "2017",
         "PG-13",
         "96 min",
         "Action & Adventure, Dramas",
         "A young Bruce Lee angers kung fu traditionalists by teaching outsiders, leading to a showdown with a Shaolin master in this film based on real events.",
         "96"
        ],
        [
         "41",
         "s42",
         "Movie",
         "Jaws",
         "Steven Spielberg",
         "Roy Scheider, Robert Shaw, Richard Dreyfuss, Lorraine Gary, Murray Hamilton, Carl Gottlieb, Jeffrey Kramer, Susan Backlinie, Jonathan Filley, Ted Grossman",
         "United States",
         "September 16, 2021",
         "1975",
         "PG",
         "124 min",
         "Action & Adventure, Classic Movies, Dramas",
         "When an insatiable great white shark terrorizes Amity Island, a police chief, an oceanographer and a grizzled shark hunter seek to destroy the beast.",
         "124"
        ],
        [
         "42",
         "s43",
         "Movie",
         "Jaws 2",
         "Jeannot Szwarc",
         "Roy Scheider, Lorraine Gary, Murray Hamilton, Joseph Mascolo, Jeffrey Kramer, Collin Wilcox Paxton, Ann Dusenberry, Mark Gruner, Barry Coe, Susan French",
         "United States",
         "September 16, 2021",
         "1978",
         "PG",
         "116 min",
         "Dramas, Horror Movies, Thrillers",
         "Four years after the last deadly shark attacks, police chief Martin Brody fights to protect Amity Island from another killer great white.",
         "116"
        ],
        [
         "43",
         "s44",
         "Movie",
         "Jaws 3",
         "Joe Alves",
         "Dennis Quaid, Bess Armstrong, Simon MacCorkindale, Louis Gossett Jr., John Putch, Lea Thompson, P.H. Moriarty, Dan Blasko, Liz Morris, Lisa Maurer",
         "United States",
         "September 16, 2021",
         "1983",
         "PG",
         "98 min",
         "Action & Adventure, Horror Movies, Thrillers",
         "After the staff of a marine theme park try to capture a young great white shark, they discover its mother has invaded the enclosure and is out for blood.",
         "98"
        ],
        [
         "44",
         "s45",
         "Movie",
         "Jaws: The Revenge",
         "Joseph Sargent",
         "Lorraine Gary, Lance Guest, Mario Van Peebles, Karen Young, Michael Caine, Judith Barsi, Mitchell Anderson, Lynn Whitfield",
         "United States",
         "September 16, 2021",
         "1987",
         "PG-13",
         "91 min",
         "Action & Adventure, Horror Movies, Thrillers",
         "After another deadly shark attack, Ellen Brody has had enough of Amity Island and moves to the Caribbean – but a great white shark follows her there.",
         "91"
        ],
        [
         "45",
         "s46",
         "Movie",
         "My Heroes Were Cowboys",
         "Tyler Greco",
         null,
         null,
         "September 16, 2021",
         "2021",
         "PG",
         "23 min",
         "Documentaries",
         "Robin Wiltshire's painful childhood was rescued by Westerns. Now he lives on the frontier of his dreams, training the horses he loves for the big screen.",
         "23"
        ],
        [
         "46",
         "s47",
         "Movie",
         "Safe House",
         "Daniel Espinosa",
         "Denzel Washington, Ryan Reynolds, Vera Farmiga, Brendan Gleeson, Sam Shepard, Rubén Blades, Nora Arnezeder, Robert Patrick, Liam Cunningham, Joel Kinnaman",
         "South Africa, United States, Japan",
         "September 16, 2021",
         "2012",
         "R",
         "115 min",
         "Action & Adventure",
         "Young CIA operative Matt Weston must get a dangerous criminal out of an agency safe house that's come under attack and get him to a securer location.",
         "115"
        ],
        [
         "48",
         "s49",
         "Movie",
         "Training Day",
         "Antoine Fuqua",
         "Denzel Washington, Ethan Hawke, Scott Glenn, Tom Berenger, Harris Yulin, Raymond J. Barry, Cliff Curtis, Dr. Dre, Snoop Dogg, Macy Gray, Eva Mendes",
         "United States",
         "September 16, 2021",
         "2001",
         "R",
         "122 min",
         "Dramas, Thrillers",
         "A rookie cop with one day to prove himself to a veteran LAPD narcotics officer receives a crash course in his mentor's questionable brand of justice.",
         "122"
        ],
        [
         "51",
         "s52",
         "Movie",
         "Inuyasha The Movie 2: The Castle Beyond The Looking Glass",
         "Toshiya Shinohara",
         "Kappei Yamaguchi, Satsuki Yukino, Mieko Harada, Koji Tsujitani, Houko Kuwashima, Kumiko Watanabe, Noriko Hidaka, Kenichi Ogata, Toshiyuki Morikawa, Izumi Ogami",
         "Japan",
         "September 15, 2021",
         "2002",
         "TV-14",
         "99 min",
         "Action & Adventure, Anime Features, International Movies",
         "With their biggest foe seemingly defeated, InuYasha and his friends return to everyday life. But the peace is soon shattered by an emerging new enemy.",
         "99"
        ],
        [
         "52",
         "s53",
         "Movie",
         "Inuyasha The Movie 3: Swords Of An Honorable Ruler",
         "Toshiya Shinohara",
         "Kappei Yamaguchi, Satsuki Yukino, Koji Tsujitani, Houko Kuwashima, Kumiko Watanabe, Ken Narita, Akio Otsuka, Kikuko Inoue",
         "Japan",
         "September 15, 2021",
         "2003",
         "TV-14",
         "99 min",
         "Action & Adventure, Anime Features, International Movies",
         "The Great Dog Demon beaqueathed one of the Three Swords of the Fang to each of his two sons. Now the evil power of the third sword has been awakened.",
         "99"
        ],
        [
         "53",
         "s54",
         "Movie",
         "Inuyasha The Movie 4: Fire On The Mystic Island",
         "Toshiya Shinohara",
         "Kappei Yamaguchi, Satsuki Yukino, Koji Tsujitani, Houko Kuwashima, Kumiko Watanabe, Noriko Hidaka, Ken Narita, Cho, Mamiko Noto, Nobutoshi Canna",
         "Japan",
         "September 15, 2021",
         "2004",
         "TV-PG",
         "88 min",
         "Action & Adventure, Anime Features, International Movies",
         "Ai, a young half-demon who has escaped from Horai Island to try to help her people, returns with potential saviors InuYasha, Sesshomaru and Kikyo.",
         "88"
        ],
        [
         "54",
         "s55",
         "Movie",
         "Inuyasha The Movie: Affections Touching Across Time",
         "Toshiya Shinohara",
         "Kappei Yamaguchi, Satsuki Yukino, Koji Tsujitani, Houko Kuwashima, Kumiko Watanabe, Kenichi Ogata, Noriko Hidaka, Hisako Kyoda, Ken Narita, Tomokazu Seki",
         "Japan",
         "September 15, 2021",
         "2001",
         "TV-PG",
         "100 min",
         "Action & Adventure, Anime Features, International Movies",
         "A powerful demon has been sealed away for 200 years. But when the demon's son is awakened, the fate of the world is in jeopardy.",
         "100"
        ],
        [
         "56",
         "s57",
         "Movie",
         "Naruto Shippuden The Movie: Blood Prison",
         "Masahiko Murata",
         "Junko Takeuchi, Chie Nakamura, Rikiya Koyama, Kazuhiko Inoue, Masaki Terasoma, Mie Sonozaki, Yuichi Nakamura, Kengo Kawanishi, Kosei Hirota, Masako Katsuki",
         "Japan",
         "September 15, 2021",
         "2011",
         "TV-14",
         "102 min",
         "Action & Adventure, Anime Features, International Movies",
         "Mistakenly accused of an attack on the Fourth Raikage, ninja Naruto is imprisoned in the impenetrable Hozuki Castle and his powers are sealed.",
         "102"
        ],
        [
         "57",
         "s58",
         "Movie",
         "Naruto Shippûden The Movie: Bonds",
         "Hajime Kamegaki",
         "Junko Takeuchi, Chie Nakamura, Noriaki Sugiyama, Unsho Ishizuka, Motoko Kumai, Kazuhiko Inoue, Rikiya Koyama, Showtaro Morikubo, Nana Mizuki, Satoshi Hino, Shinji Kawada",
         "Japan",
         "September 15, 2021",
         "2008",
         "TV-PG",
         "93 min",
         "Action & Adventure, Anime Features, International Movies",
         "When strange ninjas ambush the village of Konohagakure, it's up to adolescent ninja Naruto and his long-missing pal, Sasuke, to save the planet.",
         "93"
        ],
        [
         "58",
         "s59",
         "Movie",
         "Naruto Shippûden The Movie: The Will Of Fire",
         "Masahiko Murata",
         "Junko Takeuchi, Chie Nakamura, Kazuhiko Inoue, Satoshi Hino, Showtaro Morikubo, Kentaro Ito, Ryoka Yuzuki, Kohsuke Toriumi, Nana Mizuki, Shinji Kawada, Yoichi Masukawa, Koichi Tochika, Yukari Tamura",
         "Japan",
         "September 15, 2021",
         "2009",
         "TV-PG",
         "96 min",
         "Action & Adventure, Anime Features, International Movies",
         "When four out of five ninja villages are destroyed, the leader of the one spared tries to find the true culprit and protect his land.",
         "96"
        ],
        [
         "59",
         "s60",
         "Movie",
         "Naruto Shippuden: The Movie",
         "Hajime Kamegaki",
         "Junko Takeuchi, Chie Nakamura, Yoichi Masukawa, Koichi Tochika, Ayumi Fujimura, Keisuke Oda, Daisuke Kishio, Fumiko Orikasa, Hidetoshi Nakamura, Tetsuya Kakihara, Kisho Taniyama, Miyuki Sawashiro, Katsuyuki Konishi, Masako Katsuki, Keiko Nemoto, Masashi Ebara, Kazuhiko Inoue, Showtaro Morikubo, Romi Park, Daisuke Ono, Seizo Kato",
         "Japan",
         "September 15, 2021",
         "2007",
         "TV-PG",
         "95 min",
         "Action & Adventure, Anime Features, International Movies",
         "The adventures of adolescent ninja Naruto Uzumaki continue as he's tasked with protecting a priestess from a demon – but to do so, he must die.",
         "95"
        ],
        [
         "60",
         "s61",
         "Movie",
         "Naruto Shippuden: The Movie: The Lost Tower",
         "Masahiko Murata",
         "Junko Takeuchi, Chie Nakamura, Satoshi Hino, Rikiya Koyama, Nobuaki Fukuda, Kenji Hamada, Keiko Nemoto, Saori Hayami, Yumi Toma, Yuko Kobayashi, Fujiko Takimoto, Mutsumi Tamura, Mayuki Makiguchi, Toshiyuki Morikawa",
         "Japan",
         "September 15, 2021",
         "2010",
         "TV-14",
         "85 min",
         "Action & Adventure, Anime Features, International Movies",
         "When Naruto is sent to recover a missing nin, the rogue manages to send him 20 years into the past, where he unites with his father to battle evil.",
         "85"
        ],
        [
         "61",
         "s62",
         "Movie",
         "Naruto The Movie 2: Legend Of The Stone Of Gelel",
         "Hirotsugu Kawasaki",
         "Junko Takeuchi, Gamon Kaai, Chie Nakamura, Showtaro Morikubo, Akira Ishida, Yasuyuki Kase, Urara Takano, Sachiko Kojima, Houko Kuwashima, Takako Honda",
         "Japan",
         "September 15, 2021",
         "2005",
         "TV-PG",
         "97 min",
         "Action & Adventure, Anime Features, International Movies",
         "While on a mission to return a missing pet, Naruto and two fellow ninjas are ambushed by brutal knights led by the enigmatic Temujin.",
         "97"
        ],
        [
         "62",
         "s63",
         "Movie",
         "Naruto The Movie 3: Guardians Of The Crescent Moon Kingdom",
         "Toshiyuki Tsuru",
         "Junko Takeuchi, Chie Nakamura, Yoichi Masukawa, Kazuhiko Inoue, Akio Otsuka, Kyousuke Ikeda, Marika Hayashi, Umeji Sasaki, Masashi Sugawara, Hisao Egawa",
         "Japan",
         "September 15, 2021",
         "2006",
         "TV-PG",
         "95 min",
         "Action & Adventure, Anime Features, International Movies",
         "Exuberant ninja Naruto teams up with his pals Sakura and Kakashi to escort Prince Michiru and his son, Hikaru, to the Crescent Moon kingdom.",
         "95"
        ],
        [
         "63",
         "s64",
         "Movie",
         "Naruto The Movie: Ninja Clash In The Land Of Snow",
         "Tensai Okamura",
         "Junko Takeuchi, Noriaki Sugiyama, Chie Nakamura, Kazuhiko Inoue, Yuhko Kaida, Tsutomu Isobe, Hirotaka Suzuoki, Jun Karasawa, Harii Kaneko, Ikuo Nishikawa",
         "Japan",
         "September 15, 2021",
         "2004",
         "TV-PG",
         "83 min",
         "Action & Adventure, Anime Features, International Movies",
         "Naruto, Sasuke and Sakura learn they'll be protecting an actress from being hurt while making her next film, but it turns out she's a princess.",
         "83"
        ],
        [
         "64",
         "s65",
         "Movie",
         "Nightbooks",
         "David Yarovesky",
         "Winslow Fegley, Lidya Jewett, Krysten Ritter",
         null,
         "September 15, 2021",
         "2021",
         "TV-PG",
         "103 min",
         "Children & Family Movies",
         "Scary story fan Alex must tell a spine-tingling tale every night — or stay trapped with his new friend in a wicked witch's magical apartment forever.",
         "103"
        ],
        [
         "68",
         "s69",
         "Movie",
         "Schumacher",
         "Hanns-Bruno Kammertöns, Vanessa Nöcker, Michael Wech",
         "Michael Schumacher",
         null,
         "September 15, 2021",
         "2021",
         "TV-14",
         "113 min",
         "Documentaries, International Movies, Sports Movies",
         "Through exclusive interviews and archival footage, this documentary traces an intimate portrait of seven-time Formula 1 champion Michael Schumacher.",
         "113"
        ],
        [
         "71",
         "s72",
         "Movie",
         "A Storybots Space Adventure",
         "David A. Vargas",
         "Evan Spiridellis, Erin Fitzgerald, Jeff Gill, Fred Tatasciore, Evan Michael Lee, Jared Isaacman, Sian Proctor, Chris Sembroski, Hayley Arceneaux",
         null,
         "September 14, 2021",
         "2021",
         "TV-Y",
         "13 min",
         "Children & Family Movies",
         "Join the StoryBots and the space travelers of the historic Inspiration4 mission as they search for answers to kids' questions about space.",
         "13"
        ],
        [
         "73",
         "s74",
         "Movie",
         "King Of Boys",
         "Kemi Adetiba",
         "Sola Sobowale, Adesua Etomi, Remilekun \"Reminisce\" Safaru, Tobechukwu \"iLLbliss\" Ejiofor, Toni Tones, Paul Sambo, Jide Kosoko, Sharon Ooja",
         "Nigeria",
         "September 14, 2021",
         "2018",
         "TV-MA",
         "182 min",
         "Dramas, International Movies",
         "When a powerful businesswoman’s political ambitions are threatened by her underworld connections, the ensuing power struggle could cost her everything.",
         "182"
        ],
        [
         "75",
         "s76",
         "Movie",
         "You Vs. Wild: Out Cold",
         "Ben Simms",
         "Bear Grylls, Jason Derek Prempeh",
         null,
         "September 14, 2021",
         "2021",
         "TV-G",
         "106 min",
         "Children & Family Movies",
         "After a plane crash leaves Bear with amnesia, he must make choices to save the missing pilot and survive in this high-stakes interactive adventure.",
         "106"
        ],
        [
         "77",
         "s78",
         "Movie",
         "Little Singham - Black Shadow",
         "Prakash Satam",
         "Sumriddhi Shukla, Jigna Bharadwaj, Sonal Kaushal, Neshma Chemburkar, Ganesh Divekar, Annamaya Verma, Anamay Verma, Manoj Pandey",
         null,
         "September 11, 2021",
         "2021",
         "TV-Y7",
         "48 min",
         "Children & Family Movies, Comedies",
         "Kid cop Little Singham loses all his superpowers while trying to stop the demon Kaal’s new evil plans! Can his inner strength help him defeat the enemy?",
         "48"
        ],
        [
         "78",
         "s79",
         "Movie",
         "Tughlaq Durbar",
         "Delhiprasad Deenadayalan",
         "Vijay Sethupathi, Parthiban, Raashi Khanna",
         null,
         "September 11, 2021",
         "2020",
         "TV-14",
         "145 min",
         "Comedies, Dramas, International Movies",
         "A budding politician has devious plans to rise in the ranks — until an unexpected new presence begins to interfere with his every crooked move.",
         "145"
        ],
        [
         "79",
         "s80",
         "Movie",
         "Tughlaq Durbar (Telugu)",
         "Delhiprasad Deenadayalan",
         "Vijay Sethupathi, Parthiban, Raashi Khanna",
         null,
         "September 11, 2021",
         "2021",
         "TV-14",
         "145 min",
         "Comedies, Dramas, International Movies",
         "A budding politician has devious plans to rise in the ranks — until an unexpected new presence begins to interfere with his every crooked move.",
         "145"
        ],
        [
         "80",
         "s81",
         "Movie",
         "Firedrake The Silver Dragon",
         "Tomer Eshed",
         "Thomas Brodie-Sangster, Felicity Jones, Freddie Highmore, Patrick Stewart, Meera Syal, Sanjeev Bhaskar, Nonso Anozie",
         null,
         "September 10, 2021",
         "2021",
         "TV-Y7",
         "93 min",
         "Children & Family Movies",
         "When his home is threatened by humans, a young dragon summons the courage to seek a mythical paradise where dragons can live in peace and fly free.",
         "93"
        ],
        [
         "81",
         "s82",
         "Movie",
         "Kate",
         "Cedric Nicolas-Troyan",
         "Mary Elizabeth Winstead, Jun Kunimura, Woody Harrelson, Tadanobu Asano, Miyavi, Michiel Huisman, Miku Martineau",
         "United States",
         "September 10, 2021",
         "2021",
         "R",
         "106 min",
         "Action & Adventure",
         "Slipped a fatal poison on her final job, a ruthless assassin working in Tokyo has less than 24 hours to find out who ordered the hit and exact revenge.",
         "106"
        ],
        [
         "84",
         "s85",
         "Movie",
         "Omo Ghetto: The Saga",
         "JJC Skillz, Funke Akindele",
         "Funke Akindele, Ayo Makun, Chioma Chukwuka Akpotha, Yemi Eberechi Alade, Blossom Chukwujekwu, Deyemi Okanlawon, Alexx Ekubo, Zubby Michael, Tina Mba, Femi Jacobs",
         "Nigeria",
         "September 10, 2021",
         "2020",
         "TV-MA",
         "147 min",
         "Action & Adventure, Comedies, Dramas",
         "Twins are reunited as a good-hearted female gangster and her uptight rich sister take on family, crime, cops and all of the trouble that follows them.",
         "147"
        ],
        [
         "86",
         "s87",
         "Movie",
         "Prey",
         "Thomas Sieben",
         "David Kross, Hanno Koffler, Maria Ehrich, Robert Finster, Yung Ngo, Klaus Steinbacher, Livia Matthes, Nellie Thalbach",
         null,
         "September 10, 2021",
         "2021",
         "TV-MA",
         "87 min",
         "International Movies, Thrillers",
         "A hiking trip into the wild turns into a desperate bid for survival for five friends on the run from a mysterious shooter.",
         "87"
        ]
       ],
       "shape": {
        "columns": 13,
        "rows": 6131
       }
      },
      "text/html": [
       "<div>\n",
       "<style scoped>\n",
       "    .dataframe tbody tr th:only-of-type {\n",
       "        vertical-align: middle;\n",
       "    }\n",
       "\n",
       "    .dataframe tbody tr th {\n",
       "        vertical-align: top;\n",
       "    }\n",
       "\n",
       "    .dataframe thead th {\n",
       "        text-align: right;\n",
       "    }\n",
       "</style>\n",
       "<table border=\"1\" class=\"dataframe\">\n",
       "  <thead>\n",
       "    <tr style=\"text-align: right;\">\n",
       "      <th></th>\n",
       "      <th>show_id</th>\n",
       "      <th>type</th>\n",
       "      <th>title</th>\n",
       "      <th>director</th>\n",
       "      <th>cast</th>\n",
       "      <th>country</th>\n",
       "      <th>date_added</th>\n",
       "      <th>release_year</th>\n",
       "      <th>rating</th>\n",
       "      <th>duration</th>\n",
       "      <th>listed_in</th>\n",
       "      <th>description</th>\n",
       "      <th>minute</th>\n",
       "    </tr>\n",
       "  </thead>\n",
       "  <tbody>\n",
       "    <tr>\n",
       "      <th>0</th>\n",
       "      <td>s1</td>\n",
       "      <td>Movie</td>\n",
       "      <td>Dick Johnson Is Dead</td>\n",
       "      <td>Kirsten Johnson</td>\n",
       "      <td>NaN</td>\n",
       "      <td>United States</td>\n",
       "      <td>September 25, 2021</td>\n",
       "      <td>2020</td>\n",
       "      <td>PG-13</td>\n",
       "      <td>90 min</td>\n",
       "      <td>Documentaries</td>\n",
       "      <td>As her father nears the end of his life, filmm...</td>\n",
       "      <td>90</td>\n",
       "    </tr>\n",
       "    <tr>\n",
       "      <th>6</th>\n",
       "      <td>s7</td>\n",
       "      <td>Movie</td>\n",
       "      <td>My Little Pony: A New Generation</td>\n",
       "      <td>Robert Cullen, José Luis Ucha</td>\n",
       "      <td>Vanessa Hudgens, Kimiko Glenn, James Marsden, ...</td>\n",
       "      <td>NaN</td>\n",
       "      <td>September 24, 2021</td>\n",
       "      <td>2021</td>\n",
       "      <td>PG</td>\n",
       "      <td>91 min</td>\n",
       "      <td>Children &amp; Family Movies</td>\n",
       "      <td>Equestria's divided. But a bright-eyed hero be...</td>\n",
       "      <td>91</td>\n",
       "    </tr>\n",
       "    <tr>\n",
       "      <th>7</th>\n",
       "      <td>s8</td>\n",
       "      <td>Movie</td>\n",
       "      <td>Sankofa</td>\n",
       "      <td>Haile Gerima</td>\n",
       "      <td>Kofi Ghanaba, Oyafunmike Ogunlano, Alexandra D...</td>\n",
       "      <td>United States, Ghana, Burkina Faso, United Kin...</td>\n",
       "      <td>September 24, 2021</td>\n",
       "      <td>1993</td>\n",
       "      <td>TV-MA</td>\n",
       "      <td>125 min</td>\n",
       "      <td>Dramas, Independent Movies, International Movies</td>\n",
       "      <td>On a photo shoot in Ghana, an American model s...</td>\n",
       "      <td>125</td>\n",
       "    </tr>\n",
       "    <tr>\n",
       "      <th>9</th>\n",
       "      <td>s10</td>\n",
       "      <td>Movie</td>\n",
       "      <td>The Starling</td>\n",
       "      <td>Theodore Melfi</td>\n",
       "      <td>Melissa McCarthy, Chris O'Dowd, Kevin Kline, T...</td>\n",
       "      <td>United States</td>\n",
       "      <td>September 24, 2021</td>\n",
       "      <td>2021</td>\n",
       "      <td>PG-13</td>\n",
       "      <td>104 min</td>\n",
       "      <td>Comedies, Dramas</td>\n",
       "      <td>A woman adjusting to life after a loss contend...</td>\n",
       "      <td>104</td>\n",
       "    </tr>\n",
       "    <tr>\n",
       "      <th>12</th>\n",
       "      <td>s13</td>\n",
       "      <td>Movie</td>\n",
       "      <td>Je Suis Karl</td>\n",
       "      <td>Christian Schwochow</td>\n",
       "      <td>Luna Wedler, Jannis Niewöhner, Milan Peschel, ...</td>\n",
       "      <td>Germany, Czech Republic</td>\n",
       "      <td>September 23, 2021</td>\n",
       "      <td>2021</td>\n",
       "      <td>TV-MA</td>\n",
       "      <td>127 min</td>\n",
       "      <td>Dramas, International Movies</td>\n",
       "      <td>After most of her family is murdered in a terr...</td>\n",
       "      <td>127</td>\n",
       "    </tr>\n",
       "    <tr>\n",
       "      <th>...</th>\n",
       "      <td>...</td>\n",
       "      <td>...</td>\n",
       "      <td>...</td>\n",
       "      <td>...</td>\n",
       "      <td>...</td>\n",
       "      <td>...</td>\n",
       "      <td>...</td>\n",
       "      <td>...</td>\n",
       "      <td>...</td>\n",
       "      <td>...</td>\n",
       "      <td>...</td>\n",
       "      <td>...</td>\n",
       "      <td>...</td>\n",
       "    </tr>\n",
       "    <tr>\n",
       "      <th>8801</th>\n",
       "      <td>s8802</td>\n",
       "      <td>Movie</td>\n",
       "      <td>Zinzana</td>\n",
       "      <td>Majid Al Ansari</td>\n",
       "      <td>Ali Suliman, Saleh Bakri, Yasa, Ali Al-Jabri, ...</td>\n",
       "      <td>United Arab Emirates, Jordan</td>\n",
       "      <td>March 9, 2016</td>\n",
       "      <td>2015</td>\n",
       "      <td>TV-MA</td>\n",
       "      <td>96 min</td>\n",
       "      <td>Dramas, International Movies, Thrillers</td>\n",
       "      <td>Recovering alcoholic Talal wakes up inside a s...</td>\n",
       "      <td>96</td>\n",
       "    </tr>\n",
       "    <tr>\n",
       "      <th>8802</th>\n",
       "      <td>s8803</td>\n",
       "      <td>Movie</td>\n",
       "      <td>Zodiac</td>\n",
       "      <td>David Fincher</td>\n",
       "      <td>Mark Ruffalo, Jake Gyllenhaal, Robert Downey J...</td>\n",
       "      <td>United States</td>\n",
       "      <td>November 20, 2019</td>\n",
       "      <td>2007</td>\n",
       "      <td>R</td>\n",
       "      <td>158 min</td>\n",
       "      <td>Cult Movies, Dramas, Thrillers</td>\n",
       "      <td>A political cartoonist, a crime reporter and a...</td>\n",
       "      <td>158</td>\n",
       "    </tr>\n",
       "    <tr>\n",
       "      <th>8804</th>\n",
       "      <td>s8805</td>\n",
       "      <td>Movie</td>\n",
       "      <td>Zombieland</td>\n",
       "      <td>Ruben Fleischer</td>\n",
       "      <td>Jesse Eisenberg, Woody Harrelson, Emma Stone, ...</td>\n",
       "      <td>United States</td>\n",
       "      <td>November 1, 2019</td>\n",
       "      <td>2009</td>\n",
       "      <td>R</td>\n",
       "      <td>88 min</td>\n",
       "      <td>Comedies, Horror Movies</td>\n",
       "      <td>Looking to survive in a world taken over by zo...</td>\n",
       "      <td>88</td>\n",
       "    </tr>\n",
       "    <tr>\n",
       "      <th>8805</th>\n",
       "      <td>s8806</td>\n",
       "      <td>Movie</td>\n",
       "      <td>Zoom</td>\n",
       "      <td>Peter Hewitt</td>\n",
       "      <td>Tim Allen, Courteney Cox, Chevy Chase, Kate Ma...</td>\n",
       "      <td>United States</td>\n",
       "      <td>January 11, 2020</td>\n",
       "      <td>2006</td>\n",
       "      <td>PG</td>\n",
       "      <td>88 min</td>\n",
       "      <td>Children &amp; Family Movies, Comedies</td>\n",
       "      <td>Dragged from civilian life, a former superhero...</td>\n",
       "      <td>88</td>\n",
       "    </tr>\n",
       "    <tr>\n",
       "      <th>8806</th>\n",
       "      <td>s8807</td>\n",
       "      <td>Movie</td>\n",
       "      <td>Zubaan</td>\n",
       "      <td>Mozez Singh</td>\n",
       "      <td>Vicky Kaushal, Sarah-Jane Dias, Raaghav Chanan...</td>\n",
       "      <td>India</td>\n",
       "      <td>March 2, 2019</td>\n",
       "      <td>2015</td>\n",
       "      <td>TV-14</td>\n",
       "      <td>111 min</td>\n",
       "      <td>Dramas, International Movies, Music &amp; Musicals</td>\n",
       "      <td>A scrappy but poor boy worms his way into a ty...</td>\n",
       "      <td>111</td>\n",
       "    </tr>\n",
       "  </tbody>\n",
       "</table>\n",
       "<p>6131 rows × 13 columns</p>\n",
       "</div>"
      ],
      "text/plain": [
       "     show_id   type                             title  \\\n",
       "0         s1  Movie              Dick Johnson Is Dead   \n",
       "6         s7  Movie  My Little Pony: A New Generation   \n",
       "7         s8  Movie                           Sankofa   \n",
       "9        s10  Movie                      The Starling   \n",
       "12       s13  Movie                      Je Suis Karl   \n",
       "...      ...    ...                               ...   \n",
       "8801   s8802  Movie                           Zinzana   \n",
       "8802   s8803  Movie                            Zodiac   \n",
       "8804   s8805  Movie                        Zombieland   \n",
       "8805   s8806  Movie                              Zoom   \n",
       "8806   s8807  Movie                            Zubaan   \n",
       "\n",
       "                           director  \\\n",
       "0                   Kirsten Johnson   \n",
       "6     Robert Cullen, José Luis Ucha   \n",
       "7                      Haile Gerima   \n",
       "9                    Theodore Melfi   \n",
       "12              Christian Schwochow   \n",
       "...                             ...   \n",
       "8801                Majid Al Ansari   \n",
       "8802                  David Fincher   \n",
       "8804                Ruben Fleischer   \n",
       "8805                   Peter Hewitt   \n",
       "8806                    Mozez Singh   \n",
       "\n",
       "                                                   cast  \\\n",
       "0                                                   NaN   \n",
       "6     Vanessa Hudgens, Kimiko Glenn, James Marsden, ...   \n",
       "7     Kofi Ghanaba, Oyafunmike Ogunlano, Alexandra D...   \n",
       "9     Melissa McCarthy, Chris O'Dowd, Kevin Kline, T...   \n",
       "12    Luna Wedler, Jannis Niewöhner, Milan Peschel, ...   \n",
       "...                                                 ...   \n",
       "8801  Ali Suliman, Saleh Bakri, Yasa, Ali Al-Jabri, ...   \n",
       "8802  Mark Ruffalo, Jake Gyllenhaal, Robert Downey J...   \n",
       "8804  Jesse Eisenberg, Woody Harrelson, Emma Stone, ...   \n",
       "8805  Tim Allen, Courteney Cox, Chevy Chase, Kate Ma...   \n",
       "8806  Vicky Kaushal, Sarah-Jane Dias, Raaghav Chanan...   \n",
       "\n",
       "                                                country          date_added  \\\n",
       "0                                         United States  September 25, 2021   \n",
       "6                                                   NaN  September 24, 2021   \n",
       "7     United States, Ghana, Burkina Faso, United Kin...  September 24, 2021   \n",
       "9                                         United States  September 24, 2021   \n",
       "12                              Germany, Czech Republic  September 23, 2021   \n",
       "...                                                 ...                 ...   \n",
       "8801                       United Arab Emirates, Jordan       March 9, 2016   \n",
       "8802                                      United States   November 20, 2019   \n",
       "8804                                      United States    November 1, 2019   \n",
       "8805                                      United States    January 11, 2020   \n",
       "8806                                              India       March 2, 2019   \n",
       "\n",
       "      release_year rating duration  \\\n",
       "0             2020  PG-13   90 min   \n",
       "6             2021     PG   91 min   \n",
       "7             1993  TV-MA  125 min   \n",
       "9             2021  PG-13  104 min   \n",
       "12            2021  TV-MA  127 min   \n",
       "...            ...    ...      ...   \n",
       "8801          2015  TV-MA   96 min   \n",
       "8802          2007      R  158 min   \n",
       "8804          2009      R   88 min   \n",
       "8805          2006     PG   88 min   \n",
       "8806          2015  TV-14  111 min   \n",
       "\n",
       "                                             listed_in  \\\n",
       "0                                        Documentaries   \n",
       "6                             Children & Family Movies   \n",
       "7     Dramas, Independent Movies, International Movies   \n",
       "9                                     Comedies, Dramas   \n",
       "12                        Dramas, International Movies   \n",
       "...                                                ...   \n",
       "8801           Dramas, International Movies, Thrillers   \n",
       "8802                    Cult Movies, Dramas, Thrillers   \n",
       "8804                           Comedies, Horror Movies   \n",
       "8805                Children & Family Movies, Comedies   \n",
       "8806    Dramas, International Movies, Music & Musicals   \n",
       "\n",
       "                                            description  minute  \n",
       "0     As her father nears the end of his life, filmm...      90  \n",
       "6     Equestria's divided. But a bright-eyed hero be...      91  \n",
       "7     On a photo shoot in Ghana, an American model s...     125  \n",
       "9     A woman adjusting to life after a loss contend...     104  \n",
       "12    After most of her family is murdered in a terr...     127  \n",
       "...                                                 ...     ...  \n",
       "8801  Recovering alcoholic Talal wakes up inside a s...      96  \n",
       "8802  A political cartoonist, a crime reporter and a...     158  \n",
       "8804  Looking to survive in a world taken over by zo...      88  \n",
       "8805  Dragged from civilian life, a former superhero...      88  \n",
       "8806  A scrappy but poor boy worms his way into a ty...     111  \n",
       "\n",
       "[6131 rows x 13 columns]"
      ]
     },
     "execution_count": 104,
     "metadata": {},
     "output_type": "execute_result"
    }
   ],
   "source": [
    "# change the case of text with the str attribute\n",
    "df_movie['title'].str.lower()\n",
    "df_movie['title'].str.upper()\n",
    "df_movie['title'].str.title()\n",
    "\n",
    "# update values\n",
    "df_movie['title'] = df_movie['title'].str.upper()\n",
    "\n",
    "# change the case of text with the apply method\n",
    "df_movie['title'] = df_movie['title'].apply(lambda x: x.title())\n",
    "df_movie"
   ]
  },
  {
   "cell_type": "markdown",
   "metadata": {},
   "source": [
    "## Remove blank spaces with strip(), lstrip(), and rstrip()"
   ]
  },
  {
   "cell_type": "code",
   "execution_count": null,
   "metadata": {},
   "outputs": [
    {
     "data": {
      "text/plain": [
       "'Titanic'"
      ]
     },
     "execution_count": 108,
     "metadata": {},
     "output_type": "execute_result"
    }
   ],
   "source": [
    "# how the strip method workds\n",
    "movie_title = ' Titanic     '\n",
    "\n",
    "# trim leading space with lstrip()\n",
    "movie_title.lstrip(' ')\n",
    "# trim trailing space with rstrip()\n",
    "movie_title.rstrip(' ')\n",
    "# trim leading and trailing space with strip()\n",
    "movie_title.strip(' ')"
   ]
  },
  {
   "cell_type": "code",
   "execution_count": 112,
   "metadata": {},
   "outputs": [
    {
     "name": "stderr",
     "output_type": "stream",
     "text": [
      "/var/folders/np/cb3_4g1x2ms55b1kf0dx82q40000gn/T/ipykernel_78363/2068221852.py:2: SettingWithCopyWarning: \n",
      "A value is trying to be set on a copy of a slice from a DataFrame.\n",
      "Try using .loc[row_indexer,col_indexer] = value instead\n",
      "\n",
      "See the caveats in the documentation: https://pandas.pydata.org/pandas-docs/stable/user_guide/indexing.html#returning-a-view-versus-a-copy\n",
      "  df_movie['title'] = df_movie['title'].str.strip()\n"
     ]
    },
    {
     "data": {
      "application/vnd.microsoft.datawrangler.viewer.v0+json": {
       "columns": [
        {
         "name": "index",
         "rawType": "int64",
         "type": "integer"
        },
        {
         "name": "title",
         "rawType": "object",
         "type": "string"
        }
       ],
       "ref": "188783ee-59a4-479e-aba3-488b4ed8b90c",
       "rows": [
        [
         "0",
         "Dick Johnson Is Dead"
        ],
        [
         "6",
         "My Little Pony: A New Generation"
        ],
        [
         "7",
         "Sankofa"
        ],
        [
         "9",
         "The Starling"
        ],
        [
         "12",
         "Je Suis Karl"
        ],
        [
         "13",
         "Confessions Of An Invisible Girl"
        ],
        [
         "16",
         "Europe'S Most Dangerous Man: Otto Skorzeny In Spain"
        ],
        [
         "18",
         "Intrusion"
        ],
        [
         "22",
         "Avvai Shanmughi"
        ],
        [
         "23",
         "Go! Go! Cory Carson: Chrissy Takes The Wheel"
        ],
        [
         "24",
         "Jeans"
        ],
        [
         "26",
         "Minsara Kanavu"
        ],
        [
         "27",
         "Grown Ups"
        ],
        [
         "28",
         "Dark Skies"
        ],
        [
         "29",
         "Paranoia"
        ],
        [
         "30",
         "Ankahi Kahaniya"
        ],
        [
         "35",
         "The Father Who Moves Mountains"
        ],
        [
         "36",
         "The Stronghold"
        ],
        [
         "38",
         "Birth Of The Dragon"
        ],
        [
         "41",
         "Jaws"
        ],
        [
         "42",
         "Jaws 2"
        ],
        [
         "43",
         "Jaws 3"
        ],
        [
         "44",
         "Jaws: The Revenge"
        ],
        [
         "45",
         "My Heroes Were Cowboys"
        ],
        [
         "46",
         "Safe House"
        ],
        [
         "48",
         "Training Day"
        ],
        [
         "51",
         "Inuyasha The Movie 2: The Castle Beyond The Looking Glass"
        ],
        [
         "52",
         "Inuyasha The Movie 3: Swords Of An Honorable Ruler"
        ],
        [
         "53",
         "Inuyasha The Movie 4: Fire On The Mystic Island"
        ],
        [
         "54",
         "Inuyasha The Movie: Affections Touching Across Time"
        ],
        [
         "56",
         "Naruto Shippuden The Movie: Blood Prison"
        ],
        [
         "57",
         "Naruto Shippûden The Movie: Bonds"
        ],
        [
         "58",
         "Naruto Shippûden The Movie: The Will Of Fire"
        ],
        [
         "59",
         "Naruto Shippuden: The Movie"
        ],
        [
         "60",
         "Naruto Shippuden: The Movie: The Lost Tower"
        ],
        [
         "61",
         "Naruto The Movie 2: Legend Of The Stone Of Gelel"
        ],
        [
         "62",
         "Naruto The Movie 3: Guardians Of The Crescent Moon Kingdom"
        ],
        [
         "63",
         "Naruto The Movie: Ninja Clash In The Land Of Snow"
        ],
        [
         "64",
         "Nightbooks"
        ],
        [
         "68",
         "Schumacher"
        ],
        [
         "71",
         "A Storybots Space Adventure"
        ],
        [
         "73",
         "King Of Boys"
        ],
        [
         "75",
         "You Vs. Wild: Out Cold"
        ],
        [
         "77",
         "Little Singham - Black Shadow"
        ],
        [
         "78",
         "Tughlaq Durbar"
        ],
        [
         "79",
         "Tughlaq Durbar (Telugu)"
        ],
        [
         "80",
         "Firedrake The Silver Dragon"
        ],
        [
         "81",
         "Kate"
        ],
        [
         "84",
         "Omo Ghetto: The Saga"
        ],
        [
         "86",
         "Prey"
        ]
       ],
       "shape": {
        "columns": 1,
        "rows": 6131
       }
      },
      "text/plain": [
       "0                   Dick Johnson Is Dead\n",
       "6       My Little Pony: A New Generation\n",
       "7                                Sankofa\n",
       "9                           The Starling\n",
       "12                          Je Suis Karl\n",
       "                      ...               \n",
       "8801                             Zinzana\n",
       "8802                              Zodiac\n",
       "8804                          Zombieland\n",
       "8805                                Zoom\n",
       "8806                              Zubaan\n",
       "Name: title, Length: 6131, dtype: object"
      ]
     },
     "execution_count": 112,
     "metadata": {},
     "output_type": "execute_result"
    }
   ],
   "source": [
    "# get rid of leading and trailing white spaces with the strip() method\n",
    "df_movie['title'] = df_movie['title'].str.strip()\n",
    "\n",
    "# get rid of leading and trailing white spaces with the apply method\n",
    "df_movie['title'].apply(lambda x : x.strip())"
   ]
  },
  {
   "cell_type": "markdown",
   "metadata": {},
   "source": [
    "## Replace strings with replace() or sub()"
   ]
  },
  {
   "cell_type": "code",
   "execution_count": null,
   "metadata": {},
   "outputs": [
    {
     "data": {
      "application/vnd.microsoft.datawrangler.viewer.v0+json": {
       "columns": [
        {
         "name": "index",
         "rawType": "int64",
         "type": "integer"
        },
        {
         "name": "title",
         "rawType": "object",
         "type": "string"
        }
       ],
       "ref": "1cae2bac-6075-4e7d-9287-a444c11baed5",
       "rows": [
        [
         "0",
         "Dick Johnson Is Dead"
        ],
        [
         "6",
         "My Little Pony A New Generation"
        ],
        [
         "7",
         "Sankofa"
        ],
        [
         "9",
         "The Starling"
        ],
        [
         "12",
         "Je Suis Karl"
        ],
        [
         "13",
         "Confessions Of An Invisible Girl"
        ],
        [
         "16",
         "EuropeS Most Dangerous Man Otto Skorzeny In Spain"
        ],
        [
         "18",
         "Intrusion"
        ],
        [
         "22",
         "Avvai Shanmughi"
        ],
        [
         "23",
         "Go Go Cory Carson Chrissy Takes The Wheel"
        ],
        [
         "24",
         "Jeans"
        ],
        [
         "26",
         "Minsara Kanavu"
        ],
        [
         "27",
         "Grown Ups"
        ],
        [
         "28",
         "Dark Skies"
        ],
        [
         "29",
         "Paranoia"
        ],
        [
         "30",
         "Ankahi Kahaniya"
        ],
        [
         "35",
         "The Father Who Moves Mountains"
        ],
        [
         "36",
         "The Stronghold"
        ],
        [
         "38",
         "Birth Of The Dragon"
        ],
        [
         "41",
         "Jaws"
        ],
        [
         "42",
         "Jaws 2"
        ],
        [
         "43",
         "Jaws 3"
        ],
        [
         "44",
         "Jaws The Revenge"
        ],
        [
         "45",
         "My Heroes Were Cowboys"
        ],
        [
         "46",
         "Safe House"
        ],
        [
         "48",
         "Training Day"
        ],
        [
         "51",
         "Inuyasha The Movie 2 The Castle Beyond The Looking Glass"
        ],
        [
         "52",
         "Inuyasha The Movie 3 Swords Of An Honorable Ruler"
        ],
        [
         "53",
         "Inuyasha The Movie 4 Fire On The Mystic Island"
        ],
        [
         "54",
         "Inuyasha The Movie Affections Touching Across Time"
        ],
        [
         "56",
         "Naruto Shippuden The Movie Blood Prison"
        ],
        [
         "57",
         "Naruto Shippûden The Movie Bonds"
        ],
        [
         "58",
         "Naruto Shippûden The Movie The Will Of Fire"
        ],
        [
         "59",
         "Naruto Shippuden The Movie"
        ],
        [
         "60",
         "Naruto Shippuden The Movie The Lost Tower"
        ],
        [
         "61",
         "Naruto The Movie 2 Legend Of The Stone Of Gelel"
        ],
        [
         "62",
         "Naruto The Movie 3 Guardians Of The Crescent Moon Kingdom"
        ],
        [
         "63",
         "Naruto The Movie Ninja Clash In The Land Of Snow"
        ],
        [
         "64",
         "Nightbooks"
        ],
        [
         "68",
         "Schumacher"
        ],
        [
         "71",
         "A Storybots Space Adventure"
        ],
        [
         "73",
         "King Of Boys"
        ],
        [
         "75",
         "You Vs Wild Out Cold"
        ],
        [
         "77",
         "Little Singham  Black Shadow"
        ],
        [
         "78",
         "Tughlaq Durbar"
        ],
        [
         "79",
         "Tughlaq Durbar Telugu"
        ],
        [
         "80",
         "Firedrake The Silver Dragon"
        ],
        [
         "81",
         "Kate"
        ],
        [
         "84",
         "Omo Ghetto The Saga"
        ],
        [
         "86",
         "Prey"
        ]
       ],
       "shape": {
        "columns": 1,
        "rows": 6131
       }
      },
      "text/plain": [
       "0                  Dick Johnson Is Dead\n",
       "6       My Little Pony A New Generation\n",
       "7                               Sankofa\n",
       "9                          The Starling\n",
       "12                         Je Suis Karl\n",
       "                     ...               \n",
       "8801                            Zinzana\n",
       "8802                             Zodiac\n",
       "8804                         Zombieland\n",
       "8805                               Zoom\n",
       "8806                             Zubaan\n",
       "Name: title, Length: 6131, dtype: object"
      ]
     },
     "execution_count": 123,
     "metadata": {},
     "output_type": "execute_result"
    }
   ],
   "source": [
    "# remove punctuation signs with the str.replace() method and regex\n",
    "df_movie['title'].str.replace('[^\\w\\s]', '', regex=True)\n",
    "\n",
    "# remove punctuation signs with the replace() method and regex\n",
    "df_movie['title'].replace('[^\\w\\s]', '', regex=True)\n",
    "\n",
    "# difference between str.replace() and replace()\n",
    "# str.replace(): perform string or regex substitution on string data.\n",
    "# replace():  can replace any type of data\n",
    "\n",
    "# df_movie['title'].replace(1, 2, regex=True)\n",
    "# df_movie['title'].str.replace(1, 2, regex=True)\n",
    "\n",
    "# remove punctuation signs with the re.sub() function via the apply method\n",
    "import re\n",
    "df_movie['title'].apply(lambda x: re.sub('[^\\w\\s]', '', x))"
   ]
  }
 ],
 "metadata": {
  "kernelspec": {
   "display_name": ".venv",
   "language": "python",
   "name": "python3"
  },
  "language_info": {
   "codemirror_mode": {
    "name": "ipython",
    "version": 3
   },
   "file_extension": ".py",
   "mimetype": "text/x-python",
   "name": "python",
   "nbconvert_exporter": "python",
   "pygments_lexer": "ipython3",
   "version": "3.10.8"
  },
  "toc": {
   "base_numbering": 1,
   "nav_menu": {},
   "number_sections": true,
   "sideBar": true,
   "skip_h1_title": false,
   "title_cell": "Table of Contents",
   "title_sidebar": "Contents",
   "toc_cell": false,
   "toc_position": {},
   "toc_section_display": true,
   "toc_window_display": false
  }
 },
 "nbformat": 4,
 "nbformat_minor": 4
}
