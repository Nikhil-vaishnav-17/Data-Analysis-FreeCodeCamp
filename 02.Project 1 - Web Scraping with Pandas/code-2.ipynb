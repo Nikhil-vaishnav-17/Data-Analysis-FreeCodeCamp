{
 "cells": [
  {
   "cell_type": "code",
   "execution_count": 1,
   "id": "1482f6c9",
   "metadata": {},
   "outputs": [],
   "source": [
    "import pandas as pd\n",
    "import requests\n",
    "from io import StringIO"
   ]
  },
  {
   "cell_type": "markdown",
   "id": "e879d30e",
   "metadata": {},
   "source": [
    "# 2 Read .csv from Multiple URLs with Pandas"
   ]
  },
  {
   "cell_type": "markdown",
   "id": "b24d6741",
   "metadata": {},
   "source": [
    "- https://www.football-data.co.uk/mmz4281/2122/E0.csv\n",
    "- https://www.football-data.co.uk/mmz4281/2122/E1.csv"
   ]
  },
  {
   "cell_type": "markdown",
   "id": "a8f886ba",
   "metadata": {},
   "source": [
    "**Link: root + season + league**"
   ]
  },
  {
   "cell_type": "code",
   "execution_count": 2,
   "id": "56f028a6",
   "metadata": {},
   "outputs": [
    {
     "data": {
      "text/plain": [
       "'https://www.football-data.co.uk/mmz4281/2122/E0.csv'"
      ]
     },
     "execution_count": 2,
     "metadata": {},
     "output_type": "execute_result"
    }
   ],
   "source": [
    "# link structure\n",
    "'https://www.football-data.co.uk/mmz4281/'+ '2122' + '/' + 'E0' + '.csv'"
   ]
  },
  {
   "cell_type": "code",
   "execution_count": 3,
   "id": "42efe6b8",
   "metadata": {},
   "outputs": [],
   "source": [
    "# create a root variable\n",
    "root = 'https://www.football-data.co.uk/mmz4281/'"
   ]
  },
  {
   "cell_type": "markdown",
   "id": "dcae2487",
   "metadata": {},
   "source": [
    "## 2.1 Multiple leagues"
   ]
  },
  {
   "cell_type": "markdown",
   "id": "0f880234",
   "metadata": {},
   "source": [
    "- https://www.football-data.co.uk/mmz4281/2122/E0.csv\n",
    "- https://www.football-data.co.uk/mmz4281/2122/E1.csv\n",
    "- https://www.football-data.co.uk/mmz4281/2122/E2.csv\n",
    "- https://www.football-data.co.uk/mmz4281/2122/E3.csv\n",
    "- https://www.football-data.co.uk/mmz4281/2122/EC.csv"
   ]
  },
  {
   "cell_type": "code",
   "execution_count": 5,
   "id": "c1ed4018",
   "metadata": {},
   "outputs": [],
   "source": [
    "# creating list of leagues\n",
    "leagues = ['E0', 'E1', 'E2', 'E3', 'EC']\n",
    "frames = []\n",
    "# looping through the leagues, read multiple csv and append it into a list\n",
    "for league in leagues:\n",
    "    url = root + '2122/' + league + '.csv'\n",
    "    response = requests.get(url)\n",
    "    df = pd.read_csv(StringIO(response.text))\n",
    "    \n",
    "    frames.append(df)\n"
   ]
  },
  {
   "cell_type": "code",
   "execution_count": 7,
   "id": "f45870a3",
   "metadata": {},
   "outputs": [
    {
     "data": {
      "text/plain": [
       "5"
      ]
     },
     "execution_count": 7,
     "metadata": {},
     "output_type": "execute_result"
    }
   ],
   "source": [
    "# length of frames\n",
    "len(frames)"
   ]
  },
  {
   "cell_type": "code",
   "execution_count": 8,
   "id": "d2dddd99",
   "metadata": {},
   "outputs": [
    {
     "data": {
      "text/plain": [
       "(  Div        Date   Time    HomeTeam        AwayTeam  FTHG  FTAG FTR  HTHG  \\\n",
       " 0  E0  13/08/2021  20:00   Brentford         Arsenal     2     0   H     1   \n",
       " 1  E0  14/08/2021  12:30  Man United           Leeds     5     1   H     1   \n",
       " 2  E0  14/08/2021  15:00     Burnley        Brighton     1     2   A     1   \n",
       " 3  E0  14/08/2021  15:00     Chelsea  Crystal Palace     3     0   H     2   \n",
       " 4  E0  14/08/2021  15:00     Everton     Southampton     3     1   H     0   \n",
       " \n",
       "    HTAG  ... AvgC<2.5  AHCh  B365CAHH  B365CAHA  PCAHH  PCAHA  MaxCAHH  \\\n",
       " 0     0  ...     1.62  0.50      1.75      2.05   1.81   2.13     2.05   \n",
       " 1     0  ...     2.25 -1.00      2.05      1.75   2.17   1.77     2.19   \n",
       " 2     0  ...     1.62  0.25      1.79      2.15   1.81   2.14     1.82   \n",
       " 3     0  ...     1.94 -1.50      2.05      1.75   2.12   1.81     2.16   \n",
       " 4     1  ...     1.67 -0.50      2.05      1.88   2.05   1.88     2.08   \n",
       " \n",
       "    MaxCAHA  AvgCAHH  AvgCAHA  \n",
       " 0     2.17     1.80     2.09  \n",
       " 1     1.93     2.10     1.79  \n",
       " 2     2.19     1.79     2.12  \n",
       " 3     1.93     2.06     1.82  \n",
       " 4     1.90     2.03     1.86  \n",
       " \n",
       " [5 rows x 106 columns],\n",
       "   Div        Date   Time      HomeTeam      AwayTeam  FTHG  FTAG FTR  HTHG  \\\n",
       " 0  E1  06/08/2021  19:45   Bournemouth     West Brom     2     2   D     1   \n",
       " 1  E1  07/08/2021  15:00     Blackburn       Swansea     2     1   H     1   \n",
       " 2  E1  07/08/2021  15:00  Bristol City     Blackpool     1     1   D     1   \n",
       " 3  E1  07/08/2021  15:00       Cardiff      Barnsley     1     1   D     0   \n",
       " 4  E1  07/08/2021  15:00         Derby  Huddersfield     1     1   D     1   \n",
       " \n",
       "    HTAG  ... AvgC<2.5  AHCh  B365CAHH  B365CAHA  PCAHH  PCAHA  MaxCAHH  \\\n",
       " 0     1  ...     1.84 -0.25      2.13      1.78   2.13   1.80     2.16   \n",
       " 1     0  ...     1.70 -0.25      1.77      2.14   1.83   2.09     1.87   \n",
       " 2     0  ...     1.66 -0.25      1.90      2.00   1.92   1.99     1.92   \n",
       " 3     0  ...     1.62 -0.25      2.05      1.75   2.14   1.80     2.19   \n",
       " 4     1  ...     1.60 -0.25      1.88      2.02   1.88   2.01     1.90   \n",
       " \n",
       "    MaxCAHA  AvgCAHH  AvgCAHA  \n",
       " 0     1.83     2.09     1.77  \n",
       " 1     2.17     1.81     2.04  \n",
       " 2     2.01     1.89     1.95  \n",
       " 3     1.80     2.11     1.75  \n",
       " 4     2.07     1.87     1.98  \n",
       " \n",
       " [5 rows x 106 columns],\n",
       "   Div        Date   Time        HomeTeam            AwayTeam  FTHG  FTAG FTR  \\\n",
       " 0  E2  07/08/2021  15:00          Bolton  Milton Keynes Dons     3     3   D   \n",
       " 1  E2  07/08/2021  15:00       Cambridge              Oxford     1     1   D   \n",
       " 2  E2  07/08/2021  15:00           Crewe          Cheltenham     1     1   D   \n",
       " 3  E2  07/08/2021  15:00       Doncaster       AFC Wimbledon     1     2   A   \n",
       " 4  E2  07/08/2021  15:00  Fleetwood Town          Portsmouth     0     1   A   \n",
       " \n",
       "    HTHG  HTAG  ... AvgC<2.5  AHCh  B365CAHH  B365CAHA  PCAHH  PCAHA  MaxCAHH  \\\n",
       " 0     1     1  ...     1.97 -0.25      1.90      1.95   1.91   1.97     1.99   \n",
       " 1     0     1  ...     1.86  0.25      2.08      1.73   2.12   1.78     2.12   \n",
       " 2     1     1  ...     1.69 -0.25      2.00      1.85   1.99   1.90     2.04   \n",
       " 3     0     0  ...     1.88 -0.25      2.10      1.77   2.11   1.80     2.12   \n",
       " 4     0     0  ...     1.60  0.00      2.05      1.80   2.09   1.82     2.13   \n",
       " \n",
       "    MaxCAHA  AvgCAHH  AvgCAHA  \n",
       " 0     2.01     1.90     1.92  \n",
       " 1     1.82     2.06     1.77  \n",
       " 2     1.95     1.96     1.87  \n",
       " 3     1.82     2.07     1.77  \n",
       " 4     1.86     2.07     1.78  \n",
       " \n",
       " [5 rows x 106 columns])"
      ]
     },
     "execution_count": 8,
     "metadata": {},
     "output_type": "execute_result"
    }
   ],
   "source": [
    "# show 1st, 2nd and 3rd element\n",
    "frames[0].head(), frames[1].head(), frames[2].head()"
   ]
  },
  {
   "cell_type": "markdown",
   "id": "97428760",
   "metadata": {},
   "source": [
    "## 2.2 Multiple Seasons"
   ]
  },
  {
   "cell_type": "code",
   "execution_count": 9,
   "id": "4594b0ab",
   "metadata": {},
   "outputs": [],
   "source": [
    "# creating list of leagues\n",
    "leagues = ['E0', 'E2', 'E3']\n",
    "frames = []\n",
    "# looping through the leagues, read multiple csv and append it into a list\n",
    "for league in leagues:\n",
    "    for season in range(15,21):\n",
    "        # create the url\n",
    "        url = root + str(season) + str(season + 1) + '/' + league + '.csv'\n",
    "        response = requests.get(url)\n",
    "        df = pd.read_csv(StringIO(response.text))\n",
    "        df.insert(1, 'Season', season)\n",
    "        frames.append(df)\n"
   ]
  },
  {
   "cell_type": "code",
   "execution_count": null,
   "id": "c0bfe54d",
   "metadata": {},
   "outputs": [
    {
     "data": {
      "text/plain": [
       "18"
      ]
     },
     "execution_count": 10,
     "metadata": {},
     "output_type": "execute_result"
    }
   ],
   "source": [
    "# total seasons (3 league * 6 seasons)\n",
    "len(frames)"
   ]
  },
  {
   "cell_type": "code",
   "execution_count": 14,
   "id": "f2c19b11",
   "metadata": {},
   "outputs": [
    {
     "data": {
      "text/html": [
       "<div>\n",
       "<style scoped>\n",
       "    .dataframe tbody tr th:only-of-type {\n",
       "        vertical-align: middle;\n",
       "    }\n",
       "\n",
       "    .dataframe tbody tr th {\n",
       "        vertical-align: top;\n",
       "    }\n",
       "\n",
       "    .dataframe thead th {\n",
       "        text-align: right;\n",
       "    }\n",
       "</style>\n",
       "<table border=\"1\" class=\"dataframe\">\n",
       "  <thead>\n",
       "    <tr style=\"text-align: right;\">\n",
       "      <th></th>\n",
       "      <th>Div</th>\n",
       "      <th>Season</th>\n",
       "      <th>Date</th>\n",
       "      <th>HomeTeam</th>\n",
       "      <th>AwayTeam</th>\n",
       "      <th>FTHG</th>\n",
       "      <th>FTAG</th>\n",
       "      <th>FTR</th>\n",
       "      <th>HTHG</th>\n",
       "      <th>HTAG</th>\n",
       "      <th>...</th>\n",
       "      <th>BbAv&lt;2.5</th>\n",
       "      <th>BbAH</th>\n",
       "      <th>BbAHh</th>\n",
       "      <th>BbMxAHH</th>\n",
       "      <th>BbAvAHH</th>\n",
       "      <th>BbMxAHA</th>\n",
       "      <th>BbAvAHA</th>\n",
       "      <th>PSCH</th>\n",
       "      <th>PSCD</th>\n",
       "      <th>PSCA</th>\n",
       "    </tr>\n",
       "  </thead>\n",
       "  <tbody>\n",
       "    <tr>\n",
       "      <th>0</th>\n",
       "      <td>E0</td>\n",
       "      <td>15</td>\n",
       "      <td>08/08/2015</td>\n",
       "      <td>Bournemouth</td>\n",
       "      <td>Aston Villa</td>\n",
       "      <td>0</td>\n",
       "      <td>1</td>\n",
       "      <td>A</td>\n",
       "      <td>0</td>\n",
       "      <td>0</td>\n",
       "      <td>...</td>\n",
       "      <td>1.79</td>\n",
       "      <td>26</td>\n",
       "      <td>-0.5</td>\n",
       "      <td>1.98</td>\n",
       "      <td>1.93</td>\n",
       "      <td>1.99</td>\n",
       "      <td>1.92</td>\n",
       "      <td>1.82</td>\n",
       "      <td>3.88</td>\n",
       "      <td>4.70</td>\n",
       "    </tr>\n",
       "    <tr>\n",
       "      <th>1</th>\n",
       "      <td>E0</td>\n",
       "      <td>15</td>\n",
       "      <td>08/08/2015</td>\n",
       "      <td>Chelsea</td>\n",
       "      <td>Swansea</td>\n",
       "      <td>2</td>\n",
       "      <td>2</td>\n",
       "      <td>D</td>\n",
       "      <td>2</td>\n",
       "      <td>1</td>\n",
       "      <td>...</td>\n",
       "      <td>1.99</td>\n",
       "      <td>27</td>\n",
       "      <td>-1.5</td>\n",
       "      <td>2.24</td>\n",
       "      <td>2.16</td>\n",
       "      <td>1.80</td>\n",
       "      <td>1.73</td>\n",
       "      <td>1.37</td>\n",
       "      <td>5.04</td>\n",
       "      <td>10.88</td>\n",
       "    </tr>\n",
       "    <tr>\n",
       "      <th>2</th>\n",
       "      <td>E0</td>\n",
       "      <td>15</td>\n",
       "      <td>08/08/2015</td>\n",
       "      <td>Everton</td>\n",
       "      <td>Watford</td>\n",
       "      <td>2</td>\n",
       "      <td>2</td>\n",
       "      <td>D</td>\n",
       "      <td>0</td>\n",
       "      <td>1</td>\n",
       "      <td>...</td>\n",
       "      <td>1.96</td>\n",
       "      <td>26</td>\n",
       "      <td>-1.0</td>\n",
       "      <td>2.28</td>\n",
       "      <td>2.18</td>\n",
       "      <td>1.76</td>\n",
       "      <td>1.71</td>\n",
       "      <td>1.75</td>\n",
       "      <td>3.76</td>\n",
       "      <td>5.44</td>\n",
       "    </tr>\n",
       "    <tr>\n",
       "      <th>3</th>\n",
       "      <td>E0</td>\n",
       "      <td>15</td>\n",
       "      <td>08/08/2015</td>\n",
       "      <td>Leicester</td>\n",
       "      <td>Sunderland</td>\n",
       "      <td>4</td>\n",
       "      <td>2</td>\n",
       "      <td>H</td>\n",
       "      <td>3</td>\n",
       "      <td>0</td>\n",
       "      <td>...</td>\n",
       "      <td>1.67</td>\n",
       "      <td>26</td>\n",
       "      <td>-0.5</td>\n",
       "      <td>2.00</td>\n",
       "      <td>1.95</td>\n",
       "      <td>1.96</td>\n",
       "      <td>1.90</td>\n",
       "      <td>1.79</td>\n",
       "      <td>3.74</td>\n",
       "      <td>5.10</td>\n",
       "    </tr>\n",
       "    <tr>\n",
       "      <th>4</th>\n",
       "      <td>E0</td>\n",
       "      <td>15</td>\n",
       "      <td>08/08/2015</td>\n",
       "      <td>Man United</td>\n",
       "      <td>Tottenham</td>\n",
       "      <td>1</td>\n",
       "      <td>0</td>\n",
       "      <td>H</td>\n",
       "      <td>1</td>\n",
       "      <td>0</td>\n",
       "      <td>...</td>\n",
       "      <td>2.01</td>\n",
       "      <td>26</td>\n",
       "      <td>-1.0</td>\n",
       "      <td>2.20</td>\n",
       "      <td>2.09</td>\n",
       "      <td>1.82</td>\n",
       "      <td>1.78</td>\n",
       "      <td>1.64</td>\n",
       "      <td>4.07</td>\n",
       "      <td>6.04</td>\n",
       "    </tr>\n",
       "  </tbody>\n",
       "</table>\n",
       "<p>5 rows × 66 columns</p>\n",
       "</div>"
      ],
      "text/plain": [
       "  Div  Season        Date     HomeTeam     AwayTeam  FTHG  FTAG FTR  HTHG  \\\n",
       "0  E0      15  08/08/2015  Bournemouth  Aston Villa     0     1   A     0   \n",
       "1  E0      15  08/08/2015      Chelsea      Swansea     2     2   D     2   \n",
       "2  E0      15  08/08/2015      Everton      Watford     2     2   D     0   \n",
       "3  E0      15  08/08/2015    Leicester   Sunderland     4     2   H     3   \n",
       "4  E0      15  08/08/2015   Man United    Tottenham     1     0   H     1   \n",
       "\n",
       "   HTAG  ... BbAv<2.5 BbAH  BbAHh  BbMxAHH  BbAvAHH  BbMxAHA  BbAvAHA  PSCH  \\\n",
       "0     0  ...     1.79   26   -0.5     1.98     1.93     1.99     1.92  1.82   \n",
       "1     1  ...     1.99   27   -1.5     2.24     2.16     1.80     1.73  1.37   \n",
       "2     1  ...     1.96   26   -1.0     2.28     2.18     1.76     1.71  1.75   \n",
       "3     0  ...     1.67   26   -0.5     2.00     1.95     1.96     1.90  1.79   \n",
       "4     0  ...     2.01   26   -1.0     2.20     2.09     1.82     1.78  1.64   \n",
       "\n",
       "   PSCD   PSCA  \n",
       "0  3.88   4.70  \n",
       "1  5.04  10.88  \n",
       "2  3.76   5.44  \n",
       "3  3.74   5.10  \n",
       "4  4.07   6.04  \n",
       "\n",
       "[5 rows x 66 columns]"
      ]
     },
     "execution_count": 14,
     "metadata": {},
     "output_type": "execute_result"
    }
   ],
   "source": [
    "# showing the sample of the first frame\n",
    "frames[0].head()"
   ]
  }
 ],
 "metadata": {
  "kernelspec": {
   "display_name": ".venv",
   "language": "python",
   "name": "python3"
  },
  "language_info": {
   "codemirror_mode": {
    "name": "ipython",
    "version": 3
   },
   "file_extension": ".py",
   "mimetype": "text/x-python",
   "name": "python",
   "nbconvert_exporter": "python",
   "pygments_lexer": "ipython3",
   "version": "3.10.8"
  }
 },
 "nbformat": 4,
 "nbformat_minor": 5
}
