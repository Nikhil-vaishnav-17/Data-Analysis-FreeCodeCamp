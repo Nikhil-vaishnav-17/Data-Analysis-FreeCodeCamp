{
 "cells": [
  {
   "cell_type": "markdown",
   "id": "d17cce72",
   "metadata": {},
   "source": [
    "# Introduction to Pandas by FreeCodeCamp.org"
   ]
  },
  {
   "cell_type": "code",
   "execution_count": 1,
   "id": "27cb6373",
   "metadata": {},
   "outputs": [],
   "source": [
    "import pandas as pd\n",
    "import numpy as np"
   ]
  },
  {
   "cell_type": "markdown",
   "id": "74da3fab",
   "metadata": {},
   "source": [
    "# 1 Creating a dataframe from an array"
   ]
  },
  {
   "cell_type": "markdown",
   "id": "48020002",
   "metadata": {},
   "source": [
    "## 1.1 Option 1"
   ]
  },
  {
   "cell_type": "code",
   "execution_count": 2,
   "id": "52a992ce",
   "metadata": {},
   "outputs": [],
   "source": [
    "#creating a 2d array\n",
    "data = np.array([[1, 2, 3], [4, 5, 6], [7, 8, 9]])"
   ]
  },
  {
   "cell_type": "code",
   "execution_count": 3,
   "id": "05d962f6",
   "metadata": {},
   "outputs": [],
   "source": [
    "#creating a dataframe with the array\n",
    "df = pd.DataFrame(data, index=['row1', 'row2', 'row3'], columns=['col1', 'col2', 'col3'])"
   ]
  },
  {
   "cell_type": "code",
   "execution_count": 4,
   "id": "12cf781f",
   "metadata": {},
   "outputs": [
    {
     "name": "stdout",
     "output_type": "stream",
     "text": [
      "DataFrame:\n",
      "      col1  col2  col3\n",
      "row1     1     2     3\n",
      "row2     4     5     6\n",
      "row3     7     8     9\n"
     ]
    }
   ],
   "source": [
    "#Showing the dataframe\n",
    "print(\"DataFrame:\")\n",
    "print(df)"
   ]
  },
  {
   "cell_type": "markdown",
   "id": "35b1fa21",
   "metadata": {},
   "source": [
    "## 1.2 Option 2"
   ]
  },
  {
   "cell_type": "code",
   "execution_count": 5,
   "id": "b0f6341e",
   "metadata": {},
   "outputs": [],
   "source": [
    "#Creating an array with list shape\n",
    "data = [[1, 2, 3], [4, 5, 6], [7, 8, 9]]"
   ]
  },
  {
   "cell_type": "code",
   "execution_count": 6,
   "id": "9708802d",
   "metadata": {},
   "outputs": [],
   "source": [
    "#Creating a dataframe with the list\n",
    "df_list = pd.DataFrame(data, index=['row1', 'row2', 'row3'], columns=['col1', 'col2', 'col3'])"
   ]
  },
  {
   "cell_type": "code",
   "execution_count": 7,
   "id": "34b1bd25",
   "metadata": {},
   "outputs": [
    {
     "name": "stdout",
     "output_type": "stream",
     "text": [
      "DataFrame:\n",
      "      col1  col2  col3\n",
      "row1     1     2     3\n",
      "row2     4     5     6\n",
      "row3     7     8     9\n"
     ]
    }
   ],
   "source": [
    "#Showing the dataframe\n",
    "print(\"DataFrame:\")\n",
    "print(df)"
   ]
  },
  {
   "cell_type": "markdown",
   "id": "cdaeb317",
   "metadata": {},
   "source": [
    "# 2 Creating a dataframe with the dictionary"
   ]
  },
  {
   "cell_type": "code",
   "execution_count": 8,
   "id": "972d348c",
   "metadata": {},
   "outputs": [],
   "source": [
    "#Lists used for this example\n",
    "states = ['California', 'Texas', 'Florida', 'New York']\n",
    "population = [39538223, 29145505, 21538187, 20201249]"
   ]
  },
  {
   "cell_type": "code",
   "execution_count": 9,
   "id": "5b9edf67",
   "metadata": {},
   "outputs": [],
   "source": [
    "#Storing the lists in a dictionary\n",
    "data_states = {'State': states, 'Population': population}"
   ]
  },
  {
   "cell_type": "code",
   "execution_count": 10,
   "id": "9ca4cb8e",
   "metadata": {},
   "outputs": [],
   "source": [
    "#Creating the dataframe\n",
    "df_states = pd.DataFrame(data_states)"
   ]
  },
  {
   "cell_type": "code",
   "execution_count": 11,
   "id": "f57c0be2",
   "metadata": {},
   "outputs": [
    {
     "name": "stdout",
     "output_type": "stream",
     "text": [
      "DataFrame from lists:\n",
      "        State  Population\n",
      "0  California    39538223\n",
      "1       Texas    29145505\n",
      "2     Florida    21538187\n",
      "3    New York    20201249\n"
     ]
    }
   ],
   "source": [
    "#Showing the dataframe created from list\n",
    "print(\"DataFrame from lists:\")\n",
    "print(df_states)"
   ]
  },
  {
   "cell_type": "markdown",
   "id": "42fa9030",
   "metadata": {},
   "source": [
    "# 3 Creating the Dataframe from a csv file"
   ]
  },
  {
   "cell_type": "code",
   "execution_count": 12,
   "id": "ffca5eeb",
   "metadata": {},
   "outputs": [],
   "source": [
    "#Reading a CSV file into a DataFrame\n",
    "df_exams = pd.read_csv('StudentsPerformance.csv')"
   ]
  },
  {
   "cell_type": "code",
   "execution_count": 13,
   "id": "5fa05fad",
   "metadata": {},
   "outputs": [
    {
     "name": "stdout",
     "output_type": "stream",
     "text": [
      "DataFrame from CSV:\n",
      "   gender race/ethnicity parental level of education         lunch  \\\n",
      "0  female        group B           bachelor's degree      standard   \n",
      "1  female        group C                some college      standard   \n",
      "2  female        group B             master's degree      standard   \n",
      "3    male        group A          associate's degree  free/reduced   \n",
      "4    male        group C                some college      standard   \n",
      "\n",
      "  test preparation course  math score  reading score  writing score  \n",
      "0                    none          72             72             74  \n",
      "1               completed          69             90             88  \n",
      "2                    none          90             95             93  \n",
      "3                    none          47             57             44  \n",
      "4                    none          76             78             75  \n"
     ]
    }
   ],
   "source": [
    "#Showing first 5 rows of the DataFrame\n",
    "print(\"DataFrame from CSV:\")\n",
    "print(df_exams.head())"
   ]
  }
 ],
 "metadata": {
  "kernelspec": {
   "display_name": ".venv",
   "language": "python",
   "name": "python3"
  },
  "language_info": {
   "codemirror_mode": {
    "name": "ipython",
    "version": 3
   },
   "file_extension": ".py",
   "mimetype": "text/x-python",
   "name": "python",
   "nbconvert_exporter": "python",
   "pygments_lexer": "ipython3",
   "version": "3.13.2"
  }
 },
 "nbformat": 4,
 "nbformat_minor": 5
}
